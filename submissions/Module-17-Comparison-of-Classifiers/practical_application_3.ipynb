{
 "cells": [
  {
   "cell_type": "markdown",
   "metadata": {},
   "source": [
    "# Imports"
   ]
  },
  {
   "cell_type": "code",
   "execution_count": 1,
   "metadata": {},
   "outputs": [],
   "source": [
    "import pandas as pd\n",
    "import numpy as np\n",
    "import matplotlib.pyplot as plt\n",
    "from sklearn.model_selection import train_test_split, GridSearchCV\n",
    "from sklearn.linear_model import LogisticRegression, Perceptron\n",
    "from sklearn.neighbors import KNeighborsClassifier\n",
    "from sklearn.svm import SVC\n",
    "from sklearn.tree import DecisionTreeClassifier\n",
    "from sklearn.preprocessing import StandardScaler, OneHotEncoder, TargetEncoder\n",
    "from sklearn.pipeline import Pipeline\n",
    "from sklearn.compose import make_column_transformer, make_column_selector\n",
    "from sklearn.inspection import permutation_importance\n",
    "\n",
    "from sklearn.metrics import (\n",
    "    accuracy_score,\n",
    "    balanced_accuracy_score,\n",
    "    recall_score,\n",
    "    precision_score,\n",
    "    f1_score,\n",
    ")\n",
    "\n",
    "from time import time\n",
    "import warnings\n",
    "\n",
    "warnings.filterwarnings(\"ignore\")\n",
    "pd.set_option(\"display.max_columns\", None)\n",
    "plt.rcParams.update({\"axes.grid\": True, \"figure.figsize\": (8, 4)})"
   ]
  },
  {
   "cell_type": "markdown",
   "metadata": {},
   "source": [
    "# Practical Application III: Comparing Classifiers\n",
    "\n",
    "**Overview**: In this practical application, your goal is to compare the performance of the classifiers we encountered in this section, namely K Nearest Neighbor, Logistic Regression, Decision Trees, and Support Vector Machines.  We will utilize a dataset related to marketing bank products over the telephone.  \n",
    "\n"
   ]
  },
  {
   "cell_type": "markdown",
   "metadata": {},
   "source": [
    "### Getting Started\n",
    "\n",
    "Our dataset comes from the UCI Machine Learning repository [link](https://archive.ics.uci.edu/ml/datasets/bank+marketing).  The data is from a Portugese banking institution and is a collection of the results of multiple marketing campaigns.  We will make use of the article accompanying the dataset [here](./data/CRISP-DM-BANK.pdf) for more information on the data and features."
   ]
  },
  {
   "cell_type": "markdown",
   "metadata": {},
   "source": [
    "### Problem 1: Understanding the Data\n",
    "\n",
    "To gain a better understanding of the data, please read the information provided in the UCI link above, and examine the **Materials and Methods** section of the paper.  How many marketing campaigns does this data represent?"
   ]
  },
  {
   "cell_type": "markdown",
   "metadata": {},
   "source": [
    "From the paper, we have this quote:\n",
    ">The dataset collected is related to 17 campaigns that occurred between May 2008 and November 2010, corresponding to a total of 79354 contacts."
   ]
  },
  {
   "cell_type": "markdown",
   "metadata": {},
   "source": [
    "### Problem 2: Read in the Data\n",
    "\n",
    "Use pandas to read in the dataset `bank-additional-full.csv` and assign to a meaningful variable name."
   ]
  },
  {
   "cell_type": "code",
   "execution_count": 2,
   "metadata": {},
   "outputs": [
    {
     "data": {
      "text/html": [
       "<div>\n",
       "<style scoped>\n",
       "    .dataframe tbody tr th:only-of-type {\n",
       "        vertical-align: middle;\n",
       "    }\n",
       "\n",
       "    .dataframe tbody tr th {\n",
       "        vertical-align: top;\n",
       "    }\n",
       "\n",
       "    .dataframe thead th {\n",
       "        text-align: right;\n",
       "    }\n",
       "</style>\n",
       "<table border=\"1\" class=\"dataframe\">\n",
       "  <thead>\n",
       "    <tr style=\"text-align: right;\">\n",
       "      <th></th>\n",
       "      <th>age</th>\n",
       "      <th>job</th>\n",
       "      <th>marital</th>\n",
       "      <th>education</th>\n",
       "      <th>default</th>\n",
       "      <th>housing</th>\n",
       "      <th>loan</th>\n",
       "      <th>contact</th>\n",
       "      <th>month</th>\n",
       "      <th>day_of_week</th>\n",
       "      <th>duration</th>\n",
       "      <th>campaign</th>\n",
       "      <th>pdays</th>\n",
       "      <th>previous</th>\n",
       "      <th>poutcome</th>\n",
       "      <th>emp.var.rate</th>\n",
       "      <th>cons.price.idx</th>\n",
       "      <th>cons.conf.idx</th>\n",
       "      <th>euribor3m</th>\n",
       "      <th>nr.employed</th>\n",
       "      <th>y</th>\n",
       "    </tr>\n",
       "  </thead>\n",
       "  <tbody>\n",
       "    <tr>\n",
       "      <th>0</th>\n",
       "      <td>56</td>\n",
       "      <td>housemaid</td>\n",
       "      <td>married</td>\n",
       "      <td>basic.4y</td>\n",
       "      <td>no</td>\n",
       "      <td>no</td>\n",
       "      <td>no</td>\n",
       "      <td>telephone</td>\n",
       "      <td>may</td>\n",
       "      <td>mon</td>\n",
       "      <td>261</td>\n",
       "      <td>1</td>\n",
       "      <td>999</td>\n",
       "      <td>0</td>\n",
       "      <td>nonexistent</td>\n",
       "      <td>1.1</td>\n",
       "      <td>93.994</td>\n",
       "      <td>-36.4</td>\n",
       "      <td>4.857</td>\n",
       "      <td>5191.0</td>\n",
       "      <td>no</td>\n",
       "    </tr>\n",
       "    <tr>\n",
       "      <th>1</th>\n",
       "      <td>57</td>\n",
       "      <td>services</td>\n",
       "      <td>married</td>\n",
       "      <td>high.school</td>\n",
       "      <td>unknown</td>\n",
       "      <td>no</td>\n",
       "      <td>no</td>\n",
       "      <td>telephone</td>\n",
       "      <td>may</td>\n",
       "      <td>mon</td>\n",
       "      <td>149</td>\n",
       "      <td>1</td>\n",
       "      <td>999</td>\n",
       "      <td>0</td>\n",
       "      <td>nonexistent</td>\n",
       "      <td>1.1</td>\n",
       "      <td>93.994</td>\n",
       "      <td>-36.4</td>\n",
       "      <td>4.857</td>\n",
       "      <td>5191.0</td>\n",
       "      <td>no</td>\n",
       "    </tr>\n",
       "    <tr>\n",
       "      <th>2</th>\n",
       "      <td>37</td>\n",
       "      <td>services</td>\n",
       "      <td>married</td>\n",
       "      <td>high.school</td>\n",
       "      <td>no</td>\n",
       "      <td>yes</td>\n",
       "      <td>no</td>\n",
       "      <td>telephone</td>\n",
       "      <td>may</td>\n",
       "      <td>mon</td>\n",
       "      <td>226</td>\n",
       "      <td>1</td>\n",
       "      <td>999</td>\n",
       "      <td>0</td>\n",
       "      <td>nonexistent</td>\n",
       "      <td>1.1</td>\n",
       "      <td>93.994</td>\n",
       "      <td>-36.4</td>\n",
       "      <td>4.857</td>\n",
       "      <td>5191.0</td>\n",
       "      <td>no</td>\n",
       "    </tr>\n",
       "    <tr>\n",
       "      <th>3</th>\n",
       "      <td>40</td>\n",
       "      <td>admin.</td>\n",
       "      <td>married</td>\n",
       "      <td>basic.6y</td>\n",
       "      <td>no</td>\n",
       "      <td>no</td>\n",
       "      <td>no</td>\n",
       "      <td>telephone</td>\n",
       "      <td>may</td>\n",
       "      <td>mon</td>\n",
       "      <td>151</td>\n",
       "      <td>1</td>\n",
       "      <td>999</td>\n",
       "      <td>0</td>\n",
       "      <td>nonexistent</td>\n",
       "      <td>1.1</td>\n",
       "      <td>93.994</td>\n",
       "      <td>-36.4</td>\n",
       "      <td>4.857</td>\n",
       "      <td>5191.0</td>\n",
       "      <td>no</td>\n",
       "    </tr>\n",
       "    <tr>\n",
       "      <th>4</th>\n",
       "      <td>56</td>\n",
       "      <td>services</td>\n",
       "      <td>married</td>\n",
       "      <td>high.school</td>\n",
       "      <td>no</td>\n",
       "      <td>no</td>\n",
       "      <td>yes</td>\n",
       "      <td>telephone</td>\n",
       "      <td>may</td>\n",
       "      <td>mon</td>\n",
       "      <td>307</td>\n",
       "      <td>1</td>\n",
       "      <td>999</td>\n",
       "      <td>0</td>\n",
       "      <td>nonexistent</td>\n",
       "      <td>1.1</td>\n",
       "      <td>93.994</td>\n",
       "      <td>-36.4</td>\n",
       "      <td>4.857</td>\n",
       "      <td>5191.0</td>\n",
       "      <td>no</td>\n",
       "    </tr>\n",
       "  </tbody>\n",
       "</table>\n",
       "</div>"
      ],
      "text/plain": [
       "   age        job  marital    education  default housing loan    contact  \\\n",
       "0   56  housemaid  married     basic.4y       no      no   no  telephone   \n",
       "1   57   services  married  high.school  unknown      no   no  telephone   \n",
       "2   37   services  married  high.school       no     yes   no  telephone   \n",
       "3   40     admin.  married     basic.6y       no      no   no  telephone   \n",
       "4   56   services  married  high.school       no      no  yes  telephone   \n",
       "\n",
       "  month day_of_week  duration  campaign  pdays  previous     poutcome  \\\n",
       "0   may         mon       261         1    999         0  nonexistent   \n",
       "1   may         mon       149         1    999         0  nonexistent   \n",
       "2   may         mon       226         1    999         0  nonexistent   \n",
       "3   may         mon       151         1    999         0  nonexistent   \n",
       "4   may         mon       307         1    999         0  nonexistent   \n",
       "\n",
       "   emp.var.rate  cons.price.idx  cons.conf.idx  euribor3m  nr.employed   y  \n",
       "0           1.1          93.994          -36.4      4.857       5191.0  no  \n",
       "1           1.1          93.994          -36.4      4.857       5191.0  no  \n",
       "2           1.1          93.994          -36.4      4.857       5191.0  no  \n",
       "3           1.1          93.994          -36.4      4.857       5191.0  no  \n",
       "4           1.1          93.994          -36.4      4.857       5191.0  no  "
      ]
     },
     "execution_count": 2,
     "metadata": {},
     "output_type": "execute_result"
    }
   ],
   "source": [
    "df = pd.read_csv(\"./data/bank-additional-full.csv\", sep=\";\")\n",
    "df.head()"
   ]
  },
  {
   "cell_type": "markdown",
   "metadata": {},
   "source": [
    "To make the development faster, pick a random subset of the data"
   ]
  },
  {
   "cell_type": "code",
   "execution_count": 3,
   "metadata": {},
   "outputs": [],
   "source": [
    "# df = df.sample(frac=0.05, random_state=42)"
   ]
  },
  {
   "cell_type": "markdown",
   "metadata": {},
   "source": [
    "### Problem 3: Understanding the Features\n",
    "\n",
    "Examine the data description below, and determine if any of the features are missing values or need to be coerced to a different data type"
   ]
  },
  {
   "cell_type": "markdown",
   "metadata": {},
   "source": [
    "#### Input variables"
   ]
  },
  {
   "cell_type": "markdown",
   "metadata": {},
   "source": [
    "##### bank client data\n",
    "```\n",
    "1 - age (numeric)\n",
    "2 - job : type of job (categorical: 'admin.','blue-collar','entrepreneur','housemaid','management','retired','self-employed','services','student','technician','unemployed','unknown')\n",
    "3 - marital : marital status (categorical: 'divorced','married','single','unknown'; note: 'divorced' means divorced or widowed)\n",
    "4 - education (categorical: 'basic.4y','basic.6y','basic.9y','high.school','illiterate','professional.course','university.degree','unknown')\n",
    "5 - default: has credit in default? (categorical: 'no','yes','unknown')\n",
    "6 - housing: has housing loan? (categorical: 'no','yes','unknown')\n",
    "7 - loan: has personal loan? (categorical: 'no','yes','unknown')\n",
    "```"
   ]
  },
  {
   "cell_type": "markdown",
   "metadata": {},
   "source": [
    "##### related with the last contact of the current campaign\n",
    "```\n",
    "8 - contact: contact communication type (categorical: 'cellular','telephone')\n",
    "9 - month: last contact month of year (categorical: 'jan', 'feb', 'mar', ..., 'nov', 'dec')\n",
    "10 - day_of_week: last contact day of the week (categorical: 'mon','tue','wed','thu','fri')\n",
    "11 - duration: last contact duration, in seconds (numeric). Important note: this attribute highly affects the output target (e.g., if duration=0 then y='no'). Yet, the duration is not known before a call is performed. Also, after the end of the call y is obviously known. Thus, this input should only be included for benchmark purposes and should be discarded if the intention is to have a realistic predictive model.\n",
    "```"
   ]
  },
  {
   "cell_type": "markdown",
   "metadata": {},
   "source": [
    "##### other attributes\n",
    "```\n",
    "12 - campaign: number of contacts performed during this campaign and for this client (numeric, includes last contact)\n",
    "13 - pdays: number of days that passed by after the client was last contacted from a previous campaign (numeric; 999 means client was not previously contacted)\n",
    "14 - previous: number of contacts performed before this campaign and for this client (numeric)\n",
    "15 - poutcome: outcome of the previous marketing campaign (categorical: 'failure','nonexistent','success')\n",
    "```"
   ]
  },
  {
   "cell_type": "markdown",
   "metadata": {},
   "source": [
    "##### social and economic context attributes\n",
    "```\n",
    "16 - emp.var.rate: employment variation rate - quarterly indicator (numeric)\n",
    "17 - cons.price.idx: consumer price index - monthly indicator (numeric)\n",
    "18 - cons.conf.idx: consumer confidence index - monthly indicator (numeric)\n",
    "19 - euribor3m: euribor 3 month rate - daily indicator (numeric)\n",
    "20 - nr.employed: number of employees - quarterly indicator (numeric)\n",
    "```"
   ]
  },
  {
   "cell_type": "markdown",
   "metadata": {},
   "source": [
    "#### Output variable (desired target)\n",
    "```\n",
    "21 - y - has the client subscribed a term deposit? (binary: 'yes','no')\n",
    "```"
   ]
  },
  {
   "cell_type": "code",
   "execution_count": 4,
   "metadata": {},
   "outputs": [
    {
     "name": "stdout",
     "output_type": "stream",
     "text": [
      "<class 'pandas.core.frame.DataFrame'>\n",
      "RangeIndex: 41188 entries, 0 to 41187\n",
      "Data columns (total 21 columns):\n",
      " #   Column          Non-Null Count  Dtype  \n",
      "---  ------          --------------  -----  \n",
      " 0   age             41188 non-null  int64  \n",
      " 1   job             41188 non-null  object \n",
      " 2   marital         41188 non-null  object \n",
      " 3   education       41188 non-null  object \n",
      " 4   default         41188 non-null  object \n",
      " 5   housing         41188 non-null  object \n",
      " 6   loan            41188 non-null  object \n",
      " 7   contact         41188 non-null  object \n",
      " 8   month           41188 non-null  object \n",
      " 9   day_of_week     41188 non-null  object \n",
      " 10  duration        41188 non-null  int64  \n",
      " 11  campaign        41188 non-null  int64  \n",
      " 12  pdays           41188 non-null  int64  \n",
      " 13  previous        41188 non-null  int64  \n",
      " 14  poutcome        41188 non-null  object \n",
      " 15  emp.var.rate    41188 non-null  float64\n",
      " 16  cons.price.idx  41188 non-null  float64\n",
      " 17  cons.conf.idx   41188 non-null  float64\n",
      " 18  euribor3m       41188 non-null  float64\n",
      " 19  nr.employed     41188 non-null  float64\n",
      " 20  y               41188 non-null  object \n",
      "dtypes: float64(5), int64(5), object(11)\n",
      "memory usage: 6.6+ MB\n"
     ]
    }
   ],
   "source": [
    "df.info()"
   ]
  },
  {
   "cell_type": "code",
   "execution_count": 5,
   "metadata": {},
   "outputs": [
    {
     "data": {
      "text/plain": [
       "age               0\n",
       "job               0\n",
       "marital           0\n",
       "education         0\n",
       "default           0\n",
       "housing           0\n",
       "loan              0\n",
       "contact           0\n",
       "month             0\n",
       "day_of_week       0\n",
       "duration          0\n",
       "campaign          0\n",
       "pdays             0\n",
       "previous          0\n",
       "poutcome          0\n",
       "emp.var.rate      0\n",
       "cons.price.idx    0\n",
       "cons.conf.idx     0\n",
       "euribor3m         0\n",
       "nr.employed       0\n",
       "y                 0\n",
       "dtype: int64"
      ]
     },
     "execution_count": 5,
     "metadata": {},
     "output_type": "execute_result"
    }
   ],
   "source": [
    "df.isna().sum()"
   ]
  },
  {
   "cell_type": "code",
   "execution_count": 6,
   "metadata": {},
   "outputs": [
    {
     "data": {
      "text/plain": [
       "pdays\n",
       "999    96.321744\n",
       "3       1.065844\n",
       "6       1.000291\n",
       "4       0.286491\n",
       "9       0.155385\n",
       "2       0.148101\n",
       "7       0.145673\n",
       "12      0.140818\n",
       "10      0.126250\n",
       "5       0.111683\n",
       "13      0.087404\n",
       "11      0.067981\n",
       "1       0.063125\n",
       "15      0.058269\n",
       "14      0.048558\n",
       "8       0.043702\n",
       "0       0.036418\n",
       "16      0.026707\n",
       "17      0.019423\n",
       "18      0.016995\n",
       "22      0.007284\n",
       "19      0.007284\n",
       "21      0.004856\n",
       "25      0.002428\n",
       "26      0.002428\n",
       "27      0.002428\n",
       "20      0.002428\n",
       "Name: proportion, dtype: float64"
      ]
     },
     "execution_count": 6,
     "metadata": {},
     "output_type": "execute_result"
    }
   ],
   "source": [
    "df[\"pdays\"].value_counts(normalize=True) * 100.0"
   ]
  },
  {
   "cell_type": "markdown",
   "metadata": {},
   "source": [
    "Observations\n",
    "- No columns are missing data\n",
    "- The string (object) features can be coerced with 1-hot encoding\n",
    "- The feature `duration` will be dropped per the description that it is not knowable a-priori therefore not valid to include in a predictive model\n",
    "- The numeric features can be processed with standard scaling"
   ]
  },
  {
   "cell_type": "markdown",
   "metadata": {},
   "source": [
    "### Problem 4: Understanding the Task\n",
    "\n",
    "After examining the description and data, your goal now is to clearly state the *Business Objective* of the task.  State the objective below."
   ]
  },
  {
   "cell_type": "markdown",
   "metadata": {},
   "source": [
    "From the paper, we have this quote:\n",
    ">... the goal was to increase efficiency of directed campaigns for long-term deposit subscriptions by reducing the number of contacts\n",
    "\n",
    "They are looking for a way to increase the economic effectivity of a bank by making its marketing campaigns more efficient\n",
    "- Instead of mass campaigns, they want to use direct marketing\n",
    "- But in a way that maintains acceptance rate while requiring less contacts (phone calls) per customer"
   ]
  },
  {
   "cell_type": "markdown",
   "metadata": {},
   "source": [
    "### Problem 5: Engineering Features\n",
    "\n",
    "Now that you understand your business objective, we will build a basic model to get started.  Before we can do this, we must work to encode the data.  Using just the bank information features, prepare the features and target column for modeling with appropriate encoding and transformations."
   ]
  },
  {
   "cell_type": "markdown",
   "metadata": {},
   "source": [
    "The encoding is done during the pipeline, which is defined below in `make_pipeline`\n",
    "- This makes feature importance easier to understand, on input feature space rather than transformed feature space\n",
    "\n",
    "The pdays feature is mapped to a binary value, has not been contacted before (pdays = 999), has been (all else)"
   ]
  },
  {
   "cell_type": "code",
   "execution_count": 7,
   "metadata": {},
   "outputs": [],
   "source": [
    "X = df.drop(columns=[\"duration\", \"y\"])\n",
    "X[\"pdays\"] = X[\"pdays\"] == 999\n",
    "y = df[\"y\"] == \"yes\""
   ]
  },
  {
   "cell_type": "markdown",
   "metadata": {},
   "source": [
    "### Problem 6: Train/Test Split\n",
    "\n",
    "With your data prepared, split it into a train and test set."
   ]
  },
  {
   "cell_type": "code",
   "execution_count": 8,
   "metadata": {},
   "outputs": [],
   "source": [
    "X_train, X_test, y_train, y_test = train_test_split(X, y, random_state=42, stratify=y)"
   ]
  },
  {
   "cell_type": "markdown",
   "metadata": {},
   "source": [
    "### Problem 7: A Baseline Model\n",
    "\n",
    "Before we build our first model, we want to establish a baseline.  What is the baseline performance that our classifier should aim to beat?"
   ]
  },
  {
   "cell_type": "markdown",
   "metadata": {},
   "source": [
    "The baseline classifier is a constant model that always returns the majority class\n",
    "- The accuracy of this model is the rate of occurrence of this majority class"
   ]
  },
  {
   "cell_type": "code",
   "execution_count": 9,
   "metadata": {},
   "outputs": [
    {
     "data": {
      "text/plain": [
       "y\n",
       "False    0.887346\n",
       "True     0.112654\n",
       "Name: proportion, dtype: float64"
      ]
     },
     "execution_count": 9,
     "metadata": {},
     "output_type": "execute_result"
    }
   ],
   "source": [
    "y_train.value_counts(normalize=True)"
   ]
  },
  {
   "cell_type": "code",
   "execution_count": 10,
   "metadata": {},
   "outputs": [
    {
     "data": {
      "text/plain": [
       "0.8873458288821987"
      ]
     },
     "execution_count": 10,
     "metadata": {},
     "output_type": "execute_result"
    }
   ],
   "source": [
    "baseline_performance = np.max(y_train.value_counts(normalize=True))\n",
    "baseline_performance"
   ]
  },
  {
   "cell_type": "markdown",
   "metadata": {},
   "source": [
    "### Problem 8: A Simple Model\n",
    "\n",
    "Use Logistic Regression to build a basic model on your data.  "
   ]
  },
  {
   "cell_type": "code",
   "execution_count": 11,
   "metadata": {},
   "outputs": [],
   "source": [
    "xformer = make_column_transformer(\n",
    "    (\n",
    "        # OneHotEncoder(drop=\"if_binary\"),\n",
    "        TargetEncoder(smooth=\"auto\", random_state=42, target_type=\"binary\"),\n",
    "        make_column_selector(dtype_include=object),\n",
    "    ),\n",
    "    remainder=StandardScaler(),\n",
    "    verbose_feature_names_out=False,\n",
    ")"
   ]
  },
  {
   "cell_type": "code",
   "execution_count": 12,
   "metadata": {},
   "outputs": [],
   "source": [
    "def make_pipeline(classifier_name: str = \"\"):\n",
    "    \"\"\"\n",
    "    Returns an unfitted pipeline consisting of the following named steps\n",
    "    1. xformer: a column transformer\n",
    "        - performs OHE for object features\n",
    "        - and standard scaler for all others\n",
    "    2. classifier: a classifier using the named classifier\n",
    "    \"\"\"\n",
    "    kwargs = {} if classifier_name == \"KNeighborsClassifier\" else {\"random_state\": 42}\n",
    "    classifier = eval(classifier_name)(**kwargs)\n",
    "    return Pipeline(\n",
    "        [\n",
    "            (\"xformer\", xformer),\n",
    "            (\"classifier\", classifier),\n",
    "        ]\n",
    "    )"
   ]
  },
  {
   "cell_type": "code",
   "execution_count": 13,
   "metadata": {},
   "outputs": [],
   "source": [
    "lgr = make_pipeline(classifier_name=\"LogisticRegression\").fit(X_train, y_train)"
   ]
  },
  {
   "cell_type": "markdown",
   "metadata": {},
   "source": [
    "### Problem 9: Score the Model\n",
    "\n",
    "What is the accuracy of your model?"
   ]
  },
  {
   "cell_type": "code",
   "execution_count": 14,
   "metadata": {},
   "outputs": [],
   "source": [
    "def make_scores_dict(estimator, prefix: str, X: pd.DataFrame, y: pd.Series):\n",
    "    metrics_list = [\n",
    "        \"Accuracy\",\n",
    "        \"Balanced Accuracy\",\n",
    "        \"Precision\",\n",
    "        \"Recall\",\n",
    "        \"f1\",\n",
    "    ]\n",
    "    y_pred = estimator.predict(X)\n",
    "    return {\n",
    "        \" \".join([prefix, metric]): round(\n",
    "            eval(metric.lower().replace(\" \", \"_\") + \"_score\")(y, y_pred) * 100.0,\n",
    "            2,\n",
    "        )\n",
    "        for metric in metrics_list\n",
    "    }"
   ]
  },
  {
   "cell_type": "code",
   "execution_count": 15,
   "metadata": {},
   "outputs": [],
   "source": [
    "def fit_and_time(classifier_name: str, features: list = X_train.columns):\n",
    "    tic = time()\n",
    "    classifier_pipeline = make_pipeline(classifier_name).fit(X_train[features], y_train)\n",
    "\n",
    "    train_scores = make_scores_dict(\n",
    "        classifier_pipeline, \"Train\", X_train[features], y_train\n",
    "    )\n",
    "\n",
    "    test_scores = make_scores_dict(\n",
    "        classifier_pipeline, \"Test\", X_test[features], y_test\n",
    "    )\n",
    "\n",
    "    return (\n",
    "        {\n",
    "            \"Model\": classifier_name,\n",
    "            \"Train and Score Time\": time() - tic,\n",
    "        }\n",
    "        | train_scores\n",
    "        | test_scores\n",
    "    )"
   ]
  },
  {
   "cell_type": "code",
   "execution_count": 16,
   "metadata": {},
   "outputs": [
    {
     "data": {
      "text/html": [
       "<div>\n",
       "<style scoped>\n",
       "    .dataframe tbody tr th:only-of-type {\n",
       "        vertical-align: middle;\n",
       "    }\n",
       "\n",
       "    .dataframe tbody tr th {\n",
       "        vertical-align: top;\n",
       "    }\n",
       "\n",
       "    .dataframe thead th {\n",
       "        text-align: right;\n",
       "    }\n",
       "</style>\n",
       "<table border=\"1\" class=\"dataframe\">\n",
       "  <thead>\n",
       "    <tr style=\"text-align: right;\">\n",
       "      <th></th>\n",
       "      <th>Model</th>\n",
       "      <th>Train and Score Time</th>\n",
       "      <th>Train Accuracy</th>\n",
       "      <th>Train Balanced Accuracy</th>\n",
       "      <th>Train Precision</th>\n",
       "      <th>Train Recall</th>\n",
       "      <th>Train f1</th>\n",
       "      <th>Test Accuracy</th>\n",
       "      <th>Test Balanced Accuracy</th>\n",
       "      <th>Test Precision</th>\n",
       "      <th>Test Recall</th>\n",
       "      <th>Test f1</th>\n",
       "    </tr>\n",
       "  </thead>\n",
       "  <tbody>\n",
       "    <tr>\n",
       "      <th>0</th>\n",
       "      <td>LogisticRegression</td>\n",
       "      <td>0.50876</td>\n",
       "      <td>89.82</td>\n",
       "      <td>59.79</td>\n",
       "      <td>64.84</td>\n",
       "      <td>21.03</td>\n",
       "      <td>31.76</td>\n",
       "      <td>89.97</td>\n",
       "      <td>59.35</td>\n",
       "      <td>69.07</td>\n",
       "      <td>19.83</td>\n",
       "      <td>30.81</td>\n",
       "    </tr>\n",
       "  </tbody>\n",
       "</table>\n",
       "</div>"
      ],
      "text/plain": [
       "                Model  Train and Score Time  Train Accuracy  \\\n",
       "0  LogisticRegression               0.50876           89.82   \n",
       "\n",
       "   Train Balanced Accuracy  Train Precision  Train Recall  Train f1  \\\n",
       "0                    59.79            64.84         21.03     31.76   \n",
       "\n",
       "   Test Accuracy  Test Balanced Accuracy  Test Precision  Test Recall  Test f1  \n",
       "0          89.97                   59.35           69.07        19.83    30.81  "
      ]
     },
     "execution_count": 16,
     "metadata": {},
     "output_type": "execute_result"
    }
   ],
   "source": [
    "pd.DataFrame([fit_and_time(classifier_name=\"LogisticRegression\")])"
   ]
  },
  {
   "cell_type": "code",
   "execution_count": 17,
   "metadata": {},
   "outputs": [
    {
     "data": {
      "text/html": [
       "<div>\n",
       "<style scoped>\n",
       "    .dataframe tbody tr th:only-of-type {\n",
       "        vertical-align: middle;\n",
       "    }\n",
       "\n",
       "    .dataframe tbody tr th {\n",
       "        vertical-align: top;\n",
       "    }\n",
       "\n",
       "    .dataframe thead th {\n",
       "        text-align: right;\n",
       "    }\n",
       "</style>\n",
       "<table border=\"1\" class=\"dataframe\">\n",
       "  <thead>\n",
       "    <tr style=\"text-align: right;\">\n",
       "      <th></th>\n",
       "      <th>Model</th>\n",
       "      <th>Train and Score Time</th>\n",
       "      <th>Train Accuracy</th>\n",
       "      <th>Train Balanced Accuracy</th>\n",
       "      <th>Train Precision</th>\n",
       "      <th>Train Recall</th>\n",
       "      <th>Train f1</th>\n",
       "      <th>Test Accuracy</th>\n",
       "      <th>Test Balanced Accuracy</th>\n",
       "      <th>Test Precision</th>\n",
       "      <th>Test Recall</th>\n",
       "      <th>Test f1</th>\n",
       "    </tr>\n",
       "  </thead>\n",
       "  <tbody>\n",
       "    <tr>\n",
       "      <th>0</th>\n",
       "      <td>LogisticRegression</td>\n",
       "      <td>0.505618</td>\n",
       "      <td>89.82</td>\n",
       "      <td>59.79</td>\n",
       "      <td>64.84</td>\n",
       "      <td>21.03</td>\n",
       "      <td>31.76</td>\n",
       "      <td>89.97</td>\n",
       "      <td>59.35</td>\n",
       "      <td>69.07</td>\n",
       "      <td>19.83</td>\n",
       "      <td>30.81</td>\n",
       "    </tr>\n",
       "  </tbody>\n",
       "</table>\n",
       "</div>"
      ],
      "text/plain": [
       "                Model  Train and Score Time  Train Accuracy  \\\n",
       "0  LogisticRegression              0.505618           89.82   \n",
       "\n",
       "   Train Balanced Accuracy  Train Precision  Train Recall  Train f1  \\\n",
       "0                    59.79            64.84         21.03     31.76   \n",
       "\n",
       "   Test Accuracy  Test Balanced Accuracy  Test Precision  Test Recall  Test f1  \n",
       "0          89.97                   59.35           69.07        19.83    30.81  "
      ]
     },
     "execution_count": 17,
     "metadata": {},
     "output_type": "execute_result"
    }
   ],
   "source": [
    "pd.DataFrame([fit_and_time(classifier_name=\"LogisticRegression\")])"
   ]
  },
  {
   "cell_type": "markdown",
   "metadata": {},
   "source": [
    "The accuracy of the logistic regression model (using all defaults) is a couple of percentange points higher than the the baseline model\n",
    "- But all other metrics are quite poor"
   ]
  },
  {
   "cell_type": "markdown",
   "metadata": {},
   "source": [
    "### Problem 10: Model Comparisons\n",
    "\n",
    "Now, we aim to compare the performance of the Logistic Regression model to our KNN algorithm, Decision Tree, and SVM models.  Using the default settings for each of the models, fit and score each.  Also, be sure to compare the fit time of each of the models.  Present your findings in a `DataFrame` similar to that below:\n",
    "\n",
    "| Model | Train Time | Train Accuracy | Test Accuracy |\n",
    "| ----- | ---------- | -------------  | -----------   |\n",
    "|     |    |.     |.     |"
   ]
  },
  {
   "cell_type": "markdown",
   "metadata": {},
   "source": [
    "Note! KNN is removed from this analysis because it takes too long to evaluate the model\n",
    "- It is included later after having selected a few important features"
   ]
  },
  {
   "cell_type": "code",
   "execution_count": 18,
   "metadata": {},
   "outputs": [],
   "source": [
    "classifier_names = [\n",
    "    # \"KNeighborsClassifier\",\n",
    "    \"DecisionTreeClassifier\",\n",
    "    \"LogisticRegression\",\n",
    "    \"SVC\",\n",
    "]"
   ]
  },
  {
   "cell_type": "code",
   "execution_count": 19,
   "metadata": {},
   "outputs": [
    {
     "data": {
      "text/html": [
       "<div>\n",
       "<style scoped>\n",
       "    .dataframe tbody tr th:only-of-type {\n",
       "        vertical-align: middle;\n",
       "    }\n",
       "\n",
       "    .dataframe tbody tr th {\n",
       "        vertical-align: top;\n",
       "    }\n",
       "\n",
       "    .dataframe thead th {\n",
       "        text-align: right;\n",
       "    }\n",
       "</style>\n",
       "<table border=\"1\" class=\"dataframe\">\n",
       "  <thead>\n",
       "    <tr style=\"text-align: right;\">\n",
       "      <th></th>\n",
       "      <th>Model</th>\n",
       "      <th>Train and Score Time</th>\n",
       "      <th>Train Accuracy</th>\n",
       "      <th>Train Balanced Accuracy</th>\n",
       "      <th>Train Precision</th>\n",
       "      <th>Train Recall</th>\n",
       "      <th>Train f1</th>\n",
       "      <th>Test Accuracy</th>\n",
       "      <th>Test Balanced Accuracy</th>\n",
       "      <th>Test Precision</th>\n",
       "      <th>Test Recall</th>\n",
       "      <th>Test f1</th>\n",
       "    </tr>\n",
       "  </thead>\n",
       "  <tbody>\n",
       "    <tr>\n",
       "      <th>0</th>\n",
       "      <td>DecisionTreeClassifier</td>\n",
       "      <td>0.436314</td>\n",
       "      <td>88.22</td>\n",
       "      <td>72.87</td>\n",
       "      <td>47.94</td>\n",
       "      <td>53.05</td>\n",
       "      <td>50.36</td>\n",
       "      <td>83.73</td>\n",
       "      <td>62.95</td>\n",
       "      <td>30.97</td>\n",
       "      <td>36.12</td>\n",
       "      <td>33.35</td>\n",
       "    </tr>\n",
       "    <tr>\n",
       "      <th>1</th>\n",
       "      <td>LogisticRegression</td>\n",
       "      <td>0.416332</td>\n",
       "      <td>89.82</td>\n",
       "      <td>59.79</td>\n",
       "      <td>64.84</td>\n",
       "      <td>21.03</td>\n",
       "      <td>31.76</td>\n",
       "      <td>89.97</td>\n",
       "      <td>59.35</td>\n",
       "      <td>69.07</td>\n",
       "      <td>19.83</td>\n",
       "      <td>30.81</td>\n",
       "    </tr>\n",
       "    <tr>\n",
       "      <th>2</th>\n",
       "      <td>SVC</td>\n",
       "      <td>28.107512</td>\n",
       "      <td>89.97</td>\n",
       "      <td>59.35</td>\n",
       "      <td>69.21</td>\n",
       "      <td>19.83</td>\n",
       "      <td>30.82</td>\n",
       "      <td>90.00</td>\n",
       "      <td>58.65</td>\n",
       "      <td>72.26</td>\n",
       "      <td>18.19</td>\n",
       "      <td>29.06</td>\n",
       "    </tr>\n",
       "  </tbody>\n",
       "</table>\n",
       "</div>"
      ],
      "text/plain": [
       "                    Model  Train and Score Time  Train Accuracy  \\\n",
       "0  DecisionTreeClassifier              0.436314           88.22   \n",
       "1      LogisticRegression              0.416332           89.82   \n",
       "2                     SVC             28.107512           89.97   \n",
       "\n",
       "   Train Balanced Accuracy  Train Precision  Train Recall  Train f1  \\\n",
       "0                    72.87            47.94         53.05     50.36   \n",
       "1                    59.79            64.84         21.03     31.76   \n",
       "2                    59.35            69.21         19.83     30.82   \n",
       "\n",
       "   Test Accuracy  Test Balanced Accuracy  Test Precision  Test Recall  Test f1  \n",
       "0          83.73                   62.95           30.97        36.12    33.35  \n",
       "1          89.97                   59.35           69.07        19.83    30.81  \n",
       "2          90.00                   58.65           72.26        18.19    29.06  "
      ]
     },
     "execution_count": 19,
     "metadata": {},
     "output_type": "execute_result"
    }
   ],
   "source": [
    "results_df = pd.DataFrame(\n",
    "    [fit_and_time(classifier_name) for classifier_name in classifier_names]\n",
    ")\n",
    "\n",
    "results_df"
   ]
  },
  {
   "attachments": {
    "image.png": {
     "image/png": "[encoded data removed]"
    }
   },
   "cell_type": "markdown",
   "metadata": {},
   "source": [
    "![image.png](attachment:image.png)"
   ]
  },
  {
   "cell_type": "markdown",
   "metadata": {},
   "source": [
    "### Problem 11: Improving the Model\n",
    "\n",
    "Now that we have some basic models on the board, we want to try to improve these.  Below, we list a few things to explore in this pursuit.\n",
    "\n",
    "- More feature engineering and exploration.  For example, should we keep the gender feature?  Why or why not?\n",
    "- Hyperparameter tuning and grid search.  All of our models have additional hyperparameters to tune and explore.  For example the number of neighbors in KNN or the maximum depth of a Decision Tree.  \n",
    "- Adjust your performance metric"
   ]
  },
  {
   "cell_type": "markdown",
   "metadata": {},
   "source": [
    "#### Feature Importance with Permutation Importance\n",
    "\n",
    "Using logistic regression as the foundational model, look at feature importance\n",
    "\n",
    "Should we keep the gender feature?\n",
    "- There is no gender feature\n",
    "- But the following result shows that only a handful of the features matter"
   ]
  },
  {
   "cell_type": "code",
   "execution_count": 20,
   "metadata": {},
   "outputs": [],
   "source": [
    "estimator = lgr"
   ]
  },
  {
   "cell_type": "code",
   "execution_count": 21,
   "metadata": {},
   "outputs": [],
   "source": [
    "estimator = make_pipeline(classifier_name=\"DecisionTreeClassifier\").fit(\n",
    "    X_train, y_train\n",
    ")"
   ]
  },
  {
   "cell_type": "code",
   "execution_count": 22,
   "metadata": {},
   "outputs": [
    {
     "data": {
      "text/html": [
       "<div>\n",
       "<style scoped>\n",
       "    .dataframe tbody tr th:only-of-type {\n",
       "        vertical-align: middle;\n",
       "    }\n",
       "\n",
       "    .dataframe tbody tr th {\n",
       "        vertical-align: top;\n",
       "    }\n",
       "\n",
       "    .dataframe thead th {\n",
       "        text-align: right;\n",
       "    }\n",
       "</style>\n",
       "<table border=\"1\" class=\"dataframe\">\n",
       "  <thead>\n",
       "    <tr style=\"text-align: right;\">\n",
       "      <th></th>\n",
       "      <th>Feature</th>\n",
       "      <th>Importance</th>\n",
       "      <th>Standard Deviation</th>\n",
       "    </tr>\n",
       "  </thead>\n",
       "  <tbody>\n",
       "    <tr>\n",
       "      <th>16</th>\n",
       "      <td>cons.conf.idx</td>\n",
       "      <td>0.000039</td>\n",
       "      <td>0.000433</td>\n",
       "    </tr>\n",
       "    <tr>\n",
       "      <th>14</th>\n",
       "      <td>emp.var.rate</td>\n",
       "      <td>0.000068</td>\n",
       "      <td>0.000087</td>\n",
       "    </tr>\n",
       "    <tr>\n",
       "      <th>12</th>\n",
       "      <td>previous</td>\n",
       "      <td>0.000126</td>\n",
       "      <td>0.000242</td>\n",
       "    </tr>\n",
       "    <tr>\n",
       "      <th>5</th>\n",
       "      <td>housing</td>\n",
       "      <td>0.000320</td>\n",
       "      <td>0.001248</td>\n",
       "    </tr>\n",
       "    <tr>\n",
       "      <th>6</th>\n",
       "      <td>loan</td>\n",
       "      <td>0.000835</td>\n",
       "      <td>0.000699</td>\n",
       "    </tr>\n",
       "    <tr>\n",
       "      <th>4</th>\n",
       "      <td>default</td>\n",
       "      <td>0.000893</td>\n",
       "      <td>0.001234</td>\n",
       "    </tr>\n",
       "    <tr>\n",
       "      <th>10</th>\n",
       "      <td>campaign</td>\n",
       "      <td>0.001379</td>\n",
       "      <td>0.002334</td>\n",
       "    </tr>\n",
       "    <tr>\n",
       "      <th>7</th>\n",
       "      <td>contact</td>\n",
       "      <td>0.001690</td>\n",
       "      <td>0.001011</td>\n",
       "    </tr>\n",
       "    <tr>\n",
       "      <th>13</th>\n",
       "      <td>poutcome</td>\n",
       "      <td>0.001719</td>\n",
       "      <td>0.000718</td>\n",
       "    </tr>\n",
       "    <tr>\n",
       "      <th>2</th>\n",
       "      <td>marital</td>\n",
       "      <td>0.002078</td>\n",
       "      <td>0.001356</td>\n",
       "    </tr>\n",
       "    <tr>\n",
       "      <th>9</th>\n",
       "      <td>day_of_week</td>\n",
       "      <td>0.004166</td>\n",
       "      <td>0.001068</td>\n",
       "    </tr>\n",
       "    <tr>\n",
       "      <th>1</th>\n",
       "      <td>job</td>\n",
       "      <td>0.004487</td>\n",
       "      <td>0.001569</td>\n",
       "    </tr>\n",
       "    <tr>\n",
       "      <th>0</th>\n",
       "      <td>age</td>\n",
       "      <td>0.005001</td>\n",
       "      <td>0.002113</td>\n",
       "    </tr>\n",
       "    <tr>\n",
       "      <th>3</th>\n",
       "      <td>education</td>\n",
       "      <td>0.005769</td>\n",
       "      <td>0.001789</td>\n",
       "    </tr>\n",
       "    <tr>\n",
       "      <th>11</th>\n",
       "      <td>pdays</td>\n",
       "      <td>0.008643</td>\n",
       "      <td>0.001109</td>\n",
       "    </tr>\n",
       "    <tr>\n",
       "      <th>15</th>\n",
       "      <td>cons.price.idx</td>\n",
       "      <td>0.022220</td>\n",
       "      <td>0.001395</td>\n",
       "    </tr>\n",
       "    <tr>\n",
       "      <th>17</th>\n",
       "      <td>euribor3m</td>\n",
       "      <td>0.026279</td>\n",
       "      <td>0.002003</td>\n",
       "    </tr>\n",
       "    <tr>\n",
       "      <th>18</th>\n",
       "      <td>nr.employed</td>\n",
       "      <td>0.042391</td>\n",
       "      <td>0.001910</td>\n",
       "    </tr>\n",
       "    <tr>\n",
       "      <th>8</th>\n",
       "      <td>month</td>\n",
       "      <td>0.048694</td>\n",
       "      <td>0.001835</td>\n",
       "    </tr>\n",
       "  </tbody>\n",
       "</table>\n",
       "</div>"
      ],
      "text/plain": [
       "           Feature  Importance  Standard Deviation\n",
       "16   cons.conf.idx    0.000039            0.000433\n",
       "14    emp.var.rate    0.000068            0.000087\n",
       "12        previous    0.000126            0.000242\n",
       "5          housing    0.000320            0.001248\n",
       "6             loan    0.000835            0.000699\n",
       "4          default    0.000893            0.001234\n",
       "10        campaign    0.001379            0.002334\n",
       "7          contact    0.001690            0.001011\n",
       "13        poutcome    0.001719            0.000718\n",
       "2          marital    0.002078            0.001356\n",
       "9      day_of_week    0.004166            0.001068\n",
       "1              job    0.004487            0.001569\n",
       "0              age    0.005001            0.002113\n",
       "3        education    0.005769            0.001789\n",
       "11           pdays    0.008643            0.001109\n",
       "15  cons.price.idx    0.022220            0.001395\n",
       "17       euribor3m    0.026279            0.002003\n",
       "18     nr.employed    0.042391            0.001910\n",
       "8            month    0.048694            0.001835"
      ]
     },
     "execution_count": 22,
     "metadata": {},
     "output_type": "execute_result"
    }
   ],
   "source": [
    "result = permutation_importance(\n",
    "    estimator, X_test, y_test, n_repeats=10, random_state=42\n",
    ")\n",
    "feature_importance = pd.DataFrame(\n",
    "    {\n",
    "        \"Feature\": X.columns,\n",
    "        \"Importance\": result.importances_mean,\n",
    "        \"Standard Deviation\": result.importances_std,\n",
    "    }\n",
    ").sort_values(\"Importance\", ascending=True)\n",
    "feature_importance"
   ]
  },
  {
   "cell_type": "code",
   "execution_count": 23,
   "metadata": {},
   "outputs": [
    {
     "data": {
      "text/plain": [
       "Text(0.5, 1.0, 'Permutation Importance with Standard Deviation')"
      ]
     },
     "execution_count": 23,
     "metadata": {},
     "output_type": "execute_result"
    },
    {
     "data": {
      "image/png": "[encoded data removed]",
      "text/plain": [
       "<Figure size 1000x600 with 1 Axes>"
      ]
     },
     "metadata": {},
     "output_type": "display_data"
    }
   ],
   "source": [
    "ax = feature_importance.plot(\n",
    "    x=\"Feature\",\n",
    "    y=\"Importance\",\n",
    "    kind=\"barh\",\n",
    "    figsize=(10, 6),\n",
    "    yerr=\"Standard Deviation\",\n",
    "    capsize=4,\n",
    ")\n",
    "ax.set_xlabel(\"Permutation Importance\")\n",
    "ax.set_title(\"Permutation Importance with Standard Deviation\")"
   ]
  },
  {
   "cell_type": "code",
   "execution_count": 24,
   "metadata": {},
   "outputs": [
    {
     "data": {
      "text/plain": [
       "['marital',\n",
       " 'day_of_week',\n",
       " 'job',\n",
       " 'age',\n",
       " 'education',\n",
       " 'pdays',\n",
       " 'cons.price.idx',\n",
       " 'euribor3m',\n",
       " 'nr.employed',\n",
       " 'month']"
      ]
     },
     "execution_count": 24,
     "metadata": {},
     "output_type": "execute_result"
    }
   ],
   "source": [
    "best_features = list(feature_importance.tail(10)[\"Feature\"])\n",
    "best_features"
   ]
  },
  {
   "cell_type": "markdown",
   "metadata": {},
   "source": [
    "#### Adjusting the Performance Metric\n",
    "\n",
    "The data set is highly imbalanced\n",
    "- Almost 88% are in the negative class\n",
    "- So accuracy is not a great measurement\n",
    "- Switch to **balanced accuracy**"
   ]
  },
  {
   "cell_type": "markdown",
   "metadata": {},
   "source": [
    "#### Hyperparameter Estimation with Grid Search"
   ]
  },
  {
   "cell_type": "code",
   "execution_count": 25,
   "metadata": {},
   "outputs": [],
   "source": [
    "classifier_param_grids = {\n",
    "    \"KNeighborsClassifier\": {\n",
    "        \"classifier__n_neighbors\": range(1, 5),\n",
    "    },\n",
    "    \"DecisionTreeClassifier\": {\n",
    "        \"classifier__random_state\": [42],\n",
    "        \"classifier__max_depth\": range(1, 5),\n",
    "        \"classifier__class_weight\": [None, \"balanced\"],\n",
    "    },\n",
    "    \"LogisticRegression\": {\n",
    "        \"classifier__penalty\": [\"l1\", \"l2\"],\n",
    "        \"classifier__C\": np.logspace(start=-5, stop=5, num=11),\n",
    "    },\n",
    "    \"SVC\": {\n",
    "        \"classifier__max_iter\": [5000],\n",
    "        \"classifier__kernel\": [\"rbf\", \"poly\"],\n",
    "    },\n",
    "}"
   ]
  },
  {
   "cell_type": "code",
   "execution_count": 26,
   "metadata": {},
   "outputs": [],
   "source": [
    "def grid_search_fit_and_time(\n",
    "    classifier_name: str = \"\",\n",
    "    param_grid: dict = {},\n",
    "    scoring: str = \"\",\n",
    "    features: list = X_train.columns,\n",
    "):\n",
    "    classifier_pipeline = make_pipeline(classifier_name=classifier_name)\n",
    "\n",
    "    tic = time()\n",
    "    grid = GridSearchCV(\n",
    "        estimator=classifier_pipeline,\n",
    "        param_grid=param_grid,\n",
    "        scoring=scoring,\n",
    "        cv=5,\n",
    "    ).fit(X_train[features], y_train)\n",
    "    grid_search_time = time() - tic\n",
    "\n",
    "    tic = time()\n",
    "    train_scores = make_scores_dict(\n",
    "        grid.best_estimator_, \"Train\", X_train[features], y_train\n",
    "    )\n",
    "\n",
    "    test_scores = make_scores_dict(\n",
    "        grid.best_estimator_, \"Test\", X_test[features], y_test\n",
    "    )\n",
    "    score_time = time() - tic\n",
    "\n",
    "    return (\n",
    "        {\n",
    "            \"Model\": classifier_name,\n",
    "            \"Average Grid Search Time\": grid_search_time\n",
    "            / len(grid.cv_results_[\"params\"]),\n",
    "            \"Score Time\": score_time,\n",
    "        }\n",
    "        | train_scores\n",
    "        | test_scores\n",
    "        | {\n",
    "            \"Best Params\": grid.best_params_,\n",
    "            \"Best Estimator\": grid.best_estimator_,\n",
    "        }\n",
    "    )"
   ]
  },
  {
   "cell_type": "code",
   "execution_count": 27,
   "metadata": {},
   "outputs": [
    {
     "data": {
      "text/html": [
       "<div>\n",
       "<style scoped>\n",
       "    .dataframe tbody tr th:only-of-type {\n",
       "        vertical-align: middle;\n",
       "    }\n",
       "\n",
       "    .dataframe tbody tr th {\n",
       "        vertical-align: top;\n",
       "    }\n",
       "\n",
       "    .dataframe thead th {\n",
       "        text-align: right;\n",
       "    }\n",
       "</style>\n",
       "<table border=\"1\" class=\"dataframe\">\n",
       "  <thead>\n",
       "    <tr style=\"text-align: right;\">\n",
       "      <th></th>\n",
       "      <th>Model</th>\n",
       "      <th>Average Grid Search Time</th>\n",
       "      <th>Score Time</th>\n",
       "      <th>Train Accuracy</th>\n",
       "      <th>Train Balanced Accuracy</th>\n",
       "      <th>Train Precision</th>\n",
       "      <th>Train Recall</th>\n",
       "      <th>Train f1</th>\n",
       "      <th>Test Accuracy</th>\n",
       "      <th>Test Balanced Accuracy</th>\n",
       "      <th>Test Precision</th>\n",
       "      <th>Test Recall</th>\n",
       "      <th>Test f1</th>\n",
       "      <th>Best Params</th>\n",
       "      <th>Best Estimator</th>\n",
       "    </tr>\n",
       "  </thead>\n",
       "  <tbody>\n",
       "    <tr>\n",
       "      <th>0</th>\n",
       "      <td>KNeighborsClassifier</td>\n",
       "      <td>2.045872</td>\n",
       "      <td>2.330486</td>\n",
       "      <td>92.11</td>\n",
       "      <td>72.05</td>\n",
       "      <td>74.01</td>\n",
       "      <td>46.15</td>\n",
       "      <td>56.85</td>\n",
       "      <td>88.42</td>\n",
       "      <td>62.13</td>\n",
       "      <td>47.67</td>\n",
       "      <td>28.19</td>\n",
       "      <td>35.43</td>\n",
       "      <td>{'classifier__n_neighbors': 3}</td>\n",
       "      <td>(ColumnTransformer(remainder=StandardScaler(),...</td>\n",
       "    </tr>\n",
       "    <tr>\n",
       "      <th>1</th>\n",
       "      <td>DecisionTreeClassifier</td>\n",
       "      <td>0.359720</td>\n",
       "      <td>0.084078</td>\n",
       "      <td>83.24</td>\n",
       "      <td>73.70</td>\n",
       "      <td>35.78</td>\n",
       "      <td>61.38</td>\n",
       "      <td>45.21</td>\n",
       "      <td>83.59</td>\n",
       "      <td>74.95</td>\n",
       "      <td>36.82</td>\n",
       "      <td>63.79</td>\n",
       "      <td>46.69</td>\n",
       "      <td>{'classifier__class_weight': 'balanced', 'clas...</td>\n",
       "      <td>(ColumnTransformer(remainder=StandardScaler(),...</td>\n",
       "    </tr>\n",
       "    <tr>\n",
       "      <th>2</th>\n",
       "      <td>LogisticRegression</td>\n",
       "      <td>0.483277</td>\n",
       "      <td>0.153482</td>\n",
       "      <td>89.73</td>\n",
       "      <td>59.05</td>\n",
       "      <td>64.66</td>\n",
       "      <td>19.45</td>\n",
       "      <td>29.91</td>\n",
       "      <td>89.95</td>\n",
       "      <td>58.47</td>\n",
       "      <td>71.63</td>\n",
       "      <td>17.84</td>\n",
       "      <td>28.57</td>\n",
       "      <td>{'classifier__C': 100.0, 'classifier__penalty'...</td>\n",
       "      <td>(ColumnTransformer(remainder=StandardScaler(),...</td>\n",
       "    </tr>\n",
       "    <tr>\n",
       "      <th>3</th>\n",
       "      <td>SVC</td>\n",
       "      <td>22.893778</td>\n",
       "      <td>8.641441</td>\n",
       "      <td>89.89</td>\n",
       "      <td>58.57</td>\n",
       "      <td>69.80</td>\n",
       "      <td>18.13</td>\n",
       "      <td>28.79</td>\n",
       "      <td>89.97</td>\n",
       "      <td>58.07</td>\n",
       "      <td>73.96</td>\n",
       "      <td>16.90</td>\n",
       "      <td>27.51</td>\n",
       "      <td>{'classifier__kernel': 'rbf', 'classifier__max...</td>\n",
       "      <td>(ColumnTransformer(remainder=StandardScaler(),...</td>\n",
       "    </tr>\n",
       "  </tbody>\n",
       "</table>\n",
       "</div>"
      ],
      "text/plain": [
       "                    Model  Average Grid Search Time  Score Time  \\\n",
       "0    KNeighborsClassifier                  2.045872    2.330486   \n",
       "1  DecisionTreeClassifier                  0.359720    0.084078   \n",
       "2      LogisticRegression                  0.483277    0.153482   \n",
       "3                     SVC                 22.893778    8.641441   \n",
       "\n",
       "   Train Accuracy  Train Balanced Accuracy  Train Precision  Train Recall  \\\n",
       "0           92.11                    72.05            74.01         46.15   \n",
       "1           83.24                    73.70            35.78         61.38   \n",
       "2           89.73                    59.05            64.66         19.45   \n",
       "3           89.89                    58.57            69.80         18.13   \n",
       "\n",
       "   Train f1  Test Accuracy  Test Balanced Accuracy  Test Precision  \\\n",
       "0     56.85          88.42                   62.13           47.67   \n",
       "1     45.21          83.59                   74.95           36.82   \n",
       "2     29.91          89.95                   58.47           71.63   \n",
       "3     28.79          89.97                   58.07           73.96   \n",
       "\n",
       "   Test Recall  Test f1                                        Best Params  \\\n",
       "0        28.19    35.43                     {'classifier__n_neighbors': 3}   \n",
       "1        63.79    46.69  {'classifier__class_weight': 'balanced', 'clas...   \n",
       "2        17.84    28.57  {'classifier__C': 100.0, 'classifier__penalty'...   \n",
       "3        16.90    27.51  {'classifier__kernel': 'rbf', 'classifier__max...   \n",
       "\n",
       "                                      Best Estimator  \n",
       "0  (ColumnTransformer(remainder=StandardScaler(),...  \n",
       "1  (ColumnTransformer(remainder=StandardScaler(),...  \n",
       "2  (ColumnTransformer(remainder=StandardScaler(),...  \n",
       "3  (ColumnTransformer(remainder=StandardScaler(),...  "
      ]
     },
     "execution_count": 27,
     "metadata": {},
     "output_type": "execute_result"
    }
   ],
   "source": [
    "results_gridded_df = pd.DataFrame(\n",
    "    [\n",
    "        grid_search_fit_and_time(\n",
    "            classifier_name=classifier_name,\n",
    "            param_grid=classifier_param_grids[classifier_name],\n",
    "            scoring=\"balanced_accuracy\",\n",
    "            features=best_features,\n",
    "        )\n",
    "        for classifier_name in classifier_param_grids.keys()\n",
    "    ]\n",
    ")\n",
    "\n",
    "results_gridded_df"
   ]
  },
  {
   "cell_type": "markdown",
   "metadata": {},
   "source": [
    "Comparing decision tree performance using all features, rather than the limited set used above\n",
    "- The score is basically the same\n",
    "- Meaning nothing is sacrificed in using the reduced feature set"
   ]
  },
  {
   "cell_type": "code",
   "execution_count": 28,
   "metadata": {},
   "outputs": [
    {
     "data": {
      "text/html": [
       "<div>\n",
       "<style scoped>\n",
       "    .dataframe tbody tr th:only-of-type {\n",
       "        vertical-align: middle;\n",
       "    }\n",
       "\n",
       "    .dataframe tbody tr th {\n",
       "        vertical-align: top;\n",
       "    }\n",
       "\n",
       "    .dataframe thead th {\n",
       "        text-align: right;\n",
       "    }\n",
       "</style>\n",
       "<table border=\"1\" class=\"dataframe\">\n",
       "  <thead>\n",
       "    <tr style=\"text-align: right;\">\n",
       "      <th></th>\n",
       "      <th>Model</th>\n",
       "      <th>Average Grid Search Time</th>\n",
       "      <th>Score Time</th>\n",
       "      <th>Train Accuracy</th>\n",
       "      <th>Train Balanced Accuracy</th>\n",
       "      <th>Train Precision</th>\n",
       "      <th>Train Recall</th>\n",
       "      <th>Train f1</th>\n",
       "      <th>Test Accuracy</th>\n",
       "      <th>Test Balanced Accuracy</th>\n",
       "      <th>Test Precision</th>\n",
       "      <th>Test Recall</th>\n",
       "      <th>Test f1</th>\n",
       "      <th>Best Params</th>\n",
       "      <th>Best Estimator</th>\n",
       "    </tr>\n",
       "  </thead>\n",
       "  <tbody>\n",
       "    <tr>\n",
       "      <th>0</th>\n",
       "      <td>DecisionTreeClassifier</td>\n",
       "      <td>0.61679</td>\n",
       "      <td>0.119816</td>\n",
       "      <td>83.44</td>\n",
       "      <td>73.31</td>\n",
       "      <td>35.96</td>\n",
       "      <td>60.23</td>\n",
       "      <td>45.03</td>\n",
       "      <td>83.84</td>\n",
       "      <td>74.49</td>\n",
       "      <td>37.09</td>\n",
       "      <td>62.41</td>\n",
       "      <td>46.53</td>\n",
       "      <td>{'classifier__class_weight': 'balanced', 'clas...</td>\n",
       "      <td>(ColumnTransformer(remainder=StandardScaler(),...</td>\n",
       "    </tr>\n",
       "  </tbody>\n",
       "</table>\n",
       "</div>"
      ],
      "text/plain": [
       "                    Model  Average Grid Search Time  Score Time  \\\n",
       "0  DecisionTreeClassifier                   0.61679    0.119816   \n",
       "\n",
       "   Train Accuracy  Train Balanced Accuracy  Train Precision  Train Recall  \\\n",
       "0           83.44                    73.31            35.96         60.23   \n",
       "\n",
       "   Train f1  Test Accuracy  Test Balanced Accuracy  Test Precision  \\\n",
       "0     45.03          83.84                   74.49           37.09   \n",
       "\n",
       "   Test Recall  Test f1                                        Best Params  \\\n",
       "0        62.41    46.53  {'classifier__class_weight': 'balanced', 'clas...   \n",
       "\n",
       "                                      Best Estimator  \n",
       "0  (ColumnTransformer(remainder=StandardScaler(),...  "
      ]
     },
     "execution_count": 28,
     "metadata": {},
     "output_type": "execute_result"
    }
   ],
   "source": [
    "pd.DataFrame(\n",
    "    [\n",
    "        grid_search_fit_and_time(\n",
    "            classifier_name=\"DecisionTreeClassifier\",\n",
    "            param_grid=classifier_param_grids[\"DecisionTreeClassifier\"],\n",
    "            scoring=\"balanced_accuracy\",\n",
    "        )\n",
    "    ]\n",
    ")"
   ]
  },
  {
   "cell_type": "markdown",
   "metadata": {},
   "source": [
    "# Summary of Findings"
   ]
  },
  {
   "cell_type": "markdown",
   "metadata": {},
   "source": [
    "### Choice of Metric"
   ]
  },
  {
   "cell_type": "markdown",
   "metadata": {},
   "source": [
    "The balanced accuracy was chosen to compensate for the highly imbalanced data\n",
    "- Although virtually any model, even the trivial model, could attain nearly 90% accuracy\n",
    "- Balanced accuracy was a more important measurement of model quality because the data, at about 88% negative, was so imbalanced"
   ]
  },
  {
   "cell_type": "markdown",
   "metadata": {},
   "source": [
    "### Choice of Features"
   ]
  },
  {
   "cell_type": "markdown",
   "metadata": {},
   "source": [
    "Using permutation importance, the feature space was reduced to just 5 features\n",
    "- This greatly reduced fit and prediction times while maintaining approximately the same performance as if using all features\n",
    "- Note that 5 is not a magic number, it could have 6 or 7, but the point is it was much fewer than the input set"
   ]
  },
  {
   "cell_type": "markdown",
   "metadata": {},
   "source": [
    "### Choice of Classifier"
   ]
  },
  {
   "cell_type": "markdown",
   "metadata": {},
   "source": [
    "#### KNN\n",
    "\n",
    "KNN turned out to be computationally prohibitive on the full data set\n",
    "- While the fit time is fast, the prediction time is unbounded\n",
    "- I don't actually know the complete prediction time because I had to end the run after waiting several minutes\n",
    "- Takeaway: KNN scales very poorly for larger data sets, especially those with higher dimensionality (more features)"
   ]
  },
  {
   "cell_type": "markdown",
   "metadata": {},
   "source": [
    "#### Decision Tree\n",
    "\n",
    "The decision tree was fast to train and evaluate, and attained the best balanced accuracy score\n",
    "- The decision tree also lends itself to direct interpration, provided the tree is not too large / too many nodes\n",
    "- **The decision tree is the best overall choice** here among the classifiers considered"
   ]
  },
  {
   "cell_type": "markdown",
   "metadata": {},
   "source": [
    "#### Logistic Regression\n",
    "\n",
    "Logistic regression is pretty fast to train and evaluate, and is a useful way to quickly evaluate feature importance\n",
    "- It's worth noticing that I derived feature importance from logistic regression, and used it for the other classifiers\n",
    "- Should follow up and recompute the best features using the decision tree"
   ]
  },
  {
   "cell_type": "markdown",
   "metadata": {},
   "source": [
    "#### SVC\n",
    "\n",
    "The SVC did not achieve better performance than the logistic regression\n",
    "- But it took drastically longer to train\n",
    "- SVC is not a good choice for this problem"
   ]
  }
 ],
 "metadata": {
  "kernelspec": {
   "display_name": "Python 3",
   "language": "python",
   "name": "python3"
  },
  "language_info": {
   "codemirror_mode": {
    "name": "ipython",
    "version": 3
   },
   "file_extension": ".py",
   "mimetype": "text/x-python",
   "name": "python",
   "nbconvert_exporter": "python",
   "pygments_lexer": "ipython3",
   "version": "3.10.13"
  },
  "widgets": {
   "application/vnd.jupyter.widget-state+json": {
    "state": {},
    "version_major": 2,
    "version_minor": 0
   }
  }
 },
 "nbformat": 4,
 "nbformat_minor": 4
}
