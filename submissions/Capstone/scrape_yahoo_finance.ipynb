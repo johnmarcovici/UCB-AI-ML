{
 "cells": [
  {
   "cell_type": "code",
   "execution_count": 1,
   "metadata": {},
   "outputs": [],
   "source": [
    "import pandas as pd\n",
    "import requests\n",
    "import warnings"
   ]
  },
  {
   "cell_type": "code",
   "execution_count": 2,
   "metadata": {},
   "outputs": [],
   "source": [
    "warnings.filterwarnings(\"ignore\")"
   ]
  },
  {
   "cell_type": "code",
   "execution_count": 3,
   "metadata": {},
   "outputs": [],
   "source": [
    "# ! pip3 install lxml html5lib"
   ]
  },
  {
   "cell_type": "markdown",
   "metadata": {},
   "source": [
    "Get list of S&P 500 symbols"
   ]
  },
  {
   "cell_type": "code",
   "execution_count": 4,
   "metadata": {},
   "outputs": [
    {
     "data": {
      "text/plain": [
       "0       MMM\n",
       "1       AOS\n",
       "2       ABT\n",
       "3      ABBV\n",
       "4       ACN\n",
       "       ... \n",
       "498     XYL\n",
       "499     YUM\n",
       "500    ZBRA\n",
       "501     ZBH\n",
       "502     ZTS\n",
       "Name: Symbol, Length: 503, dtype: object"
      ]
     },
     "execution_count": 4,
     "metadata": {},
     "output_type": "execute_result"
    }
   ],
   "source": [
    "df = pd.read_csv(\"./data/sp_500_companies.csv\")\n",
    "symbols = df[\"Symbol\"]\n",
    "symbols"
   ]
  },
  {
   "cell_type": "code",
   "execution_count": 5,
   "metadata": {},
   "outputs": [],
   "source": [
    "def scrape_yahoo_finance(stock: str) -> pd.DataFrame:\n",
    "    url = f\"https://finance.yahoo.com/quote/{stock}/history/?period1=1712523837&period2=1720386234\"\n",
    "    r = requests.get(\n",
    "        url,\n",
    "        headers={\n",
    "            \"User-Agent\": \"Mozilla/5.0 (Windows NT 10.0; Win64; x64) AppleWebKit/537.36 (KHTML, like Gecko) Chrome/91.0.4472.124 Safari/537.36\"\n",
    "        },\n",
    "    )\n",
    "    df = pd.read_html(r.text)[0]\n",
    "    df.rename(columns={\"Close Close price adjusted for splits.\": \"Close\"}, inplace=True)\n",
    "    return df[[\"Date\", \"Open\", \"High\", \"Low\", \"Close\", \"Volume\"]]"
   ]
  },
  {
   "cell_type": "code",
   "execution_count": 40,
   "metadata": {},
   "outputs": [
    {
     "data": {
      "text/html": [
       "<div>\n",
       "<style scoped>\n",
       "    .dataframe tbody tr th:only-of-type {\n",
       "        vertical-align: middle;\n",
       "    }\n",
       "\n",
       "    .dataframe tbody tr th {\n",
       "        vertical-align: top;\n",
       "    }\n",
       "\n",
       "    .dataframe thead th {\n",
       "        text-align: right;\n",
       "    }\n",
       "</style>\n",
       "<table border=\"1\" class=\"dataframe\">\n",
       "  <thead>\n",
       "    <tr style=\"text-align: right;\">\n",
       "      <th></th>\n",
       "      <th>Date</th>\n",
       "      <th>Open</th>\n",
       "      <th>High</th>\n",
       "      <th>Low</th>\n",
       "      <th>Close</th>\n",
       "      <th>Volume</th>\n",
       "    </tr>\n",
       "  </thead>\n",
       "  <tbody>\n",
       "    <tr>\n",
       "      <th>0</th>\n",
       "      <td>Jul 5, 2024</td>\n",
       "      <td>249.81</td>\n",
       "      <td>252.37</td>\n",
       "      <td>242.46</td>\n",
       "      <td>251.52</td>\n",
       "      <td>154170000</td>\n",
       "    </tr>\n",
       "    <tr>\n",
       "      <th>1</th>\n",
       "      <td>Jul 3, 2024</td>\n",
       "      <td>234.56</td>\n",
       "      <td>248.35</td>\n",
       "      <td>234.25</td>\n",
       "      <td>246.39</td>\n",
       "      <td>166561500</td>\n",
       "    </tr>\n",
       "    <tr>\n",
       "      <th>2</th>\n",
       "      <td>Jul 2, 2024</td>\n",
       "      <td>218.89</td>\n",
       "      <td>231.30</td>\n",
       "      <td>218.06</td>\n",
       "      <td>231.26</td>\n",
       "      <td>205047900</td>\n",
       "    </tr>\n",
       "    <tr>\n",
       "      <th>3</th>\n",
       "      <td>Jul 1, 2024</td>\n",
       "      <td>201.02</td>\n",
       "      <td>213.23</td>\n",
       "      <td>200.85</td>\n",
       "      <td>209.86</td>\n",
       "      <td>135691400</td>\n",
       "    </tr>\n",
       "    <tr>\n",
       "      <th>4</th>\n",
       "      <td>Jun 28, 2024</td>\n",
       "      <td>199.55</td>\n",
       "      <td>203.20</td>\n",
       "      <td>195.26</td>\n",
       "      <td>197.88</td>\n",
       "      <td>95438100</td>\n",
       "    </tr>\n",
       "    <tr>\n",
       "      <th>...</th>\n",
       "      <td>...</td>\n",
       "      <td>...</td>\n",
       "      <td>...</td>\n",
       "      <td>...</td>\n",
       "      <td>...</td>\n",
       "      <td>...</td>\n",
       "    </tr>\n",
       "    <tr>\n",
       "      <th>57</th>\n",
       "      <td>Apr 12, 2024</td>\n",
       "      <td>172.34</td>\n",
       "      <td>173.81</td>\n",
       "      <td>170.36</td>\n",
       "      <td>171.05</td>\n",
       "      <td>64506600</td>\n",
       "    </tr>\n",
       "    <tr>\n",
       "      <th>58</th>\n",
       "      <td>Apr 11, 2024</td>\n",
       "      <td>172.55</td>\n",
       "      <td>175.88</td>\n",
       "      <td>168.51</td>\n",
       "      <td>174.60</td>\n",
       "      <td>94516000</td>\n",
       "    </tr>\n",
       "    <tr>\n",
       "      <th>59</th>\n",
       "      <td>Apr 10, 2024</td>\n",
       "      <td>173.04</td>\n",
       "      <td>174.93</td>\n",
       "      <td>170.01</td>\n",
       "      <td>171.76</td>\n",
       "      <td>84532400</td>\n",
       "    </tr>\n",
       "    <tr>\n",
       "      <th>60</th>\n",
       "      <td>Apr 9, 2024</td>\n",
       "      <td>172.91</td>\n",
       "      <td>179.22</td>\n",
       "      <td>171.92</td>\n",
       "      <td>176.88</td>\n",
       "      <td>103232700</td>\n",
       "    </tr>\n",
       "    <tr>\n",
       "      <th>61</th>\n",
       "      <td>Apr 8, 2024</td>\n",
       "      <td>169.34</td>\n",
       "      <td>174.50</td>\n",
       "      <td>167.79</td>\n",
       "      <td>172.98</td>\n",
       "      <td>104423300</td>\n",
       "    </tr>\n",
       "  </tbody>\n",
       "</table>\n",
       "<p>62 rows × 6 columns</p>\n",
       "</div>"
      ],
      "text/plain": [
       "            Date    Open    High     Low   Close     Volume\n",
       "0    Jul 5, 2024  249.81  252.37  242.46  251.52  154170000\n",
       "1    Jul 3, 2024  234.56  248.35  234.25  246.39  166561500\n",
       "2    Jul 2, 2024  218.89  231.30  218.06  231.26  205047900\n",
       "3    Jul 1, 2024  201.02  213.23  200.85  209.86  135691400\n",
       "4   Jun 28, 2024  199.55  203.20  195.26  197.88   95438100\n",
       "..           ...     ...     ...     ...     ...        ...\n",
       "57  Apr 12, 2024  172.34  173.81  170.36  171.05   64506600\n",
       "58  Apr 11, 2024  172.55  175.88  168.51  174.60   94516000\n",
       "59  Apr 10, 2024  173.04  174.93  170.01  171.76   84532400\n",
       "60   Apr 9, 2024  172.91  179.22  171.92  176.88  103232700\n",
       "61   Apr 8, 2024  169.34  174.50  167.79  172.98  104423300\n",
       "\n",
       "[62 rows x 6 columns]"
      ]
     },
     "execution_count": 40,
     "metadata": {},
     "output_type": "execute_result"
    }
   ],
   "source": [
    "df = scrape_yahoo_finance(\"TSLA\")\n",
    "df"
   ]
  },
  {
   "cell_type": "code",
   "execution_count": 35,
   "metadata": {},
   "outputs": [],
   "source": [
    "def format_table(df_in: pd.DataFrame, stock: str = \"\") -> pd.DataFrame:\n",
    "    df = df_in[[\"Date\", \"Close\"]]\n",
    "    df[\"Date\"] = pd.to_datetime(df[\"Date\"])\n",
    "    df.set_index(\"Date\", inplace=True)\n",
    "    df.rename(columns={\"Close\": stock}, inplace=True)\n",
    "    return df"
   ]
  },
  {
   "cell_type": "code",
   "execution_count": 39,
   "metadata": {},
   "outputs": [
    {
     "data": {
      "text/html": [
       "<div>\n",
       "<style scoped>\n",
       "    .dataframe tbody tr th:only-of-type {\n",
       "        vertical-align: middle;\n",
       "    }\n",
       "\n",
       "    .dataframe tbody tr th {\n",
       "        vertical-align: top;\n",
       "    }\n",
       "\n",
       "    .dataframe thead th {\n",
       "        text-align: right;\n",
       "    }\n",
       "</style>\n",
       "<table border=\"1\" class=\"dataframe\">\n",
       "  <thead>\n",
       "    <tr style=\"text-align: right;\">\n",
       "      <th></th>\n",
       "      <th>TSLA</th>\n",
       "    </tr>\n",
       "    <tr>\n",
       "      <th>Date</th>\n",
       "      <th></th>\n",
       "    </tr>\n",
       "  </thead>\n",
       "  <tbody>\n",
       "    <tr>\n",
       "      <th>2024-07-05</th>\n",
       "      <td>251.52</td>\n",
       "    </tr>\n",
       "    <tr>\n",
       "      <th>2024-07-03</th>\n",
       "      <td>246.39</td>\n",
       "    </tr>\n",
       "    <tr>\n",
       "      <th>2024-07-02</th>\n",
       "      <td>231.26</td>\n",
       "    </tr>\n",
       "    <tr>\n",
       "      <th>2024-07-01</th>\n",
       "      <td>209.86</td>\n",
       "    </tr>\n",
       "    <tr>\n",
       "      <th>2024-06-28</th>\n",
       "      <td>197.88</td>\n",
       "    </tr>\n",
       "    <tr>\n",
       "      <th>...</th>\n",
       "      <td>...</td>\n",
       "    </tr>\n",
       "    <tr>\n",
       "      <th>2024-04-12</th>\n",
       "      <td>171.05</td>\n",
       "    </tr>\n",
       "    <tr>\n",
       "      <th>2024-04-11</th>\n",
       "      <td>174.60</td>\n",
       "    </tr>\n",
       "    <tr>\n",
       "      <th>2024-04-10</th>\n",
       "      <td>171.76</td>\n",
       "    </tr>\n",
       "    <tr>\n",
       "      <th>2024-04-09</th>\n",
       "      <td>176.88</td>\n",
       "    </tr>\n",
       "    <tr>\n",
       "      <th>2024-04-08</th>\n",
       "      <td>172.98</td>\n",
       "    </tr>\n",
       "  </tbody>\n",
       "</table>\n",
       "<p>62 rows × 1 columns</p>\n",
       "</div>"
      ],
      "text/plain": [
       "              TSLA\n",
       "Date              \n",
       "2024-07-05  251.52\n",
       "2024-07-03  246.39\n",
       "2024-07-02  231.26\n",
       "2024-07-01  209.86\n",
       "2024-06-28  197.88\n",
       "...            ...\n",
       "2024-04-12  171.05\n",
       "2024-04-11  174.60\n",
       "2024-04-10  171.76\n",
       "2024-04-09  176.88\n",
       "2024-04-08  172.98\n",
       "\n",
       "[62 rows x 1 columns]"
      ]
     },
     "execution_count": 39,
     "metadata": {},
     "output_type": "execute_result"
    }
   ],
   "source": [
    "format_table(df, stock=\"TSLA\")"
   ]
  },
  {
   "cell_type": "code",
   "execution_count": 13,
   "metadata": {},
   "outputs": [
    {
     "data": {
      "text/plain": [
       "268     JNJ\n",
       "73      BMY\n",
       "289    LDOS\n",
       "155     DOV\n",
       "104     CVX\n",
       "280     KKR\n",
       "392     DGX\n",
       "124     STZ\n",
       "68       BX\n",
       "244    HBAN\n",
       "Name: Symbol, dtype: object"
      ]
     },
     "execution_count": 13,
     "metadata": {},
     "output_type": "execute_result"
    }
   ],
   "source": [
    "some_symbols = symbols.sample(10, random_state=42)\n",
    "some_symbols"
   ]
  },
  {
   "cell_type": "code",
   "execution_count": 14,
   "metadata": {},
   "outputs": [
    {
     "name": "stdout",
     "output_type": "stream",
     "text": [
      "Processing stock JNJ\n",
      "Processing stock BMY\n",
      "Processing stock LDOS\n",
      "Processing stock DOV\n",
      "Processing stock CVX\n",
      "Processing stock KKR\n",
      "Processing stock DGX\n",
      "Processing stock STZ\n",
      "Processing stock BX\n",
      "Processing stock HBAN\n"
     ]
    }
   ],
   "source": [
    "for stock in some_symbols:\n",
    "    print(f\"Processing stock {stock}\")\n",
    "    try:\n",
    "        df = scrape_yahoo_finance(stock=stock)\n",
    "    except Exception as e:\n",
    "        print(f\"Error retrieving data for {stock} - error was {str(e)}\")\n",
    "        continue"
   ]
  }
 ],
 "metadata": {
  "kernelspec": {
   "display_name": "Python 3",
   "language": "python",
   "name": "python3"
  },
  "language_info": {
   "codemirror_mode": {
    "name": "ipython",
    "version": 3
   },
   "file_extension": ".py",
   "mimetype": "text/x-python",
   "name": "python",
   "nbconvert_exporter": "python",
   "pygments_lexer": "ipython3",
   "version": "3.10.13"
  }
 },
 "nbformat": 4,
 "nbformat_minor": 2
}
