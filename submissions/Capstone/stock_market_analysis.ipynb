{
 "cells": [
  {
   "cell_type": "markdown",
   "metadata": {},
   "source": [
    "# Introduction & Overview"
   ]
  },
  {
   "cell_type": "markdown",
   "metadata": {},
   "source": [
    "## Yes, the stock market\n",
    "\n",
    "This notebook provides an analysis and approach to stock-market activities. Every day the market is open, the question to the would-be trader presents:\n",
    "- Buy\n",
    "- Sell\n",
    "- Hold\n",
    "\n",
    "This notebook explores several approaches to answering this *daily* question.\n",
    "\n",
    "*daily*? Modern algorithmic trading asks not daily, but [many times per second](https://en.wikipedia.org/wiki/High-frequency_trading), whether to buy, sell, or hold. Being a lay practitioner without access to industrial trading tools, I approach this as a per-day question.\n",
    "\n",
    "## The CRISP-DM Framework\n",
    "\n",
    "The process is described according to the [CRISP-DM framework](https://www.datascience-pm.com/crisp-dm-2/), a standardized process for a data-mining project such as this one. All quotes that follow,\n",
    "> which are indicated like this\n",
    "\n",
    "are from the paper titled *CRISP-DM: Towards a Standard Process Model for Data Mining* by Wirth & Hipp, in the document \"crisp-dm-overview.pdf\" as downloaded [from this source](https://mo-pcco.s3.us-east-1.amazonaws.com/BH-PCMLAI/module_11/readings_starter.zip), and copied [locally here](./docs/crisp-dm-overview.pdf)."
   ]
  },
  {
   "cell_type": "markdown",
   "metadata": {},
   "source": [
    "# Imports"
   ]
  },
  {
   "cell_type": "code",
   "execution_count": 1,
   "metadata": {},
   "outputs": [],
   "source": [
    "import warnings\n",
    "import matplotlib.pyplot as plt\n",
    "import pandas as pd\n",
    "import numpy as np"
   ]
  },
  {
   "cell_type": "code",
   "execution_count": 2,
   "metadata": {},
   "outputs": [],
   "source": [
    "warnings.filterwarnings(\"ignore\")\n",
    "pd.set_option(\"display.max_columns\", None)\n",
    "plt.rcParams.update(\n",
    "    {\n",
    "        \"axes.grid\": True,\n",
    "        \"figure.figsize\": (16, 4),\n",
    "    },\n",
    ")"
   ]
  },
  {
   "cell_type": "markdown",
   "metadata": {},
   "source": [
    "# Business Understanding"
   ]
  },
  {
   "cell_type": "markdown",
   "metadata": {},
   "source": [
    "> This initial phase focuses on understanding the project objectives and requirements from a business perspective, and then converting this knowledge into a data mining problem definition, and a preliminary project plan designed to achieve the objectives."
   ]
  },
  {
   "cell_type": "markdown",
   "metadata": {},
   "source": [
    "The project objectives are to make stock trading recommendations on a daily basis, for a trading client. The project has been specified to concentrate only on equities trading, as opposed to any of the more complex financial instruments, such as options, shorts, bonds, etc...\n",
    "\n",
    "The preliminary project plan is to obtain representative data from various publicly traded stocks, and then to choose a trading strategy, and to develop an algorithm to implement this strategy. Having obtained this data, multiple models will be developed, and compared to a benchmark of performance, here the S&P 500."
   ]
  },
  {
   "cell_type": "markdown",
   "metadata": {},
   "source": [
    "# Data Understanding"
   ]
  },
  {
   "cell_type": "markdown",
   "metadata": {},
   "source": [
    "> The data understanding phase starts with an initial data collection and proceeds with activities in order to get familiar with the data, to identify data quality problems, to discover first insights into the data, or to detect interesting subsets to form hypotheses for hidden information."
   ]
  },
  {
   "cell_type": "markdown",
   "metadata": {},
   "source": [
    "Data sets have been obtained for 4 stocks (Apple, Amazon, Microsoft, and Tesla), covering 1 minute, 1 hour, and 1 day increments for a period of approximately 2 weeks. At this point in the project I have not decided yet which of these time increments to use. For comparison purposes, I also obtained a daily closing price for the S&P 500, a common benchmark used for stock-picking approaches."
   ]
  },
  {
   "cell_type": "markdown",
   "metadata": {},
   "source": [
    "# Data Preparation"
   ]
  },
  {
   "cell_type": "markdown",
   "metadata": {},
   "source": [
    "> The data preparation phase covers all activities to construct the final dataset (data that will be fed into the modeling tool(s)) from the initial raw data. Data preparation tasks are likely to be performed multiple times, and not in any prescribed order. Tasks include table, record, and attribute selection, data cleaning, construction of new attributes, and transformation of data for modeling tools."
   ]
  },
  {
   "cell_type": "markdown",
   "metadata": {},
   "source": [
    "Load any data set as obtained from Yahoo finance, or Market Watch"
   ]
  },
  {
   "cell_type": "code",
   "execution_count": 3,
   "metadata": {},
   "outputs": [],
   "source": [
    "def load_yahoo_csv(stock: str) -> pd.DataFrame:\n",
    "    \"\"\"\n",
    "    Loads the stock-price data from a csv file obtained from yahoo finance\n",
    "    Retains only the date, which is set as the index, and the closing price\n",
    "    \"\"\"\n",
    "    filename = f\"./data/{stock}.csv\"\n",
    "    df = pd.read_csv(filename)[[\"Date\", \"Close\"]]\n",
    "    df[\"Date\"] = pd.to_datetime(df[\"Date\"])\n",
    "    df.set_index(\"Date\", inplace=True)\n",
    "    df.rename(columns={\"Close\": stock}, inplace=True)\n",
    "    return df"
   ]
  },
  {
   "cell_type": "markdown",
   "metadata": {},
   "source": [
    "Load the Apple data"
   ]
  },
  {
   "cell_type": "code",
   "execution_count": 4,
   "metadata": {},
   "outputs": [
    {
     "data": {
      "text/html": [
       "<div>\n",
       "<style scoped>\n",
       "    .dataframe tbody tr th:only-of-type {\n",
       "        vertical-align: middle;\n",
       "    }\n",
       "\n",
       "    .dataframe tbody tr th {\n",
       "        vertical-align: top;\n",
       "    }\n",
       "\n",
       "    .dataframe thead th {\n",
       "        text-align: right;\n",
       "    }\n",
       "</style>\n",
       "<table border=\"1\" class=\"dataframe\">\n",
       "  <thead>\n",
       "    <tr style=\"text-align: right;\">\n",
       "      <th></th>\n",
       "      <th>AAPL</th>\n",
       "    </tr>\n",
       "    <tr>\n",
       "      <th>Date</th>\n",
       "      <th></th>\n",
       "    </tr>\n",
       "  </thead>\n",
       "  <tbody>\n",
       "    <tr>\n",
       "      <th>2024-04-08</th>\n",
       "      <td>168.449997</td>\n",
       "    </tr>\n",
       "    <tr>\n",
       "      <th>2024-04-09</th>\n",
       "      <td>169.669998</td>\n",
       "    </tr>\n",
       "    <tr>\n",
       "      <th>2024-04-10</th>\n",
       "      <td>167.779999</td>\n",
       "    </tr>\n",
       "    <tr>\n",
       "      <th>2024-04-11</th>\n",
       "      <td>175.039993</td>\n",
       "    </tr>\n",
       "    <tr>\n",
       "      <th>2024-04-12</th>\n",
       "      <td>176.550003</td>\n",
       "    </tr>\n",
       "    <tr>\n",
       "      <th>...</th>\n",
       "      <td>...</td>\n",
       "    </tr>\n",
       "    <tr>\n",
       "      <th>2024-06-28</th>\n",
       "      <td>210.619995</td>\n",
       "    </tr>\n",
       "    <tr>\n",
       "      <th>2024-07-01</th>\n",
       "      <td>216.750000</td>\n",
       "    </tr>\n",
       "    <tr>\n",
       "      <th>2024-07-02</th>\n",
       "      <td>220.270004</td>\n",
       "    </tr>\n",
       "    <tr>\n",
       "      <th>2024-07-03</th>\n",
       "      <td>221.550003</td>\n",
       "    </tr>\n",
       "    <tr>\n",
       "      <th>2024-07-05</th>\n",
       "      <td>226.339996</td>\n",
       "    </tr>\n",
       "  </tbody>\n",
       "</table>\n",
       "<p>62 rows × 1 columns</p>\n",
       "</div>"
      ],
      "text/plain": [
       "                  AAPL\n",
       "Date                  \n",
       "2024-04-08  168.449997\n",
       "2024-04-09  169.669998\n",
       "2024-04-10  167.779999\n",
       "2024-04-11  175.039993\n",
       "2024-04-12  176.550003\n",
       "...                ...\n",
       "2024-06-28  210.619995\n",
       "2024-07-01  216.750000\n",
       "2024-07-02  220.270004\n",
       "2024-07-03  221.550003\n",
       "2024-07-05  226.339996\n",
       "\n",
       "[62 rows x 1 columns]"
      ]
     },
     "execution_count": 4,
     "metadata": {},
     "output_type": "execute_result"
    }
   ],
   "source": [
    "df = load_yahoo_csv(stock=\"AAPL\")\n",
    "df"
   ]
  },
  {
   "cell_type": "markdown",
   "metadata": {},
   "source": [
    "Load the remaining stock data, and aggregate into a single dataframe"
   ]
  },
  {
   "cell_type": "code",
   "execution_count": 5,
   "metadata": {},
   "outputs": [
    {
     "data": {
      "text/html": [
       "<div>\n",
       "<style scoped>\n",
       "    .dataframe tbody tr th:only-of-type {\n",
       "        vertical-align: middle;\n",
       "    }\n",
       "\n",
       "    .dataframe tbody tr th {\n",
       "        vertical-align: top;\n",
       "    }\n",
       "\n",
       "    .dataframe thead th {\n",
       "        text-align: right;\n",
       "    }\n",
       "</style>\n",
       "<table border=\"1\" class=\"dataframe\">\n",
       "  <thead>\n",
       "    <tr style=\"text-align: right;\">\n",
       "      <th></th>\n",
       "      <th>AAPL</th>\n",
       "      <th>AMZN</th>\n",
       "      <th>MSFT</th>\n",
       "      <th>TSLA</th>\n",
       "    </tr>\n",
       "    <tr>\n",
       "      <th>Date</th>\n",
       "      <th></th>\n",
       "      <th></th>\n",
       "      <th></th>\n",
       "      <th></th>\n",
       "    </tr>\n",
       "  </thead>\n",
       "  <tbody>\n",
       "    <tr>\n",
       "      <th>2024-04-08</th>\n",
       "      <td>168.449997</td>\n",
       "      <td>185.190002</td>\n",
       "      <td>424.589996</td>\n",
       "      <td>172.979996</td>\n",
       "    </tr>\n",
       "    <tr>\n",
       "      <th>2024-04-09</th>\n",
       "      <td>169.669998</td>\n",
       "      <td>185.669998</td>\n",
       "      <td>426.279999</td>\n",
       "      <td>176.880005</td>\n",
       "    </tr>\n",
       "    <tr>\n",
       "      <th>2024-04-10</th>\n",
       "      <td>167.779999</td>\n",
       "      <td>185.949997</td>\n",
       "      <td>423.260010</td>\n",
       "      <td>171.759995</td>\n",
       "    </tr>\n",
       "    <tr>\n",
       "      <th>2024-04-11</th>\n",
       "      <td>175.039993</td>\n",
       "      <td>189.050003</td>\n",
       "      <td>427.929993</td>\n",
       "      <td>174.600006</td>\n",
       "    </tr>\n",
       "    <tr>\n",
       "      <th>2024-04-12</th>\n",
       "      <td>176.550003</td>\n",
       "      <td>186.130005</td>\n",
       "      <td>421.899994</td>\n",
       "      <td>171.050003</td>\n",
       "    </tr>\n",
       "    <tr>\n",
       "      <th>...</th>\n",
       "      <td>...</td>\n",
       "      <td>...</td>\n",
       "      <td>...</td>\n",
       "      <td>...</td>\n",
       "    </tr>\n",
       "    <tr>\n",
       "      <th>2024-06-28</th>\n",
       "      <td>210.619995</td>\n",
       "      <td>193.250000</td>\n",
       "      <td>446.950012</td>\n",
       "      <td>197.880005</td>\n",
       "    </tr>\n",
       "    <tr>\n",
       "      <th>2024-07-01</th>\n",
       "      <td>216.750000</td>\n",
       "      <td>197.199997</td>\n",
       "      <td>456.730011</td>\n",
       "      <td>209.860001</td>\n",
       "    </tr>\n",
       "    <tr>\n",
       "      <th>2024-07-02</th>\n",
       "      <td>220.270004</td>\n",
       "      <td>200.000000</td>\n",
       "      <td>459.279999</td>\n",
       "      <td>231.259995</td>\n",
       "    </tr>\n",
       "    <tr>\n",
       "      <th>2024-07-03</th>\n",
       "      <td>221.550003</td>\n",
       "      <td>197.589996</td>\n",
       "      <td>460.769989</td>\n",
       "      <td>246.389999</td>\n",
       "    </tr>\n",
       "    <tr>\n",
       "      <th>2024-07-05</th>\n",
       "      <td>226.339996</td>\n",
       "      <td>200.000000</td>\n",
       "      <td>467.559998</td>\n",
       "      <td>251.520004</td>\n",
       "    </tr>\n",
       "  </tbody>\n",
       "</table>\n",
       "<p>62 rows × 4 columns</p>\n",
       "</div>"
      ],
      "text/plain": [
       "                  AAPL        AMZN        MSFT        TSLA\n",
       "Date                                                      \n",
       "2024-04-08  168.449997  185.190002  424.589996  172.979996\n",
       "2024-04-09  169.669998  185.669998  426.279999  176.880005\n",
       "2024-04-10  167.779999  185.949997  423.260010  171.759995\n",
       "2024-04-11  175.039993  189.050003  427.929993  174.600006\n",
       "2024-04-12  176.550003  186.130005  421.899994  171.050003\n",
       "...                ...         ...         ...         ...\n",
       "2024-06-28  210.619995  193.250000  446.950012  197.880005\n",
       "2024-07-01  216.750000  197.199997  456.730011  209.860001\n",
       "2024-07-02  220.270004  200.000000  459.279999  231.259995\n",
       "2024-07-03  221.550003  197.589996  460.769989  246.389999\n",
       "2024-07-05  226.339996  200.000000  467.559998  251.520004\n",
       "\n",
       "[62 rows x 4 columns]"
      ]
     },
     "execution_count": 5,
     "metadata": {},
     "output_type": "execute_result"
    }
   ],
   "source": [
    "stocks = [\n",
    "    \"AMZN\",\n",
    "    \"MSFT\",\n",
    "    \"TSLA\",\n",
    "]\n",
    "\n",
    "for stock in stocks:\n",
    "    df_stock = load_yahoo_csv(stock=stock)\n",
    "    assert all(\n",
    "        df_stock.index == df.index\n",
    "    ), f\"Date index of {stock} does not match AAPL.\"\n",
    "    df[stock] = df_stock[stock]\n",
    "\n",
    "df"
   ]
  },
  {
   "cell_type": "code",
   "execution_count": 6,
   "metadata": {},
   "outputs": [
    {
     "name": "stdout",
     "output_type": "stream",
     "text": [
      "<class 'pandas.core.frame.DataFrame'>\n",
      "DatetimeIndex: 62 entries, 2024-04-08 to 2024-07-05\n",
      "Data columns (total 4 columns):\n",
      " #   Column  Non-Null Count  Dtype  \n",
      "---  ------  --------------  -----  \n",
      " 0   AAPL    62 non-null     float64\n",
      " 1   AMZN    62 non-null     float64\n",
      " 2   MSFT    62 non-null     float64\n",
      " 3   TSLA    62 non-null     float64\n",
      "dtypes: float64(4)\n",
      "memory usage: 2.4 KB\n"
     ]
    }
   ],
   "source": [
    "df.info()"
   ]
  },
  {
   "cell_type": "markdown",
   "metadata": {},
   "source": [
    "Load the S&P 500 data, and perform similar basic cleanups on date and column renaming\n",
    "- Also need to convert the string to a float after removing the comma"
   ]
  },
  {
   "cell_type": "code",
   "execution_count": 7,
   "metadata": {},
   "outputs": [
    {
     "data": {
      "text/html": [
       "<div>\n",
       "<style scoped>\n",
       "    .dataframe tbody tr th:only-of-type {\n",
       "        vertical-align: middle;\n",
       "    }\n",
       "\n",
       "    .dataframe tbody tr th {\n",
       "        vertical-align: top;\n",
       "    }\n",
       "\n",
       "    .dataframe thead th {\n",
       "        text-align: right;\n",
       "    }\n",
       "</style>\n",
       "<table border=\"1\" class=\"dataframe\">\n",
       "  <thead>\n",
       "    <tr style=\"text-align: right;\">\n",
       "      <th></th>\n",
       "      <th>SPX</th>\n",
       "    </tr>\n",
       "    <tr>\n",
       "      <th>Date</th>\n",
       "      <th></th>\n",
       "    </tr>\n",
       "  </thead>\n",
       "  <tbody>\n",
       "    <tr>\n",
       "      <th>2024-07-05</th>\n",
       "      <td>5567.19</td>\n",
       "    </tr>\n",
       "    <tr>\n",
       "      <th>2024-07-03</th>\n",
       "      <td>5537.02</td>\n",
       "    </tr>\n",
       "    <tr>\n",
       "      <th>2024-07-02</th>\n",
       "      <td>5509.01</td>\n",
       "    </tr>\n",
       "    <tr>\n",
       "      <th>2024-07-01</th>\n",
       "      <td>5475.09</td>\n",
       "    </tr>\n",
       "    <tr>\n",
       "      <th>2024-06-28</th>\n",
       "      <td>5460.48</td>\n",
       "    </tr>\n",
       "    <tr>\n",
       "      <th>...</th>\n",
       "      <td>...</td>\n",
       "    </tr>\n",
       "    <tr>\n",
       "      <th>2024-04-12</th>\n",
       "      <td>5123.41</td>\n",
       "    </tr>\n",
       "    <tr>\n",
       "      <th>2024-04-11</th>\n",
       "      <td>5199.06</td>\n",
       "    </tr>\n",
       "    <tr>\n",
       "      <th>2024-04-10</th>\n",
       "      <td>5160.64</td>\n",
       "    </tr>\n",
       "    <tr>\n",
       "      <th>2024-04-09</th>\n",
       "      <td>5209.91</td>\n",
       "    </tr>\n",
       "    <tr>\n",
       "      <th>2024-04-08</th>\n",
       "      <td>5202.39</td>\n",
       "    </tr>\n",
       "  </tbody>\n",
       "</table>\n",
       "<p>62 rows × 1 columns</p>\n",
       "</div>"
      ],
      "text/plain": [
       "                SPX\n",
       "Date               \n",
       "2024-07-05  5567.19\n",
       "2024-07-03  5537.02\n",
       "2024-07-02  5509.01\n",
       "2024-07-01  5475.09\n",
       "2024-06-28  5460.48\n",
       "...             ...\n",
       "2024-04-12  5123.41\n",
       "2024-04-11  5199.06\n",
       "2024-04-10  5160.64\n",
       "2024-04-09  5209.91\n",
       "2024-04-08  5202.39\n",
       "\n",
       "[62 rows x 1 columns]"
      ]
     },
     "execution_count": 7,
     "metadata": {},
     "output_type": "execute_result"
    }
   ],
   "source": [
    "df_sp500 = load_yahoo_csv(stock=\"SPX\")\n",
    "df_sp500[\"SPX\"] = df_sp500[\"SPX\"].str.replace(\",\", \"\").apply(float)\n",
    "df_sp500"
   ]
  },
  {
   "cell_type": "code",
   "execution_count": 8,
   "metadata": {},
   "outputs": [
    {
     "data": {
      "text/html": [
       "<div>\n",
       "<style scoped>\n",
       "    .dataframe tbody tr th:only-of-type {\n",
       "        vertical-align: middle;\n",
       "    }\n",
       "\n",
       "    .dataframe tbody tr th {\n",
       "        vertical-align: top;\n",
       "    }\n",
       "\n",
       "    .dataframe thead th {\n",
       "        text-align: right;\n",
       "    }\n",
       "</style>\n",
       "<table border=\"1\" class=\"dataframe\">\n",
       "  <thead>\n",
       "    <tr style=\"text-align: right;\">\n",
       "      <th></th>\n",
       "      <th>AAPL</th>\n",
       "      <th>AMZN</th>\n",
       "      <th>MSFT</th>\n",
       "      <th>TSLA</th>\n",
       "      <th>SPX</th>\n",
       "    </tr>\n",
       "    <tr>\n",
       "      <th>Date</th>\n",
       "      <th></th>\n",
       "      <th></th>\n",
       "      <th></th>\n",
       "      <th></th>\n",
       "      <th></th>\n",
       "    </tr>\n",
       "  </thead>\n",
       "  <tbody>\n",
       "    <tr>\n",
       "      <th>2024-04-08</th>\n",
       "      <td>168.449997</td>\n",
       "      <td>185.190002</td>\n",
       "      <td>424.589996</td>\n",
       "      <td>172.979996</td>\n",
       "      <td>5202.39</td>\n",
       "    </tr>\n",
       "    <tr>\n",
       "      <th>2024-04-09</th>\n",
       "      <td>169.669998</td>\n",
       "      <td>185.669998</td>\n",
       "      <td>426.279999</td>\n",
       "      <td>176.880005</td>\n",
       "      <td>5209.91</td>\n",
       "    </tr>\n",
       "    <tr>\n",
       "      <th>2024-04-10</th>\n",
       "      <td>167.779999</td>\n",
       "      <td>185.949997</td>\n",
       "      <td>423.260010</td>\n",
       "      <td>171.759995</td>\n",
       "      <td>5160.64</td>\n",
       "    </tr>\n",
       "    <tr>\n",
       "      <th>2024-04-11</th>\n",
       "      <td>175.039993</td>\n",
       "      <td>189.050003</td>\n",
       "      <td>427.929993</td>\n",
       "      <td>174.600006</td>\n",
       "      <td>5199.06</td>\n",
       "    </tr>\n",
       "    <tr>\n",
       "      <th>2024-04-12</th>\n",
       "      <td>176.550003</td>\n",
       "      <td>186.130005</td>\n",
       "      <td>421.899994</td>\n",
       "      <td>171.050003</td>\n",
       "      <td>5123.41</td>\n",
       "    </tr>\n",
       "    <tr>\n",
       "      <th>...</th>\n",
       "      <td>...</td>\n",
       "      <td>...</td>\n",
       "      <td>...</td>\n",
       "      <td>...</td>\n",
       "      <td>...</td>\n",
       "    </tr>\n",
       "    <tr>\n",
       "      <th>2024-06-28</th>\n",
       "      <td>210.619995</td>\n",
       "      <td>193.250000</td>\n",
       "      <td>446.950012</td>\n",
       "      <td>197.880005</td>\n",
       "      <td>5460.48</td>\n",
       "    </tr>\n",
       "    <tr>\n",
       "      <th>2024-07-01</th>\n",
       "      <td>216.750000</td>\n",
       "      <td>197.199997</td>\n",
       "      <td>456.730011</td>\n",
       "      <td>209.860001</td>\n",
       "      <td>5475.09</td>\n",
       "    </tr>\n",
       "    <tr>\n",
       "      <th>2024-07-02</th>\n",
       "      <td>220.270004</td>\n",
       "      <td>200.000000</td>\n",
       "      <td>459.279999</td>\n",
       "      <td>231.259995</td>\n",
       "      <td>5509.01</td>\n",
       "    </tr>\n",
       "    <tr>\n",
       "      <th>2024-07-03</th>\n",
       "      <td>221.550003</td>\n",
       "      <td>197.589996</td>\n",
       "      <td>460.769989</td>\n",
       "      <td>246.389999</td>\n",
       "      <td>5537.02</td>\n",
       "    </tr>\n",
       "    <tr>\n",
       "      <th>2024-07-05</th>\n",
       "      <td>226.339996</td>\n",
       "      <td>200.000000</td>\n",
       "      <td>467.559998</td>\n",
       "      <td>251.520004</td>\n",
       "      <td>5567.19</td>\n",
       "    </tr>\n",
       "  </tbody>\n",
       "</table>\n",
       "<p>62 rows × 5 columns</p>\n",
       "</div>"
      ],
      "text/plain": [
       "                  AAPL        AMZN        MSFT        TSLA      SPX\n",
       "Date                                                               \n",
       "2024-04-08  168.449997  185.190002  424.589996  172.979996  5202.39\n",
       "2024-04-09  169.669998  185.669998  426.279999  176.880005  5209.91\n",
       "2024-04-10  167.779999  185.949997  423.260010  171.759995  5160.64\n",
       "2024-04-11  175.039993  189.050003  427.929993  174.600006  5199.06\n",
       "2024-04-12  176.550003  186.130005  421.899994  171.050003  5123.41\n",
       "...                ...         ...         ...         ...      ...\n",
       "2024-06-28  210.619995  193.250000  446.950012  197.880005  5460.48\n",
       "2024-07-01  216.750000  197.199997  456.730011  209.860001  5475.09\n",
       "2024-07-02  220.270004  200.000000  459.279999  231.259995  5509.01\n",
       "2024-07-03  221.550003  197.589996  460.769989  246.389999  5537.02\n",
       "2024-07-05  226.339996  200.000000  467.559998  251.520004  5567.19\n",
       "\n",
       "[62 rows x 5 columns]"
      ]
     },
     "execution_count": 8,
     "metadata": {},
     "output_type": "execute_result"
    }
   ],
   "source": [
    "df[\"SPX\"] = df_sp500[\"SPX\"]\n",
    "df"
   ]
  },
  {
   "cell_type": "markdown",
   "metadata": {},
   "source": [
    "# Modeling"
   ]
  },
  {
   "cell_type": "markdown",
   "metadata": {},
   "source": [
    "> In this phase, various modeling techniques are selected and applied, and their parameters are calibrated to optimal values. Typically, there are several techniques for the same data mining problem type. Some techniques require specific data formats."
   ]
  },
  {
   "cell_type": "markdown",
   "metadata": {},
   "source": [
    "# Evaluation"
   ]
  },
  {
   "cell_type": "markdown",
   "metadata": {},
   "source": [
    "> At this stage in the project you have built one or more models that appear to have high quality, from a data analysis perspective. Before proceeding to final deployment of the model, it is important to more thoroughly evaluate the model, and review the steps executed to construct the model, to be certain it properly achieves the business objectives. A key objective is to determine if there is some important business issue that has not been sufficiently considered. At the end of this phase, a decision on the use of the data mining results should be reached."
   ]
  },
  {
   "cell_type": "markdown",
   "metadata": {},
   "source": [
    "# Deployment"
   ]
  },
  {
   "cell_type": "markdown",
   "metadata": {},
   "source": [
    "> Creation of the model is generally not the end of the project. Usually, the knowledge gained will need to be organized and presented in a way that the customer can use it. Depending on the requirements, the deployment phase can be as simple as generating a report or as complex as implementing a repeatable data mining process. In many cases it will be the user, not the data analyst, who will carry out the deployment steps. In any case, it is important to understand up front what actions will need to be carried out in order to actually make use of the created models."
   ]
  }
 ],
 "metadata": {
  "kernelspec": {
   "display_name": "Python 3",
   "language": "python",
   "name": "python3"
  },
  "language_info": {
   "codemirror_mode": {
    "name": "ipython",
    "version": 3
   },
   "file_extension": ".py",
   "mimetype": "text/x-python",
   "name": "python",
   "nbconvert_exporter": "python",
   "pygments_lexer": "ipython3",
   "version": "3.10.13"
  }
 },
 "nbformat": 4,
 "nbformat_minor": 2
}
