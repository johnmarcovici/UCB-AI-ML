{
 "cells": [
  {
   "cell_type": "markdown",
   "metadata": {},
   "source": [
    "# Introduction & Overview"
   ]
  },
  {
   "cell_type": "markdown",
   "metadata": {},
   "source": [
    "## Yes, the stock market\n",
    "\n",
    "This notebook provides an analysis and approach to stock-market activities. Every day the market is open, the question to the would-be trader presents:\n",
    "- Buy\n",
    "- Sell\n",
    "- Hold\n",
    "\n",
    "This notebook explores several approaches to answering this **daily* question.\n",
    "\n",
    "**daily*? Modern algorithmic trading asks not daily, but many times per second, whether to buy, sell, or hold. Being a lay practicioner without access to industrial trading tools, I approach this as a per-day question.\n",
    "\n",
    "## The CRISP-DM Framework\n",
    "\n",
    "The process is described according to the CRISP-DM framework, a standardized process to describe and proceed with a data-mining project such as this one."
   ]
  },
  {
   "cell_type": "markdown",
   "metadata": {},
   "source": [
    "# Imports"
   ]
  },
  {
   "cell_type": "code",
   "execution_count": null,
   "metadata": {},
   "outputs": [],
   "source": []
  },
  {
   "cell_type": "markdown",
   "metadata": {},
   "source": [
    "# Business Understanding"
   ]
  },
  {
   "cell_type": "markdown",
   "metadata": {},
   "source": [
    "# Data Understanding"
   ]
  },
  {
   "cell_type": "markdown",
   "metadata": {},
   "source": [
    "# Modeling"
   ]
  },
  {
   "cell_type": "markdown",
   "metadata": {},
   "source": [
    "# Evaluation"
   ]
  },
  {
   "cell_type": "markdown",
   "metadata": {},
   "source": [
    "# Deployment"
   ]
  }
 ],
 "metadata": {
  "language_info": {
   "name": "python"
  }
 },
 "nbformat": 4,
 "nbformat_minor": 2
}
