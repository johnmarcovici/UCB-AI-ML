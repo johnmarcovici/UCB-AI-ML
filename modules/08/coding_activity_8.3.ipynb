{
 "cells": [
  {
   "cell_type": "markdown",
   "metadata": {
    "deletable": false,
    "editable": false,
    "nbgrader": {
     "cell_type": "markdown",
     "checksum": "922011bc8cfa63c6e73de705eb9b9f4c",
     "grade": false,
     "grade_id": "cell-3042a1db8cbad898",
     "locked": true,
     "schema_version": 3,
     "solution": false
    }
   },
   "source": [
    "## Codio Activity 8.3: Scikit-Learn Pipelines\n",
    "\n",
    "**Estimated time: 60 minutes**\n",
    "\n",
    "**Total Points: 24 Points**\n",
    "\n",
    "This activity focuses on using the pipeline functionality of scikit-learn to combine a transformer with an estimator.  Specifically, you will combine the process of generating polynomial features with that of building a linear regression model.  You will use the `Pipeline` functionality from the `sklearn.pipeline` module to construct both a quadratic and cubic model.\n",
    "\n",
    "## Index:\n",
    "\n",
    " - [Problem 1](#Problem-1)\n",
    " - [Problem 2](#Problem-2)\n",
    " - [Problem 3](#Problem-3)\n",
    " - [Problem 4](#Problem-4)\n",
    " - [Problem 5](#Problem-5)\n",
    " - [Problem 6](#Problem-6)"
   ]
  },
  {
   "cell_type": "code",
   "execution_count": 12,
   "metadata": {},
   "outputs": [],
   "source": [
    "import numpy as np\n",
    "import pandas as pd\n",
    "import warnings\n",
    "from sklearn.pipeline import Pipeline, make_pipeline\n",
    "from sklearn.linear_model import LinearRegression\n",
    "from sklearn.preprocessing import PolynomialFeatures\n",
    "from sklearn.metrics import mean_squared_error\n",
    "\n",
    "warnings.filterwarnings(\"ignore\")"
   ]
  },
  {
   "cell_type": "markdown",
   "metadata": {
    "deletable": false,
    "editable": false,
    "nbgrader": {
     "cell_type": "markdown",
     "checksum": "d9516c702116cd4f57983c30dd1685c8",
     "grade": false,
     "grade_id": "cell-a7dd87f8a41867aa",
     "locked": true,
     "schema_version": 3,
     "solution": false
    }
   },
   "source": [
    "### The Data\n",
    "\n",
    "The data will again be the automobile dataset.  You are to use the pipelines to build quadratic features and linear models using `horsepower` to predict `mpg`.   "
   ]
  },
  {
   "cell_type": "code",
   "execution_count": 13,
   "metadata": {},
   "outputs": [],
   "source": [
    "auto = pd.read_csv(\"data/auto.csv\")"
   ]
  },
  {
   "cell_type": "code",
   "execution_count": 14,
   "metadata": {},
   "outputs": [
    {
     "data": {
      "text/html": [
       "<div>\n",
       "<style scoped>\n",
       "    .dataframe tbody tr th:only-of-type {\n",
       "        vertical-align: middle;\n",
       "    }\n",
       "\n",
       "    .dataframe tbody tr th {\n",
       "        vertical-align: top;\n",
       "    }\n",
       "\n",
       "    .dataframe thead th {\n",
       "        text-align: right;\n",
       "    }\n",
       "</style>\n",
       "<table border=\"1\" class=\"dataframe\">\n",
       "  <thead>\n",
       "    <tr style=\"text-align: right;\">\n",
       "      <th></th>\n",
       "      <th>mpg</th>\n",
       "      <th>cylinders</th>\n",
       "      <th>displacement</th>\n",
       "      <th>horsepower</th>\n",
       "      <th>weight</th>\n",
       "      <th>acceleration</th>\n",
       "      <th>year</th>\n",
       "      <th>origin</th>\n",
       "      <th>name</th>\n",
       "    </tr>\n",
       "  </thead>\n",
       "  <tbody>\n",
       "    <tr>\n",
       "      <th>0</th>\n",
       "      <td>18.0</td>\n",
       "      <td>8</td>\n",
       "      <td>307.0</td>\n",
       "      <td>130.0</td>\n",
       "      <td>3504</td>\n",
       "      <td>12.0</td>\n",
       "      <td>70</td>\n",
       "      <td>1</td>\n",
       "      <td>chevrolet chevelle malibu</td>\n",
       "    </tr>\n",
       "    <tr>\n",
       "      <th>1</th>\n",
       "      <td>15.0</td>\n",
       "      <td>8</td>\n",
       "      <td>350.0</td>\n",
       "      <td>165.0</td>\n",
       "      <td>3693</td>\n",
       "      <td>11.5</td>\n",
       "      <td>70</td>\n",
       "      <td>1</td>\n",
       "      <td>buick skylark 320</td>\n",
       "    </tr>\n",
       "    <tr>\n",
       "      <th>2</th>\n",
       "      <td>18.0</td>\n",
       "      <td>8</td>\n",
       "      <td>318.0</td>\n",
       "      <td>150.0</td>\n",
       "      <td>3436</td>\n",
       "      <td>11.0</td>\n",
       "      <td>70</td>\n",
       "      <td>1</td>\n",
       "      <td>plymouth satellite</td>\n",
       "    </tr>\n",
       "    <tr>\n",
       "      <th>3</th>\n",
       "      <td>16.0</td>\n",
       "      <td>8</td>\n",
       "      <td>304.0</td>\n",
       "      <td>150.0</td>\n",
       "      <td>3433</td>\n",
       "      <td>12.0</td>\n",
       "      <td>70</td>\n",
       "      <td>1</td>\n",
       "      <td>amc rebel sst</td>\n",
       "    </tr>\n",
       "    <tr>\n",
       "      <th>4</th>\n",
       "      <td>17.0</td>\n",
       "      <td>8</td>\n",
       "      <td>302.0</td>\n",
       "      <td>140.0</td>\n",
       "      <td>3449</td>\n",
       "      <td>10.5</td>\n",
       "      <td>70</td>\n",
       "      <td>1</td>\n",
       "      <td>ford torino</td>\n",
       "    </tr>\n",
       "  </tbody>\n",
       "</table>\n",
       "</div>"
      ],
      "text/plain": [
       "    mpg  cylinders  displacement  horsepower  weight  acceleration  year  \\\n",
       "0  18.0          8         307.0       130.0    3504          12.0    70   \n",
       "1  15.0          8         350.0       165.0    3693          11.5    70   \n",
       "2  18.0          8         318.0       150.0    3436          11.0    70   \n",
       "3  16.0          8         304.0       150.0    3433          12.0    70   \n",
       "4  17.0          8         302.0       140.0    3449          10.5    70   \n",
       "\n",
       "   origin                       name  \n",
       "0       1  chevrolet chevelle malibu  \n",
       "1       1          buick skylark 320  \n",
       "2       1         plymouth satellite  \n",
       "3       1              amc rebel sst  \n",
       "4       1                ford torino  "
      ]
     },
     "execution_count": 14,
     "metadata": {},
     "output_type": "execute_result"
    }
   ],
   "source": [
    "auto.head()"
   ]
  },
  {
   "cell_type": "markdown",
   "metadata": {
    "deletable": false,
    "editable": false,
    "nbgrader": {
     "cell_type": "markdown",
     "checksum": "9e62f9f6d21c5a92ff6ad667a17b0fcd",
     "grade": false,
     "grade_id": "cell-a087e170995820d9",
     "locked": true,
     "schema_version": 3,
     "solution": false
    }
   },
   "source": [
    "[Back to top](#Index:) \n",
    "\n",
    "## Problem 1\n",
    "\n",
    "### Creating a `Pipeline`\n",
    "\n",
    "**4 Points**\n",
    "\n",
    "First, you are to use a `Pipeline` to combine `PolynomialFeatures` and `LinearRegression`.  Be sure to set `degree=2` in the transformer, and leave all the arguments as default in your regressor.  Instantiate your pipeline as `pipe` below.  Name the transformer `quad_features` and the regressor `quad_model` inside the pipeline object. "
   ]
  },
  {
   "cell_type": "code",
   "execution_count": 15,
   "metadata": {
    "deletable": false,
    "nbgrader": {
     "cell_type": "code",
     "checksum": "f23bb353d212fc83b09d8c7871ddcf0a",
     "grade": false,
     "grade_id": "cell-45545d7d4b3d6d06",
     "locked": false,
     "schema_version": 3,
     "solution": true
    }
   },
   "outputs": [
    {
     "name": "stdout",
     "output_type": "stream",
     "text": [
      "<class 'sklearn.pipeline.Pipeline'>\n",
      "{'quad_features': PolynomialFeatures(), 'quad_model': LinearRegression()}\n"
     ]
    }
   ],
   "source": [
    "### GRADED\n",
    "\n",
    "pipe = Pipeline(\n",
    "    [\n",
    "        (\"quad_features\", PolynomialFeatures(degree=2)),\n",
    "        (\"quad_model\", LinearRegression()),\n",
    "    ]\n",
    ")\n",
    "\n",
    "# Answer check\n",
    "print(type(pipe))\n",
    "print(pipe.named_steps)"
   ]
  },
  {
   "cell_type": "code",
   "execution_count": null,
   "metadata": {
    "deletable": false,
    "editable": false,
    "nbgrader": {
     "cell_type": "code",
     "checksum": "c03d529a0f90b65bb9f16367241d45bf",
     "grade": true,
     "grade_id": "cell-0cca3f66e1c4c58f",
     "locked": true,
     "points": 4,
     "schema_version": 3,
     "solution": false
    }
   },
   "outputs": [],
   "source": []
  },
  {
   "cell_type": "markdown",
   "metadata": {
    "deletable": false,
    "editable": false,
    "nbgrader": {
     "cell_type": "markdown",
     "checksum": "c3217e58d66ab1aa399b6ec4a10ea324",
     "grade": false,
     "grade_id": "cell-f3aa1be4bb696b4b",
     "locked": true,
     "schema_version": 3,
     "solution": false
    }
   },
   "source": [
    "[Back to top](#Index:) \n",
    "\n",
    "## Problem 2\n",
    "\n",
    "### Fitting the Pipeline\n",
    "\n",
    "**4 Points**\n",
    "\n",
    "Fit the `pipe` object created above using `horsepower` to predict `mpg`.  Use the fit pipeline to determine the `mean_squared_error` of your model, and assign the value as a float to `quad_pipe_mse` below.  "
   ]
  },
  {
   "cell_type": "code",
   "execution_count": 16,
   "metadata": {
    "deletable": false,
    "nbgrader": {
     "cell_type": "code",
     "checksum": "d6299e078eaa2bebbeddbb685d5d73aa",
     "grade": false,
     "grade_id": "cell-31e25347b1f2f523",
     "locked": false,
     "schema_version": 3,
     "solution": true
    }
   },
   "outputs": [
    {
     "name": "stdout",
     "output_type": "stream",
     "text": [
      "<class 'float'>\n",
      "18.98476890761722\n"
     ]
    }
   ],
   "source": [
    "### GRADED\n",
    "\n",
    "X = auto[[\"horsepower\"]]\n",
    "y = auto[\"mpg\"]\n",
    "pipe.fit(X, y)\n",
    "quad_pipe_mse = float(mean_squared_error(y, pipe.predict(X)))\n",
    "\n",
    "# Answer check\n",
    "print(type(quad_pipe_mse))\n",
    "print(quad_pipe_mse)"
   ]
  },
  {
   "cell_type": "code",
   "execution_count": null,
   "metadata": {
    "deletable": false,
    "editable": false,
    "nbgrader": {
     "cell_type": "code",
     "checksum": "018dc071dca847aa416ee29ecf0b341d",
     "grade": true,
     "grade_id": "cell-f780d261f9bb7b03",
     "locked": true,
     "points": 4,
     "schema_version": 3,
     "solution": false
    }
   },
   "outputs": [],
   "source": []
  },
  {
   "cell_type": "markdown",
   "metadata": {
    "deletable": false,
    "editable": false,
    "nbgrader": {
     "cell_type": "markdown",
     "checksum": "5165750107dcd49896998362e0cfa56e",
     "grade": false,
     "grade_id": "cell-d78d567d95b826be",
     "locked": true,
     "schema_version": 3,
     "solution": false
    }
   },
   "source": [
    "[Back to top](#Index:) \n",
    "\n",
    "## Problem 3\n",
    "\n",
    "### Examining the Coefficients\n",
    "\n",
    "**4 Points**\n",
    "\n",
    "Now, to examine the coefficients, use the `.named_steps` attribute of the pipeline object to extract the regressor.  Assign the model as an sklearn `LinearRegression` estimator to `quad_reg` below.  Extract the coefficients from the model and assign these as an array to the variable `coefs`."
   ]
  },
  {
   "cell_type": "code",
   "execution_count": 17,
   "metadata": {
    "deletable": false,
    "nbgrader": {
     "cell_type": "code",
     "checksum": "d9b0630500bcd9f9b8e29d7fe9be4602",
     "grade": false,
     "grade_id": "cell-807f8b5ae5f29a14",
     "locked": false,
     "schema_version": 3,
     "solution": true
    }
   },
   "outputs": [
    {
     "name": "stdout",
     "output_type": "stream",
     "text": [
      "<class 'sklearn.linear_model._base.LinearRegression'>\n",
      "[ 0.         -0.46618963  0.00123054]\n"
     ]
    }
   ],
   "source": [
    "### GRADED\n",
    "\n",
    "quad_reg = pipe.named_steps[\"quad_model\"]\n",
    "coefs = quad_reg.coef_  # coefficients of regressor\n",
    "\n",
    "# Answer check\n",
    "print(type(quad_reg))\n",
    "print(coefs)"
   ]
  },
  {
   "cell_type": "code",
   "execution_count": null,
   "metadata": {
    "deletable": false,
    "editable": false,
    "nbgrader": {
     "cell_type": "code",
     "checksum": "d53296ec148d2ef5164a8e8e84db1a58",
     "grade": true,
     "grade_id": "cell-db0bcbb3330ea06c",
     "locked": true,
     "points": 4,
     "schema_version": 3,
     "solution": false
    }
   },
   "outputs": [],
   "source": []
  },
  {
   "cell_type": "markdown",
   "metadata": {
    "deletable": false,
    "editable": false,
    "nbgrader": {
     "cell_type": "markdown",
     "checksum": "c28a24dea50a71be02de534915a573b2",
     "grade": false,
     "grade_id": "cell-19f7d1acd5fc1409",
     "locked": true,
     "schema_version": 3,
     "solution": false
    }
   },
   "source": [
    "[Back to top](#Index:) \n",
    "\n",
    "## Problem 4\n",
    "\n",
    "### Considering the Bias \n",
    "\n",
    "**4 Points**\n",
    "\n",
    "Not that your coefficients have 3 values.  Your model also contains an intercept term though, and this leads to one more value than expected from a quadratic model with one input feature.  This is due to the inclusion of the bias term using `PolynomialFeatures` and the intercept term added with the `fit_intercept = True` default setting in the regressor.  \n",
    "\n",
    "\n",
    "To get the appropriate model coefficients and intercept, you can set `include_bias = False` in the `PolynomialFeatures` transformer.  Build and fit a new pipeline named `pipe_no_bias` below.  Use the same names for the transformer and estimator in the pipeline -- `quad_features` and `quad_model`.  Determine the mean squared error of the new model and assign it as a float to `no_bias_mse`.  "
   ]
  },
  {
   "cell_type": "code",
   "execution_count": 18,
   "metadata": {
    "deletable": false,
    "nbgrader": {
     "cell_type": "code",
     "checksum": "cb876c75227092f96660e92ce086c72c",
     "grade": false,
     "grade_id": "cell-6a37caec775bf924",
     "locked": false,
     "schema_version": 3,
     "solution": true
    }
   },
   "outputs": [
    {
     "name": "stdout",
     "output_type": "stream",
     "text": [
      "<class 'sklearn.pipeline.Pipeline'>\n",
      "18.98476890761722\n",
      "[56.90009970211294, array([-0.46618963,  0.00123054])]\n"
     ]
    }
   ],
   "source": [
    "### GRADED\n",
    "\n",
    "pipe_no_bias = Pipeline(\n",
    "    [\n",
    "        (\"quad_features\", PolynomialFeatures(degree=2, include_bias=False)),\n",
    "        (\"quad_model\", LinearRegression()),\n",
    "    ]\n",
    ")\n",
    "X = auto[[\"horsepower\"]]\n",
    "y = auto[\"mpg\"]\n",
    "pipe_no_bias.fit(X, y)\n",
    "no_bias_mse = mean_squared_error(y, pipe_no_bias.predict(X))\n",
    "\n",
    "\n",
    "# Answer check\n",
    "print(type(pipe_no_bias))\n",
    "print(no_bias_mse)\n",
    "print([pipe_no_bias[-1].intercept_, pipe_no_bias[-1].coef_])"
   ]
  },
  {
   "cell_type": "code",
   "execution_count": null,
   "metadata": {
    "deletable": false,
    "editable": false,
    "nbgrader": {
     "cell_type": "code",
     "checksum": "608f15d13356f7ba31119470e7174d78",
     "grade": true,
     "grade_id": "cell-55819277908d4915",
     "locked": true,
     "points": 4,
     "schema_version": 3,
     "solution": false
    }
   },
   "outputs": [],
   "source": []
  },
  {
   "cell_type": "markdown",
   "metadata": {
    "deletable": false,
    "editable": false,
    "nbgrader": {
     "cell_type": "markdown",
     "checksum": "b6959e2b8120cd387871660040ffd8d1",
     "grade": false,
     "grade_id": "cell-febbe9eb5dc8fd00",
     "locked": true,
     "schema_version": 3,
     "solution": false
    }
   },
   "source": [
    "[Back to top](#Index:) \n",
    "\n",
    "## Problem 5\n",
    "\n",
    "### Building a Cubic Model with `Pipeline`\n",
    "\n",
    "**4 Points**\n",
    "\n",
    "Now, build a cubic model using `PolynomialFeatures` with `degree = 3`.  Instantiate the pipeline as `cubic_pipe` below, and remember to drop the bias term from the transformer.  Save your cubic models mean squared error as a float to `cubic_mse` below."
   ]
  },
  {
   "cell_type": "code",
   "execution_count": 19,
   "metadata": {
    "deletable": false,
    "nbgrader": {
     "cell_type": "code",
     "checksum": "6dc4f21b83f566541ea3b25e64c47234",
     "grade": false,
     "grade_id": "cell-b8510ea1501a3e15",
     "locked": false,
     "schema_version": 3,
     "solution": true
    }
   },
   "outputs": [
    {
     "name": "stdout",
     "output_type": "stream",
     "text": [
      "<class 'sklearn.pipeline.Pipeline'>\n",
      "18.94498981448592\n",
      "[60.68478490666064, array([-5.68850128e-01,  2.07901126e-03, -2.14662591e-06])]\n"
     ]
    }
   ],
   "source": [
    "cubic_pipe = Pipeline(\n",
    "    [\n",
    "        (\"quad_features\", PolynomialFeatures(degree=3, include_bias=False)),\n",
    "        (\"quad_model\", LinearRegression()),\n",
    "    ]\n",
    ")\n",
    "X = auto[[\"horsepower\"]]\n",
    "y = auto[\"mpg\"]\n",
    "cubic_pipe.fit(X, y)\n",
    "cubic_mse = mean_squared_error(y, cubic_pipe.predict(X))\n",
    "\n",
    "# Answer check\n",
    "print(type(cubic_pipe))\n",
    "print(cubic_mse)\n",
    "print([cubic_pipe[-1].intercept_, cubic_pipe[-1].coef_])"
   ]
  },
  {
   "cell_type": "code",
   "execution_count": null,
   "metadata": {
    "deletable": false,
    "editable": false,
    "nbgrader": {
     "cell_type": "code",
     "checksum": "965985e10fbd8444bc940cf25cfb7000",
     "grade": true,
     "grade_id": "cell-662c2518e35bb7d0",
     "locked": true,
     "points": 4,
     "schema_version": 3,
     "solution": false
    }
   },
   "outputs": [],
   "source": []
  },
  {
   "cell_type": "markdown",
   "metadata": {
    "deletable": false,
    "editable": false,
    "nbgrader": {
     "cell_type": "markdown",
     "checksum": "32a42744ca5d27789f73c7f49dade3d5",
     "grade": false,
     "grade_id": "cell-4cccb0191c2980c8",
     "locked": true,
     "schema_version": 3,
     "solution": false
    }
   },
   "source": [
    "[Back to top](#Index:) \n",
    "\n",
    "## Problem 6\n",
    "\n",
    "### Making Predictions on New Data\n",
    "\n",
    "**4 Points**\n",
    "\n",
    "Finally, one of the main benefits derived from using a Pipeline is that you do not need to engineer new polynomial features when predicting with new data.  Use your cubic pipeline to predict the `mpg` for a vehicle with 200 horsepower.  Assign your prediction as a numpy array to `cube_predict` below."
   ]
  },
  {
   "cell_type": "code",
   "execution_count": 20,
   "metadata": {
    "deletable": false,
    "nbgrader": {
     "cell_type": "code",
     "checksum": "9abac854ea10495841ca03e4ad2f0f17",
     "grade": false,
     "grade_id": "cell-1ff65cb4b2f75fc1",
     "locked": false,
     "schema_version": 3,
     "solution": true
    }
   },
   "outputs": [
    {
     "name": "stdout",
     "output_type": "stream",
     "text": [
      "<class 'numpy.ndarray'>\n",
      "[12.90220247]\n"
     ]
    }
   ],
   "source": [
    "cube_predict = cubic_pipe.predict([[200]])  # cubic pipe prediction\n",
    "\n",
    "# Answer check\n",
    "print(type(cube_predict))\n",
    "print(cube_predict)"
   ]
  },
  {
   "cell_type": "code",
   "execution_count": null,
   "metadata": {
    "deletable": false,
    "editable": false,
    "nbgrader": {
     "cell_type": "code",
     "checksum": "d4db7e4afb227ef6b10438988f2014ab",
     "grade": true,
     "grade_id": "cell-34dd0745b01d9949",
     "locked": true,
     "points": 4,
     "schema_version": 3,
     "solution": false
    }
   },
   "outputs": [],
   "source": []
  }
 ],
 "metadata": {
  "kernelspec": {
   "display_name": "Python 3 (ipykernel)",
   "language": "python",
   "name": "python3"
  },
  "language_info": {
   "codemirror_mode": {
    "name": "ipython",
    "version": 3
   },
   "file_extension": ".py",
   "mimetype": "text/x-python",
   "name": "python",
   "nbconvert_exporter": "python",
   "pygments_lexer": "ipython3",
   "version": "3.9.2"
  },
  "widgets": {
   "application/vnd.jupyter.widget-state+json": {
    "state": {},
    "version_major": 2,
    "version_minor": 0
   }
  }
 },
 "nbformat": 4,
 "nbformat_minor": 4
}
