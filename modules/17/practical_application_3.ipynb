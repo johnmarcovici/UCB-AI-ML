{
 "cells": [
  {
   "cell_type": "markdown",
   "metadata": {},
   "source": [
    "# Imports"
   ]
  },
  {
   "cell_type": "code",
   "execution_count": 1,
   "metadata": {},
   "outputs": [],
   "source": [
    "import pandas as pd\n",
    "import numpy as np\n",
    "import matplotlib.pyplot as plt\n",
    "from sklearn.model_selection import train_test_split, GridSearchCV\n",
    "from sklearn.linear_model import LogisticRegression, Perceptron\n",
    "from sklearn.neighbors import KNeighborsClassifier\n",
    "from sklearn.svm import SVC\n",
    "from sklearn.tree import DecisionTreeClassifier\n",
    "from sklearn.preprocessing import StandardScaler, OneHotEncoder\n",
    "from sklearn.pipeline import Pipeline\n",
    "from sklearn.compose import make_column_transformer, make_column_selector\n",
    "from sklearn.inspection import permutation_importance\n",
    "\n",
    "from sklearn.metrics import (\n",
    "    accuracy_score,\n",
    "    balanced_accuracy_score,\n",
    "    recall_score,\n",
    "    precision_score,\n",
    "    f1_score,\n",
    ")\n",
    "\n",
    "from time import time\n",
    "import warnings\n",
    "\n",
    "warnings.filterwarnings(\"ignore\")\n",
    "pd.set_option(\"display.max_columns\", None)\n",
    "plt.rcParams.update({\"axes.grid\": True, \"figure.figsize\": (8, 4)})"
   ]
  },
  {
   "cell_type": "markdown",
   "metadata": {},
   "source": [
    "# Practical Application III: Comparing Classifiers\n",
    "\n",
    "**Overview**: In this practical application, your goal is to compare the performance of the classifiers we encountered in this section, namely K Nearest Neighbor, Logistic Regression, Decision Trees, and Support Vector Machines.  We will utilize a dataset related to marketing bank products over the telephone.  \n",
    "\n"
   ]
  },
  {
   "cell_type": "markdown",
   "metadata": {},
   "source": [
    "### Getting Started\n",
    "\n",
    "Our dataset comes from the UCI Machine Learning repository [link](https://archive.ics.uci.edu/ml/datasets/bank+marketing).  The data is from a Portugese banking institution and is a collection of the results of multiple marketing campaigns.  We will make use of the article accompanying the dataset [here](./data/CRISP-DM-BANK.pdf) for more information on the data and features."
   ]
  },
  {
   "cell_type": "markdown",
   "metadata": {},
   "source": [
    "### Problem 1: Understanding the Data\n",
    "\n",
    "To gain a better understanding of the data, please read the information provided in the UCI link above, and examine the **Materials and Methods** section of the paper.  How many marketing campaigns does this data represent?"
   ]
  },
  {
   "cell_type": "markdown",
   "metadata": {},
   "source": [
    "From the paper, we have this quote:\n",
    ">The dataset collected is related to 17 campaigns that occurred between May 2008 and November 2010, corresponding to a total of 79354 contacts."
   ]
  },
  {
   "cell_type": "markdown",
   "metadata": {},
   "source": [
    "### Problem 2: Read in the Data\n",
    "\n",
    "Use pandas to read in the dataset `bank-additional-full.csv` and assign to a meaningful variable name."
   ]
  },
  {
   "cell_type": "code",
   "execution_count": 2,
   "metadata": {},
   "outputs": [
    {
     "data": {
      "text/html": [
       "<div>\n",
       "<style scoped>\n",
       "    .dataframe tbody tr th:only-of-type {\n",
       "        vertical-align: middle;\n",
       "    }\n",
       "\n",
       "    .dataframe tbody tr th {\n",
       "        vertical-align: top;\n",
       "    }\n",
       "\n",
       "    .dataframe thead th {\n",
       "        text-align: right;\n",
       "    }\n",
       "</style>\n",
       "<table border=\"1\" class=\"dataframe\">\n",
       "  <thead>\n",
       "    <tr style=\"text-align: right;\">\n",
       "      <th></th>\n",
       "      <th>age</th>\n",
       "      <th>job</th>\n",
       "      <th>marital</th>\n",
       "      <th>education</th>\n",
       "      <th>default</th>\n",
       "      <th>housing</th>\n",
       "      <th>loan</th>\n",
       "      <th>contact</th>\n",
       "      <th>month</th>\n",
       "      <th>day_of_week</th>\n",
       "      <th>duration</th>\n",
       "      <th>campaign</th>\n",
       "      <th>pdays</th>\n",
       "      <th>previous</th>\n",
       "      <th>poutcome</th>\n",
       "      <th>emp.var.rate</th>\n",
       "      <th>cons.price.idx</th>\n",
       "      <th>cons.conf.idx</th>\n",
       "      <th>euribor3m</th>\n",
       "      <th>nr.employed</th>\n",
       "      <th>y</th>\n",
       "    </tr>\n",
       "  </thead>\n",
       "  <tbody>\n",
       "    <tr>\n",
       "      <th>0</th>\n",
       "      <td>56</td>\n",
       "      <td>housemaid</td>\n",
       "      <td>married</td>\n",
       "      <td>basic.4y</td>\n",
       "      <td>no</td>\n",
       "      <td>no</td>\n",
       "      <td>no</td>\n",
       "      <td>telephone</td>\n",
       "      <td>may</td>\n",
       "      <td>mon</td>\n",
       "      <td>261</td>\n",
       "      <td>1</td>\n",
       "      <td>999</td>\n",
       "      <td>0</td>\n",
       "      <td>nonexistent</td>\n",
       "      <td>1.1</td>\n",
       "      <td>93.994</td>\n",
       "      <td>-36.4</td>\n",
       "      <td>4.857</td>\n",
       "      <td>5191.0</td>\n",
       "      <td>no</td>\n",
       "    </tr>\n",
       "    <tr>\n",
       "      <th>1</th>\n",
       "      <td>57</td>\n",
       "      <td>services</td>\n",
       "      <td>married</td>\n",
       "      <td>high.school</td>\n",
       "      <td>unknown</td>\n",
       "      <td>no</td>\n",
       "      <td>no</td>\n",
       "      <td>telephone</td>\n",
       "      <td>may</td>\n",
       "      <td>mon</td>\n",
       "      <td>149</td>\n",
       "      <td>1</td>\n",
       "      <td>999</td>\n",
       "      <td>0</td>\n",
       "      <td>nonexistent</td>\n",
       "      <td>1.1</td>\n",
       "      <td>93.994</td>\n",
       "      <td>-36.4</td>\n",
       "      <td>4.857</td>\n",
       "      <td>5191.0</td>\n",
       "      <td>no</td>\n",
       "    </tr>\n",
       "    <tr>\n",
       "      <th>2</th>\n",
       "      <td>37</td>\n",
       "      <td>services</td>\n",
       "      <td>married</td>\n",
       "      <td>high.school</td>\n",
       "      <td>no</td>\n",
       "      <td>yes</td>\n",
       "      <td>no</td>\n",
       "      <td>telephone</td>\n",
       "      <td>may</td>\n",
       "      <td>mon</td>\n",
       "      <td>226</td>\n",
       "      <td>1</td>\n",
       "      <td>999</td>\n",
       "      <td>0</td>\n",
       "      <td>nonexistent</td>\n",
       "      <td>1.1</td>\n",
       "      <td>93.994</td>\n",
       "      <td>-36.4</td>\n",
       "      <td>4.857</td>\n",
       "      <td>5191.0</td>\n",
       "      <td>no</td>\n",
       "    </tr>\n",
       "    <tr>\n",
       "      <th>3</th>\n",
       "      <td>40</td>\n",
       "      <td>admin.</td>\n",
       "      <td>married</td>\n",
       "      <td>basic.6y</td>\n",
       "      <td>no</td>\n",
       "      <td>no</td>\n",
       "      <td>no</td>\n",
       "      <td>telephone</td>\n",
       "      <td>may</td>\n",
       "      <td>mon</td>\n",
       "      <td>151</td>\n",
       "      <td>1</td>\n",
       "      <td>999</td>\n",
       "      <td>0</td>\n",
       "      <td>nonexistent</td>\n",
       "      <td>1.1</td>\n",
       "      <td>93.994</td>\n",
       "      <td>-36.4</td>\n",
       "      <td>4.857</td>\n",
       "      <td>5191.0</td>\n",
       "      <td>no</td>\n",
       "    </tr>\n",
       "    <tr>\n",
       "      <th>4</th>\n",
       "      <td>56</td>\n",
       "      <td>services</td>\n",
       "      <td>married</td>\n",
       "      <td>high.school</td>\n",
       "      <td>no</td>\n",
       "      <td>no</td>\n",
       "      <td>yes</td>\n",
       "      <td>telephone</td>\n",
       "      <td>may</td>\n",
       "      <td>mon</td>\n",
       "      <td>307</td>\n",
       "      <td>1</td>\n",
       "      <td>999</td>\n",
       "      <td>0</td>\n",
       "      <td>nonexistent</td>\n",
       "      <td>1.1</td>\n",
       "      <td>93.994</td>\n",
       "      <td>-36.4</td>\n",
       "      <td>4.857</td>\n",
       "      <td>5191.0</td>\n",
       "      <td>no</td>\n",
       "    </tr>\n",
       "  </tbody>\n",
       "</table>\n",
       "</div>"
      ],
      "text/plain": [
       "   age        job  marital    education  default housing loan    contact  \\\n",
       "0   56  housemaid  married     basic.4y       no      no   no  telephone   \n",
       "1   57   services  married  high.school  unknown      no   no  telephone   \n",
       "2   37   services  married  high.school       no     yes   no  telephone   \n",
       "3   40     admin.  married     basic.6y       no      no   no  telephone   \n",
       "4   56   services  married  high.school       no      no  yes  telephone   \n",
       "\n",
       "  month day_of_week  duration  campaign  pdays  previous     poutcome  \\\n",
       "0   may         mon       261         1    999         0  nonexistent   \n",
       "1   may         mon       149         1    999         0  nonexistent   \n",
       "2   may         mon       226         1    999         0  nonexistent   \n",
       "3   may         mon       151         1    999         0  nonexistent   \n",
       "4   may         mon       307         1    999         0  nonexistent   \n",
       "\n",
       "   emp.var.rate  cons.price.idx  cons.conf.idx  euribor3m  nr.employed   y  \n",
       "0           1.1          93.994          -36.4      4.857       5191.0  no  \n",
       "1           1.1          93.994          -36.4      4.857       5191.0  no  \n",
       "2           1.1          93.994          -36.4      4.857       5191.0  no  \n",
       "3           1.1          93.994          -36.4      4.857       5191.0  no  \n",
       "4           1.1          93.994          -36.4      4.857       5191.0  no  "
      ]
     },
     "execution_count": 2,
     "metadata": {},
     "output_type": "execute_result"
    }
   ],
   "source": [
    "df = pd.read_csv(\"./data/bank-additional-full.csv\", sep=\";\")\n",
    "df.head()"
   ]
  },
  {
   "cell_type": "markdown",
   "metadata": {},
   "source": [
    "To make the development faster, pick a random subset of the data"
   ]
  },
  {
   "cell_type": "code",
   "execution_count": 3,
   "metadata": {},
   "outputs": [],
   "source": [
    "df = df.sample(frac=0.05, random_state=42)"
   ]
  },
  {
   "cell_type": "markdown",
   "metadata": {},
   "source": [
    "### Problem 3: Understanding the Features\n",
    "\n",
    "\n",
    "Examine the data description below, and determine if any of the features are missing values or need to be coerced to a different data type.\n",
    "\n",
    "\n",
    "```\n",
    "Input variables:\n",
    "# bank client data:\n",
    "1 - age (numeric)\n",
    "2 - job : type of job (categorical: 'admin.','blue-collar','entrepreneur','housemaid','management','retired','self-employed','services','student','technician','unemployed','unknown')\n",
    "3 - marital : marital status (categorical: 'divorced','married','single','unknown'; note: 'divorced' means divorced or widowed)\n",
    "4 - education (categorical: 'basic.4y','basic.6y','basic.9y','high.school','illiterate','professional.course','university.degree','unknown')\n",
    "5 - default: has credit in default? (categorical: 'no','yes','unknown')\n",
    "6 - housing: has housing loan? (categorical: 'no','yes','unknown')\n",
    "7 - loan: has personal loan? (categorical: 'no','yes','unknown')\n",
    "# related with the last contact of the current campaign:\n",
    "8 - contact: contact communication type (categorical: 'cellular','telephone')\n",
    "9 - month: last contact month of year (categorical: 'jan', 'feb', 'mar', ..., 'nov', 'dec')\n",
    "10 - day_of_week: last contact day of the week (categorical: 'mon','tue','wed','thu','fri')\n",
    "11 - duration: last contact duration, in seconds (numeric). Important note: this attribute highly affects the output target (e.g., if duration=0 then y='no'). Yet, the duration is not known before a call is performed. Also, after the end of the call y is obviously known. Thus, this input should only be included for benchmark purposes and should be discarded if the intention is to have a realistic predictive model.\n",
    "# other attributes:\n",
    "12 - campaign: number of contacts performed during this campaign and for this client (numeric, includes last contact)\n",
    "13 - pdays: number of days that passed by after the client was last contacted from a previous campaign (numeric; 999 means client was not previously contacted)\n",
    "14 - previous: number of contacts performed before this campaign and for this client (numeric)\n",
    "15 - poutcome: outcome of the previous marketing campaign (categorical: 'failure','nonexistent','success')\n",
    "# social and economic context attributes\n",
    "16 - emp.var.rate: employment variation rate - quarterly indicator (numeric)\n",
    "17 - cons.price.idx: consumer price index - monthly indicator (numeric)\n",
    "18 - cons.conf.idx: consumer confidence index - monthly indicator (numeric)\n",
    "19 - euribor3m: euribor 3 month rate - daily indicator (numeric)\n",
    "20 - nr.employed: number of employees - quarterly indicator (numeric)\n",
    "\n",
    "Output variable (desired target):\n",
    "21 - y - has the client subscribed a term deposit? (binary: 'yes','no')\n",
    "```\n",
    "\n"
   ]
  },
  {
   "cell_type": "code",
   "execution_count": 4,
   "metadata": {},
   "outputs": [
    {
     "name": "stdout",
     "output_type": "stream",
     "text": [
      "<class 'pandas.core.frame.DataFrame'>\n",
      "Index: 2059 entries, 32884 to 25526\n",
      "Data columns (total 21 columns):\n",
      " #   Column          Non-Null Count  Dtype  \n",
      "---  ------          --------------  -----  \n",
      " 0   age             2059 non-null   int64  \n",
      " 1   job             2059 non-null   object \n",
      " 2   marital         2059 non-null   object \n",
      " 3   education       2059 non-null   object \n",
      " 4   default         2059 non-null   object \n",
      " 5   housing         2059 non-null   object \n",
      " 6   loan            2059 non-null   object \n",
      " 7   contact         2059 non-null   object \n",
      " 8   month           2059 non-null   object \n",
      " 9   day_of_week     2059 non-null   object \n",
      " 10  duration        2059 non-null   int64  \n",
      " 11  campaign        2059 non-null   int64  \n",
      " 12  pdays           2059 non-null   int64  \n",
      " 13  previous        2059 non-null   int64  \n",
      " 14  poutcome        2059 non-null   object \n",
      " 15  emp.var.rate    2059 non-null   float64\n",
      " 16  cons.price.idx  2059 non-null   float64\n",
      " 17  cons.conf.idx   2059 non-null   float64\n",
      " 18  euribor3m       2059 non-null   float64\n",
      " 19  nr.employed     2059 non-null   float64\n",
      " 20  y               2059 non-null   object \n",
      "dtypes: float64(5), int64(5), object(11)\n",
      "memory usage: 353.9+ KB\n"
     ]
    }
   ],
   "source": [
    "df.info()"
   ]
  },
  {
   "cell_type": "code",
   "execution_count": 5,
   "metadata": {},
   "outputs": [
    {
     "data": {
      "text/plain": [
       "age               0\n",
       "job               0\n",
       "marital           0\n",
       "education         0\n",
       "default           0\n",
       "housing           0\n",
       "loan              0\n",
       "contact           0\n",
       "month             0\n",
       "day_of_week       0\n",
       "duration          0\n",
       "campaign          0\n",
       "pdays             0\n",
       "previous          0\n",
       "poutcome          0\n",
       "emp.var.rate      0\n",
       "cons.price.idx    0\n",
       "cons.conf.idx     0\n",
       "euribor3m         0\n",
       "nr.employed       0\n",
       "y                 0\n",
       "dtype: int64"
      ]
     },
     "execution_count": 5,
     "metadata": {},
     "output_type": "execute_result"
    }
   ],
   "source": [
    "df.isna().sum()"
   ]
  },
  {
   "cell_type": "code",
   "execution_count": 6,
   "metadata": {},
   "outputs": [
    {
     "data": {
      "text/plain": [
       "pdays\n",
       "999    95.628946\n",
       "6       1.311316\n",
       "3       1.068480\n",
       "7       0.291404\n",
       "4       0.242836\n",
       "13      0.242836\n",
       "9       0.242836\n",
       "10      0.194269\n",
       "5       0.194269\n",
       "12      0.145702\n",
       "2       0.145702\n",
       "1       0.097135\n",
       "14      0.048567\n",
       "15      0.048567\n",
       "16      0.048567\n",
       "0       0.048567\n",
       "Name: proportion, dtype: float64"
      ]
     },
     "execution_count": 6,
     "metadata": {},
     "output_type": "execute_result"
    }
   ],
   "source": [
    "df[\"pdays\"].value_counts(normalize=True) * 100.0"
   ]
  },
  {
   "cell_type": "markdown",
   "metadata": {},
   "source": [
    "Observations\n",
    "- No columns are missing data\n",
    "- The string (object) features can be coerced with 1-hot encoding\n",
    "- The feature `duration` will be dropped per the description that it is not knowable a-priori therefore not valid to include in a predictive model\n",
    "- The feature `pdays` will be dropped because 96% of them are invalid / never been contacted\n",
    "- The numeric features can be processed with standard scaling"
   ]
  },
  {
   "cell_type": "markdown",
   "metadata": {},
   "source": [
    "### Problem 4: Understanding the Task\n",
    "\n",
    "After examining the description and data, your goal now is to clearly state the *Business Objective* of the task.  State the objective below."
   ]
  },
  {
   "cell_type": "markdown",
   "metadata": {},
   "source": [
    "From the paper, we have this quote:\n",
    ">... the goal was to increase efficiency of directed campaigns for long-term deposit subscriptions by reducing the number of contacts to do\n",
    "\n",
    "They are looking for a way to increase the economic effectivity of a bank by making its marketing campaigns more efficient. Instead of mass campaigns, they want to use direct marketing, but in a way that maintains acceptance rate while requiring less contacts per customer."
   ]
  },
  {
   "cell_type": "markdown",
   "metadata": {},
   "source": [
    "### Problem 5: Engineering Features\n",
    "\n",
    "Now that you understand your business objective, we will build a basic model to get started.  Before we can do this, we must work to encode the data.  Using just the bank information features, prepare the features and target column for modeling with appropriate encoding and transformations."
   ]
  },
  {
   "cell_type": "markdown",
   "metadata": {},
   "source": [
    "The encoding is done during the pipeline, which is defined below in `make_pipeline`\n",
    "- This makes feature importance easier to understand, on input feature space rather than transformed feature space"
   ]
  },
  {
   "cell_type": "code",
   "execution_count": 7,
   "metadata": {},
   "outputs": [],
   "source": [
    "X = df.drop(columns=[\"pdays\", \"duration\", \"y\"])\n",
    "y = df[\"y\"] == \"yes\""
   ]
  },
  {
   "cell_type": "markdown",
   "metadata": {},
   "source": [
    "### Problem 6: Train/Test Split\n",
    "\n",
    "With your data prepared, split it into a train and test set."
   ]
  },
  {
   "cell_type": "code",
   "execution_count": 8,
   "metadata": {},
   "outputs": [],
   "source": [
    "X_train, X_test, y_train, y_test = train_test_split(X, y, random_state=42, stratify=y)"
   ]
  },
  {
   "cell_type": "markdown",
   "metadata": {},
   "source": [
    "### Problem 7: A Baseline Model\n",
    "\n",
    "Before we build our first model, we want to establish a baseline.  What is the baseline performance that our classifier should aim to beat?"
   ]
  },
  {
   "cell_type": "markdown",
   "metadata": {},
   "source": [
    "The baseline classifier is a constant model that always returns the majority class\n",
    "- The accuracy of this model is the rate of occurrence of this majority class"
   ]
  },
  {
   "cell_type": "code",
   "execution_count": 9,
   "metadata": {},
   "outputs": [
    {
     "data": {
      "text/plain": [
       "y\n",
       "False    0.885363\n",
       "True     0.114637\n",
       "Name: proportion, dtype: float64"
      ]
     },
     "execution_count": 9,
     "metadata": {},
     "output_type": "execute_result"
    }
   ],
   "source": [
    "y_train.value_counts(normalize=True)"
   ]
  },
  {
   "cell_type": "code",
   "execution_count": 10,
   "metadata": {},
   "outputs": [
    {
     "data": {
      "text/plain": [
       "0.8853626943005182"
      ]
     },
     "execution_count": 10,
     "metadata": {},
     "output_type": "execute_result"
    }
   ],
   "source": [
    "baseline_performance = np.max(y_train.value_counts(normalize=True))\n",
    "baseline_performance"
   ]
  },
  {
   "cell_type": "markdown",
   "metadata": {},
   "source": [
    "### Problem 8: A Simple Model\n",
    "\n",
    "Use Logistic Regression to build a basic model on your data.  "
   ]
  },
  {
   "cell_type": "code",
   "execution_count": 11,
   "metadata": {},
   "outputs": [],
   "source": [
    "xformer = make_column_transformer(\n",
    "    (\n",
    "        OneHotEncoder(drop=\"if_binary\"),\n",
    "        make_column_selector(dtype_include=object),\n",
    "    ),\n",
    "    remainder=StandardScaler(),\n",
    "    verbose_feature_names_out=False,\n",
    ")"
   ]
  },
  {
   "cell_type": "code",
   "execution_count": 12,
   "metadata": {},
   "outputs": [],
   "source": [
    "def make_pipeline(classifier_name: str = \"\"):\n",
    "    \"\"\"\n",
    "    Returns an unfitted pipeline consisting of the following named steps\n",
    "    1. xformer: a column transformer\n",
    "        - performs OHE for object features\n",
    "        - standard scaler for all others\n",
    "    2. classifier: a classifier using the named classifier\n",
    "    \"\"\"\n",
    "    kwargs = {} if classifier_name == \"KNeighborsClassifier\" else {\"random_state\": 42}\n",
    "    classifier = eval(classifier_name)(**kwargs)\n",
    "    return Pipeline(\n",
    "        [\n",
    "            (\"xformer\", xformer),\n",
    "            (\"classifier\", classifier),\n",
    "        ]\n",
    "    )"
   ]
  },
  {
   "cell_type": "code",
   "execution_count": 13,
   "metadata": {},
   "outputs": [],
   "source": [
    "lgr = make_pipeline(classifier_name=\"LogisticRegression\").fit(X_train, y_train)"
   ]
  },
  {
   "cell_type": "markdown",
   "metadata": {},
   "source": [
    "### Problem 9: Score the Model\n",
    "\n",
    "What is the accuracy of your model?"
   ]
  },
  {
   "cell_type": "code",
   "execution_count": 14,
   "metadata": {},
   "outputs": [
    {
     "data": {
      "text/plain": [
       "[0.8989637305699482, 0.9106796116504854]"
      ]
     },
     "execution_count": 14,
     "metadata": {},
     "output_type": "execute_result"
    }
   ],
   "source": [
    "[\n",
    "    lgr.score(X_train, y_train),\n",
    "    lgr.score(X_test, y_test),\n",
    "]"
   ]
  },
  {
   "cell_type": "markdown",
   "metadata": {},
   "source": [
    "The accuracy of the logistic regression model (using all defaults) is on par with the baseline model"
   ]
  },
  {
   "cell_type": "markdown",
   "metadata": {},
   "source": [
    "### Problem 10: Model Comparisons\n",
    "\n",
    "Now, we aim to compare the performance of the Logistic Regression model to our KNN algorithm, Decision Tree, and SVM models.  Using the default settings for each of the models, fit and score each.  Also, be sure to compare the fit time of each of the models.  Present your findings in a `DataFrame` similar to that below:\n",
    "\n",
    "| Model | Train Time | Train Accuracy | Test Accuracy |\n",
    "| ----- | ---------- | -------------  | -----------   |\n",
    "|     |    |.     |.     |"
   ]
  },
  {
   "cell_type": "code",
   "execution_count": 15,
   "metadata": {},
   "outputs": [],
   "source": [
    "classifier_names = [\n",
    "    \"KNeighborsClassifier\",\n",
    "    \"DecisionTreeClassifier\",\n",
    "    \"LogisticRegression\",\n",
    "    \"SVC\",\n",
    "]"
   ]
  },
  {
   "cell_type": "code",
   "execution_count": 16,
   "metadata": {},
   "outputs": [],
   "source": [
    "def make_scores_dict(estimator, prefix: str, X: pd.DataFrame, y: pd.Series):\n",
    "    metrics_list = [\n",
    "        \"Accuracy\",\n",
    "        \"Balanced Accuracy\",\n",
    "        \"Precision\",\n",
    "        \"Recall\",\n",
    "        \"f1\",\n",
    "    ]\n",
    "    y_pred = estimator.predict(X)\n",
    "    return {\n",
    "        prefix\n",
    "        + metric: round(\n",
    "            eval(metric.lower().replace(\" \", \"_\") + \"_score\")(y, y_pred) * 100.0,\n",
    "            2,\n",
    "        )\n",
    "        for metric in metrics_list\n",
    "    }"
   ]
  },
  {
   "cell_type": "code",
   "execution_count": 17,
   "metadata": {},
   "outputs": [],
   "source": [
    "def fit_and_time(classifier_name: str, features: list = X_train.columns):\n",
    "    tic = time()\n",
    "    classifier_pipeline = make_pipeline(classifier_name).fit(X_train[features], y_train)\n",
    "\n",
    "    train_scores = make_scores_dict(\n",
    "        estimator=classifier_pipeline,\n",
    "        prefix=\"Train \",\n",
    "        X=X_train[features],\n",
    "        y=y_train,\n",
    "    )\n",
    "\n",
    "    test_scores = make_scores_dict(\n",
    "        estimator=classifier_pipeline,\n",
    "        prefix=\"Test \",\n",
    "        X=X_test[features],\n",
    "        y=y_test,\n",
    "    )\n",
    "\n",
    "    return (\n",
    "        {\n",
    "            \"Model\": classifier_name,\n",
    "            \"Train and Score Time\": time() - tic,\n",
    "        }\n",
    "        | train_scores\n",
    "        | test_scores\n",
    "    )"
   ]
  },
  {
   "cell_type": "code",
   "execution_count": 18,
   "metadata": {},
   "outputs": [
    {
     "data": {
      "text/html": [
       "<div>\n",
       "<style scoped>\n",
       "    .dataframe tbody tr th:only-of-type {\n",
       "        vertical-align: middle;\n",
       "    }\n",
       "\n",
       "    .dataframe tbody tr th {\n",
       "        vertical-align: top;\n",
       "    }\n",
       "\n",
       "    .dataframe thead th {\n",
       "        text-align: right;\n",
       "    }\n",
       "</style>\n",
       "<table border=\"1\" class=\"dataframe\">\n",
       "  <thead>\n",
       "    <tr style=\"text-align: right;\">\n",
       "      <th></th>\n",
       "      <th>Model</th>\n",
       "      <th>Train and Score Time</th>\n",
       "      <th>Train Accuracy</th>\n",
       "      <th>Train Balanced Accuracy</th>\n",
       "      <th>Train Precision</th>\n",
       "      <th>Train Recall</th>\n",
       "      <th>Train f1</th>\n",
       "      <th>Test Accuracy</th>\n",
       "      <th>Test Balanced Accuracy</th>\n",
       "      <th>Test Precision</th>\n",
       "      <th>Test Recall</th>\n",
       "      <th>Test f1</th>\n",
       "    </tr>\n",
       "  </thead>\n",
       "  <tbody>\n",
       "    <tr>\n",
       "      <th>0</th>\n",
       "      <td>KNeighborsClassifier</td>\n",
       "      <td>0.207316</td>\n",
       "      <td>90.41</td>\n",
       "      <td>62.62</td>\n",
       "      <td>72.31</td>\n",
       "      <td>26.55</td>\n",
       "      <td>38.84</td>\n",
       "      <td>90.10</td>\n",
       "      <td>59.73</td>\n",
       "      <td>75.00</td>\n",
       "      <td>20.34</td>\n",
       "      <td>32.00</td>\n",
       "    </tr>\n",
       "    <tr>\n",
       "      <th>1</th>\n",
       "      <td>DecisionTreeClassifier</td>\n",
       "      <td>0.059883</td>\n",
       "      <td>100.00</td>\n",
       "      <td>100.00</td>\n",
       "      <td>100.00</td>\n",
       "      <td>100.00</td>\n",
       "      <td>100.00</td>\n",
       "      <td>83.69</td>\n",
       "      <td>64.97</td>\n",
       "      <td>32.88</td>\n",
       "      <td>40.68</td>\n",
       "      <td>36.36</td>\n",
       "    </tr>\n",
       "    <tr>\n",
       "      <th>2</th>\n",
       "      <td>LogisticRegression</td>\n",
       "      <td>0.057156</td>\n",
       "      <td>89.90</td>\n",
       "      <td>59.62</td>\n",
       "      <td>70.59</td>\n",
       "      <td>20.34</td>\n",
       "      <td>31.58</td>\n",
       "      <td>91.07</td>\n",
       "      <td>63.97</td>\n",
       "      <td>80.95</td>\n",
       "      <td>28.81</td>\n",
       "      <td>42.50</td>\n",
       "    </tr>\n",
       "    <tr>\n",
       "      <th>3</th>\n",
       "      <td>SVC</td>\n",
       "      <td>0.215155</td>\n",
       "      <td>90.67</td>\n",
       "      <td>59.57</td>\n",
       "      <td>97.14</td>\n",
       "      <td>19.21</td>\n",
       "      <td>32.08</td>\n",
       "      <td>89.71</td>\n",
       "      <td>56.56</td>\n",
       "      <td>80.00</td>\n",
       "      <td>13.56</td>\n",
       "      <td>23.19</td>\n",
       "    </tr>\n",
       "  </tbody>\n",
       "</table>\n",
       "</div>"
      ],
      "text/plain": [
       "                    Model  Train and Score Time  Train Accuracy  \\\n",
       "0    KNeighborsClassifier              0.207316           90.41   \n",
       "1  DecisionTreeClassifier              0.059883          100.00   \n",
       "2      LogisticRegression              0.057156           89.90   \n",
       "3                     SVC              0.215155           90.67   \n",
       "\n",
       "   Train Balanced Accuracy  Train Precision  Train Recall  Train f1  \\\n",
       "0                    62.62            72.31         26.55     38.84   \n",
       "1                   100.00           100.00        100.00    100.00   \n",
       "2                    59.62            70.59         20.34     31.58   \n",
       "3                    59.57            97.14         19.21     32.08   \n",
       "\n",
       "   Test Accuracy  Test Balanced Accuracy  Test Precision  Test Recall  Test f1  \n",
       "0          90.10                   59.73           75.00        20.34    32.00  \n",
       "1          83.69                   64.97           32.88        40.68    36.36  \n",
       "2          91.07                   63.97           80.95        28.81    42.50  \n",
       "3          89.71                   56.56           80.00        13.56    23.19  "
      ]
     },
     "execution_count": 18,
     "metadata": {},
     "output_type": "execute_result"
    }
   ],
   "source": [
    "results_df = pd.DataFrame(\n",
    "    [fit_and_time(classifier_name) for classifier_name in classifier_names]\n",
    ")\n",
    "\n",
    "results_df"
   ]
  },
  {
   "attachments": {
    "image.png": {
     "image/png": "[encoded data removed]"
    }
   },
   "cell_type": "markdown",
   "metadata": {},
   "source": [
    "![image.png](attachment:image.png)"
   ]
  },
  {
   "cell_type": "markdown",
   "metadata": {},
   "source": [
    "### Problem 11: Improving the Model\n",
    "\n",
    "Now that we have some basic models on the board, we want to try to improve these.  Below, we list a few things to explore in this pursuit.\n",
    "\n",
    "- More feature engineering and exploration.  For example, should we keep the gender feature?  Why or why not?\n",
    "- Hyperparameter tuning and grid search.  All of our models have additional hyperparameters to tune and explore.  For example the number of neighbors in KNN or the maximum depth of a Decision Tree.  \n",
    "- Adjust your performance metric"
   ]
  },
  {
   "cell_type": "markdown",
   "metadata": {},
   "source": [
    "#### Feature Importance with Permutation Importance\n",
    "\n",
    "Using logistic regression as the foundational model, look at feature importance\n",
    "\n",
    "Should we keep the gender feature?\n",
    "- There is no gender feature, but I think the following result shows that only a handful of the features matter"
   ]
  },
  {
   "cell_type": "code",
   "execution_count": 19,
   "metadata": {},
   "outputs": [
    {
     "data": {
      "text/html": [
       "<div>\n",
       "<style scoped>\n",
       "    .dataframe tbody tr th:only-of-type {\n",
       "        vertical-align: middle;\n",
       "    }\n",
       "\n",
       "    .dataframe tbody tr th {\n",
       "        vertical-align: top;\n",
       "    }\n",
       "\n",
       "    .dataframe thead th {\n",
       "        text-align: right;\n",
       "    }\n",
       "</style>\n",
       "<table border=\"1\" class=\"dataframe\">\n",
       "  <thead>\n",
       "    <tr style=\"text-align: right;\">\n",
       "      <th></th>\n",
       "      <th>Feature</th>\n",
       "      <th>Importance</th>\n",
       "      <th>Standard Deviation</th>\n",
       "    </tr>\n",
       "  </thead>\n",
       "  <tbody>\n",
       "    <tr>\n",
       "      <th>11</th>\n",
       "      <td>previous</td>\n",
       "      <td>-0.003689</td>\n",
       "      <td>0.001046</td>\n",
       "    </tr>\n",
       "    <tr>\n",
       "      <th>17</th>\n",
       "      <td>nr.employed</td>\n",
       "      <td>-0.001942</td>\n",
       "      <td>0.002127</td>\n",
       "    </tr>\n",
       "    <tr>\n",
       "      <th>3</th>\n",
       "      <td>education</td>\n",
       "      <td>-0.001165</td>\n",
       "      <td>0.001288</td>\n",
       "    </tr>\n",
       "    <tr>\n",
       "      <th>15</th>\n",
       "      <td>cons.conf.idx</td>\n",
       "      <td>-0.000388</td>\n",
       "      <td>0.001903</td>\n",
       "    </tr>\n",
       "    <tr>\n",
       "      <th>8</th>\n",
       "      <td>month</td>\n",
       "      <td>-0.000194</td>\n",
       "      <td>0.003730</td>\n",
       "    </tr>\n",
       "    <tr>\n",
       "      <th>5</th>\n",
       "      <td>housing</td>\n",
       "      <td>-0.000194</td>\n",
       "      <td>0.001613</td>\n",
       "    </tr>\n",
       "    <tr>\n",
       "      <th>7</th>\n",
       "      <td>contact</td>\n",
       "      <td>0.000583</td>\n",
       "      <td>0.001748</td>\n",
       "    </tr>\n",
       "    <tr>\n",
       "      <th>6</th>\n",
       "      <td>loan</td>\n",
       "      <td>0.000583</td>\n",
       "      <td>0.001243</td>\n",
       "    </tr>\n",
       "    <tr>\n",
       "      <th>4</th>\n",
       "      <td>default</td>\n",
       "      <td>0.000777</td>\n",
       "      <td>0.001553</td>\n",
       "    </tr>\n",
       "    <tr>\n",
       "      <th>10</th>\n",
       "      <td>campaign</td>\n",
       "      <td>0.000971</td>\n",
       "      <td>0.000971</td>\n",
       "    </tr>\n",
       "    <tr>\n",
       "      <th>9</th>\n",
       "      <td>day_of_week</td>\n",
       "      <td>0.001165</td>\n",
       "      <td>0.002162</td>\n",
       "    </tr>\n",
       "    <tr>\n",
       "      <th>0</th>\n",
       "      <td>age</td>\n",
       "      <td>0.001748</td>\n",
       "      <td>0.002807</td>\n",
       "    </tr>\n",
       "    <tr>\n",
       "      <th>2</th>\n",
       "      <td>marital</td>\n",
       "      <td>0.002524</td>\n",
       "      <td>0.002136</td>\n",
       "    </tr>\n",
       "    <tr>\n",
       "      <th>14</th>\n",
       "      <td>cons.price.idx</td>\n",
       "      <td>0.005437</td>\n",
       "      <td>0.006882</td>\n",
       "    </tr>\n",
       "    <tr>\n",
       "      <th>1</th>\n",
       "      <td>job</td>\n",
       "      <td>0.005825</td>\n",
       "      <td>0.003131</td>\n",
       "    </tr>\n",
       "    <tr>\n",
       "      <th>16</th>\n",
       "      <td>euribor3m</td>\n",
       "      <td>0.006796</td>\n",
       "      <td>0.003039</td>\n",
       "    </tr>\n",
       "    <tr>\n",
       "      <th>12</th>\n",
       "      <td>poutcome</td>\n",
       "      <td>0.023883</td>\n",
       "      <td>0.001243</td>\n",
       "    </tr>\n",
       "    <tr>\n",
       "      <th>13</th>\n",
       "      <td>emp.var.rate</td>\n",
       "      <td>0.037282</td>\n",
       "      <td>0.006428</td>\n",
       "    </tr>\n",
       "  </tbody>\n",
       "</table>\n",
       "</div>"
      ],
      "text/plain": [
       "           Feature  Importance  Standard Deviation\n",
       "11        previous   -0.003689            0.001046\n",
       "17     nr.employed   -0.001942            0.002127\n",
       "3        education   -0.001165            0.001288\n",
       "15   cons.conf.idx   -0.000388            0.001903\n",
       "8            month   -0.000194            0.003730\n",
       "5          housing   -0.000194            0.001613\n",
       "7          contact    0.000583            0.001748\n",
       "6             loan    0.000583            0.001243\n",
       "4          default    0.000777            0.001553\n",
       "10        campaign    0.000971            0.000971\n",
       "9      day_of_week    0.001165            0.002162\n",
       "0              age    0.001748            0.002807\n",
       "2          marital    0.002524            0.002136\n",
       "14  cons.price.idx    0.005437            0.006882\n",
       "1              job    0.005825            0.003131\n",
       "16       euribor3m    0.006796            0.003039\n",
       "12        poutcome    0.023883            0.001243\n",
       "13    emp.var.rate    0.037282            0.006428"
      ]
     },
     "execution_count": 19,
     "metadata": {},
     "output_type": "execute_result"
    }
   ],
   "source": [
    "result = permutation_importance(lgr, X_test, y_test, n_repeats=10, random_state=42)\n",
    "feature_importance = pd.DataFrame(\n",
    "    {\n",
    "        \"Feature\": X.columns,\n",
    "        \"Importance\": result.importances_mean,\n",
    "        \"Standard Deviation\": result.importances_std,\n",
    "    }\n",
    ").sort_values(\"Importance\", ascending=True)\n",
    "feature_importance"
   ]
  },
  {
   "cell_type": "code",
   "execution_count": 20,
   "metadata": {},
   "outputs": [
    {
     "data": {
      "text/plain": [
       "Text(0.5, 1.0, 'Permutation Importance with Standard Deviation')"
      ]
     },
     "execution_count": 20,
     "metadata": {},
     "output_type": "execute_result"
    },
    {
     "data": {
      "image/png": "[encoded data removed]",
      "text/plain": [
       "<Figure size 1000x600 with 1 Axes>"
      ]
     },
     "metadata": {},
     "output_type": "display_data"
    }
   ],
   "source": [
    "ax = feature_importance.plot(\n",
    "    x=\"Feature\",\n",
    "    y=\"Importance\",\n",
    "    kind=\"barh\",\n",
    "    figsize=(10, 6),\n",
    "    yerr=\"Standard Deviation\",\n",
    "    capsize=4,\n",
    ")\n",
    "ax.set_xlabel(\"Permutation Importance\")\n",
    "ax.set_title(\"Permutation Importance with Standard Deviation\")"
   ]
  },
  {
   "cell_type": "code",
   "execution_count": 21,
   "metadata": {},
   "outputs": [
    {
     "data": {
      "text/plain": [
       "['cons.price.idx', 'job', 'euribor3m', 'poutcome', 'emp.var.rate']"
      ]
     },
     "execution_count": 21,
     "metadata": {},
     "output_type": "execute_result"
    }
   ],
   "source": [
    "top_5_features = list(feature_importance.tail(5)[\"Feature\"])\n",
    "top_5_features"
   ]
  },
  {
   "cell_type": "code",
   "execution_count": 22,
   "metadata": {},
   "outputs": [
    {
     "data": {
      "text/html": [
       "<div>\n",
       "<style scoped>\n",
       "    .dataframe tbody tr th:only-of-type {\n",
       "        vertical-align: middle;\n",
       "    }\n",
       "\n",
       "    .dataframe tbody tr th {\n",
       "        vertical-align: top;\n",
       "    }\n",
       "\n",
       "    .dataframe thead th {\n",
       "        text-align: right;\n",
       "    }\n",
       "</style>\n",
       "<table border=\"1\" class=\"dataframe\">\n",
       "  <thead>\n",
       "    <tr style=\"text-align: right;\">\n",
       "      <th></th>\n",
       "      <th>Model</th>\n",
       "      <th>Train and Score Time</th>\n",
       "      <th>Train Accuracy</th>\n",
       "      <th>Train Balanced Accuracy</th>\n",
       "      <th>Train Precision</th>\n",
       "      <th>Train Recall</th>\n",
       "      <th>Train f1</th>\n",
       "      <th>Test Accuracy</th>\n",
       "      <th>Test Balanced Accuracy</th>\n",
       "      <th>Test Precision</th>\n",
       "      <th>Test Recall</th>\n",
       "      <th>Test f1</th>\n",
       "    </tr>\n",
       "  </thead>\n",
       "  <tbody>\n",
       "    <tr>\n",
       "      <th>0</th>\n",
       "      <td>KNeighborsClassifier</td>\n",
       "      <td>0.120332</td>\n",
       "      <td>89.90</td>\n",
       "      <td>60.85</td>\n",
       "      <td>67.21</td>\n",
       "      <td>23.16</td>\n",
       "      <td>34.45</td>\n",
       "      <td>90.10</td>\n",
       "      <td>60.47</td>\n",
       "      <td>72.22</td>\n",
       "      <td>22.03</td>\n",
       "      <td>33.77</td>\n",
       "    </tr>\n",
       "    <tr>\n",
       "      <th>1</th>\n",
       "      <td>DecisionTreeClassifier</td>\n",
       "      <td>0.041150</td>\n",
       "      <td>95.21</td>\n",
       "      <td>79.59</td>\n",
       "      <td>98.13</td>\n",
       "      <td>59.32</td>\n",
       "      <td>73.94</td>\n",
       "      <td>87.57</td>\n",
       "      <td>59.78</td>\n",
       "      <td>42.42</td>\n",
       "      <td>23.73</td>\n",
       "      <td>30.43</td>\n",
       "    </tr>\n",
       "    <tr>\n",
       "      <th>2</th>\n",
       "      <td>LogisticRegression</td>\n",
       "      <td>0.060381</td>\n",
       "      <td>89.25</td>\n",
       "      <td>56.06</td>\n",
       "      <td>65.71</td>\n",
       "      <td>12.99</td>\n",
       "      <td>21.70</td>\n",
       "      <td>90.87</td>\n",
       "      <td>62.38</td>\n",
       "      <td>83.33</td>\n",
       "      <td>25.42</td>\n",
       "      <td>38.96</td>\n",
       "    </tr>\n",
       "    <tr>\n",
       "      <th>3</th>\n",
       "      <td>SVC</td>\n",
       "      <td>0.074818</td>\n",
       "      <td>89.64</td>\n",
       "      <td>56.28</td>\n",
       "      <td>79.31</td>\n",
       "      <td>12.99</td>\n",
       "      <td>22.33</td>\n",
       "      <td>90.29</td>\n",
       "      <td>57.63</td>\n",
       "      <td>100.00</td>\n",
       "      <td>15.25</td>\n",
       "      <td>26.47</td>\n",
       "    </tr>\n",
       "  </tbody>\n",
       "</table>\n",
       "</div>"
      ],
      "text/plain": [
       "                    Model  Train and Score Time  Train Accuracy  \\\n",
       "0    KNeighborsClassifier              0.120332           89.90   \n",
       "1  DecisionTreeClassifier              0.041150           95.21   \n",
       "2      LogisticRegression              0.060381           89.25   \n",
       "3                     SVC              0.074818           89.64   \n",
       "\n",
       "   Train Balanced Accuracy  Train Precision  Train Recall  Train f1  \\\n",
       "0                    60.85            67.21         23.16     34.45   \n",
       "1                    79.59            98.13         59.32     73.94   \n",
       "2                    56.06            65.71         12.99     21.70   \n",
       "3                    56.28            79.31         12.99     22.33   \n",
       "\n",
       "   Test Accuracy  Test Balanced Accuracy  Test Precision  Test Recall  Test f1  \n",
       "0          90.10                   60.47           72.22        22.03    33.77  \n",
       "1          87.57                   59.78           42.42        23.73    30.43  \n",
       "2          90.87                   62.38           83.33        25.42    38.96  \n",
       "3          90.29                   57.63          100.00        15.25    26.47  "
      ]
     },
     "execution_count": 22,
     "metadata": {},
     "output_type": "execute_result"
    }
   ],
   "source": [
    "results_top_5_df = pd.DataFrame(\n",
    "    [\n",
    "        fit_and_time(classifier_name, top_5_features)\n",
    "        for classifier_name in classifier_names\n",
    "    ]\n",
    ")\n",
    "\n",
    "results_top_5_df"
   ]
  },
  {
   "cell_type": "markdown",
   "metadata": {},
   "source": [
    "#### Adjusting the Performance Metric\n",
    "\n",
    "The data set is highly imbalanced\n",
    "- Almost 88% are in the negative class\n",
    "- So accuracy is not a great measurement\n",
    "- Switch to **balanced accuracy**"
   ]
  },
  {
   "cell_type": "markdown",
   "metadata": {},
   "source": [
    "#### Hyperparameter Estimation with Grid Search"
   ]
  },
  {
   "cell_type": "code",
   "execution_count": 23,
   "metadata": {},
   "outputs": [],
   "source": [
    "classifier_params = {\n",
    "    \"KNeighborsClassifier\": {\n",
    "        \"param_grid\": {\n",
    "            \"classifier__n_neighbors\": range(1, 10),\n",
    "        },\n",
    "    },\n",
    "    \"DecisionTreeClassifier\": {\n",
    "        \"param_grid\": {\n",
    "            \"classifier__random_state\": [42],\n",
    "            \"classifier__max_depth\": range(1, 10),\n",
    "        },\n",
    "    },\n",
    "    \"LogisticRegression\": {\n",
    "        \"param_grid\": {\n",
    "            \"classifier__penalty\": [\"l1\", \"l2\"],\n",
    "            \"classifier__C\": np.logspace(start=-5, stop=5, num=11),\n",
    "        },\n",
    "    },\n",
    "    \"SVC\": {\n",
    "        \"param_grid\": {\n",
    "            \"classifier__kernel\": [\"rbf\", \"poly\"],\n",
    "        },\n",
    "    },\n",
    "}"
   ]
  },
  {
   "cell_type": "code",
   "execution_count": 24,
   "metadata": {},
   "outputs": [],
   "source": [
    "def grid_search_fit_and_time(\n",
    "    classifier_name: str = \"\",\n",
    "    scoring: str = \"\",\n",
    "    features: list = list(X_train.columns),\n",
    "):\n",
    "    classifier_pipeline = make_pipeline(classifier_name=classifier_name)\n",
    "\n",
    "    tic = time()\n",
    "    grid = GridSearchCV(\n",
    "        estimator=classifier_pipeline,\n",
    "        param_grid=classifier_params[classifier_name][\"param_grid\"],\n",
    "        scoring=scoring,\n",
    "        cv=5,\n",
    "    ).fit(X_train[features], y_train)\n",
    "    grid_search_time = time() - tic\n",
    "\n",
    "    tic = time()\n",
    "    train_scores = make_scores_dict(\n",
    "        estimator=grid.best_estimator_,\n",
    "        prefix=\"Train \",\n",
    "        X=X_train[features],\n",
    "        y=y_train,\n",
    "    )\n",
    "\n",
    "    test_scores = make_scores_dict(\n",
    "        estimator=grid.best_estimator_,\n",
    "        prefix=\"Test \",\n",
    "        X=X_test[features],\n",
    "        y=y_test,\n",
    "    )\n",
    "    score_time = time() - tic\n",
    "\n",
    "    return (\n",
    "        {\n",
    "            \"Model\": classifier_name,\n",
    "            \"Average Fit Time\": grid_search_time / len(grid.cv_results_[\"params\"]),\n",
    "            \"Score Time\": score_time,\n",
    "        }\n",
    "        | train_scores\n",
    "        | test_scores\n",
    "        | {\n",
    "            \"Best Params\": grid.best_params_,\n",
    "            \"Best Estimator\": grid.best_estimator_,\n",
    "        }\n",
    "    )"
   ]
  },
  {
   "cell_type": "code",
   "execution_count": 25,
   "metadata": {},
   "outputs": [
    {
     "data": {
      "text/html": [
       "<div>\n",
       "<style scoped>\n",
       "    .dataframe tbody tr th:only-of-type {\n",
       "        vertical-align: middle;\n",
       "    }\n",
       "\n",
       "    .dataframe tbody tr th {\n",
       "        vertical-align: top;\n",
       "    }\n",
       "\n",
       "    .dataframe thead th {\n",
       "        text-align: right;\n",
       "    }\n",
       "</style>\n",
       "<table border=\"1\" class=\"dataframe\">\n",
       "  <thead>\n",
       "    <tr style=\"text-align: right;\">\n",
       "      <th></th>\n",
       "      <th>Model</th>\n",
       "      <th>Average Fit Time</th>\n",
       "      <th>Score Time</th>\n",
       "      <th>Train Accuracy</th>\n",
       "      <th>Train Balanced Accuracy</th>\n",
       "      <th>Train Precision</th>\n",
       "      <th>Train Recall</th>\n",
       "      <th>Train f1</th>\n",
       "      <th>Test Accuracy</th>\n",
       "      <th>Test Balanced Accuracy</th>\n",
       "      <th>Test Precision</th>\n",
       "      <th>Test Recall</th>\n",
       "      <th>Test f1</th>\n",
       "      <th>Best Params</th>\n",
       "      <th>Best Estimator</th>\n",
       "    </tr>\n",
       "  </thead>\n",
       "  <tbody>\n",
       "    <tr>\n",
       "      <th>0</th>\n",
       "      <td>KNeighborsClassifier</td>\n",
       "      <td>0.183737</td>\n",
       "      <td>0.175083</td>\n",
       "      <td>91.84</td>\n",
       "      <td>68.34</td>\n",
       "      <td>80.72</td>\n",
       "      <td>37.85</td>\n",
       "      <td>51.54</td>\n",
       "      <td>87.96</td>\n",
       "      <td>60.00</td>\n",
       "      <td>45.16</td>\n",
       "      <td>23.73</td>\n",
       "      <td>31.11</td>\n",
       "      <td>{'classifier__n_neighbors': 3}</td>\n",
       "      <td>(ColumnTransformer(remainder=StandardScaler(),...</td>\n",
       "    </tr>\n",
       "    <tr>\n",
       "      <th>1</th>\n",
       "      <td>DecisionTreeClassifier</td>\n",
       "      <td>0.112860</td>\n",
       "      <td>0.027982</td>\n",
       "      <td>93.78</td>\n",
       "      <td>73.86</td>\n",
       "      <td>95.51</td>\n",
       "      <td>48.02</td>\n",
       "      <td>63.91</td>\n",
       "      <td>89.51</td>\n",
       "      <td>61.62</td>\n",
       "      <td>60.00</td>\n",
       "      <td>25.42</td>\n",
       "      <td>35.71</td>\n",
       "      <td>{'classifier__max_depth': 8, 'classifier__rand...</td>\n",
       "      <td>(ColumnTransformer(remainder=StandardScaler(),...</td>\n",
       "    </tr>\n",
       "    <tr>\n",
       "      <th>2</th>\n",
       "      <td>LogisticRegression</td>\n",
       "      <td>0.103328</td>\n",
       "      <td>0.028271</td>\n",
       "      <td>89.44</td>\n",
       "      <td>59.36</td>\n",
       "      <td>62.07</td>\n",
       "      <td>20.34</td>\n",
       "      <td>30.64</td>\n",
       "      <td>91.07</td>\n",
       "      <td>64.71</td>\n",
       "      <td>78.26</td>\n",
       "      <td>30.51</td>\n",
       "      <td>43.90</td>\n",
       "      <td>{'classifier__C': 100.0, 'classifier__penalty'...</td>\n",
       "      <td>(ColumnTransformer(remainder=StandardScaler(),...</td>\n",
       "    </tr>\n",
       "    <tr>\n",
       "      <th>3</th>\n",
       "      <td>SVC</td>\n",
       "      <td>0.478100</td>\n",
       "      <td>0.109895</td>\n",
       "      <td>92.49</td>\n",
       "      <td>67.72</td>\n",
       "      <td>96.92</td>\n",
       "      <td>35.59</td>\n",
       "      <td>52.07</td>\n",
       "      <td>90.29</td>\n",
       "      <td>59.84</td>\n",
       "      <td>80.00</td>\n",
       "      <td>20.34</td>\n",
       "      <td>32.43</td>\n",
       "      <td>{'classifier__kernel': 'poly'}</td>\n",
       "      <td>(ColumnTransformer(remainder=StandardScaler(),...</td>\n",
       "    </tr>\n",
       "  </tbody>\n",
       "</table>\n",
       "</div>"
      ],
      "text/plain": [
       "                    Model  Average Fit Time  Score Time  Train Accuracy  \\\n",
       "0    KNeighborsClassifier          0.183737    0.175083           91.84   \n",
       "1  DecisionTreeClassifier          0.112860    0.027982           93.78   \n",
       "2      LogisticRegression          0.103328    0.028271           89.44   \n",
       "3                     SVC          0.478100    0.109895           92.49   \n",
       "\n",
       "   Train Balanced Accuracy  Train Precision  Train Recall  Train f1  \\\n",
       "0                    68.34            80.72         37.85     51.54   \n",
       "1                    73.86            95.51         48.02     63.91   \n",
       "2                    59.36            62.07         20.34     30.64   \n",
       "3                    67.72            96.92         35.59     52.07   \n",
       "\n",
       "   Test Accuracy  Test Balanced Accuracy  Test Precision  Test Recall  \\\n",
       "0          87.96                   60.00           45.16        23.73   \n",
       "1          89.51                   61.62           60.00        25.42   \n",
       "2          91.07                   64.71           78.26        30.51   \n",
       "3          90.29                   59.84           80.00        20.34   \n",
       "\n",
       "   Test f1                                        Best Params  \\\n",
       "0    31.11                     {'classifier__n_neighbors': 3}   \n",
       "1    35.71  {'classifier__max_depth': 8, 'classifier__rand...   \n",
       "2    43.90  {'classifier__C': 100.0, 'classifier__penalty'...   \n",
       "3    32.43                     {'classifier__kernel': 'poly'}   \n",
       "\n",
       "                                      Best Estimator  \n",
       "0  (ColumnTransformer(remainder=StandardScaler(),...  \n",
       "1  (ColumnTransformer(remainder=StandardScaler(),...  \n",
       "2  (ColumnTransformer(remainder=StandardScaler(),...  \n",
       "3  (ColumnTransformer(remainder=StandardScaler(),...  "
      ]
     },
     "execution_count": 25,
     "metadata": {},
     "output_type": "execute_result"
    }
   ],
   "source": [
    "results_gridded_df = pd.DataFrame(\n",
    "    [\n",
    "        grid_search_fit_and_time(\n",
    "            classifier_name=classifier_name,\n",
    "            scoring=\"balanced_accuracy\",\n",
    "        )\n",
    "        for classifier_name in classifier_params.keys()\n",
    "    ]\n",
    ")\n",
    "\n",
    "results_gridded_df"
   ]
  },
  {
   "attachments": {
    "image.png": {
     "image/png": "[encoded data removed]"
    }
   },
   "cell_type": "markdown",
   "metadata": {},
   "source": [
    "![image.png](attachment:image.png)"
   ]
  },
  {
   "cell_type": "code",
   "execution_count": 26,
   "metadata": {},
   "outputs": [
    {
     "data": {
      "text/plain": [
       "{'ccp_alpha': 0.0,\n",
       " 'class_weight': None,\n",
       " 'criterion': 'gini',\n",
       " 'max_depth': 8,\n",
       " 'max_features': None,\n",
       " 'max_leaf_nodes': None,\n",
       " 'min_impurity_decrease': 0.0,\n",
       " 'min_samples_leaf': 1,\n",
       " 'min_samples_split': 2,\n",
       " 'min_weight_fraction_leaf': 0.0,\n",
       " 'monotonic_cst': None,\n",
       " 'random_state': 42,\n",
       " 'splitter': 'best'}"
      ]
     },
     "execution_count": 26,
     "metadata": {},
     "output_type": "execute_result"
    }
   ],
   "source": [
    "dt = results_gridded_df.iloc[1, :][\"Best Estimator\"].named_steps[\"classifier\"]\n",
    "dt.max_depth\n",
    "dt.get_params()"
   ]
  }
 ],
 "metadata": {
  "kernelspec": {
   "display_name": "Python 3",
   "language": "python",
   "name": "python3"
  },
  "language_info": {
   "codemirror_mode": {
    "name": "ipython",
    "version": 3
   },
   "file_extension": ".py",
   "mimetype": "text/x-python",
   "name": "python",
   "nbconvert_exporter": "python",
   "pygments_lexer": "ipython3",
   "version": "3.10.13"
  },
  "widgets": {
   "application/vnd.jupyter.widget-state+json": {
    "state": {},
    "version_major": 2,
    "version_minor": 0
   }
  }
 },
 "nbformat": 4,
 "nbformat_minor": 4
}
