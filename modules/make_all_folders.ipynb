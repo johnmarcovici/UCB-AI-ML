{
 "cells": [
  {
   "cell_type": "code",
   "execution_count": null,
   "metadata": {},
   "outputs": [],
   "source": [
    "import pathlib\n",
    "import subprocess"
   ]
  },
  {
   "cell_type": "code",
   "execution_count": 26,
   "metadata": {},
   "outputs": [],
   "source": [
    "weeks = range(1, 27)"
   ]
  },
  {
   "cell_type": "markdown",
   "metadata": {},
   "source": [
    "## Make all Module, Module/data, and Module/images folders"
   ]
  },
  {
   "cell_type": "code",
   "execution_count": 27,
   "metadata": {},
   "outputs": [
    {
     "name": "stdout",
     "output_type": "stream",
     "text": [
      "Week 01\n",
      "\tBase folder 01 exists = True\n",
      "\tdata folder 01/data exists = True\n",
      "\timages folder 01/images exists = True\n",
      "Week 02\n",
      "\tBase folder 02 exists = True\n",
      "\tdata folder 02/data exists = True\n",
      "\timages folder 02/images exists = True\n",
      "Week 03\n",
      "\tBase folder 03 exists = True\n",
      "\tdata folder 03/data exists = True\n",
      "\timages folder 03/images exists = True\n",
      "Week 04\n",
      "\tBase folder 04 exists = True\n",
      "\tdata folder 04/data exists = True\n",
      "\timages folder 04/images exists = True\n",
      "Week 05\n",
      "\tBase folder 05 exists = True\n",
      "\tdata folder 05/data exists = True\n",
      "\timages folder 05/images exists = True\n",
      "Week 06\n",
      "\tBase folder 06 exists = True\n",
      "\tdata folder 06/data exists = True\n",
      "\timages folder 06/images exists = True\n",
      "Week 07\n",
      "\tBase folder 07 exists = True\n",
      "\tdata folder 07/data exists = True\n",
      "\timages folder 07/images exists = True\n",
      "Week 08\n",
      "\tBase folder 08 exists = True\n",
      "\tdata folder 08/data exists = True\n",
      "\timages folder 08/images exists = True\n",
      "Week 09\n",
      "\tBase folder 09 exists = True\n",
      "\tdata folder 09/data exists = True\n",
      "\timages folder 09/images exists = True\n",
      "Week 10\n",
      "\tBase folder 10 exists = True\n",
      "\tdata folder 10/data exists = True\n",
      "\timages folder 10/images exists = True\n",
      "Week 11\n",
      "\tBase folder 11 exists = True\n",
      "\tdata folder 11/data exists = True\n",
      "\timages folder 11/images exists = True\n",
      "Week 12\n",
      "\tBase folder 12 exists = True\n",
      "\tdata folder 12/data exists = True\n",
      "\timages folder 12/images exists = True\n",
      "Week 13\n",
      "\tBase folder 13 exists = True\n",
      "\tdata folder 13/data exists = True\n",
      "\timages folder 13/images exists = True\n",
      "Week 14\n",
      "\tBase folder 14 exists = True\n",
      "\tdata folder 14/data exists = True\n",
      "\timages folder 14/images exists = True\n",
      "Week 15\n",
      "\tBase folder 15 exists = True\n",
      "\tdata folder 15/data exists = True\n",
      "\timages folder 15/images exists = True\n",
      "Week 16\n",
      "\tBase folder 16 exists = True\n",
      "\tdata folder 16/data exists = True\n",
      "\timages folder 16/images exists = True\n",
      "Week 17\n",
      "\tBase folder 17 exists = True\n",
      "\tdata folder 17/data exists = True\n",
      "\timages folder 17/images exists = True\n",
      "Week 18\n",
      "\tBase folder 18 exists = True\n",
      "\tdata folder 18/data exists = True\n",
      "\timages folder 18/images exists = True\n",
      "Week 19\n",
      "\tBase folder 19 exists = True\n",
      "\tdata folder 19/data exists = True\n",
      "\timages folder 19/images exists = True\n",
      "Week 20\n",
      "\tBase folder 20 exists = True\n",
      "\tdata folder 20/data exists = True\n",
      "\timages folder 20/images exists = True\n",
      "Week 21\n",
      "\tBase folder 21 exists = True\n",
      "\tdata folder 21/data exists = True\n",
      "\timages folder 21/images exists = True\n",
      "Week 22\n",
      "\tBase folder 22 exists = True\n",
      "\tdata folder 22/data exists = True\n",
      "\timages folder 22/images exists = True\n",
      "Week 23\n",
      "\tBase folder 23 exists = True\n",
      "\tdata folder 23/data exists = True\n",
      "\timages folder 23/images exists = True\n",
      "Week 24\n",
      "\tBase folder 24 exists = True\n",
      "\tdata folder 24/data exists = True\n",
      "\timages folder 24/images exists = True\n",
      "Week 25\n",
      "\tBase folder 25 exists = True\n",
      "\tdata folder 25/data exists = True\n",
      "\timages folder 25/images exists = True\n",
      "Week 26\n",
      "\tBase folder 26 exists = False\n",
      "\tdata folder 26/data exists = False\n",
      "\timages folder 26/images exists = False\n",
      "\tCompletedProcess(args=['touch', '26/data/.keep'], returncode=0, stdout=b'', stderr=b'')\n",
      "\tCompletedProcess(args=['touch', '26/images/.keep'], returncode=0, stdout=b'', stderr=b'')\n"
     ]
    }
   ],
   "source": [
    "for week in weeks:\n",
    "    folder_name = \"%02d\" % week\n",
    "    data_folder = folder_name + \"/data\"\n",
    "    images_folder = folder_name + \"/images\"\n",
    "    print(\n",
    "        \"Week %02d\\n\\tBase folder %s exists = %s\\n\\tdata folder %s exists = %s\\n\\timages folder %s exists = %s\"\n",
    "        % (\n",
    "            week,\n",
    "            folder_name,\n",
    "            pathlib.Path(folder_name).is_dir(),\n",
    "            data_folder,\n",
    "            pathlib.Path(data_folder).is_dir(),\n",
    "            images_folder,\n",
    "            pathlib.Path(images_folder).is_dir(),\n",
    "        )\n",
    "    )\n",
    "\n",
    "    # Make folder if they do not exist\n",
    "    for folder in [data_folder, images_folder]:\n",
    "        if not pathlib.Path(folder).is_dir():\n",
    "            pathlib.Path(folder).mkdir(parents=True, exist_ok=True)\n",
    "\n",
    "            # Add a .keep file to folder, so git will recognize and add it\n",
    "            print(\n",
    "                \"\\t%s\"\n",
    "                % subprocess.run([\"touch\", folder + \"/.keep\"], capture_output=True)\n",
    "            )"
   ]
  },
  {
   "cell_type": "markdown",
   "metadata": {},
   "source": [
    "## Copy scratchpads to all folders if they don't exist"
   ]
  },
  {
   "cell_type": "code",
   "execution_count": 28,
   "metadata": {},
   "outputs": [
    {
     "name": "stdout",
     "output_type": "stream",
     "text": [
      "Copying notebook from scratchpad.ipynb to 26/module_26_scratchpad.ipynb\n",
      "\tCompletedProcess(args=['cp', 'scratchpad.ipynb', '26/module_26_scratchpad.ipynb'], returncode=0, stdout=b'', stderr=b'')\n"
     ]
    }
   ],
   "source": [
    "for week in weeks:\n",
    "    folder_name = \"%02d\" % week\n",
    "    notebook_stub = \"scratchpad.ipynb\"\n",
    "    notebook_prefix = \"module_\" + format(week, \"02d\") + \"_\"\n",
    "    notebook_fullname = folder_name + \"/\" + notebook_prefix + notebook_stub\n",
    "\n",
    "    # Copy scratchpad from base to folder if not exists\n",
    "    if not pathlib.Path(notebook_fullname).is_file():\n",
    "        print(\"Copying notebook from %s to %s\" % (notebook_stub, notebook_fullname))\n",
    "        subprocess_str = [\"cp\", notebook_stub, notebook_fullname]\n",
    "        print(\"\\t%s\" % subprocess.run(subprocess_str, capture_output=True))"
   ]
  },
  {
   "cell_type": "markdown",
   "metadata": {},
   "source": [
    "## Rename folders"
   ]
  },
  {
   "cell_type": "code",
   "execution_count": null,
   "metadata": {},
   "outputs": [],
   "source": [
    "for week in weeks:\n",
    "    # Rename folders\n",
    "    folder_name = \"%02d\" % week\n",
    "    folder_name_new = \"module-%02d\" % week\n",
    "    subprocess_str = [\n",
    "        \"git\",\n",
    "        \"mv\",\n",
    "        \"%s\" % folder_name,\n",
    "        \"%s\" % folder_name_new,\n",
    "    ]\n",
    "    print(\" \".join(subprocess_str))\n",
    "    # print(subprocess.run(subprocess_str, capture_output=True))"
   ]
  },
  {
   "cell_type": "markdown",
   "metadata": {},
   "source": [
    "## Rename scratchpads"
   ]
  },
  {
   "cell_type": "code",
   "execution_count": null,
   "metadata": {},
   "outputs": [],
   "source": [
    "for week in weeks:\n",
    "    folder_name = \"%02d\" % week\n",
    "    notebook_stub = \"scratchpad.ipynb\"\n",
    "    notebook_fullname = folder_name + \"/\" + notebook_stub\n",
    "\n",
    "    # Rename scratchpads\n",
    "    notebook_prefix = \"module_\" + format(week, \"02d\") + \"_\"\n",
    "    notebook_fullname_new = folder_name + \"/\" + notebook_prefix + notebook_stub\n",
    "    subprocess_str = [\n",
    "        \"git\",\n",
    "        \"mv\",\n",
    "        \"%s\" % notebook_fullname,\n",
    "        \"%s\" % notebook_fullname_new,\n",
    "    ]\n",
    "    print(\" \".join(subprocess_str))\n",
    "    # print(subprocess.run(subprocess_str, capture_output=True))"
   ]
  }
 ],
 "metadata": {
  "kernelspec": {
   "display_name": "Python 3",
   "language": "python",
   "name": "python3"
  },
  "language_info": {
   "codemirror_mode": {
    "name": "ipython",
    "version": 3
   },
   "file_extension": ".py",
   "mimetype": "text/x-python",
   "name": "python",
   "nbconvert_exporter": "python",
   "pygments_lexer": "ipython3",
   "version": "3.10.13"
  }
 },
 "nbformat": 4,
 "nbformat_minor": 2
}
