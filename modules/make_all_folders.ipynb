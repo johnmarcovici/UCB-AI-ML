{
 "cells": [
  {
   "cell_type": "code",
   "execution_count": 25,
   "metadata": {},
   "outputs": [],
   "source": [
    "import pathlib\n",
    "import subprocess"
   ]
  },
  {
   "cell_type": "code",
   "execution_count": 26,
   "metadata": {},
   "outputs": [],
   "source": [
    "weeks = range(1, 18)"
   ]
  },
  {
   "cell_type": "markdown",
   "metadata": {},
   "source": [
    "## Make all Module and Module/data folders"
   ]
  },
  {
   "cell_type": "code",
   "execution_count": 27,
   "metadata": {},
   "outputs": [
    {
     "name": "stdout",
     "output_type": "stream",
     "text": [
      "Base folder 01 exists = True, data folder 01/data exists = True\n",
      "Base folder 02 exists = True, data folder 02/data exists = True\n",
      "Base folder 03 exists = True, data folder 03/data exists = True\n",
      "Base folder 04 exists = True, data folder 04/data exists = True\n",
      "Base folder 05 exists = True, data folder 05/data exists = True\n",
      "Base folder 06 exists = True, data folder 06/data exists = True\n",
      "Base folder 07 exists = True, data folder 07/data exists = True\n",
      "Base folder 08 exists = True, data folder 08/data exists = True\n",
      "Base folder 09 exists = True, data folder 09/data exists = True\n",
      "Base folder 10 exists = True, data folder 10/data exists = True\n",
      "Base folder 11 exists = True, data folder 11/data exists = True\n",
      "Base folder 12 exists = True, data folder 12/data exists = True\n",
      "Base folder 13 exists = True, data folder 13/data exists = True\n",
      "Base folder 14 exists = True, data folder 14/data exists = True\n",
      "Base folder 15 exists = True, data folder 15/data exists = True\n",
      "Base folder 16 exists = True, data folder 16/data exists = True\n",
      "Base folder 17 exists = True, data folder 17/data exists = True\n"
     ]
    }
   ],
   "source": [
    "for week in weeks:\n",
    "    folder_name = \"%02d\" % week\n",
    "    data_folder = folder_name + \"/data\"\n",
    "    print(\n",
    "        \"Base folder %s exists = %s, data folder %s exists = %s\"\n",
    "        % (\n",
    "            folder_name,\n",
    "            pathlib.Path(folder_name).is_dir(),\n",
    "            data_folder,\n",
    "            pathlib.Path(data_folder).is_dir(),\n",
    "        )\n",
    "    )\n",
    "\n",
    "    # Make dir if not exists\n",
    "    if not pathlib.Path(data_folder).is_dir():\n",
    "        pathlib.Path(data_folder).mkdir(parents=True, exist_ok=True)"
   ]
  },
  {
   "cell_type": "markdown",
   "metadata": {},
   "source": [
    "## Copy scratchpads to all folders if they don't exist"
   ]
  },
  {
   "cell_type": "code",
   "execution_count": 28,
   "metadata": {},
   "outputs": [],
   "source": [
    "for week in weeks:\n",
    "    folder_name = \"%02d\" % week\n",
    "    notebook_stub = \"scratchpad.ipynb\"\n",
    "    notebook_prefix = \"module_\" + format(week, \"02d\") + \"_\"\n",
    "    notebook_fullname = folder_name + \"/\" + notebook_prefix + notebook_stub\n",
    "\n",
    "    # Copy scratchpad from base to folder if not exists\n",
    "    if not pathlib.Path(notebook_fullname).is_file():\n",
    "        print(\"\\tCopying notebook from %s to %s\" % (notebook_stub, notebook_fullname))\n",
    "        subprocess_str = [\"cp\", notebook_stub, notebook_fullname]\n",
    "        print(subprocess.run(subprocess_str, capture_output=True))"
   ]
  },
  {
   "cell_type": "markdown",
   "metadata": {},
   "source": [
    "## Rename folders"
   ]
  },
  {
   "cell_type": "code",
   "execution_count": 29,
   "metadata": {},
   "outputs": [
    {
     "name": "stdout",
     "output_type": "stream",
     "text": [
      "git mv 01 module-01\n",
      "git mv 02 module-02\n",
      "git mv 03 module-03\n",
      "git mv 04 module-04\n",
      "git mv 05 module-05\n",
      "git mv 06 module-06\n",
      "git mv 07 module-07\n",
      "git mv 08 module-08\n",
      "git mv 09 module-09\n",
      "git mv 10 module-10\n",
      "git mv 11 module-11\n",
      "git mv 12 module-12\n",
      "git mv 13 module-13\n",
      "git mv 14 module-14\n",
      "git mv 15 module-15\n",
      "git mv 16 module-16\n",
      "git mv 17 module-17\n"
     ]
    }
   ],
   "source": [
    "for week in weeks:\n",
    "    # Rename folders\n",
    "    folder_name = \"%02d\" % week\n",
    "    folder_name_new = \"module-%02d\" % week\n",
    "    subprocess_str = [\n",
    "        \"git\",\n",
    "        \"mv\",\n",
    "        \"%s\" % folder_name,\n",
    "        \"%s\" % folder_name_new,\n",
    "    ]\n",
    "    print(\" \".join(subprocess_str))\n",
    "    # print(subprocess.run(subprocess_str, capture_output=True))"
   ]
  },
  {
   "cell_type": "markdown",
   "metadata": {},
   "source": [
    "## Rename scratchpads"
   ]
  },
  {
   "cell_type": "code",
   "execution_count": 30,
   "metadata": {},
   "outputs": [
    {
     "name": "stdout",
     "output_type": "stream",
     "text": [
      "git mv 01/scratchpad.ipynb 01/module_01_scratchpad.ipynb\n",
      "git mv 02/scratchpad.ipynb 02/module_02_scratchpad.ipynb\n",
      "git mv 03/scratchpad.ipynb 03/module_03_scratchpad.ipynb\n",
      "git mv 04/scratchpad.ipynb 04/module_04_scratchpad.ipynb\n",
      "git mv 05/scratchpad.ipynb 05/module_05_scratchpad.ipynb\n",
      "git mv 06/scratchpad.ipynb 06/module_06_scratchpad.ipynb\n",
      "git mv 07/scratchpad.ipynb 07/module_07_scratchpad.ipynb\n",
      "git mv 08/scratchpad.ipynb 08/module_08_scratchpad.ipynb\n",
      "git mv 09/scratchpad.ipynb 09/module_09_scratchpad.ipynb\n",
      "git mv 10/scratchpad.ipynb 10/module_10_scratchpad.ipynb\n",
      "git mv 11/scratchpad.ipynb 11/module_11_scratchpad.ipynb\n",
      "git mv 12/scratchpad.ipynb 12/module_12_scratchpad.ipynb\n",
      "git mv 13/scratchpad.ipynb 13/module_13_scratchpad.ipynb\n",
      "git mv 14/scratchpad.ipynb 14/module_14_scratchpad.ipynb\n",
      "git mv 15/scratchpad.ipynb 15/module_15_scratchpad.ipynb\n",
      "git mv 16/scratchpad.ipynb 16/module_16_scratchpad.ipynb\n",
      "git mv 17/scratchpad.ipynb 17/module_17_scratchpad.ipynb\n"
     ]
    }
   ],
   "source": [
    "for week in weeks:\n",
    "    folder_name = \"%02d\" % week\n",
    "    notebook_stub = \"scratchpad.ipynb\"\n",
    "    notebook_fullname = folder_name + \"/\" + notebook_stub\n",
    "\n",
    "    # Rename scratchpads\n",
    "    notebook_prefix = \"module_\" + format(week, \"02d\") + \"_\"\n",
    "    notebook_fullname_new = folder_name + \"/\" + notebook_prefix + notebook_stub\n",
    "    subprocess_str = [\n",
    "        \"git\",\n",
    "        \"mv\",\n",
    "        \"%s\" % notebook_fullname,\n",
    "        \"%s\" % notebook_fullname_new,\n",
    "    ]\n",
    "    print(\" \".join(subprocess_str))\n",
    "    # print(subprocess.run(subprocess_str, capture_output=True))"
   ]
  }
 ],
 "metadata": {
  "kernelspec": {
   "display_name": "Python 3",
   "language": "python",
   "name": "python3"
  },
  "language_info": {
   "codemirror_mode": {
    "name": "ipython",
    "version": 3
   },
   "file_extension": ".py",
   "mimetype": "text/x-python",
   "name": "python",
   "nbconvert_exporter": "python",
   "pygments_lexer": "ipython3",
   "version": "3.9.2"
  }
 },
 "nbformat": 4,
 "nbformat_minor": 2
}
