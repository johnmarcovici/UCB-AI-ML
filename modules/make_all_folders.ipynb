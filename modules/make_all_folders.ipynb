{
 "cells": [
  {
   "cell_type": "code",
   "execution_count": 1,
   "metadata": {},
   "outputs": [],
   "source": [
    "import pathlib\n",
    "import subprocess"
   ]
  },
  {
   "cell_type": "code",
   "execution_count": 5,
   "metadata": {},
   "outputs": [
    {
     "name": "stdout",
     "output_type": "stream",
     "text": [
      "Folder 01 exists True data folder 01/data exists True notebook 01/scratchpad.ipynb exists False\n",
      "Folder 02 exists True data folder 02/data exists True notebook 02/scratchpad.ipynb exists False\n",
      "Folder 03 exists True data folder 03/data exists True notebook 03/scratchpad.ipynb exists False\n",
      "Folder 04 exists True data folder 04/data exists True notebook 04/scratchpad.ipynb exists False\n",
      "Folder 05 exists True data folder 05/data exists True notebook 05/scratchpad.ipynb exists False\n",
      "Folder 06 exists True data folder 06/data exists True notebook 06/scratchpad.ipynb exists False\n",
      "Folder 07 exists True data folder 07/data exists True notebook 07/scratchpad.ipynb exists False\n",
      "Folder 08 exists True data folder 08/data exists True notebook 08/scratchpad.ipynb exists False\n",
      "Folder 09 exists True data folder 09/data exists True notebook 09/scratchpad.ipynb exists False\n",
      "Folder 10 exists True data folder 10/data exists True notebook 10/scratchpad.ipynb exists False\n",
      "Folder 11 exists True data folder 11/data exists True notebook 11/scratchpad.ipynb exists False\n",
      "Folder 12 exists True data folder 12/data exists True notebook 12/scratchpad.ipynb exists False\n",
      "Folder 13 exists True data folder 13/data exists True notebook 13/scratchpad.ipynb exists False\n",
      "Folder 14 exists True data folder 14/data exists True notebook 14/scratchpad.ipynb exists False\n",
      "Folder 15 exists True data folder 15/data exists True notebook 15/scratchpad.ipynb exists False\n",
      "Folder 16 exists True data folder 16/data exists True notebook 16/scratchpad.ipynb exists False\n",
      "Folder 17 exists True data folder 17/data exists True notebook 17/scratchpad.ipynb exists False\n"
     ]
    }
   ],
   "source": [
    "weeks = range(1, 18)\n",
    "for week in weeks:\n",
    "    folder_name = \"%02d\" % week\n",
    "    if 0:\n",
    "        # Rename folders\n",
    "        folder_name_new = \"%02d\" % week\n",
    "        subprocess_str = [\n",
    "            \"git\",\n",
    "            \"mv\",\n",
    "            \"%s\" % folder_name,\n",
    "            \"%s\" % folder_name_new,\n",
    "        ]\n",
    "        # print(subprocess_str)\n",
    "        print(subprocess.run(subprocess_str, capture_output=True))\n",
    "        # continue\n",
    "        folder_name = folder_name_new\n",
    "\n",
    "    data_folder = folder_name + \"/data\"\n",
    "    notebook_stub = \"scratchpad.ipynb\"\n",
    "    notebook_fullname = folder_name + \"/\" + notebook_stub\n",
    "\n",
    "    print(\n",
    "        \"Folder %s exists %s data folder %s exists %s notebook %s exists %s\"\n",
    "        % (\n",
    "            folder_name,\n",
    "            pathlib.Path(folder_name).is_dir(),\n",
    "            data_folder,\n",
    "            pathlib.Path(data_folder).is_dir(),\n",
    "            notebook_fullname,\n",
    "            pathlib.Path(notebook_fullname).is_file(),\n",
    "        )\n",
    "    )\n",
    "\n",
    "    # Make dir if not exists\n",
    "    if not pathlib.Path(data_folder).is_dir() and False:\n",
    "        pathlib.Path(data_folder).mkdir(parents=True, exist_ok=True)\n",
    "\n",
    "    # Copy scratchpad from base to folder if not exists\n",
    "    if not pathlib.Path(notebook_fullname).is_file() and False:\n",
    "        print(\"\\tNeed to copy this from %s to %s\" % (notebook_stub, notebook_fullname))\n",
    "        subprocess_str = [\"cp\", notebook_stub, notebook_fullname]\n",
    "        print(subprocess.run(subprocess_str, capture_output=True))\n",
    "\n",
    "    if 1:\n",
    "        # Rename scratchpads\n",
    "        notebook_fullname_new = notebook_fullname.replace(\"module_\", \"\")\n",
    "        subprocess_str = [\n",
    "            \"git\",\n",
    "            \"mv\",\n",
    "            \"%s\" % notebook_fullname,\n",
    "            \"%s\" % notebook_fullname_new,\n",
    "        ]\n",
    "        print(subprocess_str)\n",
    "        # print(subprocess.run(subprocess_str, capture_output=True))"
   ]
  }
 ],
 "metadata": {
  "kernelspec": {
   "display_name": "Python 3",
   "language": "python",
   "name": "python3"
  },
  "language_info": {
   "codemirror_mode": {
    "name": "ipython",
    "version": 3
   },
   "file_extension": ".py",
   "mimetype": "text/x-python",
   "name": "python",
   "nbconvert_exporter": "python",
   "pygments_lexer": "ipython3",
   "version": "3.9.2"
  }
 },
 "nbformat": 4,
 "nbformat_minor": 2
}
