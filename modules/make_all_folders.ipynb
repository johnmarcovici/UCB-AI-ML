{
 "cells": [
  {
   "cell_type": "code",
   "execution_count": null,
   "metadata": {},
   "outputs": [],
   "source": [
    "import pathlib\n",
    "import subprocess"
   ]
  },
  {
   "cell_type": "code",
   "execution_count": null,
   "metadata": {},
   "outputs": [],
   "source": [
    "weeks = range(1, 27)"
   ]
  },
  {
   "cell_type": "markdown",
   "metadata": {},
   "source": [
    "## Make all Module, Module/data, and Module/images folders"
   ]
  },
  {
   "cell_type": "code",
   "execution_count": null,
   "metadata": {},
   "outputs": [],
   "source": [
    "for week in weeks:\n",
    "    folder_name = \"%02d\" % week\n",
    "    data_folder = folder_name + \"/data\"\n",
    "    images_folder = folder_name + \"/images\"\n",
    "    print(\n",
    "        \"Week %02d\\n\\tBase folder %s exists = %s\\n\\tdata folder %s exists = %s\\n\\timages folder %s exists = %s\"\n",
    "        % (\n",
    "            week,\n",
    "            folder_name,\n",
    "            pathlib.Path(folder_name).is_dir(),\n",
    "            data_folder,\n",
    "            pathlib.Path(data_folder).is_dir(),\n",
    "            images_folder,\n",
    "            pathlib.Path(images_folder).is_dir(),\n",
    "        )\n",
    "    )\n",
    "\n",
    "    # Make folder if they do not exist\n",
    "    for folder in [data_folder, images_folder]:\n",
    "        if not pathlib.Path(folder).is_dir():\n",
    "            pathlib.Path(folder).mkdir(parents=True, exist_ok=True)\n",
    "\n",
    "            # Add a .keep file to folder, so git will recognize and add it\n",
    "            print(\n",
    "                \"\\t%s\"\n",
    "                % subprocess.run([\"touch\", folder + \"/.keep\"], capture_output=True)\n",
    "            )"
   ]
  },
  {
   "cell_type": "markdown",
   "metadata": {},
   "source": [
    "## Copy scratchpads to all folders if they don't exist"
   ]
  },
  {
   "cell_type": "code",
   "execution_count": null,
   "metadata": {},
   "outputs": [],
   "source": [
    "for week in weeks:\n",
    "    folder_name = \"%02d\" % week\n",
    "    notebook_stub = \"scratchpad.ipynb\"\n",
    "    notebook_prefix = \"module_\" + format(week, \"02d\") + \"_\"\n",
    "    notebook_fullname = folder_name + \"/\" + notebook_prefix + notebook_stub\n",
    "\n",
    "    # Copy scratchpad from base to folder if not exists\n",
    "    if not pathlib.Path(notebook_fullname).is_file():\n",
    "        print(\"Copying notebook from %s to %s\" % (notebook_stub, notebook_fullname))\n",
    "        subprocess_str = [\"cp\", notebook_stub, notebook_fullname]\n",
    "        print(\"\\t%s\" % subprocess.run(subprocess_str, capture_output=True))"
   ]
  },
  {
   "cell_type": "markdown",
   "metadata": {},
   "source": [
    "## Rename folders"
   ]
  },
  {
   "cell_type": "code",
   "execution_count": null,
   "metadata": {},
   "outputs": [],
   "source": [
    "for week in weeks:\n",
    "    # Rename folders\n",
    "    folder_name = \"%02d\" % week\n",
    "    folder_name_new = \"module-%02d\" % week\n",
    "    subprocess_str = [\n",
    "        \"git\",\n",
    "        \"mv\",\n",
    "        \"%s\" % folder_name,\n",
    "        \"%s\" % folder_name_new,\n",
    "    ]\n",
    "    print(\" \".join(subprocess_str))\n",
    "    # print(subprocess.run(subprocess_str, capture_output=True))"
   ]
  },
  {
   "cell_type": "markdown",
   "metadata": {},
   "source": [
    "## Rename scratchpads"
   ]
  },
  {
   "cell_type": "code",
   "execution_count": null,
   "metadata": {},
   "outputs": [],
   "source": [
    "for week in weeks:\n",
    "    folder_name = \"%02d\" % week\n",
    "    notebook_stub = \"scratchpad.ipynb\"\n",
    "    notebook_fullname = folder_name + \"/\" + notebook_stub\n",
    "\n",
    "    # Rename scratchpads\n",
    "    notebook_prefix = \"module_\" + format(week, \"02d\") + \"_\"\n",
    "    notebook_fullname_new = folder_name + \"/\" + notebook_prefix + notebook_stub\n",
    "    subprocess_str = [\n",
    "        \"git\",\n",
    "        \"mv\",\n",
    "        \"%s\" % notebook_fullname,\n",
    "        \"%s\" % notebook_fullname_new,\n",
    "    ]\n",
    "    print(\" \".join(subprocess_str))\n",
    "    # print(subprocess.run(subprocess_str, capture_output=True))"
   ]
  }
 ],
 "metadata": {
  "kernelspec": {
   "display_name": "Python 3",
   "language": "python",
   "name": "python3"
  },
  "language_info": {
   "codemirror_mode": {
    "name": "ipython",
    "version": 3
   },
   "file_extension": ".py",
   "mimetype": "text/x-python",
   "name": "python",
   "nbconvert_exporter": "python",
   "pygments_lexer": "ipython3",
   "version": "3.10.13"
  }
 },
 "nbformat": 4,
 "nbformat_minor": 2
}
