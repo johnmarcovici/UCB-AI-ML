{
 "cells": [
  {
   "cell_type": "markdown",
   "metadata": {},
   "source": [
    "# Prompt\n",
    "\n",
    "First, you learned about the importance of transforming your data into a stationary series. You tested for stationarity using the adfuller function and interpreted the value of the hypothesis test. If the data was not stationary, you learned how to apply strategies, such as differencing and logarithmic transformations, to achieve stationarity.\n",
    "\n",
    "Once the series was stationary, building an ARMA model involved using autocorrelation and partial autocorrelation plots to determine the appropriate p and q parameters of the model.\n",
    "\n",
    "This activity asks you to identify a time series of interest to you and build an ARMA model to construct a basic forecast for the series and analyze the error. You might also consider building models with different p and q parameters because, while ACF and PACF plots are helpful, they provide rough ideas of the appropriate parameters, and it is usually good practice to perform a simple grid search on these. \n",
    "\n",
    "Please find a time series dataset using any resource you would like, and present your model and findings to the class.  \n",
    "\n",
    "If you have trouble locating a dataset or would prefer a suggestion, try the [Rossmann Store Sales](https://www.kaggle.com/c/rossmann-store-sales) from Kaggle. This dataset involves forecasting retail store sales for a major drug store."
   ]
  },
  {
   "cell_type": "markdown",
   "metadata": {},
   "source": [
    "# Imports"
   ]
  },
  {
   "cell_type": "code",
   "execution_count": null,
   "metadata": {},
   "outputs": [],
   "source": [
    "import warnings\n",
    "import statsmodels.api as sm\n",
    "import matplotlib.pyplot as plt\n",
    "import matplotlib as mpl\n",
    "import pandas as pd\n",
    "import numpy as np\n",
    "\n",
    "from statsmodels.tsa.seasonal import seasonal_decompose, _extrapolate_trend\n",
    "from statsmodels.tsa.filters.filtertools import convolution_filter\n",
    "from statsmodels.tsa.stattools import adfuller\n",
    "from statsmodels.graphics.tsaplots import plot_acf, plot_pacf\n",
    "from statsmodels.tsa.arima.model import ARIMA\n",
    "from statsmodels.tsa.seasonal import seasonal_decompose, STL\n",
    "from statsmodels.tsa.forecasting.stl import STLForecast\n",
    "from sklearn.metrics import root_mean_squared_error, mean_absolute_error"
   ]
  },
  {
   "cell_type": "code",
   "execution_count": null,
   "metadata": {},
   "outputs": [],
   "source": [
    "warnings.filterwarnings(\"ignore\")\n",
    "pd.set_option(\"display.max_columns\", None)\n",
    "mpl.rcParams.update({\"axes.grid\": True})"
   ]
  },
  {
   "cell_type": "markdown",
   "metadata": {},
   "source": [
    "# Data Load\n",
    "\n",
    "Looking at snowfall per month for Mammoth Mountain, from 1969 to the present, as obtained from  \n",
    "- https://www.mammothmountain.com/on-the-mountain/snowfall-history\n",
    "\n",
    "See [pre-processing notebook](./mammoth_snowfall_datagen.ipynb) for how I generated this table from the Mammoth website data"
   ]
  },
  {
   "cell_type": "code",
   "execution_count": null,
   "metadata": {},
   "outputs": [],
   "source": [
    "df = pd.read_csv(\"./data/mammoth_mountain_snowfall_melted_table.csv\")\n",
    "df.head()"
   ]
  },
  {
   "cell_type": "code",
   "execution_count": null,
   "metadata": {},
   "outputs": [],
   "source": [
    "df[\"Date\"] = pd.to_datetime(df[\"Date\"])\n",
    "df = df.set_index(\"Date\").drop(columns=\"Month\")\n",
    "df.head()"
   ]
  },
  {
   "cell_type": "markdown",
   "metadata": {},
   "source": [
    "# All Data"
   ]
  },
  {
   "cell_type": "markdown",
   "metadata": {},
   "source": [
    "## Plot"
   ]
  },
  {
   "cell_type": "code",
   "execution_count": null,
   "metadata": {},
   "outputs": [],
   "source": [
    "y_all = df[\"Snow Fall\"]"
   ]
  },
  {
   "cell_type": "code",
   "execution_count": null,
   "metadata": {},
   "outputs": [],
   "source": [
    "plt.figure(figsize=(16, 4))\n",
    "plt.plot(y_all, color=\"blue\", lw=2)\n",
    "plt.title(\"Monthly Snow Fall at Mammoth Mountain\")\n",
    "plt.xlabel(\"Time\")\n",
    "plt.ylabel(\"Monthly Snow Fall (in)\")\n",
    "plt.show()"
   ]
  },
  {
   "cell_type": "markdown",
   "metadata": {},
   "source": [
    "## Not Stationary"
   ]
  },
  {
   "cell_type": "code",
   "execution_count": null,
   "metadata": {},
   "outputs": [],
   "source": [
    "plot_acf(y_all, lags=50)\n",
    "plt.xlabel(\"Lag\")\n",
    "plt.ylabel(\"Corr\")\n",
    "plt.show()"
   ]
  },
  {
   "cell_type": "code",
   "execution_count": null,
   "metadata": {},
   "outputs": [],
   "source": [
    "display(adfuller(y_all))"
   ]
  },
  {
   "cell_type": "markdown",
   "metadata": {},
   "source": [
    "# First Difference"
   ]
  },
  {
   "cell_type": "markdown",
   "metadata": {},
   "source": [
    "## Plot"
   ]
  },
  {
   "cell_type": "code",
   "execution_count": null,
   "metadata": {},
   "outputs": [],
   "source": [
    "y_diff = df[\"Snow Fall\"].diff().dropna()"
   ]
  },
  {
   "cell_type": "code",
   "execution_count": null,
   "metadata": {},
   "outputs": [],
   "source": [
    "plt.figure(figsize=(16, 4))\n",
    "plt.plot(y_diff, color=\"blue\", lw=2)\n",
    "plt.title(\"First Difference of Monthly Snow Fall at Mammoth Mountain\")\n",
    "plt.xlabel(\"Time\")\n",
    "plt.ylabel(\"Month-to-Month Difference in Snow Fall (in)\")\n",
    "# plt.legend(loc=\"upper left\")\n",
    "plt.show()"
   ]
  },
  {
   "cell_type": "markdown",
   "metadata": {},
   "source": [
    "## Somewhat Stationary"
   ]
  },
  {
   "cell_type": "code",
   "execution_count": null,
   "metadata": {},
   "outputs": [],
   "source": [
    "(fig, ax) = plt.subplots(nrows=1, ncols=2, figsize=(16, 4))\n",
    "plot_acf(y_diff, lags=50, ax=ax[0])\n",
    "plt.xlabel(\"Lag\")\n",
    "plt.ylabel(\"Corr\")\n",
    "plot_pacf(y_diff, lags=50, ax=ax[1])\n",
    "plt.xlabel(\"Lag\")\n",
    "plt.ylabel(\"Corr\")\n",
    "plt.show()"
   ]
  },
  {
   "cell_type": "code",
   "execution_count": null,
   "metadata": {},
   "outputs": [],
   "source": [
    "display(adfuller(y_diff))"
   ]
  },
  {
   "cell_type": "markdown",
   "metadata": {},
   "source": [
    "# Second Difference"
   ]
  },
  {
   "cell_type": "code",
   "execution_count": null,
   "metadata": {},
   "outputs": [],
   "source": [
    "y_diff2 = y_diff.diff().dropna()"
   ]
  },
  {
   "cell_type": "code",
   "execution_count": null,
   "metadata": {},
   "outputs": [],
   "source": [
    "plt.figure(figsize=(16, 4))\n",
    "plt.plot(y_diff2, color=\"blue\", lw=2)\n",
    "plt.title(\"Second Difference of Monthly Snow Fall at Mammoth Mountain\")\n",
    "plt.xlabel(\"Time\")\n",
    "plt.ylabel(\"Month-to-Month Difference in Snow Fall (in)\")\n",
    "# plt.legend(loc=\"upper left\")\n",
    "plt.show()"
   ]
  },
  {
   "cell_type": "markdown",
   "metadata": {},
   "source": [
    "## More Stationary - Use AR(p=4) and MA(q=1)\n",
    "\n",
    "So choose to model 2nd difference\n",
    "\n",
    "AR(p)\n",
    "- PACF\n",
    "- p = 4  \n",
    "\n",
    "MA(q)\n",
    "- ACF\n",
    "- q = 1  "
   ]
  },
  {
   "cell_type": "code",
   "execution_count": null,
   "metadata": {},
   "outputs": [],
   "source": [
    "(fig, ax) = plt.subplots(nrows=1, ncols=2, figsize=(16, 4))\n",
    "plot_acf(y_diff2, lags=10, ax=ax[0])\n",
    "plt.xlabel(\"Lag\")\n",
    "plt.ylabel(\"Corr\")\n",
    "plot_pacf(y_diff2, lags=10, ax=ax[1])\n",
    "plt.xlabel(\"Lag\")\n",
    "plt.ylabel(\"Corr\")\n",
    "plt.show()"
   ]
  },
  {
   "cell_type": "code",
   "execution_count": null,
   "metadata": {},
   "outputs": [],
   "source": [
    "display(adfuller(y_diff2))"
   ]
  },
  {
   "cell_type": "markdown",
   "metadata": {},
   "source": [
    "# Train / Test Split on y_diff2"
   ]
  },
  {
   "cell_type": "code",
   "execution_count": null,
   "metadata": {},
   "outputs": [],
   "source": [
    "y_target = y_diff2"
   ]
  },
  {
   "cell_type": "code",
   "execution_count": null,
   "metadata": {},
   "outputs": [],
   "source": [
    "n_months_future = 16\n",
    "y_history = y_target[: len(y_target) - n_months_future]\n",
    "y_future = y_target[len(y_target) - n_months_future :]"
   ]
  },
  {
   "cell_type": "markdown",
   "metadata": {},
   "source": [
    "# Fit with ARIMA"
   ]
  },
  {
   "cell_type": "code",
   "execution_count": null,
   "metadata": {},
   "outputs": [],
   "source": [
    "order_p_d_q = (2, 0, 2)\n",
    "estimator = ARIMA(y_history, order=order_p_d_q).fit()\n",
    "y_fit = estimator.predict()\n",
    "y_forecast = estimator.forecast(steps=len(y_future))\n",
    "mae_fit = mean_absolute_error(y_history, y_fit)\n",
    "rmse_fit = root_mean_squared_error(y_history, y_fit)\n",
    "plt.plot(y_history, color=\"black\")\n",
    "plt.plot(y_fit, color=\"blue\")\n",
    "plt.title(\"Fit Errors MAE = %.2f, RMSE = %.2f\" % (mae_fit, rmse_fit))"
   ]
  },
  {
   "cell_type": "code",
   "execution_count": null,
   "metadata": {},
   "outputs": [],
   "source": [
    "mae_fit = mean_absolute_error(y_history, y_fit)\n",
    "rmse_fit = root_mean_squared_error(y_history, y_fit)\n",
    "mae_forecast = mean_absolute_error(y_future, y_forecast)\n",
    "rmse_forecast = root_mean_squared_error(y_future, y_forecast)\n",
    "[mae_fit, rmse_fit, mae_forecast, rmse_forecast]"
   ]
  },
  {
   "cell_type": "code",
   "execution_count": null,
   "metadata": {},
   "outputs": [],
   "source": [
    "nplot = 10*12\n",
    "plt.figure(figsize=(16, 4))\n",
    "plt.plot(y_history[-nplot:], color=\"black\", label=\"Observed\")\n",
    "plt.plot(\n",
    "    y_fit[-nplot:],\n",
    "    color=\"blue\",\n",
    "    label=\"Fit (MAE, RMSE) = %.2f, %.2f\" % (mae_fit, rmse_fit),\n",
    ")\n",
    "# plt.plot(\n",
    "#     y_forecast[-nplot:],\n",
    "#     color=\"blue\",\n",
    "#     label=\"Sarima Forecast (MAE, RMSE) = %.2f, %.2f\"\n",
    "#     % (mae_forecast, rmse_forecast),\n",
    "# )\n",
    "plt.title(\"Monthly Snow Fall at Mammoth Mountain\")\n",
    "plt.xlabel(\"Year\")\n",
    "plt.ylabel(\"Monthly Snow Fall (inches)\")\n",
    "plt.legend(loc=\"upper left\")\n",
    "plt.show()"
   ]
  },
  {
   "cell_type": "code",
   "execution_count": null,
   "metadata": {},
   "outputs": [],
   "source": [
    "plt.figure(figsize=(16, 4))\n",
    "plt.plot(estimator.resid, color=\"black\", lw=2, label=\"Fit Residual\")\n",
    "plt.title(\"Model Residue\")\n",
    "plt.xlabel(\"Year\")\n",
    "plt.ylabel(\"Fit Error (inches)\")\n",
    "plt.legend(loc=\"upper left\")\n",
    "plt.show()"
   ]
  },
  {
   "cell_type": "code",
   "execution_count": null,
   "metadata": {},
   "outputs": [],
   "source": [
    "(fig, ax) = plt.subplots(nrows=1, ncols=1, figsize=(16, 8))\n",
    "ax.plot(y_future, color=\"black\", lw=2, label=\"Future\")\n",
    "ax.plot(y_forecast, color=\"blue\", lw=2, label=\"Sarima Forecast\")\n",
    "ax.set_ylabel(\"Monthly Snowfall (inches)\")\n",
    "\n",
    "# ax.plot(\n",
    "#     y_future - y_forecast,\n",
    "#     color=\"red\",\n",
    "#     lw=2,\n",
    "#     label=\"Sarima Forecast Errors (MAE, RMSE) = %.2f, %.2f\"\n",
    "#     % (mae_forecast, rmse_forecast),\n",
    "# )\n",
    "\n",
    "ax.set_xlabel(\"Year\")\n",
    "ax.legend(loc=\"upper left\")\n",
    "plt.title(\"Monthly Snowfall, Future and Forecasted\")\n",
    "plt.show()"
   ]
  }
 ],
 "metadata": {
  "kernelspec": {
   "display_name": "venv",
   "language": "python",
   "name": "python3"
  },
  "language_info": {
   "codemirror_mode": {
    "name": "ipython",
    "version": 3
   },
   "file_extension": ".py",
   "mimetype": "text/x-python",
   "name": "python",
   "nbconvert_exporter": "python",
   "pygments_lexer": "ipython3",
   "version": "3.10.13"
  }
 },
 "nbformat": 4,
 "nbformat_minor": 2
}
