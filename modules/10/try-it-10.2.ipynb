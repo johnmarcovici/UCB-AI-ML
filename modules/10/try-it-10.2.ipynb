{
 "cells": [
  {
   "cell_type": "markdown",
   "metadata": {},
   "source": [
    "# Prompt\n",
    "\n",
    "You have now learned to decompose a time series into seasonal and trend components and to use time series to forecast into the future using statsmodels. In this activity, your goal is to identify a new (to you) time series dataset and build a forecast using a seasonal and trend additive or multiplicative model using statsmodels.\n",
    "\n",
    "Summarize your findings in an executive brief that explores the following:\n",
    "\n",
    "Data description: Provide a high-level overview of your data and its timeframe along with general information on your dataset\n",
    "Forecast: Give a description of the forecast. Describe the period that was projected and what the forecast implies about your data. Be sure to include presentation-ready plots with appropriate labels and titles.\n",
    "Uncertainty: Discuss the evaluation of your model on testing data, and explore the residuals. Discuss the consequence of this error for your model and forecasts. Is there still structure to uncover?"
   ]
  },
  {
   "cell_type": "markdown",
   "metadata": {},
   "source": [
    "# Imports"
   ]
  },
  {
   "cell_type": "code",
   "execution_count": 1,
   "metadata": {},
   "outputs": [],
   "source": [
    "import warnings\n",
    "import statsmodels.api as sm\n",
    "import matplotlib.pyplot as plt\n",
    "import matplotlib as mpl\n",
    "import pandas as pd\n",
    "import numpy as np\n",
    "\n",
    "from statsmodels.tsa.seasonal import seasonal_decompose, _extrapolate_trend\n",
    "from statsmodels.tsa.filters.filtertools import convolution_filter"
   ]
  },
  {
   "cell_type": "code",
   "execution_count": 2,
   "metadata": {},
   "outputs": [],
   "source": [
    "warnings.filterwarnings(\"ignore\")\n",
    "pd.set_option(\"display.max_columns\", None)\n",
    "mpl.rcParams.update({\"axes.grid\": True})"
   ]
  },
  {
   "cell_type": "markdown",
   "metadata": {},
   "source": [
    "# Data Load\n",
    "\n",
    "Monthly Water Levels, from  \n",
    "https://tidesandcurrents.noaa.gov/cgi-bin/reports.cgi?type=maxmin&bdate=19800408&datum=MSL&edate=20240407&units=standard&id=9419750&retrieve=&print=1"
   ]
  },
  {
   "cell_type": "code",
   "execution_count": 3,
   "metadata": {},
   "outputs": [
    {
     "data": {
      "text/html": [
       "<div>\n",
       "<style scoped>\n",
       "    .dataframe tbody tr th:only-of-type {\n",
       "        vertical-align: middle;\n",
       "    }\n",
       "\n",
       "    .dataframe tbody tr th {\n",
       "        vertical-align: top;\n",
       "    }\n",
       "\n",
       "    .dataframe thead th {\n",
       "        text-align: right;\n",
       "    }\n",
       "</style>\n",
       "<table border=\"1\" class=\"dataframe\">\n",
       "  <thead>\n",
       "    <tr style=\"text-align: right;\">\n",
       "      <th></th>\n",
       "      <th>Year</th>\n",
       "      <th>Month</th>\n",
       "      <th>Zone</th>\n",
       "      <th>MaxDate</th>\n",
       "      <th>MaxTime</th>\n",
       "      <th>MaxWL</th>\n",
       "      <th>MinDate</th>\n",
       "      <th>MinTime</th>\n",
       "      <th>MinWL</th>\n",
       "    </tr>\n",
       "  </thead>\n",
       "  <tbody>\n",
       "    <tr>\n",
       "      <th>0</th>\n",
       "      <td>1980</td>\n",
       "      <td>4</td>\n",
       "      <td>LST</td>\n",
       "      <td>19800415</td>\n",
       "      <td>00:00</td>\n",
       "      <td>4.10</td>\n",
       "      <td>19800417</td>\n",
       "      <td>00:00</td>\n",
       "      <td>-5.23</td>\n",
       "    </tr>\n",
       "    <tr>\n",
       "      <th>1</th>\n",
       "      <td>1980</td>\n",
       "      <td>5</td>\n",
       "      <td>LST</td>\n",
       "      <td>19800514</td>\n",
       "      <td>00:00</td>\n",
       "      <td>4.04</td>\n",
       "      <td>19800516</td>\n",
       "      <td>00:00</td>\n",
       "      <td>-5.85</td>\n",
       "    </tr>\n",
       "    <tr>\n",
       "      <th>2</th>\n",
       "      <td>1980</td>\n",
       "      <td>6</td>\n",
       "      <td>LST</td>\n",
       "      <td>19800611</td>\n",
       "      <td>00:00</td>\n",
       "      <td>4.06</td>\n",
       "      <td>19800613</td>\n",
       "      <td>00:00</td>\n",
       "      <td>-5.48</td>\n",
       "    </tr>\n",
       "    <tr>\n",
       "      <th>3</th>\n",
       "      <td>1980</td>\n",
       "      <td>7</td>\n",
       "      <td>LST</td>\n",
       "      <td>19800727</td>\n",
       "      <td>00:00</td>\n",
       "      <td>4.19</td>\n",
       "      <td>19800712</td>\n",
       "      <td>00:00</td>\n",
       "      <td>-5.25</td>\n",
       "    </tr>\n",
       "    <tr>\n",
       "      <th>4</th>\n",
       "      <td>1980</td>\n",
       "      <td>8</td>\n",
       "      <td>LST</td>\n",
       "      <td>19800808</td>\n",
       "      <td>00:00</td>\n",
       "      <td>3.96</td>\n",
       "      <td>19800826</td>\n",
       "      <td>00:00</td>\n",
       "      <td>-4.77</td>\n",
       "    </tr>\n",
       "    <tr>\n",
       "      <th>...</th>\n",
       "      <td>...</td>\n",
       "      <td>...</td>\n",
       "      <td>...</td>\n",
       "      <td>...</td>\n",
       "      <td>...</td>\n",
       "      <td>...</td>\n",
       "      <td>...</td>\n",
       "      <td>...</td>\n",
       "      <td>...</td>\n",
       "    </tr>\n",
       "    <tr>\n",
       "      <th>516</th>\n",
       "      <td>2023</td>\n",
       "      <td>11</td>\n",
       "      <td>LST</td>\n",
       "      <td>20231115</td>\n",
       "      <td>19:48</td>\n",
       "      <td>4.55</td>\n",
       "      <td>20231128</td>\n",
       "      <td>01:48</td>\n",
       "      <td>-4.99</td>\n",
       "    </tr>\n",
       "    <tr>\n",
       "      <th>517</th>\n",
       "      <td>2023</td>\n",
       "      <td>12</td>\n",
       "      <td>LST</td>\n",
       "      <td>20231227</td>\n",
       "      <td>19:00</td>\n",
       "      <td>5.10</td>\n",
       "      <td>20231215</td>\n",
       "      <td>03:00</td>\n",
       "      <td>-5.34</td>\n",
       "    </tr>\n",
       "    <tr>\n",
       "      <th>518</th>\n",
       "      <td>2024</td>\n",
       "      <td>1</td>\n",
       "      <td>LST</td>\n",
       "      <td>20240113</td>\n",
       "      <td>20:24</td>\n",
       "      <td>4.97</td>\n",
       "      <td>20240112</td>\n",
       "      <td>01:54</td>\n",
       "      <td>-6.00</td>\n",
       "    </tr>\n",
       "    <tr>\n",
       "      <th>519</th>\n",
       "      <td>2024</td>\n",
       "      <td>2</td>\n",
       "      <td>LST</td>\n",
       "      <td>20240207</td>\n",
       "      <td>16:30</td>\n",
       "      <td>4.68</td>\n",
       "      <td>20240210</td>\n",
       "      <td>01:36</td>\n",
       "      <td>-5.58</td>\n",
       "    </tr>\n",
       "    <tr>\n",
       "      <th>520</th>\n",
       "      <td>2024</td>\n",
       "      <td>3</td>\n",
       "      <td>LST</td>\n",
       "      <td>20240312</td>\n",
       "      <td>08:24</td>\n",
       "      <td>4.49</td>\n",
       "      <td>20240309</td>\n",
       "      <td>00:18</td>\n",
       "      <td>-5.10</td>\n",
       "    </tr>\n",
       "  </tbody>\n",
       "</table>\n",
       "<p>521 rows × 9 columns</p>\n",
       "</div>"
      ],
      "text/plain": [
       "     Year  Month Zone   MaxDate MaxTime  MaxWL   MinDate MinTime  MinWL\n",
       "0    1980      4  LST  19800415   00:00   4.10  19800417   00:00  -5.23\n",
       "1    1980      5  LST  19800514   00:00   4.04  19800516   00:00  -5.85\n",
       "2    1980      6  LST  19800611   00:00   4.06  19800613   00:00  -5.48\n",
       "3    1980      7  LST  19800727   00:00   4.19  19800712   00:00  -5.25\n",
       "4    1980      8  LST  19800808   00:00   3.96  19800826   00:00  -4.77\n",
       "..    ...    ...  ...       ...     ...    ...       ...     ...    ...\n",
       "516  2023     11  LST  20231115   19:48   4.55  20231128   01:48  -4.99\n",
       "517  2023     12  LST  20231227   19:00   5.10  20231215   03:00  -5.34\n",
       "518  2024      1  LST  20240113   20:24   4.97  20240112   01:54  -6.00\n",
       "519  2024      2  LST  20240207   16:30   4.68  20240210   01:36  -5.58\n",
       "520  2024      3  LST  20240312   08:24   4.49  20240309   00:18  -5.10\n",
       "\n",
       "[521 rows x 9 columns]"
      ]
     },
     "execution_count": 3,
     "metadata": {},
     "output_type": "execute_result"
    }
   ],
   "source": [
    "tides = pd.read_csv(\"./data/noaa_tides_and_currents_report.txt\", delim_whitespace=True)\n",
    "tides"
   ]
  },
  {
   "cell_type": "code",
   "execution_count": 4,
   "metadata": {},
   "outputs": [],
   "source": [
    "tides[\"Date\"] = pd.to_datetime(tides[\"MaxDate\"], format=\"%Y%m%d\")\n",
    "tides = tides.set_index(\"Date\").drop(\n",
    "    columns=[\"Year\", \"Month\", \"Zone\", \"MaxTime\", \"MinDate\", \"MinTime\", \"MaxDate\"]\n",
    ")"
   ]
  },
  {
   "cell_type": "code",
   "execution_count": 5,
   "metadata": {},
   "outputs": [
    {
     "name": "stdout",
     "output_type": "stream",
     "text": [
      "<class 'pandas.core.frame.DataFrame'>\n",
      "DatetimeIndex: 521 entries, 1980-04-15 to 2024-03-12\n",
      "Data columns (total 2 columns):\n",
      " #   Column  Non-Null Count  Dtype  \n",
      "---  ------  --------------  -----  \n",
      " 0   MaxWL   521 non-null    float64\n",
      " 1   MinWL   521 non-null    float64\n",
      "dtypes: float64(2)\n",
      "memory usage: 12.2 KB\n"
     ]
    }
   ],
   "source": [
    "tides.info()"
   ]
  },
  {
   "cell_type": "code",
   "execution_count": 6,
   "metadata": {},
   "outputs": [
    {
     "data": {
      "text/html": [
       "<div>\n",
       "<style scoped>\n",
       "    .dataframe tbody tr th:only-of-type {\n",
       "        vertical-align: middle;\n",
       "    }\n",
       "\n",
       "    .dataframe tbody tr th {\n",
       "        vertical-align: top;\n",
       "    }\n",
       "\n",
       "    .dataframe thead th {\n",
       "        text-align: right;\n",
       "    }\n",
       "</style>\n",
       "<table border=\"1\" class=\"dataframe\">\n",
       "  <thead>\n",
       "    <tr style=\"text-align: right;\">\n",
       "      <th></th>\n",
       "      <th>MaxWL</th>\n",
       "      <th>MinWL</th>\n",
       "    </tr>\n",
       "    <tr>\n",
       "      <th>Date</th>\n",
       "      <th></th>\n",
       "      <th></th>\n",
       "    </tr>\n",
       "  </thead>\n",
       "  <tbody>\n",
       "    <tr>\n",
       "      <th>1980-04-15</th>\n",
       "      <td>4.10</td>\n",
       "      <td>-5.23</td>\n",
       "    </tr>\n",
       "    <tr>\n",
       "      <th>1980-05-14</th>\n",
       "      <td>4.04</td>\n",
       "      <td>-5.85</td>\n",
       "    </tr>\n",
       "    <tr>\n",
       "      <th>1980-06-11</th>\n",
       "      <td>4.06</td>\n",
       "      <td>-5.48</td>\n",
       "    </tr>\n",
       "    <tr>\n",
       "      <th>1980-07-27</th>\n",
       "      <td>4.19</td>\n",
       "      <td>-5.25</td>\n",
       "    </tr>\n",
       "    <tr>\n",
       "      <th>1980-08-08</th>\n",
       "      <td>3.96</td>\n",
       "      <td>-4.77</td>\n",
       "    </tr>\n",
       "  </tbody>\n",
       "</table>\n",
       "</div>"
      ],
      "text/plain": [
       "            MaxWL  MinWL\n",
       "Date                    \n",
       "1980-04-15   4.10  -5.23\n",
       "1980-05-14   4.04  -5.85\n",
       "1980-06-11   4.06  -5.48\n",
       "1980-07-27   4.19  -5.25\n",
       "1980-08-08   3.96  -4.77"
      ]
     },
     "execution_count": 6,
     "metadata": {},
     "output_type": "execute_result"
    }
   ],
   "source": [
    "tides.head()"
   ]
  },
  {
   "cell_type": "code",
   "execution_count": 10,
   "metadata": {},
   "outputs": [
    {
     "data": {
      "text/plain": [
       "[<matplotlib.lines.Line2D at 0x7fe4cd51e860>]"
      ]
     },
     "execution_count": 10,
     "metadata": {},
     "output_type": "execute_result"
    },
    {
     "data": {
      "image/png": "[encoded data removed]",
      "text/plain": [
       "<Figure size 640x480 with 1 Axes>"
      ]
     },
     "metadata": {},
     "output_type": "display_data"
    }
   ],
   "source": [
    "plt.plot(tides[\"MinWL\"] - tides[\"MinWL\"].mean(), color=\"blue\", label=\"MinWL\")\n",
    "# plt.plot(tides[\"MaxWL\"] - tides[\"MaxWL\"].mean(), color=\"red\", label=\"MaxWL\")"
   ]
  },
  {
   "cell_type": "markdown",
   "metadata": {},
   "source": [
    "# Unused Data Sources"
   ]
  },
  {
   "cell_type": "markdown",
   "metadata": {},
   "source": [
    "## Snow Report\n",
    "\n",
    "Source:  \n",
    "https://wcc.sc.egov.usda.gov/reportGenerator/view_csv/customGroupByMonthReport/monthly/ABY:CA:SNOW%7Cid=%22%22%7Cname/POR_BEGIN,POR_END:1,2,3,4,5,6/WTEQ::collectionDate,SNWD::value,WTEQ::value"
   ]
  },
  {
   "cell_type": "code",
   "execution_count": 8,
   "metadata": {},
   "outputs": [],
   "source": [
    "if 0:\n",
    "    snow = pd.read_csv(\"./data/snow_report.csv\")\n",
    "    pd.to_numeric(snow[\"Jan.1\"], errors=\"coerce\").plot()"
   ]
  },
  {
   "cell_type": "markdown",
   "metadata": {},
   "source": [
    "## Hourly Water Temperatures\n",
    "\n",
    "Source:  \n",
    "https://tidesandcurrents.noaa.gov/physocean.html?bdate=20231001&edate=20240407&units=standard&timezone=GMT&id=9419750&interval=h&action=data"
   ]
  },
  {
   "cell_type": "code",
   "execution_count": 9,
   "metadata": {},
   "outputs": [],
   "source": [
    "if 0:\n",
    "    water_temps = pd.read_csv(\"./data/CO-OPS_9419750_physocean.csv\").drop(\n",
    "        columns=\"Conductivity (mS/cm)\"\n",
    "    )\n",
    "    # water_temps.head()\n",
    "    water_temps[\"Water Temp (°F)\"] = pd.to_numeric(\n",
    "        water_temps[\"Water Temp (°F)\"], errors=\"coerce\"\n",
    "    )\n",
    "    hours = pd.to_datetime(water_temps[\"Time (GMT)\"], format=\"%H:%M\")\n",
    "    dates = pd.to_datetime(water_temps[\"Date\"])\n",
    "    dates_hours = dates\n",
    "    for k in range(len(dates)):\n",
    "        dates_hours[k] += pd.Timedelta(hours=hours[k].hour)\n",
    "    water_temps[\"DateTime\"] = pd.to_datetime(dates_hours)\n",
    "    water_temps = water_temps.set_index(\"DateTime\").drop(columns=[\"Date\", \"Time (GMT)\"])\n",
    "    water_temps.head()\n",
    "    water_temps[\"Water Temp (°F)\"].plot()"
   ]
  }
 ],
 "metadata": {
  "kernelspec": {
   "display_name": "Python 3",
   "language": "python",
   "name": "python3"
  },
  "language_info": {
   "codemirror_mode": {
    "name": "ipython",
    "version": 3
   },
   "file_extension": ".py",
   "mimetype": "text/x-python",
   "name": "python",
   "nbconvert_exporter": "python",
   "pygments_lexer": "ipython3",
   "version": "3.10.13"
  }
 },
 "nbformat": 4,
 "nbformat_minor": 2
}
