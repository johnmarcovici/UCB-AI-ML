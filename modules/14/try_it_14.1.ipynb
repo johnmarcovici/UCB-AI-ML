{
 "cells": [
  {
   "cell_type": "markdown",
   "metadata": {},
   "source": [
    "# Generating Overfit Tree Models"
   ]
  },
  {
   "cell_type": "markdown",
   "metadata": {},
   "source": [
    "## Original Prompt"
   ]
  },
  {
   "cell_type": "markdown",
   "metadata": {},
   "source": [
    "By default, you scikitlearn tree models will grow until every node is pure. To explore this, you are to build different models using the max_depth parameter and determine when the tree begins to overfit the data. For depths from max_depth = 1 until the tree is completed, keep track of the accuracy on training vs. test data and generate a plot with depths as the horizontal axis and accuracy as the vertical axis for train and test data.\n",
    "\n",
    "Repeat this process with different splits of the data to determine at what depth the tree begins to overfit. Share your results with your peers and discuss your approach to generating the visualization. What are the consequences of this overfitting for your approach to building Decision Trees? We provide a small dataset with health data where your goal is to predict whether or not the individuals survive."
   ]
  },
  {
   "cell_type": "markdown",
   "metadata": {},
   "source": [
    "## Translated to Questions and Steps"
   ]
  },
  {
   "cell_type": "markdown",
   "metadata": {},
   "source": [
    "### Key Questions\n",
    "- At what depth does the tree begin to overfit data?\n",
    "- What was your approach to generating the data visualizations?\n",
    "- What are the consequences of this overfitting for your approach to building trees?"
   ]
  },
  {
   "cell_type": "markdown",
   "metadata": {},
   "source": [
    "### Steps"
   ]
  },
  {
   "cell_type": "markdown",
   "metadata": {},
   "source": [
    "#### Data Gathering\n",
    "- Determine N\n",
    "    - N is where the tree completes with max depth unbound\n",
    "    - To determine it, just fit on entire data set with no max depth\n",
    "- For a number of splits, do the following\n",
    "    - Make a random train / test split\n",
    "    - For depths 1 to N, do the following\n",
    "        - Build a tree\n",
    "        - Compute accuracy on training and test"
   ]
  },
  {
   "cell_type": "markdown",
   "metadata": {},
   "source": [
    "Notes\n",
    "- Number of splits is TBD\n",
    "    - Start with 20\n",
    "    - Look at variance vs. number of splits, does it drop off?"
   ]
  },
  {
   "cell_type": "markdown",
   "metadata": {},
   "source": [
    "#### Data Processing\n",
    "- Compute mean value over splits to get the average accuracy vs. depth\n",
    "- Plot accuracy vs. depth for both training and test\n",
    "- Determine break point in depth demarcating overfit\n",
    "- Identify takeaways that generalize beyond this problem, in terms of understanding depth & overfit"
   ]
  },
  {
   "cell_type": "markdown",
   "metadata": {},
   "source": [
    "# Imports"
   ]
  },
  {
   "cell_type": "code",
   "execution_count": 110,
   "metadata": {},
   "outputs": [],
   "source": [
    "import numpy as np\n",
    "import pandas as pd\n",
    "import matplotlib.pyplot as plt\n",
    "from sklearn.model_selection import train_test_split\n",
    "from sklearn.tree import DecisionTreeClassifier, plot_tree\n",
    "from sklearn.metrics import accuracy_score\n",
    "import warnings\n",
    "import seaborn as sns"
   ]
  },
  {
   "cell_type": "code",
   "execution_count": 111,
   "metadata": {},
   "outputs": [],
   "source": [
    "warnings.filterwarnings(\"ignore\")\n",
    "pd.set_option(\"display.max_columns\", None)\n",
    "sns.set()"
   ]
  },
  {
   "cell_type": "markdown",
   "metadata": {},
   "source": [
    "# Data Load"
   ]
  },
  {
   "cell_type": "code",
   "execution_count": 112,
   "metadata": {},
   "outputs": [],
   "source": [
    "data = pd.read_csv(\"./data/Whickham.txt\")"
   ]
  },
  {
   "cell_type": "code",
   "execution_count": 113,
   "metadata": {},
   "outputs": [
    {
     "data": {
      "text/html": [
       "<div>\n",
       "<style scoped>\n",
       "    .dataframe tbody tr th:only-of-type {\n",
       "        vertical-align: middle;\n",
       "    }\n",
       "\n",
       "    .dataframe tbody tr th {\n",
       "        vertical-align: top;\n",
       "    }\n",
       "\n",
       "    .dataframe thead th {\n",
       "        text-align: right;\n",
       "    }\n",
       "</style>\n",
       "<table border=\"1\" class=\"dataframe\">\n",
       "  <thead>\n",
       "    <tr style=\"text-align: right;\">\n",
       "      <th></th>\n",
       "      <th>outcome</th>\n",
       "      <th>smoker</th>\n",
       "      <th>age</th>\n",
       "    </tr>\n",
       "  </thead>\n",
       "  <tbody>\n",
       "    <tr>\n",
       "      <th>0</th>\n",
       "      <td>Alive</td>\n",
       "      <td>Yes</td>\n",
       "      <td>23</td>\n",
       "    </tr>\n",
       "    <tr>\n",
       "      <th>1</th>\n",
       "      <td>Alive</td>\n",
       "      <td>Yes</td>\n",
       "      <td>18</td>\n",
       "    </tr>\n",
       "    <tr>\n",
       "      <th>2</th>\n",
       "      <td>Dead</td>\n",
       "      <td>Yes</td>\n",
       "      <td>71</td>\n",
       "    </tr>\n",
       "    <tr>\n",
       "      <th>3</th>\n",
       "      <td>Alive</td>\n",
       "      <td>No</td>\n",
       "      <td>67</td>\n",
       "    </tr>\n",
       "    <tr>\n",
       "      <th>4</th>\n",
       "      <td>Alive</td>\n",
       "      <td>No</td>\n",
       "      <td>64</td>\n",
       "    </tr>\n",
       "  </tbody>\n",
       "</table>\n",
       "</div>"
      ],
      "text/plain": [
       "  outcome smoker  age\n",
       "0   Alive    Yes   23\n",
       "1   Alive    Yes   18\n",
       "2    Dead    Yes   71\n",
       "3   Alive     No   67\n",
       "4   Alive     No   64"
      ]
     },
     "execution_count": 113,
     "metadata": {},
     "output_type": "execute_result"
    }
   ],
   "source": [
    "data.head()"
   ]
  },
  {
   "cell_type": "code",
   "execution_count": 114,
   "metadata": {},
   "outputs": [
    {
     "name": "stdout",
     "output_type": "stream",
     "text": [
      "<class 'pandas.core.frame.DataFrame'>\n",
      "RangeIndex: 1314 entries, 0 to 1313\n",
      "Data columns (total 3 columns):\n",
      " #   Column   Non-Null Count  Dtype \n",
      "---  ------   --------------  ----- \n",
      " 0   outcome  1314 non-null   object\n",
      " 1   smoker   1314 non-null   object\n",
      " 2   age      1314 non-null   int64 \n",
      "dtypes: int64(1), object(2)\n",
      "memory usage: 30.9+ KB\n"
     ]
    }
   ],
   "source": [
    "data.info()"
   ]
  },
  {
   "cell_type": "markdown",
   "metadata": {},
   "source": [
    "# Feature Naming"
   ]
  },
  {
   "cell_type": "code",
   "execution_count": 115,
   "metadata": {},
   "outputs": [],
   "source": [
    "X = data[[\"smoker\", \"age\"]]\n",
    "y = data[\"outcome\"]"
   ]
  },
  {
   "cell_type": "code",
   "execution_count": 116,
   "metadata": {},
   "outputs": [],
   "source": [
    "X[\"smoker\"] = X[\"smoker\"].map({\"No\": 0, \"Yes\": 1})"
   ]
  },
  {
   "cell_type": "markdown",
   "metadata": {},
   "source": [
    "# Data Gathering"
   ]
  },
  {
   "cell_type": "markdown",
   "metadata": {},
   "source": [
    "## Determine Max Tree Depth"
   ]
  },
  {
   "cell_type": "code",
   "execution_count": 117,
   "metadata": {},
   "outputs": [
    {
     "data": {
      "text/plain": [
       "14"
      ]
     },
     "execution_count": 117,
     "metadata": {},
     "output_type": "execute_result"
    }
   ],
   "source": [
    "unbound_tree = DecisionTreeClassifier(max_depth=None).fit(X, y)\n",
    "max_depth_limit = unbound_tree.tree_.max_depth\n",
    "max_depth_limit"
   ]
  },
  {
   "cell_type": "markdown",
   "metadata": {},
   "source": [
    "## Loop Processing\n",
    "\n",
    "Loop over train/test split and max tree depth\n",
    "- Collect accuracy per run"
   ]
  },
  {
   "cell_type": "code",
   "execution_count": 118,
   "metadata": {},
   "outputs": [
    {
     "data": {
      "text/plain": [
       "[1, 2, 3, 4, 5, 6, 7, 8, 9, 10, 11, 12, 13, 14]"
      ]
     },
     "execution_count": 118,
     "metadata": {},
     "output_type": "execute_result"
    }
   ],
   "source": [
    "num_train_test_splits = 100\n",
    "max_depth_list = list(range(1, max_depth_limit + 1))\n",
    "max_depth_list"
   ]
  },
  {
   "cell_type": "code",
   "execution_count": 119,
   "metadata": {},
   "outputs": [],
   "source": [
    "def inner_loop_processing(X, y, random_state, max_depth):\n",
    "    X_train, X_test, y_train, y_test = train_test_split(\n",
    "        X,\n",
    "        y,\n",
    "        random_state=random_state,\n",
    "    )\n",
    "\n",
    "    dt = DecisionTreeClassifier(max_depth=max_depth, random_state=42).fit(\n",
    "        X_train, y_train\n",
    "    )\n",
    "\n",
    "    metrics = {\n",
    "        \"max_depth\": max_depth,\n",
    "        \"training_accuracy\": accuracy_score(y_train, dt.predict(X_train)) * 100.0,\n",
    "        \"test_accuracy\": accuracy_score(y_test, dt.predict(X_test)) * 100.0,\n",
    "    }\n",
    "\n",
    "    return metrics"
   ]
  },
  {
   "cell_type": "code",
   "execution_count": 120,
   "metadata": {},
   "outputs": [
    {
     "name": "stdout",
     "output_type": "stream",
     "text": [
      "max_depth =  1 ksplit =  0 training acc = 86.70% test acc = 80.85%\n"
     ]
    },
    {
     "name": "stdout",
     "output_type": "stream",
     "text": [
      "max_depth =  1 ksplit = 50 training acc = 84.77% test acc = 86.63%\n",
      "max_depth =  2 ksplit =  0 training acc = 86.70% test acc = 80.85%\n",
      "max_depth =  2 ksplit = 50 training acc = 84.77% test acc = 86.63%\n",
      "max_depth =  3 ksplit =  0 training acc = 86.70% test acc = 80.85%\n",
      "max_depth =  3 ksplit = 50 training acc = 84.77% test acc = 86.63%\n",
      "max_depth =  4 ksplit =  0 training acc = 86.80% test acc = 80.85%\n",
      "max_depth =  4 ksplit = 50 training acc = 84.77% test acc = 86.32%\n",
      "max_depth =  5 ksplit =  0 training acc = 87.72% test acc = 81.16%\n",
      "max_depth =  5 ksplit = 50 training acc = 85.38% test acc = 85.41%\n",
      "max_depth =  6 ksplit =  0 training acc = 87.82% test acc = 80.55%\n",
      "max_depth =  6 ksplit = 50 training acc = 86.09% test acc = 85.41%\n",
      "max_depth =  7 ksplit =  0 training acc = 87.92% test acc = 79.33%\n",
      "max_depth =  7 ksplit = 50 training acc = 86.09% test acc = 85.41%\n",
      "max_depth =  8 ksplit =  0 training acc = 87.92% test acc = 79.33%\n",
      "max_depth =  8 ksplit = 50 training acc = 86.09% test acc = 85.41%\n",
      "max_depth =  9 ksplit =  0 training acc = 87.92% test acc = 79.33%\n",
      "max_depth =  9 ksplit = 50 training acc = 86.09% test acc = 85.41%\n",
      "max_depth = 10 ksplit =  0 training acc = 87.92% test acc = 79.33%\n",
      "max_depth = 10 ksplit = 50 training acc = 86.09% test acc = 85.41%\n",
      "max_depth = 11 ksplit =  0 training acc = 87.92% test acc = 79.33%\n",
      "max_depth = 11 ksplit = 50 training acc = 86.09% test acc = 85.41%\n",
      "max_depth = 12 ksplit =  0 training acc = 87.92% test acc = 79.33%\n",
      "max_depth = 12 ksplit = 50 training acc = 86.09% test acc = 85.41%\n",
      "max_depth = 13 ksplit =  0 training acc = 87.92% test acc = 79.33%\n",
      "max_depth = 13 ksplit = 50 training acc = 86.09% test acc = 85.41%\n",
      "max_depth = 14 ksplit =  0 training acc = 87.92% test acc = 79.33%\n",
      "max_depth = 14 ksplit = 50 training acc = 86.09% test acc = 85.41%\n"
     ]
    }
   ],
   "source": [
    "np.random.seed(42)\n",
    "\n",
    "training_accuracy = np.zeros(\n",
    "    shape=(max_depth_limit, num_train_test_splits), dtype=np.float64\n",
    ")\n",
    "\n",
    "test_accuracy = np.zeros(\n",
    "    shape=(max_depth_limit, num_train_test_splits), dtype=np.float64\n",
    ")\n",
    "\n",
    "for max_depth in max_depth_list:\n",
    "    for ksplit in range(num_train_test_splits):\n",
    "        metrics = inner_loop_processing(X, y, ksplit, max_depth)\n",
    "        training_accuracy[max_depth - 1][ksplit] = metrics[\"training_accuracy\"]\n",
    "        test_accuracy[max_depth - 1][ksplit] = metrics[\"test_accuracy\"]\n",
    "\n",
    "        if ksplit % 50 == 0:\n",
    "            print(\n",
    "                \"max_depth = %2d ksplit = %2d training acc = %.2f%% test acc = %.2f%%\"\n",
    "                % (\n",
    "                    max_depth,\n",
    "                    ksplit,\n",
    "                    metrics[\"training_accuracy\"],\n",
    "                    metrics[\"test_accuracy\"],\n",
    "                )\n",
    "            )"
   ]
  },
  {
   "cell_type": "markdown",
   "metadata": {},
   "source": [
    "# Data Processing"
   ]
  },
  {
   "cell_type": "markdown",
   "metadata": {},
   "source": [
    "## Mean Accuracy\n",
    "\n",
    "Calculate over splits, leaving accuracy vs. tree depth"
   ]
  },
  {
   "cell_type": "code",
   "execution_count": 121,
   "metadata": {},
   "outputs": [],
   "source": [
    "mean_training_accuracy = np.mean(training_accuracy, axis=1)\n",
    "mean_test_accuracy = np.mean(test_accuracy, axis=1)"
   ]
  },
  {
   "cell_type": "markdown",
   "metadata": {},
   "source": [
    "## Plot of Accuracy vs. Tree Depth"
   ]
  },
  {
   "cell_type": "code",
   "execution_count": 122,
   "metadata": {},
   "outputs": [
    {
     "data": {
      "image/png": "[encoded data removed]",
      "text/plain": [
       "<Figure size 1400x600 with 1 Axes>"
      ]
     },
     "metadata": {},
     "output_type": "display_data"
    }
   ],
   "source": [
    "fig, ax = plt.subplots(figsize=(14, 6))\n",
    "\n",
    "ax.plot(\n",
    "    max_depth_list,\n",
    "    mean_training_accuracy,\n",
    "    linestyle=\"solid\",\n",
    "    marker=\"o\",\n",
    "    color=\"black\",\n",
    "    label=\"Training\",\n",
    ")\n",
    "\n",
    "ax.plot(\n",
    "    max_depth_list,\n",
    "    mean_test_accuracy,\n",
    "    linestyle=\"solid\",\n",
    "    marker=\"o\",\n",
    "    color=\"blue\",\n",
    "    label=\"Test\",\n",
    ")\n",
    "\n",
    "ax.axvline(3, label=\"Best Tree Depth\", color=\"red\", linestyle=\"--\", linewidth=1)\n",
    "ax.grid(True)\n",
    "ax.set_xlabel(\"Max Tree Depth\")\n",
    "ax.set_ylabel(\"Accuracy(%)\")\n",
    "plt.legend()\n",
    "_ = plt.title(\n",
    "    \"Average Accuracy vs. Tree Depth\\nConsidering %d Train/Test Splits\"\n",
    "    % num_train_test_splits\n",
    ")"
   ]
  }
 ],
 "metadata": {
  "kernelspec": {
   "display_name": "Python 3",
   "language": "python",
   "name": "python3"
  },
  "language_info": {
   "codemirror_mode": {
    "name": "ipython",
    "version": 3
   },
   "file_extension": ".py",
   "mimetype": "text/x-python",
   "name": "python",
   "nbconvert_exporter": "python",
   "pygments_lexer": "ipython3",
   "version": "3.10.13"
  }
 },
 "nbformat": 4,
 "nbformat_minor": 4
}
