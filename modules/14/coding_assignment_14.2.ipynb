{
 "cells": [
  {
   "cell_type": "markdown",
   "metadata": {
    "deletable": false,
    "editable": false,
    "id": "qbFwxK7hoYpw",
    "nbgrader": {
     "cell_type": "markdown",
     "checksum": "0985836a6dd676bbf8868058b565a0a4",
     "grade": false,
     "grade_id": "cell-cf7ecfd884017c94",
     "locked": true,
     "schema_version": 3,
     "solution": false
    }
   },
   "source": [
    "### Codio Activity 14.2:  Visualizing a Decision Tree\n",
    "\n",
    "**Expected Time = 60 minutes**\n",
    "\n",
    "**Total Points = 40**\n",
    "\n",
    "This activity focuses on visualizing the results of a `DecisionTreeClassifier` using the `plot_tree` function from `sklearn`. Behind the visualization lies the `graphviz` library, and if further customization is desired you can implement a graph visualization using the Python implementation of `graphviz` [here](https://pypi.org/project/graphviz/).\n",
    "\n",
    "#### Index\n",
    "\n",
    "- [Problem 1](#-Problem-1)\n",
    "- [Problem 2](#-Problem-2)\n",
    "- [Problem 3](#-Problem-3)\n",
    "- [Problem 4](#-Problem-4)"
   ]
  },
  {
   "cell_type": "code",
   "execution_count": 1,
   "metadata": {
    "executionInfo": {
     "elapsed": 1501,
     "status": "ok",
     "timestamp": 1644531973608,
     "user": {
      "displayName": "Jacob Koehler",
      "photoUrl": "https://lh3.googleusercontent.com/a/default-user=s64",
      "userId": "12300099689640094899"
     },
     "user_tz": 300
    },
    "id": "qGB-DeAHoYpz"
   },
   "outputs": [],
   "source": [
    "import pandas as pd\n",
    "import numpy as np\n",
    "import matplotlib.pyplot as plt\n",
    "import seaborn as sns\n",
    "\n",
    "from sklearn.tree import DecisionTreeClassifier, export_text, plot_tree\n",
    "from sklearn.model_selection import train_test_split"
   ]
  },
  {
   "cell_type": "code",
   "execution_count": 2,
   "metadata": {
    "colab": {
     "base_uri": "https://localhost:8080/",
     "height": 329
    },
    "executionInfo": {
     "elapsed": 409,
     "status": "error",
     "timestamp": 1644531974014,
     "user": {
      "displayName": "Jacob Koehler",
      "photoUrl": "https://lh3.googleusercontent.com/a/default-user=s64",
      "userId": "12300099689640094899"
     },
     "user_tz": 300
    },
    "id": "LWIndxWloYp1",
    "outputId": "ef785b5e-84ef-4ab4-bcbb-ef506b3831bb"
   },
   "outputs": [
    {
     "ename": "ImportError",
     "evalue": "Missing optional dependency 'xlrd'. Install xlrd >= 2.0.1 for xls Excel support Use pip or conda to install xlrd.",
     "output_type": "error",
     "traceback": [
      "\u001b[0;31m---------------------------------------------------------------------------\u001b[0m",
      "\u001b[0;31mModuleNotFoundError\u001b[0m                       Traceback (most recent call last)",
      "File \u001b[0;32m~/.local/lib/python3.10/site-packages/pandas/compat/_optional.py:135\u001b[0m, in \u001b[0;36mimport_optional_dependency\u001b[0;34m(name, extra, errors, min_version)\u001b[0m\n\u001b[1;32m    134\u001b[0m \u001b[38;5;28;01mtry\u001b[39;00m:\n\u001b[0;32m--> 135\u001b[0m     module \u001b[38;5;241m=\u001b[39m \u001b[43mimportlib\u001b[49m\u001b[38;5;241;43m.\u001b[39;49m\u001b[43mimport_module\u001b[49m\u001b[43m(\u001b[49m\u001b[43mname\u001b[49m\u001b[43m)\u001b[49m\n\u001b[1;32m    136\u001b[0m \u001b[38;5;28;01mexcept\u001b[39;00m \u001b[38;5;167;01mImportError\u001b[39;00m:\n",
      "File \u001b[0;32m~/.python/current/lib/python3.10/importlib/__init__.py:126\u001b[0m, in \u001b[0;36mimport_module\u001b[0;34m(name, package)\u001b[0m\n\u001b[1;32m    125\u001b[0m         level \u001b[38;5;241m+\u001b[39m\u001b[38;5;241m=\u001b[39m \u001b[38;5;241m1\u001b[39m\n\u001b[0;32m--> 126\u001b[0m \u001b[38;5;28;01mreturn\u001b[39;00m \u001b[43m_bootstrap\u001b[49m\u001b[38;5;241;43m.\u001b[39;49m\u001b[43m_gcd_import\u001b[49m\u001b[43m(\u001b[49m\u001b[43mname\u001b[49m\u001b[43m[\u001b[49m\u001b[43mlevel\u001b[49m\u001b[43m:\u001b[49m\u001b[43m]\u001b[49m\u001b[43m,\u001b[49m\u001b[43m \u001b[49m\u001b[43mpackage\u001b[49m\u001b[43m,\u001b[49m\u001b[43m \u001b[49m\u001b[43mlevel\u001b[49m\u001b[43m)\u001b[49m\n",
      "File \u001b[0;32m<frozen importlib._bootstrap>:1050\u001b[0m, in \u001b[0;36m_gcd_import\u001b[0;34m(name, package, level)\u001b[0m\n",
      "File \u001b[0;32m<frozen importlib._bootstrap>:1027\u001b[0m, in \u001b[0;36m_find_and_load\u001b[0;34m(name, import_)\u001b[0m\n",
      "File \u001b[0;32m<frozen importlib._bootstrap>:1004\u001b[0m, in \u001b[0;36m_find_and_load_unlocked\u001b[0;34m(name, import_)\u001b[0m\n",
      "\u001b[0;31mModuleNotFoundError\u001b[0m: No module named 'xlrd'",
      "\nDuring handling of the above exception, another exception occurred:\n",
      "\u001b[0;31mImportError\u001b[0m                               Traceback (most recent call last)",
      "Cell \u001b[0;32mIn[2], line 1\u001b[0m\n\u001b[0;32m----> 1\u001b[0m default \u001b[38;5;241m=\u001b[39m \u001b[43mpd\u001b[49m\u001b[38;5;241;43m.\u001b[39;49m\u001b[43mread_excel\u001b[49m\u001b[43m(\u001b[49m\u001b[38;5;124;43m'\u001b[39;49m\u001b[38;5;124;43mdata/Default.xls\u001b[39;49m\u001b[38;5;124;43m'\u001b[39;49m\u001b[43m,\u001b[49m\u001b[43m \u001b[49m\u001b[43mskiprows\u001b[49m\u001b[43m \u001b[49m\u001b[38;5;241;43m=\u001b[39;49m\u001b[43m \u001b[49m\u001b[38;5;241;43m1\u001b[39;49m\u001b[43m,\u001b[49m\u001b[43m \u001b[49m\u001b[43mindex_col\u001b[49m\u001b[43m \u001b[49m\u001b[38;5;241;43m=\u001b[39;49m\u001b[43m \u001b[49m\u001b[38;5;241;43m0\u001b[39;49m\u001b[43m)\u001b[49m\n",
      "File \u001b[0;32m~/.local/lib/python3.10/site-packages/pandas/io/excel/_base.py:495\u001b[0m, in \u001b[0;36mread_excel\u001b[0;34m(io, sheet_name, header, names, index_col, usecols, dtype, engine, converters, true_values, false_values, skiprows, nrows, na_values, keep_default_na, na_filter, verbose, parse_dates, date_parser, date_format, thousands, decimal, comment, skipfooter, storage_options, dtype_backend, engine_kwargs)\u001b[0m\n\u001b[1;32m    493\u001b[0m \u001b[38;5;28;01mif\u001b[39;00m \u001b[38;5;129;01mnot\u001b[39;00m \u001b[38;5;28misinstance\u001b[39m(io, ExcelFile):\n\u001b[1;32m    494\u001b[0m     should_close \u001b[38;5;241m=\u001b[39m \u001b[38;5;28;01mTrue\u001b[39;00m\n\u001b[0;32m--> 495\u001b[0m     io \u001b[38;5;241m=\u001b[39m \u001b[43mExcelFile\u001b[49m\u001b[43m(\u001b[49m\n\u001b[1;32m    496\u001b[0m \u001b[43m        \u001b[49m\u001b[43mio\u001b[49m\u001b[43m,\u001b[49m\n\u001b[1;32m    497\u001b[0m \u001b[43m        \u001b[49m\u001b[43mstorage_options\u001b[49m\u001b[38;5;241;43m=\u001b[39;49m\u001b[43mstorage_options\u001b[49m\u001b[43m,\u001b[49m\n\u001b[1;32m    498\u001b[0m \u001b[43m        \u001b[49m\u001b[43mengine\u001b[49m\u001b[38;5;241;43m=\u001b[39;49m\u001b[43mengine\u001b[49m\u001b[43m,\u001b[49m\n\u001b[1;32m    499\u001b[0m \u001b[43m        \u001b[49m\u001b[43mengine_kwargs\u001b[49m\u001b[38;5;241;43m=\u001b[39;49m\u001b[43mengine_kwargs\u001b[49m\u001b[43m,\u001b[49m\n\u001b[1;32m    500\u001b[0m \u001b[43m    \u001b[49m\u001b[43m)\u001b[49m\n\u001b[1;32m    501\u001b[0m \u001b[38;5;28;01melif\u001b[39;00m engine \u001b[38;5;129;01mand\u001b[39;00m engine \u001b[38;5;241m!=\u001b[39m io\u001b[38;5;241m.\u001b[39mengine:\n\u001b[1;32m    502\u001b[0m     \u001b[38;5;28;01mraise\u001b[39;00m \u001b[38;5;167;01mValueError\u001b[39;00m(\n\u001b[1;32m    503\u001b[0m         \u001b[38;5;124m\"\u001b[39m\u001b[38;5;124mEngine should not be specified when passing \u001b[39m\u001b[38;5;124m\"\u001b[39m\n\u001b[1;32m    504\u001b[0m         \u001b[38;5;124m\"\u001b[39m\u001b[38;5;124man ExcelFile - ExcelFile already has the engine set\u001b[39m\u001b[38;5;124m\"\u001b[39m\n\u001b[1;32m    505\u001b[0m     )\n",
      "File \u001b[0;32m~/.local/lib/python3.10/site-packages/pandas/io/excel/_base.py:1567\u001b[0m, in \u001b[0;36mExcelFile.__init__\u001b[0;34m(self, path_or_buffer, engine, storage_options, engine_kwargs)\u001b[0m\n\u001b[1;32m   1564\u001b[0m \u001b[38;5;28mself\u001b[39m\u001b[38;5;241m.\u001b[39mengine \u001b[38;5;241m=\u001b[39m engine\n\u001b[1;32m   1565\u001b[0m \u001b[38;5;28mself\u001b[39m\u001b[38;5;241m.\u001b[39mstorage_options \u001b[38;5;241m=\u001b[39m storage_options\n\u001b[0;32m-> 1567\u001b[0m \u001b[38;5;28mself\u001b[39m\u001b[38;5;241m.\u001b[39m_reader \u001b[38;5;241m=\u001b[39m \u001b[38;5;28;43mself\u001b[39;49m\u001b[38;5;241;43m.\u001b[39;49m\u001b[43m_engines\u001b[49m\u001b[43m[\u001b[49m\u001b[43mengine\u001b[49m\u001b[43m]\u001b[49m\u001b[43m(\u001b[49m\n\u001b[1;32m   1568\u001b[0m \u001b[43m    \u001b[49m\u001b[38;5;28;43mself\u001b[39;49m\u001b[38;5;241;43m.\u001b[39;49m\u001b[43m_io\u001b[49m\u001b[43m,\u001b[49m\n\u001b[1;32m   1569\u001b[0m \u001b[43m    \u001b[49m\u001b[43mstorage_options\u001b[49m\u001b[38;5;241;43m=\u001b[39;49m\u001b[43mstorage_options\u001b[49m\u001b[43m,\u001b[49m\n\u001b[1;32m   1570\u001b[0m \u001b[43m    \u001b[49m\u001b[43mengine_kwargs\u001b[49m\u001b[38;5;241;43m=\u001b[39;49m\u001b[43mengine_kwargs\u001b[49m\u001b[43m,\u001b[49m\n\u001b[1;32m   1571\u001b[0m \u001b[43m\u001b[49m\u001b[43m)\u001b[49m\n",
      "File \u001b[0;32m~/.local/lib/python3.10/site-packages/pandas/io/excel/_xlrd.py:45\u001b[0m, in \u001b[0;36mXlrdReader.__init__\u001b[0;34m(self, filepath_or_buffer, storage_options, engine_kwargs)\u001b[0m\n\u001b[1;32m     33\u001b[0m \u001b[38;5;250m\u001b[39m\u001b[38;5;124;03m\"\"\"\u001b[39;00m\n\u001b[1;32m     34\u001b[0m \u001b[38;5;124;03mReader using xlrd engine.\u001b[39;00m\n\u001b[1;32m     35\u001b[0m \n\u001b[0;32m   (...)\u001b[0m\n\u001b[1;32m     42\u001b[0m \u001b[38;5;124;03m    Arbitrary keyword arguments passed to excel engine.\u001b[39;00m\n\u001b[1;32m     43\u001b[0m \u001b[38;5;124;03m\"\"\"\u001b[39;00m\n\u001b[1;32m     44\u001b[0m err_msg \u001b[38;5;241m=\u001b[39m \u001b[38;5;124m\"\u001b[39m\u001b[38;5;124mInstall xlrd >= 2.0.1 for xls Excel support\u001b[39m\u001b[38;5;124m\"\u001b[39m\n\u001b[0;32m---> 45\u001b[0m \u001b[43mimport_optional_dependency\u001b[49m\u001b[43m(\u001b[49m\u001b[38;5;124;43m\"\u001b[39;49m\u001b[38;5;124;43mxlrd\u001b[39;49m\u001b[38;5;124;43m\"\u001b[39;49m\u001b[43m,\u001b[49m\u001b[43m \u001b[49m\u001b[43mextra\u001b[49m\u001b[38;5;241;43m=\u001b[39;49m\u001b[43merr_msg\u001b[49m\u001b[43m)\u001b[49m\n\u001b[1;32m     46\u001b[0m \u001b[38;5;28msuper\u001b[39m()\u001b[38;5;241m.\u001b[39m\u001b[38;5;21m__init__\u001b[39m(\n\u001b[1;32m     47\u001b[0m     filepath_or_buffer,\n\u001b[1;32m     48\u001b[0m     storage_options\u001b[38;5;241m=\u001b[39mstorage_options,\n\u001b[1;32m     49\u001b[0m     engine_kwargs\u001b[38;5;241m=\u001b[39mengine_kwargs,\n\u001b[1;32m     50\u001b[0m )\n",
      "File \u001b[0;32m~/.local/lib/python3.10/site-packages/pandas/compat/_optional.py:138\u001b[0m, in \u001b[0;36mimport_optional_dependency\u001b[0;34m(name, extra, errors, min_version)\u001b[0m\n\u001b[1;32m    136\u001b[0m \u001b[38;5;28;01mexcept\u001b[39;00m \u001b[38;5;167;01mImportError\u001b[39;00m:\n\u001b[1;32m    137\u001b[0m     \u001b[38;5;28;01mif\u001b[39;00m errors \u001b[38;5;241m==\u001b[39m \u001b[38;5;124m\"\u001b[39m\u001b[38;5;124mraise\u001b[39m\u001b[38;5;124m\"\u001b[39m:\n\u001b[0;32m--> 138\u001b[0m         \u001b[38;5;28;01mraise\u001b[39;00m \u001b[38;5;167;01mImportError\u001b[39;00m(msg)\n\u001b[1;32m    139\u001b[0m     \u001b[38;5;28;01mreturn\u001b[39;00m \u001b[38;5;28;01mNone\u001b[39;00m\n\u001b[1;32m    141\u001b[0m \u001b[38;5;66;03m# Handle submodules: if we have submodule, grab parent module from sys.modules\u001b[39;00m\n",
      "\u001b[0;31mImportError\u001b[0m: Missing optional dependency 'xlrd'. Install xlrd >= 2.0.1 for xls Excel support Use pip or conda to install xlrd."
     ]
    }
   ],
   "source": [
    "default = pd.read_excel('data/Default.xls', skiprows = 1, index_col = 0)"
   ]
  },
  {
   "cell_type": "code",
   "execution_count": null,
   "metadata": {
    "executionInfo": {
     "elapsed": 8,
     "status": "aborted",
     "timestamp": 1644531973821,
     "user": {
      "displayName": "Jacob Koehler",
      "photoUrl": "https://lh3.googleusercontent.com/a/default-user=s64",
      "userId": "12300099689640094899"
     },
     "user_tz": 300
    },
    "id": "zvfrPpakoYp1"
   },
   "outputs": [
    {
     "data": {
      "text/html": [
       "<div>\n",
       "<style scoped>\n",
       "    .dataframe tbody tr th:only-of-type {\n",
       "        vertical-align: middle;\n",
       "    }\n",
       "\n",
       "    .dataframe tbody tr th {\n",
       "        vertical-align: top;\n",
       "    }\n",
       "\n",
       "    .dataframe thead th {\n",
       "        text-align: right;\n",
       "    }\n",
       "</style>\n",
       "<table border=\"1\" class=\"dataframe\">\n",
       "  <thead>\n",
       "    <tr style=\"text-align: right;\">\n",
       "      <th></th>\n",
       "      <th>LIMIT_BAL</th>\n",
       "      <th>SEX</th>\n",
       "      <th>EDUCATION</th>\n",
       "      <th>MARRIAGE</th>\n",
       "      <th>AGE</th>\n",
       "      <th>PAY_0</th>\n",
       "      <th>PAY_2</th>\n",
       "      <th>PAY_3</th>\n",
       "      <th>PAY_4</th>\n",
       "      <th>PAY_5</th>\n",
       "      <th>...</th>\n",
       "      <th>BILL_AMT4</th>\n",
       "      <th>BILL_AMT5</th>\n",
       "      <th>BILL_AMT6</th>\n",
       "      <th>PAY_AMT1</th>\n",
       "      <th>PAY_AMT2</th>\n",
       "      <th>PAY_AMT3</th>\n",
       "      <th>PAY_AMT4</th>\n",
       "      <th>PAY_AMT5</th>\n",
       "      <th>PAY_AMT6</th>\n",
       "      <th>default payment next month</th>\n",
       "    </tr>\n",
       "    <tr>\n",
       "      <th>ID</th>\n",
       "      <th></th>\n",
       "      <th></th>\n",
       "      <th></th>\n",
       "      <th></th>\n",
       "      <th></th>\n",
       "      <th></th>\n",
       "      <th></th>\n",
       "      <th></th>\n",
       "      <th></th>\n",
       "      <th></th>\n",
       "      <th></th>\n",
       "      <th></th>\n",
       "      <th></th>\n",
       "      <th></th>\n",
       "      <th></th>\n",
       "      <th></th>\n",
       "      <th></th>\n",
       "      <th></th>\n",
       "      <th></th>\n",
       "      <th></th>\n",
       "      <th></th>\n",
       "    </tr>\n",
       "  </thead>\n",
       "  <tbody>\n",
       "    <tr>\n",
       "      <th>1</th>\n",
       "      <td>20000</td>\n",
       "      <td>2</td>\n",
       "      <td>2</td>\n",
       "      <td>1</td>\n",
       "      <td>24</td>\n",
       "      <td>2</td>\n",
       "      <td>2</td>\n",
       "      <td>-1</td>\n",
       "      <td>-1</td>\n",
       "      <td>-2</td>\n",
       "      <td>...</td>\n",
       "      <td>0</td>\n",
       "      <td>0</td>\n",
       "      <td>0</td>\n",
       "      <td>0</td>\n",
       "      <td>689</td>\n",
       "      <td>0</td>\n",
       "      <td>0</td>\n",
       "      <td>0</td>\n",
       "      <td>0</td>\n",
       "      <td>1</td>\n",
       "    </tr>\n",
       "    <tr>\n",
       "      <th>2</th>\n",
       "      <td>120000</td>\n",
       "      <td>2</td>\n",
       "      <td>2</td>\n",
       "      <td>2</td>\n",
       "      <td>26</td>\n",
       "      <td>-1</td>\n",
       "      <td>2</td>\n",
       "      <td>0</td>\n",
       "      <td>0</td>\n",
       "      <td>0</td>\n",
       "      <td>...</td>\n",
       "      <td>3272</td>\n",
       "      <td>3455</td>\n",
       "      <td>3261</td>\n",
       "      <td>0</td>\n",
       "      <td>1000</td>\n",
       "      <td>1000</td>\n",
       "      <td>1000</td>\n",
       "      <td>0</td>\n",
       "      <td>2000</td>\n",
       "      <td>1</td>\n",
       "    </tr>\n",
       "    <tr>\n",
       "      <th>3</th>\n",
       "      <td>90000</td>\n",
       "      <td>2</td>\n",
       "      <td>2</td>\n",
       "      <td>2</td>\n",
       "      <td>34</td>\n",
       "      <td>0</td>\n",
       "      <td>0</td>\n",
       "      <td>0</td>\n",
       "      <td>0</td>\n",
       "      <td>0</td>\n",
       "      <td>...</td>\n",
       "      <td>14331</td>\n",
       "      <td>14948</td>\n",
       "      <td>15549</td>\n",
       "      <td>1518</td>\n",
       "      <td>1500</td>\n",
       "      <td>1000</td>\n",
       "      <td>1000</td>\n",
       "      <td>1000</td>\n",
       "      <td>5000</td>\n",
       "      <td>0</td>\n",
       "    </tr>\n",
       "    <tr>\n",
       "      <th>4</th>\n",
       "      <td>50000</td>\n",
       "      <td>2</td>\n",
       "      <td>2</td>\n",
       "      <td>1</td>\n",
       "      <td>37</td>\n",
       "      <td>0</td>\n",
       "      <td>0</td>\n",
       "      <td>0</td>\n",
       "      <td>0</td>\n",
       "      <td>0</td>\n",
       "      <td>...</td>\n",
       "      <td>28314</td>\n",
       "      <td>28959</td>\n",
       "      <td>29547</td>\n",
       "      <td>2000</td>\n",
       "      <td>2019</td>\n",
       "      <td>1200</td>\n",
       "      <td>1100</td>\n",
       "      <td>1069</td>\n",
       "      <td>1000</td>\n",
       "      <td>0</td>\n",
       "    </tr>\n",
       "    <tr>\n",
       "      <th>5</th>\n",
       "      <td>50000</td>\n",
       "      <td>1</td>\n",
       "      <td>2</td>\n",
       "      <td>1</td>\n",
       "      <td>57</td>\n",
       "      <td>-1</td>\n",
       "      <td>0</td>\n",
       "      <td>-1</td>\n",
       "      <td>0</td>\n",
       "      <td>0</td>\n",
       "      <td>...</td>\n",
       "      <td>20940</td>\n",
       "      <td>19146</td>\n",
       "      <td>19131</td>\n",
       "      <td>2000</td>\n",
       "      <td>36681</td>\n",
       "      <td>10000</td>\n",
       "      <td>9000</td>\n",
       "      <td>689</td>\n",
       "      <td>679</td>\n",
       "      <td>0</td>\n",
       "    </tr>\n",
       "  </tbody>\n",
       "</table>\n",
       "<p>5 rows × 24 columns</p>\n",
       "</div>"
      ],
      "text/plain": [
       "    LIMIT_BAL  SEX  EDUCATION  MARRIAGE  AGE  PAY_0  PAY_2  PAY_3  PAY_4  \\\n",
       "ID                                                                         \n",
       "1       20000    2          2         1   24      2      2     -1     -1   \n",
       "2      120000    2          2         2   26     -1      2      0      0   \n",
       "3       90000    2          2         2   34      0      0      0      0   \n",
       "4       50000    2          2         1   37      0      0      0      0   \n",
       "5       50000    1          2         1   57     -1      0     -1      0   \n",
       "\n",
       "    PAY_5  ...  BILL_AMT4  BILL_AMT5  BILL_AMT6  PAY_AMT1  PAY_AMT2  PAY_AMT3  \\\n",
       "ID         ...                                                                  \n",
       "1      -2  ...          0          0          0         0       689         0   \n",
       "2       0  ...       3272       3455       3261         0      1000      1000   \n",
       "3       0  ...      14331      14948      15549      1518      1500      1000   \n",
       "4       0  ...      28314      28959      29547      2000      2019      1200   \n",
       "5       0  ...      20940      19146      19131      2000     36681     10000   \n",
       "\n",
       "    PAY_AMT4  PAY_AMT5  PAY_AMT6  default payment next month  \n",
       "ID                                                            \n",
       "1          0         0         0                           1  \n",
       "2       1000         0      2000                           1  \n",
       "3       1000      1000      5000                           0  \n",
       "4       1100      1069      1000                           0  \n",
       "5       9000       689       679                           0  \n",
       "\n",
       "[5 rows x 24 columns]"
      ]
     },
     "execution_count": 3,
     "metadata": {},
     "output_type": "execute_result"
    }
   ],
   "source": [
    "default.head()"
   ]
  },
  {
   "cell_type": "code",
   "execution_count": null,
   "metadata": {
    "executionInfo": {
     "elapsed": 9,
     "status": "aborted",
     "timestamp": 1644531973822,
     "user": {
      "displayName": "Jacob Koehler",
      "photoUrl": "https://lh3.googleusercontent.com/a/default-user=s64",
      "userId": "12300099689640094899"
     },
     "user_tz": 300
    },
    "id": "hH-Wq_eMoYp2"
   },
   "outputs": [],
   "source": [
    "X = default.drop('default payment next month', axis = 1)"
   ]
  },
  {
   "cell_type": "code",
   "execution_count": null,
   "metadata": {
    "executionInfo": {
     "elapsed": 9,
     "status": "aborted",
     "timestamp": 1644531973822,
     "user": {
      "displayName": "Jacob Koehler",
      "photoUrl": "https://lh3.googleusercontent.com/a/default-user=s64",
      "userId": "12300099689640094899"
     },
     "user_tz": 300
    },
    "id": "eqgKPWU-oYp3"
   },
   "outputs": [],
   "source": [
    "y = default['default payment next month']"
   ]
  },
  {
   "cell_type": "markdown",
   "metadata": {
    "deletable": false,
    "editable": false,
    "id": "Uww7HEv6oYp3",
    "nbgrader": {
     "cell_type": "markdown",
     "checksum": "3ee2d03715ff399d4a1a2657bdc6e124",
     "grade": false,
     "grade_id": "cell-a63c4e54d28a4568",
     "locked": true,
     "schema_version": 3,
     "solution": false
    }
   },
   "source": [
    "[Back to top](#-Index)\n",
    "\n",
    "### Problem 1\n",
    "\n",
    "#### Fitting a model\n",
    "\n",
    "**10 Points**\n",
    "\n",
    "To being, build a `DecisionTreeClassifier` with the parameter `max_depth = 1`.  Fit the model on the training data and assign it to the variable `tree1` below.  Then, pass the `tree1` object to the `plot_tree` function with no additional arguments below.  Assign your results to `tree1_plot` below.\n",
    "\n"
   ]
  },
  {
   "cell_type": "code",
   "execution_count": null,
   "metadata": {
    "deletable": false,
    "executionInfo": {
     "elapsed": 9,
     "status": "aborted",
     "timestamp": 1644531973823,
     "user": {
      "displayName": "Jacob Koehler",
      "photoUrl": "https://lh3.googleusercontent.com/a/default-user=s64",
      "userId": "12300099689640094899"
     },
     "user_tz": 300
    },
    "id": "5b1_ERbdoYp4",
    "nbgrader": {
     "cell_type": "code",
     "checksum": "95c74514d21a6e78f8f5d7853e3c4607",
     "grade": false,
     "grade_id": "cell-3cc21f4ab987c297",
     "locked": false,
     "schema_version": 3,
     "solution": true
    }
   },
   "outputs": [
    {
     "data": {
      "text/plain": [
       "[Text(0.5, 0.75, 'X[5] <= 1.5\\ngini = 0.345\\nsamples = 30000\\nvalue = [23364, 6636]'),\n",
       " Text(0.25, 0.25, 'gini = 0.277\\nsamples = 26870\\nvalue = [22411, 4459]'),\n",
       " Text(0.75, 0.25, 'gini = 0.424\\nsamples = 3130\\nvalue = [953, 2177]')]"
      ]
     },
     "execution_count": 6,
     "metadata": {},
     "output_type": "execute_result"
    },
    {
     "data": {
      "image/png": "[encoded data removed]",
      "text/plain": [
       "<Figure size 432x288 with 1 Axes>"
      ]
     },
     "metadata": {
      "needs_background": "light"
     },
     "output_type": "display_data"
    }
   ],
   "source": [
    "### GRADED\n",
    "tree1 = DecisionTreeClassifier(max_depth=1).fit(X, y)\n",
    "tree1_plot = plot_tree(tree1)\n",
    "\n",
    "# Answer check\n",
    "tree1_plot"
   ]
  },
  {
   "cell_type": "markdown",
   "metadata": {
    "deletable": false,
    "editable": false,
    "id": "B-Ep7_IJoYp6",
    "nbgrader": {
     "cell_type": "markdown",
     "checksum": "fe203d3af9f519bcf0909ab94aa06650",
     "grade": false,
     "grade_id": "cell-ad1c4fd5862a7eb8",
     "locked": true,
     "schema_version": 3,
     "solution": false
    }
   },
   "source": [
    "[Back to top](#-Index)\n",
    "\n",
    "### Problem 2\n",
    "\n",
    "#### Adding Feature Names\n",
    "\n",
    "**10 Points**\n",
    "\n",
    "The visualization above notes that `X[5] <= 1.5`.  To instead have the feature name displayed, add the argument `feature_names` and list the columns from your data `X`.  Assign your new visualization to `tree1_withnames` below. \n",
    "\n",
    "<center>\n",
    "    <img src = 'images/tree1.png' />\n",
    "</center>\n",
    "\n",
    "\n",
    "\n"
   ]
  },
  {
   "cell_type": "code",
   "execution_count": null,
   "metadata": {
    "deletable": false,
    "executionInfo": {
     "elapsed": 196,
     "status": "aborted",
     "timestamp": 1644531974010,
     "user": {
      "displayName": "Jacob Koehler",
      "photoUrl": "https://lh3.googleusercontent.com/a/default-user=s64",
      "userId": "12300099689640094899"
     },
     "user_tz": 300
    },
    "id": "UJ9BypD2oYp6",
    "nbgrader": {
     "cell_type": "code",
     "checksum": "3941f65ea5da7a2d6d64d7c5d3ef6bbc",
     "grade": false,
     "grade_id": "cell-b237bfc51346ea7d",
     "locked": false,
     "schema_version": 3,
     "solution": true
    }
   },
   "outputs": [
    {
     "name": "stdout",
     "output_type": "stream",
     "text": [
      "[Text(0.5, 0.75, 'PAY_0 <= 1.5\\ngini = 0.345\\nsamples = 30000\\nvalue = [23364, 6636]'), Text(0.25, 0.25, 'gini = 0.277\\nsamples = 26870\\nvalue = [22411, 4459]'), Text(0.75, 0.25, 'gini = 0.424\\nsamples = 3130\\nvalue = [953, 2177]')]\n"
     ]
    },
    {
     "data": {
      "image/png": "[encoded data removed]",
      "text/plain": [
       "<Figure size 432x288 with 1 Axes>"
      ]
     },
     "metadata": {
      "needs_background": "light"
     },
     "output_type": "display_data"
    }
   ],
   "source": [
    "### GRADED\n",
    "\n",
    "tree1_withnames = plot_tree(tree1, feature_names=list(X.columns))\n",
    "\n",
    "### ANSWER CHECK\n",
    "print(tree1_withnames)"
   ]
  },
  {
   "cell_type": "markdown",
   "metadata": {
    "deletable": false,
    "editable": false,
    "id": "CwhCqyRloYp7",
    "nbgrader": {
     "cell_type": "markdown",
     "checksum": "0dacaf2d6a437d09792745d9f75ab39a",
     "grade": false,
     "grade_id": "cell-80196866c3d3b6ee",
     "locked": true,
     "schema_version": 3,
     "solution": false
    }
   },
   "source": [
    "[Back to top](#-Index)\n",
    "\n",
    "### Problem 3\n",
    "\n",
    "#### Coloring the Nodes\n",
    "\n",
    "**10 Points**\n",
    "\n",
    "The nodes can be colored to differentiate between the categories within.  Add the argument `filled = True` to color the nodes and `feature_names = list(X.columns)`.  Assign your tree with named and colored nodes to `tree1_colored` below.\n",
    "\n"
   ]
  },
  {
   "cell_type": "code",
   "execution_count": null,
   "metadata": {
    "deletable": false,
    "executionInfo": {
     "elapsed": 196,
     "status": "aborted",
     "timestamp": 1644531974011,
     "user": {
      "displayName": "Jacob Koehler",
      "photoUrl": "https://lh3.googleusercontent.com/a/default-user=s64",
      "userId": "12300099689640094899"
     },
     "user_tz": 300
    },
    "id": "ag2988W9oYp7",
    "nbgrader": {
     "cell_type": "code",
     "checksum": "1e59d3be66a96a66afbaa09126fee6e4",
     "grade": false,
     "grade_id": "cell-b38ec0190fecb018",
     "locked": false,
     "schema_version": 3,
     "solution": true
    }
   },
   "outputs": [
    {
     "data": {
      "text/plain": [
       "[Text(0.5, 0.75, 'PAY_0 <= 1.5\\ngini = 0.345\\nsamples = 30000\\nvalue = [23364, 6636]'),\n",
       " Text(0.25, 0.25, 'gini = 0.277\\nsamples = 26870\\nvalue = [22411, 4459]'),\n",
       " Text(0.75, 0.25, 'gini = 0.424\\nsamples = 3130\\nvalue = [953, 2177]')]"
      ]
     },
     "execution_count": 12,
     "metadata": {},
     "output_type": "execute_result"
    },
    {
     "data": {
      "image/png": "[encoded data removed]",
      "text/plain": [
       "<Figure size 432x288 with 1 Axes>"
      ]
     },
     "metadata": {
      "needs_background": "light"
     },
     "output_type": "display_data"
    }
   ],
   "source": [
    "### GRADED\n",
    "tree1_colored = plot_tree(tree1, feature_names=list(X.columns), filled=True)\n",
    "\n",
    "# Answer check\n",
    "tree1_colored"
   ]
  },
  {
   "cell_type": "markdown",
   "metadata": {
    "deletable": false,
    "editable": false,
    "id": "Ur_CEx7RoYp8",
    "nbgrader": {
     "cell_type": "markdown",
     "checksum": "6fb8d4d8994dbcfd564b57730d427350",
     "grade": false,
     "grade_id": "cell-f8286f0f1f2f6c30",
     "locked": true,
     "schema_version": 3,
     "solution": false
    }
   },
   "source": [
    "[Back to top](#-Index)\n",
    "\n",
    "### Problem 4\n",
    "\n",
    "#### A Deeper Tree\n",
    "\n",
    "**10 Points**\n",
    "\n",
    "Now, build a `DecisionTreeClassifier` with `max_depth = 5` setting as `tree2`.  Visualize the tree below with the feature names and nodes colored. Assign the results to `deep_tree` below.  "
   ]
  },
  {
   "cell_type": "code",
   "execution_count": null,
   "metadata": {
    "deletable": false,
    "executionInfo": {
     "elapsed": 7,
     "status": "aborted",
     "timestamp": 1644531974013,
     "user": {
      "displayName": "Jacob Koehler",
      "photoUrl": "https://lh3.googleusercontent.com/a/default-user=s64",
      "userId": "12300099689640094899"
     },
     "user_tz": 300
    },
    "id": "F42N3YPgoYp9",
    "nbgrader": {
     "cell_type": "code",
     "checksum": "e73642b02eace47024544ebf48eb0b7c",
     "grade": false,
     "grade_id": "cell-56604c3e3cd60738",
     "locked": false,
     "schema_version": 3,
     "solution": true
    }
   },
   "outputs": [
    {
     "data": {
      "text/plain": [
       "[Text(0.50625, 0.9166666666666666, 'PAY_0 <= 1.5\\ngini = 0.345\\nsamples = 30000\\nvalue = [23364, 6636]'),\n",
       " Text(0.26666666666666666, 0.75, 'PAY_2 <= 1.5\\ngini = 0.277\\nsamples = 26870\\nvalue = [22411, 4459]'),\n",
       " Text(0.13333333333333333, 0.5833333333333334, 'PAY_AMT3 <= 678.5\\ngini = 0.245\\nsamples = 24599\\nvalue = [21085, 3514]'),\n",
       " Text(0.06666666666666667, 0.4166666666666667, 'BILL_AMT1 <= 530.0\\ngini = 0.339\\nsamples = 6776\\nvalue = [5312, 1464]'),\n",
       " Text(0.03333333333333333, 0.25, 'PAY_AMT4 <= 3.5\\ngini = 0.4\\nsamples = 2664\\nvalue = [1929, 735]'),\n",
       " Text(0.016666666666666666, 0.08333333333333333, 'gini = 0.427\\nsamples = 1645\\nvalue = [1136, 509]'),\n",
       " Text(0.05, 0.08333333333333333, 'gini = 0.345\\nsamples = 1019\\nvalue = [793, 226]'),\n",
       " Text(0.1, 0.25, 'PAY_4 <= 1.0\\ngini = 0.292\\nsamples = 4112\\nvalue = [3383, 729]'),\n",
       " Text(0.08333333333333333, 0.08333333333333333, 'gini = 0.266\\nsamples = 3381\\nvalue = [2846, 535]'),\n",
       " Text(0.11666666666666667, 0.08333333333333333, 'gini = 0.39\\nsamples = 731\\nvalue = [537, 194]'),\n",
       " Text(0.2, 0.4166666666666667, 'PAY_5 <= 1.0\\ngini = 0.204\\nsamples = 17823\\nvalue = [15773, 2050]'),\n",
       " Text(0.16666666666666666, 0.25, 'LIMIT_BAL <= 75000.0\\ngini = 0.192\\nsamples = 17110\\nvalue = [15267, 1843]'),\n",
       " Text(0.15, 0.08333333333333333, 'gini = 0.266\\nsamples = 4240\\nvalue = [3569, 671]'),\n",
       " Text(0.18333333333333332, 0.08333333333333333, 'gini = 0.166\\nsamples = 12870\\nvalue = [11698, 1172]'),\n",
       " Text(0.23333333333333334, 0.25, 'PAY_3 <= 0.5\\ngini = 0.412\\nsamples = 713\\nvalue = [506, 207]'),\n",
       " Text(0.21666666666666667, 0.08333333333333333, 'gini = 0.352\\nsamples = 521\\nvalue = [402, 119]'),\n",
       " Text(0.25, 0.08333333333333333, 'gini = 0.497\\nsamples = 192\\nvalue = [104, 88]'),\n",
       " Text(0.4, 0.5833333333333334, 'PAY_6 <= 1.0\\ngini = 0.486\\nsamples = 2271\\nvalue = [1326, 945]'),\n",
       " Text(0.3333333333333333, 0.4166666666666667, 'LIMIT_BAL <= 165000.0\\ngini = 0.467\\nsamples = 1625\\nvalue = [1020, 605]'),\n",
       " Text(0.3, 0.25, 'PAY_AMT3 <= 905.5\\ngini = 0.481\\nsamples = 1215\\nvalue = [725, 490]'),\n",
       " Text(0.2833333333333333, 0.08333333333333333, 'gini = 0.498\\nsamples = 502\\nvalue = [266, 236]'),\n",
       " Text(0.31666666666666665, 0.08333333333333333, 'gini = 0.459\\nsamples = 713\\nvalue = [459, 254]'),\n",
       " Text(0.36666666666666664, 0.25, 'BILL_AMT4 <= 272297.5\\ngini = 0.404\\nsamples = 410\\nvalue = [295, 115]'),\n",
       " Text(0.35, 0.08333333333333333, 'gini = 0.392\\nsamples = 393\\nvalue = [288, 105]'),\n",
       " Text(0.38333333333333336, 0.08333333333333333, 'gini = 0.484\\nsamples = 17\\nvalue = [7, 10]'),\n",
       " Text(0.4666666666666667, 0.4166666666666667, 'PAY_AMT2 <= 16050.5\\ngini = 0.499\\nsamples = 646\\nvalue = [306, 340]'),\n",
       " Text(0.43333333333333335, 0.25, 'PAY_5 <= 1.0\\ngini = 0.498\\nsamples = 635\\nvalue = [296, 339]'),\n",
       " Text(0.4166666666666667, 0.08333333333333333, 'gini = 0.493\\nsamples = 141\\nvalue = [79, 62]'),\n",
       " Text(0.45, 0.08333333333333333, 'gini = 0.493\\nsamples = 494\\nvalue = [217, 277]'),\n",
       " Text(0.5, 0.25, 'BILL_AMT1 <= 6101.0\\ngini = 0.165\\nsamples = 11\\nvalue = [10, 1]'),\n",
       " Text(0.48333333333333334, 0.08333333333333333, 'gini = 0.0\\nsamples = 1\\nvalue = [0, 1]'),\n",
       " Text(0.5166666666666667, 0.08333333333333333, 'gini = 0.0\\nsamples = 10\\nvalue = [10, 0]'),\n",
       " Text(0.7458333333333333, 0.75, 'PAY_3 <= -0.5\\ngini = 0.424\\nsamples = 3130\\nvalue = [953, 2177]'),\n",
       " Text(0.625, 0.5833333333333334, 'BILL_AMT1 <= 649.0\\ngini = 0.496\\nsamples = 190\\nvalue = [103, 87]'),\n",
       " Text(0.5833333333333334, 0.4166666666666667, 'PAY_AMT2 <= 1451.0\\ngini = 0.361\\nsamples = 55\\nvalue = [42, 13]'),\n",
       " Text(0.5666666666666667, 0.25, 'BILL_AMT1 <= 270.0\\ngini = 0.427\\nsamples = 42\\nvalue = [29, 13]'),\n",
       " Text(0.55, 0.08333333333333333, 'gini = 0.408\\nsamples = 7\\nvalue = [2, 5]'),\n",
       " Text(0.5833333333333334, 0.08333333333333333, 'gini = 0.353\\nsamples = 35\\nvalue = [27, 8]'),\n",
       " Text(0.6, 0.25, 'gini = 0.0\\nsamples = 13\\nvalue = [13, 0]'),\n",
       " Text(0.6666666666666666, 0.4166666666666667, 'PAY_AMT4 <= 1059.5\\ngini = 0.495\\nsamples = 135\\nvalue = [61, 74]'),\n",
       " Text(0.6333333333333333, 0.25, 'BILL_AMT2 <= 683.5\\ngini = 0.455\\nsamples = 97\\nvalue = [34, 63]'),\n",
       " Text(0.6166666666666667, 0.08333333333333333, 'gini = 0.375\\nsamples = 60\\nvalue = [15, 45]'),\n",
       " Text(0.65, 0.08333333333333333, 'gini = 0.5\\nsamples = 37\\nvalue = [19, 18]'),\n",
       " Text(0.7, 0.25, 'BILL_AMT5 <= 72127.5\\ngini = 0.411\\nsamples = 38\\nvalue = [27, 11]'),\n",
       " Text(0.6833333333333333, 0.08333333333333333, 'gini = 0.353\\nsamples = 35\\nvalue = [27, 8]'),\n",
       " Text(0.7166666666666667, 0.08333333333333333, 'gini = 0.0\\nsamples = 3\\nvalue = [0, 3]'),\n",
       " Text(0.8666666666666667, 0.5833333333333334, 'PAY_6 <= 1.0\\ngini = 0.411\\nsamples = 2940\\nvalue = [850, 2090]'),\n",
       " Text(0.8, 0.4166666666666667, 'EDUCATION <= 4.5\\ngini = 0.443\\nsamples = 1698\\nvalue = [562, 1136]'),\n",
       " Text(0.7666666666666667, 0.25, 'EDUCATION <= 1.5\\ngini = 0.439\\nsamples = 1676\\nvalue = [545, 1131]'),\n",
       " Text(0.75, 0.08333333333333333, 'gini = 0.392\\nsamples = 366\\nvalue = [98, 268]'),\n",
       " Text(0.7833333333333333, 0.08333333333333333, 'gini = 0.45\\nsamples = 1310\\nvalue = [447, 863]'),\n",
       " Text(0.8333333333333334, 0.25, 'PAY_AMT3 <= 424.0\\ngini = 0.351\\nsamples = 22\\nvalue = [17, 5]'),\n",
       " Text(0.8166666666666667, 0.08333333333333333, 'gini = 0.444\\nsamples = 3\\nvalue = [1, 2]'),\n",
       " Text(0.85, 0.08333333333333333, 'gini = 0.266\\nsamples = 19\\nvalue = [16, 3]'),\n",
       " Text(0.9333333333333333, 0.4166666666666667, 'PAY_AMT3 <= 12150.0\\ngini = 0.356\\nsamples = 1242\\nvalue = [288, 954]'),\n",
       " Text(0.9, 0.25, 'PAY_2 <= 3.5\\ngini = 0.346\\nsamples = 1212\\nvalue = [270, 942]'),\n",
       " Text(0.8833333333333333, 0.08333333333333333, 'gini = 0.334\\nsamples = 1144\\nvalue = [242, 902]'),\n",
       " Text(0.9166666666666666, 0.08333333333333333, 'gini = 0.484\\nsamples = 68\\nvalue = [28, 40]'),\n",
       " Text(0.9666666666666667, 0.25, 'PAY_3 <= 1.0\\ngini = 0.48\\nsamples = 30\\nvalue = [18, 12]'),\n",
       " Text(0.95, 0.08333333333333333, 'gini = 0.444\\nsamples = 9\\nvalue = [3, 6]'),\n",
       " Text(0.9833333333333333, 0.08333333333333333, 'gini = 0.408\\nsamples = 21\\nvalue = [15, 6]')]"
      ]
     },
     "execution_count": 17,
     "metadata": {},
     "output_type": "execute_result"
    },
    {
     "data": {
      "image/png": "[encoded data removed]",
      "text/plain": [
       "<Figure size 432x288 with 1 Axes>"
      ]
     },
     "metadata": {
      "needs_background": "light"
     },
     "output_type": "display_data"
    }
   ],
   "source": [
    "### GRADED\n",
    "tree2 = DecisionTreeClassifier(max_depth=5).fit(X, y)\n",
    "deep_tree = plot_tree(tree2, feature_names=list(X.columns), filled=True)\n",
    "\n",
    "### ANSWER CHECK\n",
    "deep_tree"
   ]
  },
  {
   "cell_type": "markdown",
   "metadata": {
    "deletable": false,
    "editable": false,
    "id": "hTF2eswjoYp-",
    "nbgrader": {
     "cell_type": "markdown",
     "checksum": "75f8a5e96c2d8e5597ee9002cadabdf1",
     "grade": false,
     "grade_id": "cell-b1117055fb7c3ed2",
     "locked": true,
     "schema_version": 3,
     "solution": false
    }
   },
   "source": [
    "#### A more readable output\n",
    "\n",
    "As you can see, by default even a depth 5 tree is difficult to read.  To change this, you can plot the tree to a `matplotlib.axes` object with different figuresize.  Below, the same tree is plotted with a larger figure size as an example.  Despite changing this however, you should note that a simpler tree is much easier to visualize and interpret the rules."
   ]
  },
  {
   "cell_type": "code",
   "execution_count": null,
   "metadata": {
    "executionInfo": {
     "elapsed": 7,
     "status": "aborted",
     "timestamp": 1644531974014,
     "user": {
      "displayName": "Jacob Koehler",
      "photoUrl": "https://lh3.googleusercontent.com/a/default-user=s64",
      "userId": "12300099689640094899"
     },
     "user_tz": 300
    },
    "id": "oKHsQjVdoYp-"
   },
   "outputs": [],
   "source": [
    "fig, ax = plt.subplots(figsize = (20, 20))\n",
    "plot_tree(tree2, feature_names=list(X.columns), filled=True, ax = ax, fontsize=8);"
   ]
  }
 ],
 "metadata": {
  "colab": {
   "collapsed_sections": [],
   "name": "coding_assignment_14.2.ipynb",
   "provenance": []
  },
  "kernelspec": {
   "display_name": "Python 3 (ipykernel)",
   "language": "python",
   "name": "python3"
  },
  "language_info": {
   "codemirror_mode": {
    "name": "ipython",
    "version": 3
   },
   "file_extension": ".py",
   "mimetype": "text/x-python",
   "name": "python",
   "nbconvert_exporter": "python",
   "pygments_lexer": "ipython3",
   "version": "3.10.13"
  }
 },
 "nbformat": 4,
 "nbformat_minor": 1
}
