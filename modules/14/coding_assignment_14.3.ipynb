{
 "cells": [
  {
   "cell_type": "markdown",
   "metadata": {
    "deletable": false,
    "editable": false,
    "nbgrader": {
     "cell_type": "markdown",
     "checksum": "c7da01459dc909408962659cd18dd431",
     "grade": false,
     "grade_id": "cell-91022a1411040e34",
     "locked": true,
     "schema_version": 3,
     "solution": false
    }
   },
   "source": [
    "### Examining Purity\n",
    "\n",
    "**Expected Time = 60 minutes**\n",
    "\n",
    "**Total Points = 50**\n",
    "\n",
    "By default, the metric in the `DecisionTreeClassifier` is the Gini Criterion.  This assigment introduces its use through a basic example.  Your goal is to minimize the impurity based on a range of split options.  In the following assignment you will explore the alternative notion of `entropy` that can also be used as a criterion.  \n",
    "\n",
    "\n",
    "#### Index\n",
    "\n",
    "- [Problem 1](#-Problem-1)\n",
    "- [Problem 2](#-Problem-2)\n",
    "- [Problem 3](#-Problem-3)\n",
    "- [Problem 4](#-Problem-4)\n",
    "- [Problem 5](#-Problem-5)"
   ]
  },
  {
   "cell_type": "markdown",
   "metadata": {
    "deletable": false,
    "editable": false,
    "nbgrader": {
     "cell_type": "markdown",
     "checksum": "34c5ac83673b218ad439d1277d94f64f",
     "grade": false,
     "grade_id": "cell-f62ca59273e840c6",
     "locked": true,
     "schema_version": 3,
     "solution": false
    }
   },
   "source": [
    "### Gini Impurity\n",
    "\n",
    "The Gini Criterion is used to identify the optimal place to make a decision for classification based on the purity of the results.  This is measured by a weighted sum of the node size and gini impurity of each split node defined as:\n",
    "\n",
    "$$\\sum_{k}p_{mk}(1 - p_{mk})$$\n",
    "\n",
    "where \n",
    "\n",
    "$$p_{mk} = \\frac{1}{N_m} \\sum_{y \\in Q_m} I(y = k)$$\n",
    "\n",
    "and $Q_m$ is the data at node $m$ with $N_m$ samples.  [source](https://scikit-learn.org/stable/modules/tree.html#mathematical-formulation)"
   ]
  },
  {
   "cell_type": "markdown",
   "metadata": {
    "deletable": false,
    "editable": false,
    "nbgrader": {
     "cell_type": "markdown",
     "checksum": "19ffa2fab83378ce9b0da6e6201bfdd1",
     "grade": false,
     "grade_id": "cell-87e6e671d609f89c",
     "locked": true,
     "schema_version": 3,
     "solution": false
    }
   },
   "source": [
    "### The Data\n",
    "\n",
    "Below, a small sample from the built in `titanic` dataset is loaded and displayed.  The classification problem is to predict survival on the ship.  You will use the `age` (age of passenger) and `pclass` (passenger class) features to explore the gini splitting criterion."
   ]
  },
  {
   "cell_type": "code",
   "execution_count": 37,
   "metadata": {},
   "outputs": [],
   "source": [
    "import pandas as pd\n",
    "import numpy as np\n",
    "import matplotlib.pyplot as plt\n",
    "import seaborn as sns\n",
    "\n",
    "from sklearn.tree import DecisionTreeClassifier, export_text, plot_tree\n",
    "from sklearn.model_selection import train_test_split"
   ]
  },
  {
   "cell_type": "code",
   "execution_count": 38,
   "metadata": {},
   "outputs": [],
   "source": [
    "titanic = sns.load_dataset(\"titanic\")\n",
    "titanic = titanic[[\"age\", \"pclass\", \"survived\"]].head()"
   ]
  },
  {
   "cell_type": "code",
   "execution_count": 39,
   "metadata": {},
   "outputs": [
    {
     "data": {
      "text/html": [
       "<div>\n",
       "<style scoped>\n",
       "    .dataframe tbody tr th:only-of-type {\n",
       "        vertical-align: middle;\n",
       "    }\n",
       "\n",
       "    .dataframe tbody tr th {\n",
       "        vertical-align: top;\n",
       "    }\n",
       "\n",
       "    .dataframe thead th {\n",
       "        text-align: right;\n",
       "    }\n",
       "</style>\n",
       "<table border=\"1\" class=\"dataframe\">\n",
       "  <thead>\n",
       "    <tr style=\"text-align: right;\">\n",
       "      <th></th>\n",
       "      <th>age</th>\n",
       "      <th>pclass</th>\n",
       "      <th>survived</th>\n",
       "    </tr>\n",
       "  </thead>\n",
       "  <tbody>\n",
       "    <tr>\n",
       "      <th>0</th>\n",
       "      <td>22.0</td>\n",
       "      <td>3</td>\n",
       "      <td>0</td>\n",
       "    </tr>\n",
       "    <tr>\n",
       "      <th>1</th>\n",
       "      <td>38.0</td>\n",
       "      <td>1</td>\n",
       "      <td>1</td>\n",
       "    </tr>\n",
       "    <tr>\n",
       "      <th>2</th>\n",
       "      <td>26.0</td>\n",
       "      <td>3</td>\n",
       "      <td>1</td>\n",
       "    </tr>\n",
       "    <tr>\n",
       "      <th>3</th>\n",
       "      <td>35.0</td>\n",
       "      <td>1</td>\n",
       "      <td>1</td>\n",
       "    </tr>\n",
       "    <tr>\n",
       "      <th>4</th>\n",
       "      <td>35.0</td>\n",
       "      <td>3</td>\n",
       "      <td>0</td>\n",
       "    </tr>\n",
       "  </tbody>\n",
       "</table>\n",
       "</div>"
      ],
      "text/plain": [
       "    age  pclass  survived\n",
       "0  22.0       3         0\n",
       "1  38.0       1         1\n",
       "2  26.0       3         1\n",
       "3  35.0       1         1\n",
       "4  35.0       3         0"
      ]
     },
     "execution_count": 39,
     "metadata": {},
     "output_type": "execute_result"
    }
   ],
   "source": [
    "titanic"
   ]
  },
  {
   "cell_type": "markdown",
   "metadata": {
    "deletable": false,
    "editable": false,
    "nbgrader": {
     "cell_type": "markdown",
     "checksum": "2bda37843a047caa0f59b4c190a9cdcf",
     "grade": false,
     "grade_id": "cell-35eeb90aac2c1997",
     "locked": true,
     "schema_version": 3,
     "solution": false
    }
   },
   "source": [
    "The **GINI IMPURITY** of the original data is:\n",
    "\n",
    "$$ 1 - (\\frac{3}{5})^2 - (\\frac{2}{5})^2$$"
   ]
  },
  {
   "cell_type": "code",
   "execution_count": 40,
   "metadata": {},
   "outputs": [
    {
     "data": {
      "text/plain": [
       "0.48"
      ]
     },
     "execution_count": 40,
     "metadata": {},
     "output_type": "execute_result"
    }
   ],
   "source": [
    "1 - (3 / 5) ** 2 - (2 / 5) ** 2"
   ]
  },
  {
   "cell_type": "markdown",
   "metadata": {
    "deletable": false,
    "editable": false,
    "nbgrader": {
     "cell_type": "markdown",
     "checksum": "f04d2787915249a0c79ef031b994295b",
     "grade": false,
     "grade_id": "cell-9061fffca7606d4a",
     "locked": true,
     "schema_version": 3,
     "solution": false
    }
   },
   "source": [
    "### Problem 1\n",
    "\n",
    "#### Split on Passenger Class\n",
    "\n",
    "**10 points**\n",
    "\n",
    "To begin, consider the information in the data based on splitting the `pclass` column.  Compute the Gini Impurity of the left and right side of the split as `gini_pclass1` and `gini_pclass3` below.  Remember that to compute the gini impurity means:\n",
    "\n",
    "$$1 - P(\\text{survived})^2 - P(\\text{neither survived})^2$$"
   ]
  },
  {
   "cell_type": "code",
   "execution_count": 41,
   "metadata": {},
   "outputs": [
    {
     "data": {
      "text/plain": [
       "0.48"
      ]
     },
     "execution_count": 41,
     "metadata": {},
     "output_type": "execute_result"
    }
   ],
   "source": [
    "def gini_impurity(df):\n",
    "    return (\n",
    "        1.0\n",
    "        - (sum(df[\"survived\"] == 1) / len(df)) ** 2\n",
    "        - (sum(df[\"survived\"] == 0) / len(df)) ** 2\n",
    "    )\n",
    "\n",
    "\n",
    "gini_impurity(titanic)"
   ]
  },
  {
   "cell_type": "code",
   "execution_count": 42,
   "metadata": {
    "deletable": false,
    "nbgrader": {
     "cell_type": "code",
     "checksum": "22aef3fa2213690ee408f8b6745e9835",
     "grade": false,
     "grade_id": "cell-d0392c9997e52c0b",
     "locked": false,
     "schema_version": 3,
     "solution": true
    }
   },
   "outputs": [
    {
     "name": "stdout",
     "output_type": "stream",
     "text": [
      "Left node:  0.00\n",
      "Right Node:  0.44\n"
     ]
    }
   ],
   "source": [
    "### GRADED\n",
    "\n",
    "gini_pclass1 = gini_impurity(titanic.query(\"pclass == 1\"))\n",
    "gini_pclass3 = gini_impurity(titanic.query(\"pclass == 3\"))\n",
    "\n",
    "# Answer check\n",
    "print(f\"Left node: {gini_pclass1: .2f}\\nRight Node: {gini_pclass3: .2f}\")"
   ]
  },
  {
   "cell_type": "markdown",
   "metadata": {
    "deletable": false,
    "editable": false,
    "nbgrader": {
     "cell_type": "markdown",
     "checksum": "55ab9f0931232d6758475afed23744bf",
     "grade": false,
     "grade_id": "cell-a63bd7dafd177d62",
     "locked": true,
     "schema_version": 3,
     "solution": false
    }
   },
   "source": [
    "### Problem 2\n",
    "\n",
    "#### Computing the Gini Impurity for Passenger Class\n",
    "\n",
    "**10 points**\n",
    "\n",
    "Now, to compute the Gini Impurity of the split we find a weighted average of the gini impurities for each leaf node.  These represent the proportion of data in each node times the gini impurity.  \n",
    "\n",
    "$$\\text{Gini Impurity} = \\text{Proporition in pclass1}\\times\\text{gini_pclass1} + \\text{Proporition in pclass3}\\times\\text{gini_pclass3} $$"
   ]
  },
  {
   "cell_type": "code",
   "execution_count": 43,
   "metadata": {
    "deletable": false,
    "nbgrader": {
     "cell_type": "code",
     "checksum": "a1521a5bf9596e9add07a0f2a0893c9a",
     "grade": false,
     "grade_id": "cell-22c75648812e7583",
     "locked": false,
     "schema_version": 3,
     "solution": true
    }
   },
   "outputs": [
    {
     "name": "stdout",
     "output_type": "stream",
     "text": [
      "0.26666666666666666\n"
     ]
    }
   ],
   "source": [
    "gini_imp_pclass = (\n",
    "    len(titanic.query(\"pclass == 1\")) / len(titanic) * gini_pclass1\n",
    "    + len(titanic.query(\"pclass == 3\")) / len(titanic) * gini_pclass3\n",
    ")\n",
    "\n",
    "# Answer check\n",
    "print(gini_imp_pclass)"
   ]
  },
  {
   "cell_type": "markdown",
   "metadata": {
    "deletable": false,
    "editable": false,
    "nbgrader": {
     "cell_type": "markdown",
     "checksum": "39602ed039c531b63e648e24646cb1c4",
     "grade": false,
     "grade_id": "cell-21646be9fcb21930",
     "locked": true,
     "schema_version": 3,
     "solution": false
    }
   },
   "source": [
    "### Problem 3\n",
    "\n",
    "#### Splitting on `age` < 23\n",
    "\n",
    "**10 points**\n",
    "\n",
    "Compute the gini impurity for each node below and determine the gini impurity of the split by the comparison `age < 23`.  Assign your answers as `under_23_gini`, `over_23_gini`, and `gini_imp_age` below."
   ]
  },
  {
   "cell_type": "code",
   "execution_count": 44,
   "metadata": {
    "deletable": false,
    "nbgrader": {
     "cell_type": "code",
     "checksum": "dc8ae6ed1d7d7e57d2c9367b4601b0dd",
     "grade": false,
     "grade_id": "cell-f1e748f1f73f9934",
     "locked": false,
     "schema_version": 3,
     "solution": true
    }
   },
   "outputs": [
    {
     "data": {
      "text/plain": [
       "[0.0, 0.375, 0.30000000000000004]"
      ]
     },
     "metadata": {},
     "output_type": "display_data"
    }
   ],
   "source": [
    "under_23_gini = gini_impurity(titanic.query(\"age < 23\"))\n",
    "over_23_gini = gini_impurity(titanic.query(\"age >= 23\"))\n",
    "gini_imp_age = (\n",
    "    len(titanic.query(\"age < 23\")) / len(titanic) * under_23_gini\n",
    "    + len(titanic.query(\"age >= 23\")) / len(titanic) * over_23_gini\n",
    ")\n",
    "\n",
    "# Answer check\n",
    "display([under_23_gini, over_23_gini, gini_imp_age])"
   ]
  },
  {
   "cell_type": "markdown",
   "metadata": {
    "deletable": false,
    "editable": false,
    "nbgrader": {
     "cell_type": "markdown",
     "checksum": "96180598f4e243187e7414d8cad076b2",
     "grade": false,
     "grade_id": "cell-257a88ff2f504374",
     "locked": true,
     "schema_version": 3,
     "solution": false
    }
   },
   "source": [
    "### Problem 4\n",
    "\n",
    "#### Minimizing Impurity\n",
    "\n",
    "**10 points**\n",
    "\n",
    "Compare your impurities and determine which decision rule has a lower impurtiy.  Assign your answer to `min_impurity` as `pclass` or `age_23` below."
   ]
  },
  {
   "cell_type": "code",
   "execution_count": 45,
   "metadata": {
    "deletable": false,
    "nbgrader": {
     "cell_type": "code",
     "checksum": "08cfdc6e09cee8981eb6be1a511f4e4a",
     "grade": false,
     "grade_id": "cell-da1bdb22507254b6",
     "locked": false,
     "schema_version": 3,
     "solution": true
    }
   },
   "outputs": [
    {
     "name": "stdout",
     "output_type": "stream",
     "text": [
      "pclass\n"
     ]
    }
   ],
   "source": [
    "min_impurity = \"pclass\"\n",
    "\n",
    "# Answer check\n",
    "print(min_impurity)"
   ]
  },
  {
   "cell_type": "markdown",
   "metadata": {
    "deletable": false,
    "editable": false,
    "nbgrader": {
     "cell_type": "markdown",
     "checksum": "c46b5b8f67744481cf9ed181ae2df063",
     "grade": false,
     "grade_id": "cell-400fda462827bcce",
     "locked": true,
     "schema_version": 3,
     "solution": false
    }
   },
   "source": [
    "### Problem 5\n",
    "\n",
    "#### Comparing to `DecisionTreeClassifier`\n",
    "\n",
    "**10 Points**\n",
    "\n",
    "To identify the *best* split, we would have to consider the other possible age splits.  We will let the `DecisionTreeClassifier` determine this below.  Plot the results of a decision tree of depth 1 below and note the ideal splitting criteria value. Plot the tree and assign to `dtree_graph` below, note the best split.  Does this line up with your earlier computations?"
   ]
  },
  {
   "cell_type": "code",
   "execution_count": 46,
   "metadata": {},
   "outputs": [
    {
     "data": {
      "image/png": "[encoded data removed]",
      "text/plain": [
       "<Figure size 640x480 with 1 Axes>"
      ]
     },
     "metadata": {},
     "output_type": "display_data"
    }
   ],
   "source": [
    "X = titanic.drop(\"survived\", axis=1)[[\"age\"]]\n",
    "X = titanic.drop(\"survived\", axis=1)\n",
    "dtree_graph = plot_tree(\n",
    "    DecisionTreeClassifier(max_depth=1).fit(X, titanic[\"survived\"]),\n",
    "    feature_names=X.columns,\n",
    ")"
   ]
  }
 ],
 "metadata": {
  "kernelspec": {
   "display_name": "Python 3 (ipykernel)",
   "language": "python",
   "name": "python3"
  },
  "language_info": {
   "codemirror_mode": {
    "name": "ipython",
    "version": 3
   },
   "file_extension": ".py",
   "mimetype": "text/x-python",
   "name": "python",
   "nbconvert_exporter": "python",
   "pygments_lexer": "ipython3",
   "version": "3.10.13"
  },
  "widgets": {
   "application/vnd.jupyter.widget-state+json": {
    "state": {},
    "version_major": 2,
    "version_minor": 0
   }
  }
 },
 "nbformat": 4,
 "nbformat_minor": 4
}
