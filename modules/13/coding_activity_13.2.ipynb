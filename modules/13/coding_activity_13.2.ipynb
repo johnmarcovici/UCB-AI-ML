{
 "cells": [
  {
   "cell_type": "markdown",
   "metadata": {
    "deletable": false,
    "editable": false,
    "nbgrader": {
     "cell_type": "markdown",
     "checksum": "cc20a33e0bd2da852b37b1bcf6c14ab1",
     "grade": false,
     "grade_id": "cell-780a10833ef4569c",
     "locked": true,
     "schema_version": 3,
     "solution": false
    }
   },
   "source": [
    "### Codio Activity 13.2: Introduction to Logistic Regression with Scikit-Learn\n",
    "\n",
    "**Expected Time = 60 minutes** \n",
    "\n",
    "**Total Points = 60** \n",
    "\n",
    "This activity introduces the `LogisticRegression` estimator from scikitlearn.  After fitting the model on a single feature for binary classes, you will plot the sigmoid curve to represent the learned model in terms of probabilities.  Finally, you will evaluate the model in terms of accuracy, precision, and recall.  \n",
    "\n",
    "#### Index\n",
    "\n",
    "- [Problem 1](#-Problem-1)\n",
    "- [Problem 2](#-Problem-2)\n",
    "- [Problem 3](#-Problem-3)\n",
    "- [Problem 4](#-Problem-4)\n",
    "- [Problem 5](#-Problem-5)\n",
    "- [Problem 6](#-Problem-6)"
   ]
  },
  {
   "cell_type": "code",
   "execution_count": 12,
   "metadata": {},
   "outputs": [],
   "source": [
    "import pandas as pd\n",
    "import numpy as np\n",
    "import seaborn as sns\n",
    "import matplotlib.pyplot as plt\n",
    "\n",
    "from sklearn.linear_model import LogisticRegression\n",
    "from sklearn.metrics import accuracy_score, recall_score, precision_score\n",
    "from sklearn.model_selection import train_test_split\n",
    "\n",
    "from scipy.optimize import minimize"
   ]
  },
  {
   "cell_type": "code",
   "execution_count": 13,
   "metadata": {},
   "outputs": [],
   "source": [
    "penguins = sns.load_dataset(\"penguins\").dropna()\n",
    "penguins = penguins.loc[\n",
    "    (penguins[\"species\"] == \"Adelie\") | (penguins[\"species\"] == \"Gentoo\")\n",
    "]\n",
    "X = penguins.drop(\"species\", axis=1)[[\"flipper_length_mm\"]]\n",
    "y = np.where(penguins.species == \"Adelie\", 0, 1)\n",
    "X_train, X_test, y_train, y_test = train_test_split(X, y, random_state=42)"
   ]
  },
  {
   "cell_type": "code",
   "execution_count": 14,
   "metadata": {},
   "outputs": [
    {
     "data": {
      "text/plain": [
       "Text(0.5, 1.0, 'Flipper Length by Species')"
      ]
     },
     "execution_count": 14,
     "metadata": {},
     "output_type": "execute_result"
    },
    {
     "data": {
      "image/png": "[encoded data removed]",
      "text/plain": [
       "<Figure size 640x480 with 1 Axes>"
      ]
     },
     "metadata": {},
     "output_type": "display_data"
    }
   ],
   "source": [
    "plt.scatter(X, penguins.species, c=y)\n",
    "plt.grid()\n",
    "plt.xlabel(\"Flipper Length (mm)\")\n",
    "plt.ylabel(\"Species\")\n",
    "plt.title(\"Flipper Length by Species\")"
   ]
  },
  {
   "cell_type": "markdown",
   "metadata": {
    "deletable": false,
    "editable": false,
    "nbgrader": {
     "cell_type": "markdown",
     "checksum": "faaca3af5732f1dfd1fe624b9391ff09",
     "grade": false,
     "grade_id": "cell-81ab669f9555a94f",
     "locked": true,
     "schema_version": 3,
     "solution": false
    }
   },
   "source": [
    "[Back to top](#-Index)\n",
    "\n",
    "### Problem 1\n",
    "\n",
    "#### Building a Logistic Model\n",
    "\n",
    "**10 Points**\n",
    "\n",
    "The `LogisticRegression` estimator works in the same way as our earlier examples.  Below, instantiate and fit the estimator as `log_reg` on the training data.  Note that you need not make the target feature numeric here, all the scikitlearn classifiers will handle string categories as a target.  "
   ]
  },
  {
   "cell_type": "code",
   "execution_count": 15,
   "metadata": {
    "deletable": false,
    "nbgrader": {
     "cell_type": "code",
     "checksum": "ed737e5ade8a1b4cad07fe4bc06d9bff",
     "grade": false,
     "grade_id": "cell-883ca83ce3760c4e",
     "locked": false,
     "schema_version": 3,
     "solution": true
    }
   },
   "outputs": [
    {
     "name": "stdout",
     "output_type": "stream",
     "text": [
      "LogisticRegression()\n"
     ]
    }
   ],
   "source": [
    "logreg = LogisticRegression().fit(X_train, y_train)\n",
    "\n",
    "# Answer check\n",
    "print(logreg)"
   ]
  },
  {
   "cell_type": "code",
   "execution_count": 26,
   "metadata": {},
   "outputs": [
    {
     "data": {
      "text/plain": [
       "[-165.43465332329453, 0.8021440157539895]"
      ]
     },
     "execution_count": 26,
     "metadata": {},
     "output_type": "execute_result"
    }
   ],
   "source": [
    "[logreg.intercept_[0], logreg.coef_[0][0]]"
   ]
  },
  {
   "cell_type": "markdown",
   "metadata": {
    "deletable": false,
    "editable": false,
    "nbgrader": {
     "cell_type": "markdown",
     "checksum": "46f80dc67d10d9c9b81dc4d1df3af180",
     "grade": false,
     "grade_id": "cell-2d1bbc4b2f767a0c",
     "locked": true,
     "schema_version": 3,
     "solution": false
    }
   },
   "source": [
    "[Back to top](#-Index)\n",
    "\n",
    "### Problem 2\n",
    "\n",
    "#### Examining the coefficients\n",
    "\n",
    "**10 Points**\n",
    "\n",
    "Similar to the `LinearRegression` estimator, your `log_reg` estimator now has a `.coef_` and `.intercept_` attribute.  Further, you are still interested in a linear combination of the input with these coefficients and intercept terms.  Below, complete the function `linear_predictions` that takes in a fit regression model, and a feature array.  It will return the predictions using the model $$\\text{odds} = \\text{intercept} + \\text{coef}*X$$ "
   ]
  },
  {
   "cell_type": "code",
   "execution_count": 16,
   "metadata": {
    "deletable": false,
    "nbgrader": {
     "cell_type": "code",
     "checksum": "c6e98ff2abf1f5987686d3a81e8b056e",
     "grade": false,
     "grade_id": "cell-0bcd6ad358d49405",
     "locked": false,
     "schema_version": 3,
     "solution": true
    }
   },
   "outputs": [
    {
     "data": {
      "text/html": [
       "<div>\n",
       "<style scoped>\n",
       "    .dataframe tbody tr th:only-of-type {\n",
       "        vertical-align: middle;\n",
       "    }\n",
       "\n",
       "    .dataframe tbody tr th {\n",
       "        vertical-align: top;\n",
       "    }\n",
       "\n",
       "    .dataframe thead th {\n",
       "        text-align: right;\n",
       "    }\n",
       "</style>\n",
       "<table border=\"1\" class=\"dataframe\">\n",
       "  <thead>\n",
       "    <tr style=\"text-align: right;\">\n",
       "      <th></th>\n",
       "      <th>flipper_length_mm</th>\n",
       "    </tr>\n",
       "  </thead>\n",
       "  <tbody>\n",
       "    <tr>\n",
       "      <th>92</th>\n",
       "      <td>-17.0</td>\n",
       "    </tr>\n",
       "    <tr>\n",
       "      <th>340</th>\n",
       "      <td>7.0</td>\n",
       "    </tr>\n",
       "    <tr>\n",
       "      <th>43</th>\n",
       "      <td>-8.0</td>\n",
       "    </tr>\n",
       "    <tr>\n",
       "      <th>220</th>\n",
       "      <td>4.0</td>\n",
       "    </tr>\n",
       "    <tr>\n",
       "      <th>253</th>\n",
       "      <td>19.0</td>\n",
       "    </tr>\n",
       "  </tbody>\n",
       "</table>\n",
       "</div>"
      ],
      "text/plain": [
       "     flipper_length_mm\n",
       "92               -17.0\n",
       "340                7.0\n",
       "43                -8.0\n",
       "220                4.0\n",
       "253               19.0"
      ]
     },
     "execution_count": 16,
     "metadata": {},
     "output_type": "execute_result"
    }
   ],
   "source": [
    "def linear_predictions(model, X):\n",
    "    return model.intercept_ + model.coef_ * X\n",
    "\n",
    "\n",
    "# Answer check - note, they want the train, not test data here\n",
    "predictions = linear_predictions(logreg, X_train)\n",
    "np.round(predictions.head())"
   ]
  },
  {
   "cell_type": "markdown",
   "metadata": {
    "deletable": false,
    "editable": false,
    "nbgrader": {
     "cell_type": "markdown",
     "checksum": "fb67b370a8b7e708637d4a0603e74d49",
     "grade": false,
     "grade_id": "cell-621cf6101617c939",
     "locked": true,
     "schema_version": 3,
     "solution": false
    }
   },
   "source": [
    "[Back to top](#-Index)\n",
    "\n",
    "### Problem 3\n",
    "\n",
    "#### Examining the log odds\n",
    "\n",
    "**10 Points**\n",
    "\n",
    "The predictions above are the log odds for the positive class.  In order to interpret these as probabilities, we need to return to the original sigmoid form:\n",
    "\n",
    "$$\\sigma(x) = \\frac{1}{1 + e^{-(ax + b)}}$$\n",
    "\n",
    "Complete the function `sigma` below that takes in an array of log odds (like `predictions`) and returns the sigmoid function.  The results should look like the image below when plotted.\n",
    "\n",
    "<center>\n",
    "    <img src = 'images/sigmoid.png' />\n",
    "</center>"
   ]
  },
  {
   "cell_type": "code",
   "execution_count": 17,
   "metadata": {
    "deletable": false,
    "nbgrader": {
     "cell_type": "code",
     "checksum": "68937f4ebd78f877dd1bd14f14321285",
     "grade": false,
     "grade_id": "cell-5818932cefd70eb1",
     "locked": false,
     "schema_version": 3,
     "solution": true
    }
   },
   "outputs": [
    {
     "data": {
      "image/png": "[encoded data removed]",
      "text/plain": [
       "<Figure size 640x480 with 1 Axes>"
      ]
     },
     "metadata": {},
     "output_type": "display_data"
    }
   ],
   "source": [
    "def sigma(predictions):\n",
    "    return 1.0 / (1.0 + np.exp(-predictions))\n",
    "\n",
    "\n",
    "# Answer check\n",
    "probs = sigma(predictions)\n",
    "# print(probs)\n",
    "\n",
    "plt.scatter(X.to_numpy(), sigma(linear_predictions(logreg, X.to_numpy())), c=y)\n",
    "plt.scatter(\n",
    "    X.to_numpy(),\n",
    "    np.where(sigma(linear_predictions(logreg, X)) >= 0.5, 1, 0),\n",
    "    color=\"blue\",\n",
    "    s=4,\n",
    ")\n",
    "plt.grid()"
   ]
  },
  {
   "cell_type": "markdown",
   "metadata": {
    "deletable": false,
    "editable": false,
    "nbgrader": {
     "cell_type": "markdown",
     "checksum": "29f1c3780cd39a7aaadd9459afc3676a",
     "grade": false,
     "grade_id": "cell-97ce97cd1401f7b9",
     "locked": true,
     "schema_version": 3,
     "solution": false
    }
   },
   "source": [
    "[Back to top](#-Index)\n",
    "\n",
    "### Problem 4\n",
    "\n",
    "#### Making Class Predictions\n",
    "\n",
    "**10 Points**\n",
    "\n",
    "Now, use the probabilities obtained from the sigmoid function to make predictions.  Specifically, if a probability is greater than or equal to 0.5, assign this to the positive class 1, otherwise assign class 0.  Assign your solution as a numpy array to `class_predictions` below."
   ]
  },
  {
   "cell_type": "code",
   "execution_count": 18,
   "metadata": {
    "deletable": false,
    "nbgrader": {
     "cell_type": "code",
     "checksum": "93d9dc1a2324e58da333b65f92441ff5",
     "grade": false,
     "grade_id": "cell-af1f3a6d1f64927f",
     "locked": false,
     "schema_version": 3,
     "solution": true
    }
   },
   "outputs": [],
   "source": [
    "class_predictions = np.where(sigma(predictions) >= 0.5, 1, 0)"
   ]
  },
  {
   "cell_type": "markdown",
   "metadata": {
    "deletable": false,
    "editable": false,
    "nbgrader": {
     "cell_type": "markdown",
     "checksum": "6c00892e6cd7a6868f13050b1d677e7d",
     "grade": false,
     "grade_id": "cell-aba36cc4f9a369a3",
     "locked": true,
     "schema_version": 3,
     "solution": false
    }
   },
   "source": [
    "[Back to top](#-Index)\n",
    "\n",
    "### Problem 5\n",
    "\n",
    "#### Using the `predict_proba` method\n",
    "\n",
    "**10 Points**\n",
    "\n",
    "Luckily, you needn't go through this process each time having fit a Logistic model to determine these probabilities.  A fit `LogisticRegression` estimator has a `.predict_proba` method similar to that of the `KNeighborsClassifier` from last module.  This returns the probabilities for each class as a 2D numpy array.  Below, assign the probabilities for the positive class on the test data as a 1D numpy array -- (67,) -- to `positive_probs` below using the `predict_proba` method of the `logreg` object. \n"
   ]
  },
  {
   "cell_type": "code",
   "execution_count": 19,
   "metadata": {
    "deletable": false,
    "nbgrader": {
     "cell_type": "code",
     "checksum": "fc72ecbd4b43d7e2ce27de7b57a8dc87",
     "grade": false,
     "grade_id": "cell-f350745aa18bae90",
     "locked": false,
     "schema_version": 3,
     "solution": true
    }
   },
   "outputs": [
    {
     "name": "stdout",
     "output_type": "stream",
     "text": [
      "(67,)\n"
     ]
    },
    {
     "data": {
      "image/png": "[encoded data removed]",
      "text/plain": [
       "<Figure size 640x480 with 1 Axes>"
      ]
     },
     "metadata": {},
     "output_type": "display_data"
    }
   ],
   "source": [
    "positive_probs = logreg.predict_proba(X_test)[:, 1]\n",
    "\n",
    "print(positive_probs.shape)  # (67,)\n",
    "plt.scatter(X_test, positive_probs, c=y_test)\n",
    "plt.grid(True)"
   ]
  },
  {
   "cell_type": "markdown",
   "metadata": {
    "deletable": false,
    "editable": false,
    "nbgrader": {
     "cell_type": "markdown",
     "checksum": "4577196d7cf75418c147704df22f3656",
     "grade": false,
     "grade_id": "cell-c6619cd0a8044fec",
     "locked": true,
     "schema_version": 3,
     "solution": false
    }
   },
   "source": [
    "[Back to top](#-Index)\n",
    "\n",
    "### Problem 6\n",
    "\n",
    "#### Scoring the Classifier\n",
    "\n",
    "**10 Points**\n",
    "\n",
    "Again, you may be interested in different metrics for your classifier.  Below, use the `logreg` object to make predictions and evaluate them against `y_test` for accuracy, precision, and recall.  Assign as floats to the appropriate variables below."
   ]
  },
  {
   "cell_type": "code",
   "execution_count": 20,
   "metadata": {
    "deletable": false,
    "nbgrader": {
     "cell_type": "code",
     "checksum": "4370424a84d07418cc108afcd087163d",
     "grade": false,
     "grade_id": "cell-282f4248c3e596bd",
     "locked": false,
     "schema_version": 3,
     "solution": true
    }
   },
   "outputs": [
    {
     "name": "stdout",
     "output_type": "stream",
     "text": [
      "Accuracy:  0.99\n",
      "Precision:  1.00\n",
      "Recall:  0.96\n"
     ]
    }
   ],
   "source": [
    "preds = logreg.predict(X_test)\n",
    "accuracy = accuracy_score(y_test, preds)\n",
    "precision = precision_score(y_test, preds)\n",
    "recall = recall_score(y_test, preds)\n",
    "\n",
    "# Answer check\n",
    "print(f\"Accuracy: {accuracy: .2f}\\nPrecision: {precision: .2f}\\nRecall: {recall: .2f}\")"
   ]
  },
  {
   "cell_type": "markdown",
   "metadata": {
    "deletable": false,
    "editable": false,
    "nbgrader": {
     "cell_type": "markdown",
     "checksum": "ad2c4d9883a9ce05ef9c5f2ac9403c45",
     "grade": false,
     "grade_id": "cell-60f9c42e51e97653",
     "locked": true,
     "schema_version": 3,
     "solution": false
    }
   },
   "source": [
    "From this example it seems you have a powerful classifier.  In the following activity, you will explore more about exactly where these coefficients come from and how they are determined in general.  "
   ]
  }
 ],
 "metadata": {
  "kernelspec": {
   "display_name": "Python 3 (ipykernel)",
   "language": "python",
   "name": "python3"
  },
  "language_info": {
   "codemirror_mode": {
    "name": "ipython",
    "version": 3
   },
   "file_extension": ".py",
   "mimetype": "text/x-python",
   "name": "python",
   "nbconvert_exporter": "python",
   "pygments_lexer": "ipython3",
   "version": "3.10.13"
  },
  "widgets": {
   "application/vnd.jupyter.widget-state+json": {
    "state": {},
    "version_major": 2,
    "version_minor": 0
   }
  }
 },
 "nbformat": 4,
 "nbformat_minor": 4
}
