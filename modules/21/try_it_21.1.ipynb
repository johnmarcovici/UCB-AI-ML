{
 "cells": [
  {
   "cell_type": "markdown",
   "metadata": {},
   "source": [
    "### Comparing Aggregate Models for Regression\n",
    "\n",
    "This try-it focuses on utilizing ensemble models in a regression setting.  Much like you have used individual classification estimators to form an ensemble of estimators -- here your goal is to explore ensembles for regression models.  As with your earlier assignment, you will use scikitlearn to carry out the ensembles using the `VotingRegressor`.   \n",
    "\n",
    "\n",
    "#### Dataset and Task\n",
    "\n",
    "Below, a dataset containing census information on individuals and their hourly wage is loaded using the `fetch_openml` function.  OpenML is another repository for datasets [here](https://www.openml.org/).  Your task is to use ensemble methods to explore predicting the `wage` column of the data.  Your ensemble should at the very least consider the following models:\n",
    "\n",
    "- `LinearRegression` -- perhaps you even want the `TransformedTargetRegressor` here.\n",
    "- `KNeighborsRegressor`\n",
    "- `DecisionTreeRegressor`\n",
    "- `Ridge`\n",
    "- `SVR`\n",
    "\n",
    "Tune the `VotingRegressor` to try to optimize the prediction performance and determine if the wisdom of the crowd performed better in this setting than any of the individual models themselves.  Report back on your findings and discuss the interpretability of your findings.  Is there a way to determine what features mattered in predicting wages?"
   ]
  },
  {
   "cell_type": "code",
   "execution_count": 1,
   "metadata": {},
   "outputs": [],
   "source": [
    "import numpy as np\n",
    "import pandas as pd\n",
    "import matplotlib.pyplot as plt\n",
    "import warnings\n",
    "\n",
    "from sklearn.ensemble import VotingRegressor\n",
    "from sklearn.pipeline import Pipeline\n",
    "from sklearn.datasets import fetch_openml\n",
    "from sklearn.model_selection import train_test_split\n",
    "from sklearn.linear_model import LinearRegression, Ridge\n",
    "from sklearn.neighbors import KNeighborsRegressor\n",
    "from sklearn.tree import DecisionTreeRegressor\n",
    "from sklearn.svm import SVR\n",
    "from sklearn.preprocessing import StandardScaler, OneHotEncoder\n",
    "from sklearn.compose import make_column_transformer\n",
    "from sklearn.metrics import root_mean_squared_error\n",
    "\n",
    "warnings.filterwarnings(\"ignore\")\n",
    "pd.set_option(\"display.max_columns\", None)"
   ]
  },
  {
   "cell_type": "code",
   "execution_count": 2,
   "metadata": {},
   "outputs": [],
   "source": [
    "df = fetch_openml(data_id=534, as_frame=True).frame"
   ]
  },
  {
   "cell_type": "code",
   "execution_count": 3,
   "metadata": {},
   "outputs": [
    {
     "data": {
      "text/html": [
       "<div>\n",
       "<style scoped>\n",
       "    .dataframe tbody tr th:only-of-type {\n",
       "        vertical-align: middle;\n",
       "    }\n",
       "\n",
       "    .dataframe tbody tr th {\n",
       "        vertical-align: top;\n",
       "    }\n",
       "\n",
       "    .dataframe thead th {\n",
       "        text-align: right;\n",
       "    }\n",
       "</style>\n",
       "<table border=\"1\" class=\"dataframe\">\n",
       "  <thead>\n",
       "    <tr style=\"text-align: right;\">\n",
       "      <th></th>\n",
       "      <th>EDUCATION</th>\n",
       "      <th>SOUTH</th>\n",
       "      <th>SEX</th>\n",
       "      <th>EXPERIENCE</th>\n",
       "      <th>UNION</th>\n",
       "      <th>WAGE</th>\n",
       "      <th>AGE</th>\n",
       "      <th>RACE</th>\n",
       "      <th>OCCUPATION</th>\n",
       "      <th>SECTOR</th>\n",
       "      <th>MARR</th>\n",
       "    </tr>\n",
       "  </thead>\n",
       "  <tbody>\n",
       "    <tr>\n",
       "      <th>0</th>\n",
       "      <td>8</td>\n",
       "      <td>no</td>\n",
       "      <td>female</td>\n",
       "      <td>21</td>\n",
       "      <td>not_member</td>\n",
       "      <td>5.10</td>\n",
       "      <td>35</td>\n",
       "      <td>Hispanic</td>\n",
       "      <td>Other</td>\n",
       "      <td>Manufacturing</td>\n",
       "      <td>Married</td>\n",
       "    </tr>\n",
       "    <tr>\n",
       "      <th>1</th>\n",
       "      <td>9</td>\n",
       "      <td>no</td>\n",
       "      <td>female</td>\n",
       "      <td>42</td>\n",
       "      <td>not_member</td>\n",
       "      <td>4.95</td>\n",
       "      <td>57</td>\n",
       "      <td>White</td>\n",
       "      <td>Other</td>\n",
       "      <td>Manufacturing</td>\n",
       "      <td>Married</td>\n",
       "    </tr>\n",
       "    <tr>\n",
       "      <th>2</th>\n",
       "      <td>12</td>\n",
       "      <td>no</td>\n",
       "      <td>male</td>\n",
       "      <td>1</td>\n",
       "      <td>not_member</td>\n",
       "      <td>6.67</td>\n",
       "      <td>19</td>\n",
       "      <td>White</td>\n",
       "      <td>Other</td>\n",
       "      <td>Manufacturing</td>\n",
       "      <td>Unmarried</td>\n",
       "    </tr>\n",
       "    <tr>\n",
       "      <th>3</th>\n",
       "      <td>12</td>\n",
       "      <td>no</td>\n",
       "      <td>male</td>\n",
       "      <td>4</td>\n",
       "      <td>not_member</td>\n",
       "      <td>4.00</td>\n",
       "      <td>22</td>\n",
       "      <td>White</td>\n",
       "      <td>Other</td>\n",
       "      <td>Other</td>\n",
       "      <td>Unmarried</td>\n",
       "    </tr>\n",
       "    <tr>\n",
       "      <th>4</th>\n",
       "      <td>12</td>\n",
       "      <td>no</td>\n",
       "      <td>male</td>\n",
       "      <td>17</td>\n",
       "      <td>not_member</td>\n",
       "      <td>7.50</td>\n",
       "      <td>35</td>\n",
       "      <td>White</td>\n",
       "      <td>Other</td>\n",
       "      <td>Other</td>\n",
       "      <td>Married</td>\n",
       "    </tr>\n",
       "    <tr>\n",
       "      <th>...</th>\n",
       "      <td>...</td>\n",
       "      <td>...</td>\n",
       "      <td>...</td>\n",
       "      <td>...</td>\n",
       "      <td>...</td>\n",
       "      <td>...</td>\n",
       "      <td>...</td>\n",
       "      <td>...</td>\n",
       "      <td>...</td>\n",
       "      <td>...</td>\n",
       "      <td>...</td>\n",
       "    </tr>\n",
       "    <tr>\n",
       "      <th>529</th>\n",
       "      <td>18</td>\n",
       "      <td>no</td>\n",
       "      <td>male</td>\n",
       "      <td>5</td>\n",
       "      <td>not_member</td>\n",
       "      <td>11.36</td>\n",
       "      <td>29</td>\n",
       "      <td>White</td>\n",
       "      <td>Professional</td>\n",
       "      <td>Other</td>\n",
       "      <td>Unmarried</td>\n",
       "    </tr>\n",
       "    <tr>\n",
       "      <th>530</th>\n",
       "      <td>12</td>\n",
       "      <td>no</td>\n",
       "      <td>female</td>\n",
       "      <td>33</td>\n",
       "      <td>not_member</td>\n",
       "      <td>6.10</td>\n",
       "      <td>51</td>\n",
       "      <td>Other</td>\n",
       "      <td>Professional</td>\n",
       "      <td>Other</td>\n",
       "      <td>Married</td>\n",
       "    </tr>\n",
       "    <tr>\n",
       "      <th>531</th>\n",
       "      <td>17</td>\n",
       "      <td>no</td>\n",
       "      <td>female</td>\n",
       "      <td>25</td>\n",
       "      <td>member</td>\n",
       "      <td>23.25</td>\n",
       "      <td>48</td>\n",
       "      <td>Other</td>\n",
       "      <td>Professional</td>\n",
       "      <td>Other</td>\n",
       "      <td>Married</td>\n",
       "    </tr>\n",
       "    <tr>\n",
       "      <th>532</th>\n",
       "      <td>12</td>\n",
       "      <td>yes</td>\n",
       "      <td>male</td>\n",
       "      <td>13</td>\n",
       "      <td>member</td>\n",
       "      <td>19.88</td>\n",
       "      <td>31</td>\n",
       "      <td>White</td>\n",
       "      <td>Professional</td>\n",
       "      <td>Other</td>\n",
       "      <td>Married</td>\n",
       "    </tr>\n",
       "    <tr>\n",
       "      <th>533</th>\n",
       "      <td>16</td>\n",
       "      <td>no</td>\n",
       "      <td>male</td>\n",
       "      <td>33</td>\n",
       "      <td>not_member</td>\n",
       "      <td>15.38</td>\n",
       "      <td>55</td>\n",
       "      <td>White</td>\n",
       "      <td>Professional</td>\n",
       "      <td>Manufacturing</td>\n",
       "      <td>Married</td>\n",
       "    </tr>\n",
       "  </tbody>\n",
       "</table>\n",
       "<p>534 rows × 11 columns</p>\n",
       "</div>"
      ],
      "text/plain": [
       "     EDUCATION SOUTH     SEX  EXPERIENCE       UNION   WAGE  AGE      RACE  \\\n",
       "0            8    no  female          21  not_member   5.10   35  Hispanic   \n",
       "1            9    no  female          42  not_member   4.95   57     White   \n",
       "2           12    no    male           1  not_member   6.67   19     White   \n",
       "3           12    no    male           4  not_member   4.00   22     White   \n",
       "4           12    no    male          17  not_member   7.50   35     White   \n",
       "..         ...   ...     ...         ...         ...    ...  ...       ...   \n",
       "529         18    no    male           5  not_member  11.36   29     White   \n",
       "530         12    no  female          33  not_member   6.10   51     Other   \n",
       "531         17    no  female          25      member  23.25   48     Other   \n",
       "532         12   yes    male          13      member  19.88   31     White   \n",
       "533         16    no    male          33  not_member  15.38   55     White   \n",
       "\n",
       "       OCCUPATION         SECTOR       MARR  \n",
       "0           Other  Manufacturing    Married  \n",
       "1           Other  Manufacturing    Married  \n",
       "2           Other  Manufacturing  Unmarried  \n",
       "3           Other          Other  Unmarried  \n",
       "4           Other          Other    Married  \n",
       "..            ...            ...        ...  \n",
       "529  Professional          Other  Unmarried  \n",
       "530  Professional          Other    Married  \n",
       "531  Professional          Other    Married  \n",
       "532  Professional          Other    Married  \n",
       "533  Professional  Manufacturing    Married  \n",
       "\n",
       "[534 rows x 11 columns]"
      ]
     },
     "execution_count": 3,
     "metadata": {},
     "output_type": "execute_result"
    }
   ],
   "source": [
    "df"
   ]
  },
  {
   "cell_type": "code",
   "execution_count": 4,
   "metadata": {},
   "outputs": [],
   "source": [
    "model_names = [\n",
    "    \"LinearRegression\",\n",
    "    \"KNeighborsRegressor\",\n",
    "    \"DecisionTreeRegressor\",\n",
    "    \"Ridge\",\n",
    "    \"SVR\",\n",
    "]"
   ]
  },
  {
   "cell_type": "code",
   "execution_count": 5,
   "metadata": {},
   "outputs": [
    {
     "data": {
      "text/plain": [
       "['SOUTH', 'SEX', 'UNION', 'RACE', 'OCCUPATION', 'SECTOR', 'MARR']"
      ]
     },
     "execution_count": 5,
     "metadata": {},
     "output_type": "execute_result"
    }
   ],
   "source": [
    "list(df.select_dtypes(include=\"category\").columns)"
   ]
  },
  {
   "cell_type": "code",
   "execution_count": 6,
   "metadata": {},
   "outputs": [],
   "source": [
    "transformer = make_column_transformer(\n",
    "    (\n",
    "        OneHotEncoder(drop=\"if_binary\"),\n",
    "        list(df.select_dtypes(include=\"category\").columns),\n",
    "    ),\n",
    "    remainder=StandardScaler(),\n",
    ")"
   ]
  },
  {
   "cell_type": "code",
   "execution_count": 7,
   "metadata": {},
   "outputs": [],
   "source": [
    "X, y = df.drop(\"WAGE\", axis=1), df[\"WAGE\"]"
   ]
  },
  {
   "cell_type": "code",
   "execution_count": 8,
   "metadata": {},
   "outputs": [],
   "source": [
    "X_xformed = transformer.fit_transform(X)"
   ]
  },
  {
   "cell_type": "code",
   "execution_count": 9,
   "metadata": {},
   "outputs": [],
   "source": [
    "X_train, X_test, y_train, y_test = train_test_split(X_xformed, y, random_state=42)"
   ]
  },
  {
   "cell_type": "code",
   "execution_count": 24,
   "metadata": {},
   "outputs": [],
   "source": [
    "preds = {}\n",
    "models = []\n",
    "\n",
    "for model_name in model_names:\n",
    "    kwargs = {\"random_state\": 42} if model_name == \"DecisionTreeRegressor\" else {}\n",
    "    model = eval(model_name)(**kwargs)\n",
    "    estimator = model.fit(X_train, y_train)\n",
    "    y_pred = estimator.predict(X_test)\n",
    "    preds[model_name] = y_pred\n",
    "    models.append((model_name, estimator))"
   ]
  },
  {
   "cell_type": "code",
   "execution_count": 27,
   "metadata": {},
   "outputs": [],
   "source": [
    "preds_df = pd.DataFrame(preds)"
   ]
  },
  {
   "cell_type": "code",
   "execution_count": 28,
   "metadata": {},
   "outputs": [
    {
     "data": {
      "text/html": [
       "<div>\n",
       "<style scoped>\n",
       "    .dataframe tbody tr th:only-of-type {\n",
       "        vertical-align: middle;\n",
       "    }\n",
       "\n",
       "    .dataframe tbody tr th {\n",
       "        vertical-align: top;\n",
       "    }\n",
       "\n",
       "    .dataframe thead th {\n",
       "        text-align: right;\n",
       "    }\n",
       "</style>\n",
       "<table border=\"1\" class=\"dataframe\">\n",
       "  <thead>\n",
       "    <tr style=\"text-align: right;\">\n",
       "      <th></th>\n",
       "      <th>LinearRegression</th>\n",
       "      <th>KNeighborsRegressor</th>\n",
       "      <th>DecisionTreeRegressor</th>\n",
       "      <th>Ridge</th>\n",
       "      <th>SVR</th>\n",
       "    </tr>\n",
       "  </thead>\n",
       "  <tbody>\n",
       "    <tr>\n",
       "      <th>0</th>\n",
       "      <td>4.223552</td>\n",
       "      <td>4.33732</td>\n",
       "      <td>6.893991</td>\n",
       "      <td>4.221113</td>\n",
       "      <td>4.319389</td>\n",
       "    </tr>\n",
       "  </tbody>\n",
       "</table>\n",
       "</div>"
      ],
      "text/plain": [
       "   LinearRegression  KNeighborsRegressor  DecisionTreeRegressor     Ridge  \\\n",
       "0          4.223552              4.33732               6.893991  4.221113   \n",
       "\n",
       "        SVR  \n",
       "0  4.319389  "
      ]
     },
     "execution_count": 28,
     "metadata": {},
     "output_type": "execute_result"
    }
   ],
   "source": [
    "preds_df.apply(lambda x: root_mean_squared_error(x, y_test)).to_frame().transpose()"
   ]
  },
  {
   "cell_type": "code",
   "execution_count": 29,
   "metadata": {},
   "outputs": [
    {
     "data": {
      "text/html": [
       "<div>\n",
       "<style scoped>\n",
       "    .dataframe tbody tr th:only-of-type {\n",
       "        vertical-align: middle;\n",
       "    }\n",
       "\n",
       "    .dataframe tbody tr th {\n",
       "        vertical-align: top;\n",
       "    }\n",
       "\n",
       "    .dataframe thead th {\n",
       "        text-align: right;\n",
       "    }\n",
       "</style>\n",
       "<table border=\"1\" class=\"dataframe\">\n",
       "  <thead>\n",
       "    <tr style=\"text-align: right;\">\n",
       "      <th></th>\n",
       "      <th>LinearRegression</th>\n",
       "      <th>KNeighborsRegressor</th>\n",
       "      <th>DecisionTreeRegressor</th>\n",
       "      <th>Ridge</th>\n",
       "      <th>SVR</th>\n",
       "      <th>EnsembleAverage</th>\n",
       "    </tr>\n",
       "  </thead>\n",
       "  <tbody>\n",
       "    <tr>\n",
       "      <th>0</th>\n",
       "      <td>8.642802</td>\n",
       "      <td>7.840</td>\n",
       "      <td>4.25</td>\n",
       "      <td>8.694120</td>\n",
       "      <td>8.340630</td>\n",
       "      <td>7.553510</td>\n",
       "    </tr>\n",
       "    <tr>\n",
       "      <th>1</th>\n",
       "      <td>8.101087</td>\n",
       "      <td>7.092</td>\n",
       "      <td>9.36</td>\n",
       "      <td>8.106851</td>\n",
       "      <td>5.506240</td>\n",
       "      <td>7.633236</td>\n",
       "    </tr>\n",
       "    <tr>\n",
       "      <th>2</th>\n",
       "      <td>8.874827</td>\n",
       "      <td>9.044</td>\n",
       "      <td>6.50</td>\n",
       "      <td>8.873361</td>\n",
       "      <td>7.325794</td>\n",
       "      <td>8.123596</td>\n",
       "    </tr>\n",
       "    <tr>\n",
       "      <th>3</th>\n",
       "      <td>8.316683</td>\n",
       "      <td>8.200</td>\n",
       "      <td>8.75</td>\n",
       "      <td>8.339511</td>\n",
       "      <td>8.718391</td>\n",
       "      <td>8.464917</td>\n",
       "    </tr>\n",
       "    <tr>\n",
       "      <th>4</th>\n",
       "      <td>10.501484</td>\n",
       "      <td>9.232</td>\n",
       "      <td>16.26</td>\n",
       "      <td>10.474325</td>\n",
       "      <td>7.703489</td>\n",
       "      <td>10.834260</td>\n",
       "    </tr>\n",
       "    <tr>\n",
       "      <th>...</th>\n",
       "      <td>...</td>\n",
       "      <td>...</td>\n",
       "      <td>...</td>\n",
       "      <td>...</td>\n",
       "      <td>...</td>\n",
       "      <td>...</td>\n",
       "    </tr>\n",
       "    <tr>\n",
       "      <th>129</th>\n",
       "      <td>6.244204</td>\n",
       "      <td>4.590</td>\n",
       "      <td>2.85</td>\n",
       "      <td>6.268858</td>\n",
       "      <td>4.205956</td>\n",
       "      <td>4.831804</td>\n",
       "    </tr>\n",
       "    <tr>\n",
       "      <th>130</th>\n",
       "      <td>9.319739</td>\n",
       "      <td>8.672</td>\n",
       "      <td>12.00</td>\n",
       "      <td>9.316489</td>\n",
       "      <td>8.215098</td>\n",
       "      <td>9.504665</td>\n",
       "    </tr>\n",
       "    <tr>\n",
       "      <th>131</th>\n",
       "      <td>5.175126</td>\n",
       "      <td>8.228</td>\n",
       "      <td>3.51</td>\n",
       "      <td>5.216037</td>\n",
       "      <td>5.903265</td>\n",
       "      <td>5.606486</td>\n",
       "    </tr>\n",
       "    <tr>\n",
       "      <th>132</th>\n",
       "      <td>5.191299</td>\n",
       "      <td>5.786</td>\n",
       "      <td>8.75</td>\n",
       "      <td>5.231854</td>\n",
       "      <td>6.012902</td>\n",
       "      <td>6.194411</td>\n",
       "    </tr>\n",
       "    <tr>\n",
       "      <th>133</th>\n",
       "      <td>8.346572</td>\n",
       "      <td>9.964</td>\n",
       "      <td>6.00</td>\n",
       "      <td>8.348959</td>\n",
       "      <td>7.195027</td>\n",
       "      <td>7.970912</td>\n",
       "    </tr>\n",
       "  </tbody>\n",
       "</table>\n",
       "<p>134 rows × 6 columns</p>\n",
       "</div>"
      ],
      "text/plain": [
       "     LinearRegression  KNeighborsRegressor  DecisionTreeRegressor      Ridge  \\\n",
       "0            8.642802                7.840                   4.25   8.694120   \n",
       "1            8.101087                7.092                   9.36   8.106851   \n",
       "2            8.874827                9.044                   6.50   8.873361   \n",
       "3            8.316683                8.200                   8.75   8.339511   \n",
       "4           10.501484                9.232                  16.26  10.474325   \n",
       "..                ...                  ...                    ...        ...   \n",
       "129          6.244204                4.590                   2.85   6.268858   \n",
       "130          9.319739                8.672                  12.00   9.316489   \n",
       "131          5.175126                8.228                   3.51   5.216037   \n",
       "132          5.191299                5.786                   8.75   5.231854   \n",
       "133          8.346572                9.964                   6.00   8.348959   \n",
       "\n",
       "          SVR  EnsembleAverage  \n",
       "0    8.340630         7.553510  \n",
       "1    5.506240         7.633236  \n",
       "2    7.325794         8.123596  \n",
       "3    8.718391         8.464917  \n",
       "4    7.703489        10.834260  \n",
       "..        ...              ...  \n",
       "129  4.205956         4.831804  \n",
       "130  8.215098         9.504665  \n",
       "131  5.903265         5.606486  \n",
       "132  6.012902         6.194411  \n",
       "133  7.195027         7.970912  \n",
       "\n",
       "[134 rows x 6 columns]"
      ]
     },
     "execution_count": 29,
     "metadata": {},
     "output_type": "execute_result"
    }
   ],
   "source": [
    "preds_df[\"EnsembleAverage\"] = preds_df.mean(axis=\"columns\")\n",
    "preds_df"
   ]
  },
  {
   "cell_type": "code",
   "execution_count": 30,
   "metadata": {},
   "outputs": [
    {
     "data": {
      "text/html": [
       "<div>\n",
       "<style scoped>\n",
       "    .dataframe tbody tr th:only-of-type {\n",
       "        vertical-align: middle;\n",
       "    }\n",
       "\n",
       "    .dataframe tbody tr th {\n",
       "        vertical-align: top;\n",
       "    }\n",
       "\n",
       "    .dataframe thead th {\n",
       "        text-align: right;\n",
       "    }\n",
       "</style>\n",
       "<table border=\"1\" class=\"dataframe\">\n",
       "  <thead>\n",
       "    <tr style=\"text-align: right;\">\n",
       "      <th></th>\n",
       "      <th>LinearRegression</th>\n",
       "      <th>KNeighborsRegressor</th>\n",
       "      <th>DecisionTreeRegressor</th>\n",
       "      <th>Ridge</th>\n",
       "      <th>SVR</th>\n",
       "      <th>EnsembleAverage</th>\n",
       "    </tr>\n",
       "  </thead>\n",
       "  <tbody>\n",
       "    <tr>\n",
       "      <th>0</th>\n",
       "      <td>4.223552</td>\n",
       "      <td>4.33732</td>\n",
       "      <td>6.893991</td>\n",
       "      <td>4.221113</td>\n",
       "      <td>4.319389</td>\n",
       "      <td>4.402494</td>\n",
       "    </tr>\n",
       "  </tbody>\n",
       "</table>\n",
       "</div>"
      ],
      "text/plain": [
       "   LinearRegression  KNeighborsRegressor  DecisionTreeRegressor     Ridge  \\\n",
       "0          4.223552              4.33732               6.893991  4.221113   \n",
       "\n",
       "        SVR  EnsembleAverage  \n",
       "0  4.319389         4.402494  "
      ]
     },
     "execution_count": 30,
     "metadata": {},
     "output_type": "execute_result"
    }
   ],
   "source": [
    "preds_df.apply(lambda x: root_mean_squared_error(x, y_test)).to_frame().transpose()"
   ]
  },
  {
   "cell_type": "markdown",
   "metadata": {},
   "source": [
    "Implement the VotingRegressor"
   ]
  },
  {
   "cell_type": "code",
   "execution_count": 31,
   "metadata": {},
   "outputs": [
    {
     "data": {
      "text/html": [
       "<div>\n",
       "<style scoped>\n",
       "    .dataframe tbody tr th:only-of-type {\n",
       "        vertical-align: middle;\n",
       "    }\n",
       "\n",
       "    .dataframe tbody tr th {\n",
       "        vertical-align: top;\n",
       "    }\n",
       "\n",
       "    .dataframe thead th {\n",
       "        text-align: right;\n",
       "    }\n",
       "</style>\n",
       "<table border=\"1\" class=\"dataframe\">\n",
       "  <thead>\n",
       "    <tr style=\"text-align: right;\">\n",
       "      <th></th>\n",
       "      <th>LinearRegression</th>\n",
       "      <th>KNeighborsRegressor</th>\n",
       "      <th>DecisionTreeRegressor</th>\n",
       "      <th>Ridge</th>\n",
       "      <th>SVR</th>\n",
       "      <th>EnsembleAverage</th>\n",
       "      <th>VotingRegressor</th>\n",
       "    </tr>\n",
       "  </thead>\n",
       "  <tbody>\n",
       "    <tr>\n",
       "      <th>0</th>\n",
       "      <td>4.223552</td>\n",
       "      <td>4.33732</td>\n",
       "      <td>6.893991</td>\n",
       "      <td>4.221113</td>\n",
       "      <td>4.319389</td>\n",
       "      <td>4.402494</td>\n",
       "      <td>4.402494</td>\n",
       "    </tr>\n",
       "  </tbody>\n",
       "</table>\n",
       "</div>"
      ],
      "text/plain": [
       "   LinearRegression  KNeighborsRegressor  DecisionTreeRegressor     Ridge  \\\n",
       "0          4.223552              4.33732               6.893991  4.221113   \n",
       "\n",
       "        SVR  EnsembleAverage  VotingRegressor  \n",
       "0  4.319389         4.402494         4.402494  "
      ]
     },
     "execution_count": 31,
     "metadata": {},
     "output_type": "execute_result"
    }
   ],
   "source": [
    "vr = VotingRegressor(estimators=models).fit(X_train, y_train)\n",
    "preds_df[\"VotingRegressor\"] = vr.predict(X_test)\n",
    "preds_df.apply(lambda x: root_mean_squared_error(x, y_test)).to_frame().transpose()"
   ]
  },
  {
   "cell_type": "code",
   "execution_count": 32,
   "metadata": {},
   "outputs": [
    {
     "data": {
      "text/plain": [
       "True"
      ]
     },
     "execution_count": 32,
     "metadata": {},
     "output_type": "execute_result"
    }
   ],
   "source": [
    "preds_df[\"EnsembleAverage\"].equals(preds_df[\"VotingRegressor\"])"
   ]
  },
  {
   "cell_type": "markdown",
   "metadata": {},
   "source": [
    "Implement the weighted VotingRegressor - suppress the decision tree since it is very poor"
   ]
  },
  {
   "cell_type": "code",
   "execution_count": 33,
   "metadata": {},
   "outputs": [
    {
     "data": {
      "text/plain": [
       "[0.25, 0.25, 0.0, 0.25, 0.25]"
      ]
     },
     "execution_count": 33,
     "metadata": {},
     "output_type": "execute_result"
    }
   ],
   "source": [
    "weights = [\n",
    "    0.0 if model_name == \"DecisionTreeRegressor\" else 0.25 for model_name in model_names\n",
    "]\n",
    "weights"
   ]
  },
  {
   "cell_type": "code",
   "execution_count": 34,
   "metadata": {},
   "outputs": [
    {
     "data": {
      "text/html": [
       "<div>\n",
       "<style scoped>\n",
       "    .dataframe tbody tr th:only-of-type {\n",
       "        vertical-align: middle;\n",
       "    }\n",
       "\n",
       "    .dataframe tbody tr th {\n",
       "        vertical-align: top;\n",
       "    }\n",
       "\n",
       "    .dataframe thead th {\n",
       "        text-align: right;\n",
       "    }\n",
       "</style>\n",
       "<table border=\"1\" class=\"dataframe\">\n",
       "  <thead>\n",
       "    <tr style=\"text-align: right;\">\n",
       "      <th></th>\n",
       "      <th>LinearRegression</th>\n",
       "      <th>KNeighborsRegressor</th>\n",
       "      <th>DecisionTreeRegressor</th>\n",
       "      <th>Ridge</th>\n",
       "      <th>SVR</th>\n",
       "      <th>EnsembleAverage</th>\n",
       "      <th>VotingRegressor</th>\n",
       "      <th>Weighted VotingRegressor</th>\n",
       "    </tr>\n",
       "  </thead>\n",
       "  <tbody>\n",
       "    <tr>\n",
       "      <th>0</th>\n",
       "      <td>4.223552</td>\n",
       "      <td>4.33732</td>\n",
       "      <td>6.893991</td>\n",
       "      <td>4.221113</td>\n",
       "      <td>4.319389</td>\n",
       "      <td>4.402494</td>\n",
       "      <td>4.402494</td>\n",
       "      <td>4.168757</td>\n",
       "    </tr>\n",
       "  </tbody>\n",
       "</table>\n",
       "</div>"
      ],
      "text/plain": [
       "   LinearRegression  KNeighborsRegressor  DecisionTreeRegressor     Ridge  \\\n",
       "0          4.223552              4.33732               6.893991  4.221113   \n",
       "\n",
       "        SVR  EnsembleAverage  VotingRegressor  Weighted VotingRegressor  \n",
       "0  4.319389         4.402494         4.402494                  4.168757  "
      ]
     },
     "execution_count": 34,
     "metadata": {},
     "output_type": "execute_result"
    }
   ],
   "source": [
    "weighted_vr = VotingRegressor(estimators=models, weights=weights).fit(X_train, y_train)\n",
    "preds_df[\"Weighted VotingRegressor\"] = weighted_vr.predict(X_test)\n",
    "preds_df.apply(lambda x: root_mean_squared_error(x, y_test)).to_frame().transpose()"
   ]
  },
  {
   "cell_type": "code",
   "execution_count": 37,
   "metadata": {},
   "outputs": [
    {
     "data": {
      "text/plain": [
       "Text(0, 0.5, 'Predicted Wages')"
      ]
     },
     "execution_count": 37,
     "metadata": {},
     "output_type": "execute_result"
    },
    {
     "data": {
      "image/png": "[encoded data removed]",
      "text/plain": [
       "<Figure size 1000x800 with 1 Axes>"
      ]
     },
     "metadata": {},
     "output_type": "display_data"
    }
   ],
   "source": [
    "fig = plt.figure(figsize=(10, 8))\n",
    "\n",
    "for regressor_name in [\n",
    "    \"LinearRegression\",\n",
    "    \"DecisionTreeRegressor\",\n",
    "    \"VotingRegressor\",\n",
    "    \"Weighted VotingRegressor\",\n",
    "]:\n",
    "    plt.scatter(y_test, preds_df[regressor_name], label=regressor_name)\n",
    "\n",
    "plt.plot(y_test, y_test, label=\"Y = y true\", color=\"black\")\n",
    "plt.grid(True)\n",
    "plt.legend()\n",
    "plt.xlabel(\"True Wages\")\n",
    "plt.ylabel(\"Predicted Wages\")"
   ]
  }
 ],
 "metadata": {
  "kernelspec": {
   "display_name": "Python 3",
   "language": "python",
   "name": "python3"
  },
  "language_info": {
   "codemirror_mode": {
    "name": "ipython",
    "version": 3
   },
   "file_extension": ".py",
   "mimetype": "text/x-python",
   "name": "python",
   "nbconvert_exporter": "python",
   "pygments_lexer": "ipython3",
   "version": "3.10.13"
  }
 },
 "nbformat": 4,
 "nbformat_minor": 4
}
