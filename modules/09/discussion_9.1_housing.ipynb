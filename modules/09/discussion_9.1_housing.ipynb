{
 "cells": [
  {
   "cell_type": "markdown",
   "metadata": {},
   "source": [
    "# Prompt\n",
    "\n",
    "Using a dataset of your own, explore the data utilizing multiple cross-validation techniques. Choose the most appropriate cross-validation technique for your data.\n",
    "\n",
    "In your initial post, describe your data, state which cross-validation technique you used, and explain your rationale for deciding on which cross-validation technique was the most appropriate for your specific dataset."
   ]
  },
  {
   "cell_type": "markdown",
   "metadata": {},
   "source": [
    "# Imports"
   ]
  },
  {
   "cell_type": "code",
   "execution_count": 1,
   "metadata": {},
   "outputs": [],
   "source": [
    "import warnings\n",
    "import numpy as np\n",
    "import pandas as pd\n",
    "import matplotlib.pyplot as plt\n",
    "import matplotlib as mpl\n",
    "import seaborn as sns\n",
    "from sklearn.linear_model import LinearRegression, Ridge, Lasso\n",
    "from sklearn.preprocessing import PolynomialFeatures, StandardScaler\n",
    "from sklearn.metrics import mean_squared_error, root_mean_squared_error\n",
    "from sklearn.pipeline import Pipeline\n",
    "from sklearn.model_selection import train_test_split, GridSearchCV, KFold\n",
    "from sklearn.utils import shuffle\n",
    "from sklearn.feature_selection import SequentialFeatureSelector\n",
    "import plotly.express as px\n",
    "\n",
    "np.random.seed(1234)"
   ]
  },
  {
   "cell_type": "code",
   "execution_count": 2,
   "metadata": {},
   "outputs": [],
   "source": [
    "warnings.filterwarnings(\"ignore\")\n",
    "pd.set_option(\"display.max_columns\", None)\n",
    "mpl.rcParams.update({\"axes.grid\": True})"
   ]
  },
  {
   "cell_type": "markdown",
   "metadata": {},
   "source": [
    "# Data Load"
   ]
  },
  {
   "cell_type": "code",
   "execution_count": 3,
   "metadata": {},
   "outputs": [
    {
     "data": {
      "text/html": [
       "<div>\n",
       "<style scoped>\n",
       "    .dataframe tbody tr th:only-of-type {\n",
       "        vertical-align: middle;\n",
       "    }\n",
       "\n",
       "    .dataframe tbody tr th {\n",
       "        vertical-align: top;\n",
       "    }\n",
       "\n",
       "    .dataframe thead th {\n",
       "        text-align: right;\n",
       "    }\n",
       "</style>\n",
       "<table border=\"1\" class=\"dataframe\">\n",
       "  <thead>\n",
       "    <tr style=\"text-align: right;\">\n",
       "      <th></th>\n",
       "      <th>longitude</th>\n",
       "      <th>latitude</th>\n",
       "      <th>housing_median_age</th>\n",
       "      <th>total_rooms</th>\n",
       "      <th>total_bedrooms</th>\n",
       "      <th>population</th>\n",
       "      <th>households</th>\n",
       "      <th>median_income</th>\n",
       "      <th>median_house_value</th>\n",
       "      <th>ocean_proximity</th>\n",
       "    </tr>\n",
       "  </thead>\n",
       "  <tbody>\n",
       "    <tr>\n",
       "      <th>0</th>\n",
       "      <td>-122.23</td>\n",
       "      <td>37.88</td>\n",
       "      <td>41.0</td>\n",
       "      <td>880.0</td>\n",
       "      <td>129.0</td>\n",
       "      <td>322.0</td>\n",
       "      <td>126.0</td>\n",
       "      <td>8.3252</td>\n",
       "      <td>452600.0</td>\n",
       "      <td>NEAR BAY</td>\n",
       "    </tr>\n",
       "    <tr>\n",
       "      <th>1</th>\n",
       "      <td>-122.22</td>\n",
       "      <td>37.86</td>\n",
       "      <td>21.0</td>\n",
       "      <td>7099.0</td>\n",
       "      <td>1106.0</td>\n",
       "      <td>2401.0</td>\n",
       "      <td>1138.0</td>\n",
       "      <td>8.3014</td>\n",
       "      <td>358500.0</td>\n",
       "      <td>NEAR BAY</td>\n",
       "    </tr>\n",
       "    <tr>\n",
       "      <th>2</th>\n",
       "      <td>-122.24</td>\n",
       "      <td>37.85</td>\n",
       "      <td>52.0</td>\n",
       "      <td>1467.0</td>\n",
       "      <td>190.0</td>\n",
       "      <td>496.0</td>\n",
       "      <td>177.0</td>\n",
       "      <td>7.2574</td>\n",
       "      <td>352100.0</td>\n",
       "      <td>NEAR BAY</td>\n",
       "    </tr>\n",
       "    <tr>\n",
       "      <th>3</th>\n",
       "      <td>-122.25</td>\n",
       "      <td>37.85</td>\n",
       "      <td>52.0</td>\n",
       "      <td>1274.0</td>\n",
       "      <td>235.0</td>\n",
       "      <td>558.0</td>\n",
       "      <td>219.0</td>\n",
       "      <td>5.6431</td>\n",
       "      <td>341300.0</td>\n",
       "      <td>NEAR BAY</td>\n",
       "    </tr>\n",
       "    <tr>\n",
       "      <th>4</th>\n",
       "      <td>-122.25</td>\n",
       "      <td>37.85</td>\n",
       "      <td>52.0</td>\n",
       "      <td>1627.0</td>\n",
       "      <td>280.0</td>\n",
       "      <td>565.0</td>\n",
       "      <td>259.0</td>\n",
       "      <td>3.8462</td>\n",
       "      <td>342200.0</td>\n",
       "      <td>NEAR BAY</td>\n",
       "    </tr>\n",
       "  </tbody>\n",
       "</table>\n",
       "</div>"
      ],
      "text/plain": [
       "   longitude  latitude  housing_median_age  total_rooms  total_bedrooms  \\\n",
       "0    -122.23     37.88                41.0        880.0           129.0   \n",
       "1    -122.22     37.86                21.0       7099.0          1106.0   \n",
       "2    -122.24     37.85                52.0       1467.0           190.0   \n",
       "3    -122.25     37.85                52.0       1274.0           235.0   \n",
       "4    -122.25     37.85                52.0       1627.0           280.0   \n",
       "\n",
       "   population  households  median_income  median_house_value ocean_proximity  \n",
       "0       322.0       126.0         8.3252            452600.0        NEAR BAY  \n",
       "1      2401.0      1138.0         8.3014            358500.0        NEAR BAY  \n",
       "2       496.0       177.0         7.2574            352100.0        NEAR BAY  \n",
       "3       558.0       219.0         5.6431            341300.0        NEAR BAY  \n",
       "4       565.0       259.0         3.8462            342200.0        NEAR BAY  "
      ]
     },
     "metadata": {},
     "output_type": "display_data"
    },
    {
     "name": "stdout",
     "output_type": "stream",
     "text": [
      "<class 'pandas.core.frame.DataFrame'>\n",
      "RangeIndex: 20640 entries, 0 to 20639\n",
      "Data columns (total 10 columns):\n",
      " #   Column              Non-Null Count  Dtype  \n",
      "---  ------              --------------  -----  \n",
      " 0   longitude           20640 non-null  float64\n",
      " 1   latitude            20640 non-null  float64\n",
      " 2   housing_median_age  20640 non-null  float64\n",
      " 3   total_rooms         20640 non-null  float64\n",
      " 4   total_bedrooms      20433 non-null  float64\n",
      " 5   population          20640 non-null  float64\n",
      " 6   households          20640 non-null  float64\n",
      " 7   median_income       20640 non-null  float64\n",
      " 8   median_house_value  20640 non-null  float64\n",
      " 9   ocean_proximity     20640 non-null  object \n",
      "dtypes: float64(9), object(1)\n",
      "memory usage: 1.6+ MB\n"
     ]
    },
    {
     "data": {
      "text/plain": [
       "None"
      ]
     },
     "metadata": {},
     "output_type": "display_data"
    }
   ],
   "source": [
    "df = pd.read_csv(\"./data/housing.csv\")\n",
    "display(df.head())\n",
    "display(df.info())\n",
    "df.dropna(inplace=True)"
   ]
  },
  {
   "cell_type": "markdown",
   "metadata": {},
   "source": [
    "# Drop Outliers"
   ]
  },
  {
   "cell_type": "code",
   "execution_count": 4,
   "metadata": {},
   "outputs": [],
   "source": [
    "df = df.query(\"median_house_value < 500e3\")\n",
    "df = df.query(\"median_income < 9\")\n",
    "df = df.query(\"households < 1800\")"
   ]
  },
  {
   "cell_type": "markdown",
   "metadata": {},
   "source": [
    "# Problem Statement and Model Setup"
   ]
  },
  {
   "cell_type": "markdown",
   "metadata": {},
   "source": [
    "## Problem Statement\n",
    "\n",
    "The data set contains the target feature - median_house_value - and we wish to develop a model from the other features to predict this feature.  \n",
    "\n",
    "Take 2: using the diabetes data set, make BMI the target feature. I realize the objective of this data set is predicting diabetes, not BMI, but I was interested in a numeric, not categorical feature, so I somewhat arbitrarily decided to check if I could predict BMI given the other features."
   ]
  },
  {
   "cell_type": "markdown",
   "metadata": {},
   "source": [
    "## Model Setup\n",
    "\n",
    "We will establish a pipeline of:\n",
    "- Polynomial features\n",
    "- Standardization\n",
    "- Ridge Regression\n",
    "\n",
    "and declare the hyperparameter of interest to be the alpha parameter for ridge.\n",
    "\n",
    "We also saw that polynomial performance (more so on higher-order models) suffered unless the data was scaled prior to doing the polynomial feature transformation, so we will scale the data up front once."
   ]
  },
  {
   "cell_type": "markdown",
   "metadata": {},
   "source": [
    "### Defining Target and Regression Features"
   ]
  },
  {
   "cell_type": "code",
   "execution_count": 5,
   "metadata": {},
   "outputs": [
    {
     "data": {
      "text/plain": [
       "['median_house_value',\n",
       " ['longitude',\n",
       "  'latitude',\n",
       "  'housing_median_age',\n",
       "  'total_rooms',\n",
       "  'total_bedrooms',\n",
       "  'population',\n",
       "  'households',\n",
       "  'median_income']]"
      ]
     },
     "metadata": {},
     "output_type": "display_data"
    }
   ],
   "source": [
    "target_feature = \"median_house_value\""
   ]
  },
  {
   "cell_type": "code",
   "execution_count": null,
   "metadata": {},
   "outputs": [],
   "source": [
    "numeric_features = df.columns[df.dtypes != \"object\"].to_list()\n",
    "numeric_features.remove(target_feature)\n",
    "numeric_features"
   ]
  },
  {
   "cell_type": "markdown",
   "metadata": {},
   "source": [
    "### Standardize"
   ]
  },
  {
   "cell_type": "code",
   "execution_count": 6,
   "metadata": {},
   "outputs": [
    {
     "data": {
      "text/html": [
       "<div>\n",
       "<style scoped>\n",
       "    .dataframe tbody tr th:only-of-type {\n",
       "        vertical-align: middle;\n",
       "    }\n",
       "\n",
       "    .dataframe tbody tr th {\n",
       "        vertical-align: top;\n",
       "    }\n",
       "\n",
       "    .dataframe thead th {\n",
       "        text-align: right;\n",
       "    }\n",
       "</style>\n",
       "<table border=\"1\" class=\"dataframe\">\n",
       "  <thead>\n",
       "    <tr style=\"text-align: right;\">\n",
       "      <th></th>\n",
       "      <th>longitude</th>\n",
       "      <th>latitude</th>\n",
       "      <th>housing_median_age</th>\n",
       "      <th>total_rooms</th>\n",
       "      <th>total_bedrooms</th>\n",
       "      <th>population</th>\n",
       "      <th>households</th>\n",
       "      <th>median_income</th>\n",
       "      <th>median_house_value</th>\n",
       "      <th>ocean_proximity</th>\n",
       "    </tr>\n",
       "  </thead>\n",
       "  <tbody>\n",
       "    <tr>\n",
       "      <th>0</th>\n",
       "      <td>-1.325064</td>\n",
       "      <td>1.029960</td>\n",
       "      <td>0.998679</td>\n",
       "      <td>-0.975790</td>\n",
       "      <td>-1.177920</td>\n",
       "      <td>-1.199206</td>\n",
       "      <td>-1.192836</td>\n",
       "      <td>3.096571</td>\n",
       "      <td>452600.0</td>\n",
       "      <td>NEAR BAY</td>\n",
       "    </tr>\n",
       "    <tr>\n",
       "      <th>1</th>\n",
       "      <td>-1.320079</td>\n",
       "      <td>1.020670</td>\n",
       "      <td>-0.612695</td>\n",
       "      <td>2.850856</td>\n",
       "      <td>1.843797</td>\n",
       "      <td>1.190767</td>\n",
       "      <td>2.278165</td>\n",
       "      <td>3.080832</td>\n",
       "      <td>358500.0</td>\n",
       "      <td>NEAR BAY</td>\n",
       "    </tr>\n",
       "    <tr>\n",
       "      <th>2</th>\n",
       "      <td>-1.330050</td>\n",
       "      <td>1.016025</td>\n",
       "      <td>1.884935</td>\n",
       "      <td>-0.614600</td>\n",
       "      <td>-0.989256</td>\n",
       "      <td>-0.999179</td>\n",
       "      <td>-1.017914</td>\n",
       "      <td>2.390406</td>\n",
       "      <td>352100.0</td>\n",
       "      <td>NEAR BAY</td>\n",
       "    </tr>\n",
       "    <tr>\n",
       "      <th>3</th>\n",
       "      <td>-1.335035</td>\n",
       "      <td>1.016025</td>\n",
       "      <td>1.884935</td>\n",
       "      <td>-0.733356</td>\n",
       "      <td>-0.850078</td>\n",
       "      <td>-0.927905</td>\n",
       "      <td>-0.873861</td>\n",
       "      <td>1.322824</td>\n",
       "      <td>341300.0</td>\n",
       "      <td>NEAR BAY</td>\n",
       "    </tr>\n",
       "    <tr>\n",
       "      <th>4</th>\n",
       "      <td>-1.335035</td>\n",
       "      <td>1.016025</td>\n",
       "      <td>1.884935</td>\n",
       "      <td>-0.516149</td>\n",
       "      <td>-0.710899</td>\n",
       "      <td>-0.919858</td>\n",
       "      <td>-0.736667</td>\n",
       "      <td>0.134485</td>\n",
       "      <td>342200.0</td>\n",
       "      <td>NEAR BAY</td>\n",
       "    </tr>\n",
       "  </tbody>\n",
       "</table>\n",
       "</div>"
      ],
      "text/plain": [
       "   longitude  latitude  housing_median_age  total_rooms  total_bedrooms  \\\n",
       "0  -1.325064  1.029960            0.998679    -0.975790       -1.177920   \n",
       "1  -1.320079  1.020670           -0.612695     2.850856        1.843797   \n",
       "2  -1.330050  1.016025            1.884935    -0.614600       -0.989256   \n",
       "3  -1.335035  1.016025            1.884935    -0.733356       -0.850078   \n",
       "4  -1.335035  1.016025            1.884935    -0.516149       -0.710899   \n",
       "\n",
       "   population  households  median_income  median_house_value ocean_proximity  \n",
       "0   -1.199206   -1.192836       3.096571            452600.0        NEAR BAY  \n",
       "1    1.190767    2.278165       3.080832            358500.0        NEAR BAY  \n",
       "2   -0.999179   -1.017914       2.390406            352100.0        NEAR BAY  \n",
       "3   -0.927905   -0.873861       1.322824            341300.0        NEAR BAY  \n",
       "4   -0.919858   -0.736667       0.134485            342200.0        NEAR BAY  "
      ]
     },
     "execution_count": 6,
     "metadata": {},
     "output_type": "execute_result"
    }
   ],
   "source": [
    "df_zscores = df.copy(deep=True)\n",
    "df_zscores[numeric_features] = StandardScaler().fit_transform(df[numeric_features])\n",
    "df_zscores.head()"
   ]
  },
  {
   "cell_type": "code",
   "execution_count": 7,
   "metadata": {},
   "outputs": [
    {
     "data": {
      "text/html": [
       "<div>\n",
       "<style scoped>\n",
       "    .dataframe tbody tr th:only-of-type {\n",
       "        vertical-align: middle;\n",
       "    }\n",
       "\n",
       "    .dataframe tbody tr th {\n",
       "        vertical-align: top;\n",
       "    }\n",
       "\n",
       "    .dataframe thead th {\n",
       "        text-align: right;\n",
       "    }\n",
       "</style>\n",
       "<table border=\"1\" class=\"dataframe\">\n",
       "  <thead>\n",
       "    <tr style=\"text-align: right;\">\n",
       "      <th></th>\n",
       "      <th>longitude</th>\n",
       "      <th>latitude</th>\n",
       "      <th>housing_median_age</th>\n",
       "      <th>total_rooms</th>\n",
       "      <th>total_bedrooms</th>\n",
       "      <th>population</th>\n",
       "      <th>households</th>\n",
       "      <th>median_income</th>\n",
       "      <th>median_house_value</th>\n",
       "    </tr>\n",
       "  </thead>\n",
       "  <tbody>\n",
       "    <tr>\n",
       "      <th>count</th>\n",
       "      <td>1.910600e+04</td>\n",
       "      <td>1.910600e+04</td>\n",
       "      <td>1.910600e+04</td>\n",
       "      <td>1.910600e+04</td>\n",
       "      <td>1.910600e+04</td>\n",
       "      <td>1.910600e+04</td>\n",
       "      <td>1.910600e+04</td>\n",
       "      <td>1.910600e+04</td>\n",
       "      <td>19106.000000</td>\n",
       "    </tr>\n",
       "    <tr>\n",
       "      <th>mean</th>\n",
       "      <td>-4.427039e-15</td>\n",
       "      <td>-9.758527e-16</td>\n",
       "      <td>5.950321e-17</td>\n",
       "      <td>-6.545353e-17</td>\n",
       "      <td>-6.322216e-17</td>\n",
       "      <td>1.294195e-16</td>\n",
       "      <td>-2.082612e-17</td>\n",
       "      <td>2.380128e-17</td>\n",
       "      <td>190933.627970</td>\n",
       "    </tr>\n",
       "    <tr>\n",
       "      <th>std</th>\n",
       "      <td>1.000026e+00</td>\n",
       "      <td>1.000026e+00</td>\n",
       "      <td>1.000026e+00</td>\n",
       "      <td>1.000026e+00</td>\n",
       "      <td>1.000026e+00</td>\n",
       "      <td>1.000026e+00</td>\n",
       "      <td>1.000026e+00</td>\n",
       "      <td>1.000026e+00</td>\n",
       "      <td>96394.340128</td>\n",
       "    </tr>\n",
       "    <tr>\n",
       "      <th>min</th>\n",
       "      <td>-2.382003e+00</td>\n",
       "      <td>-1.450425e+00</td>\n",
       "      <td>-2.224069e+00</td>\n",
       "      <td>-1.516037e+00</td>\n",
       "      <td>-1.570712e+00</td>\n",
       "      <td>-1.565921e+00</td>\n",
       "      <td>-1.618137e+00</td>\n",
       "      <td>-2.078516e+00</td>\n",
       "      <td>14999.000000</td>\n",
       "    </tr>\n",
       "    <tr>\n",
       "      <th>25%</th>\n",
       "      <td>-1.095729e+00</td>\n",
       "      <td>-8.047815e-01</td>\n",
       "      <td>-8.544010e-01</td>\n",
       "      <td>-6.355204e-01</td>\n",
       "      <td>-6.614136e-01</td>\n",
       "      <td>-6.577544e-01</td>\n",
       "      <td>-6.612105e-01</td>\n",
       "      <td>-7.439566e-01</td>\n",
       "      <td>115600.000000</td>\n",
       "    </tr>\n",
       "    <tr>\n",
       "      <th>50%</th>\n",
       "      <td>5.245781e-01</td>\n",
       "      <td>-6.468544e-01</td>\n",
       "      <td>3.185470e-02</td>\n",
       "      <td>-2.312583e-01</td>\n",
       "      <td>-2.407856e-01</td>\n",
       "      <td>-2.255131e-01</td>\n",
       "      <td>-2.290503e-01</td>\n",
       "      <td>-1.405613e-01</td>\n",
       "      <td>172700.000000</td>\n",
       "    </tr>\n",
       "    <tr>\n",
       "      <th>75%</th>\n",
       "      <td>7.838272e-01</td>\n",
       "      <td>9.602863e-01</td>\n",
       "      <td>6.764043e-01</td>\n",
       "      <td>3.662130e-01</td>\n",
       "      <td>3.901565e-01</td>\n",
       "      <td>3.964086e-01</td>\n",
       "      <td>4.123303e-01</td>\n",
       "      <td>6.055651e-01</td>\n",
       "      <td>246300.000000</td>\n",
       "    </tr>\n",
       "    <tr>\n",
       "      <th>max</th>\n",
       "      <td>2.623498e+00</td>\n",
       "      <td>2.920440e+00</td>\n",
       "      <td>1.884935e+00</td>\n",
       "      <td>1.023956e+01</td>\n",
       "      <td>1.055636e+01</td>\n",
       "      <td>1.123578e+01</td>\n",
       "      <td>4.538431e+00</td>\n",
       "      <td>3.520945e+00</td>\n",
       "      <td>499100.000000</td>\n",
       "    </tr>\n",
       "  </tbody>\n",
       "</table>\n",
       "</div>"
      ],
      "text/plain": [
       "          longitude      latitude  housing_median_age   total_rooms  \\\n",
       "count  1.910600e+04  1.910600e+04        1.910600e+04  1.910600e+04   \n",
       "mean  -4.427039e-15 -9.758527e-16        5.950321e-17 -6.545353e-17   \n",
       "std    1.000026e+00  1.000026e+00        1.000026e+00  1.000026e+00   \n",
       "min   -2.382003e+00 -1.450425e+00       -2.224069e+00 -1.516037e+00   \n",
       "25%   -1.095729e+00 -8.047815e-01       -8.544010e-01 -6.355204e-01   \n",
       "50%    5.245781e-01 -6.468544e-01        3.185470e-02 -2.312583e-01   \n",
       "75%    7.838272e-01  9.602863e-01        6.764043e-01  3.662130e-01   \n",
       "max    2.623498e+00  2.920440e+00        1.884935e+00  1.023956e+01   \n",
       "\n",
       "       total_bedrooms    population    households  median_income  \\\n",
       "count    1.910600e+04  1.910600e+04  1.910600e+04   1.910600e+04   \n",
       "mean    -6.322216e-17  1.294195e-16 -2.082612e-17   2.380128e-17   \n",
       "std      1.000026e+00  1.000026e+00  1.000026e+00   1.000026e+00   \n",
       "min     -1.570712e+00 -1.565921e+00 -1.618137e+00  -2.078516e+00   \n",
       "25%     -6.614136e-01 -6.577544e-01 -6.612105e-01  -7.439566e-01   \n",
       "50%     -2.407856e-01 -2.255131e-01 -2.290503e-01  -1.405613e-01   \n",
       "75%      3.901565e-01  3.964086e-01  4.123303e-01   6.055651e-01   \n",
       "max      1.055636e+01  1.123578e+01  4.538431e+00   3.520945e+00   \n",
       "\n",
       "       median_house_value  \n",
       "count        19106.000000  \n",
       "mean        190933.627970  \n",
       "std          96394.340128  \n",
       "min          14999.000000  \n",
       "25%         115600.000000  \n",
       "50%         172700.000000  \n",
       "75%         246300.000000  \n",
       "max         499100.000000  "
      ]
     },
     "execution_count": 7,
     "metadata": {},
     "output_type": "execute_result"
    }
   ],
   "source": [
    "df_zscores.describe()"
   ]
  },
  {
   "cell_type": "markdown",
   "metadata": {},
   "source": [
    "### Split into Training and Development"
   ]
  },
  {
   "cell_type": "code",
   "execution_count": 8,
   "metadata": {},
   "outputs": [
    {
     "data": {
      "text/plain": [
       "[array([11632,  9380,  4518,  6388,  1443,  3213,  7539, 15827,  3547,\n",
       "        11605]),\n",
       " array([16245, 16822,  7244,   298, 17980,  9241,  6770,  3823, 14836,\n",
       "         7977])]"
      ]
     },
     "metadata": {},
     "output_type": "display_data"
    }
   ],
   "source": [
    "all_inds = shuffle(range(len(df_zscores)), random_state=42)\n",
    "(train_inds, dev_inds) = np.split(all_inds, [int(0.7 * len(df_zscores))])\n",
    "display([train_inds[:10], dev_inds[:10]])\n",
    "\n",
    "# Perform the split using same method as will use in sklearn / SFS\n",
    "X_train = df_zscores[numeric_features].iloc[train_inds]\n",
    "y_train = df_zscores.iloc[train_inds][target_feature]\n",
    "X_dev = df_zscores[numeric_features].iloc[dev_inds]\n",
    "y_dev = df_zscores.iloc[dev_inds][target_feature]"
   ]
  },
  {
   "cell_type": "markdown",
   "metadata": {},
   "source": [
    "### Build Pipeline"
   ]
  },
  {
   "cell_type": "code",
   "execution_count": 9,
   "metadata": {},
   "outputs": [],
   "source": [
    "degree = 2\n",
    "estimator = Pipeline(\n",
    "    [\n",
    "        (\"transform\", PolynomialFeatures(degree=degree, include_bias=False)),\n",
    "        (\"scale\", StandardScaler()),\n",
    "        (\"regression\", Ridge()),\n",
    "    ]\n",
    ")"
   ]
  },
  {
   "cell_type": "markdown",
   "metadata": {},
   "source": [
    "### Specify Hyperparameter Search"
   ]
  },
  {
   "cell_type": "code",
   "execution_count": 10,
   "metadata": {},
   "outputs": [],
   "source": [
    "alpha_list = 10 ** np.linspace(-3, 3, 101)"
   ]
  },
  {
   "cell_type": "markdown",
   "metadata": {},
   "source": [
    "# Results Plotter Function"
   ]
  },
  {
   "cell_type": "code",
   "execution_count": 21,
   "metadata": {},
   "outputs": [],
   "source": [
    "def score_plot(grid_object, alpha_list):\n",
    "    best_alpha = grid_object.best_params_[\"regression__alpha\"]\n",
    "    best_score = -grid_object.cv_results_[\"mean_test_score\"][alpha_list == best_alpha]\n",
    "\n",
    "    plt.plot(\n",
    "        1.0 / alpha_list,\n",
    "        -grid_object.cv_results_[\"mean_test_score\"],\n",
    "        label=\"Dev\",\n",
    "    )\n",
    "    plt.xscale(\"log\")\n",
    "    plt.axvline(\n",
    "        x=1.0 / best_alpha,\n",
    "        color=\"cyan\",\n",
    "        label=\"Alpha for Best Score = %.2f\" % best_alpha,\n",
    "    )\n",
    "    plt.axhline(\n",
    "        y=best_score,\n",
    "        color=\"maroon\",\n",
    "        label=\"Best Dev Score = %.2f\" % best_score,\n",
    "    )\n",
    "\n",
    "    plt.legend()"
   ]
  },
  {
   "cell_type": "markdown",
   "metadata": {},
   "source": [
    "# Cross Validation with Holdout"
   ]
  },
  {
   "cell_type": "code",
   "execution_count": 22,
   "metadata": {},
   "outputs": [],
   "source": [
    "param_grid = {\"regression__alpha\": alpha_list}\n",
    "grid_search_holdout = GridSearchCV(\n",
    "    estimator=estimator,\n",
    "    param_grid=param_grid,\n",
    "    scoring=\"neg_root_mean_squared_error\",\n",
    "    cv=[[train_inds, dev_inds]],\n",
    ").fit(df_zscores[numeric_features], df_zscores[target_feature])"
   ]
  },
  {
   "cell_type": "code",
   "execution_count": 29,
   "metadata": {},
   "outputs": [
    {
     "data": {
      "text/plain": [
       "54884.18770734027"
      ]
     },
     "execution_count": 29,
     "metadata": {},
     "output_type": "execute_result"
    }
   ],
   "source": [
    "best_estimator_holdout = grid_search_holdout.best_estimator_\n",
    "dev_rmse_holdout = root_mean_squared_error(y_dev, best_estimator_holdout.predict(X_dev))\n",
    "dev_rmse_holdout"
   ]
  },
  {
   "cell_type": "code",
   "execution_count": 23,
   "metadata": {},
   "outputs": [
    {
     "data": {
      "image/png": "[encoded data removed]",
      "text/plain": [
       "<Figure size 640x480 with 1 Axes>"
      ]
     },
     "metadata": {},
     "output_type": "display_data"
    }
   ],
   "source": [
    "score_plot(grid_search_holdout, alpha_list)"
   ]
  },
  {
   "cell_type": "markdown",
   "metadata": {},
   "source": [
    "# Cross Validation with K-Fold"
   ]
  },
  {
   "cell_type": "code",
   "execution_count": 30,
   "metadata": {},
   "outputs": [],
   "source": [
    "param_grid = {\"regression__alpha\": alpha_list}\n",
    "grid_search_kfold = GridSearchCV(\n",
    "    estimator=estimator,\n",
    "    param_grid=param_grid,\n",
    "    scoring=\"neg_root_mean_squared_error\",\n",
    "    cv=5,\n",
    ").fit(df_zscores[numeric_features], df_zscores[target_feature])"
   ]
  },
  {
   "cell_type": "code",
   "execution_count": 31,
   "metadata": {},
   "outputs": [
    {
     "data": {
      "text/plain": [
       "54758.84966861962"
      ]
     },
     "execution_count": 31,
     "metadata": {},
     "output_type": "execute_result"
    }
   ],
   "source": [
    "best_estimator_kfold = grid_search_kfold.best_estimator_\n",
    "dev_rmse_kfold = root_mean_squared_error(y_dev, best_estimator_kfold.predict(X_dev))\n",
    "dev_rmse_kfold"
   ]
  },
  {
   "cell_type": "code",
   "execution_count": 20,
   "metadata": {},
   "outputs": [
    {
     "data": {
      "image/png": "[encoded data removed]",
      "text/plain": [
       "<Figure size 640x480 with 1 Axes>"
      ]
     },
     "metadata": {},
     "output_type": "display_data"
    }
   ],
   "source": [
    "score_plot(grid_search_kfold, alpha_list)"
   ]
  },
  {
   "cell_type": "markdown",
   "metadata": {},
   "source": [
    "# Cross Validation with Leave One Out"
   ]
  },
  {
   "cell_type": "code",
   "execution_count": 34,
   "metadata": {},
   "outputs": [],
   "source": [
    "param_grid = {\"regression__alpha\": alpha_list}\n",
    "grid_search_loo = GridSearchCV(\n",
    "    estimator=estimator,\n",
    "    param_grid=param_grid,\n",
    "    scoring=\"neg_root_mean_squared_error\",\n",
    "    cv=len(df_zscores),\n",
    ").fit(df_zscores[numeric_features], df_zscores[target_feature])"
   ]
  },
  {
   "cell_type": "code",
   "execution_count": 32,
   "metadata": {},
   "outputs": [
    {
     "ename": "NameError",
     "evalue": "name 'grid_search_loo' is not defined",
     "output_type": "error",
     "traceback": [
      "\u001b[0;31m---------------------------------------------------------------------------\u001b[0m",
      "\u001b[0;31mNameError\u001b[0m                                 Traceback (most recent call last)",
      "Cell \u001b[0;32mIn[32], line 1\u001b[0m\n\u001b[0;32m----> 1\u001b[0m best_estimator_loo \u001b[38;5;241m=\u001b[39m \u001b[43mgrid_search_loo\u001b[49m\u001b[38;5;241m.\u001b[39mbest_estimator_\n\u001b[1;32m      2\u001b[0m dev_rmse_loo \u001b[38;5;241m=\u001b[39m root_mean_squared_error(y_dev, best_estimator_loo\u001b[38;5;241m.\u001b[39mpredict(X_dev))\n\u001b[1;32m      3\u001b[0m dev_rmse_loo\n",
      "\u001b[0;31mNameError\u001b[0m: name 'grid_search_loo' is not defined"
     ]
    }
   ],
   "source": [
    "best_estimator_loo = grid_search_loo.best_estimator_\n",
    "dev_rmse_loo = root_mean_squared_error(y_dev, best_estimator_loo.predict(X_dev))\n",
    "dev_rmse_loo"
   ]
  },
  {
   "cell_type": "code",
   "execution_count": null,
   "metadata": {},
   "outputs": [
    {
     "data": {
      "image/png": "[encoded data removed]",
      "text/plain": [
       "<Figure size 640x480 with 1 Axes>"
      ]
     },
     "metadata": {},
     "output_type": "display_data"
    }
   ],
   "source": [
    "score_plot(grid_search_loo, alpha_list)"
   ]
  },
  {
   "cell_type": "markdown",
   "metadata": {},
   "source": [
    "# Comparisons"
   ]
  },
  {
   "cell_type": "code",
   "execution_count": 26,
   "metadata": {},
   "outputs": [
    {
     "data": {
      "text/plain": [
       "<matplotlib.legend.Legend at 0x7f0536791780>"
      ]
     },
     "execution_count": 26,
     "metadata": {},
     "output_type": "execute_result"
    },
    {
     "data": {
      "image/png": "[encoded data removed]",
      "text/plain": [
       "<Figure size 640x480 with 1 Axes>"
      ]
     },
     "metadata": {},
     "output_type": "display_data"
    }
   ],
   "source": [
    "# Overplot scores per run\n",
    "plt.plot(\n",
    "    1.0 / alpha_list,\n",
    "    -grid_search_holdout.cv_results_[\"mean_test_score\"],\n",
    "    label=\"Holdout\",\n",
    ")\n",
    "\n",
    "plt.plot(\n",
    "    1.0 / alpha_list,\n",
    "    -grid_search_kfold_5.cv_results_[\"mean_test_score\"],\n",
    "    label=\"KFold-5\",\n",
    ")\n",
    "\n",
    "plt.xscale(\"log\")\n",
    "plt.legend()"
   ]
  },
  {
   "cell_type": "markdown",
   "metadata": {},
   "source": [
    "# Conclusions"
   ]
  }
 ],
 "metadata": {
  "kernelspec": {
   "display_name": ".venv",
   "language": "python",
   "name": "python3"
  },
  "language_info": {
   "codemirror_mode": {
    "name": "ipython",
    "version": 3
   },
   "file_extension": ".py",
   "mimetype": "text/x-python",
   "name": "python",
   "nbconvert_exporter": "python",
   "pygments_lexer": "ipython3",
   "version": "3.10.13"
  }
 },
 "nbformat": 4,
 "nbformat_minor": 2
}
