{
 "cells": [
  {
   "cell_type": "markdown",
   "metadata": {
    "deletable": false,
    "editable": false,
    "nbgrader": {
     "cell_type": "markdown",
     "checksum": "1cd890c972fb31a8c6f7cd7116e1af12",
     "grade": false,
     "grade_id": "cell-5f0288b403ed1232",
     "locked": true,
     "schema_version": 3,
     "solution": false
    }
   },
   "source": [
    "### Codio Activity 9.8: LASSO and Sequential Feature Selection\n",
    "\n",
    "**Expected Time: 60 Minutes**\n",
    "\n",
    "**Total Points: 50**\n",
    "\n",
    "This assignment introduces the `Ridge` regression estimator from scikitlearn.  You will revisit the insurance data from the previous assignment and experiment with varying the `alpha` parameter discussed in Video 9.4. Your work here is a basic introduction where complexity in the preprocessing steps will be added to scale your data.  For now, you are just to familiarize yourself with the `Ridge` regression estimator and its `alpha` parameter. \n",
    "\n",
    "This assignment compares a second regularized regression method -- the LASSO -- with that of sequential feature selection.  The LASSO will be briefly discussed below, and you will use the scikitlearn implementation.  Rather than using the LASSO as a model, you are to compare it to the `SequentialFeatureSelection` transformer as a method to select important features for a regression model. \n",
    "\n",
    "\n",
    "#### Index\n",
    "\n",
    "- [Problem 1](#Problem-1)\n",
    "- [Problem 2](#Problem-2)\n",
    "- [Problem 3](#Problem-3)\n",
    "- [Problem 4](#Problem-4)\n",
    "- [Problem 5](#Problem-5)"
   ]
  },
  {
   "cell_type": "code",
   "execution_count": 1,
   "metadata": {},
   "outputs": [],
   "source": [
    "from sklearn.linear_model import LinearRegression, Lasso\n",
    "from sklearn.preprocessing import StandardScaler, PolynomialFeatures\n",
    "from sklearn.pipeline import Pipeline\n",
    "from sklearn.feature_selection import SequentialFeatureSelector, SelectFromModel\n",
    "from sklearn.metrics import mean_squared_error\n",
    "from sklearn.model_selection import train_test_split, GridSearchCV\n",
    "from sklearn import set_config\n",
    "set_config(display=\"diagram\")\n",
    "\n",
    "\n",
    "import pandas as pd\n",
    "import numpy as np\n",
    "import seaborn as sns\n",
    "import plotly.express as px"
   ]
  },
  {
   "cell_type": "markdown",
   "metadata": {
    "deletable": false,
    "editable": false,
    "nbgrader": {
     "cell_type": "markdown",
     "checksum": "01892c88aa0cb27766adfc659d10ccfe",
     "grade": false,
     "grade_id": "cell-e92bc69b9408cf26",
     "locked": true,
     "schema_version": 3,
     "solution": false
    }
   },
   "source": [
    "### The Data\n",
    "\n",
    "For this exercise you will revisit the automotive data.  The goal is again to predict the `mpg` column using the other numeric features.  You will build a polynomial model of degree 3 to compare the results of a `Lasso` and that of a `LinearRegression` model. Finally, you will use the `Lasso` estimator to select features in a pipeline with `SelectFromModel`. \n",
    "\n",
    "Below, the train and test data is created for you as `auto_X_train`, `auto_X_test`, `auto_y_train`, and `auto_y_test`."
   ]
  },
  {
   "cell_type": "code",
   "execution_count": 3,
   "metadata": {},
   "outputs": [],
   "source": [
    "auto = pd.read_csv('data/auto.csv')"
   ]
  },
  {
   "cell_type": "code",
   "execution_count": 4,
   "metadata": {},
   "outputs": [
    {
     "data": {
      "text/html": [
       "<div>\n",
       "<style scoped>\n",
       "    .dataframe tbody tr th:only-of-type {\n",
       "        vertical-align: middle;\n",
       "    }\n",
       "\n",
       "    .dataframe tbody tr th {\n",
       "        vertical-align: top;\n",
       "    }\n",
       "\n",
       "    .dataframe thead th {\n",
       "        text-align: right;\n",
       "    }\n",
       "</style>\n",
       "<table border=\"1\" class=\"dataframe\">\n",
       "  <thead>\n",
       "    <tr style=\"text-align: right;\">\n",
       "      <th></th>\n",
       "      <th>mpg</th>\n",
       "      <th>cylinders</th>\n",
       "      <th>displacement</th>\n",
       "      <th>horsepower</th>\n",
       "      <th>weight</th>\n",
       "      <th>acceleration</th>\n",
       "      <th>year</th>\n",
       "      <th>origin</th>\n",
       "      <th>name</th>\n",
       "    </tr>\n",
       "  </thead>\n",
       "  <tbody>\n",
       "    <tr>\n",
       "      <th>0</th>\n",
       "      <td>18.0</td>\n",
       "      <td>8</td>\n",
       "      <td>307.0</td>\n",
       "      <td>130.0</td>\n",
       "      <td>3504</td>\n",
       "      <td>12.0</td>\n",
       "      <td>70</td>\n",
       "      <td>1</td>\n",
       "      <td>chevrolet chevelle malibu</td>\n",
       "    </tr>\n",
       "    <tr>\n",
       "      <th>1</th>\n",
       "      <td>15.0</td>\n",
       "      <td>8</td>\n",
       "      <td>350.0</td>\n",
       "      <td>165.0</td>\n",
       "      <td>3693</td>\n",
       "      <td>11.5</td>\n",
       "      <td>70</td>\n",
       "      <td>1</td>\n",
       "      <td>buick skylark 320</td>\n",
       "    </tr>\n",
       "    <tr>\n",
       "      <th>2</th>\n",
       "      <td>18.0</td>\n",
       "      <td>8</td>\n",
       "      <td>318.0</td>\n",
       "      <td>150.0</td>\n",
       "      <td>3436</td>\n",
       "      <td>11.0</td>\n",
       "      <td>70</td>\n",
       "      <td>1</td>\n",
       "      <td>plymouth satellite</td>\n",
       "    </tr>\n",
       "    <tr>\n",
       "      <th>3</th>\n",
       "      <td>16.0</td>\n",
       "      <td>8</td>\n",
       "      <td>304.0</td>\n",
       "      <td>150.0</td>\n",
       "      <td>3433</td>\n",
       "      <td>12.0</td>\n",
       "      <td>70</td>\n",
       "      <td>1</td>\n",
       "      <td>amc rebel sst</td>\n",
       "    </tr>\n",
       "    <tr>\n",
       "      <th>4</th>\n",
       "      <td>17.0</td>\n",
       "      <td>8</td>\n",
       "      <td>302.0</td>\n",
       "      <td>140.0</td>\n",
       "      <td>3449</td>\n",
       "      <td>10.5</td>\n",
       "      <td>70</td>\n",
       "      <td>1</td>\n",
       "      <td>ford torino</td>\n",
       "    </tr>\n",
       "  </tbody>\n",
       "</table>\n",
       "</div>"
      ],
      "text/plain": [
       "    mpg  cylinders  displacement  horsepower  weight  acceleration  year  \\\n",
       "0  18.0          8         307.0       130.0    3504          12.0    70   \n",
       "1  15.0          8         350.0       165.0    3693          11.5    70   \n",
       "2  18.0          8         318.0       150.0    3436          11.0    70   \n",
       "3  16.0          8         304.0       150.0    3433          12.0    70   \n",
       "4  17.0          8         302.0       140.0    3449          10.5    70   \n",
       "\n",
       "   origin                       name  \n",
       "0       1  chevrolet chevelle malibu  \n",
       "1       1          buick skylark 320  \n",
       "2       1         plymouth satellite  \n",
       "3       1              amc rebel sst  \n",
       "4       1                ford torino  "
      ]
     },
     "execution_count": 4,
     "metadata": {},
     "output_type": "execute_result"
    }
   ],
   "source": [
    "auto.head()"
   ]
  },
  {
   "cell_type": "code",
   "execution_count": 5,
   "metadata": {},
   "outputs": [],
   "source": [
    "#generate train/test data for auto\n",
    "auto_X = auto.drop(['mpg', 'name'], axis = 1)\n",
    "auto_y = auto['mpg']\n",
    "auto_X_train, auto_X_test, auto_y_train, auto_y_test = train_test_split(auto_X, auto_y, \n",
    "                                                                       test_size = 0.3,\n",
    "                                                                       random_state = 42)"
   ]
  },
  {
   "cell_type": "markdown",
   "metadata": {
    "deletable": false,
    "editable": false,
    "nbgrader": {
     "cell_type": "markdown",
     "checksum": "17547a94ee1192cc52c70c844b4b8f0c",
     "grade": false,
     "grade_id": "cell-add79ff14f85c4b3",
     "locked": true,
     "schema_version": 3,
     "solution": false
    }
   },
   "source": [
    "[Back to top](#Index:) \n",
    "\n",
    "### Problem 1\n",
    "\n",
    "#### The auto data\n",
    "\n",
    "**10 Points**\n",
    "\n",
    "To start, build a `Pipeline` named `auto_pipe` with named steps `polyfeatures`, `scaler` and `lasso` model that utilize `PolynomialFeatures`, `StandardScaler`, and the `Lasso` estimator with the following parameters:\n",
    "\n",
    "- `degree = 3` in `PolynomialFeatures`\n",
    "- `include_bias = False` in `PolynomialFeatures`\n",
    "- `random_state = 42` in `Lasso`\n",
    "\n",
    "Fit the pipeline on `auto_X_train` and `auto_y_train` data given.  Extract the lasso coefficients from the pipeline and assign them as an array to `lasso_coefs` below.  \n",
    "\n",
    "**HINT**: Use the `.named_steps['lasso']` to extract that lasso estimator and use the `.coef_` attribute after fitting to access the model coefficients."
   ]
  },
  {
   "cell_type": "code",
   "execution_count": 6,
   "metadata": {
    "deletable": false,
    "nbgrader": {
     "cell_type": "code",
     "checksum": "98789c6045b0469a70d973e46ce32627",
     "grade": false,
     "grade_id": "cell-4b2351ce5efba3ad",
     "locked": false,
     "schema_version": 3,
     "solution": true
    }
   },
   "outputs": [
    {
     "name": "stdout",
     "output_type": "stream",
     "text": [
      "<class 'numpy.ndarray'>\n",
      "[-0.         -0.         -0.         -3.06660503  0.          0.\n",
      "  0.         -0.         -0.         -0.         -0.         -0.\n",
      " -0.          0.         -0.         -0.         -0.         -0.0880862\n",
      " -0.         -0.         -0.         -0.         -1.42250731 -0.\n",
      " -0.         -0.         -0.         -0.          0.          0.\n",
      "  0.          0.          0.          0.          0.         -0.\n",
      " -0.         -0.         -0.         -0.         -0.         -0.\n",
      " -0.         -0.         -0.         -0.         -0.         -0.\n",
      " -0.         -0.         -0.         -0.         -0.         -0.\n",
      " -0.         -0.         -0.         -0.         -0.          0.\n",
      " -0.          0.          0.         -0.         -0.         -0.\n",
      " -0.         -0.         -0.         -0.         -0.         -0.\n",
      " -0.         -0.         -0.         -0.         -0.         -0.\n",
      " -0.         -0.         -0.         -0.         -0.          0.\n",
      " -0.         -0.         -0.         -0.         -0.         -0.\n",
      " -0.         -0.         -0.         -0.         -0.          0.\n",
      " -0.         -0.          0.         -0.         -0.         -0.\n",
      " -0.         -0.         -0.          0.         -0.          0.\n",
      "  0.          0.          0.          0.68951645  0.          0.42315898\n",
      "  0.          1.87257016  0.          0.          0.        ]\n"
     ]
    },
    {
     "data": {
      "text/html": [
       "<style>#sk-009d9604-3bd4-4b6d-adb5-96de32d97cd3 {color: black;background-color: white;}#sk-009d9604-3bd4-4b6d-adb5-96de32d97cd3 pre{padding: 0;}#sk-009d9604-3bd4-4b6d-adb5-96de32d97cd3 div.sk-toggleable {background-color: white;}#sk-009d9604-3bd4-4b6d-adb5-96de32d97cd3 label.sk-toggleable__label {cursor: pointer;display: block;width: 100%;margin-bottom: 0;padding: 0.3em;box-sizing: border-box;text-align: center;}#sk-009d9604-3bd4-4b6d-adb5-96de32d97cd3 label.sk-toggleable__label-arrow:before {content: \"▸\";float: left;margin-right: 0.25em;color: #696969;}#sk-009d9604-3bd4-4b6d-adb5-96de32d97cd3 label.sk-toggleable__label-arrow:hover:before {color: black;}#sk-009d9604-3bd4-4b6d-adb5-96de32d97cd3 div.sk-estimator:hover label.sk-toggleable__label-arrow:before {color: black;}#sk-009d9604-3bd4-4b6d-adb5-96de32d97cd3 div.sk-toggleable__content {max-height: 0;max-width: 0;overflow: hidden;text-align: left;background-color: #f0f8ff;}#sk-009d9604-3bd4-4b6d-adb5-96de32d97cd3 div.sk-toggleable__content pre {margin: 0.2em;color: black;border-radius: 0.25em;background-color: #f0f8ff;}#sk-009d9604-3bd4-4b6d-adb5-96de32d97cd3 input.sk-toggleable__control:checked~div.sk-toggleable__content {max-height: 200px;max-width: 100%;overflow: auto;}#sk-009d9604-3bd4-4b6d-adb5-96de32d97cd3 input.sk-toggleable__control:checked~label.sk-toggleable__label-arrow:before {content: \"▾\";}#sk-009d9604-3bd4-4b6d-adb5-96de32d97cd3 div.sk-estimator input.sk-toggleable__control:checked~label.sk-toggleable__label {background-color: #d4ebff;}#sk-009d9604-3bd4-4b6d-adb5-96de32d97cd3 div.sk-label input.sk-toggleable__control:checked~label.sk-toggleable__label {background-color: #d4ebff;}#sk-009d9604-3bd4-4b6d-adb5-96de32d97cd3 input.sk-hidden--visually {border: 0;clip: rect(1px 1px 1px 1px);clip: rect(1px, 1px, 1px, 1px);height: 1px;margin: -1px;overflow: hidden;padding: 0;position: absolute;width: 1px;}#sk-009d9604-3bd4-4b6d-adb5-96de32d97cd3 div.sk-estimator {font-family: monospace;background-color: #f0f8ff;border: 1px dotted black;border-radius: 0.25em;box-sizing: border-box;margin-bottom: 0.5em;}#sk-009d9604-3bd4-4b6d-adb5-96de32d97cd3 div.sk-estimator:hover {background-color: #d4ebff;}#sk-009d9604-3bd4-4b6d-adb5-96de32d97cd3 div.sk-parallel-item::after {content: \"\";width: 100%;border-bottom: 1px solid gray;flex-grow: 1;}#sk-009d9604-3bd4-4b6d-adb5-96de32d97cd3 div.sk-label:hover label.sk-toggleable__label {background-color: #d4ebff;}#sk-009d9604-3bd4-4b6d-adb5-96de32d97cd3 div.sk-serial::before {content: \"\";position: absolute;border-left: 1px solid gray;box-sizing: border-box;top: 2em;bottom: 0;left: 50%;}#sk-009d9604-3bd4-4b6d-adb5-96de32d97cd3 div.sk-serial {display: flex;flex-direction: column;align-items: center;background-color: white;padding-right: 0.2em;padding-left: 0.2em;}#sk-009d9604-3bd4-4b6d-adb5-96de32d97cd3 div.sk-item {z-index: 1;}#sk-009d9604-3bd4-4b6d-adb5-96de32d97cd3 div.sk-parallel {display: flex;align-items: stretch;justify-content: center;background-color: white;}#sk-009d9604-3bd4-4b6d-adb5-96de32d97cd3 div.sk-parallel::before {content: \"\";position: absolute;border-left: 1px solid gray;box-sizing: border-box;top: 2em;bottom: 0;left: 50%;}#sk-009d9604-3bd4-4b6d-adb5-96de32d97cd3 div.sk-parallel-item {display: flex;flex-direction: column;position: relative;background-color: white;}#sk-009d9604-3bd4-4b6d-adb5-96de32d97cd3 div.sk-parallel-item:first-child::after {align-self: flex-end;width: 50%;}#sk-009d9604-3bd4-4b6d-adb5-96de32d97cd3 div.sk-parallel-item:last-child::after {align-self: flex-start;width: 50%;}#sk-009d9604-3bd4-4b6d-adb5-96de32d97cd3 div.sk-parallel-item:only-child::after {width: 0;}#sk-009d9604-3bd4-4b6d-adb5-96de32d97cd3 div.sk-dashed-wrapped {border: 1px dashed gray;margin: 0 0.4em 0.5em 0.4em;box-sizing: border-box;padding-bottom: 0.4em;background-color: white;position: relative;}#sk-009d9604-3bd4-4b6d-adb5-96de32d97cd3 div.sk-label label {font-family: monospace;font-weight: bold;background-color: white;display: inline-block;line-height: 1.2em;}#sk-009d9604-3bd4-4b6d-adb5-96de32d97cd3 div.sk-label-container {position: relative;z-index: 2;text-align: center;}#sk-009d9604-3bd4-4b6d-adb5-96de32d97cd3 div.sk-container {/* jupyter's `normalize.less` sets `[hidden] { display: none; }` but bootstrap.min.css set `[hidden] { display: none !important; }` so we also need the `!important` here to be able to override the default hidden behavior on the sphinx rendered scikit-learn.org. See: https://github.com/scikit-learn/scikit-learn/issues/21755 */display: inline-block !important;position: relative;}#sk-009d9604-3bd4-4b6d-adb5-96de32d97cd3 div.sk-text-repr-fallback {display: none;}</style><div id=\"sk-009d9604-3bd4-4b6d-adb5-96de32d97cd3\" class=\"sk-top-container\"><div class=\"sk-text-repr-fallback\"><pre>Pipeline(steps=[(&#x27;polyfeatures&#x27;,\n",
       "                 PolynomialFeatures(degree=3, include_bias=False)),\n",
       "                (&#x27;scaler&#x27;, StandardScaler()),\n",
       "                (&#x27;lasso&#x27;, Lasso(random_state=42))])</pre><b>Please rerun this cell to show the HTML repr or trust the notebook.</b></div><div class=\"sk-container\" hidden><div class=\"sk-item sk-dashed-wrapped\"><div class=\"sk-label-container\"><div class=\"sk-label sk-toggleable\"><input class=\"sk-toggleable__control sk-hidden--visually\" id=\"75698760-9088-424f-8bf8-5c9ae8a21d28\" type=\"checkbox\" ><label for=\"75698760-9088-424f-8bf8-5c9ae8a21d28\" class=\"sk-toggleable__label sk-toggleable__label-arrow\">Pipeline</label><div class=\"sk-toggleable__content\"><pre>Pipeline(steps=[(&#x27;polyfeatures&#x27;,\n",
       "                 PolynomialFeatures(degree=3, include_bias=False)),\n",
       "                (&#x27;scaler&#x27;, StandardScaler()),\n",
       "                (&#x27;lasso&#x27;, Lasso(random_state=42))])</pre></div></div></div><div class=\"sk-serial\"><div class=\"sk-item\"><div class=\"sk-estimator sk-toggleable\"><input class=\"sk-toggleable__control sk-hidden--visually\" id=\"ac9465d7-426c-477c-aeba-bb1406ee3362\" type=\"checkbox\" ><label for=\"ac9465d7-426c-477c-aeba-bb1406ee3362\" class=\"sk-toggleable__label sk-toggleable__label-arrow\">PolynomialFeatures</label><div class=\"sk-toggleable__content\"><pre>PolynomialFeatures(degree=3, include_bias=False)</pre></div></div></div><div class=\"sk-item\"><div class=\"sk-estimator sk-toggleable\"><input class=\"sk-toggleable__control sk-hidden--visually\" id=\"2f7b4269-bc2f-45a2-a9a3-795fb9451054\" type=\"checkbox\" ><label for=\"2f7b4269-bc2f-45a2-a9a3-795fb9451054\" class=\"sk-toggleable__label sk-toggleable__label-arrow\">StandardScaler</label><div class=\"sk-toggleable__content\"><pre>StandardScaler()</pre></div></div></div><div class=\"sk-item\"><div class=\"sk-estimator sk-toggleable\"><input class=\"sk-toggleable__control sk-hidden--visually\" id=\"e79a0f60-69d6-416a-8dcb-31f4206d4cb4\" type=\"checkbox\" ><label for=\"e79a0f60-69d6-416a-8dcb-31f4206d4cb4\" class=\"sk-toggleable__label sk-toggleable__label-arrow\">Lasso</label><div class=\"sk-toggleable__content\"><pre>Lasso(random_state=42)</pre></div></div></div></div></div></div></div>"
      ],
      "text/plain": [
       "Pipeline(steps=[('polyfeatures',\n",
       "                 PolynomialFeatures(degree=3, include_bias=False)),\n",
       "                ('scaler', StandardScaler()),\n",
       "                ('lasso', Lasso(random_state=42))])"
      ]
     },
     "execution_count": 6,
     "metadata": {},
     "output_type": "execute_result"
    }
   ],
   "source": [
    "### GRADED\n",
    "\n",
    "auto_pipe = Pipeline(\n",
    "    [\n",
    "        (\"polyfeatures\", PolynomialFeatures(degree=3, include_bias=False)),\n",
    "        (\"scaler\", StandardScaler()),\n",
    "        (\"lasso\", Lasso(random_state = 42)),\n",
    "    ]\n",
    ").fit(auto_X_train, auto_y_train)\n",
    "lasso_coefs = auto_pipe.named_steps[\"lasso\"].coef_\n",
    "\n",
    "# Answer check\n",
    "print(type(lasso_coefs))\n",
    "print(lasso_coefs)\n",
    "auto_pipe"
   ]
  },
  {
   "cell_type": "code",
   "execution_count": null,
   "metadata": {
    "deletable": false,
    "editable": false,
    "nbgrader": {
     "cell_type": "code",
     "checksum": "49394b27f9f1cc48dadeb0473f0d8885",
     "grade": true,
     "grade_id": "cell-e569d6f1d53d88e4",
     "locked": true,
     "points": 10,
     "schema_version": 3,
     "solution": false
    }
   },
   "outputs": [],
   "source": []
  },
  {
   "cell_type": "markdown",
   "metadata": {
    "deletable": false,
    "editable": false,
    "nbgrader": {
     "cell_type": "markdown",
     "checksum": "518961078d81404121dded2a67af0563",
     "grade": false,
     "grade_id": "cell-00d34c3ff5947d86",
     "locked": true,
     "schema_version": 3,
     "solution": false
    }
   },
   "source": [
    "[Back to top](#Index:) \n",
    "\n",
    "### Problem 2\n",
    "\n",
    "#### Error in `Lasso` model\n",
    "\n",
    "**10 Points**\n",
    "\n",
    "Now, compute the mean squared error of the lasso model on both the train and test data.  Assign this as a float to `lasso_train_mse` and `lasso_test_mse` respectively.  "
   ]
  },
  {
   "cell_type": "code",
   "execution_count": 7,
   "metadata": {
    "deletable": false,
    "nbgrader": {
     "cell_type": "code",
     "checksum": "78dbcded4f90fa40c08874c95a9de8e3",
     "grade": false,
     "grade_id": "cell-27bc7ac17713b3d7",
     "locked": false,
     "schema_version": 3,
     "solution": true
    }
   },
   "outputs": [
    {
     "name": "stdout",
     "output_type": "stream",
     "text": [
      "11.860728888695974\n",
      "8.984776169896323\n"
     ]
    }
   ],
   "source": [
    "### GRADED\n",
    "\n",
    "lasso_train_mse = mean_squared_error(auto_pipe.predict(auto_X_train), auto_y_train)\n",
    "lasso_test_mse = mean_squared_error(auto_pipe.predict(auto_X_test), auto_y_test)\n",
    "\n",
    "# Answer check\n",
    "print(lasso_train_mse)\n",
    "print(lasso_test_mse)"
   ]
  },
  {
   "cell_type": "code",
   "execution_count": null,
   "metadata": {
    "deletable": false,
    "editable": false,
    "nbgrader": {
     "cell_type": "code",
     "checksum": "d9c234e0621469a67791b2d6f01dc55a",
     "grade": true,
     "grade_id": "cell-ba7a8cf894264118",
     "locked": true,
     "points": 10,
     "schema_version": 3,
     "solution": false
    }
   },
   "outputs": [],
   "source": []
  },
  {
   "cell_type": "markdown",
   "metadata": {
    "deletable": false,
    "editable": false,
    "nbgrader": {
     "cell_type": "markdown",
     "checksum": "b1162dc83fabe98d11764f4b24a4e58d",
     "grade": false,
     "grade_id": "cell-6cd009f6888369f8",
     "locked": true,
     "schema_version": 3,
     "solution": false
    }
   },
   "source": [
    "[Back to top](#Index:) \n",
    "\n",
    "### Problem 3\n",
    "\n",
    "#### Non-zero coefficients\n",
    "\n",
    "**10 Points**\n",
    "\n",
    "Using the `lasso_coefs` determine the number of features with non-zero coefficients and determine the name of those features as a result of the polynomial feature transformation.  To do this, extract the feature names from the `auto_pipe` and create a DataFrame named `lasso_df` below that has two columns -- `feature` and `coef`.  How many non-zero features did the lasso model select?  "
   ]
  },
  {
   "cell_type": "code",
   "execution_count": 23,
   "metadata": {
    "deletable": false,
    "nbgrader": {
     "cell_type": "code",
     "checksum": "f5e94630e2cf8fdabb16569c2acc0228",
     "grade": false,
     "grade_id": "cell-e5ed130aa3396617",
     "locked": false,
     "schema_version": 3,
     "solution": true
    }
   },
   "outputs": [
    {
     "name": "stdout",
     "output_type": "stream",
     "text": [
      "<class 'numpy.ndarray'>\n"
     ]
    },
    {
     "data": {
      "text/html": [
       "<div>\n",
       "<style scoped>\n",
       "    .dataframe tbody tr th:only-of-type {\n",
       "        vertical-align: middle;\n",
       "    }\n",
       "\n",
       "    .dataframe tbody tr th {\n",
       "        vertical-align: top;\n",
       "    }\n",
       "\n",
       "    .dataframe thead th {\n",
       "        text-align: right;\n",
       "    }\n",
       "</style>\n",
       "<table border=\"1\" class=\"dataframe\">\n",
       "  <thead>\n",
       "    <tr style=\"text-align: right;\">\n",
       "      <th></th>\n",
       "      <th>feature</th>\n",
       "      <th>coef</th>\n",
       "    </tr>\n",
       "  </thead>\n",
       "  <tbody>\n",
       "    <tr>\n",
       "      <th>3</th>\n",
       "      <td>weight</td>\n",
       "      <td>-3.066605</td>\n",
       "    </tr>\n",
       "    <tr>\n",
       "      <th>17</th>\n",
       "      <td>displacement acceleration</td>\n",
       "      <td>-0.088086</td>\n",
       "    </tr>\n",
       "    <tr>\n",
       "      <th>22</th>\n",
       "      <td>horsepower acceleration</td>\n",
       "      <td>-1.422507</td>\n",
       "    </tr>\n",
       "    <tr>\n",
       "      <th>111</th>\n",
       "      <td>acceleration^2 origin</td>\n",
       "      <td>0.689516</td>\n",
       "    </tr>\n",
       "    <tr>\n",
       "      <th>113</th>\n",
       "      <td>acceleration year origin</td>\n",
       "      <td>0.423159</td>\n",
       "    </tr>\n",
       "    <tr>\n",
       "      <th>115</th>\n",
       "      <td>year^3</td>\n",
       "      <td>1.872570</td>\n",
       "    </tr>\n",
       "  </tbody>\n",
       "</table>\n",
       "</div>"
      ],
      "text/plain": [
       "                       feature      coef\n",
       "3                       weight -3.066605\n",
       "17   displacement acceleration -0.088086\n",
       "22     horsepower acceleration -1.422507\n",
       "111      acceleration^2 origin  0.689516\n",
       "113   acceleration year origin  0.423159\n",
       "115                     year^3  1.872570"
      ]
     },
     "execution_count": 23,
     "metadata": {},
     "output_type": "execute_result"
    }
   ],
   "source": [
    "### GRADED\n",
    "feature_names = auto_pipe.named_steps[\"polyfeatures\"].get_feature_names_out()\n",
    "lasso_df = pd.DataFrame({\"feature\":feature_names, \"coef\":auto_pipe.named_steps[\"lasso\"].coef_})\n",
    "\n",
    "# Answer check\n",
    "print(type(feature_names))\n",
    "lasso_df.loc[lasso_df['coef'] != 0]"
   ]
  },
  {
   "cell_type": "code",
   "execution_count": null,
   "metadata": {
    "deletable": false,
    "editable": false,
    "nbgrader": {
     "cell_type": "code",
     "checksum": "513e8aff24eb2fff6446070705b627df",
     "grade": true,
     "grade_id": "cell-898e828850923d7b",
     "locked": true,
     "points": 10,
     "schema_version": 3,
     "solution": false
    }
   },
   "outputs": [],
   "source": []
  },
  {
   "cell_type": "markdown",
   "metadata": {
    "deletable": false,
    "editable": false,
    "nbgrader": {
     "cell_type": "markdown",
     "checksum": "9a1504b9db7aa8d3e9a4fc1f363bf10b",
     "grade": false,
     "grade_id": "cell-af9586e34b8d17e2",
     "locked": true,
     "schema_version": 3,
     "solution": false
    }
   },
   "source": [
    "[Back to top](#Index:) \n",
    "\n",
    "### Problem 4\n",
    "\n",
    "#### Comparing `Lasso` to `SequentialFeatureSelection`\n",
    "\n",
    "**10 Points**\n",
    "\n",
    "As seen above, the Lasso model effectively eliminated all but 6 features from the cubic polynomial example.  Now, you are to build a `Pipeline` object called `sequential_pipe` with named steps `poly_features`, `selector`, and `linreg` with `PolynomialFeatures`, `SequentialFeatureSelector`, and `LinearRegression` respectively that uses the folowing parameters:\n",
    "\n",
    "- `degree = 3` in `PolynomialFeatures` step `poly_features`\n",
    "- `include_bias = False` in `PolynomialFeatures` step `poly_features`\n",
    "- `n_features_to_select = 6` in `selector`\n",
    "\n",
    "\n",
    "\n",
    "Note that you are to use the `LinearRegression` estimator as your estimator in the `SequentialFeatureSelector`. "
   ]
  },
  {
   "cell_type": "code",
   "execution_count": 26,
   "metadata": {
    "deletable": false,
    "nbgrader": {
     "cell_type": "code",
     "checksum": "9e7f495a612b94e2fd99a81190d59599",
     "grade": false,
     "grade_id": "cell-113e81ee2e4d2705",
     "locked": false,
     "schema_version": 3,
     "solution": true
    }
   },
   "outputs": [
    {
     "name": "stdout",
     "output_type": "stream",
     "text": [
      "7.673332944806711\n",
      "7.145098433686857\n"
     ]
    },
    {
     "data": {
      "text/html": [
       "<style>#sk-2b6d1a20-dcc9-4880-995d-1b4fbfd5a040 {color: black;background-color: white;}#sk-2b6d1a20-dcc9-4880-995d-1b4fbfd5a040 pre{padding: 0;}#sk-2b6d1a20-dcc9-4880-995d-1b4fbfd5a040 div.sk-toggleable {background-color: white;}#sk-2b6d1a20-dcc9-4880-995d-1b4fbfd5a040 label.sk-toggleable__label {cursor: pointer;display: block;width: 100%;margin-bottom: 0;padding: 0.3em;box-sizing: border-box;text-align: center;}#sk-2b6d1a20-dcc9-4880-995d-1b4fbfd5a040 label.sk-toggleable__label-arrow:before {content: \"▸\";float: left;margin-right: 0.25em;color: #696969;}#sk-2b6d1a20-dcc9-4880-995d-1b4fbfd5a040 label.sk-toggleable__label-arrow:hover:before {color: black;}#sk-2b6d1a20-dcc9-4880-995d-1b4fbfd5a040 div.sk-estimator:hover label.sk-toggleable__label-arrow:before {color: black;}#sk-2b6d1a20-dcc9-4880-995d-1b4fbfd5a040 div.sk-toggleable__content {max-height: 0;max-width: 0;overflow: hidden;text-align: left;background-color: #f0f8ff;}#sk-2b6d1a20-dcc9-4880-995d-1b4fbfd5a040 div.sk-toggleable__content pre {margin: 0.2em;color: black;border-radius: 0.25em;background-color: #f0f8ff;}#sk-2b6d1a20-dcc9-4880-995d-1b4fbfd5a040 input.sk-toggleable__control:checked~div.sk-toggleable__content {max-height: 200px;max-width: 100%;overflow: auto;}#sk-2b6d1a20-dcc9-4880-995d-1b4fbfd5a040 input.sk-toggleable__control:checked~label.sk-toggleable__label-arrow:before {content: \"▾\";}#sk-2b6d1a20-dcc9-4880-995d-1b4fbfd5a040 div.sk-estimator input.sk-toggleable__control:checked~label.sk-toggleable__label {background-color: #d4ebff;}#sk-2b6d1a20-dcc9-4880-995d-1b4fbfd5a040 div.sk-label input.sk-toggleable__control:checked~label.sk-toggleable__label {background-color: #d4ebff;}#sk-2b6d1a20-dcc9-4880-995d-1b4fbfd5a040 input.sk-hidden--visually {border: 0;clip: rect(1px 1px 1px 1px);clip: rect(1px, 1px, 1px, 1px);height: 1px;margin: -1px;overflow: hidden;padding: 0;position: absolute;width: 1px;}#sk-2b6d1a20-dcc9-4880-995d-1b4fbfd5a040 div.sk-estimator {font-family: monospace;background-color: #f0f8ff;border: 1px dotted black;border-radius: 0.25em;box-sizing: border-box;margin-bottom: 0.5em;}#sk-2b6d1a20-dcc9-4880-995d-1b4fbfd5a040 div.sk-estimator:hover {background-color: #d4ebff;}#sk-2b6d1a20-dcc9-4880-995d-1b4fbfd5a040 div.sk-parallel-item::after {content: \"\";width: 100%;border-bottom: 1px solid gray;flex-grow: 1;}#sk-2b6d1a20-dcc9-4880-995d-1b4fbfd5a040 div.sk-label:hover label.sk-toggleable__label {background-color: #d4ebff;}#sk-2b6d1a20-dcc9-4880-995d-1b4fbfd5a040 div.sk-serial::before {content: \"\";position: absolute;border-left: 1px solid gray;box-sizing: border-box;top: 2em;bottom: 0;left: 50%;}#sk-2b6d1a20-dcc9-4880-995d-1b4fbfd5a040 div.sk-serial {display: flex;flex-direction: column;align-items: center;background-color: white;padding-right: 0.2em;padding-left: 0.2em;}#sk-2b6d1a20-dcc9-4880-995d-1b4fbfd5a040 div.sk-item {z-index: 1;}#sk-2b6d1a20-dcc9-4880-995d-1b4fbfd5a040 div.sk-parallel {display: flex;align-items: stretch;justify-content: center;background-color: white;}#sk-2b6d1a20-dcc9-4880-995d-1b4fbfd5a040 div.sk-parallel::before {content: \"\";position: absolute;border-left: 1px solid gray;box-sizing: border-box;top: 2em;bottom: 0;left: 50%;}#sk-2b6d1a20-dcc9-4880-995d-1b4fbfd5a040 div.sk-parallel-item {display: flex;flex-direction: column;position: relative;background-color: white;}#sk-2b6d1a20-dcc9-4880-995d-1b4fbfd5a040 div.sk-parallel-item:first-child::after {align-self: flex-end;width: 50%;}#sk-2b6d1a20-dcc9-4880-995d-1b4fbfd5a040 div.sk-parallel-item:last-child::after {align-self: flex-start;width: 50%;}#sk-2b6d1a20-dcc9-4880-995d-1b4fbfd5a040 div.sk-parallel-item:only-child::after {width: 0;}#sk-2b6d1a20-dcc9-4880-995d-1b4fbfd5a040 div.sk-dashed-wrapped {border: 1px dashed gray;margin: 0 0.4em 0.5em 0.4em;box-sizing: border-box;padding-bottom: 0.4em;background-color: white;position: relative;}#sk-2b6d1a20-dcc9-4880-995d-1b4fbfd5a040 div.sk-label label {font-family: monospace;font-weight: bold;background-color: white;display: inline-block;line-height: 1.2em;}#sk-2b6d1a20-dcc9-4880-995d-1b4fbfd5a040 div.sk-label-container {position: relative;z-index: 2;text-align: center;}#sk-2b6d1a20-dcc9-4880-995d-1b4fbfd5a040 div.sk-container {/* jupyter's `normalize.less` sets `[hidden] { display: none; }` but bootstrap.min.css set `[hidden] { display: none !important; }` so we also need the `!important` here to be able to override the default hidden behavior on the sphinx rendered scikit-learn.org. See: https://github.com/scikit-learn/scikit-learn/issues/21755 */display: inline-block !important;position: relative;}#sk-2b6d1a20-dcc9-4880-995d-1b4fbfd5a040 div.sk-text-repr-fallback {display: none;}</style><div id=\"sk-2b6d1a20-dcc9-4880-995d-1b4fbfd5a040\" class=\"sk-top-container\"><div class=\"sk-text-repr-fallback\"><pre>Pipeline(steps=[(&#x27;poly_features&#x27;,\n",
       "                 PolynomialFeatures(degree=3, include_bias=False)),\n",
       "                (&#x27;selector&#x27;,\n",
       "                 SequentialFeatureSelector(estimator=LinearRegression(),\n",
       "                                           n_features_to_select=6)),\n",
       "                (&#x27;linreg&#x27;, LinearRegression())])</pre><b>Please rerun this cell to show the HTML repr or trust the notebook.</b></div><div class=\"sk-container\" hidden><div class=\"sk-item sk-dashed-wrapped\"><div class=\"sk-label-container\"><div class=\"sk-label sk-toggleable\"><input class=\"sk-toggleable__control sk-hidden--visually\" id=\"ab441caa-628b-4037-a7b5-b9f47dff1f58\" type=\"checkbox\" ><label for=\"ab441caa-628b-4037-a7b5-b9f47dff1f58\" class=\"sk-toggleable__label sk-toggleable__label-arrow\">Pipeline</label><div class=\"sk-toggleable__content\"><pre>Pipeline(steps=[(&#x27;poly_features&#x27;,\n",
       "                 PolynomialFeatures(degree=3, include_bias=False)),\n",
       "                (&#x27;selector&#x27;,\n",
       "                 SequentialFeatureSelector(estimator=LinearRegression(),\n",
       "                                           n_features_to_select=6)),\n",
       "                (&#x27;linreg&#x27;, LinearRegression())])</pre></div></div></div><div class=\"sk-serial\"><div class=\"sk-item\"><div class=\"sk-estimator sk-toggleable\"><input class=\"sk-toggleable__control sk-hidden--visually\" id=\"1384afd9-5c22-4aad-b7b6-905fc275d800\" type=\"checkbox\" ><label for=\"1384afd9-5c22-4aad-b7b6-905fc275d800\" class=\"sk-toggleable__label sk-toggleable__label-arrow\">PolynomialFeatures</label><div class=\"sk-toggleable__content\"><pre>PolynomialFeatures(degree=3, include_bias=False)</pre></div></div></div><div class=\"sk-item sk-dashed-wrapped\"><div class=\"sk-label-container\"><div class=\"sk-label sk-toggleable\"><input class=\"sk-toggleable__control sk-hidden--visually\" id=\"c943278d-6a2e-41ec-9d33-2e7bb361739e\" type=\"checkbox\" ><label for=\"c943278d-6a2e-41ec-9d33-2e7bb361739e\" class=\"sk-toggleable__label sk-toggleable__label-arrow\">selector: SequentialFeatureSelector</label><div class=\"sk-toggleable__content\"><pre>SequentialFeatureSelector(estimator=LinearRegression(), n_features_to_select=6)</pre></div></div></div><div class=\"sk-parallel\"><div class=\"sk-parallel-item\"><div class=\"sk-item\"><div class=\"sk-serial\"><div class=\"sk-item\"><div class=\"sk-estimator sk-toggleable\"><input class=\"sk-toggleable__control sk-hidden--visually\" id=\"05982c82-b219-474d-b9b6-12635e2bc3b6\" type=\"checkbox\" ><label for=\"05982c82-b219-474d-b9b6-12635e2bc3b6\" class=\"sk-toggleable__label sk-toggleable__label-arrow\">LinearRegression</label><div class=\"sk-toggleable__content\"><pre>LinearRegression()</pre></div></div></div></div></div></div></div></div><div class=\"sk-item\"><div class=\"sk-estimator sk-toggleable\"><input class=\"sk-toggleable__control sk-hidden--visually\" id=\"d7dfb62e-4179-4ae1-aeaf-2d8443e518cd\" type=\"checkbox\" ><label for=\"d7dfb62e-4179-4ae1-aeaf-2d8443e518cd\" class=\"sk-toggleable__label sk-toggleable__label-arrow\">LinearRegression</label><div class=\"sk-toggleable__content\"><pre>LinearRegression()</pre></div></div></div></div></div></div></div>"
      ],
      "text/plain": [
       "Pipeline(steps=[('poly_features',\n",
       "                 PolynomialFeatures(degree=3, include_bias=False)),\n",
       "                ('selector',\n",
       "                 SequentialFeatureSelector(estimator=LinearRegression(),\n",
       "                                           n_features_to_select=6)),\n",
       "                ('linreg', LinearRegression())])"
      ]
     },
     "execution_count": 26,
     "metadata": {},
     "output_type": "execute_result"
    }
   ],
   "source": [
    "### GRADED\n",
    "sequential_pipe = Pipeline(\n",
    "    [\n",
    "        (\"poly_features\", PolynomialFeatures(degree=3, include_bias=False)),\n",
    "        (\"selector\", SequentialFeatureSelector(estimator=LinearRegression(), n_features_to_select=6)),\n",
    "        (\"linreg\", LinearRegression()),\n",
    "    ]\n",
    ").fit(auto_X_train, auto_y_train)\n",
    "sequential_train_mse = mean_squared_error(sequential_pipe.predict(auto_X_train), auto_y_train)\n",
    "sequential_test_mse = mean_squared_error(sequential_pipe.predict(auto_X_test), auto_y_test)\n",
    "\n",
    "# Answer check\n",
    "print(sequential_train_mse)\n",
    "print(sequential_test_mse)\n",
    "sequential_pipe"
   ]
  },
  {
   "cell_type": "code",
   "execution_count": null,
   "metadata": {
    "deletable": false,
    "editable": false,
    "nbgrader": {
     "cell_type": "code",
     "checksum": "ad23d2ee37345ceaba5b3ffbeb15fe0b",
     "grade": true,
     "grade_id": "cell-6450677ddac2cfe2",
     "locked": true,
     "points": 10,
     "schema_version": 3,
     "solution": false
    }
   },
   "outputs": [],
   "source": []
  },
  {
   "cell_type": "markdown",
   "metadata": {
    "deletable": false,
    "editable": false,
    "nbgrader": {
     "cell_type": "markdown",
     "checksum": "7e34eb6a27fe83c8a755d10aff098eca",
     "grade": false,
     "grade_id": "cell-4b1766f9492c5fec",
     "locked": true,
     "schema_version": 3,
     "solution": false
    }
   },
   "source": [
    "[Back to top](#Index:) \n",
    "\n",
    "### Problem 5\n",
    "\n",
    "#### Using `Lasso` as a feature selector\n",
    "\n",
    "**10 Points**\n",
    "\n",
    "Rather than using the `Lasso` as the estimator, you can use the results of the `Lasso` to select features that are subsequently used in a `LinearRegression` estimator.  To do so, scikitlearn provides a function in the `feature_selection` module called `SelectFromModel` that will select the features based on coefficients.  \n",
    "\n",
    "As such, using the `Lasso` estimator to select features would involve instantiating the `SelectFromModel` transformer and selecting features as:\n",
    "\n",
    "```python\n",
    "selector = SelectFromModel(Lasso())\n",
    "selector.transform(auto_X_train)\n",
    "```\n",
    "\n"
   ]
  },
  {
   "cell_type": "markdown",
   "metadata": {
    "deletable": false,
    "editable": false,
    "nbgrader": {
     "cell_type": "markdown",
     "checksum": "00f846db0982faa0a14f766252ec2b08",
     "grade": false,
     "grade_id": "cell-3406cfb052fec8d2",
     "locked": true,
     "schema_version": 3,
     "solution": false
    }
   },
   "source": [
    "From here, the selector can be used in a `Pipeline` after transforming the features and before building a regression model.  Such a pipeline is given below and you are to use this to fit on the training data and score on the testing data.  Which model performs better, the model with sequential feature selection or that using the `Lasso` to select the features?  \n",
    "\n",
    "Assign your train and test error using the `model_selector_pipe` as `selector_train_mse` and `selector_test_mse` below.\n",
    "\n",
    "For more information and examples on `SelectFromModel` see [here](https://scikit-learn.org/stable/modules/feature_selection.html#select-from-model)."
   ]
  },
  {
   "cell_type": "code",
   "execution_count": 29,
   "metadata": {},
   "outputs": [],
   "source": [
    "model_selector_pipe = Pipeline([('poly_features', PolynomialFeatures(degree = 3, include_bias = False)),\n",
    "                                ('scaler', StandardScaler()),\n",
    "                                ('selector', SelectFromModel(Lasso())),\n",
    "                                    ('linreg', LinearRegression())])"
   ]
  },
  {
   "cell_type": "code",
   "execution_count": 31,
   "metadata": {
    "deletable": false,
    "nbgrader": {
     "cell_type": "code",
     "checksum": "cead2c9564254043c5b9d2375f37a929",
     "grade": false,
     "grade_id": "cell-f36419f78eb4822a",
     "locked": false,
     "schema_version": 3,
     "solution": true
    }
   },
   "outputs": [
    {
     "name": "stdout",
     "output_type": "stream",
     "text": [
      "9.93192512323042\n",
      "8.899543694287043\n"
     ]
    }
   ],
   "source": [
    "### GRADED\n",
    "model_selector_pipe.fit(auto_X_train, auto_y_train)\n",
    "selector_train_mse = mean_squared_error(model_selector_pipe.predict(auto_X_train), auto_y_train)\n",
    "selector_test_mse = mean_squared_error(model_selector_pipe.predict(auto_X_test), auto_y_test)\n",
    "\n",
    "# Answer check\n",
    "print(selector_train_mse)\n",
    "print(selector_test_mse)"
   ]
  },
  {
   "cell_type": "code",
   "execution_count": null,
   "metadata": {
    "deletable": false,
    "editable": false,
    "nbgrader": {
     "cell_type": "code",
     "checksum": "30861860d5e9993e1e5ea6f93a69ebce",
     "grade": true,
     "grade_id": "cell-df22ffc7aee2b902",
     "locked": true,
     "points": 10,
     "schema_version": 3,
     "solution": false
    }
   },
   "outputs": [],
   "source": []
  },
  {
   "cell_type": "markdown",
   "metadata": {
    "deletable": false,
    "editable": false,
    "nbgrader": {
     "cell_type": "markdown",
     "checksum": "c2976f00fed4529a4c16ee9a6a4c516c",
     "grade": false,
     "grade_id": "cell-b56b71b7f554b647",
     "locked": true,
     "schema_version": 3,
     "solution": false
    }
   },
   "source": [
    "Further work could involve grid searching parameters of both the transformers and estimators, as well as including a `Ridge` regressor in the mix.  For now, you should be getting comfortable using the scikitlearn `Pipeline` object to combine transformers and estimators. This module introduced examples that can mitigate overfitting in a regression context.  It is important to note that not one strategy is not always best for a modeling problem.  Instead, you should consider multiple approaches and let your goals for the model guide you to determine which model best suits your performance metric."
   ]
  }
 ],
 "metadata": {
  "kernelspec": {
   "display_name": "Python 3 (ipykernel)",
   "language": "python",
   "name": "python3"
  },
  "language_info": {
   "codemirror_mode": {
    "name": "ipython",
    "version": 3
   },
   "file_extension": ".py",
   "mimetype": "text/x-python",
   "name": "python",
   "nbconvert_exporter": "python",
   "pygments_lexer": "ipython3",
   "version": "3.9.11"
  },
  "widgets": {
   "application/vnd.jupyter.widget-state+json": {
    "state": {},
    "version_major": 2,
    "version_minor": 0
   }
  }
 },
 "nbformat": 4,
 "nbformat_minor": 4
}
