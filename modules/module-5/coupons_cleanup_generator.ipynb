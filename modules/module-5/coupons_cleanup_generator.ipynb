{
 "cells": [
  {
   "cell_type": "markdown",
   "metadata": {},
   "source": [
    "### Used to read in a pre-existing cleanups.json and mod as needed\n",
    "Is Idempotent"
   ]
  },
  {
   "cell_type": "code",
   "execution_count": 14,
   "metadata": {},
   "outputs": [],
   "source": [
    "import json\n",
    "import copy\n",
    "\n",
    "cleanup_dict_filename = \"./data/coupons_cleanup_dict.json\"\n",
    "cleanup_dict = json.load(open(cleanup_dict_filename, \"r\"))\n",
    "\n",
    "column_cleanup_dict_template = {\n",
    "    \"key\": \"\",\n",
    "    \"drop\": False,\n",
    "    \"rename\": \"\",\n",
    "    \"str.replace\": [],\n",
    "    \"replace\": [],\n",
    "    \"apply\": \"\",\n",
    "}\n",
    "\n",
    "for key in cleanup_dict.keys():\n",
    "    column_cleanup_dict_in = cleanup_dict[key]\n",
    "    column_cleanup_dict_out = copy.deepcopy(column_cleanup_dict_template)\n",
    "\n",
    "    for this_key in column_cleanup_dict_in.keys():\n",
    "        if this_key in column_cleanup_dict_out.keys():\n",
    "            column_cleanup_dict_out[this_key] = column_cleanup_dict_in[this_key]\n",
    "\n",
    "    # Keep only keys for which the values are not empty\n",
    "    column_cleanup_dict_out = {k: v for k, v in column_cleanup_dict_out.items() if v}\n",
    "    cleanup_dict[key] = column_cleanup_dict_out\n",
    "\n",
    "# display(cleanup_dict)\n",
    "json.dump(cleanup_dict, open(cleanup_dict_filename, \"w\"), indent=2)"
   ]
  },
  {
   "cell_type": "markdown",
   "metadata": {},
   "source": [
    "Junkdrawer"
   ]
  },
  {
   "cell_type": "code",
   "execution_count": 15,
   "metadata": {},
   "outputs": [],
   "source": [
    "# import yaml\n",
    "\n",
    "# cleanup_dict_filename_yaml = cleanup_dict_filename.replace(\"json\", \"yaml\")\n",
    "\n",
    "# cleanup_dict = json.load(open(cleanup_dict_filename, \"r\"))\n",
    "# yaml.dump(cleanup_dict, open(cleanup_dict_filename_yaml, \"w\"))\n",
    "# cleanup_dict_yaml = yaml.safe_load(open(cleanup_dict_filename_yaml, \"r\"))\n",
    "\n",
    "# assert cleanup_dict == cleanup_dict_yaml"
   ]
  }
 ],
 "metadata": {
  "kernelspec": {
   "display_name": "venv",
   "language": "python",
   "name": "python3"
  },
  "language_info": {
   "codemirror_mode": {
    "name": "ipython",
    "version": 3
   },
   "file_extension": ".py",
   "mimetype": "text/x-python",
   "name": "python",
   "nbconvert_exporter": "python",
   "pygments_lexer": "ipython3",
   "version": "3.9.2"
  },
  "orig_nbformat": 4
 },
 "nbformat": 4,
 "nbformat_minor": 2
}
