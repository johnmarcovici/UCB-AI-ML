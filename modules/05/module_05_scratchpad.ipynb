{
 "cells": [
  {
   "cell_type": "code",
   "execution_count": null,
   "metadata": {},
   "outputs": [],
   "source": [
    "display(df[df.car.isnull()].shape)\n",
    "display(df[df.car.notnull()].shape)\n",
    "#display(df.car.isnull().count() - df.car.isnull().sum())"
   ]
  },
  {
   "cell_type": "code",
   "execution_count": null,
   "metadata": {},
   "outputs": [],
   "source": [
    "display(not any(cf.direction_opp & cf.direction_same))\n",
    "display(all(cf.direction_opp == ~cf.direction_same))"
   ]
  },
  {
   "cell_type": "code",
   "execution_count": null,
   "metadata": {},
   "outputs": [],
   "source": [
    "assert yy.equals(other=cf.age)"
   ]
  },
  {
   "cell_type": "markdown",
   "metadata": {},
   "source": [
    "#### Don't Confuse These Probabilities\n",
    "\n",
    "Same numerator, but different denominator (conditioned on) describe easily confused but distinct probabilities"
   ]
  },
  {
   "cell_type": "markdown",
   "metadata": {},
   "source": [
    "##### Probability of Destination is X Conditioned on Accepted Coupon\n",
    "\n",
    "Given a driver was offered a coffee coupon and they accepted it, what is the probability their destination is X?"
   ]
  },
  {
   "cell_type": "code",
   "execution_count": null,
   "metadata": {},
   "outputs": [],
   "source": [
    "df_coffee_accepted = df_coffee.query(\"accepted_coupon == True\")\n",
    "[\n",
    "    query_rate(df_coffee_accepted, expr=\"destination == 'Nowhere'\"),\n",
    "    query_rate(df_coffee_accepted, expr=\"destination == 'Home'\"),\n",
    "    query_rate(df_coffee_accepted, expr=\"destination == 'Work'\"),\n",
    "    query_rate(df_coffee_accepted, expr=\"destination != 'Work'\"),\n",
    "]"
   ]
  },
  {
   "cell_type": "markdown",
   "metadata": {},
   "source": [
    "An interesting finding from this is that if a driver accepted a coffee coupon, 80% of the time they were not driving to work    \n",
    "I was surprised by this because people often buy coffee on the way to work, but apparently less often than when not, at least among those who accept coupons"
   ]
  },
  {
   "cell_type": "markdown",
   "metadata": {},
   "source": [
    "##### Probability of Accepting Coupon Conditioned on Destination Is X\n",
    "\n",
    "Given a driver was offered a coffee coupon and their destination is X, what is the probability they accepted it?"
   ]
  },
  {
   "cell_type": "code",
   "execution_count": null,
   "metadata": {},
   "outputs": [],
   "source": [
    "[\n",
    "    query_rate(df_coffee.query(\"destination == 'Nowhere'\")),\n",
    "    query_rate(df_coffee.query(\"destination == 'Home'\")),\n",
    "    query_rate(df_coffee.query(\"destination == 'Work'\")),\n",
    "    query_rate(df_coffee.query(\"destination != 'Work'\")),\n",
    "]"
   ]
  },
  {
   "cell_type": "markdown",
   "metadata": {},
   "source": [
    "##### Function converts columns that are logically boolean but not stored / interpreted that way"
   ]
  },
  {
   "cell_type": "code",
   "execution_count": null,
   "metadata": {},
   "outputs": [],
   "source": [
    "# Convert columns that are logically boolean but stored as 1/0 ints\n",
    "def to_bool(series: pd.Series) -> pd.Series:\n",
    "    if series.dtype == \"int64\" and all(x in [0, 1] for x in series.unique()):\n",
    "        return series > 0\n",
    "    else:\n",
    "        return series"
   ]
  },
  {
   "cell_type": "code",
   "execution_count": null,
   "metadata": {},
   "outputs": [],
   "source": [
    "# Using pandas hash\n",
    "\n",
    "df_slim = df_coffee[columns]\n",
    "df_slim[\"hash\"] = pd.util.hash_pandas_object(df_slim, index=False)\n",
    "df_slim[\"Y\"] = df_coffee[\"Y\"]\n",
    "compute_grouped_acceptance_rates(df_slim, column=\"hash\").query(\"Count > 100\").sort_values(by=\"Acceptance Rate\")"
   ]
  }
 ],
 "metadata": {
  "kernelspec": {
   "display_name": "venv",
   "language": "python",
   "name": "python3"
  },
  "language_info": {
   "codemirror_mode": {
    "name": "ipython",
    "version": 3
   },
   "file_extension": ".py",
   "mimetype": "text/x-python",
   "name": "python",
   "nbconvert_exporter": "python",
   "pygments_lexer": "ipython3",
   "version": "3.9.2"
  },
  "orig_nbformat": 4
 },
 "nbformat": 4,
 "nbformat_minor": 2
}
