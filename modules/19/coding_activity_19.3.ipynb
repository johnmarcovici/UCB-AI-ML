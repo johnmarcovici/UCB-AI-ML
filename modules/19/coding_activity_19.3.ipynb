{
 "cells": [
  {
   "cell_type": "markdown",
   "metadata": {
    "deletable": false,
    "editable": false,
    "nbgrader": {
     "cell_type": "markdown",
     "checksum": "b6dcb1119162068e51e7df6942a05ff2",
     "grade": false,
     "grade_id": "cell-7281a4c95657d568",
     "locked": true,
     "schema_version": 3,
     "solution": false,
     "task": false
    }
   },
   "source": [
    "### Codio Activity 19.3: Collaborative Filtering\n",
    "\n",
    "**Expected Time = 90 minutes**\n",
    "\n",
    "**Total Points = 50**\n",
    "\n",
    "In this activity, you will use collaborative filtering to predict user ratings.  This iterative process will begin with our simple reviews dataset to fill in the missing values for the users.  Your regression models will be built with scikit-learn's `LinearRegression` estimator.\n",
    "\n",
    "### Index\n",
    "\n",
    "\n",
    "- [Problem 1](#-Problem-1)\n",
    "- [Problem 2](#-Problem-2)\n",
    "- [Problem 3](#-Problem-3)\n",
    "- [Problem 4](#-Problem-4)\n",
    "- [Problem 5](#-Problem-5)\n",
    "- [Problem 6](#-Problem-6)"
   ]
  },
  {
   "cell_type": "code",
   "execution_count": 20,
   "metadata": {},
   "outputs": [],
   "source": [
    "import pandas as pd\n",
    "import numpy as np\n",
    "from sklearn.linear_model import LinearRegression"
   ]
  },
  {
   "cell_type": "markdown",
   "metadata": {
    "deletable": false,
    "editable": false,
    "nbgrader": {
     "cell_type": "markdown",
     "checksum": "5ad1849b2e43909424830133512a63cf",
     "grade": false,
     "grade_id": "cell-8e0bb42fb60772d4",
     "locked": true,
     "schema_version": 3,
     "solution": false,
     "task": false
    }
   },
   "source": [
    "### The Data\n",
    "\n",
    "Again, you begin with data indexed by artists.  You will add random values for `F1` and `F2`, and use these to create regression models for each user.  Then, tracking the coefficients -- you create new artist vectors, and repeat the process.  The goal remains to predict user ratings of unrated albums."
   ]
  },
  {
   "cell_type": "code",
   "execution_count": 21,
   "metadata": {},
   "outputs": [],
   "source": [
    "reviews = pd.read_csv(\"data/user_rated.csv\", index_col=0).iloc[:, :-2].T"
   ]
  },
  {
   "cell_type": "code",
   "execution_count": 22,
   "metadata": {},
   "outputs": [
    {
     "data": {
      "text/html": [
       "<div>\n",
       "<style scoped>\n",
       "    .dataframe tbody tr th:only-of-type {\n",
       "        vertical-align: middle;\n",
       "    }\n",
       "\n",
       "    .dataframe tbody tr th {\n",
       "        vertical-align: top;\n",
       "    }\n",
       "\n",
       "    .dataframe thead th {\n",
       "        text-align: right;\n",
       "    }\n",
       "</style>\n",
       "<table border=\"1\" class=\"dataframe\">\n",
       "  <thead>\n",
       "    <tr style=\"text-align: right;\">\n",
       "      <th></th>\n",
       "      <th>Alfred</th>\n",
       "      <th>Mandy</th>\n",
       "      <th>Lenny</th>\n",
       "      <th>Joan</th>\n",
       "      <th>Tino</th>\n",
       "    </tr>\n",
       "  </thead>\n",
       "  <tbody>\n",
       "    <tr>\n",
       "      <th>Michael Jackson</th>\n",
       "      <td>3.0</td>\n",
       "      <td>NaN</td>\n",
       "      <td>2.0</td>\n",
       "      <td>3.0</td>\n",
       "      <td>1.0</td>\n",
       "    </tr>\n",
       "    <tr>\n",
       "      <th>Clint Black</th>\n",
       "      <td>4.0</td>\n",
       "      <td>9.0</td>\n",
       "      <td>5.0</td>\n",
       "      <td>NaN</td>\n",
       "      <td>1.0</td>\n",
       "    </tr>\n",
       "    <tr>\n",
       "      <th>Dropdead</th>\n",
       "      <td>NaN</td>\n",
       "      <td>NaN</td>\n",
       "      <td>8.0</td>\n",
       "      <td>9.0</td>\n",
       "      <td>NaN</td>\n",
       "    </tr>\n",
       "    <tr>\n",
       "      <th>Anti-Cimex</th>\n",
       "      <td>4.0</td>\n",
       "      <td>3.0</td>\n",
       "      <td>9.0</td>\n",
       "      <td>4.0</td>\n",
       "      <td>9.0</td>\n",
       "    </tr>\n",
       "    <tr>\n",
       "      <th>Cardi B</th>\n",
       "      <td>4.0</td>\n",
       "      <td>8.0</td>\n",
       "      <td>NaN</td>\n",
       "      <td>9.0</td>\n",
       "      <td>5.0</td>\n",
       "    </tr>\n",
       "  </tbody>\n",
       "</table>\n",
       "</div>"
      ],
      "text/plain": [
       "                 Alfred  Mandy  Lenny  Joan  Tino\n",
       "Michael Jackson     3.0    NaN    2.0   3.0   1.0\n",
       "Clint Black         4.0    9.0    5.0   NaN   1.0\n",
       "Dropdead            NaN    NaN    8.0   9.0   NaN\n",
       "Anti-Cimex          4.0    3.0    9.0   4.0   9.0\n",
       "Cardi B             4.0    8.0    NaN   9.0   5.0"
      ]
     },
     "execution_count": 22,
     "metadata": {},
     "output_type": "execute_result"
    }
   ],
   "source": [
    "reviews"
   ]
  },
  {
   "cell_type": "markdown",
   "metadata": {
    "deletable": false,
    "editable": false,
    "nbgrader": {
     "cell_type": "markdown",
     "checksum": "06da77cd99dff3541fffb8e14ac9aa54",
     "grade": false,
     "grade_id": "cell-02326974cc86e1a4",
     "locked": true,
     "schema_version": 3,
     "solution": false,
     "task": false
    }
   },
   "source": [
    "[Back to top](#-Index)\n",
    "\n",
    "### Problem 1\n",
    "\n",
    "### Creating F1 and F2\n",
    "\n",
    "**5 Points**\n",
    "\n",
    "To begin, create two randomly instantiated vectors `F1` and `F2` as columns in your DataFrame.  To do so, you will draw numbers from a random normal distribution using `np.random.normal(size = 5)`.  Set `np.random.seed = 42`.  "
   ]
  },
  {
   "cell_type": "code",
   "execution_count": 23,
   "metadata": {
    "deletable": false,
    "nbgrader": {
     "cell_type": "code",
     "checksum": "13515a92d04df6816a52a9d99a4d8ef0",
     "grade": false,
     "grade_id": "cell-ceeb0288582df179",
     "locked": false,
     "schema_version": 3,
     "solution": true,
     "task": false
    }
   },
   "outputs": [
    {
     "data": {
      "text/html": [
       "<div>\n",
       "<style scoped>\n",
       "    .dataframe tbody tr th:only-of-type {\n",
       "        vertical-align: middle;\n",
       "    }\n",
       "\n",
       "    .dataframe tbody tr th {\n",
       "        vertical-align: top;\n",
       "    }\n",
       "\n",
       "    .dataframe thead th {\n",
       "        text-align: right;\n",
       "    }\n",
       "</style>\n",
       "<table border=\"1\" class=\"dataframe\">\n",
       "  <thead>\n",
       "    <tr style=\"text-align: right;\">\n",
       "      <th></th>\n",
       "      <th>Alfred</th>\n",
       "      <th>Mandy</th>\n",
       "      <th>Lenny</th>\n",
       "      <th>Joan</th>\n",
       "      <th>Tino</th>\n",
       "      <th>F1</th>\n",
       "      <th>F2</th>\n",
       "    </tr>\n",
       "  </thead>\n",
       "  <tbody>\n",
       "    <tr>\n",
       "      <th>Michael Jackson</th>\n",
       "      <td>3.0</td>\n",
       "      <td>NaN</td>\n",
       "      <td>2.0</td>\n",
       "      <td>3.0</td>\n",
       "      <td>1.0</td>\n",
       "      <td>0.496714</td>\n",
       "      <td>-0.234137</td>\n",
       "    </tr>\n",
       "    <tr>\n",
       "      <th>Clint Black</th>\n",
       "      <td>4.0</td>\n",
       "      <td>9.0</td>\n",
       "      <td>5.0</td>\n",
       "      <td>NaN</td>\n",
       "      <td>1.0</td>\n",
       "      <td>-0.138264</td>\n",
       "      <td>1.579213</td>\n",
       "    </tr>\n",
       "    <tr>\n",
       "      <th>Dropdead</th>\n",
       "      <td>NaN</td>\n",
       "      <td>NaN</td>\n",
       "      <td>8.0</td>\n",
       "      <td>9.0</td>\n",
       "      <td>NaN</td>\n",
       "      <td>0.647689</td>\n",
       "      <td>0.767435</td>\n",
       "    </tr>\n",
       "    <tr>\n",
       "      <th>Anti-Cimex</th>\n",
       "      <td>4.0</td>\n",
       "      <td>3.0</td>\n",
       "      <td>9.0</td>\n",
       "      <td>4.0</td>\n",
       "      <td>9.0</td>\n",
       "      <td>1.523030</td>\n",
       "      <td>-0.469474</td>\n",
       "    </tr>\n",
       "    <tr>\n",
       "      <th>Cardi B</th>\n",
       "      <td>4.0</td>\n",
       "      <td>8.0</td>\n",
       "      <td>NaN</td>\n",
       "      <td>9.0</td>\n",
       "      <td>5.0</td>\n",
       "      <td>-0.234153</td>\n",
       "      <td>0.542560</td>\n",
       "    </tr>\n",
       "  </tbody>\n",
       "</table>\n",
       "</div>"
      ],
      "text/plain": [
       "                 Alfred  Mandy  Lenny  Joan  Tino        F1        F2\n",
       "Michael Jackson     3.0    NaN    2.0   3.0   1.0  0.496714 -0.234137\n",
       "Clint Black         4.0    9.0    5.0   NaN   1.0 -0.138264  1.579213\n",
       "Dropdead            NaN    NaN    8.0   9.0   NaN  0.647689  0.767435\n",
       "Anti-Cimex          4.0    3.0    9.0   4.0   9.0  1.523030 -0.469474\n",
       "Cardi B             4.0    8.0    NaN   9.0   5.0 -0.234153  0.542560"
      ]
     },
     "execution_count": 23,
     "metadata": {},
     "output_type": "execute_result"
    }
   ],
   "source": [
    "### GRADED\n",
    "np.random.seed(42)\n",
    "reviews[\"F1\"] = np.random.normal(size=5)\n",
    "reviews[\"F2\"] = np.random.normal(size=5)\n",
    "\n",
    "### ANSWER CHECK\n",
    "reviews"
   ]
  },
  {
   "cell_type": "markdown",
   "metadata": {
    "deletable": false,
    "editable": false,
    "nbgrader": {
     "cell_type": "markdown",
     "checksum": "7b53111787a32b0570f938b1b6f2b0cb",
     "grade": false,
     "grade_id": "cell-6d1f3fd46c508380",
     "locked": true,
     "schema_version": 3,
     "solution": false,
     "task": false
    }
   },
   "source": [
    "[Back to top](#-Index)\n",
    "\n",
    "### Problem 2\n",
    "\n",
    "#### Regression models for all users\n",
    "\n",
    "**10 Points**\n",
    "\n",
    "As in earlier codio activities, use `X = reviews[['F1', 'F2']]` and `y = user` for each user column with no missing data in `y`.  Build a regression model **with no intercept**, and create a (5, 2) numpy array `uf` of the coefficients in order of the model.  "
   ]
  },
  {
   "cell_type": "code",
   "execution_count": 24,
   "metadata": {
    "deletable": false,
    "nbgrader": {
     "cell_type": "code",
     "checksum": "ed882850cd7774f47714966c77aa2024",
     "grade": false,
     "grade_id": "cell-70a08c637afdc421",
     "locked": false,
     "schema_version": 3,
     "solution": true,
     "task": false
    }
   },
   "outputs": [
    {
     "data": {
      "text/plain": [
       "(5, 2)"
      ]
     },
     "metadata": {},
     "output_type": "display_data"
    },
    {
     "data": {
      "text/plain": [
       "array([[ 3.82095605,  3.39576219],\n",
       "       [ 3.71034729,  7.00619661],\n",
       "       [ 7.11326267,  3.95250165],\n",
       "       [ 5.24016749, 10.03575897],\n",
       "       [ 5.86328014,  2.19748154]])"
      ]
     },
     "metadata": {},
     "output_type": "display_data"
    }
   ],
   "source": [
    "### GRADED\n",
    "uf = np.ndarray((5, 2))\n",
    "features = [\"F1\", \"F2\"]\n",
    "users = [\"Alfred\", \"Mandy\", \"Lenny\", \"Joan\", \"Tino\"]\n",
    "for idx, user in enumerate(users):\n",
    "    user_df = reviews[[user] + features].dropna()\n",
    "    model = LinearRegression(fit_intercept=False).fit(user_df[features], user_df[user])\n",
    "    uf[idx, :] = model.coef_\n",
    "\n",
    "### ANSWER CHECK\n",
    "display(uf.shape)  # should be (5, 2)\n",
    "display(uf)"
   ]
  },
  {
   "cell_type": "markdown",
   "metadata": {
    "deletable": false,
    "editable": false,
    "nbgrader": {
     "cell_type": "markdown",
     "checksum": "699380b0e06ff4b3cf5ee49536d2b6ef",
     "grade": false,
     "grade_id": "cell-832812a308551bde",
     "locked": true,
     "schema_version": 3,
     "solution": false,
     "task": false
    }
   },
   "source": [
    "[Back to top](#-Index)\n",
    "\n",
    "### Problem 3\n",
    "\n",
    "#### New Model for artists\n",
    "\n",
    "**10 Points**\n",
    "\n",
    "Below, a DataFrame `ui_df` is created using the coefficients from the previous problem.  Now, you are to use this data with `F1` and `F2` to build a new model and track each *artists* coefficients.  Assign this as a numpy array to `ifs` below.\n"
   ]
  },
  {
   "cell_type": "code",
   "execution_count": 25,
   "metadata": {},
   "outputs": [
    {
     "data": {
      "text/html": [
       "<div>\n",
       "<style scoped>\n",
       "    .dataframe tbody tr th:only-of-type {\n",
       "        vertical-align: middle;\n",
       "    }\n",
       "\n",
       "    .dataframe tbody tr th {\n",
       "        vertical-align: top;\n",
       "    }\n",
       "\n",
       "    .dataframe thead th {\n",
       "        text-align: right;\n",
       "    }\n",
       "</style>\n",
       "<table border=\"1\" class=\"dataframe\">\n",
       "  <thead>\n",
       "    <tr style=\"text-align: right;\">\n",
       "      <th></th>\n",
       "      <th>Michael Jackson</th>\n",
       "      <th>Clint Black</th>\n",
       "      <th>Dropdead</th>\n",
       "      <th>Anti-Cimex</th>\n",
       "      <th>Cardi B</th>\n",
       "      <th>F1</th>\n",
       "      <th>F2</th>\n",
       "    </tr>\n",
       "  </thead>\n",
       "  <tbody>\n",
       "    <tr>\n",
       "      <th>Alfred</th>\n",
       "      <td>3.0</td>\n",
       "      <td>4.0</td>\n",
       "      <td>NaN</td>\n",
       "      <td>4.0</td>\n",
       "      <td>4.0</td>\n",
       "      <td>3.820956</td>\n",
       "      <td>3.395762</td>\n",
       "    </tr>\n",
       "    <tr>\n",
       "      <th>Mandy</th>\n",
       "      <td>NaN</td>\n",
       "      <td>9.0</td>\n",
       "      <td>NaN</td>\n",
       "      <td>3.0</td>\n",
       "      <td>8.0</td>\n",
       "      <td>3.710347</td>\n",
       "      <td>7.006197</td>\n",
       "    </tr>\n",
       "    <tr>\n",
       "      <th>Lenny</th>\n",
       "      <td>2.0</td>\n",
       "      <td>5.0</td>\n",
       "      <td>8.0</td>\n",
       "      <td>9.0</td>\n",
       "      <td>NaN</td>\n",
       "      <td>7.113263</td>\n",
       "      <td>3.952502</td>\n",
       "    </tr>\n",
       "    <tr>\n",
       "      <th>Joan</th>\n",
       "      <td>3.0</td>\n",
       "      <td>NaN</td>\n",
       "      <td>9.0</td>\n",
       "      <td>4.0</td>\n",
       "      <td>9.0</td>\n",
       "      <td>5.240167</td>\n",
       "      <td>10.035759</td>\n",
       "    </tr>\n",
       "    <tr>\n",
       "      <th>Tino</th>\n",
       "      <td>1.0</td>\n",
       "      <td>1.0</td>\n",
       "      <td>NaN</td>\n",
       "      <td>9.0</td>\n",
       "      <td>5.0</td>\n",
       "      <td>5.863280</td>\n",
       "      <td>2.197482</td>\n",
       "    </tr>\n",
       "  </tbody>\n",
       "</table>\n",
       "</div>"
      ],
      "text/plain": [
       "        Michael Jackson  Clint Black  Dropdead  Anti-Cimex  Cardi B        F1  \\\n",
       "Alfred              3.0          4.0       NaN         4.0      4.0  3.820956   \n",
       "Mandy               NaN          9.0       NaN         3.0      8.0  3.710347   \n",
       "Lenny               2.0          5.0       8.0         9.0      NaN  7.113263   \n",
       "Joan                3.0          NaN       9.0         4.0      9.0  5.240167   \n",
       "Tino                1.0          1.0       NaN         9.0      5.0  5.863280   \n",
       "\n",
       "               F2  \n",
       "Alfred   3.395762  \n",
       "Mandy    7.006197  \n",
       "Lenny    3.952502  \n",
       "Joan    10.035759  \n",
       "Tino     2.197482  "
      ]
     },
     "execution_count": 25,
     "metadata": {},
     "output_type": "execute_result"
    }
   ],
   "source": [
    "ui_df = reviews.iloc[:, :-2].T\n",
    "ui_df[\"F1\"] = uf[:, 0]\n",
    "ui_df[\"F2\"] = uf[:, 1]\n",
    "ui_df"
   ]
  },
  {
   "cell_type": "code",
   "execution_count": 26,
   "metadata": {
    "deletable": false,
    "nbgrader": {
     "cell_type": "code",
     "checksum": "ce7816effc4d12ad61d24186ffcaf5a8",
     "grade": false,
     "grade_id": "cell-e153dff4f2dd75b1",
     "locked": false,
     "schema_version": 3,
     "solution": true,
     "task": false
    }
   },
   "outputs": [
    {
     "data": {
      "text/plain": [
       "(5, 2)"
      ]
     },
     "metadata": {},
     "output_type": "display_data"
    },
    {
     "data": {
      "text/plain": [
       "array([[ 0.16405953,  0.24803718],\n",
       "       [-0.20766573,  1.42108075],\n",
       "       [ 0.88235547,  0.43607161],\n",
       "       [ 1.56999825, -0.4292041 ],\n",
       "       [ 0.57004139,  0.67045138]])"
      ]
     },
     "metadata": {},
     "output_type": "display_data"
    }
   ],
   "source": [
    "### GRADED\n",
    "ifs = np.ndarray((5, 2))\n",
    "features = [\"F1\", \"F2\"]\n",
    "targets = [\"Michael Jackson\", \"Clint Black\", \"Dropdead\", \"Anti-Cimex\", \"Cardi B\"]\n",
    "for idx, target in enumerate(targets):\n",
    "    target_df = ui_df[[target] + features].dropna()\n",
    "    model = LinearRegression(fit_intercept=False).fit(\n",
    "        target_df[features], target_df[target]\n",
    "    )\n",
    "    ifs[idx, :] = model.coef_\n",
    "\n",
    "### ANSWER CHECK\n",
    "display(ifs.shape)\n",
    "display(ifs)"
   ]
  },
  {
   "cell_type": "markdown",
   "metadata": {
    "deletable": false,
    "editable": false,
    "nbgrader": {
     "cell_type": "markdown",
     "checksum": "6855d326376f5c5a781cd3e0f197e2b8",
     "grade": false,
     "grade_id": "cell-9b7d643200b19553",
     "locked": true,
     "schema_version": 3,
     "solution": false,
     "task": false
    }
   },
   "source": [
    "[Back to top](#-Index)\n",
    "\n",
    "### Problem 4\n",
    "\n",
    "#### New model for users\n",
    "\n",
    "**10 Points**\n",
    "\n",
    "Again, a DataFrame is created using the coefficients from our linear model on artists -- `if_df`.  You are to use this data to create new arrays of coefficients for the users.  Assign this array of coefficients as `uf2`."
   ]
  },
  {
   "cell_type": "code",
   "execution_count": 27,
   "metadata": {},
   "outputs": [
    {
     "data": {
      "text/html": [
       "<div>\n",
       "<style scoped>\n",
       "    .dataframe tbody tr th:only-of-type {\n",
       "        vertical-align: middle;\n",
       "    }\n",
       "\n",
       "    .dataframe tbody tr th {\n",
       "        vertical-align: top;\n",
       "    }\n",
       "\n",
       "    .dataframe thead th {\n",
       "        text-align: right;\n",
       "    }\n",
       "</style>\n",
       "<table border=\"1\" class=\"dataframe\">\n",
       "  <thead>\n",
       "    <tr style=\"text-align: right;\">\n",
       "      <th></th>\n",
       "      <th>Alfred</th>\n",
       "      <th>Mandy</th>\n",
       "      <th>Lenny</th>\n",
       "      <th>Joan</th>\n",
       "      <th>Tino</th>\n",
       "      <th>F1</th>\n",
       "      <th>F2</th>\n",
       "    </tr>\n",
       "  </thead>\n",
       "  <tbody>\n",
       "    <tr>\n",
       "      <th>Michael Jackson</th>\n",
       "      <td>3.0</td>\n",
       "      <td>NaN</td>\n",
       "      <td>2.0</td>\n",
       "      <td>3.0</td>\n",
       "      <td>1.0</td>\n",
       "      <td>0.164060</td>\n",
       "      <td>0.248037</td>\n",
       "    </tr>\n",
       "    <tr>\n",
       "      <th>Clint Black</th>\n",
       "      <td>4.0</td>\n",
       "      <td>9.0</td>\n",
       "      <td>5.0</td>\n",
       "      <td>NaN</td>\n",
       "      <td>1.0</td>\n",
       "      <td>-0.207666</td>\n",
       "      <td>1.421081</td>\n",
       "    </tr>\n",
       "    <tr>\n",
       "      <th>Dropdead</th>\n",
       "      <td>NaN</td>\n",
       "      <td>NaN</td>\n",
       "      <td>8.0</td>\n",
       "      <td>9.0</td>\n",
       "      <td>NaN</td>\n",
       "      <td>0.882355</td>\n",
       "      <td>0.436072</td>\n",
       "    </tr>\n",
       "    <tr>\n",
       "      <th>Anti-Cimex</th>\n",
       "      <td>4.0</td>\n",
       "      <td>3.0</td>\n",
       "      <td>9.0</td>\n",
       "      <td>4.0</td>\n",
       "      <td>9.0</td>\n",
       "      <td>1.569998</td>\n",
       "      <td>-0.429204</td>\n",
       "    </tr>\n",
       "    <tr>\n",
       "      <th>Cardi B</th>\n",
       "      <td>4.0</td>\n",
       "      <td>8.0</td>\n",
       "      <td>NaN</td>\n",
       "      <td>9.0</td>\n",
       "      <td>5.0</td>\n",
       "      <td>0.570041</td>\n",
       "      <td>0.670451</td>\n",
       "    </tr>\n",
       "  </tbody>\n",
       "</table>\n",
       "</div>"
      ],
      "text/plain": [
       "                 Alfred  Mandy  Lenny  Joan  Tino        F1        F2\n",
       "Michael Jackson     3.0    NaN    2.0   3.0   1.0  0.164060  0.248037\n",
       "Clint Black         4.0    9.0    5.0   NaN   1.0 -0.207666  1.421081\n",
       "Dropdead            NaN    NaN    8.0   9.0   NaN  0.882355  0.436072\n",
       "Anti-Cimex          4.0    3.0    9.0   4.0   9.0  1.569998 -0.429204\n",
       "Cardi B             4.0    8.0    NaN   9.0   5.0  0.570041  0.670451"
      ]
     },
     "execution_count": 27,
     "metadata": {},
     "output_type": "execute_result"
    }
   ],
   "source": [
    "if_df = reviews.copy().iloc[:, :-2]\n",
    "if_df.loc[:, \"F1\"] = ifs[:, 0]\n",
    "if_df.loc[:, \"F2\"] = ifs[:, 1]\n",
    "if_df"
   ]
  },
  {
   "cell_type": "code",
   "execution_count": 28,
   "metadata": {
    "deletable": false,
    "nbgrader": {
     "cell_type": "code",
     "checksum": "79c70059e1d4a104ff88e6e4bd64a601",
     "grade": false,
     "grade_id": "cell-5843b55ae974be14",
     "locked": false,
     "schema_version": 3,
     "solution": true,
     "task": false
    }
   },
   "outputs": [
    {
     "data": {
      "text/plain": [
       "(5, 2)"
      ]
     },
     "metadata": {},
     "output_type": "display_data"
    },
    {
     "data": {
      "text/plain": [
       "array([[3.53046728, 3.4336384 ],\n",
       "       [4.11783667, 7.26746079],\n",
       "       [6.91421806, 4.47389919],\n",
       "       [5.17072815, 9.36768386],\n",
       "       [6.24342403, 1.6826658 ]])"
      ]
     },
     "metadata": {},
     "output_type": "display_data"
    }
   ],
   "source": [
    "### GRADED\n",
    "uf2 = np.ndarray((5, 2))\n",
    "\n",
    "features = [\"F1\", \"F2\"]\n",
    "users = [\"Alfred\", \"Mandy\", \"Lenny\", \"Joan\", \"Tino\"]\n",
    "for idx, user in enumerate(users):\n",
    "    user_df = if_df[[user] + features].dropna()\n",
    "    model = LinearRegression(fit_intercept=False).fit(user_df[features], user_df[user])\n",
    "    uf2[idx, :] = model.coef_\n",
    "\n",
    "### ANSWER CHECK\n",
    "display(uf2.shape)  # should be (5, 2)\n",
    "display(uf2)"
   ]
  },
  {
   "cell_type": "markdown",
   "metadata": {
    "deletable": false,
    "editable": false,
    "nbgrader": {
     "cell_type": "markdown",
     "checksum": "1f8b21f365923433778ccc0554924d65",
     "grade": false,
     "grade_id": "cell-bcf2d8529804f150",
     "locked": true,
     "schema_version": 3,
     "solution": false,
     "task": false
    }
   },
   "source": [
    "[Back to top](#-Index)\n",
    "\n",
    "### Problem 5\n",
    "\n",
    "#### One more iteration\n",
    "\n",
    "**5 Points**\n",
    "\n",
    "Again, a DataFrame `ui_df2` is created using the results of `uf2`.  Use the features `F1` and `F2` to create regression models for each user and track the coefficients in `ifs2`.  "
   ]
  },
  {
   "cell_type": "code",
   "execution_count": 29,
   "metadata": {},
   "outputs": [
    {
     "data": {
      "text/html": [
       "<div>\n",
       "<style scoped>\n",
       "    .dataframe tbody tr th:only-of-type {\n",
       "        vertical-align: middle;\n",
       "    }\n",
       "\n",
       "    .dataframe tbody tr th {\n",
       "        vertical-align: top;\n",
       "    }\n",
       "\n",
       "    .dataframe thead th {\n",
       "        text-align: right;\n",
       "    }\n",
       "</style>\n",
       "<table border=\"1\" class=\"dataframe\">\n",
       "  <thead>\n",
       "    <tr style=\"text-align: right;\">\n",
       "      <th></th>\n",
       "      <th>Michael Jackson</th>\n",
       "      <th>Clint Black</th>\n",
       "      <th>Dropdead</th>\n",
       "      <th>Anti-Cimex</th>\n",
       "      <th>Cardi B</th>\n",
       "      <th>F1</th>\n",
       "      <th>F2</th>\n",
       "    </tr>\n",
       "  </thead>\n",
       "  <tbody>\n",
       "    <tr>\n",
       "      <th>Alfred</th>\n",
       "      <td>3.0</td>\n",
       "      <td>4.0</td>\n",
       "      <td>NaN</td>\n",
       "      <td>4.0</td>\n",
       "      <td>4.0</td>\n",
       "      <td>3.530467</td>\n",
       "      <td>3.433638</td>\n",
       "    </tr>\n",
       "    <tr>\n",
       "      <th>Mandy</th>\n",
       "      <td>NaN</td>\n",
       "      <td>9.0</td>\n",
       "      <td>NaN</td>\n",
       "      <td>3.0</td>\n",
       "      <td>8.0</td>\n",
       "      <td>4.117837</td>\n",
       "      <td>7.267461</td>\n",
       "    </tr>\n",
       "    <tr>\n",
       "      <th>Lenny</th>\n",
       "      <td>2.0</td>\n",
       "      <td>5.0</td>\n",
       "      <td>8.0</td>\n",
       "      <td>9.0</td>\n",
       "      <td>NaN</td>\n",
       "      <td>6.914218</td>\n",
       "      <td>4.473899</td>\n",
       "    </tr>\n",
       "    <tr>\n",
       "      <th>Joan</th>\n",
       "      <td>3.0</td>\n",
       "      <td>NaN</td>\n",
       "      <td>9.0</td>\n",
       "      <td>4.0</td>\n",
       "      <td>9.0</td>\n",
       "      <td>5.170728</td>\n",
       "      <td>9.367684</td>\n",
       "    </tr>\n",
       "    <tr>\n",
       "      <th>Tino</th>\n",
       "      <td>1.0</td>\n",
       "      <td>1.0</td>\n",
       "      <td>NaN</td>\n",
       "      <td>9.0</td>\n",
       "      <td>5.0</td>\n",
       "      <td>6.243424</td>\n",
       "      <td>1.682666</td>\n",
       "    </tr>\n",
       "  </tbody>\n",
       "</table>\n",
       "</div>"
      ],
      "text/plain": [
       "        Michael Jackson  Clint Black  Dropdead  Anti-Cimex  Cardi B        F1  \\\n",
       "Alfred              3.0          4.0       NaN         4.0      4.0  3.530467   \n",
       "Mandy               NaN          9.0       NaN         3.0      8.0  4.117837   \n",
       "Lenny               2.0          5.0       8.0         9.0      NaN  6.914218   \n",
       "Joan                3.0          NaN       9.0         4.0      9.0  5.170728   \n",
       "Tino                1.0          1.0       NaN         9.0      5.0  6.243424   \n",
       "\n",
       "              F2  \n",
       "Alfred  3.433638  \n",
       "Mandy   7.267461  \n",
       "Lenny   4.473899  \n",
       "Joan    9.367684  \n",
       "Tino    1.682666  "
      ]
     },
     "execution_count": 29,
     "metadata": {},
     "output_type": "execute_result"
    }
   ],
   "source": [
    "ui_df2 = reviews.copy().iloc[:, :-2].T\n",
    "ui_df2[\"F1\"] = uf2[:, 0]\n",
    "ui_df2[\"F2\"] = uf2[:, 1]\n",
    "ui_df2"
   ]
  },
  {
   "cell_type": "code",
   "execution_count": 30,
   "metadata": {
    "deletable": false,
    "nbgrader": {
     "cell_type": "code",
     "checksum": "ce941af7dbe273084d4c533559b92550",
     "grade": false,
     "grade_id": "cell-b77064260387411e",
     "locked": false,
     "schema_version": 3,
     "solution": true,
     "task": false
    }
   },
   "outputs": [
    {
     "data": {
      "text/plain": [
       "(5, 2)"
      ]
     },
     "metadata": {},
     "output_type": "display_data"
    },
    {
     "data": {
      "text/plain": [
       "array([[ 0.12958264,  0.29264609],\n",
       "       [-0.17854626,  1.35044285],\n",
       "       [ 0.8328282 ,  0.50104934],\n",
       "       [ 1.57959703, -0.45644567],\n",
       "       [ 0.60189159,  0.66892235]])"
      ]
     },
     "metadata": {},
     "output_type": "display_data"
    }
   ],
   "source": [
    "### GRADED\n",
    "ifs2 = np.ndarray((5, 2))\n",
    "features = [\"F1\", \"F2\"]\n",
    "targets = [\"Michael Jackson\", \"Clint Black\", \"Dropdead\", \"Anti-Cimex\", \"Cardi B\"]\n",
    "for idx, target in enumerate(targets):\n",
    "    target_df = ui_df2[[target] + features].dropna()\n",
    "    model = LinearRegression(fit_intercept=False).fit(\n",
    "        target_df[features], target_df[target]\n",
    "    )\n",
    "    ifs2[idx, :] = model.coef_\n",
    "\n",
    "### ANSWER CHECK\n",
    "display(ifs2.shape)\n",
    "display(ifs2)"
   ]
  },
  {
   "cell_type": "markdown",
   "metadata": {
    "deletable": false,
    "editable": false,
    "nbgrader": {
     "cell_type": "markdown",
     "checksum": "152a8566517e8a0fe831bfd985a4287e",
     "grade": false,
     "grade_id": "cell-e92e8365d08db471",
     "locked": true,
     "schema_version": 3,
     "solution": false,
     "task": false
    }
   },
   "source": [
    "[Back to top](#-Index)\n",
    "\n",
    "### Problem 6\n",
    "\n",
    "#### Comparing Models\n",
    "\n",
    "**10 Points**\n",
    "\n",
    "Based on the first iteration resulting in `if_df` and the last in `if_df2` use these different item factors as inputs to a `LinearRegression` model to determine the `mean_squared_error` for each model for Alfred.  Which user factors did a better job as inputs to the model -- `if_df` or `if_df2`.  Assign your answer as a string to `ans6` below."
   ]
  },
  {
   "cell_type": "code",
   "execution_count": 31,
   "metadata": {},
   "outputs": [
    {
     "data": {
      "text/html": [
       "<div>\n",
       "<style scoped>\n",
       "    .dataframe tbody tr th:only-of-type {\n",
       "        vertical-align: middle;\n",
       "    }\n",
       "\n",
       "    .dataframe tbody tr th {\n",
       "        vertical-align: top;\n",
       "    }\n",
       "\n",
       "    .dataframe thead th {\n",
       "        text-align: right;\n",
       "    }\n",
       "</style>\n",
       "<table border=\"1\" class=\"dataframe\">\n",
       "  <thead>\n",
       "    <tr style=\"text-align: right;\">\n",
       "      <th></th>\n",
       "      <th>Alfred</th>\n",
       "      <th>Mandy</th>\n",
       "      <th>Lenny</th>\n",
       "      <th>Joan</th>\n",
       "      <th>Tino</th>\n",
       "      <th>F1</th>\n",
       "      <th>F2</th>\n",
       "    </tr>\n",
       "  </thead>\n",
       "  <tbody>\n",
       "    <tr>\n",
       "      <th>Michael Jackson</th>\n",
       "      <td>3.0</td>\n",
       "      <td>NaN</td>\n",
       "      <td>2.0</td>\n",
       "      <td>3.0</td>\n",
       "      <td>1.0</td>\n",
       "      <td>0.129583</td>\n",
       "      <td>0.292646</td>\n",
       "    </tr>\n",
       "    <tr>\n",
       "      <th>Clint Black</th>\n",
       "      <td>4.0</td>\n",
       "      <td>9.0</td>\n",
       "      <td>5.0</td>\n",
       "      <td>NaN</td>\n",
       "      <td>1.0</td>\n",
       "      <td>-0.178546</td>\n",
       "      <td>1.350443</td>\n",
       "    </tr>\n",
       "    <tr>\n",
       "      <th>Dropdead</th>\n",
       "      <td>NaN</td>\n",
       "      <td>NaN</td>\n",
       "      <td>8.0</td>\n",
       "      <td>9.0</td>\n",
       "      <td>NaN</td>\n",
       "      <td>0.832828</td>\n",
       "      <td>0.501049</td>\n",
       "    </tr>\n",
       "    <tr>\n",
       "      <th>Anti-Cimex</th>\n",
       "      <td>4.0</td>\n",
       "      <td>3.0</td>\n",
       "      <td>9.0</td>\n",
       "      <td>4.0</td>\n",
       "      <td>9.0</td>\n",
       "      <td>1.579597</td>\n",
       "      <td>-0.456446</td>\n",
       "    </tr>\n",
       "    <tr>\n",
       "      <th>Cardi B</th>\n",
       "      <td>4.0</td>\n",
       "      <td>8.0</td>\n",
       "      <td>NaN</td>\n",
       "      <td>9.0</td>\n",
       "      <td>5.0</td>\n",
       "      <td>0.601892</td>\n",
       "      <td>0.668922</td>\n",
       "    </tr>\n",
       "  </tbody>\n",
       "</table>\n",
       "</div>"
      ],
      "text/plain": [
       "                 Alfred  Mandy  Lenny  Joan  Tino        F1        F2\n",
       "Michael Jackson     3.0    NaN    2.0   3.0   1.0  0.129583  0.292646\n",
       "Clint Black         4.0    9.0    5.0   NaN   1.0 -0.178546  1.350443\n",
       "Dropdead            NaN    NaN    8.0   9.0   NaN  0.832828  0.501049\n",
       "Anti-Cimex          4.0    3.0    9.0   4.0   9.0  1.579597 -0.456446\n",
       "Cardi B             4.0    8.0    NaN   9.0   5.0  0.601892  0.668922"
      ]
     },
     "execution_count": 31,
     "metadata": {},
     "output_type": "execute_result"
    }
   ],
   "source": [
    "if_df2 = reviews.copy().iloc[:, :-2]\n",
    "if_df2.loc[:, \"F1\"] = ifs2[:, 0]\n",
    "if_df2.loc[:, \"F2\"] = ifs2[:, 1]\n",
    "if_df2"
   ]
  },
  {
   "cell_type": "code",
   "execution_count": 50,
   "metadata": {},
   "outputs": [],
   "source": [
    "from sklearn.metrics import mean_squared_error"
   ]
  },
  {
   "cell_type": "code",
   "execution_count": 64,
   "metadata": {},
   "outputs": [],
   "source": [
    "user = \"Alfred\"\n",
    "features = [\"F1\", \"F2\"]\n",
    "user_df = if_df[[user] + features].dropna()\n",
    "y1 = LinearRegression().fit(user_df[features], user_df[user]).predict(user_df[features])"
   ]
  },
  {
   "cell_type": "code",
   "execution_count": 65,
   "metadata": {},
   "outputs": [],
   "source": [
    "user_df2 = if_df2[[user] + features].dropna()\n",
    "y2 = (\n",
    "    LinearRegression()\n",
    "    .fit(user_df2[features], user_df2[user])\n",
    "    .predict(user_df2[features])\n",
    ")"
   ]
  },
  {
   "cell_type": "code",
   "execution_count": 66,
   "metadata": {},
   "outputs": [
    {
     "data": {
      "text/plain": [
       "[0.0008769726989889001, 0.003832373090788041]"
      ]
     },
     "execution_count": 66,
     "metadata": {},
     "output_type": "execute_result"
    }
   ],
   "source": [
    "[\n",
    "    mean_squared_error(user_df[user], y1),\n",
    "    mean_squared_error(user_df2[user], y2),\n",
    "]"
   ]
  },
  {
   "cell_type": "code",
   "execution_count": 67,
   "metadata": {
    "deletable": false,
    "nbgrader": {
     "cell_type": "code",
     "checksum": "3ef57612d7382a28bc8f005623bf63ad",
     "grade": false,
     "grade_id": "cell-9aeedc230b65c415",
     "locked": false,
     "schema_version": 3,
     "solution": true,
     "task": false
    }
   },
   "outputs": [
    {
     "data": {
      "text/plain": [
       "'if_df'"
      ]
     },
     "execution_count": 67,
     "metadata": {},
     "output_type": "execute_result"
    }
   ],
   "source": [
    "### GRADED\n",
    "ans6 = \"if_df\"\n",
    "\n",
    "### ANSWER CHECK\n",
    "ans6"
   ]
  }
 ],
 "metadata": {
  "kernelspec": {
   "display_name": "Python 3 (ipykernel)",
   "language": "python",
   "name": "python3"
  },
  "language_info": {
   "codemirror_mode": {
    "name": "ipython",
    "version": 3
   },
   "file_extension": ".py",
   "mimetype": "text/x-python",
   "name": "python",
   "nbconvert_exporter": "python",
   "pygments_lexer": "ipython3",
   "version": "3.10.13"
  },
  "widgets": {
   "application/vnd.jupyter.widget-state+json": {
    "state": {},
    "version_major": 2,
    "version_minor": 0
   }
  }
 },
 "nbformat": 4,
 "nbformat_minor": 4
}
