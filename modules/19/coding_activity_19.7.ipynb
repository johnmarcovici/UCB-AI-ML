{
 "cells": [
  {
   "cell_type": "markdown",
   "metadata": {
    "deletable": false,
    "editable": false,
    "nbgrader": {
     "checksum": "b2d9cdb018506a189f8f332c323375d6",
     "grade": false,
     "grade_id": "cell-537d7ef28174120e",
     "locked": true,
     "schema_version": 1,
     "solution": false
    }
   },
   "source": [
    "### Codio Activity 19.7: Hybrid Recommendations with Surprise\n",
    "\n",
    "**Expected Time = 90 minutes**\n",
    "\n",
    "**Total Points = 50**\n",
    "\n",
    "This activity introduces the idea of using hybrid recommendations with the Surprise library.  Below, you will combine different algorithms predictions to create these hybrid recommendations.  You are again to use the `SVD` algorithm and will combine with the `KNNBasic` algorithm for hybrid recommendations."
   ]
  },
  {
   "cell_type": "markdown",
   "metadata": {
    "deletable": false,
    "editable": false,
    "nbgrader": {
     "checksum": "e30892223b06a32cf0d574d4a1a88d10",
     "grade": false,
     "grade_id": "cell-4b91bbf48f6c691a",
     "locked": true,
     "schema_version": 1,
     "solution": false
    }
   },
   "source": [
    "#### Index\n",
    "\n",
    "- [Problem 1](#-Problem-1)\n",
    "- [Problem 2](#-Problem-2)\n",
    "- [Problem 3](#-Problem-3)\n",
    "- [Problem 4](#-Problem-4)\n",
    "- [Problem 5](#-Problem-5)\n"
   ]
  },
  {
   "cell_type": "code",
   "execution_count": 32,
   "metadata": {},
   "outputs": [
    {
     "name": "stdout",
     "output_type": "stream",
     "text": [
      "Requirement already satisfied: scikit-surprise in /usr/local/python/3.10.13/lib/python3.10/site-packages (1.1.4)\n",
      "Requirement already satisfied: joblib>=1.2.0 in /home/codespace/.local/lib/python3.10/site-packages (from scikit-surprise) (1.3.2)\n",
      "Requirement already satisfied: numpy>=1.19.5 in /home/codespace/.local/lib/python3.10/site-packages (from scikit-surprise) (1.26.4)\n",
      "Requirement already satisfied: scipy>=1.6.0 in /home/codespace/.local/lib/python3.10/site-packages (from scikit-surprise) (1.13.0)\n",
      "\n",
      "\u001b[1m[\u001b[0m\u001b[34;49mnotice\u001b[0m\u001b[1;39;49m]\u001b[0m\u001b[39;49m A new release of pip is available: \u001b[0m\u001b[31;49m24.0\u001b[0m\u001b[39;49m -> \u001b[0m\u001b[32;49m24.1\u001b[0m\n",
      "\u001b[1m[\u001b[0m\u001b[34;49mnotice\u001b[0m\u001b[1;39;49m]\u001b[0m\u001b[39;49m To update, run: \u001b[0m\u001b[32;49mpython3 -m pip install --upgrade pip\u001b[0m\n"
     ]
    }
   ],
   "source": [
    "! pip install scikit-surprise"
   ]
  },
  {
   "cell_type": "code",
   "execution_count": 33,
   "metadata": {},
   "outputs": [],
   "source": [
    "import pandas as pd\n",
    "from surprise import Reader, SVD, Dataset, NormalPredictor, KNNBasic\n",
    "from surprise.model_selection import cross_validate"
   ]
  },
  {
   "cell_type": "markdown",
   "metadata": {
    "deletable": false,
    "editable": false,
    "nbgrader": {
     "checksum": "096bc247463a7e14bd8e8a2a82e294b3",
     "grade": false,
     "grade_id": "cell-70c5139bbc0d73ae",
     "locked": true,
     "schema_version": 1,
     "solution": false
    }
   },
   "source": [
    "#### The Data\n",
    "\n",
    "Again you will use a small set of data from Movie Lens.  The data is loaded and displayed below."
   ]
  },
  {
   "cell_type": "code",
   "execution_count": 34,
   "metadata": {},
   "outputs": [],
   "source": [
    "df = pd.read_csv(\"./data/movie_ratings.csv\", index_col=0).tail(5_000)"
   ]
  },
  {
   "cell_type": "code",
   "execution_count": 35,
   "metadata": {},
   "outputs": [
    {
     "data": {
      "text/html": [
       "<div>\n",
       "<style scoped>\n",
       "    .dataframe tbody tr th:only-of-type {\n",
       "        vertical-align: middle;\n",
       "    }\n",
       "\n",
       "    .dataframe tbody tr th {\n",
       "        vertical-align: top;\n",
       "    }\n",
       "\n",
       "    .dataframe thead th {\n",
       "        text-align: right;\n",
       "    }\n",
       "</style>\n",
       "<table border=\"1\" class=\"dataframe\">\n",
       "  <thead>\n",
       "    <tr style=\"text-align: right;\">\n",
       "      <th></th>\n",
       "      <th>movieId</th>\n",
       "      <th>title</th>\n",
       "      <th>userId</th>\n",
       "      <th>rating</th>\n",
       "    </tr>\n",
       "  </thead>\n",
       "  <tbody>\n",
       "    <tr>\n",
       "      <th>95836</th>\n",
       "      <td>103335</td>\n",
       "      <td>Despicable Me 2 (2013)</td>\n",
       "      <td>509</td>\n",
       "      <td>3.5</td>\n",
       "    </tr>\n",
       "    <tr>\n",
       "      <th>95837</th>\n",
       "      <td>103335</td>\n",
       "      <td>Despicable Me 2 (2013)</td>\n",
       "      <td>534</td>\n",
       "      <td>4.0</td>\n",
       "    </tr>\n",
       "    <tr>\n",
       "      <th>95838</th>\n",
       "      <td>103335</td>\n",
       "      <td>Despicable Me 2 (2013)</td>\n",
       "      <td>567</td>\n",
       "      <td>0.5</td>\n",
       "    </tr>\n",
       "    <tr>\n",
       "      <th>95839</th>\n",
       "      <td>103335</td>\n",
       "      <td>Despicable Me 2 (2013)</td>\n",
       "      <td>586</td>\n",
       "      <td>4.5</td>\n",
       "    </tr>\n",
       "    <tr>\n",
       "      <th>95840</th>\n",
       "      <td>103339</td>\n",
       "      <td>White House Down (2013)</td>\n",
       "      <td>10</td>\n",
       "      <td>4.0</td>\n",
       "    </tr>\n",
       "  </tbody>\n",
       "</table>\n",
       "</div>"
      ],
      "text/plain": [
       "       movieId                    title  userId  rating\n",
       "95836   103335   Despicable Me 2 (2013)     509     3.5\n",
       "95837   103335   Despicable Me 2 (2013)     534     4.0\n",
       "95838   103335   Despicable Me 2 (2013)     567     0.5\n",
       "95839   103335   Despicable Me 2 (2013)     586     4.5\n",
       "95840   103339  White House Down (2013)      10     4.0"
      ]
     },
     "execution_count": 35,
     "metadata": {},
     "output_type": "execute_result"
    }
   ],
   "source": [
    "df.head()"
   ]
  },
  {
   "cell_type": "markdown",
   "metadata": {
    "deletable": false,
    "editable": false,
    "nbgrader": {
     "checksum": "71d5662452f52e894dd1ada2606dd35e",
     "grade": false,
     "grade_id": "cell-703c54570a822d02",
     "locked": true,
     "schema_version": 1,
     "solution": false
    }
   },
   "source": [
    "[Back to top](#-Index)\n",
    "\n",
    "### Problem 1\n",
    "\n",
    "#### Loading the Data \n",
    "\n",
    "**10 Points**\n",
    "\n",
    "Below, use the `Reader` and `Dataset` objects to prepare the data for Surprise using the `title`, `userId` and `rating` columns in order.  Assign these to `reader` and `data` below.  \n",
    "\n",
    "Create a train and test dataset, assign to `train` and `test` respectively."
   ]
  },
  {
   "cell_type": "code",
   "execution_count": 36,
   "metadata": {
    "deletable": false,
    "nbgrader": {
     "checksum": "e68a03b5db74375714c05d7f4b109791",
     "grade": false,
     "grade_id": "cell-861eeb2c00936094",
     "locked": false,
     "schema_version": 1,
     "solution": true
    }
   },
   "outputs": [
    {
     "name": "stdout",
     "output_type": "stream",
     "text": [
      "<class 'surprise.trainset.Trainset'>\n",
      "<class 'list'>\n"
     ]
    }
   ],
   "source": [
    "### GRADED\n",
    "reader = Reader(line_format=\"item user rating\")\n",
    "data = Dataset.load_from_df(df[[\"title\", \"userId\", \"rating\"]], reader)\n",
    "train = data.build_full_trainset()\n",
    "test = train.build_testset()\n",
    "\n",
    "### ANSWER CHECK\n",
    "print(type(train))\n",
    "print(type(test))"
   ]
  },
  {
   "cell_type": "markdown",
   "metadata": {
    "deletable": false,
    "editable": false,
    "nbgrader": {
     "checksum": "6da633ffbf8d17d9e25d243a09793c24",
     "grade": false,
     "grade_id": "cell-c336d86d3aca1c13",
     "locked": true,
     "schema_version": 1,
     "solution": false
    }
   },
   "source": [
    "[Back to top](#-Index)\n",
    "\n",
    "### Problem 2\n",
    "\n",
    "#### SVD Model\n",
    "\n",
    "**10 Points**\n",
    "\n",
    "Now, create and fit an `SVD` model as `svd` below.  Make predictions using the model on the test set and assign these to `svd_preds` below.  Be sure to set `random_state = 42` in the `SVD` algorithm."
   ]
  },
  {
   "cell_type": "code",
   "execution_count": 37,
   "metadata": {
    "deletable": false,
    "nbgrader": {
     "checksum": "bf3ed84b1d06f88c33861a884352012e",
     "grade": false,
     "grade_id": "cell-200b5778449dce82",
     "locked": false,
     "schema_version": 1,
     "solution": true
    }
   },
   "outputs": [
    {
     "data": {
      "text/plain": [
       "[Prediction(uid='Despicable Me 2 (2013)', iid=509, r_ui=3.5, est=3.402965276329225, details={'was_impossible': False}),\n",
       " Prediction(uid='Despicable Me 2 (2013)', iid=534, r_ui=4.0, est=3.5071187963564667, details={'was_impossible': False}),\n",
       " Prediction(uid='Despicable Me 2 (2013)', iid=567, r_ui=0.5, est=1.341166074407866, details={'was_impossible': False}),\n",
       " Prediction(uid='Despicable Me 2 (2013)', iid=586, r_ui=4.5, est=4.475855505329594, details={'was_impossible': False}),\n",
       " Prediction(uid='White House Down (2013)', iid=10, r_ui=4.0, est=3.531689923032194, details={'was_impossible': False})]"
      ]
     },
     "execution_count": 37,
     "metadata": {},
     "output_type": "execute_result"
    }
   ],
   "source": [
    "### GRADED\n",
    "svd = SVD(random_state=42)\n",
    "svd.fit(train)\n",
    "svd_preds = svd.test(test)\n",
    "\n",
    "### ANSWER CHECK\n",
    "svd_preds[:5]"
   ]
  },
  {
   "cell_type": "markdown",
   "metadata": {
    "deletable": false,
    "editable": false,
    "nbgrader": {
     "checksum": "e9885bcbfa5ce1973d5f5d269bd5d005",
     "grade": false,
     "grade_id": "cell-b7e9800a369b9498",
     "locked": true,
     "schema_version": 1,
     "solution": false
    }
   },
   "source": [
    "[Back to top](#-Index)\n",
    "\n",
    "### Problem 3\n",
    "\n",
    "#### SlopeOne Model\n",
    "\n",
    "**10 Points**\n",
    "\n",
    "Next, create a `SlopeOne` model below as `slope_one`.  Fit this on the train and assign test set predictions to `slope_one_preds` below. "
   ]
  },
  {
   "cell_type": "code",
   "execution_count": 38,
   "metadata": {},
   "outputs": [],
   "source": [
    "from surprise import SlopeOne"
   ]
  },
  {
   "cell_type": "code",
   "execution_count": 39,
   "metadata": {
    "deletable": false,
    "nbgrader": {
     "checksum": "5a02bdf7bd0c6e80f3ab2de9735c47fb",
     "grade": false,
     "grade_id": "cell-5fa378423f4c2a03",
     "locked": false,
     "schema_version": 1,
     "solution": true
    }
   },
   "outputs": [
    {
     "data": {
      "text/plain": [
       "[Prediction(uid='Despicable Me 2 (2013)', iid=509, r_ui=3.5, est=3.303717320261438, details={'was_impossible': False}),\n",
       " Prediction(uid='Despicable Me 2 (2013)', iid=534, r_ui=4.0, est=3.1084280303030303, details={'was_impossible': False}),\n",
       " Prediction(uid='Despicable Me 2 (2013)', iid=567, r_ui=0.5, est=2.0097296494355317, details={'was_impossible': False}),\n",
       " Prediction(uid='Despicable Me 2 (2013)', iid=586, r_ui=4.5, est=4.078125, details={'was_impossible': False}),\n",
       " Prediction(uid='White House Down (2013)', iid=10, r_ui=4.0, est=2.4237373737373735, details={'was_impossible': False})]"
      ]
     },
     "execution_count": 39,
     "metadata": {},
     "output_type": "execute_result"
    }
   ],
   "source": [
    "### GRADED\n",
    "slope_one = SlopeOne()\n",
    "slope_one.fit(train)\n",
    "slope_one_preds = slope_one.test(test)\n",
    "\n",
    "### ANSWER CHECK\n",
    "slope_one_preds[:5]"
   ]
  },
  {
   "cell_type": "markdown",
   "metadata": {
    "deletable": false,
    "editable": false,
    "nbgrader": {
     "checksum": "7c8e1315ef26824570f5e8107ee5e066",
     "grade": false,
     "grade_id": "cell-78672cbd03ca302e",
     "locked": true,
     "schema_version": 1,
     "solution": false
    }
   },
   "source": [
    "[Back to top](#-Index)\n",
    "\n",
    "### Problem 4\n",
    "\n",
    "#### Hybrid Predictions\n",
    "\n",
    "**10 Points**\n",
    "\n",
    "Now, use both the slope one and svd predictions to average the predicted values for each user as new predictions.  Assign your results to the list `hybrid_preds` below."
   ]
  },
  {
   "cell_type": "code",
   "execution_count": 40,
   "metadata": {
    "deletable": false,
    "nbgrader": {
     "checksum": "2a2f9058320855de7f1a2c315636dc45",
     "grade": false,
     "grade_id": "cell-08e167c89e62af4f",
     "locked": false,
     "schema_version": 1,
     "solution": true
    }
   },
   "outputs": [
    {
     "data": {
      "text/plain": [
       "[3.3533412982953315,\n",
       " 3.3077734133297483,\n",
       " 1.6754478619216988,\n",
       " 4.276990252664797,\n",
       " 2.9777136483847837]"
      ]
     },
     "execution_count": 40,
     "metadata": {},
     "output_type": "execute_result"
    }
   ],
   "source": [
    "### GRADED\n",
    "hybrid_preds = [\n",
    "    0.5 * svd_preds[k].est + 0.5 * slope_one_preds[k].est for k in range(len(test))\n",
    "]\n",
    "\n",
    "### ANSWER CHECK\n",
    "hybrid_preds[:5]"
   ]
  },
  {
   "cell_type": "markdown",
   "metadata": {
    "deletable": false,
    "editable": false,
    "nbgrader": {
     "checksum": "58cd4f9772fb3c7e23e1a7a47a7c0868",
     "grade": false,
     "grade_id": "cell-1b072a9ade725d8b",
     "locked": true,
     "schema_version": 1,
     "solution": false
    }
   },
   "source": [
    "[Back to top](#-Index)\n",
    "\n",
    "### Problem 5\n",
    "\n",
    "#### DataFrame of predictions\n",
    "\n",
    "**10 Points**\n",
    "\n",
    "Finally, create a DataFrame consisting of the user id, movie, and predicted hybrid ratings as `hybrid_df` below.  The table should begin as:\n",
    "\n",
    "<table border=\"1\" class=\"dataframe\">  <thead>    <tr style=\"text-align: right;\">      <th></th>      <th>Title</th>      <th>user_id</th>      <th>hybrid_rating</th>      <th>svd_rating</th>      <th>slope_one_rating</th>    </tr>  </thead>  <tbody>    <tr>      <th>0</th>      <td>Toy Story (1995)</td>      <td>1</td>      <td>4.482524</td>      <td>4.402274</td>      <td>4.562774</td>    </tr>    <tr>      <th>1</th>      <td>Toy Story (1995)</td>      <td>5</td>      <td>3.954242</td>      <td>4.032047</td>      <td>3.876437</td>    </tr>    <tr>      <th>2</th>      <td>Toy Story (1995)</td>      <td>7</td>      <td>3.942570</td>      <td>4.118478</td>      <td>3.766662</td>    </tr>    <tr>      <th>3</th>      <td>Toy Story (1995)</td>      <td>15</td>      <td>3.425153</td>      <td>3.298924</td>      <td>3.551382</td>    </tr>    <tr>      <th>4</th>      <td>Toy Story (1995)</td>      <td>17</td>      <td>4.152070</td>      <td>4.191087</td>      <td>4.113053</td>    </tr>  </tbody></table>"
   ]
  },
  {
   "cell_type": "code",
   "execution_count": 43,
   "metadata": {
    "deletable": false,
    "nbgrader": {
     "checksum": "fb866479333bdd586f147deaa53f858b",
     "grade": false,
     "grade_id": "cell-b36b5ce90ed2344a",
     "locked": false,
     "schema_version": 1,
     "solution": true
    }
   },
   "outputs": [
    {
     "data": {
      "text/html": [
       "<div>\n",
       "<style scoped>\n",
       "    .dataframe tbody tr th:only-of-type {\n",
       "        vertical-align: middle;\n",
       "    }\n",
       "\n",
       "    .dataframe tbody tr th {\n",
       "        vertical-align: top;\n",
       "    }\n",
       "\n",
       "    .dataframe thead th {\n",
       "        text-align: right;\n",
       "    }\n",
       "</style>\n",
       "<table border=\"1\" class=\"dataframe\">\n",
       "  <thead>\n",
       "    <tr style=\"text-align: right;\">\n",
       "      <th></th>\n",
       "      <th>user_id</th>\n",
       "      <th>title</th>\n",
       "      <th>hybrid_rating</th>\n",
       "      <th>svd_rating</th>\n",
       "      <th>slope_one_rating</th>\n",
       "    </tr>\n",
       "  </thead>\n",
       "  <tbody>\n",
       "    <tr>\n",
       "      <th>0</th>\n",
       "      <td>Despicable Me 2 (2013)</td>\n",
       "      <td>509</td>\n",
       "      <td>3.353341</td>\n",
       "      <td>3.402965</td>\n",
       "      <td>3.303717</td>\n",
       "    </tr>\n",
       "    <tr>\n",
       "      <th>1</th>\n",
       "      <td>Despicable Me 2 (2013)</td>\n",
       "      <td>534</td>\n",
       "      <td>3.307773</td>\n",
       "      <td>3.507119</td>\n",
       "      <td>3.108428</td>\n",
       "    </tr>\n",
       "    <tr>\n",
       "      <th>2</th>\n",
       "      <td>Despicable Me 2 (2013)</td>\n",
       "      <td>567</td>\n",
       "      <td>1.675448</td>\n",
       "      <td>1.341166</td>\n",
       "      <td>2.009730</td>\n",
       "    </tr>\n",
       "    <tr>\n",
       "      <th>3</th>\n",
       "      <td>Despicable Me 2 (2013)</td>\n",
       "      <td>586</td>\n",
       "      <td>4.276990</td>\n",
       "      <td>4.475856</td>\n",
       "      <td>4.078125</td>\n",
       "    </tr>\n",
       "    <tr>\n",
       "      <th>4</th>\n",
       "      <td>White House Down (2013)</td>\n",
       "      <td>10</td>\n",
       "      <td>2.977714</td>\n",
       "      <td>3.531690</td>\n",
       "      <td>2.423737</td>\n",
       "    </tr>\n",
       "    <tr>\n",
       "      <th>...</th>\n",
       "      <td>...</td>\n",
       "      <td>...</td>\n",
       "      <td>...</td>\n",
       "      <td>...</td>\n",
       "      <td>...</td>\n",
       "    </tr>\n",
       "    <tr>\n",
       "      <th>4995</th>\n",
       "      <td>Black Butler: Book of the Atlantic (2017)</td>\n",
       "      <td>184</td>\n",
       "      <td>3.953240</td>\n",
       "      <td>3.906480</td>\n",
       "      <td>4.000000</td>\n",
       "    </tr>\n",
       "    <tr>\n",
       "      <th>4996</th>\n",
       "      <td>No Game No Life: Zero (2017)</td>\n",
       "      <td>184</td>\n",
       "      <td>3.509900</td>\n",
       "      <td>3.519799</td>\n",
       "      <td>3.500000</td>\n",
       "    </tr>\n",
       "    <tr>\n",
       "      <th>4997</th>\n",
       "      <td>Flint (2017)</td>\n",
       "      <td>184</td>\n",
       "      <td>3.556615</td>\n",
       "      <td>3.613230</td>\n",
       "      <td>3.500000</td>\n",
       "    </tr>\n",
       "    <tr>\n",
       "      <th>4998</th>\n",
       "      <td>Bungo Stray Dogs: Dead Apple (2018)</td>\n",
       "      <td>184</td>\n",
       "      <td>3.450516</td>\n",
       "      <td>3.401031</td>\n",
       "      <td>3.500000</td>\n",
       "    </tr>\n",
       "    <tr>\n",
       "      <th>4999</th>\n",
       "      <td>Andrew Dice Clay: Dice Rules (1991)</td>\n",
       "      <td>331</td>\n",
       "      <td>3.903590</td>\n",
       "      <td>3.807179</td>\n",
       "      <td>4.000000</td>\n",
       "    </tr>\n",
       "  </tbody>\n",
       "</table>\n",
       "<p>5000 rows × 5 columns</p>\n",
       "</div>"
      ],
      "text/plain": [
       "                                        user_id  title  hybrid_rating  \\\n",
       "0                        Despicable Me 2 (2013)    509       3.353341   \n",
       "1                        Despicable Me 2 (2013)    534       3.307773   \n",
       "2                        Despicable Me 2 (2013)    567       1.675448   \n",
       "3                        Despicable Me 2 (2013)    586       4.276990   \n",
       "4                       White House Down (2013)     10       2.977714   \n",
       "...                                         ...    ...            ...   \n",
       "4995  Black Butler: Book of the Atlantic (2017)    184       3.953240   \n",
       "4996               No Game No Life: Zero (2017)    184       3.509900   \n",
       "4997                               Flint (2017)    184       3.556615   \n",
       "4998        Bungo Stray Dogs: Dead Apple (2018)    184       3.450516   \n",
       "4999        Andrew Dice Clay: Dice Rules (1991)    331       3.903590   \n",
       "\n",
       "      svd_rating  slope_one_rating  \n",
       "0       3.402965          3.303717  \n",
       "1       3.507119          3.108428  \n",
       "2       1.341166          2.009730  \n",
       "3       4.475856          4.078125  \n",
       "4       3.531690          2.423737  \n",
       "...          ...               ...  \n",
       "4995    3.906480          4.000000  \n",
       "4996    3.519799          3.500000  \n",
       "4997    3.613230          3.500000  \n",
       "4998    3.401031          3.500000  \n",
       "4999    3.807179          4.000000  \n",
       "\n",
       "[5000 rows x 5 columns]"
      ]
     },
     "execution_count": 43,
     "metadata": {},
     "output_type": "execute_result"
    }
   ],
   "source": [
    "### GRADED\n",
    "# First attempt - seemingly correct, but they are grading a wrong definition\n",
    "hybrid_df = pd.DataFrame(\n",
    "    {\n",
    "        \"Title\": df[\"title\"],\n",
    "        \"user_id\": df[\"userId\"],\n",
    "        \"hybrid_rating\": hybrid_preds,\n",
    "        \"svd_rating\": [svd_preds[k].est for k in range(len(svd_preds))],\n",
    "        \"slope_one_rating\": [\n",
    "            slope_one_preds[k].est for k in range(len(slope_one_preds))\n",
    "        ],\n",
    "    }\n",
    ").reset_index(drop=True)\n",
    "\n",
    "# Second attempt - title column is lower-cased and the title/user ID contents are swapped\n",
    "hybrid_df = pd.DataFrame(\n",
    "    {\n",
    "        \"user_id\": df[\"title\"],\n",
    "        \"title\": df[\"userId\"],\n",
    "        \"hybrid_rating\": hybrid_preds,\n",
    "        \"svd_rating\": [svd_preds[k].est for k in range(len(svd_preds))],\n",
    "        \"slope_one_rating\": [\n",
    "            slope_one_preds[k].est for k in range(len(slope_one_preds))\n",
    "        ],\n",
    "    }\n",
    ").reset_index(drop=True)\n",
    "\n",
    "\n",
    "### ANSWER CHECK\n",
    "hybrid_df"
   ]
  },
  {
   "cell_type": "markdown",
   "metadata": {
    "deletable": false,
    "editable": false,
    "nbgrader": {
     "checksum": "6de1fed540c7fa84ddd79247d0d2200d",
     "grade": false,
     "grade_id": "cell-5dbbe422264553cd",
     "locked": true,
     "schema_version": 1,
     "solution": false
    }
   },
   "source": [
    "### Conclusion\n",
    "\n",
    "There are many further steps with hybrid recommendations including writing a custom algorithm object with `Surprise`.  Note that you can incorporate the similarity of the objects much like we had in our distance based recommendations."
   ]
  }
 ],
 "metadata": {
  "kernelspec": {
   "display_name": "Python 3",
   "language": "python",
   "name": "python3"
  },
  "language_info": {
   "codemirror_mode": {
    "name": "ipython",
    "version": 3
   },
   "file_extension": ".py",
   "mimetype": "text/x-python",
   "name": "python",
   "nbconvert_exporter": "python",
   "pygments_lexer": "ipython3",
   "version": "3.10.13"
  }
 },
 "nbformat": 4,
 "nbformat_minor": 4
}
