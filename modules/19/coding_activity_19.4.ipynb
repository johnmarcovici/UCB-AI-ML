{
 "cells": [
  {
   "cell_type": "markdown",
   "metadata": {
    "deletable": false,
    "editable": false,
    "nbgrader": {
     "cell_type": "markdown",
     "checksum": "87ca6b4b0289718200fe0b4d185c3b5d",
     "grade": false,
     "grade_id": "cell-26a44638b4a3b84b",
     "locked": true,
     "schema_version": 3,
     "solution": false,
     "task": false
    }
   },
   "source": [
    "### Codio Activity 19.4: Implementing Funk SVD\n",
    "\n",
    "\n",
    "**Expected Time = 60 minutes**\n",
    "\n",
    "**Total Points = 40**\n",
    "\n",
    "\n",
    "This activity focuses on using gradient descent to provide recommendations with collaborative filtering.  The purpose here is to get a high level introduction to the implementation of SVD Funk.  You will use the earlier ratings and a given user and item matrix to update the user factors.  In the next activity, you will implement the algorithms using `Surprise`.\n",
    "\n",
    "### Index\n",
    "\n",
    "\n",
    "- [Problem 1](#-Problem-1)\n",
    "- [Problem 2](#-Problem-2)\n",
    "- [Problem 3](#-Problem-3)\n",
    "- [Problem 4](#-Problem-4)"
   ]
  },
  {
   "cell_type": "code",
   "execution_count": 1,
   "metadata": {},
   "outputs": [],
   "source": [
    "import pandas as pd\n",
    "import numpy as np"
   ]
  },
  {
   "cell_type": "markdown",
   "metadata": {
    "deletable": false,
    "editable": false,
    "nbgrader": {
     "cell_type": "markdown",
     "checksum": "b381880408d30ff2d242a9ba77534879",
     "grade": false,
     "grade_id": "cell-5b4fb622c8a8fcb3",
     "locked": true,
     "schema_version": 3,
     "solution": false,
     "task": false
    }
   },
   "source": [
    "#### The Data\n",
    "\n",
    "Below, we load in the user reviews as well as a $Q$ and $P$ matrix with some randomly built values from a similar process to the last activity."
   ]
  },
  {
   "cell_type": "code",
   "execution_count": 2,
   "metadata": {},
   "outputs": [],
   "source": [
    "reviews = pd.read_csv(\"data/user_rated.csv\", index_col=0).iloc[:, :-2]\n",
    "Q = pd.read_csv(\"data/Q.csv\", index_col=0)\n",
    "P = pd.read_csv(\"data/P.csv\", index_col=0)\n",
    "Q = Q[[\"F1\", \"F2\"]]\n",
    "P = P[[\"F1\", \"F2\"]]"
   ]
  },
  {
   "cell_type": "code",
   "execution_count": 3,
   "metadata": {},
   "outputs": [
    {
     "data": {
      "text/html": [
       "<div>\n",
       "<style scoped>\n",
       "    .dataframe tbody tr th:only-of-type {\n",
       "        vertical-align: middle;\n",
       "    }\n",
       "\n",
       "    .dataframe tbody tr th {\n",
       "        vertical-align: top;\n",
       "    }\n",
       "\n",
       "    .dataframe thead th {\n",
       "        text-align: right;\n",
       "    }\n",
       "</style>\n",
       "<table border=\"1\" class=\"dataframe\">\n",
       "  <thead>\n",
       "    <tr style=\"text-align: right;\">\n",
       "      <th></th>\n",
       "      <th>Michael Jackson</th>\n",
       "      <th>Clint Black</th>\n",
       "      <th>Dropdead</th>\n",
       "      <th>Anti-Cimex</th>\n",
       "      <th>Cardi B</th>\n",
       "    </tr>\n",
       "  </thead>\n",
       "  <tbody>\n",
       "    <tr>\n",
       "      <th>Alfred</th>\n",
       "      <td>3.0</td>\n",
       "      <td>4.0</td>\n",
       "      <td>NaN</td>\n",
       "      <td>4.0</td>\n",
       "      <td>4.0</td>\n",
       "    </tr>\n",
       "    <tr>\n",
       "      <th>Mandy</th>\n",
       "      <td>NaN</td>\n",
       "      <td>9.0</td>\n",
       "      <td>NaN</td>\n",
       "      <td>3.0</td>\n",
       "      <td>8.0</td>\n",
       "    </tr>\n",
       "    <tr>\n",
       "      <th>Lenny</th>\n",
       "      <td>2.0</td>\n",
       "      <td>5.0</td>\n",
       "      <td>8.0</td>\n",
       "      <td>9.0</td>\n",
       "      <td>NaN</td>\n",
       "    </tr>\n",
       "    <tr>\n",
       "      <th>Joan</th>\n",
       "      <td>3.0</td>\n",
       "      <td>NaN</td>\n",
       "      <td>9.0</td>\n",
       "      <td>4.0</td>\n",
       "      <td>9.0</td>\n",
       "    </tr>\n",
       "    <tr>\n",
       "      <th>Tino</th>\n",
       "      <td>1.0</td>\n",
       "      <td>1.0</td>\n",
       "      <td>NaN</td>\n",
       "      <td>9.0</td>\n",
       "      <td>5.0</td>\n",
       "    </tr>\n",
       "  </tbody>\n",
       "</table>\n",
       "</div>"
      ],
      "text/plain": [
       "        Michael Jackson  Clint Black  Dropdead  Anti-Cimex  Cardi B\n",
       "Alfred              3.0          4.0       NaN         4.0      4.0\n",
       "Mandy               NaN          9.0       NaN         3.0      8.0\n",
       "Lenny               2.0          5.0       8.0         9.0      NaN\n",
       "Joan                3.0          NaN       9.0         4.0      9.0\n",
       "Tino                1.0          1.0       NaN         9.0      5.0"
      ]
     },
     "execution_count": 3,
     "metadata": {},
     "output_type": "execute_result"
    }
   ],
   "source": [
    "reviews.head()"
   ]
  },
  {
   "cell_type": "code",
   "execution_count": 4,
   "metadata": {},
   "outputs": [
    {
     "data": {
      "text/html": [
       "<div>\n",
       "<style scoped>\n",
       "    .dataframe tbody tr th:only-of-type {\n",
       "        vertical-align: middle;\n",
       "    }\n",
       "\n",
       "    .dataframe tbody tr th {\n",
       "        vertical-align: top;\n",
       "    }\n",
       "\n",
       "    .dataframe thead th {\n",
       "        text-align: right;\n",
       "    }\n",
       "</style>\n",
       "<table border=\"1\" class=\"dataframe\">\n",
       "  <thead>\n",
       "    <tr style=\"text-align: right;\">\n",
       "      <th></th>\n",
       "      <th>Michael Jackson</th>\n",
       "      <th>Clint Black</th>\n",
       "      <th>Dropdead</th>\n",
       "      <th>Anti-Cimex</th>\n",
       "      <th>Cardi B</th>\n",
       "    </tr>\n",
       "  </thead>\n",
       "  <tbody>\n",
       "    <tr>\n",
       "      <th>F1</th>\n",
       "      <td>-0.510093</td>\n",
       "      <td>0.181804</td>\n",
       "      <td>-7.554766</td>\n",
       "      <td>-0.520113</td>\n",
       "      <td>-0.458392</td>\n",
       "    </tr>\n",
       "    <tr>\n",
       "      <th>F2</th>\n",
       "      <td>-0.480414</td>\n",
       "      <td>-3.227990</td>\n",
       "      <td>-0.348831</td>\n",
       "      <td>-0.533289</td>\n",
       "      <td>-1.413967</td>\n",
       "    </tr>\n",
       "  </tbody>\n",
       "</table>\n",
       "</div>"
      ],
      "text/plain": [
       "    Michael Jackson  Clint Black  Dropdead  Anti-Cimex   Cardi B\n",
       "F1        -0.510093     0.181804 -7.554766   -0.520113 -0.458392\n",
       "F2        -0.480414    -3.227990 -0.348831   -0.533289 -1.413967"
      ]
     },
     "execution_count": 4,
     "metadata": {},
     "output_type": "execute_result"
    }
   ],
   "source": [
    "Q.T.head()  # item factors"
   ]
  },
  {
   "cell_type": "code",
   "execution_count": 5,
   "metadata": {},
   "outputs": [
    {
     "data": {
      "text/html": [
       "<div>\n",
       "<style scoped>\n",
       "    .dataframe tbody tr th:only-of-type {\n",
       "        vertical-align: middle;\n",
       "    }\n",
       "\n",
       "    .dataframe tbody tr th {\n",
       "        vertical-align: top;\n",
       "    }\n",
       "\n",
       "    .dataframe thead th {\n",
       "        text-align: right;\n",
       "    }\n",
       "</style>\n",
       "<table border=\"1\" class=\"dataframe\">\n",
       "  <thead>\n",
       "    <tr style=\"text-align: right;\">\n",
       "      <th></th>\n",
       "      <th>F1</th>\n",
       "      <th>F2</th>\n",
       "    </tr>\n",
       "  </thead>\n",
       "  <tbody>\n",
       "    <tr>\n",
       "      <th>Alfred</th>\n",
       "      <td>-4.427436</td>\n",
       "      <td>-1.587820</td>\n",
       "    </tr>\n",
       "    <tr>\n",
       "      <th>Mandy</th>\n",
       "      <td>-9.019710</td>\n",
       "      <td>-3.437908</td>\n",
       "    </tr>\n",
       "    <tr>\n",
       "      <th>Lenny</th>\n",
       "      <td>-1.015713</td>\n",
       "      <td>-0.936057</td>\n",
       "    </tr>\n",
       "    <tr>\n",
       "      <th>Joan</th>\n",
       "      <td>-0.932923</td>\n",
       "      <td>-5.595791</td>\n",
       "    </tr>\n",
       "    <tr>\n",
       "      <th>Tino</th>\n",
       "      <td>-2.538133</td>\n",
       "      <td>-0.043783</td>\n",
       "    </tr>\n",
       "  </tbody>\n",
       "</table>\n",
       "</div>"
      ],
      "text/plain": [
       "              F1        F2\n",
       "Alfred -4.427436 -1.587820\n",
       "Mandy  -9.019710 -3.437908\n",
       "Lenny  -1.015713 -0.936057\n",
       "Joan   -0.932923 -5.595791\n",
       "Tino   -2.538133 -0.043783"
      ]
     },
     "execution_count": 5,
     "metadata": {},
     "output_type": "execute_result"
    }
   ],
   "source": [
    "P.head()  # user factors"
   ]
  },
  {
   "cell_type": "markdown",
   "metadata": {
    "deletable": false,
    "editable": false,
    "nbgrader": {
     "cell_type": "markdown",
     "checksum": "158382050d1b924eaf60d3478e212e52",
     "grade": false,
     "grade_id": "cell-7ee787d6a4d4157c",
     "locked": true,
     "schema_version": 3,
     "solution": false,
     "task": false
    }
   },
   "source": [
    "[Back to top](#-Index)\n",
    "\n",
    "### Problem 1\n",
    "\n",
    "**10 Points**\n",
    "\n",
    "#### Making Predictions\n",
    "\n",
    "To make predictions you multiply a given row of $P$ by a column of $Q$.  Perform this operation for all users and items and assign a DataFrame of predicted values to `pred_df` below.  \n",
    "\n",
    "HINT: Try to do this using matrix multiplication rather than a nested loop. Matrix Multiplication is done with @"
   ]
  },
  {
   "cell_type": "code",
   "execution_count": 6,
   "metadata": {},
   "outputs": [
    {
     "data": {
      "text/html": [
       "<div>\n",
       "<style scoped>\n",
       "    .dataframe tbody tr th:only-of-type {\n",
       "        vertical-align: middle;\n",
       "    }\n",
       "\n",
       "    .dataframe tbody tr th {\n",
       "        vertical-align: top;\n",
       "    }\n",
       "\n",
       "    .dataframe thead th {\n",
       "        text-align: right;\n",
       "    }\n",
       "</style>\n",
       "<table border=\"1\" class=\"dataframe\">\n",
       "  <thead>\n",
       "    <tr style=\"text-align: right;\">\n",
       "      <th></th>\n",
       "      <th>Michael Jackson</th>\n",
       "      <th>Clint Black</th>\n",
       "      <th>Dropdead</th>\n",
       "      <th>Anti-Cimex</th>\n",
       "      <th>Cardi B</th>\n",
       "    </tr>\n",
       "  </thead>\n",
       "  <tbody>\n",
       "    <tr>\n",
       "      <th>Alfred</th>\n",
       "      <td>3.0</td>\n",
       "      <td>4.0</td>\n",
       "      <td>NaN</td>\n",
       "      <td>4.0</td>\n",
       "      <td>4.0</td>\n",
       "    </tr>\n",
       "    <tr>\n",
       "      <th>Mandy</th>\n",
       "      <td>NaN</td>\n",
       "      <td>9.0</td>\n",
       "      <td>NaN</td>\n",
       "      <td>3.0</td>\n",
       "      <td>8.0</td>\n",
       "    </tr>\n",
       "    <tr>\n",
       "      <th>Lenny</th>\n",
       "      <td>2.0</td>\n",
       "      <td>5.0</td>\n",
       "      <td>8.0</td>\n",
       "      <td>9.0</td>\n",
       "      <td>NaN</td>\n",
       "    </tr>\n",
       "    <tr>\n",
       "      <th>Joan</th>\n",
       "      <td>3.0</td>\n",
       "      <td>NaN</td>\n",
       "      <td>9.0</td>\n",
       "      <td>4.0</td>\n",
       "      <td>9.0</td>\n",
       "    </tr>\n",
       "    <tr>\n",
       "      <th>Tino</th>\n",
       "      <td>1.0</td>\n",
       "      <td>1.0</td>\n",
       "      <td>NaN</td>\n",
       "      <td>9.0</td>\n",
       "      <td>5.0</td>\n",
       "    </tr>\n",
       "  </tbody>\n",
       "</table>\n",
       "</div>"
      ],
      "text/plain": [
       "        Michael Jackson  Clint Black  Dropdead  Anti-Cimex  Cardi B\n",
       "Alfred              3.0          4.0       NaN         4.0      4.0\n",
       "Mandy               NaN          9.0       NaN         3.0      8.0\n",
       "Lenny               2.0          5.0       8.0         9.0      NaN\n",
       "Joan                3.0          NaN       9.0         4.0      9.0\n",
       "Tino                1.0          1.0       NaN         9.0      5.0"
      ]
     },
     "execution_count": 6,
     "metadata": {},
     "output_type": "execute_result"
    }
   ],
   "source": [
    "reviews"
   ]
  },
  {
   "cell_type": "code",
   "execution_count": 7,
   "metadata": {
    "deletable": false,
    "nbgrader": {
     "cell_type": "code",
     "checksum": "47696e06b88320092723004184614540",
     "grade": false,
     "grade_id": "cell-be629e3f890eab99",
     "locked": false,
     "schema_version": 3,
     "solution": true,
     "task": false
    }
   },
   "outputs": [
    {
     "data": {
      "text/html": [
       "<div>\n",
       "<style scoped>\n",
       "    .dataframe tbody tr th:only-of-type {\n",
       "        vertical-align: middle;\n",
       "    }\n",
       "\n",
       "    .dataframe tbody tr th {\n",
       "        vertical-align: top;\n",
       "    }\n",
       "\n",
       "    .dataframe thead th {\n",
       "        text-align: right;\n",
       "    }\n",
       "</style>\n",
       "<table border=\"1\" class=\"dataframe\">\n",
       "  <thead>\n",
       "    <tr style=\"text-align: right;\">\n",
       "      <th></th>\n",
       "      <th>Michael Jackson</th>\n",
       "      <th>Clint Black</th>\n",
       "      <th>Dropdead</th>\n",
       "      <th>Anti-Cimex</th>\n",
       "      <th>Cardi B</th>\n",
       "    </tr>\n",
       "  </thead>\n",
       "  <tbody>\n",
       "    <tr>\n",
       "      <th>Alfred</th>\n",
       "      <td>3.021214</td>\n",
       "      <td>4.320545</td>\n",
       "      <td>34.002121</td>\n",
       "      <td>3.149535</td>\n",
       "      <td>4.274625</td>\n",
       "    </tr>\n",
       "    <tr>\n",
       "      <th>Mandy</th>\n",
       "      <td>6.252507</td>\n",
       "      <td>9.457719</td>\n",
       "      <td>69.341043</td>\n",
       "      <td>6.524669</td>\n",
       "      <td>8.995648</td>\n",
       "    </tr>\n",
       "    <tr>\n",
       "      <th>Lenny</th>\n",
       "      <td>0.967803</td>\n",
       "      <td>2.836922</td>\n",
       "      <td>8.000000</td>\n",
       "      <td>1.027474</td>\n",
       "      <td>1.789148</td>\n",
       "    </tr>\n",
       "    <tr>\n",
       "      <th>Joan</th>\n",
       "      <td>3.164175</td>\n",
       "      <td>17.893550</td>\n",
       "      <td>9.000000</td>\n",
       "      <td>3.469398</td>\n",
       "      <td>8.339908</td>\n",
       "    </tr>\n",
       "    <tr>\n",
       "      <th>Tino</th>\n",
       "      <td>1.315717</td>\n",
       "      <td>-0.320110</td>\n",
       "      <td>19.190270</td>\n",
       "      <td>1.343466</td>\n",
       "      <td>1.225366</td>\n",
       "    </tr>\n",
       "  </tbody>\n",
       "</table>\n",
       "</div>"
      ],
      "text/plain": [
       "        Michael Jackson  Clint Black   Dropdead  Anti-Cimex   Cardi B\n",
       "Alfred         3.021214     4.320545  34.002121    3.149535  4.274625\n",
       "Mandy          6.252507     9.457719  69.341043    6.524669  8.995648\n",
       "Lenny          0.967803     2.836922   8.000000    1.027474  1.789148\n",
       "Joan           3.164175    17.893550   9.000000    3.469398  8.339908\n",
       "Tino           1.315717    -0.320110  19.190270    1.343466  1.225366"
      ]
     },
     "execution_count": 7,
     "metadata": {},
     "output_type": "execute_result"
    }
   ],
   "source": [
    "### GRADED\n",
    "pred_df = P @ Q.T\n",
    "\n",
    "### ANSWER CHECK\n",
    "pred_df"
   ]
  },
  {
   "cell_type": "markdown",
   "metadata": {
    "deletable": false,
    "editable": false,
    "nbgrader": {
     "cell_type": "markdown",
     "checksum": "e5be956f6f54917f88f22a461b584356",
     "grade": false,
     "grade_id": "cell-98dc70d0ae864f5f",
     "locked": true,
     "schema_version": 3,
     "solution": false,
     "task": false
    }
   },
   "source": [
    "### Problem 2\n",
    "\n",
    "**10 Points**\n",
    "\n",
    "#### Measuring Error\n",
    "\n",
    "Use your prediction for Mandy in terms of Clint Black to determine the error squared.  Assign this value to `ans2` below."
   ]
  },
  {
   "cell_type": "code",
   "execution_count": 8,
   "metadata": {
    "deletable": false,
    "nbgrader": {
     "cell_type": "code",
     "checksum": "2cbb0f2c2d6069d1580445dca019e2b9",
     "grade": false,
     "grade_id": "cell-416d6a3b48fcb950",
     "locked": false,
     "schema_version": 3,
     "solution": true,
     "task": false
    }
   },
   "outputs": [
    {
     "data": {
      "text/plain": [
       "0.20950654368339033"
      ]
     },
     "execution_count": 8,
     "metadata": {},
     "output_type": "execute_result"
    }
   ],
   "source": [
    "### GRADED\n",
    "ans2 = (pred_df - reviews).loc[\"Mandy\", \"Clint Black\"] ** 2\n",
    "\n",
    "### ANSWER CHECK\n",
    "ans2"
   ]
  },
  {
   "cell_type": "markdown",
   "metadata": {
    "deletable": false,
    "editable": false,
    "nbgrader": {
     "cell_type": "markdown",
     "checksum": "1a0d3db16f34b49ae354b603f9305103",
     "grade": false,
     "grade_id": "cell-cd46fa402c86c8b8",
     "locked": true,
     "schema_version": 3,
     "solution": false,
     "task": false
    }
   },
   "source": [
    "### Problem 3\n",
    "\n",
    "**10 Points**\n",
    "\n",
    "#### Error for all Mandy Predictions\n",
    "\n",
    "Now, compute the error squared for each of Mandy's ratings where she had them -- Clint Black, Anti-Cimex, and Cardi B.  Assign these as a numpy array to `ans3`."
   ]
  },
  {
   "cell_type": "code",
   "execution_count": 9,
   "metadata": {
    "deletable": false,
    "nbgrader": {
     "cell_type": "code",
     "checksum": "19de2cb8d17c9b5bb2bfea4ff5da2de0",
     "grade": false,
     "grade_id": "cell-a2f0cf8a4c175d99",
     "locked": false,
     "schema_version": 3,
     "solution": true,
     "task": false
    }
   },
   "outputs": [
    {
     "data": {
      "text/plain": [
       "array([ 0.20950654, 12.42328982,  0.99131421])"
      ]
     },
     "execution_count": 9,
     "metadata": {},
     "output_type": "execute_result"
    }
   ],
   "source": [
    "### GRADED\n",
    "ans3 = (pred_df - reviews).loc[\"Mandy\", :].dropna().values ** 2\n",
    "error_problem3 = ans3\n",
    "\n",
    "### ANSWER CHECK\n",
    "ans3"
   ]
  },
  {
   "cell_type": "markdown",
   "metadata": {
    "deletable": false,
    "editable": false,
    "nbgrader": {
     "cell_type": "markdown",
     "checksum": "c49dabc74e2551004897bf81af302a6a",
     "grade": false,
     "grade_id": "cell-18811dd0d2bedbb5",
     "locked": true,
     "schema_version": 3,
     "solution": false,
     "task": false
    }
   },
   "source": [
    "### Problem 4\n",
    "\n",
    "**10 Points**\n",
    "\n",
    "#### Updating the Values\n",
    "\n",
    "Now, perform the update for matrix $P$ based on the rule:\n",
    "\n",
    "$$P_{a,b} := P_{a,b} - \\alpha \\sum_{j \\in R_a}^N e_{a,j}Q_{b,j}$$\n",
    "\n",
    "You will do this for the first factor of Mandy.  This means:\n",
    "\n",
    "$$P_{1, 0} = -9.019710 - \\alpha(e_{1, 1}Q_{1, 0} + e_{1, 3}Q_{3, 0} + e_{1, 4}Q_{4, 0})$$\n",
    "\n",
    "Use $\\alpha = 0.1$, and assign this new value as a float to `P_new`."
   ]
  },
  {
   "cell_type": "code",
   "execution_count": 10,
   "metadata": {
    "deletable": false,
    "nbgrader": {
     "cell_type": "code",
     "checksum": "91ab9cff1b46c608b1a446f039c32c92",
     "grade": false,
     "grade_id": "cell-1e689e6ec6626132",
     "locked": false,
     "schema_version": 3,
     "solution": true,
     "task": false
    }
   },
   "outputs": [
    {
     "data": {
      "text/plain": [
       "[-9.01970953069711, -8.799069116040613]"
      ]
     },
     "execution_count": 10,
     "metadata": {},
     "output_type": "execute_result"
    }
   ],
   "source": [
    "### GRADED\n",
    "valid_cols = list(reviews.columns[reviews.loc[\"Mandy\", :].notna()])\n",
    "P_1_0 = P.loc[\"Mandy\", \"F1\"]\n",
    "P_1_0 = -9.019710  # they want a truncated (wrong) value here\n",
    "P_new = P_1_0 - 0.1 * np.sum(np.sqrt(error_problem3) * Q.T.loc[\"F1\", valid_cols])\n",
    "\n",
    "\n",
    "### ANSWER CHECK\n",
    "[\n",
    "    P.loc[\"Mandy\", \"F1\"],\n",
    "    P_new,\n",
    "]"
   ]
  },
  {
   "cell_type": "markdown",
   "metadata": {
    "deletable": false,
    "editable": false,
    "nbgrader": {
     "cell_type": "markdown",
     "checksum": "9ce72d964330f7a00c2e064d4b06e7f9",
     "grade": false,
     "grade_id": "cell-b52c089b116642a1",
     "locked": true,
     "schema_version": 3,
     "solution": false,
     "task": false
    }
   },
   "source": [
    "As an extra exercise, consider how to modularize this for each value of $P$.  Further, the update for $Q$ that occurs consistent with that of $P$ -- consider working through the full update process and modularizing the update process."
   ]
  }
 ],
 "metadata": {
  "kernelspec": {
   "display_name": "Python 3 (ipykernel)",
   "language": "python",
   "name": "python3"
  },
  "language_info": {
   "codemirror_mode": {
    "name": "ipython",
    "version": 3
   },
   "file_extension": ".py",
   "mimetype": "text/x-python",
   "name": "python",
   "nbconvert_exporter": "python",
   "pygments_lexer": "ipython3",
   "version": "3.10.13"
  },
  "widgets": {
   "application/vnd.jupyter.widget-state+json": {
    "state": {},
    "version_major": 2,
    "version_minor": 0
   }
  }
 },
 "nbformat": 4,
 "nbformat_minor": 4
}
