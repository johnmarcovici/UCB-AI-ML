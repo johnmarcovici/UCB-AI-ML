{
 "cells": [
  {
   "cell_type": "markdown",
   "metadata": {
    "deletable": false,
    "editable": false,
    "nbgrader": {
     "cell_type": "markdown",
     "checksum": "278551107b4c9b0f883a8246d106ed32",
     "grade": false,
     "grade_id": "cell-af56e50bd68d708f",
     "locked": true,
     "schema_version": 3,
     "solution": false,
     "task": false
    }
   },
   "source": [
    "###  Codio Activity 19.1: Regression Models for Predictions\n",
    "\n",
    "**Expected Time = 60 minutes**\n",
    "\n",
    "**Total Points = 50**\n",
    "\n",
    "This activity will use regression models to provide scores for unseen content (albums).  Using these scores, you can make recommendations for unheard albums to users. You are also given similar information as to that from the lecture in terms of *lofi* and *slick* scores for each artist.\n",
    "\n",
    "#### Index\n",
    "\n",
    "- [Problem 1](#-Problem-1)\n",
    "- [Problem 2](#-Problem-2)\n",
    "- [Problem 3](#-Problem-3)\n",
    "- [Problem 4](#-Problem-4)\n",
    "- [Problem 5](#-Problem-5)"
   ]
  },
  {
   "cell_type": "code",
   "execution_count": 1,
   "metadata": {},
   "outputs": [],
   "source": [
    "import os\n",
    "import matplotlib.pyplot as plt\n",
    "import pandas as pd\n",
    "import numpy as np\n",
    "\n",
    "from sklearn.linear_model import LinearRegression"
   ]
  },
  {
   "cell_type": "markdown",
   "metadata": {
    "deletable": false,
    "editable": false,
    "nbgrader": {
     "cell_type": "markdown",
     "checksum": "7f1a4c4875495f7699a86e86e5b1b2e5",
     "grade": false,
     "grade_id": "cell-a4e416f01442e14f",
     "locked": true,
     "schema_version": 3,
     "solution": false,
     "task": false
    }
   },
   "source": [
    "#### Our Data\n",
    "\n",
    "This example uses a synthetic dataset of reviews from five individuals and five albums.  The album covers and artists are displayed below and the dataset is loaded and displayed below.  Two additional columns `lofi` and `slick` are included to rate the nature of the music. \n",
    "\n",
    "![](images/covers.png)"
   ]
  },
  {
   "cell_type": "code",
   "execution_count": 2,
   "metadata": {},
   "outputs": [],
   "source": [
    "reviews = pd.read_csv(\"./data/sample_reviews.csv\", index_col=0)"
   ]
  },
  {
   "cell_type": "code",
   "execution_count": 13,
   "metadata": {},
   "outputs": [
    {
     "data": {
      "text/html": [
       "<div>\n",
       "<style scoped>\n",
       "    .dataframe tbody tr th:only-of-type {\n",
       "        vertical-align: middle;\n",
       "    }\n",
       "\n",
       "    .dataframe tbody tr th {\n",
       "        vertical-align: top;\n",
       "    }\n",
       "\n",
       "    .dataframe thead th {\n",
       "        text-align: right;\n",
       "    }\n",
       "</style>\n",
       "<table border=\"1\" class=\"dataframe\">\n",
       "  <thead>\n",
       "    <tr style=\"text-align: right;\">\n",
       "      <th></th>\n",
       "      <th>Alfred</th>\n",
       "      <th>Mandy</th>\n",
       "      <th>Lenny</th>\n",
       "      <th>Joan</th>\n",
       "      <th>Tino</th>\n",
       "      <th>slick</th>\n",
       "      <th>lofi</th>\n",
       "    </tr>\n",
       "  </thead>\n",
       "  <tbody>\n",
       "    <tr>\n",
       "      <th>Michael Jackson</th>\n",
       "      <td>3.0</td>\n",
       "      <td>NaN</td>\n",
       "      <td>2.0</td>\n",
       "      <td>3.0</td>\n",
       "      <td>1.0</td>\n",
       "      <td>8</td>\n",
       "      <td>2</td>\n",
       "    </tr>\n",
       "    <tr>\n",
       "      <th>Clint Black</th>\n",
       "      <td>4.0</td>\n",
       "      <td>9.0</td>\n",
       "      <td>5.0</td>\n",
       "      <td>NaN</td>\n",
       "      <td>1.0</td>\n",
       "      <td>8</td>\n",
       "      <td>2</td>\n",
       "    </tr>\n",
       "    <tr>\n",
       "      <th>Dropdead</th>\n",
       "      <td>NaN</td>\n",
       "      <td>NaN</td>\n",
       "      <td>8.0</td>\n",
       "      <td>9.0</td>\n",
       "      <td>NaN</td>\n",
       "      <td>2</td>\n",
       "      <td>9</td>\n",
       "    </tr>\n",
       "    <tr>\n",
       "      <th>Anti-Cimex</th>\n",
       "      <td>4.0</td>\n",
       "      <td>3.0</td>\n",
       "      <td>9.0</td>\n",
       "      <td>4.0</td>\n",
       "      <td>9.0</td>\n",
       "      <td>2</td>\n",
       "      <td>10</td>\n",
       "    </tr>\n",
       "    <tr>\n",
       "      <th>Cardi B</th>\n",
       "      <td>4.0</td>\n",
       "      <td>8.0</td>\n",
       "      <td>NaN</td>\n",
       "      <td>9.0</td>\n",
       "      <td>5.0</td>\n",
       "      <td>9</td>\n",
       "      <td>3</td>\n",
       "    </tr>\n",
       "  </tbody>\n",
       "</table>\n",
       "</div>"
      ],
      "text/plain": [
       "                 Alfred  Mandy  Lenny  Joan  Tino  slick  lofi\n",
       "Michael Jackson     3.0    NaN    2.0   3.0   1.0      8     2\n",
       "Clint Black         4.0    9.0    5.0   NaN   1.0      8     2\n",
       "Dropdead            NaN    NaN    8.0   9.0   NaN      2     9\n",
       "Anti-Cimex          4.0    3.0    9.0   4.0   9.0      2    10\n",
       "Cardi B             4.0    8.0    NaN   9.0   5.0      9     3"
      ]
     },
     "execution_count": 13,
     "metadata": {},
     "output_type": "execute_result"
    }
   ],
   "source": [
    "reviews.head()"
   ]
  },
  {
   "cell_type": "markdown",
   "metadata": {
    "deletable": false,
    "editable": false,
    "nbgrader": {
     "cell_type": "markdown",
     "checksum": "ae94d3436420271705d109dd7b7d2d8f",
     "grade": false,
     "grade_id": "cell-9e923f03cdc9333d",
     "locked": true,
     "schema_version": 3,
     "solution": false,
     "task": false
    }
   },
   "source": [
    "[Back to top](#-Index)\n",
    "\n",
    "### Problem 1\n",
    "\n",
    "#### Considering Alfred\n",
    "\n",
    "**10 Points**\n",
    "\n",
    "To begin, create `X` and `y` based on `Alfred`.  This means to drop the row for **Dropdead** (using `dropna()`), and build a model using all other rows with `slick` and `lofi` scores.  Assign the input as `X` and target as `y`, name your model `alfred_lr` and make prediction for Alfred as `alfred_dd_predict` below.  "
   ]
  },
  {
   "cell_type": "code",
   "execution_count": 14,
   "metadata": {
    "deletable": false,
    "nbgrader": {
     "cell_type": "code",
     "checksum": "602782afe2de7c0057a4b894158e616b",
     "grade": false,
     "grade_id": "cell-8dd3aaade5f4d254",
     "locked": false,
     "schema_version": 3,
     "solution": true,
     "task": false
    }
   },
   "outputs": [
    {
     "data": {
      "text/plain": [
       "array([3.75])"
      ]
     },
     "execution_count": 14,
     "metadata": {},
     "output_type": "execute_result"
    }
   ],
   "source": [
    "### GRADED\n",
    "X = reviews[[\"Alfred\", \"slick\", \"lofi\"]].dropna()[[\"slick\", \"lofi\"]]\n",
    "y = reviews[[\"Alfred\", \"slick\", \"lofi\"]].dropna()[\"Alfred\"]\n",
    "alfred_lr = LinearRegression().fit(X, y)\n",
    "alfred_dd_predict = alfred_lr.predict(reviews[[\"slick\", \"lofi\"]].loc[[\"Dropdead\"], :])\n",
    "\n",
    "### ANSWER CHECK\n",
    "alfred_dd_predict"
   ]
  },
  {
   "cell_type": "markdown",
   "metadata": {
    "deletable": false,
    "editable": false,
    "nbgrader": {
     "cell_type": "markdown",
     "checksum": "cdbfc8fb426ec2d1473a37159d4b0f33",
     "grade": false,
     "grade_id": "cell-a1c4b5a8d103ebb0",
     "locked": true,
     "schema_version": 3,
     "solution": false,
     "task": false
    }
   },
   "source": [
    "[Back to top](#-Index)\n",
    "\n",
    "### Problem 2\n",
    "\n",
    "#### User Vector for Alfred\n",
    "\n",
    "**10 Points**\n",
    "\n",
    "Use your model for Alfred to construct his user vector based on the coefficients of the model. What does this tell you about Alfred's preference for slick and lofi?  Assign his user vector as a numpy array to `alfred_vector` below.\n",
    "\n",
    "HINT: 'user vector' is simply another name for the coefficients of the linear regressions model."
   ]
  },
  {
   "cell_type": "code",
   "execution_count": 15,
   "metadata": {
    "deletable": false,
    "nbgrader": {
     "cell_type": "code",
     "checksum": "5fd0eade39391416c914a1cbdefba3e7",
     "grade": false,
     "grade_id": "cell-3b381e2375b1d33c",
     "locked": false,
     "schema_version": 3,
     "solution": true,
     "task": false
    }
   },
   "outputs": [
    {
     "data": {
      "text/html": [
       "<div>\n",
       "<style scoped>\n",
       "    .dataframe tbody tr th:only-of-type {\n",
       "        vertical-align: middle;\n",
       "    }\n",
       "\n",
       "    .dataframe tbody tr th {\n",
       "        vertical-align: top;\n",
       "    }\n",
       "\n",
       "    .dataframe thead th {\n",
       "        text-align: right;\n",
       "    }\n",
       "</style>\n",
       "<table border=\"1\" class=\"dataframe\">\n",
       "  <thead>\n",
       "    <tr style=\"text-align: right;\">\n",
       "      <th></th>\n",
       "      <th>slick</th>\n",
       "      <th>lofi</th>\n",
       "    </tr>\n",
       "  </thead>\n",
       "  <tbody>\n",
       "    <tr>\n",
       "      <th>Alfred</th>\n",
       "      <td>0.25</td>\n",
       "      <td>0.25</td>\n",
       "    </tr>\n",
       "  </tbody>\n",
       "</table>\n",
       "</div>"
      ],
      "text/plain": [
       "        slick  lofi\n",
       "Alfred   0.25  0.25"
      ]
     },
     "execution_count": 15,
     "metadata": {},
     "output_type": "execute_result"
    }
   ],
   "source": [
    "### GRADED\n",
    "alfred_vector = alfred_lr.coef_\n",
    "\n",
    "### ANSWER CHECK\n",
    "pd.DataFrame(alfred_vector.reshape(1, 2), columns=[\"slick\", \"lofi\"], index=[\"Alfred\"])"
   ]
  },
  {
   "cell_type": "markdown",
   "metadata": {
    "deletable": false,
    "editable": false,
    "nbgrader": {
     "cell_type": "markdown",
     "checksum": "1ce36e97a58ef79d73ab77a44ca9c0c8",
     "grade": false,
     "grade_id": "cell-464f03a653c20dd5",
     "locked": true,
     "schema_version": 3,
     "solution": false,
     "task": false
    }
   },
   "source": [
    "[Back to top](#-Index)\n",
    "\n",
    "### Problem 3\n",
    "\n",
    "#### Considering Tino\n",
    "\n",
    "**10 Points**\n",
    "\n",
    "Repeat the process above for Tino.  Use Tino's user vector to predict their rating of **Dropdead**.  Assign the prediction to `tino_dd_predict` as a numpy array below."
   ]
  },
  {
   "cell_type": "code",
   "execution_count": 3,
   "metadata": {
    "deletable": false,
    "nbgrader": {
     "cell_type": "code",
     "checksum": "266b1b6413066fc18773732fff93972c",
     "grade": false,
     "grade_id": "cell-933ef3c460668fc9",
     "locked": false,
     "schema_version": 3,
     "solution": true,
     "task": false
    }
   },
   "outputs": [
    {
     "data": {
      "text/plain": [
       "array([6.71428571])"
      ]
     },
     "execution_count": 3,
     "metadata": {},
     "output_type": "execute_result"
    }
   ],
   "source": [
    "### GRADED\n",
    "X = reviews[[\"Tino\", \"slick\", \"lofi\"]].dropna()[[\"slick\", \"lofi\"]]\n",
    "y = reviews[[\"Tino\", \"slick\", \"lofi\"]].dropna()[\"Tino\"]\n",
    "tino_lr = LinearRegression().fit(X, y)\n",
    "tino_dd_predict = tino_lr.predict(reviews[[\"slick\", \"lofi\"]].loc[[\"Dropdead\"], :])\n",
    "\n",
    "### ANSWER CHECK\n",
    "tino_dd_predict"
   ]
  },
  {
   "cell_type": "markdown",
   "metadata": {
    "deletable": false,
    "editable": false,
    "nbgrader": {
     "cell_type": "markdown",
     "checksum": "7cdf10d5ff0876e1aba86e36bd296c2a",
     "grade": false,
     "grade_id": "cell-315271ffcff37e85",
     "locked": true,
     "schema_version": 3,
     "solution": false,
     "task": false
    }
   },
   "source": [
    "[Back to top](#-Index)\n",
    "\n",
    "### Problem 4\n",
    "\n",
    "#### Tino's user vector\n",
    "\n",
    "**10 Points**\n",
    "\n",
    "Now, create a user vector for Tino and assign as a numpy array to `tino_vector` below.  What does this say about their preference for *slick* versus *lofi*?  "
   ]
  },
  {
   "cell_type": "code",
   "execution_count": 4,
   "metadata": {
    "deletable": false,
    "nbgrader": {
     "cell_type": "code",
     "checksum": "d04ba65de252c02aac139212fd9cb4e4",
     "grade": false,
     "grade_id": "cell-36e0cafabb1c768f",
     "locked": false,
     "schema_version": 3,
     "solution": true,
     "task": false
    }
   },
   "outputs": [
    {
     "data": {
      "text/html": [
       "<div>\n",
       "<style scoped>\n",
       "    .dataframe tbody tr th:only-of-type {\n",
       "        vertical-align: middle;\n",
       "    }\n",
       "\n",
       "    .dataframe tbody tr th {\n",
       "        vertical-align: top;\n",
       "    }\n",
       "\n",
       "    .dataframe thead th {\n",
       "        text-align: right;\n",
       "    }\n",
       "</style>\n",
       "<table border=\"1\" class=\"dataframe\">\n",
       "  <thead>\n",
       "    <tr style=\"text-align: right;\">\n",
       "      <th></th>\n",
       "      <th>slick</th>\n",
       "      <th>lofi</th>\n",
       "    </tr>\n",
       "  </thead>\n",
       "  <tbody>\n",
       "    <tr>\n",
       "      <th>Tino</th>\n",
       "      <td>1.714286</td>\n",
       "      <td>2.285714</td>\n",
       "    </tr>\n",
       "  </tbody>\n",
       "</table>\n",
       "</div>"
      ],
      "text/plain": [
       "         slick      lofi\n",
       "Tino  1.714286  2.285714"
      ]
     },
     "execution_count": 4,
     "metadata": {},
     "output_type": "execute_result"
    }
   ],
   "source": [
    "### GRADED\n",
    "tino_vector = tino_lr.coef_\n",
    "\n",
    "### ANSWER CHECK\n",
    "pd.DataFrame(tino_vector.reshape(1, 2), columns=[\"slick\", \"lofi\"], index=[\"Tino\"])"
   ]
  },
  {
   "cell_type": "markdown",
   "metadata": {
    "deletable": false,
    "editable": false,
    "nbgrader": {
     "cell_type": "markdown",
     "checksum": "a84f275f9d23b428be5d4a490384789b",
     "grade": false,
     "grade_id": "cell-7726f1df1de0b11d",
     "locked": true,
     "schema_version": 3,
     "solution": false,
     "task": false
    }
   },
   "source": [
    "[Back to top](#-Index)\n",
    "\n",
    "### Problem 5\n",
    "\n",
    "#### Completing the Table\n",
    "\n",
    "**10 Points**\n",
    "\n",
    "Consider writing a function to loop over each column and perform the prediction process using the same columns of `slick` and `lofi` as inputs.  Create a DataFrame called `reviews_df_full` and complete the scores for each individual. "
   ]
  },
  {
   "cell_type": "code",
   "execution_count": 18,
   "metadata": {},
   "outputs": [
    {
     "data": {
      "text/html": [
       "<div>\n",
       "<style scoped>\n",
       "    .dataframe tbody tr th:only-of-type {\n",
       "        vertical-align: middle;\n",
       "    }\n",
       "\n",
       "    .dataframe tbody tr th {\n",
       "        vertical-align: top;\n",
       "    }\n",
       "\n",
       "    .dataframe thead th {\n",
       "        text-align: right;\n",
       "    }\n",
       "</style>\n",
       "<table border=\"1\" class=\"dataframe\">\n",
       "  <thead>\n",
       "    <tr style=\"text-align: right;\">\n",
       "      <th></th>\n",
       "      <th>Alfred</th>\n",
       "      <th>Mandy</th>\n",
       "      <th>Lenny</th>\n",
       "      <th>Joan</th>\n",
       "      <th>Tino</th>\n",
       "      <th>slick</th>\n",
       "      <th>lofi</th>\n",
       "    </tr>\n",
       "  </thead>\n",
       "  <tbody>\n",
       "    <tr>\n",
       "      <th>Michael Jackson</th>\n",
       "      <td>3.0</td>\n",
       "      <td>NaN</td>\n",
       "      <td>2.0</td>\n",
       "      <td>3.0</td>\n",
       "      <td>1.0</td>\n",
       "      <td>8</td>\n",
       "      <td>2</td>\n",
       "    </tr>\n",
       "    <tr>\n",
       "      <th>Clint Black</th>\n",
       "      <td>4.0</td>\n",
       "      <td>9.0</td>\n",
       "      <td>5.0</td>\n",
       "      <td>NaN</td>\n",
       "      <td>1.0</td>\n",
       "      <td>8</td>\n",
       "      <td>2</td>\n",
       "    </tr>\n",
       "    <tr>\n",
       "      <th>Dropdead</th>\n",
       "      <td>NaN</td>\n",
       "      <td>NaN</td>\n",
       "      <td>8.0</td>\n",
       "      <td>9.0</td>\n",
       "      <td>NaN</td>\n",
       "      <td>2</td>\n",
       "      <td>9</td>\n",
       "    </tr>\n",
       "    <tr>\n",
       "      <th>Anti-Cimex</th>\n",
       "      <td>4.0</td>\n",
       "      <td>3.0</td>\n",
       "      <td>9.0</td>\n",
       "      <td>4.0</td>\n",
       "      <td>9.0</td>\n",
       "      <td>2</td>\n",
       "      <td>10</td>\n",
       "    </tr>\n",
       "    <tr>\n",
       "      <th>Cardi B</th>\n",
       "      <td>4.0</td>\n",
       "      <td>8.0</td>\n",
       "      <td>NaN</td>\n",
       "      <td>9.0</td>\n",
       "      <td>5.0</td>\n",
       "      <td>9</td>\n",
       "      <td>3</td>\n",
       "    </tr>\n",
       "  </tbody>\n",
       "</table>\n",
       "</div>"
      ],
      "text/plain": [
       "                 Alfred  Mandy  Lenny  Joan  Tino  slick  lofi\n",
       "Michael Jackson     3.0    NaN    2.0   3.0   1.0      8     2\n",
       "Clint Black         4.0    9.0    5.0   NaN   1.0      8     2\n",
       "Dropdead            NaN    NaN    8.0   9.0   NaN      2     9\n",
       "Anti-Cimex          4.0    3.0    9.0   4.0   9.0      2    10\n",
       "Cardi B             4.0    8.0    NaN   9.0   5.0      9     3"
      ]
     },
     "execution_count": 18,
     "metadata": {},
     "output_type": "execute_result"
    }
   ],
   "source": [
    "reviews"
   ]
  },
  {
   "cell_type": "code",
   "execution_count": 5,
   "metadata": {
    "deletable": false,
    "nbgrader": {
     "cell_type": "code",
     "checksum": "921d502ff09dfb1d4f16d0c6b2114861",
     "grade": false,
     "grade_id": "cell-13ba7e6354620eac",
     "locked": false,
     "schema_version": 3,
     "solution": true,
     "task": false
    }
   },
   "outputs": [
    {
     "data": {
      "text/html": [
       "<div>\n",
       "<style scoped>\n",
       "    .dataframe tbody tr th:only-of-type {\n",
       "        vertical-align: middle;\n",
       "    }\n",
       "\n",
       "    .dataframe tbody tr th {\n",
       "        vertical-align: top;\n",
       "    }\n",
       "\n",
       "    .dataframe thead th {\n",
       "        text-align: right;\n",
       "    }\n",
       "</style>\n",
       "<table border=\"1\" class=\"dataframe\">\n",
       "  <thead>\n",
       "    <tr style=\"text-align: right;\">\n",
       "      <th></th>\n",
       "      <th>Alfred</th>\n",
       "      <th>Mandy</th>\n",
       "      <th>Lenny</th>\n",
       "      <th>Joan</th>\n",
       "      <th>Tino</th>\n",
       "      <th>slick</th>\n",
       "      <th>lofi</th>\n",
       "    </tr>\n",
       "  </thead>\n",
       "  <tbody>\n",
       "    <tr>\n",
       "      <th>Michael Jackson</th>\n",
       "      <td>3.00</td>\n",
       "      <td>9.000000</td>\n",
       "      <td>2.000000</td>\n",
       "      <td>3.000000</td>\n",
       "      <td>1.000000</td>\n",
       "      <td>8</td>\n",
       "      <td>2</td>\n",
       "    </tr>\n",
       "    <tr>\n",
       "      <th>Clint Black</th>\n",
       "      <td>4.00</td>\n",
       "      <td>9.000000</td>\n",
       "      <td>5.000000</td>\n",
       "      <td>4.664444</td>\n",
       "      <td>1.000000</td>\n",
       "      <td>8</td>\n",
       "      <td>2</td>\n",
       "    </tr>\n",
       "    <tr>\n",
       "      <th>Dropdead</th>\n",
       "      <td>3.75</td>\n",
       "      <td>3.857143</td>\n",
       "      <td>8.000000</td>\n",
       "      <td>9.000000</td>\n",
       "      <td>6.714286</td>\n",
       "      <td>2</td>\n",
       "      <td>9</td>\n",
       "    </tr>\n",
       "    <tr>\n",
       "      <th>Anti-Cimex</th>\n",
       "      <td>4.00</td>\n",
       "      <td>3.000000</td>\n",
       "      <td>9.000000</td>\n",
       "      <td>4.000000</td>\n",
       "      <td>9.000000</td>\n",
       "      <td>2</td>\n",
       "      <td>10</td>\n",
       "    </tr>\n",
       "    <tr>\n",
       "      <th>Cardi B</th>\n",
       "      <td>4.00</td>\n",
       "      <td>8.000000</td>\n",
       "      <td>4.916667</td>\n",
       "      <td>9.000000</td>\n",
       "      <td>5.000000</td>\n",
       "      <td>9</td>\n",
       "      <td>3</td>\n",
       "    </tr>\n",
       "  </tbody>\n",
       "</table>\n",
       "</div>"
      ],
      "text/plain": [
       "                 Alfred     Mandy     Lenny      Joan      Tino  slick  lofi\n",
       "Michael Jackson    3.00  9.000000  2.000000  3.000000  1.000000      8     2\n",
       "Clint Black        4.00  9.000000  5.000000  4.664444  1.000000      8     2\n",
       "Dropdead           3.75  3.857143  8.000000  9.000000  6.714286      2     9\n",
       "Anti-Cimex         4.00  3.000000  9.000000  4.000000  9.000000      2    10\n",
       "Cardi B            4.00  8.000000  4.916667  9.000000  5.000000      9     3"
      ]
     },
     "execution_count": 5,
     "metadata": {},
     "output_type": "execute_result"
    }
   ],
   "source": [
    "### GRADED\n",
    "reviews_df_full = reviews.copy(deep=True)\n",
    "features = [\"slick\", \"lofi\"]\n",
    "\n",
    "users = [\"Alfred\", \"Mandy\", \"Lenny\", \"Joan\", \"Tino\"]\n",
    "for user in users:\n",
    "    X = reviews[[user] + features].dropna()[features]\n",
    "    y = reviews[[user] + features].dropna()[user]\n",
    "    model = LinearRegression().fit(X, y)\n",
    "    missing_vals = list(reviews.index[reviews[user].isnull()])\n",
    "    for artist in missing_vals:\n",
    "        yhat = model.predict(reviews[features].loc[[artist], :])\n",
    "        reviews_df_full.loc[[artist], user] = yhat[0]\n",
    "\n",
    "### ANSWER CHECK\n",
    "reviews_df_full"
   ]
  }
 ],
 "metadata": {
  "kernelspec": {
   "display_name": "Python 3 (ipykernel)",
   "language": "python",
   "name": "python3"
  },
  "language_info": {
   "codemirror_mode": {
    "name": "ipython",
    "version": 3
   },
   "file_extension": ".py",
   "mimetype": "text/x-python",
   "name": "python",
   "nbconvert_exporter": "python",
   "pygments_lexer": "ipython3",
   "version": "3.10.13"
  }
 },
 "nbformat": 4,
 "nbformat_minor": 4
}
