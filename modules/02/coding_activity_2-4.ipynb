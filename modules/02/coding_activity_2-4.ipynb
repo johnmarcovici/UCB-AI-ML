{
 "cells": [
  {
   "cell_type": "markdown",
   "metadata": {
    "deletable": false,
    "editable": false,
    "nbgrader": {
     "checksum": "4a4541a86150819396d6fe00c4c186e6",
     "grade": false,
     "grade_id": "cell-1087582e116fd58d",
     "locked": true,
     "schema_version": 1,
     "solution": false
    }
   },
   "source": [
    "## Codio Activity 2.4: Measures of Center and Spread with `pandas`\n",
    "\n",
    "**Expected Time: 60 Minutes**\n",
    "\n",
    "**Total Points: 20**\n",
    "\n",
    "Measures of central tendency for datasets are typically mean, median, mode, variance, and standard deviation. We will explore mode in later modules. This assignment focuses on using pandas to compute numerical summaries of data. You will load in a dataset and compute the mean, median, variance, and standard deviation of numeric features in the data. You will also examine the spread of the data using quartiles and the interquartile range, also identifying outliers using the  1.5×𝐼𝑄𝑅  rule.\n",
    "\n",
    "\n",
    "## Index:\n",
    "\n",
    "- [Problem 1](#Problem-1:-Load-the-Data)\n",
    "- [Problem 2](#Problem-2:-Base-Salary-Distribution-Mean)\n",
    "- [Problem 3](#Problem-3:-Base-Salary-Distribution-Median)\n",
    "- [Problem 4](#Problem-4:-Determining-Quartiles)\n",
    "- [Problem 5](#Problem-5:-Interquartile-Range)\n",
    "- [Problem 6](#Problem-6:-Rule-for-Outliers)\n",
    "- [Problem 7](#Problem-7:-Dropping-Outliers)\n",
    "- [Problem 8](#Finding-the-Mean-with-no-Outliers)\n",
    "- [Problem 9]()\n",
    "- [Problem 10](#Standard-Deviation-with-`numpy`)\n",
    "- [Problem 11](#Standard-Deviation-with-`pandas`)\n",
    "- [Problem 12]()\n",
    "- [Problem 13](#Measure-of-Spread)"
   ]
  },
  {
   "cell_type": "code",
   "execution_count": 1,
   "metadata": {
    "deletable": false,
    "editable": false,
    "nbgrader": {
     "checksum": "b775827ae11f9d288abb7e66959ad57f",
     "grade": false,
     "grade_id": "cell-57a8bb6419472979",
     "locked": true,
     "schema_version": 1,
     "solution": false
    }
   },
   "outputs": [
    {
     "name": "stderr",
     "output_type": "stream",
     "text": [
      "/tmp/ipykernel_23636/1521273946.py:1: DeprecationWarning: \n",
      "Pyarrow will become a required dependency of pandas in the next major release of pandas (pandas 3.0),\n",
      "(to allow more performant data types, such as the Arrow string type, and better interoperability with other libraries)\n",
      "but was not found to be installed on your system.\n",
      "If this would cause problems for you,\n",
      "please provide us feedback at https://github.com/pandas-dev/pandas/issues/54466\n",
      "        \n",
      "  import pandas as pd\n"
     ]
    }
   ],
   "source": [
    "import pandas as pd\n",
    "import matplotlib.pyplot as plt\n",
    "import numpy as np"
   ]
  },
  {
   "cell_type": "markdown",
   "metadata": {
    "deletable": false,
    "editable": false,
    "nbgrader": {
     "checksum": "3ce6b10e2ea0e3281b36e462342d82e8",
     "grade": false,
     "grade_id": "cell-4f553efc8f6f1594",
     "locked": true,
     "schema_version": 1,
     "solution": false
    }
   },
   "source": [
    "### The Data\n",
    "\n",
    "\n",
    "![](images/payroll.png)\n",
    "The dataset for this assignment comes from New York City's Open Data, and contains information about the citywide payroll data.  Below, you are to load the data from a `.csv` file.  "
   ]
  },
  {
   "cell_type": "markdown",
   "metadata": {
    "deletable": false,
    "editable": false,
    "nbgrader": {
     "checksum": "9e93e9c3669801c0db677d8ded514d05",
     "grade": false,
     "grade_id": "cell-e3db3a4e7a649c16",
     "locked": true,
     "schema_version": 1,
     "solution": false
    }
   },
   "source": [
    "[Back to top](#Index:) \n",
    "\n",
    "### Problem 1:  Load the Data\n",
    "\n",
    "**1 Point**\n",
    "\n",
    "Below, load the data file located in the `data` folder named `nyc_salaries.csv`.  Assign your DataFrame to `nyc_salary_data`."
   ]
  },
  {
   "cell_type": "code",
   "execution_count": 2,
   "metadata": {
    "deletable": false,
    "nbgrader": {
     "checksum": "2a468619f9c29efbbe56b2f2583b71cc",
     "grade": false,
     "grade_id": "cell-6291888fc0a2de17",
     "locked": false,
     "schema_version": 1,
     "solution": true
    }
   },
   "outputs": [],
   "source": [
    "###GRADED\n",
    "\n",
    "nyc_salary_data = pd.read_csv(\"./data/nyc_salaries.csv\")"
   ]
  },
  {
   "cell_type": "code",
   "execution_count": null,
   "metadata": {
    "deletable": false,
    "editable": false,
    "nbgrader": {
     "checksum": "18b09c8c414541d5af2cefdce95ece2d",
     "grade": true,
     "grade_id": "cell-73d11f659ef346c5",
     "locked": true,
     "points": 1,
     "schema_version": 1,
     "solution": false
    }
   },
   "outputs": [],
   "source": []
  },
  {
   "cell_type": "markdown",
   "metadata": {
    "deletable": false,
    "editable": false,
    "nbgrader": {
     "checksum": "5e6e1a39a458d1a91fe297ada0cddb03",
     "grade": false,
     "grade_id": "cell-b4c16300003a1941",
     "locked": true,
     "schema_version": 1,
     "solution": false
    }
   },
   "source": [
    "### Examine the Data\n",
    "\n",
    "Now that the data is loaded, information about the datatypes and missing values as well as a quick look at the first five rows of the data can be had with the `.info()` and `.head()` methods."
   ]
  },
  {
   "cell_type": "code",
   "execution_count": 3,
   "metadata": {
    "deletable": false,
    "editable": false,
    "nbgrader": {
     "checksum": "acdee37129065302049a6373221c1709",
     "grade": false,
     "grade_id": "cell-89375439b0f16365",
     "locked": true,
     "schema_version": 1,
     "solution": false
    }
   },
   "outputs": [
    {
     "name": "stdout",
     "output_type": "stream",
     "text": [
      "<class 'pandas.core.frame.DataFrame'>\n",
      "RangeIndex: 590210 entries, 0 to 590209\n",
      "Data columns (total 17 columns):\n",
      " #   Column                      Non-Null Count   Dtype  \n",
      "---  ------                      --------------   -----  \n",
      " 0   fiscal_year                 590210 non-null  int64  \n",
      " 1   payroll_number              590210 non-null  int64  \n",
      " 2   agency_name                 590210 non-null  object \n",
      " 3   last_name                   589838 non-null  object \n",
      " 4   first_name                  589835 non-null  object \n",
      " 5   agency_start_date           590147 non-null  object \n",
      " 6   work_location_borough       590207 non-null  object \n",
      " 7   title_description           590204 non-null  object \n",
      " 8   leave_status_as_of_july_31  590210 non-null  object \n",
      " 9   base_salary                 590210 non-null  float64\n",
      " 10  pay_basis                   590210 non-null  object \n",
      " 11  regular_hours               590210 non-null  float64\n",
      " 12  regular_gross_paid          590210 non-null  float64\n",
      " 13  ot_hours                    590210 non-null  float64\n",
      " 14  total_ot_paid               590210 non-null  float64\n",
      " 15  total_other_pay             590210 non-null  float64\n",
      " 16  mid_init                    349608 non-null  object \n",
      "dtypes: float64(6), int64(2), object(9)\n",
      "memory usage: 76.6+ MB\n"
     ]
    }
   ],
   "source": [
    "nyc_salary_data.info()"
   ]
  },
  {
   "cell_type": "code",
   "execution_count": 4,
   "metadata": {
    "deletable": false,
    "editable": false,
    "nbgrader": {
     "checksum": "76507c4345e573cb7ff92011c71e3e3e",
     "grade": false,
     "grade_id": "cell-307db90cf5d8795f",
     "locked": true,
     "schema_version": 1,
     "solution": false
    }
   },
   "outputs": [
    {
     "data": {
      "text/html": [
       "<div>\n",
       "<style scoped>\n",
       "    .dataframe tbody tr th:only-of-type {\n",
       "        vertical-align: middle;\n",
       "    }\n",
       "\n",
       "    .dataframe tbody tr th {\n",
       "        vertical-align: top;\n",
       "    }\n",
       "\n",
       "    .dataframe thead th {\n",
       "        text-align: right;\n",
       "    }\n",
       "</style>\n",
       "<table border=\"1\" class=\"dataframe\">\n",
       "  <thead>\n",
       "    <tr style=\"text-align: right;\">\n",
       "      <th></th>\n",
       "      <th>fiscal_year</th>\n",
       "      <th>payroll_number</th>\n",
       "      <th>agency_name</th>\n",
       "      <th>last_name</th>\n",
       "      <th>first_name</th>\n",
       "      <th>agency_start_date</th>\n",
       "      <th>work_location_borough</th>\n",
       "      <th>title_description</th>\n",
       "      <th>leave_status_as_of_july_31</th>\n",
       "      <th>base_salary</th>\n",
       "      <th>pay_basis</th>\n",
       "      <th>regular_hours</th>\n",
       "      <th>regular_gross_paid</th>\n",
       "      <th>ot_hours</th>\n",
       "      <th>total_ot_paid</th>\n",
       "      <th>total_other_pay</th>\n",
       "      <th>mid_init</th>\n",
       "    </tr>\n",
       "  </thead>\n",
       "  <tbody>\n",
       "    <tr>\n",
       "      <th>0</th>\n",
       "      <td>2020</td>\n",
       "      <td>17</td>\n",
       "      <td>OFFICE OF EMERGENCY MANAGEMENT</td>\n",
       "      <td>BEREZIN</td>\n",
       "      <td>MIKHAIL</td>\n",
       "      <td>2015-08-10T00:00:00.000</td>\n",
       "      <td>BROOKLYN</td>\n",
       "      <td>EMERGENCY PREPAREDNESS MANAGER</td>\n",
       "      <td>ACTIVE</td>\n",
       "      <td>86005.0</td>\n",
       "      <td>per Annum</td>\n",
       "      <td>1820.0</td>\n",
       "      <td>84698.21</td>\n",
       "      <td>0.0</td>\n",
       "      <td>0.0</td>\n",
       "      <td>0.0</td>\n",
       "      <td>NaN</td>\n",
       "    </tr>\n",
       "    <tr>\n",
       "      <th>1</th>\n",
       "      <td>2020</td>\n",
       "      <td>17</td>\n",
       "      <td>OFFICE OF EMERGENCY MANAGEMENT</td>\n",
       "      <td>GEAGER</td>\n",
       "      <td>VERONICA</td>\n",
       "      <td>2016-09-12T00:00:00.000</td>\n",
       "      <td>BROOKLYN</td>\n",
       "      <td>EMERGENCY PREPAREDNESS MANAGER</td>\n",
       "      <td>ACTIVE</td>\n",
       "      <td>86005.0</td>\n",
       "      <td>per Annum</td>\n",
       "      <td>1820.0</td>\n",
       "      <td>84698.21</td>\n",
       "      <td>0.0</td>\n",
       "      <td>0.0</td>\n",
       "      <td>0.0</td>\n",
       "      <td>M</td>\n",
       "    </tr>\n",
       "    <tr>\n",
       "      <th>2</th>\n",
       "      <td>2020</td>\n",
       "      <td>17</td>\n",
       "      <td>OFFICE OF EMERGENCY MANAGEMENT</td>\n",
       "      <td>RAMANI</td>\n",
       "      <td>SHRADDHA</td>\n",
       "      <td>2016-02-22T00:00:00.000</td>\n",
       "      <td>BROOKLYN</td>\n",
       "      <td>EMERGENCY PREPAREDNESS MANAGER</td>\n",
       "      <td>ACTIVE</td>\n",
       "      <td>86005.0</td>\n",
       "      <td>per Annum</td>\n",
       "      <td>1820.0</td>\n",
       "      <td>84698.21</td>\n",
       "      <td>0.0</td>\n",
       "      <td>0.0</td>\n",
       "      <td>0.0</td>\n",
       "      <td>NaN</td>\n",
       "    </tr>\n",
       "    <tr>\n",
       "      <th>3</th>\n",
       "      <td>2020</td>\n",
       "      <td>17</td>\n",
       "      <td>OFFICE OF EMERGENCY MANAGEMENT</td>\n",
       "      <td>ROTTA</td>\n",
       "      <td>JONATHAN</td>\n",
       "      <td>2013-09-16T00:00:00.000</td>\n",
       "      <td>BROOKLYN</td>\n",
       "      <td>EMERGENCY PREPAREDNESS MANAGER</td>\n",
       "      <td>ACTIVE</td>\n",
       "      <td>86005.0</td>\n",
       "      <td>per Annum</td>\n",
       "      <td>1820.0</td>\n",
       "      <td>84698.21</td>\n",
       "      <td>0.0</td>\n",
       "      <td>0.0</td>\n",
       "      <td>0.0</td>\n",
       "      <td>D</td>\n",
       "    </tr>\n",
       "    <tr>\n",
       "      <th>4</th>\n",
       "      <td>2020</td>\n",
       "      <td>17</td>\n",
       "      <td>OFFICE OF EMERGENCY MANAGEMENT</td>\n",
       "      <td>WILSON II</td>\n",
       "      <td>ROBERT</td>\n",
       "      <td>2018-04-30T00:00:00.000</td>\n",
       "      <td>BROOKLYN</td>\n",
       "      <td>EMERGENCY PREPAREDNESS MANAGER</td>\n",
       "      <td>ACTIVE</td>\n",
       "      <td>86005.0</td>\n",
       "      <td>per Annum</td>\n",
       "      <td>1820.0</td>\n",
       "      <td>84698.21</td>\n",
       "      <td>0.0</td>\n",
       "      <td>0.0</td>\n",
       "      <td>0.0</td>\n",
       "      <td>P</td>\n",
       "    </tr>\n",
       "  </tbody>\n",
       "</table>\n",
       "</div>"
      ],
      "text/plain": [
       "   fiscal_year  payroll_number                     agency_name  last_name  \\\n",
       "0         2020              17  OFFICE OF EMERGENCY MANAGEMENT    BEREZIN   \n",
       "1         2020              17  OFFICE OF EMERGENCY MANAGEMENT     GEAGER   \n",
       "2         2020              17  OFFICE OF EMERGENCY MANAGEMENT     RAMANI   \n",
       "3         2020              17  OFFICE OF EMERGENCY MANAGEMENT      ROTTA   \n",
       "4         2020              17  OFFICE OF EMERGENCY MANAGEMENT  WILSON II   \n",
       "\n",
       "  first_name        agency_start_date work_location_borough  \\\n",
       "0    MIKHAIL  2015-08-10T00:00:00.000              BROOKLYN   \n",
       "1   VERONICA  2016-09-12T00:00:00.000              BROOKLYN   \n",
       "2   SHRADDHA  2016-02-22T00:00:00.000              BROOKLYN   \n",
       "3   JONATHAN  2013-09-16T00:00:00.000              BROOKLYN   \n",
       "4     ROBERT  2018-04-30T00:00:00.000              BROOKLYN   \n",
       "\n",
       "                title_description leave_status_as_of_july_31  base_salary  \\\n",
       "0  EMERGENCY PREPAREDNESS MANAGER                     ACTIVE      86005.0   \n",
       "1  EMERGENCY PREPAREDNESS MANAGER                     ACTIVE      86005.0   \n",
       "2  EMERGENCY PREPAREDNESS MANAGER                     ACTIVE      86005.0   \n",
       "3  EMERGENCY PREPAREDNESS MANAGER                     ACTIVE      86005.0   \n",
       "4  EMERGENCY PREPAREDNESS MANAGER                     ACTIVE      86005.0   \n",
       "\n",
       "   pay_basis  regular_hours  regular_gross_paid  ot_hours  total_ot_paid  \\\n",
       "0  per Annum         1820.0            84698.21       0.0            0.0   \n",
       "1  per Annum         1820.0            84698.21       0.0            0.0   \n",
       "2  per Annum         1820.0            84698.21       0.0            0.0   \n",
       "3  per Annum         1820.0            84698.21       0.0            0.0   \n",
       "4  per Annum         1820.0            84698.21       0.0            0.0   \n",
       "\n",
       "   total_other_pay mid_init  \n",
       "0              0.0      NaN  \n",
       "1              0.0        M  \n",
       "2              0.0      NaN  \n",
       "3              0.0        D  \n",
       "4              0.0        P  "
      ]
     },
     "execution_count": 4,
     "metadata": {},
     "output_type": "execute_result"
    }
   ],
   "source": [
    "nyc_salary_data.head()"
   ]
  },
  {
   "cell_type": "markdown",
   "metadata": {
    "deletable": false,
    "editable": false,
    "nbgrader": {
     "checksum": "6d4cbbef85b12f28b9930e422e51d979",
     "grade": false,
     "grade_id": "cell-b2c3403bad0b7770",
     "locked": true,
     "schema_version": 1,
     "solution": false
    }
   },
   "source": [
    "[Back to top](#Index:) \n",
    "\n",
    "### Problem 2: Base Salary Distribution Mean\n",
    "\n",
    "**1 Point**\n",
    "\n",
    "Use pandas to determine the mean of the `base_salary` column.  Assign your answer to the variable `ans_2` below."
   ]
  },
  {
   "cell_type": "code",
   "execution_count": 5,
   "metadata": {
    "deletable": false,
    "editable": false,
    "nbgrader": {
     "checksum": "e68222ae2d5420979fc46e7d2d4eb06f",
     "grade": false,
     "grade_id": "cell-da1352c3bec4bf1f",
     "locked": true,
     "schema_version": 1,
     "solution": false
    }
   },
   "outputs": [
    {
     "data": {
      "text/plain": [
       "<Axes: >"
      ]
     },
     "execution_count": 5,
     "metadata": {},
     "output_type": "execute_result"
    },
    {
     "data": {
      "image/png": "[encoded data removed]",
      "text/plain": [
       "<Figure size 640x480 with 1 Axes>"
      ]
     },
     "metadata": {},
     "output_type": "display_data"
    }
   ],
   "source": [
    "nyc_salary_data['base_salary'].hist()"
   ]
  },
  {
   "cell_type": "code",
   "execution_count": 6,
   "metadata": {
    "deletable": false,
    "nbgrader": {
     "checksum": "3e1a243393f81d869d80bbc00b388c34",
     "grade": false,
     "grade_id": "cell-cd78182db2201756",
     "locked": false,
     "schema_version": 1,
     "solution": true
    }
   },
   "outputs": [
    {
     "data": {
      "text/plain": [
       "46719.46439313127"
      ]
     },
     "metadata": {},
     "output_type": "display_data"
    },
    {
     "data": {
      "text/html": [
       "<div>\n",
       "<style scoped>\n",
       "    .dataframe tbody tr th:only-of-type {\n",
       "        vertical-align: middle;\n",
       "    }\n",
       "\n",
       "    .dataframe tbody tr th {\n",
       "        vertical-align: top;\n",
       "    }\n",
       "\n",
       "    .dataframe thead th {\n",
       "        text-align: right;\n",
       "    }\n",
       "</style>\n",
       "<table border=\"1\" class=\"dataframe\">\n",
       "  <thead>\n",
       "    <tr style=\"text-align: right;\">\n",
       "      <th></th>\n",
       "      <th>fiscal_year</th>\n",
       "      <th>payroll_number</th>\n",
       "      <th>base_salary</th>\n",
       "      <th>regular_hours</th>\n",
       "      <th>regular_gross_paid</th>\n",
       "      <th>ot_hours</th>\n",
       "      <th>total_ot_paid</th>\n",
       "      <th>total_other_pay</th>\n",
       "    </tr>\n",
       "  </thead>\n",
       "  <tbody>\n",
       "    <tr>\n",
       "      <th>count</th>\n",
       "      <td>590210.0</td>\n",
       "      <td>590210.000000</td>\n",
       "      <td>590210.000000</td>\n",
       "      <td>590210.000000</td>\n",
       "      <td>590210.000000</td>\n",
       "      <td>590210.000000</td>\n",
       "      <td>590210.000000</td>\n",
       "      <td>590210.000000</td>\n",
       "    </tr>\n",
       "    <tr>\n",
       "      <th>mean</th>\n",
       "      <td>2020.0</td>\n",
       "      <td>570.481605</td>\n",
       "      <td>46719.464393</td>\n",
       "      <td>665.752468</td>\n",
       "      <td>43360.649381</td>\n",
       "      <td>70.784212</td>\n",
       "      <td>3323.738909</td>\n",
       "      <td>4854.173231</td>\n",
       "    </tr>\n",
       "    <tr>\n",
       "      <th>std</th>\n",
       "      <td>0.0</td>\n",
       "      <td>303.359636</td>\n",
       "      <td>45027.001693</td>\n",
       "      <td>889.598387</td>\n",
       "      <td>41629.808457</td>\n",
       "      <td>177.673809</td>\n",
       "      <td>9136.375750</td>\n",
       "      <td>7331.188701</td>\n",
       "    </tr>\n",
       "    <tr>\n",
       "      <th>min</th>\n",
       "      <td>2020.0</td>\n",
       "      <td>2.000000</td>\n",
       "      <td>1.000000</td>\n",
       "      <td>-1260.000000</td>\n",
       "      <td>-50689.500000</td>\n",
       "      <td>-66.500000</td>\n",
       "      <td>-7382.660000</td>\n",
       "      <td>-69786.070000</td>\n",
       "    </tr>\n",
       "    <tr>\n",
       "      <th>25%</th>\n",
       "      <td>2020.0</td>\n",
       "      <td>300.000000</td>\n",
       "      <td>33.180000</td>\n",
       "      <td>0.000000</td>\n",
       "      <td>2265.000000</td>\n",
       "      <td>0.000000</td>\n",
       "      <td>0.000000</td>\n",
       "      <td>34.050000</td>\n",
       "    </tr>\n",
       "    <tr>\n",
       "      <th>50%</th>\n",
       "      <td>2020.0</td>\n",
       "      <td>742.000000</td>\n",
       "      <td>44930.000000</td>\n",
       "      <td>0.000000</td>\n",
       "      <td>36951.715000</td>\n",
       "      <td>0.000000</td>\n",
       "      <td>0.000000</td>\n",
       "      <td>1369.105000</td>\n",
       "    </tr>\n",
       "    <tr>\n",
       "      <th>75%</th>\n",
       "      <td>2020.0</td>\n",
       "      <td>747.000000</td>\n",
       "      <td>85292.000000</td>\n",
       "      <td>1820.000000</td>\n",
       "      <td>76725.640000</td>\n",
       "      <td>1.500000</td>\n",
       "      <td>77.630000</td>\n",
       "      <td>7762.022500</td>\n",
       "    </tr>\n",
       "    <tr>\n",
       "      <th>max</th>\n",
       "      <td>2020.0</td>\n",
       "      <td>996.000000</td>\n",
       "      <td>414707.000000</td>\n",
       "      <td>4160.000000</td>\n",
       "      <td>359818.400000</td>\n",
       "      <td>3147.000000</td>\n",
       "      <td>215022.810000</td>\n",
       "      <td>650000.000000</td>\n",
       "    </tr>\n",
       "  </tbody>\n",
       "</table>\n",
       "</div>"
      ],
      "text/plain": [
       "       fiscal_year  payroll_number    base_salary  regular_hours  \\\n",
       "count     590210.0   590210.000000  590210.000000  590210.000000   \n",
       "mean        2020.0      570.481605   46719.464393     665.752468   \n",
       "std            0.0      303.359636   45027.001693     889.598387   \n",
       "min         2020.0        2.000000       1.000000   -1260.000000   \n",
       "25%         2020.0      300.000000      33.180000       0.000000   \n",
       "50%         2020.0      742.000000   44930.000000       0.000000   \n",
       "75%         2020.0      747.000000   85292.000000    1820.000000   \n",
       "max         2020.0      996.000000  414707.000000    4160.000000   \n",
       "\n",
       "       regular_gross_paid       ot_hours  total_ot_paid  total_other_pay  \n",
       "count       590210.000000  590210.000000  590210.000000    590210.000000  \n",
       "mean         43360.649381      70.784212    3323.738909      4854.173231  \n",
       "std          41629.808457     177.673809    9136.375750      7331.188701  \n",
       "min         -50689.500000     -66.500000   -7382.660000    -69786.070000  \n",
       "25%           2265.000000       0.000000       0.000000        34.050000  \n",
       "50%          36951.715000       0.000000       0.000000      1369.105000  \n",
       "75%          76725.640000       1.500000      77.630000      7762.022500  \n",
       "max         359818.400000    3147.000000  215022.810000    650000.000000  "
      ]
     },
     "execution_count": 6,
     "metadata": {},
     "output_type": "execute_result"
    }
   ],
   "source": [
    "###GRADED\n",
    "\n",
    "ans_2 = nyc_salary_data.base_salary.mean()\n",
    "display(ans_2)\n",
    "nyc_salary_data.describe()"
   ]
  },
  {
   "cell_type": "code",
   "execution_count": null,
   "metadata": {
    "deletable": false,
    "editable": false,
    "nbgrader": {
     "checksum": "9a640b2be2cab8658078a56d55a30d27",
     "grade": true,
     "grade_id": "cell-021c7662ba093b0b",
     "locked": true,
     "points": 1,
     "schema_version": 1,
     "solution": false
    }
   },
   "outputs": [],
   "source": []
  },
  {
   "cell_type": "markdown",
   "metadata": {
    "deletable": false,
    "editable": false,
    "nbgrader": {
     "checksum": "f6f4f820244f678ff851e8dbaa73f02b",
     "grade": false,
     "grade_id": "cell-72a754ce83ee3b3b",
     "locked": true,
     "schema_version": 1,
     "solution": false
    }
   },
   "source": [
    "[Back to top](#Index:) \n",
    "\n",
    "### Problem 3: Base Salary Distribution Median\n",
    "\n",
    "\n",
    "**1 Point**\n",
    "\n",
    "\n",
    "Use the pandas `.median()` method to find the median of the `base_salary` column. Assign your answer to the variable `ans_3` below."
   ]
  },
  {
   "cell_type": "code",
   "execution_count": 7,
   "metadata": {
    "deletable": false,
    "nbgrader": {
     "checksum": "7116ba86b3a29b69b0d0e74ebf76943b",
     "grade": false,
     "grade_id": "cell-0851cc6cc89a3fba",
     "locked": false,
     "schema_version": 1,
     "solution": true
    }
   },
   "outputs": [
    {
     "data": {
      "text/plain": [
       "44930.0"
      ]
     },
     "metadata": {},
     "output_type": "display_data"
    }
   ],
   "source": [
    "###GRADED\n",
    "\n",
    "ans_3 = nyc_salary_data.base_salary.median()\n",
    "display(ans_3)"
   ]
  },
  {
   "cell_type": "code",
   "execution_count": null,
   "metadata": {
    "deletable": false,
    "editable": false,
    "nbgrader": {
     "checksum": "7c40cd67efc1ffee60fb43b149244866",
     "grade": true,
     "grade_id": "cell-db0b2a794549b1cb",
     "locked": true,
     "points": 1,
     "schema_version": 1,
     "solution": false
    }
   },
   "outputs": [],
   "source": []
  },
  {
   "cell_type": "markdown",
   "metadata": {
    "deletable": false,
    "editable": false,
    "nbgrader": {
     "checksum": "47ae3c0f21e9f2518ec2ac1895bc4f79",
     "grade": false,
     "grade_id": "cell-46bcd666fce27157",
     "locked": true,
     "schema_version": 1,
     "solution": false
    }
   },
   "source": [
    "[Back to top](#Index:) \n",
    "\n",
    "### Problem 4: Determining Quartiles\n",
    "\n",
    "**2 Points**\n",
    "\n",
    "- The first quartile in our data is found by arranging the data from least to greatest and determining the median of the lower half of the data.  \n",
    "- The third quartile is the median of the upper half of the data.  \n",
    "- Pandas has a `.quantile()` method that accepts an argument as a single value or list of values of quantiles to compute.  \n",
    "- Use the `.quantile()` method to determine the first and third quartile of the `base_salary` data.  \n",
    "- Assign your answers to the variables `first_quartile` and `third_quartile` below."
   ]
  },
  {
   "cell_type": "code",
   "execution_count": 8,
   "metadata": {
    "deletable": false,
    "nbgrader": {
     "checksum": "3fc911df1061d3fa19bfe2796ba49011",
     "grade": false,
     "grade_id": "cell-a5e27f0519a15a18",
     "locked": false,
     "schema_version": 1,
     "solution": true
    }
   },
   "outputs": [
    {
     "data": {
      "text/plain": [
       "33.18"
      ]
     },
     "metadata": {},
     "output_type": "display_data"
    },
    {
     "data": {
      "text/plain": [
       "85292.0"
      ]
     },
     "metadata": {},
     "output_type": "display_data"
    }
   ],
   "source": [
    "###GRADED\n",
    "\n",
    "first_quartile = nyc_salary_data.base_salary.quantile(q=0.25)\n",
    "third_quartile = nyc_salary_data.base_salary.quantile(q=0.75)\n",
    "\n",
    "# YOUR CODE HERE\n",
    "display(first_quartile)\n",
    "display(third_quartile)"
   ]
  },
  {
   "cell_type": "code",
   "execution_count": null,
   "metadata": {
    "deletable": false,
    "editable": false,
    "nbgrader": {
     "checksum": "2315d1245ed57847a59ecbded695b4fc",
     "grade": true,
     "grade_id": "cell-4545ee47429c4ac0",
     "locked": true,
     "points": 2,
     "schema_version": 1,
     "solution": false
    }
   },
   "outputs": [],
   "source": []
  },
  {
   "cell_type": "markdown",
   "metadata": {
    "deletable": false,
    "editable": false,
    "nbgrader": {
     "checksum": "5ce783ecddb0bdd783b5d2d12ded8dc3",
     "grade": false,
     "grade_id": "cell-00ad71de2eb65fbb",
     "locked": true,
     "schema_version": 1,
     "solution": false
    }
   },
   "source": [
    "[Back to top](#Index:) \n",
    "\n",
    "### Problem 5: Interquartile Range\n",
    "\n",
    "**1 Point**\n",
    "\n",
    "The Interquartile Range (IQR) is the distance between the third and first quartile.  \n",
    "\n",
    "$$\\text{IQR} = Q_3 - Q_1$$\n",
    "\n",
    "Use your work from problem 4 to determine the IQR for the `base_salary` column and assign it to the `iqr` variable below."
   ]
  },
  {
   "cell_type": "code",
   "execution_count": 9,
   "metadata": {
    "deletable": false,
    "nbgrader": {
     "checksum": "e3e0e35c411e088babd5ba6c961308ed",
     "grade": false,
     "grade_id": "cell-f282ff23c443a932",
     "locked": false,
     "schema_version": 1,
     "solution": true
    }
   },
   "outputs": [
    {
     "data": {
      "text/plain": [
       "85258.82"
      ]
     },
     "metadata": {},
     "output_type": "display_data"
    }
   ],
   "source": [
    "###GRADED\n",
    "\n",
    "iqr = third_quartile - first_quartile\n",
    "\n",
    "# YOUR CODE HERE\n",
    "display(iqr)"
   ]
  },
  {
   "cell_type": "code",
   "execution_count": null,
   "metadata": {
    "deletable": false,
    "editable": false,
    "nbgrader": {
     "checksum": "beac8210160abb5c7d4480f393f37a39",
     "grade": true,
     "grade_id": "cell-72b48ffc6a4d8b0f",
     "locked": true,
     "points": 1,
     "schema_version": 1,
     "solution": false
    }
   },
   "outputs": [],
   "source": []
  },
  {
   "cell_type": "markdown",
   "metadata": {
    "deletable": false,
    "editable": false,
    "nbgrader": {
     "checksum": "e58550d3ca2c3988dea2b85c1d42b2b1",
     "grade": false,
     "grade_id": "cell-6595db2df62a8894",
     "locked": true,
     "schema_version": 1,
     "solution": false
    }
   },
   "source": [
    "[Back to top](#Index:) \n",
    "\n",
    "### Problem 6: Rule for Outliers\n",
    "\n",
    "**2 Points**\n",
    "\n",
    "We can use the IQR to determine boundaries for outliers.  One such rule of thumb is that any values $1.5 \\times IQR$ above the third quartile or below the first are considered outliers.  \n",
    "\n",
    "Calculate the lower and upper boundaries for outliers for the `base_salary` column using the IQR rule.\n",
    "\n",
    "Assign your solutions to the variables `lower` and `upper` below."
   ]
  },
  {
   "cell_type": "code",
   "execution_count": 10,
   "metadata": {
    "deletable": false,
    "nbgrader": {
     "checksum": "0c6bf76298fd1f60dd86883a689aef45",
     "grade": false,
     "grade_id": "cell-d4483aa3bbe2f696",
     "locked": false,
     "schema_version": 1,
     "solution": true
    }
   },
   "outputs": [
    {
     "data": {
      "text/plain": [
       "-127855.05000000002"
      ]
     },
     "metadata": {},
     "output_type": "display_data"
    },
    {
     "data": {
      "text/plain": [
       "213180.23"
      ]
     },
     "metadata": {},
     "output_type": "display_data"
    },
    {
     "data": {
      "text/plain": [
       "count       482.000000\n",
       "mean     231870.722884\n",
       "std       17000.955050\n",
       "min      213210.000000\n",
       "25%      221293.000000\n",
       "50%      227908.000000\n",
       "75%      240511.000000\n",
       "max      414707.000000\n",
       "Name: base_salary, dtype: float64"
      ]
     },
     "execution_count": 10,
     "metadata": {},
     "output_type": "execute_result"
    },
    {
     "data": {
      "image/png": "[encoded data removed]",
      "text/plain": [
       "<Figure size 640x480 with 1 Axes>"
      ]
     },
     "metadata": {},
     "output_type": "display_data"
    }
   ],
   "source": [
    "###GRADED\n",
    "\n",
    "lower = first_quartile - 1.5*iqr\n",
    "upper = third_quartile + 1.5*iqr\n",
    "\n",
    "# YOUR CODE HERE\n",
    "display(lower)\n",
    "display(upper)\n",
    "\n",
    "nyc_salary_data.base_salary.plot(grid=True)\n",
    "ax = plt.hlines(lower, 0, len(nyc_salary_data.base_salary.to_list()), color=\"green\")\n",
    "ax = plt.hlines(upper, 0, len(nyc_salary_data.base_salary.to_list()), color=\"green\")\n",
    "\n",
    "nyc_salary_data.loc[(nyc_salary_data.base_salary < lower) | (nyc_salary_data.base_salary > upper)].base_salary.describe()"
   ]
  },
  {
   "cell_type": "code",
   "execution_count": null,
   "metadata": {
    "deletable": false,
    "editable": false,
    "nbgrader": {
     "checksum": "cf090ff8aef183ef63e768e901091bbd",
     "grade": true,
     "grade_id": "cell-8d9d8d56d9e50b1c",
     "locked": true,
     "points": 2,
     "schema_version": 1,
     "solution": false
    }
   },
   "outputs": [],
   "source": []
  },
  {
   "cell_type": "markdown",
   "metadata": {
    "deletable": false,
    "editable": false,
    "nbgrader": {
     "checksum": "7fb0170416302783adb70ed059e7aeb8",
     "grade": false,
     "grade_id": "cell-1085da663296e047",
     "locked": true,
     "schema_version": 1,
     "solution": false
    }
   },
   "source": [
    "[Back to top](#Index:) \n",
    "\n",
    "### Problem 7: Dropping Outliers\n",
    "\n",
    "\n",
    "**1 Point**\n",
    "\n",
    "\n",
    "With the upper and lower boundaries in place, we want to drop outliers from the dataset.  Use pandas to limit the data based on outliers using the $1.5 \\times IQR$ rule on the `base_salary` column.  Assign the resulting DataFrame to `salaries_no_outlier` below."
   ]
  },
  {
   "cell_type": "code",
   "execution_count": 11,
   "metadata": {
    "deletable": false,
    "nbgrader": {
     "checksum": "d8edc85a9070553e8e65bb96a429d430",
     "grade": false,
     "grade_id": "cell-04ad44c7e6a67427",
     "locked": false,
     "schema_version": 1,
     "solution": true
    }
   },
   "outputs": [
    {
     "data": {
      "text/html": [
       "<div>\n",
       "<style scoped>\n",
       "    .dataframe tbody tr th:only-of-type {\n",
       "        vertical-align: middle;\n",
       "    }\n",
       "\n",
       "    .dataframe tbody tr th {\n",
       "        vertical-align: top;\n",
       "    }\n",
       "\n",
       "    .dataframe thead th {\n",
       "        text-align: right;\n",
       "    }\n",
       "</style>\n",
       "<table border=\"1\" class=\"dataframe\">\n",
       "  <thead>\n",
       "    <tr style=\"text-align: right;\">\n",
       "      <th></th>\n",
       "      <th>fiscal_year</th>\n",
       "      <th>payroll_number</th>\n",
       "      <th>base_salary</th>\n",
       "      <th>regular_hours</th>\n",
       "      <th>regular_gross_paid</th>\n",
       "      <th>ot_hours</th>\n",
       "      <th>total_ot_paid</th>\n",
       "      <th>total_other_pay</th>\n",
       "    </tr>\n",
       "  </thead>\n",
       "  <tbody>\n",
       "    <tr>\n",
       "      <th>count</th>\n",
       "      <td>589728.0</td>\n",
       "      <td>589728.000000</td>\n",
       "      <td>589728.000000</td>\n",
       "      <td>589728.000000</td>\n",
       "      <td>589728.000000</td>\n",
       "      <td>589728.000000</td>\n",
       "      <td>589728.000000</td>\n",
       "      <td>589728.000000</td>\n",
       "    </tr>\n",
       "    <tr>\n",
       "      <th>mean</th>\n",
       "      <td>2020.0</td>\n",
       "      <td>570.628171</td>\n",
       "      <td>46568.135464</td>\n",
       "      <td>665.031544</td>\n",
       "      <td>43238.221586</td>\n",
       "      <td>70.838918</td>\n",
       "      <td>3326.139210</td>\n",
       "      <td>4848.591142</td>\n",
       "    </tr>\n",
       "    <tr>\n",
       "      <th>std</th>\n",
       "      <td>0.0</td>\n",
       "      <td>303.244174</td>\n",
       "      <td>44730.420549</td>\n",
       "      <td>889.407882</td>\n",
       "      <td>41375.445613</td>\n",
       "      <td>177.734678</td>\n",
       "      <td>9139.415742</td>\n",
       "      <td>7250.913162</td>\n",
       "    </tr>\n",
       "    <tr>\n",
       "      <th>min</th>\n",
       "      <td>2020.0</td>\n",
       "      <td>2.000000</td>\n",
       "      <td>1.000000</td>\n",
       "      <td>-1260.000000</td>\n",
       "      <td>-50689.500000</td>\n",
       "      <td>-66.500000</td>\n",
       "      <td>-7382.660000</td>\n",
       "      <td>-69786.070000</td>\n",
       "    </tr>\n",
       "    <tr>\n",
       "      <th>25%</th>\n",
       "      <td>2020.0</td>\n",
       "      <td>300.000000</td>\n",
       "      <td>33.180000</td>\n",
       "      <td>0.000000</td>\n",
       "      <td>2260.000000</td>\n",
       "      <td>0.000000</td>\n",
       "      <td>0.000000</td>\n",
       "      <td>34.400000</td>\n",
       "    </tr>\n",
       "    <tr>\n",
       "      <th>50%</th>\n",
       "      <td>2020.0</td>\n",
       "      <td>742.000000</td>\n",
       "      <td>44930.000000</td>\n",
       "      <td>0.000000</td>\n",
       "      <td>36872.940000</td>\n",
       "      <td>0.000000</td>\n",
       "      <td>0.000000</td>\n",
       "      <td>1371.070000</td>\n",
       "    </tr>\n",
       "    <tr>\n",
       "      <th>75%</th>\n",
       "      <td>2020.0</td>\n",
       "      <td>747.000000</td>\n",
       "      <td>85292.000000</td>\n",
       "      <td>1820.000000</td>\n",
       "      <td>76688.610000</td>\n",
       "      <td>1.750000</td>\n",
       "      <td>79.112500</td>\n",
       "      <td>7765.262500</td>\n",
       "    </tr>\n",
       "    <tr>\n",
       "      <th>max</th>\n",
       "      <td>2020.0</td>\n",
       "      <td>996.000000</td>\n",
       "      <td>213000.000000</td>\n",
       "      <td>4160.000000</td>\n",
       "      <td>230597.550000</td>\n",
       "      <td>3147.000000</td>\n",
       "      <td>215022.810000</td>\n",
       "      <td>650000.000000</td>\n",
       "    </tr>\n",
       "  </tbody>\n",
       "</table>\n",
       "</div>"
      ],
      "text/plain": [
       "       fiscal_year  payroll_number    base_salary  regular_hours  \\\n",
       "count     589728.0   589728.000000  589728.000000  589728.000000   \n",
       "mean        2020.0      570.628171   46568.135464     665.031544   \n",
       "std            0.0      303.244174   44730.420549     889.407882   \n",
       "min         2020.0        2.000000       1.000000   -1260.000000   \n",
       "25%         2020.0      300.000000      33.180000       0.000000   \n",
       "50%         2020.0      742.000000   44930.000000       0.000000   \n",
       "75%         2020.0      747.000000   85292.000000    1820.000000   \n",
       "max         2020.0      996.000000  213000.000000    4160.000000   \n",
       "\n",
       "       regular_gross_paid       ot_hours  total_ot_paid  total_other_pay  \n",
       "count       589728.000000  589728.000000  589728.000000    589728.000000  \n",
       "mean         43238.221586      70.838918    3326.139210      4848.591142  \n",
       "std          41375.445613     177.734678    9139.415742      7250.913162  \n",
       "min         -50689.500000     -66.500000   -7382.660000    -69786.070000  \n",
       "25%           2260.000000       0.000000       0.000000        34.400000  \n",
       "50%          36872.940000       0.000000       0.000000      1371.070000  \n",
       "75%          76688.610000       1.750000      79.112500      7765.262500  \n",
       "max         230597.550000    3147.000000  215022.810000    650000.000000  "
      ]
     },
     "execution_count": 11,
     "metadata": {},
     "output_type": "execute_result"
    }
   ],
   "source": [
    "###GRADED\n",
    "\n",
    "salaries_no_outlier = nyc_salary_data.loc[(nyc_salary_data.base_salary >= lower) & (nyc_salary_data.base_salary <= upper)]\n",
    "\n",
    "salaries_no_outlier.describe()"
   ]
  },
  {
   "cell_type": "code",
   "execution_count": null,
   "metadata": {
    "deletable": false,
    "editable": false,
    "nbgrader": {
     "checksum": "e7c7e350847cda8370d73f7276622d67",
     "grade": true,
     "grade_id": "cell-662b72b4625742d3",
     "locked": true,
     "points": 1,
     "schema_version": 1,
     "solution": false
    }
   },
   "outputs": [],
   "source": []
  },
  {
   "cell_type": "markdown",
   "metadata": {
    "deletable": false,
    "editable": false,
    "nbgrader": {
     "checksum": "bff77fffbc129d38acdf9d9b92681de7",
     "grade": false,
     "grade_id": "cell-90cc908f40a87441",
     "locked": true,
     "schema_version": 1,
     "solution": false
    }
   },
   "source": [
    "[Back to top](#Index:) \n",
    "\n",
    "### Problem 8: Finding the Mean with no Outliers\n",
    "\n",
    "**1 Point**\n",
    "\n",
    "Now that the outliers have been removed, we determine the mean of the `base_salary` column.  Assign your answer to `mean_no_outliers` below."
   ]
  },
  {
   "cell_type": "code",
   "execution_count": 12,
   "metadata": {
    "deletable": false,
    "nbgrader": {
     "checksum": "5e55a1dec5a732ddd24a3ea9d7ad7193",
     "grade": false,
     "grade_id": "cell-3e40439d3f97b5e1",
     "locked": false,
     "schema_version": 1,
     "solution": true
    }
   },
   "outputs": [
    {
     "data": {
      "text/plain": [
       "46568.13546421399"
      ]
     },
     "metadata": {},
     "output_type": "display_data"
    }
   ],
   "source": [
    "###GRADED\n",
    "\n",
    "mean_no_outliers = salaries_no_outlier.base_salary.mean()\n",
    "\n",
    "# YOUR CODE HERE\n",
    "display(mean_no_outliers)"
   ]
  },
  {
   "cell_type": "code",
   "execution_count": null,
   "metadata": {
    "deletable": false,
    "editable": false,
    "nbgrader": {
     "checksum": "d80a6bc8792cc5917f69e5b5aab5d0ef",
     "grade": true,
     "grade_id": "cell-1ced8f8030307f68",
     "locked": true,
     "points": 1,
     "schema_version": 1,
     "solution": false
    }
   },
   "outputs": [],
   "source": []
  },
  {
   "cell_type": "markdown",
   "metadata": {
    "deletable": false,
    "editable": false,
    "nbgrader": {
     "checksum": "0d4a2a36654023bf08322229694b7138",
     "grade": false,
     "grade_id": "cell-0ea498148d875ba5",
     "locked": true,
     "schema_version": 1,
     "solution": false
    }
   },
   "source": [
    "[Back to top](#Index:) \n",
    "\n",
    "### Problem 9: Finding the Median with no Outliers\n",
    "\n",
    "**2 Points**\n",
    "\n",
    "\n",
    "Now, determine the median of the `base_salary` column with the outlier removed.  Assign your solution to the variable `median_no_outliers` below."
   ]
  },
  {
   "cell_type": "code",
   "execution_count": 13,
   "metadata": {
    "deletable": false,
    "nbgrader": {
     "checksum": "57b1ea2cc8b30c3d5402857a8bbd0831",
     "grade": false,
     "grade_id": "cell-baac95078eee6981",
     "locked": false,
     "schema_version": 1,
     "solution": true
    }
   },
   "outputs": [
    {
     "data": {
      "text/plain": [
       "44930.0"
      ]
     },
     "metadata": {},
     "output_type": "display_data"
    }
   ],
   "source": [
    "###GRADED\n",
    "\n",
    "median_no_outliers = salaries_no_outlier.base_salary.median()\n",
    "\n",
    "display(median_no_outliers)"
   ]
  },
  {
   "cell_type": "code",
   "execution_count": null,
   "metadata": {
    "deletable": false,
    "editable": false,
    "nbgrader": {
     "checksum": "2b6cebc88c46c6ac33d42094d61e244b",
     "grade": true,
     "grade_id": "cell-44be113cb3469259",
     "locked": true,
     "points": 2,
     "schema_version": 1,
     "solution": false
    }
   },
   "outputs": [],
   "source": []
  },
  {
   "cell_type": "markdown",
   "metadata": {
    "deletable": false,
    "editable": false,
    "nbgrader": {
     "checksum": "c811f18f03ca44cb2dcd59fc4e525579",
     "grade": false,
     "grade_id": "cell-292754f7d6cf5c3b",
     "locked": true,
     "schema_version": 1,
     "solution": false
    }
   },
   "source": [
    "[Back to top](#Index:) \n",
    "\n",
    "### Problem 10: Standard Deviation with `numpy`\n",
    "\n",
    "**2 Points**\n",
    "\n",
    "\n",
    "An alternative measure for the spread of a dataset to the IQR is the **standard deviation**.  Both pandas and numpy have functions for computing the standard deviation, however they have different assumptions about the data.  To begin, we will use the `np.std()` method to determine the standard deviation of the `base_salary` column from both our datasets.  Assign your results to the variable `std_numpy_outliers` and `std_numpy_no_outliers` below."
   ]
  },
  {
   "cell_type": "code",
   "execution_count": 14,
   "metadata": {
    "deletable": false,
    "nbgrader": {
     "checksum": "f0f601fb041556237b6c7c69e08235ee",
     "grade": false,
     "grade_id": "cell-0dc0a6af67b36a7e",
     "locked": false,
     "schema_version": 1,
     "solution": true
    }
   },
   "outputs": [
    {
     "data": {
      "text/plain": [
       "[45026.96354833032, 44730.38262461151]"
      ]
     },
     "metadata": {},
     "output_type": "display_data"
    }
   ],
   "source": [
    "###GRADED\n",
    "\n",
    "std_numpy_outliers = np.std(nyc_salary_data.base_salary)\n",
    "std_numpy_no_outliers = np.std(salaries_no_outlier.base_salary)\n",
    "\n",
    "# YOUR CODE HERE\n",
    "display([std_numpy_outliers, std_numpy_no_outliers])"
   ]
  },
  {
   "cell_type": "code",
   "execution_count": null,
   "metadata": {
    "deletable": false,
    "editable": false,
    "nbgrader": {
     "checksum": "11cc144bc7cf4d0baed2445ec91897f3",
     "grade": true,
     "grade_id": "cell-1ee20e9b21ae7f57",
     "locked": true,
     "points": 2,
     "schema_version": 1,
     "solution": false
    }
   },
   "outputs": [],
   "source": []
  },
  {
   "cell_type": "markdown",
   "metadata": {
    "deletable": false,
    "editable": false,
    "nbgrader": {
     "checksum": "6030a306918f1f9e48b75107243e1583",
     "grade": false,
     "grade_id": "cell-12476fd3906786d0",
     "locked": true,
     "schema_version": 1,
     "solution": false
    }
   },
   "source": [
    "[Back to top](#Index:) \n",
    "\n",
    "### Problem 11: Standard Deviation with `pandas`\n",
    "\n",
    "**2 Points**\n",
    "\n",
    "\n",
    "\n",
    "Now, we will use pandas to determine the standard deviation of the `base_salary` column.  Assign the standard deviation from pandas to `std_pandas_no_outliers` and `std_pandas_outliers` respectively below."
   ]
  },
  {
   "cell_type": "code",
   "execution_count": 15,
   "metadata": {
    "deletable": false,
    "nbgrader": {
     "checksum": "ab3fbc56165bd2b5e92feba68bd1c373",
     "grade": false,
     "grade_id": "cell-83987103bba54493",
     "locked": false,
     "schema_version": 1,
     "solution": true
    }
   },
   "outputs": [
    {
     "data": {
      "text/plain": [
       "[45027.00169324549, 44730.420549247545]"
      ]
     },
     "metadata": {},
     "output_type": "display_data"
    }
   ],
   "source": [
    "###GRADED\n",
    "\n",
    "std_pandas_outliers = nyc_salary_data.base_salary.std()\n",
    "std_pandas_no_outliers = salaries_no_outlier.base_salary.std()\n",
    "\n",
    "# YOUR CODE HERE\n",
    "display([std_pandas_outliers, std_pandas_no_outliers])"
   ]
  },
  {
   "cell_type": "code",
   "execution_count": null,
   "metadata": {
    "deletable": false,
    "editable": false,
    "nbgrader": {
     "checksum": "93e396064d304e83aeba840da4b8dce4",
     "grade": true,
     "grade_id": "cell-4e5d959f773a99c6",
     "locked": true,
     "points": 2,
     "schema_version": 1,
     "solution": false
    }
   },
   "outputs": [],
   "source": []
  },
  {
   "cell_type": "markdown",
   "metadata": {
    "deletable": false,
    "editable": false,
    "nbgrader": {
     "checksum": "c23f838fa24ee901a3b327d4ab2cbccb",
     "grade": false,
     "grade_id": "cell-52d70c1c68b13d51",
     "locked": true,
     "schema_version": 1,
     "solution": false
    }
   },
   "source": [
    "### Why are these different?\n",
    "\n",
    "Pandas and NumPy make different assumptions about the data, which is why we receive slightly different results.  This involves the default degree of freedom argument in the functions.  From the numpy docs we have:\n",
    "\n",
    "```\n",
    "ddof: int, optional\n",
    "Means Delta Degrees of Freedom. The divisor used in calculations is N - ddof, where N represents the number of elements. By default ddof is zero.\n",
    "```\n",
    "\n",
    "and from pandas we find:\n",
    "\n",
    "```\n",
    "ddof: int, default 1\n",
    "Delta Degrees of Freedom. The divisor used in calculations is N - ddof, where N represents the number of elements.\n",
    "```\n",
    "\n",
    "The main reason for the different assumptions is motivated by the fact that all the deviations from the mean will add to zero.  This means we would always know the the last deviation if we know the previous $n-1$.  Only $n-1$ are able to vary freely so the average is determined by dividing the total by $n-1$.  In practice the values won't differ greatly, it is important to recognize that there are some different assumptions however.  "
   ]
  },
  {
   "cell_type": "markdown",
   "metadata": {
    "deletable": false,
    "editable": false,
    "nbgrader": {
     "checksum": "48e54f336344a5767914cb06bc9a5a10",
     "grade": false,
     "grade_id": "cell-5ed6a1941c009934",
     "locked": true,
     "schema_version": 1,
     "solution": false
    }
   },
   "source": [
    "### A Second Small Example\n",
    "\n",
    "The data below relates to salmon smolts (young salmon) and the reflectance of their skin as a measure for readiness for migration."
   ]
  },
  {
   "cell_type": "code",
   "execution_count": 16,
   "metadata": {
    "deletable": false,
    "editable": false,
    "nbgrader": {
     "checksum": "3990de9393d28ef2e8c980bd99eddf5a",
     "grade": false,
     "grade_id": "cell-30a95ce8ab2f4916",
     "locked": true,
     "schema_version": 1,
     "solution": false
    }
   },
   "outputs": [],
   "source": [
    "smolt = pd.read_csv('data/smolts.csv', index_col=  0)"
   ]
  },
  {
   "cell_type": "code",
   "execution_count": 17,
   "metadata": {
    "deletable": false,
    "editable": false,
    "nbgrader": {
     "checksum": "ce649cdd889a0ae92a8265ef76c554f9",
     "grade": false,
     "grade_id": "cell-816863c823592a27",
     "locked": true,
     "schema_version": 1,
     "solution": false
    }
   },
   "outputs": [
    {
     "data": {
      "text/html": [
       "<div>\n",
       "<style scoped>\n",
       "    .dataframe tbody tr th:only-of-type {\n",
       "        vertical-align: middle;\n",
       "    }\n",
       "\n",
       "    .dataframe tbody tr th {\n",
       "        vertical-align: top;\n",
       "    }\n",
       "\n",
       "    .dataframe thead th {\n",
       "        text-align: right;\n",
       "    }\n",
       "</style>\n",
       "<table border=\"1\" class=\"dataframe\">\n",
       "  <thead>\n",
       "    <tr style=\"text-align: right;\">\n",
       "      <th></th>\n",
       "      <th>Reflectance</th>\n",
       "    </tr>\n",
       "    <tr>\n",
       "      <th>ID</th>\n",
       "      <th></th>\n",
       "    </tr>\n",
       "  </thead>\n",
       "  <tbody>\n",
       "    <tr>\n",
       "      <th>1</th>\n",
       "      <td>57.62747</td>\n",
       "    </tr>\n",
       "    <tr>\n",
       "      <th>2</th>\n",
       "      <td>54.83248</td>\n",
       "    </tr>\n",
       "    <tr>\n",
       "      <th>3</th>\n",
       "      <td>63.44216</td>\n",
       "    </tr>\n",
       "    <tr>\n",
       "      <th>4</th>\n",
       "      <td>57.01707</td>\n",
       "    </tr>\n",
       "    <tr>\n",
       "      <th>5</th>\n",
       "      <td>54.71893</td>\n",
       "    </tr>\n",
       "  </tbody>\n",
       "</table>\n",
       "</div>"
      ],
      "text/plain": [
       "    Reflectance\n",
       "ID             \n",
       "1      57.62747\n",
       "2      54.83248\n",
       "3      63.44216\n",
       "4      57.01707\n",
       "5      54.71893"
      ]
     },
     "execution_count": 17,
     "metadata": {},
     "output_type": "execute_result"
    }
   ],
   "source": [
    "smolt.head()"
   ]
  },
  {
   "cell_type": "markdown",
   "metadata": {
    "deletable": false,
    "editable": false,
    "nbgrader": {
     "checksum": "2dfa2e3429c28ea9ea11b1fa8c93d0b8",
     "grade": false,
     "grade_id": "cell-f54e6eff6b6f3732",
     "locked": true,
     "schema_version": 1,
     "solution": false
    }
   },
   "source": [
    "[Back to top](#Index:) \n",
    "\n",
    "### Problem 12: Measure of Center\n",
    "\n",
    "**2 Points**\n",
    "\n",
    "\n",
    "Determine the mean and median of the `Reflectance` column, save these to the variable `smolt_mean` and `smolt_median` below.  Which of the measures do you believe more appropriate?"
   ]
  },
  {
   "cell_type": "code",
   "execution_count": 18,
   "metadata": {
    "deletable": false,
    "nbgrader": {
     "checksum": "e6992ae6b3484c35409b1f463e0b9294",
     "grade": false,
     "grade_id": "cell-85dd0d5626022c31",
     "locked": false,
     "schema_version": 1,
     "solution": true
    }
   },
   "outputs": [
    {
     "data": {
      "text/plain": [
       "[50.8920722, 49.51086]"
      ]
     },
     "metadata": {},
     "output_type": "display_data"
    }
   ],
   "source": [
    "###GRADED\n",
    "\n",
    "smolt_mean = smolt.Reflectance.mean()\n",
    "smolt_median = smolt.Reflectance.median()\n",
    "\n",
    "# YOUR CODE HERE\n",
    "display([smolt_mean, smolt_median])"
   ]
  },
  {
   "cell_type": "code",
   "execution_count": null,
   "metadata": {
    "deletable": false,
    "editable": false,
    "nbgrader": {
     "checksum": "93c120f38d65c18f841e68097a251eb9",
     "grade": true,
     "grade_id": "cell-a1c3bc9c23f0fad5",
     "locked": true,
     "points": 2,
     "schema_version": 1,
     "solution": false
    }
   },
   "outputs": [],
   "source": []
  },
  {
   "cell_type": "markdown",
   "metadata": {
    "deletable": false,
    "editable": false,
    "nbgrader": {
     "checksum": "a715b851530d066ae19b7580ac10f501",
     "grade": false,
     "grade_id": "cell-5436ad9106dc3067",
     "locked": true,
     "schema_version": 1,
     "solution": false
    }
   },
   "source": [
    "[Back to top](#Index:) \n",
    "\n",
    "### Problem 13: Measure of Spread\n",
    "\n",
    "**2 Points**\n",
    "\n",
    "Compute the standard deviation and the quartiles of the `Reflectance` column using pandas. Save your results to `smolt_std`, `smolt_first_quartile` and `smolt_third_quartile` below.  Which of these do you prefer for describing the spread of the data?  "
   ]
  },
  {
   "cell_type": "code",
   "execution_count": 19,
   "metadata": {
    "deletable": false,
    "nbgrader": {
     "checksum": "2328d2401d9fd1aa9186471ab627cfdd",
     "grade": false,
     "grade_id": "cell-75e152884ddedc1f",
     "locked": false,
     "schema_version": 1,
     "solution": true
    }
   },
   "outputs": [
    {
     "data": {
      "text/plain": [
       "[8.803114320188007, 43.803225000000005, 56.7966225]"
      ]
     },
     "metadata": {},
     "output_type": "display_data"
    }
   ],
   "source": [
    "###GRADED\n",
    "\n",
    "smolt_std = smolt.Reflectance.std()\n",
    "smolt_first_quartile = smolt.Reflectance.quantile(q=0.25)\n",
    "smolt_third_quartile = smolt.Reflectance.quantile(q=0.75)\n",
    "\n",
    "display([smolt_std, smolt_first_quartile, smolt_third_quartile])"
   ]
  },
  {
   "cell_type": "code",
   "execution_count": null,
   "metadata": {
    "deletable": false,
    "editable": false,
    "nbgrader": {
     "checksum": "2b6b41479dbbd117730edc4d827e5c90",
     "grade": true,
     "grade_id": "cell-1242564880582fda",
     "locked": true,
     "points": 2,
     "schema_version": 1,
     "solution": false
    }
   },
   "outputs": [],
   "source": []
  }
 ],
 "metadata": {
  "kernelspec": {
   "display_name": "Python 3",
   "language": "python",
   "name": "python3"
  },
  "language_info": {
   "codemirror_mode": {
    "name": "ipython",
    "version": 3
   },
   "file_extension": ".py",
   "mimetype": "text/x-python",
   "name": "python",
   "nbconvert_exporter": "python",
   "pygments_lexer": "ipython3",
   "version": "3.9.2"
  },
  "widgets": {
   "application/vnd.jupyter.widget-state+json": {
    "state": {},
    "version_major": 2,
    "version_minor": 0
   }
  }
 },
 "nbformat": 4,
 "nbformat_minor": 4
}
