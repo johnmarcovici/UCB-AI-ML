{
 "cells": [
  {
   "cell_type": "markdown",
   "metadata": {
    "deletable": false,
    "editable": false,
    "id": "8lBFNC7Zq4uz",
    "nbgrader": {
     "cell_type": "markdown",
     "checksum": "6f0871d27cefa6e024f0f274470687a9",
     "grade": false,
     "grade_id": "cell-b932fb3113b39867",
     "locked": true,
     "schema_version": 3,
     "solution": false
    }
   },
   "source": [
    "### Codio Activity 15.7: Gradient Descent with Two Features\n",
    "\n",
    "**Expected Time = 60 minutes**\n",
    "\n",
    "**Total Points = 40**\n",
    "\n",
    "This activity focuses on using gradient descent with two features to find the optimal parameters for a regression model.  You will use the formulas for the gradients given in the lecture together with a small synthetic dataset to explore building a regression model with two variables.\n",
    "\n",
    "#### Index\n",
    "\n",
    "- [Problem 1](#-Problem-1)\n",
    "- [Problem 2](#-Problem-2)\n",
    "- [Problem 3](#-Problem-3)\n",
    "- [Problem 4](#-Problem-4)"
   ]
  },
  {
   "cell_type": "code",
   "execution_count": 16,
   "metadata": {
    "id": "3V9lq7d0rGS6"
   },
   "outputs": [],
   "source": [
    "import numpy as np\n",
    "import matplotlib.pyplot as plt\n",
    "import pandas as pd\n",
    "import sympy as sy\n",
    "from mpl_toolkits import mplot3d\n",
    "from sklearn.linear_model import LinearRegression"
   ]
  },
  {
   "cell_type": "markdown",
   "metadata": {
    "deletable": false,
    "editable": false,
    "nbgrader": {
     "cell_type": "markdown",
     "checksum": "7a78dbcfc4a2679624f33ffd8ae1ac7d",
     "grade": false,
     "grade_id": "cell-4b669aae15856864",
     "locked": true,
     "schema_version": 3,
     "solution": false
    }
   },
   "source": [
    "### The Data\n",
    "\n",
    "Below, a simple dataset is created around the line $y = 4.1x + 12.5 + \\epsilon$ where $\\epsilon$ are randomly generated values drawn from a normal distribution $N(0, 2)$.  This means we want our model to uncover something close to $\\theta_0 = 12.5$ and $\\theta_1 = 4.1$."
   ]
  },
  {
   "cell_type": "code",
   "execution_count": 17,
   "metadata": {
    "id": "M01y7YoGru-s"
   },
   "outputs": [
    {
     "data": {
      "text/plain": [
       "<matplotlib.collections.PathCollection at 0x7ff3847a1780>"
      ]
     },
     "execution_count": 17,
     "metadata": {},
     "output_type": "execute_result"
    },
    {
     "data": {
      "image/png": "[encoded data removed]",
      "text/plain": [
       "<Figure size 640x480 with 1 Axes>"
      ]
     },
     "metadata": {},
     "output_type": "display_data"
    }
   ],
   "source": [
    "np.random.seed(42)\n",
    "x = np.linspace(0, 5, 100)\n",
    "y = 12.5 + 4.1 * x + np.random.normal(size=100, scale=2)\n",
    "plt.scatter(x, y)"
   ]
  },
  {
   "cell_type": "markdown",
   "metadata": {
    "deletable": false,
    "editable": false,
    "nbgrader": {
     "cell_type": "markdown",
     "checksum": "ab803aaeb58e7556a585286f105355cc",
     "grade": false,
     "grade_id": "cell-b6782a11323e9040",
     "locked": true,
     "schema_version": 3,
     "solution": false
    }
   },
   "source": [
    "[Back to top](#-Index)\n",
    "\n",
    "### Problem 1\n",
    "\n",
    "#### Adding a Bias Term\n",
    "\n",
    "**10 Points**\n",
    "\n",
    "Your two variable model will use a column of ones to stand in as the multiplier of $\\theta_0$.  Create a DataFrame with columns `['bias', 'x']` that contains a column of ones and the data `x`."
   ]
  },
  {
   "cell_type": "code",
   "execution_count": 18,
   "metadata": {
    "deletable": false,
    "nbgrader": {
     "cell_type": "code",
     "checksum": "85840811925fc78aeae5470d280895e5",
     "grade": false,
     "grade_id": "cell-dafb50ab2f85f477",
     "locked": false,
     "schema_version": 3,
     "solution": true
    }
   },
   "outputs": [
    {
     "data": {
      "text/html": [
       "<div>\n",
       "<style scoped>\n",
       "    .dataframe tbody tr th:only-of-type {\n",
       "        vertical-align: middle;\n",
       "    }\n",
       "\n",
       "    .dataframe tbody tr th {\n",
       "        vertical-align: top;\n",
       "    }\n",
       "\n",
       "    .dataframe thead th {\n",
       "        text-align: right;\n",
       "    }\n",
       "</style>\n",
       "<table border=\"1\" class=\"dataframe\">\n",
       "  <thead>\n",
       "    <tr style=\"text-align: right;\">\n",
       "      <th></th>\n",
       "      <th>bias</th>\n",
       "      <th>x</th>\n",
       "    </tr>\n",
       "  </thead>\n",
       "  <tbody>\n",
       "    <tr>\n",
       "      <th>0</th>\n",
       "      <td>1.0</td>\n",
       "      <td>0.000000</td>\n",
       "    </tr>\n",
       "    <tr>\n",
       "      <th>1</th>\n",
       "      <td>1.0</td>\n",
       "      <td>0.050505</td>\n",
       "    </tr>\n",
       "    <tr>\n",
       "      <th>2</th>\n",
       "      <td>1.0</td>\n",
       "      <td>0.101010</td>\n",
       "    </tr>\n",
       "    <tr>\n",
       "      <th>3</th>\n",
       "      <td>1.0</td>\n",
       "      <td>0.151515</td>\n",
       "    </tr>\n",
       "    <tr>\n",
       "      <th>4</th>\n",
       "      <td>1.0</td>\n",
       "      <td>0.202020</td>\n",
       "    </tr>\n",
       "  </tbody>\n",
       "</table>\n",
       "</div>"
      ],
      "text/plain": [
       "   bias         x\n",
       "0   1.0  0.000000\n",
       "1   1.0  0.050505\n",
       "2   1.0  0.101010\n",
       "3   1.0  0.151515\n",
       "4   1.0  0.202020"
      ]
     },
     "execution_count": 18,
     "metadata": {},
     "output_type": "execute_result"
    }
   ],
   "source": [
    "### GRADED\n",
    "\n",
    "X = pd.DataFrame(\n",
    "    np.array([np.ones(shape=x.shape), x]).transpose(), columns=[\"bias\", \"x\"]\n",
    ")\n",
    "\n",
    "# Answer check\n",
    "X.head()"
   ]
  },
  {
   "cell_type": "markdown",
   "metadata": {
    "deletable": false,
    "editable": false,
    "nbgrader": {
     "cell_type": "markdown",
     "checksum": "76712aab4c988fcc778fbfde3d26c4e1",
     "grade": false,
     "grade_id": "cell-a3b21c26fca83102",
     "locked": true,
     "schema_version": 3,
     "solution": false
    }
   },
   "source": [
    "[Back to top](#-Index)\n",
    "\n",
    "### Problem 2\n",
    "\n",
    "#### Gradient of MSE\n",
    "\n",
    "**10 Points**\n",
    "\n",
    "Complete the function `mse_grad` below.  This function will take in an array of initial guesses for $[\\theta_0, \\theta_1]$.  Recall the formula for the partial derivative of the loss function with respect to $\\theta_0$ as:\n",
    "\n",
    "$$\\frac{\\partial}{\\partial \\theta_0} l(\\overrightarrow{\\theta}, \\overrightarrow{x}, y_i) = 2(y_i - \\theta_0x_0 - \\theta_1x_1)(-x_0)$$\n",
    "\n",
    "$$\\frac{\\partial}{\\partial \\theta_1} l(\\overrightarrow{\\theta}, \\overrightarrow{x}, y_i) = 2(y_i - \\theta_0x_0 - \\theta_1x_1)(-x_1)$$\n",
    "\n",
    "You function will return the array\n",
    "\n",
    "$$[\\frac{\\partial l}{\\partial \\theta_0}, \\frac{\\partial l}{\\partial \\theta_1}]$$\n",
    "\n",
    "Remember to find the mean of the gradient array."
   ]
  },
  {
   "cell_type": "code",
   "execution_count": 19,
   "metadata": {
    "deletable": false,
    "nbgrader": {
     "cell_type": "code",
     "checksum": "aa0b66e9b46c37bd5396ccc41fccda80",
     "grade": false,
     "grade_id": "cell-b77154523852536f",
     "locked": false,
     "schema_version": 3,
     "solution": true
    }
   },
   "outputs": [
    {
     "data": {
      "text/plain": [
       "array([ -45.08461393, -130.37451799])"
      ]
     },
     "execution_count": 19,
     "metadata": {},
     "output_type": "execute_result"
    }
   ],
   "source": [
    "def mse_grad(theta, x, y):\n",
    "    x0 = X.iloc[:, 0]\n",
    "    x1 = X.iloc[:, 1]\n",
    "    return np.array(\n",
    "        [\n",
    "            np.mean(-2.0 * (y - theta[0] * x0 - theta[1] * x1) * x0),\n",
    "            np.mean(-2.0 * (y - theta[0] * x0 - theta[1] * x1) * x1),\n",
    "        ]\n",
    "    )\n",
    "\n",
    "\n",
    "# Answer check\n",
    "mse_grad(np.array([0, 0]), X, y)"
   ]
  },
  {
   "cell_type": "markdown",
   "metadata": {
    "deletable": false,
    "editable": false,
    "nbgrader": {
     "cell_type": "markdown",
     "checksum": "15a48ef339854d7d166353bbfaf3831b",
     "grade": false,
     "grade_id": "cell-b4f29c3801f19335",
     "locked": true,
     "schema_version": 3,
     "solution": false
    }
   },
   "source": [
    "[Back to top](#-Index)\n",
    "\n",
    "### Problem 3\n",
    "\n",
    "#### Gradient Descent\n",
    "\n",
    "**10 Points**\n",
    "\n",
    "Use the initial value for `theta` and a learning rate of `lr = 0.01` to perform 1000 iterations of gradient descent.  Keep track of the updated array of theta as `thetas` below.  Recall the gradient descent formula as:\n",
    "\n",
    "$$\\theta_{i + 1} = \\theta_{i} - lr*grad(mse(\\theta_{i}))$$"
   ]
  },
  {
   "cell_type": "code",
   "execution_count": 20,
   "metadata": {
    "deletable": false,
    "nbgrader": {
     "cell_type": "code",
     "checksum": "182a4bc366fd9a74601ac48d2f981180",
     "grade": false,
     "grade_id": "cell-b6083479fed0a1ab",
     "locked": false,
     "schema_version": 3,
     "solution": true
    }
   },
   "outputs": [
    {
     "data": {
      "text/plain": [
       "[array([12.05895177,  4.1844691 ]),\n",
       " array([12.05939542,  4.1843329 ]),\n",
       " array([12.059837  ,  4.18419733])]"
      ]
     },
     "execution_count": 20,
     "metadata": {},
     "output_type": "execute_result"
    }
   ],
   "source": [
    "### GRADED\n",
    "thetas = []\n",
    "theta = [0.0, 0.0]\n",
    "lr = 0.01\n",
    "for i in range(1000):\n",
    "    thetas.append(theta)\n",
    "    theta = theta - lr * mse_grad(theta, X, y)\n",
    "\n",
    "# Answer check\n",
    "thetas[-3:]"
   ]
  },
  {
   "cell_type": "markdown",
   "metadata": {
    "deletable": false,
    "editable": false,
    "nbgrader": {
     "cell_type": "markdown",
     "checksum": "5140dd9bb78f0ad1e14c79e1d2c72a14",
     "grade": false,
     "grade_id": "cell-c90318f523fd9430",
     "locked": true,
     "schema_version": 3,
     "solution": false
    }
   },
   "source": [
    "[Back to top](#-Index)\n",
    "\n",
    "### Problem 4\n",
    "\n",
    "#### DataFrame of updates\n",
    "\n",
    "**10 Points**\n",
    "\n",
    "Below, create a DataFrame that holds your theta updates from the list `thetas` as `thetas_df` below.  Name the columns `intercept`, `slope`.  Did these values converge as desired?!"
   ]
  },
  {
   "cell_type": "code",
   "execution_count": 21,
   "metadata": {
    "deletable": false,
    "nbgrader": {
     "cell_type": "code",
     "checksum": "37c4ed4d3fff5c265281fff31b28ba90",
     "grade": false,
     "grade_id": "cell-10ecc5283b1c2461",
     "locked": false,
     "schema_version": 3,
     "solution": true
    }
   },
   "outputs": [
    {
     "data": {
      "text/html": [
       "<div>\n",
       "<style scoped>\n",
       "    .dataframe tbody tr th:only-of-type {\n",
       "        vertical-align: middle;\n",
       "    }\n",
       "\n",
       "    .dataframe tbody tr th {\n",
       "        vertical-align: top;\n",
       "    }\n",
       "\n",
       "    .dataframe thead th {\n",
       "        text-align: right;\n",
       "    }\n",
       "</style>\n",
       "<table border=\"1\" class=\"dataframe\">\n",
       "  <thead>\n",
       "    <tr style=\"text-align: right;\">\n",
       "      <th></th>\n",
       "      <th>intercept</th>\n",
       "      <th>slope</th>\n",
       "    </tr>\n",
       "  </thead>\n",
       "  <tbody>\n",
       "    <tr>\n",
       "      <th>990</th>\n",
       "      <td>12.055788</td>\n",
       "      <td>4.185441</td>\n",
       "    </tr>\n",
       "    <tr>\n",
       "      <th>991</th>\n",
       "      <td>12.056246</td>\n",
       "      <td>4.185300</td>\n",
       "    </tr>\n",
       "    <tr>\n",
       "      <th>992</th>\n",
       "      <td>12.056702</td>\n",
       "      <td>4.185160</td>\n",
       "    </tr>\n",
       "    <tr>\n",
       "      <th>993</th>\n",
       "      <td>12.057156</td>\n",
       "      <td>4.185020</td>\n",
       "    </tr>\n",
       "    <tr>\n",
       "      <th>994</th>\n",
       "      <td>12.057608</td>\n",
       "      <td>4.184882</td>\n",
       "    </tr>\n",
       "    <tr>\n",
       "      <th>995</th>\n",
       "      <td>12.058058</td>\n",
       "      <td>4.184743</td>\n",
       "    </tr>\n",
       "    <tr>\n",
       "      <th>996</th>\n",
       "      <td>12.058506</td>\n",
       "      <td>4.184606</td>\n",
       "    </tr>\n",
       "    <tr>\n",
       "      <th>997</th>\n",
       "      <td>12.058952</td>\n",
       "      <td>4.184469</td>\n",
       "    </tr>\n",
       "    <tr>\n",
       "      <th>998</th>\n",
       "      <td>12.059395</td>\n",
       "      <td>4.184333</td>\n",
       "    </tr>\n",
       "    <tr>\n",
       "      <th>999</th>\n",
       "      <td>12.059837</td>\n",
       "      <td>4.184197</td>\n",
       "    </tr>\n",
       "  </tbody>\n",
       "</table>\n",
       "</div>"
      ],
      "text/plain": [
       "     intercept     slope\n",
       "990  12.055788  4.185441\n",
       "991  12.056246  4.185300\n",
       "992  12.056702  4.185160\n",
       "993  12.057156  4.185020\n",
       "994  12.057608  4.184882\n",
       "995  12.058058  4.184743\n",
       "996  12.058506  4.184606\n",
       "997  12.058952  4.184469\n",
       "998  12.059395  4.184333\n",
       "999  12.059837  4.184197"
      ]
     },
     "execution_count": 21,
     "metadata": {},
     "output_type": "execute_result"
    }
   ],
   "source": [
    "thetas_df = pd.DataFrame(thetas, columns=[\"intercept\", \"slope\"])\n",
    "\n",
    "# Answer check\n",
    "thetas_df.tail(10)"
   ]
  },
  {
   "cell_type": "markdown",
   "metadata": {
    "deletable": false,
    "editable": false,
    "nbgrader": {
     "cell_type": "markdown",
     "checksum": "8dab337a9da1c5b43b4dd94b3e3592d6",
     "grade": false,
     "grade_id": "cell-ddd9c146b380fba1",
     "locked": true,
     "schema_version": 3,
     "solution": false
    }
   },
   "source": [
    "#### Comparing with `sklearn`\n",
    "\n",
    "Below, a regression model from sklearn is fit and the coefficients are shown.  These should be very close to what your gradient descent routine found.  To get closer feel free to experiment with the learning rate and number of iterations.  Beware that too many iterations and too small a learning rate will be very slow to train!"
   ]
  },
  {
   "cell_type": "code",
   "execution_count": 22,
   "metadata": {},
   "outputs": [
    {
     "data": {
      "text/plain": [
       "array([12.15437429,  4.15517307])"
      ]
     },
     "execution_count": 22,
     "metadata": {},
     "output_type": "execute_result"
    }
   ],
   "source": [
    "lr = LinearRegression(fit_intercept=False).fit(X, y)\n",
    "lr.coef_"
   ]
  }
 ],
 "metadata": {
  "colab": {
   "collapsed_sections": [],
   "name": "coding_assignment_15.7.ipynb",
   "provenance": []
  },
  "kernelspec": {
   "display_name": "Python 3 (ipykernel)",
   "language": "python",
   "name": "python3"
  },
  "language_info": {
   "codemirror_mode": {
    "name": "ipython",
    "version": 3
   },
   "file_extension": ".py",
   "mimetype": "text/x-python",
   "name": "python",
   "nbconvert_exporter": "python",
   "pygments_lexer": "ipython3",
   "version": "3.10.13"
  }
 },
 "nbformat": 4,
 "nbformat_minor": 4
}
