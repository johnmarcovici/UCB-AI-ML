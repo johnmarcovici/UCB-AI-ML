{
 "cells": [
  {
   "cell_type": "markdown",
   "metadata": {
    "deletable": false,
    "editable": false,
    "nbgrader": {
     "cell_type": "markdown",
     "checksum": "ea63d4dba87e3d2d4c4b7e5198430b01",
     "grade": false,
     "grade_id": "cell-29437832a46a1f5c",
     "locked": true,
     "schema_version": 3,
     "solution": false
    }
   },
   "source": [
    "### Codio Assignment 12.1: Introduction to K Nearest Neighbors\n",
    "\n",
    "\n",
    "**Expected Time: 60 Minutes**\n",
    "\n",
    "**Total Points: 50**\n",
    "\n",
    "\n",
    "This activity is meant to introduce you to the `KNeighborsClassifier` from scikit-learn.  You will build a few different versions changing values for $k$ and examining performance.  You will also preprocess your data by scaling so as to improve the performance of your classifier. "
   ]
  },
  {
   "cell_type": "code",
   "execution_count": 13,
   "metadata": {},
   "outputs": [],
   "source": [
    "import pandas as pd\n",
    "import numpy as np\n",
    "import matplotlib.pyplot as plt\n",
    "\n",
    "from sklearn.preprocessing import StandardScaler, OneHotEncoder\n",
    "from sklearn.pipeline import Pipeline\n",
    "from sklearn.compose import make_column_transformer\n",
    "from sklearn.neighbors import KNeighborsClassifier\n",
    "from sklearn.model_selection import train_test_split"
   ]
  },
  {
   "cell_type": "code",
   "execution_count": 14,
   "metadata": {},
   "outputs": [],
   "source": [
    "default = pd.read_csv(\"data/default.csv\")"
   ]
  },
  {
   "cell_type": "code",
   "execution_count": 15,
   "metadata": {},
   "outputs": [
    {
     "data": {
      "text/html": [
       "<div>\n",
       "<style scoped>\n",
       "    .dataframe tbody tr th:only-of-type {\n",
       "        vertical-align: middle;\n",
       "    }\n",
       "\n",
       "    .dataframe tbody tr th {\n",
       "        vertical-align: top;\n",
       "    }\n",
       "\n",
       "    .dataframe thead th {\n",
       "        text-align: right;\n",
       "    }\n",
       "</style>\n",
       "<table border=\"1\" class=\"dataframe\">\n",
       "  <thead>\n",
       "    <tr style=\"text-align: right;\">\n",
       "      <th></th>\n",
       "      <th>Unnamed: 0</th>\n",
       "      <th>default</th>\n",
       "      <th>student</th>\n",
       "      <th>balance</th>\n",
       "      <th>income</th>\n",
       "    </tr>\n",
       "  </thead>\n",
       "  <tbody>\n",
       "    <tr>\n",
       "      <th>0</th>\n",
       "      <td>1</td>\n",
       "      <td>No</td>\n",
       "      <td>No</td>\n",
       "      <td>729.526495</td>\n",
       "      <td>44361.625074</td>\n",
       "    </tr>\n",
       "    <tr>\n",
       "      <th>1</th>\n",
       "      <td>2</td>\n",
       "      <td>No</td>\n",
       "      <td>Yes</td>\n",
       "      <td>817.180407</td>\n",
       "      <td>12106.134700</td>\n",
       "    </tr>\n",
       "    <tr>\n",
       "      <th>2</th>\n",
       "      <td>3</td>\n",
       "      <td>No</td>\n",
       "      <td>No</td>\n",
       "      <td>1073.549164</td>\n",
       "      <td>31767.138947</td>\n",
       "    </tr>\n",
       "    <tr>\n",
       "      <th>3</th>\n",
       "      <td>4</td>\n",
       "      <td>No</td>\n",
       "      <td>No</td>\n",
       "      <td>529.250605</td>\n",
       "      <td>35704.493935</td>\n",
       "    </tr>\n",
       "    <tr>\n",
       "      <th>4</th>\n",
       "      <td>5</td>\n",
       "      <td>No</td>\n",
       "      <td>No</td>\n",
       "      <td>785.655883</td>\n",
       "      <td>38463.495879</td>\n",
       "    </tr>\n",
       "  </tbody>\n",
       "</table>\n",
       "</div>"
      ],
      "text/plain": [
       "   Unnamed: 0 default student      balance        income\n",
       "0           1      No      No   729.526495  44361.625074\n",
       "1           2      No     Yes   817.180407  12106.134700\n",
       "2           3      No      No  1073.549164  31767.138947\n",
       "3           4      No      No   529.250605  35704.493935\n",
       "4           5      No      No   785.655883  38463.495879"
      ]
     },
     "execution_count": 15,
     "metadata": {},
     "output_type": "execute_result"
    }
   ],
   "source": [
    "default.head()"
   ]
  },
  {
   "cell_type": "markdown",
   "metadata": {
    "deletable": false,
    "editable": false,
    "nbgrader": {
     "cell_type": "markdown",
     "checksum": "738f2a215d4ee6da1ba1958221ee3586",
     "grade": false,
     "grade_id": "cell-4faab2084873db33",
     "locked": true,
     "schema_version": 3,
     "solution": false
    }
   },
   "source": [
    "[Back to top](#-Index)\n",
    "\n",
    "### Problem 1\n",
    "\n",
    "#### Determine `X` and `y`\n",
    "\n",
    "**5 Points**\n",
    "\n",
    "First, define `X` as all columns but `default` and `y` as `default` below."
   ]
  },
  {
   "cell_type": "code",
   "execution_count": 16,
   "metadata": {
    "deletable": false,
    "nbgrader": {
     "cell_type": "code",
     "checksum": "0f191b209596f5bf98a9c62e1ddc62d0",
     "grade": false,
     "grade_id": "cell-9aba0ab3f7898056",
     "locked": false,
     "schema_version": 3,
     "solution": true
    }
   },
   "outputs": [
    {
     "name": "stdout",
     "output_type": "stream",
     "text": [
      "  student      balance        income\n",
      "0      No   729.526495  44361.625074\n",
      "1     Yes   817.180407  12106.134700\n",
      "2      No  1073.549164  31767.138947\n",
      "3      No   529.250605  35704.493935\n",
      "4      No   785.655883  38463.495879\n",
      "==============\n",
      "0    No\n",
      "1    No\n",
      "2    No\n",
      "3    No\n",
      "4    No\n",
      "Name: default, dtype: object\n"
     ]
    }
   ],
   "source": [
    "X = default.drop(columns=\"default\")  # wrong\n",
    "X = default[[\"student\", \"balance\", \"income\"]]  # right\n",
    "y = default[\"default\"]\n",
    "\n",
    "# Answer check\n",
    "print(X.head())\n",
    "print(\"==============\")\n",
    "print(y.head())"
   ]
  },
  {
   "cell_type": "markdown",
   "metadata": {
    "deletable": false,
    "editable": false,
    "nbgrader": {
     "cell_type": "markdown",
     "checksum": "3011887f6905909bb3c7c7aa91f38be3",
     "grade": false,
     "grade_id": "cell-f1fd0040b6af4bcc",
     "locked": true,
     "schema_version": 3,
     "solution": false
    }
   },
   "source": [
    "[Back to top](#-Index)\n",
    "\n",
    "### Problem 2\n",
    "\n",
    "#### Create train/test split\n",
    "\n",
    "**5 Points**\n",
    "\n",
    "Next, create a train test split with 25% of the data assigned as the test set.  Set `random_state = 42` to assure correct grading."
   ]
  },
  {
   "cell_type": "code",
   "execution_count": 17,
   "metadata": {
    "deletable": false,
    "nbgrader": {
     "cell_type": "code",
     "checksum": "8a0c717fd8d8a557d01efca05bc0ebc8",
     "grade": false,
     "grade_id": "cell-b96d0d394835021c",
     "locked": false,
     "schema_version": 3,
     "solution": true
    }
   },
   "outputs": [
    {
     "name": "stdout",
     "output_type": "stream",
     "text": [
      "(7500, 3)\n",
      "(2500, 3)\n"
     ]
    }
   ],
   "source": [
    "X_train, X_test, y_train, y_test = train_test_split(\n",
    "    X, y, random_state=42, test_size=0.25\n",
    ")\n",
    "\n",
    "# Answer check\n",
    "print(X_train.shape)\n",
    "print(X_test.shape)"
   ]
  },
  {
   "cell_type": "markdown",
   "metadata": {
    "deletable": false,
    "editable": false,
    "nbgrader": {
     "cell_type": "markdown",
     "checksum": "15244cf5b800f675f8ee9db1c49b8aba",
     "grade": false,
     "grade_id": "cell-160bd9569a7b513e",
     "locked": true,
     "schema_version": 3,
     "solution": false
    }
   },
   "source": [
    "[Back to top](#-Index)\n",
    "\n",
    "### Problem 3\n",
    "\n",
    "#### Column transformer for encoding `student` and scaling `['balance', 'income']`\n",
    "\n",
    "**10 Points**\n",
    "\n",
    "Create a column transformer to binarize the `student` column and apply a `StandardScaler` to the numeric features.  Be sure in your `OneHotEncoder` to set `drop = if_binary`.  Assign your column transformer to `transformer` below.\n",
    "\n",
    "[Documentation for OneHotEncoder](https://scikit-learn.org/stable/modules/generated/sklearn.preprocessing.OneHotEncoder.html)"
   ]
  },
  {
   "cell_type": "code",
   "execution_count": 18,
   "metadata": {
    "deletable": false,
    "nbgrader": {
     "cell_type": "code",
     "checksum": "eaaeee9ae749503b72f052dcdac363e7",
     "grade": false,
     "grade_id": "cell-b416c385629380d6",
     "locked": false,
     "schema_version": 3,
     "solution": true
    }
   },
   "outputs": [
    {
     "name": "stdout",
     "output_type": "stream",
     "text": [
      "ColumnTransformer(remainder=StandardScaler(),\n",
      "                  transformers=[('onehotencoder',\n",
      "                                 OneHotEncoder(drop='if_binary'),\n",
      "                                 ['student'])])\n"
     ]
    }
   ],
   "source": [
    "transformer = make_column_transformer(\n",
    "    (\n",
    "        OneHotEncoder(drop=\"if_binary\"),\n",
    "        [\"student\"],\n",
    "    ),\n",
    "    remainder=StandardScaler(),\n",
    ")\n",
    "\n",
    "# Answer check\n",
    "print(transformer)"
   ]
  },
  {
   "cell_type": "markdown",
   "metadata": {
    "deletable": false,
    "editable": false,
    "nbgrader": {
     "cell_type": "markdown",
     "checksum": "1c2bbd816e97730d26fd7e7ee7f4faa8",
     "grade": false,
     "grade_id": "cell-fd20a8040672b4a5",
     "locked": true,
     "schema_version": 3,
     "solution": false
    }
   },
   "source": [
    "[Back to top](#-Index)\n",
    "\n",
    "### Problem 4\n",
    "\n",
    "#### Pipeline with KNN and `n_neighbors = 5`\n",
    "\n",
    "**10 Points**\n",
    "\n",
    "Using your column transformer defined above, create a `Pipeline` named `fivepipe` below with steps `transform` and `knn` that transform your columns and subsequently build a KNN model with `n_neighbors = 5`.  Fit the pipe on the training data and use the `.score` method of the fit pipe to determine the accuracy on the test data.  Assign this to `fivepipe_acc` below."
   ]
  },
  {
   "cell_type": "code",
   "execution_count": 32,
   "metadata": {
    "deletable": false,
    "nbgrader": {
     "cell_type": "code",
     "checksum": "f59b24ee67c089abe24297e3984fcb23",
     "grade": false,
     "grade_id": "cell-10a7445b87caffd9",
     "locked": false,
     "schema_version": 3,
     "solution": true
    }
   },
   "outputs": [
    {
     "data": {
      "text/plain": [
       "0.968"
      ]
     },
     "execution_count": 32,
     "metadata": {},
     "output_type": "execute_result"
    }
   ],
   "source": [
    "fivepipe = Pipeline(\n",
    "    [\n",
    "        (\"transform\", transformer),\n",
    "        (\"knn\", KNeighborsClassifier()),  # omit argument n_neighbors=5 to match codio\n",
    "    ]\n",
    ").fit(X_train, y_train)\n",
    "\n",
    "fivepipe_acc = fivepipe.score(X_test, y_test)\n",
    "\n",
    "# Answer check\n",
    "fivepipe_acc"
   ]
  },
  {
   "cell_type": "code",
   "execution_count": 24,
   "metadata": {},
   "outputs": [
    {
     "data": {
      "text/plain": [
       "True"
      ]
     },
     "execution_count": 24,
     "metadata": {},
     "output_type": "execute_result"
    }
   ],
   "source": [
    "transformer_ = make_column_transformer(\n",
    "    (OneHotEncoder(drop=\"if_binary\"), [\"student\"]), remainder=StandardScaler()\n",
    ")\n",
    "fivepipe_ = Pipeline([(\"transform\", transformer_), (\"knn\", KNeighborsClassifier())])\n",
    "fivepipe_.fit(X_train, y_train)\n",
    "fivepipe_acc_ = fivepipe_.score(X_test, y_test)\n",
    "fivepipe_acc_ == fivepipe_acc"
   ]
  },
  {
   "cell_type": "markdown",
   "metadata": {
    "deletable": false,
    "editable": false,
    "nbgrader": {
     "cell_type": "markdown",
     "checksum": "56a69534d5ae0e0cf7bc7c2cf8d31576",
     "grade": false,
     "grade_id": "cell-f26e7aa7fc912fb0",
     "locked": true,
     "schema_version": 3,
     "solution": false
    }
   },
   "source": [
    "[Back to top](#-Index)\n",
    "\n",
    "### Problem 5\n",
    "\n",
    "#### Pipeline with `n_neighbors = 50`\n",
    "\n",
    "**10 Points**\n",
    "\n",
    "Using your column transformer defined above, create a `Pipeline` named `fiftypipe` below with steps `transform` and `knn` that transform your columns and subsequently build a KNN model with `n_neighbors = 50`.  Fit the pipe on the training data and use the `.score` method of the fit pipe to determine the accuracy on the test data.  Assign this to `fiftypipe_acc` below."
   ]
  },
  {
   "cell_type": "code",
   "execution_count": 20,
   "metadata": {
    "deletable": false,
    "nbgrader": {
     "cell_type": "code",
     "checksum": "06ba7e024bb7a0bd008fc3f0f4b28eac",
     "grade": false,
     "grade_id": "cell-afa4622c85a5bc0e",
     "locked": false,
     "schema_version": 3,
     "solution": true
    }
   },
   "outputs": [
    {
     "name": "stdout",
     "output_type": "stream",
     "text": [
      "0.9712\n"
     ]
    }
   ],
   "source": [
    "fiftypipe = Pipeline(\n",
    "    [\n",
    "        (\"transform\", transformer),\n",
    "        (\"knn\", KNeighborsClassifier(n_neighbors=50)),\n",
    "    ]\n",
    ").fit(X_train, y_train)\n",
    "\n",
    "fiftypipe_acc = fiftypipe.score(X_test, y_test)\n",
    "\n",
    "# Answer check\n",
    "print(fiftypipe_acc)"
   ]
  },
  {
   "cell_type": "markdown",
   "metadata": {
    "deletable": false,
    "editable": false,
    "nbgrader": {
     "cell_type": "markdown",
     "checksum": "e35ad0c1d33b8999ff2833cadfa9bf13",
     "grade": false,
     "grade_id": "cell-7b9d286d60d84fb3",
     "locked": true,
     "schema_version": 3,
     "solution": false
    }
   },
   "source": [
    "[Back to top](#-Index)\n",
    "\n",
    "### Problem 6\n",
    "\n",
    "#### False Predictions\n",
    "\n",
    "**10 Points**\n",
    "\n",
    "Finally, compare the two pipelines based on the number of **False Predictions** -- those observations who the model predicted to default but incorrectly so. Assign these values as integers to `five_fp` and `fifty_fp` respectively.   \n",
    "\n",
    "(Hint: Add up the predictions of X_test that are not equal to y_test)"
   ]
  },
  {
   "cell_type": "code",
   "execution_count": 41,
   "metadata": {
    "deletable": false,
    "nbgrader": {
     "cell_type": "code",
     "checksum": "86a8288480c0d3c6bdcca85364ec7714",
     "grade": false,
     "grade_id": "cell-28ae5ad90b1726e7",
     "locked": false,
     "schema_version": 3,
     "solution": true
    }
   },
   "outputs": [
    {
     "name": "stdout",
     "output_type": "stream",
     "text": [
      "Number of False Predictions with five neighbors: 80\n",
      "Number of False Predictions with five neighbors: 72\n"
     ]
    }
   ],
   "source": [
    "five_fp = ((fivepipe.predict(X_test) == \"Yes\") != (y_test == \"Yes\")).sum()\n",
    "fifty_fp = ((fiftypipe.predict(X_test) == \"Yes\") != (y_test == \"Yes\")).sum()\n",
    "\n",
    "# Answer check\n",
    "print(f\"Number of False Predictions with five neighbors: {five_fp}\")\n",
    "print(f\"Number of False Predictions with five neighbors: {fifty_fp}\")"
   ]
  }
 ],
 "metadata": {
  "kernelspec": {
   "display_name": "Python 3 (ipykernel)",
   "language": "python",
   "name": "python3"
  },
  "language_info": {
   "codemirror_mode": {
    "name": "ipython",
    "version": 3
   },
   "file_extension": ".py",
   "mimetype": "text/x-python",
   "name": "python",
   "nbconvert_exporter": "python",
   "pygments_lexer": "ipython3",
   "version": "3.10.13"
  },
  "widgets": {
   "application/vnd.jupyter.widget-state+json": {
    "state": {},
    "version_major": 2,
    "version_minor": 0
   }
  }
 },
 "nbformat": 4,
 "nbformat_minor": 4
}
