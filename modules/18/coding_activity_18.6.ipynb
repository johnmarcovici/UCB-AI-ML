{
 "cells": [
  {
   "cell_type": "markdown",
   "metadata": {},
   "source": [
    "### Codio Activity 18.6: Naive Bayes Algorithm\n",
    "\n",
    "**Expected Time = 60 minutes** \n",
    "\n",
    "**Total Points = 35** \n",
    "\n",
    "This activity focuses on the implementation of the Naive Bayes algorithm.  You will use the scikit-learn estimator together with your earlier vectorization strategies to model the WhatsApp text and compare to your earlier work with Logistic Regression.   \n",
    "\n",
    "- [Problem 1](#-Problem-1)\n",
    "- [Problem 2](#-Problem-2)\n",
    "- [Problem 3](#-Problem-3)\n",
    "- [Problem 4](#-Problem-4)\n",
    "- [Problem 5](#-Problem-5)"
   ]
  },
  {
   "cell_type": "code",
   "execution_count": 1,
   "metadata": {},
   "outputs": [],
   "source": [
    "import numpy as np\n",
    "import pandas as pd\n",
    "import matplotlib.pyplot as plt\n",
    "\n",
    "from sklearn.naive_bayes import MultinomialNB\n",
    "from sklearn.pipeline import Pipeline\n",
    "from sklearn.feature_extraction.text import CountVectorizer, TfidfVectorizer\n",
    "from sklearn.model_selection import train_test_split, GridSearchCV"
   ]
  },
  {
   "cell_type": "markdown",
   "metadata": {
    "deletable": false,
    "editable": false,
    "nbgrader": {
     "cell_type": "markdown",
     "checksum": "aeee4296207ed403cee0ca6cae8b5c48",
     "grade": false,
     "grade_id": "cell-af402ad5c6fd8123",
     "locked": true,
     "schema_version": 3,
     "solution": false,
     "task": false
    }
   },
   "source": [
    "[Back to top](#-Index)\n",
    "\n",
    "### Problem 1\n",
    "\n",
    "#### Small Example\n",
    "\n",
    "**10 Points**\n",
    "\n",
    "The example below is adapted from Marsland's *Machine Learning an Algorithmic Perspective*.  A small dataset where the features are whether or not a student has a looming deadline, if there is a party going on, and whether or not the student feels lazy.  The activity column is the target, and your aim is to use the naive bayes formula below:\n",
    "\n",
    "$$P(C_i) \\prod_{k} P(X_j^k = a_k | C_i)$$"
   ]
  },
  {
   "cell_type": "code",
   "execution_count": 2,
   "metadata": {},
   "outputs": [],
   "source": [
    "deadline = [\n",
    "    \"urgent\",\n",
    "    \"urgent\",\n",
    "    \"near\",\n",
    "    \"none\",\n",
    "    \"none\",\n",
    "    \"none\",\n",
    "    \"near\",\n",
    "    \"near\",\n",
    "    \"near\",\n",
    "    \"urgent\",\n",
    "]\n",
    "party = [\"yes\", \"no\", \"yes\", \"yes\", \"no\", \"yes\", \"no\", \"no\", \"yes\", \"no\"]\n",
    "lazy = [\"yes\", \"yes\", \"yes\", \"no\", \"yes\", \"no\", \"no\", \"yes\", \"yes\", \"no\"]\n",
    "activity = [\n",
    "    \"party\",\n",
    "    \"study\",\n",
    "    \"party\",\n",
    "    \"party\",\n",
    "    \"pub\",\n",
    "    \"party\",\n",
    "    \"study\",\n",
    "    \"tv\",\n",
    "    \"party\",\n",
    "    \"study\",\n",
    "]"
   ]
  },
  {
   "cell_type": "code",
   "execution_count": 3,
   "metadata": {},
   "outputs": [
    {
     "data": {
      "text/html": [
       "<div>\n",
       "<style scoped>\n",
       "    .dataframe tbody tr th:only-of-type {\n",
       "        vertical-align: middle;\n",
       "    }\n",
       "\n",
       "    .dataframe tbody tr th {\n",
       "        vertical-align: top;\n",
       "    }\n",
       "\n",
       "    .dataframe thead th {\n",
       "        text-align: right;\n",
       "    }\n",
       "</style>\n",
       "<table border=\"1\" class=\"dataframe\">\n",
       "  <thead>\n",
       "    <tr style=\"text-align: right;\">\n",
       "      <th></th>\n",
       "      <th>deadline</th>\n",
       "      <th>party</th>\n",
       "      <th>lazy</th>\n",
       "      <th>activity</th>\n",
       "    </tr>\n",
       "  </thead>\n",
       "  <tbody>\n",
       "    <tr>\n",
       "      <th>0</th>\n",
       "      <td>urgent</td>\n",
       "      <td>yes</td>\n",
       "      <td>yes</td>\n",
       "      <td>party</td>\n",
       "    </tr>\n",
       "    <tr>\n",
       "      <th>1</th>\n",
       "      <td>urgent</td>\n",
       "      <td>no</td>\n",
       "      <td>yes</td>\n",
       "      <td>study</td>\n",
       "    </tr>\n",
       "    <tr>\n",
       "      <th>2</th>\n",
       "      <td>near</td>\n",
       "      <td>yes</td>\n",
       "      <td>yes</td>\n",
       "      <td>party</td>\n",
       "    </tr>\n",
       "    <tr>\n",
       "      <th>3</th>\n",
       "      <td>none</td>\n",
       "      <td>yes</td>\n",
       "      <td>no</td>\n",
       "      <td>party</td>\n",
       "    </tr>\n",
       "    <tr>\n",
       "      <th>4</th>\n",
       "      <td>none</td>\n",
       "      <td>no</td>\n",
       "      <td>yes</td>\n",
       "      <td>pub</td>\n",
       "    </tr>\n",
       "    <tr>\n",
       "      <th>5</th>\n",
       "      <td>none</td>\n",
       "      <td>yes</td>\n",
       "      <td>no</td>\n",
       "      <td>party</td>\n",
       "    </tr>\n",
       "    <tr>\n",
       "      <th>6</th>\n",
       "      <td>near</td>\n",
       "      <td>no</td>\n",
       "      <td>no</td>\n",
       "      <td>study</td>\n",
       "    </tr>\n",
       "    <tr>\n",
       "      <th>7</th>\n",
       "      <td>near</td>\n",
       "      <td>no</td>\n",
       "      <td>yes</td>\n",
       "      <td>tv</td>\n",
       "    </tr>\n",
       "    <tr>\n",
       "      <th>8</th>\n",
       "      <td>near</td>\n",
       "      <td>yes</td>\n",
       "      <td>yes</td>\n",
       "      <td>party</td>\n",
       "    </tr>\n",
       "    <tr>\n",
       "      <th>9</th>\n",
       "      <td>urgent</td>\n",
       "      <td>no</td>\n",
       "      <td>no</td>\n",
       "      <td>study</td>\n",
       "    </tr>\n",
       "  </tbody>\n",
       "</table>\n",
       "</div>"
      ],
      "text/plain": [
       "  deadline party lazy activity\n",
       "0   urgent   yes  yes    party\n",
       "1   urgent    no  yes    study\n",
       "2     near   yes  yes    party\n",
       "3     none   yes   no    party\n",
       "4     none    no  yes      pub\n",
       "5     none   yes   no    party\n",
       "6     near    no   no    study\n",
       "7     near    no  yes       tv\n",
       "8     near   yes  yes    party\n",
       "9   urgent    no   no    study"
      ]
     },
     "execution_count": 3,
     "metadata": {},
     "output_type": "execute_result"
    }
   ],
   "source": [
    "df = pd.DataFrame(\n",
    "    {\"deadline\": deadline, \"party\": party, \"lazy\": lazy, \"activity\": activity}\n",
    ")\n",
    "df"
   ]
  },
  {
   "cell_type": "markdown",
   "metadata": {
    "deletable": false,
    "editable": false,
    "nbgrader": {
     "cell_type": "markdown",
     "checksum": "43c8025b20e400d9b7f3762da6b58c3d",
     "grade": false,
     "grade_id": "cell-5d1437600c3f2ca4",
     "locked": true,
     "schema_version": 3,
     "solution": false,
     "task": false
    }
   },
   "source": [
    "Here, $C_i$ represents the class in the `activity` columm.  Accordingly, if we want to predict a category of activity given the input: \n",
    "\n",
    "```\n",
    "deadline = near\n",
    "party = no\n",
    "lazy = yes\n",
    "```\n",
    "\n",
    "This means we need four probabilities:\n",
    "\n",
    "- $P(party) \\times P(near | party) \\times P(no party | party) \\times P(lazy | party)$\n",
    "- $P(study) \\times P(near | study) \\times p(noparty | study) \\times P(lazy | study)$\n",
    "- $P(pub) \\times P(near | pub) \\times P(noparty | pub) \\times P(lazy | pub)$\n",
    "- $P(tv) \\times P(near | tv) \\times P(noparty | tv) \\times P(lazy |tv)$\n",
    "\n",
    "Compute these four probabilities and assign them to the list `probs` in the order above (party, study, pub, tv). \n",
    "\n",
    "Hint: No need to calculate the probabilities by hand."
   ]
  },
  {
   "cell_type": "code",
   "execution_count": 4,
   "metadata": {},
   "outputs": [
    {
     "data": {
      "text/plain": [
       "0.0"
      ]
     },
     "execution_count": 4,
     "metadata": {},
     "output_type": "execute_result"
    }
   ],
   "source": [
    "x = \"party\"\n",
    "temp_df = df.query(\"activity == '%s'\" % x)\n",
    "len(temp_df) / len(df) * len(temp_df.query(\"deadline == 'near'\")) / len(temp_df) * len(\n",
    "    temp_df.query(\"party == 'no'\")\n",
    ") / len(temp_df) * len(temp_df.query(\"lazy == 'yes'\")) / len(temp_df)"
   ]
  },
  {
   "cell_type": "code",
   "execution_count": 5,
   "metadata": {
    "deletable": false,
    "nbgrader": {
     "cell_type": "code",
     "checksum": "beb789b8a8edc542e8d128cc80a97442",
     "grade": false,
     "grade_id": "cell-9bc8a1669a0b2d75",
     "locked": false,
     "schema_version": 3,
     "solution": true,
     "task": false
    }
   },
   "outputs": [
    {
     "name": "stdout",
     "output_type": "stream",
     "text": [
      "[0.0, 0.03333333333333333, 0.0, 0.1]\n"
     ]
    }
   ],
   "source": [
    "### GRADED\n",
    "probs = []\n",
    "for x in [\"party\", \"study\", \"pub\", \"tv\"]:\n",
    "    temp_df = df.query(\"activity == '%s'\" % x)\n",
    "    p = (\n",
    "        len(temp_df)\n",
    "        / len(df)\n",
    "        * len(temp_df.query(\"deadline == 'near'\"))\n",
    "        / len(temp_df)\n",
    "        * len(temp_df.query(\"party == 'no'\"))\n",
    "        / len(temp_df)\n",
    "        * len(temp_df.query(\"lazy == 'yes'\"))\n",
    "        / len(temp_df)\n",
    "    )\n",
    "    probs.append(p)\n",
    "\n",
    "\n",
    "### ANSWER CHECK\n",
    "print(probs)"
   ]
  },
  {
   "cell_type": "markdown",
   "metadata": {
    "deletable": false,
    "editable": false,
    "nbgrader": {
     "cell_type": "markdown",
     "checksum": "ca0bd5a37f6468173dbc3aa2e9218185",
     "grade": false,
     "grade_id": "cell-c2559e0bf33dc6b6",
     "locked": true,
     "schema_version": 3,
     "solution": false,
     "task": false
    }
   },
   "source": [
    "[Back to top](#-Index)\n",
    "\n",
    "### Problem 2\n",
    "\n",
    "#### MAP solution\n",
    "\n",
    "**10 Points**\n",
    "\n",
    "Using these probabilities, the maximum aposteriori solution involves selecting the outcome that is associated with the highest probability.  Use your list of probabilities to identify the `argmax`.  Note you can use `np.argmax` for this or just inspect the values.  What is the activity associated with the MAP solution?  Assign your answer as a string -- `party`, `study`, `pub`, or `tv` -- to `ans2` below."
   ]
  },
  {
   "cell_type": "code",
   "execution_count": 6,
   "metadata": {
    "deletable": false,
    "nbgrader": {
     "cell_type": "code",
     "checksum": "9cd5ea67556a9a812a34e0922f4f381e",
     "grade": false,
     "grade_id": "cell-256e274715d26b4a",
     "locked": false,
     "schema_version": 3,
     "solution": true,
     "task": false
    }
   },
   "outputs": [
    {
     "name": "stdout",
     "output_type": "stream",
     "text": [
      "tv\n"
     ]
    }
   ],
   "source": [
    "### GRADED\n",
    "ans2 = \"tv\"\n",
    "\n",
    "\n",
    "### ANSWER CHECK\n",
    "print(ans2)"
   ]
  },
  {
   "cell_type": "markdown",
   "metadata": {
    "deletable": false,
    "editable": false,
    "nbgrader": {
     "cell_type": "markdown",
     "checksum": "4cdf93203e31f5052cde0bfdbd4a0f81",
     "grade": false,
     "grade_id": "cell-8e4c25d2e63ea3b0",
     "locked": true,
     "schema_version": 3,
     "solution": false,
     "task": false
    }
   },
   "source": [
    "### Larger Example\n",
    "\n",
    "Now, you are to use the scikitlearn vectorizers together with the `MultinomialNB` estimator to implement naive bayes algorithm for classifying the WhatsApp data.  The data is loaded and split for you below."
   ]
  },
  {
   "cell_type": "code",
   "execution_count": 7,
   "metadata": {},
   "outputs": [],
   "source": [
    "happy_df = pd.read_csv(\"data/Emotion(happy).csv\")\n",
    "sad_df = pd.read_csv(\"data/Emotion(sad).csv.zip\", compression=\"zip\")\n",
    "full_df = pd.concat([happy_df, sad_df]).reset_index(drop=True)\n",
    "X = full_df.drop(\"sentiment\", axis=1)\n",
    "y = full_df[\"sentiment\"]\n",
    "X_train, X_test, y_train, y_test = train_test_split(X[\"content\"], y, random_state=42)"
   ]
  },
  {
   "cell_type": "markdown",
   "metadata": {
    "deletable": false,
    "editable": false,
    "nbgrader": {
     "cell_type": "markdown",
     "checksum": "57aadebeb9314d3a2064b3c12a8259c6",
     "grade": false,
     "grade_id": "cell-fe75497137cd1f91",
     "locked": true,
     "schema_version": 3,
     "solution": false,
     "task": false
    }
   },
   "source": [
    "[Back to top](#-Index)\n",
    "\n",
    "### Problem 3\n",
    "\n",
    "#### Pipeline with `CountVectorizer`\n",
    "\n",
    "**5 Points**\n",
    "\n",
    "Below, create a pipeline called `cvect_pipe` with named steps `cvect` and `bayes` that first vectorizes the text and then uses the `MultinomialNB` estimator with all default settings.  Fit this on the train and score it on the test, assigning the accuracy to `cvect_acc` below."
   ]
  },
  {
   "cell_type": "code",
   "execution_count": 8,
   "metadata": {
    "deletable": false,
    "nbgrader": {
     "cell_type": "code",
     "checksum": "6799902c2fb9c04e23e8ba5de28d742c",
     "grade": false,
     "grade_id": "cell-6a6f73de4a0f6334",
     "locked": false,
     "schema_version": 3,
     "solution": true,
     "task": false
    }
   },
   "outputs": [
    {
     "data": {
      "text/plain": [
       "[{'cvect': CountVectorizer(), 'bayes': MultinomialNB()}, 0.6577380952380952]"
      ]
     },
     "execution_count": 8,
     "metadata": {},
     "output_type": "execute_result"
    }
   ],
   "source": [
    "### GRADED\n",
    "cvect_pipe = Pipeline(\n",
    "    [\n",
    "        (\"cvect\", CountVectorizer()),\n",
    "        (\"bayes\", MultinomialNB()),\n",
    "    ]\n",
    ").fit(X_train, y_train)\n",
    "\n",
    "\n",
    "cvect_acc = cvect_pipe.score(X_test, y_test)\n",
    "\n",
    "\n",
    "### ANSWER CHECK\n",
    "[\n",
    "    cvect_pipe.named_steps,\n",
    "    cvect_acc,\n",
    "]"
   ]
  },
  {
   "cell_type": "markdown",
   "metadata": {
    "deletable": false,
    "editable": false,
    "nbgrader": {
     "cell_type": "markdown",
     "checksum": "7a799b56274c7c97bf3578c47449aaa5",
     "grade": false,
     "grade_id": "cell-58d23432f74f0c60",
     "locked": true,
     "schema_version": 3,
     "solution": false,
     "task": false
    }
   },
   "source": [
    "[Back to top](#-Index)\n",
    "\n",
    "### Problem 4\n",
    "\n",
    "#### Pipeline with `TfidfVectorizer`\n",
    "\n",
    "**5 Points**\n",
    "\n",
    "Below, create a pipeline called `tfidf_pipe` with named steps `tfidf` and `bayes` that first vectorizes the text and then uses the `MultinomialNB` estimator with all default settings.  Fit this on the train and score it on the test, assigning the accuracy to `tfidf_acc` below.\n"
   ]
  },
  {
   "cell_type": "code",
   "execution_count": 9,
   "metadata": {
    "deletable": false,
    "nbgrader": {
     "cell_type": "code",
     "checksum": "3d177cf5eb6bfaa5b60237f949392473",
     "grade": false,
     "grade_id": "cell-7b58933a2378e7c8",
     "locked": false,
     "schema_version": 3,
     "solution": true,
     "task": false
    }
   },
   "outputs": [
    {
     "data": {
      "text/plain": [
       "[{'tfidf': TfidfVectorizer(), 'bayes': MultinomialNB()}, 0.7202380952380952]"
      ]
     },
     "execution_count": 9,
     "metadata": {},
     "output_type": "execute_result"
    }
   ],
   "source": [
    "### GRADED\n",
    "tfidf_pipe = Pipeline(\n",
    "    [\n",
    "        (\"tfidf\", TfidfVectorizer()),\n",
    "        (\"bayes\", MultinomialNB()),\n",
    "    ]\n",
    ").fit(X_train, y_train)\n",
    "\n",
    "\n",
    "tfidf_acc = tfidf_pipe.score(X_test, y_test)\n",
    "\n",
    "\n",
    "### ANSWER CHECK\n",
    "[\n",
    "    tfidf_pipe.named_steps,\n",
    "    tfidf_acc,\n",
    "]"
   ]
  },
  {
   "cell_type": "markdown",
   "metadata": {
    "deletable": false,
    "editable": false,
    "nbgrader": {
     "cell_type": "markdown",
     "checksum": "d4fe6971a94cc69520fef4742273991f",
     "grade": false,
     "grade_id": "cell-317074563a4513fd",
     "locked": true,
     "schema_version": 3,
     "solution": false,
     "task": false
    }
   },
   "source": [
    "[Back to top](#-Index)\n",
    "\n",
    "### Problem 5\n",
    "\n",
    "#### Assessing performance\n",
    "\n",
    "**5 Points**\n",
    "\n",
    "Now, consider searching the hyperparameters of the model.  Specifically, what is the parameter that controls Laplacian smoothing?  Assign your answer as a string to `ans5` below.  As an extra activity, perform a grid search over this parameter and compare the performance to that of `LogisticRegression`.  Also, compare the speed of fit between the logistic and naive bayes models."
   ]
  },
  {
   "cell_type": "code",
   "execution_count": 10,
   "metadata": {
    "deletable": false,
    "nbgrader": {
     "cell_type": "code",
     "checksum": "15b769b2d915fe83b840d61ac8d602af",
     "grade": false,
     "grade_id": "cell-95a20d96bbe59b77",
     "locked": false,
     "schema_version": 3,
     "solution": true,
     "task": false
    }
   },
   "outputs": [
    {
     "name": "stdout",
     "output_type": "stream",
     "text": [
      "alpha\n"
     ]
    }
   ],
   "source": [
    "### GRADED\n",
    "ans5 = \"alpha\"\n",
    "\n",
    "\n",
    "### ANSWER CHECK\n",
    "print(ans5)"
   ]
  }
 ],
 "metadata": {
  "kernelspec": {
   "display_name": "Python 3 (ipykernel)",
   "language": "python",
   "name": "python3"
  },
  "language_info": {
   "codemirror_mode": {
    "name": "ipython",
    "version": 3
   },
   "file_extension": ".py",
   "mimetype": "text/x-python",
   "name": "python",
   "nbconvert_exporter": "python",
   "pygments_lexer": "ipython3",
   "version": "3.10.13"
  }
 },
 "nbformat": 4,
 "nbformat_minor": 4
}
