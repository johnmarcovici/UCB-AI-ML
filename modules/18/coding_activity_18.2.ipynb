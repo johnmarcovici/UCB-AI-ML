{
 "cells": [
  {
   "cell_type": "markdown",
   "metadata": {
    "deletable": false,
    "editable": false,
    "nbgrader": {
     "cell_type": "markdown",
     "checksum": "1d7c36318fe2789782f33849e53f20fe",
     "grade": false,
     "grade_id": "cell-2dab136f3f285526",
     "locked": true,
     "schema_version": 3,
     "solution": false,
     "task": false
    }
   },
   "source": [
    "### Codio Activity 18.2: Named Entities\n",
    "\n",
    "**Expected Time = 45 minutes**\n",
    "\n",
    "**Total Points = 30**\n",
    "\n",
    "This activity focuses on extracting named entities from text.  The named entities will be extracted using the `nltk` library.  You will read in the full text of Newton's *Principia* and identify the entities labeled as places.  \n",
    "\n",
    "#### Index\n",
    "\n",
    "- [Problem 1](#-Problem-1)\n",
    "- [Problem 2](#-Problem-2)\n",
    "- [Problem 3](#-Problem-3)\n",
    "- [Problem 4](#-Problem-4)\n",
    "- [Problem 5](#-Problem-5)\n",
    "- [Problem 6](#-Problem-6)"
   ]
  },
  {
   "cell_type": "code",
   "execution_count": 1,
   "metadata": {},
   "outputs": [
    {
     "name": "stderr",
     "output_type": "stream",
     "text": [
      "[nltk_data] Downloading package punkt to /home/codespace/nltk_data...\n",
      "[nltk_data]   Package punkt is already up-to-date!\n",
      "[nltk_data] Downloading package averaged_perceptron_tagger to\n",
      "[nltk_data]     /home/codespace/nltk_data...\n",
      "[nltk_data]   Package averaged_perceptron_tagger is already up-to-\n",
      "[nltk_data]       date!\n",
      "[nltk_data] Downloading package maxent_ne_chunker to\n",
      "[nltk_data]     /home/codespace/nltk_data...\n",
      "[nltk_data]   Package maxent_ne_chunker is already up-to-date!\n",
      "[nltk_data] Downloading package words to /home/codespace/nltk_data...\n",
      "[nltk_data]   Package words is already up-to-date!\n",
      "[nltk_data] Downloading package stopwords to\n",
      "[nltk_data]     /home/codespace/nltk_data...\n",
      "[nltk_data]   Package stopwords is already up-to-date!\n"
     ]
    },
    {
     "data": {
      "text/plain": [
       "True"
      ]
     },
     "execution_count": 1,
     "metadata": {},
     "output_type": "execute_result"
    }
   ],
   "source": [
    "import nltk\n",
    "from nltk import word_tokenize\n",
    "\n",
    "nltk.download(\"punkt\")\n",
    "nltk.download(\"averaged_perceptron_tagger\")\n",
    "nltk.download(\"maxent_ne_chunker\")\n",
    "nltk.download(\"words\")\n",
    "nltk.download(\"stopwords\")"
   ]
  },
  {
   "cell_type": "markdown",
   "metadata": {
    "deletable": false,
    "editable": false,
    "nbgrader": {
     "cell_type": "markdown",
     "checksum": "798b0175e2f1225eb92d53c135e0e287",
     "grade": false,
     "grade_id": "cell-c6875bd64c2ef903",
     "locked": true,
     "schema_version": 3,
     "solution": false,
     "task": false
    }
   },
   "source": [
    "[Back to top](#-Index)\n",
    "\n",
    "### Problem 1\n",
    "\n",
    "#### Opening a `.txt` file.\n",
    "\n",
    "**5 Points**\n",
    "\n",
    "Use the `open` function to open the text file with the Principia by Isaac Newton using the filepath given below.  Assign the text using the `readlines()` function to assign the text as a list of lines to the variable `principia` below. "
   ]
  },
  {
   "cell_type": "code",
   "execution_count": 2,
   "metadata": {},
   "outputs": [],
   "source": [
    "filepath = \"data/Philosophiae_Naturalis_Principia_Mathematica.txt\""
   ]
  },
  {
   "cell_type": "code",
   "execution_count": 3,
   "metadata": {
    "deletable": false,
    "nbgrader": {
     "cell_type": "code",
     "checksum": "6c62ee828375870eb9f453b9d2ca4336",
     "grade": false,
     "grade_id": "cell-9aba37c2556f6459",
     "locked": false,
     "schema_version": 3,
     "solution": true,
     "task": false
    }
   },
   "outputs": [
    {
     "name": "stdout",
     "output_type": "stream",
     "text": [
      "<class 'list'>\n",
      "['Philosophiae Naturalis Principia Mathematica\\n', '\\n', '\\n', '\\t\\t\\t\\t\\tIsaacus Newtonus\\n', '\\n', '\\n', '\\n', '\\n', '\\n', '1687\\n', '\\n', '\\n', '\\n', '\\n', '\\n', 'Exported from Wikisource on April 3, 2022\\n', '\\n', '\\n', '\\n', '\\n', '\\n', 'INDEX\\n', '\\n', '\\n', 'Tituli pagina\\n', '\\n', 'Auctoris præfatio ad lectorem\\n', '\\n', 'Viri Præstantissimi\\n', '\\n', 'Definitiones\\n', '\\n', 'Axiomata, sive Leges Motus\\n', '\\n', '\\n', '\\n', '\\n', '\\n', 'DE MOTU CORPORUM LIBER PRIMUS\\n', '\\n', '\\n', 'SECT. I. DE Methodo rationum primarum & ultima rum.\\n', '\\n', 'SECT. II. De inventione Virium centripetarum.\\n', '\\n', 'SECT. III. De motu corporum in Conicis sectionibus eccentri cis.\\n', '\\n', 'SECT. IV. De inventione Orbium Elliptieorum, Parabolieorum & Hyperbolieorum ex Umbilico dato.\\n', '\\n', 'SECT. V. De inventione Orbium ubi Umbilicus neuter datur.\\n', '\\n', 'SECT. VI. De inventione Motuum in Orbibus datis.\\n', '\\n', 'SECT. VII. De corporum Ascensu & Descensu rectilineo.\\n', '\\n', 'SECT. VIII. De inventione Orbium in quibus corpora Viribus quibuscunque centripetis agitata revolvuntur.\\n', '\\n', 'SECT. IX. De Motu corporum in Orbibus mobilibus, deque Motu Apsidum.\\n', '\\n', 'SECT. X. De Motu corporum in Superficiebus datis, deque Funependulorum Motu reciproco.\\n', '\\n', 'SECT. XI. De Motu corporum Viribus centripetis se mutuo pe tentium.\\n', '\\n', 'SECT. XII. De corporum Sphærieorum Viribus attractivis.\\n', '\\n', 'SECT. XIII. De corporum non Sphærieorum Viribus attracti vis.\\n', '\\n', 'SECT. XIV. De Motu corporum Minimorum, quæ Veribus cen tripetis ad singulas Magni alicujus corporis partes ten dentibus agitantur.\\n', '\\n', '\\n', '\\n', '\\n', '\\n', 'DE MOTU CORPORUM LIBER SECUNDUS.\\n', '\\n', '\\n', 'SECT. I. De Motu corporum quibus resistitur in ratione velocitatis.\\n', '\\n', 'SECT. II. De motu corporum quibus resistitur in duplicata ratione velocitatum.\\n', '\\n', 'SECT. III. De motu corporum quæ resistuntur partim in ratione velocitatis, partim in ejusdem ratione duplicata.\\n', '\\n', 'SECT. IV. De Corporum circulari Motu in Mediis resistentibus.\\n', '\\n', 'SECT. V. De Densitate & compressione Fluidorum, deque Hydrostatica.\\n', '\\n', 'SECT. VI. De Motu & resistentia Corporum Funependulorum.\\n', '\\n', 'SECT. VII. De Motu Fluidorum & resistentia Projectilium.\\n', '\\n', 'SECT. VIII. De Motu per Fluida propagato.\\n', '\\n', 'SECT. IX. De motu Circulari Fluidorum.\\n', '\\n', '\\n', '\\n', '\\n', '\\n', 'DI MUNDI SYSTEMATE LIBER TERTIUS.\\n', '\\n', '\\n', '\\n', '\\n', '\\n', 'APPENDIX\\n', '\\n', '\\n', '\\n', '\\n', '\\n', 'The Project Gutenberg EBook of Philosophiae Naturalis Principia Mathematica, by Isaac Newton\\n', '\\n', 'This eBook is for the use of anyone anywhere at no cost and with almost no restrictions whatsoever. You may copy it, give it away or re use it under the terms of the Project Gutenberg License included with this eBook or online at www.gutenberg.org\\n', '\\n', 'Title: Philosophiae Naturalis Principia Mathematica\\n', '\\n', 'Author: Isaac Newton\\n', '\\n', 'Release Date: March 1, 2009 [EBook #28233]\\n', '\\n', 'Language: Latin\\n', '\\n', 'Character set encoding: ISO 8859 1\\n', '\\n', 'START OF THIS PROJECT GUTENBERG EBOOK PHILOSOPHIAE NATURALIS\\n', '\\n', '\\n', '\\n', 'Produced by Jonathan Ingram, Keith Edkins and the Online Distributed Proofreading Team at http://www.pgdp.net\\n', '\\n', '\\n', '\\n', '\\n', '\\n', 'PHILOSOPHIÆ\\n', '\\n', 'NATURALIS\\n', '\\n', 'PRINCIPIA\\n', '\\n', 'MATHEMATICA\\n', '\\n', '\\n', '\\n', '* * *\\n', '\\n', '\\n', '\\n', '\\n', '\\n', 'Autore IS. NEWTON, Trin. Coll. Cantab. Soc. Matheseos\\n', '\\n', 'Professore Lucasiano, & Societatis Regalis Sodali.\\n', '\\n', '\\n', '\\n', '* * *\\n', '\\n', '\\n', '\\n', '\\n', '\\n', 'IMPRIMATUR.\\n', '\\n', '\\n', '\\n', 'S. PEPYS, Reg. Soc. PRÆSES.\\n', '\\n', 'Julii 5. 1686.\\n', '\\n', '\\n', '\\n', '* * *\\n', '\\n', '\\n', '\\n', '\\n', '\\n', 'LONDINI,\\n', '\\n', 'Jussu Societatis Regiæ ac Typis Josephi Streater. Prostat apud plures Bibliopolas. Anno MDCLXXXVII.\\n', '\\n', '\\n', '\\n', 'ILLUSTRISSIMÆ\\n', '\\n', 'SOCIETATI REGALI\\n', '\\n', 'a Serenissimo\\n', '\\n', 'REGE CAROLO II.\\n', '\\n', 'AD\\n', '\\n', 'PHILOSOPHIAM PROMOVENDAM\\n', '\\n', 'FUNDATÆ,\\n', '\\n', 'ET AUSPICIIS\\n', '\\n', 'POTENTISSIMI MONARCHÆ\\n', '\\n', 'JACOBI II.\\n', '\\n', 'FLORENTI.\\n', '\\n', 'Tractatum hunc humillime D.D.D.\\n', '\\n', 'IS. NEWTON.\\n', '\\n', '\\n', '\\n', '\\n', '\\n', 'About this digital edition\\n', '\\n', '\\n', 'This e-book comes from the online library Wikisource[1]. This multilingual digital library, built by volunteers, is committed to developing a free accessible collection of publications of every kind: novels, poems, magazines, letters...\\n', '\\n', 'We distribute our books for free, starting from works not copyrighted or published under a free license. You are free to use our e-books for any purpose (including commercial exploitation), under the terms of the Creative Commons Attribution-ShareAlike 3.0 Unported[2] license or, at your choice, those of the GNU FDL[3].\\n', '\\n', \"Wikisource is constantly looking for new members. During the realization of this book, it's possible that we made some errors. You can report them at this page[4].\\n\", '\\n', 'The following users contributed to this book:\\n', '\\n', 'CES1596\\n', '\\n', 'Christophorus~lawikisource\\n', '\\n', 'Accurimbono\\n', '\\n', 'Barbaking\\n', '\\n', 'ShakespeareFan00\\n', '\\n', 'Piero~lawikisource\\n', '\\n', 'Jredmond\\n', '\\n', 'SSilent\\n', '\\n', 'Demetrius Talpa\\n', '\\n', 'Lew XXI\\n', '\\n', 'Nicole Sharp\\n', '\\n', 'Matthead\\n', '\\n', 'Daniele Pugliesi\\n', '\\n', 'Svdmolen\\n', '\\n', '\\n', '\\n', '\\n', '\\n', '* * *\\n', '\\n', '\\n', '\\n', '↑ https://wikisource.org\\n', '\\n', '↑ https://www.creativecommons.org/licenses/by-sa/3.0\\n', '\\n', '↑ https://www.gnu.org/copyleft/fdl.html\\n', '\\n', '↑ https://wikisource.org/wiki/Wikisource:Scriptorium\\n', '\\n', '\\n', '\\n', '\\n', '\\n']\n"
     ]
    }
   ],
   "source": [
    "### GRADED\n",
    "with open(filepath) as f:\n",
    "    principia = f.readlines()\n",
    "\n",
    "\n",
    "### ANSWER CHECK\n",
    "print(type(principia))\n",
    "print(principia)"
   ]
  },
  {
   "cell_type": "markdown",
   "metadata": {
    "deletable": false,
    "editable": false,
    "nbgrader": {
     "cell_type": "markdown",
     "checksum": "6da18917dcf1e687c3639806291dc7dd",
     "grade": false,
     "grade_id": "cell-9a0835a4a22385e7",
     "locked": true,
     "schema_version": 3,
     "solution": false,
     "task": false
    }
   },
   "source": [
    "[Back to top](#-Index)\n",
    "\n",
    "### Problem 2\n",
    "\n",
    "#### Tokenizing the text. \n",
    "\n",
    "**5 Points**\n",
    "\n",
    "Using the `principia` variable from problem 1, combine the `' '.join()` function with `word_tokenize` to create a list of tokens named `tokens` below."
   ]
  },
  {
   "cell_type": "code",
   "execution_count": 4,
   "metadata": {
    "deletable": false,
    "nbgrader": {
     "cell_type": "code",
     "checksum": "a564a0641876a6987e47a33aea7860fe",
     "grade": false,
     "grade_id": "cell-807f689ba0e006c7",
     "locked": false,
     "schema_version": 3,
     "solution": true,
     "task": false
    }
   },
   "outputs": [
    {
     "name": "stdout",
     "output_type": "stream",
     "text": [
      "<class 'list'>\n",
      "['Philosophiae', 'Naturalis', 'Principia', 'Mathematica', 'Isaacus']\n"
     ]
    }
   ],
   "source": [
    "### GRADED\n",
    "tokens = word_tokenize(\" \".join(principia))\n",
    "\n",
    "### ANSWER CHECK\n",
    "print(type(tokens))\n",
    "print(tokens[:5])"
   ]
  },
  {
   "cell_type": "markdown",
   "metadata": {
    "deletable": false,
    "editable": false,
    "nbgrader": {
     "cell_type": "markdown",
     "checksum": "6101f3fb37380a83f6625235aaf92927",
     "grade": false,
     "grade_id": "cell-7dcdb426f4e87995",
     "locked": true,
     "schema_version": 3,
     "solution": false,
     "task": false
    }
   },
   "source": [
    "[Back to top](#-Index)\n",
    "\n",
    "### Problem 3\n",
    "\n",
    "#### Part of Speech Tags \n",
    "\n",
    "**5 Points**\n",
    "\n",
    "Use the `pos_tag` function to create the part of speech tagged corpus of the principia text.  Assign the tagged text to the variable `words_pos` below."
   ]
  },
  {
   "cell_type": "code",
   "execution_count": 5,
   "metadata": {
    "deletable": false,
    "nbgrader": {
     "cell_type": "code",
     "checksum": "bb64dbcda526b0753e3055d1408cb7a3",
     "grade": false,
     "grade_id": "cell-650ad3c54397b85a",
     "locked": false,
     "schema_version": 3,
     "solution": true,
     "task": false
    }
   },
   "outputs": [
    {
     "name": "stdout",
     "output_type": "stream",
     "text": [
      "<class 'list'>\n",
      "[('Philosophiae', 'NNP'), ('Naturalis', 'NNP'), ('Principia', 'NNP'), ('Mathematica', 'NNP'), ('Isaacus', 'NNP')]\n"
     ]
    }
   ],
   "source": [
    "### GRADED\n",
    "words_pos = nltk.pos_tag(tokens)\n",
    "\n",
    "### ANSWER CHECK\n",
    "print(type(words_pos))\n",
    "print(words_pos[:5])"
   ]
  },
  {
   "cell_type": "markdown",
   "metadata": {
    "deletable": false,
    "editable": false,
    "nbgrader": {
     "cell_type": "markdown",
     "checksum": "b90758c2957de27d4ebd0178d9b106b4",
     "grade": false,
     "grade_id": "cell-ee0e86460f002861",
     "locked": true,
     "schema_version": 3,
     "solution": false,
     "task": false
    }
   },
   "source": [
    "[Back to top](#-Index)\n",
    "\n",
    "### Problem 4\n",
    "\n",
    "#### Named Entities\n",
    "\n",
    "**5 Points**\n",
    "\n",
    "Use the tagged words in `words_pos` to create a list of tuples in the form (word, entity type) if the word has a named entity label.  Assign these tuples to the list `named_entities` below."
   ]
  },
  {
   "cell_type": "code",
   "execution_count": 6,
   "metadata": {
    "deletable": false,
    "nbgrader": {
     "cell_type": "code",
     "checksum": "3ecf9e424ca2d0a74c6f8deb228571d4",
     "grade": false,
     "grade_id": "cell-ce072603df835fbd",
     "locked": false,
     "schema_version": 3,
     "solution": true,
     "task": false
    }
   },
   "outputs": [],
   "source": [
    "named_entities = []\n",
    "for word in nltk.ne_chunk(words_pos):\n",
    "    if hasattr(word, \"label\"):\n",
    "        named_entities.append((\" \".join(c[0] for c in word.leaves()), word.label()))"
   ]
  },
  {
   "cell_type": "code",
   "execution_count": 7,
   "metadata": {},
   "outputs": [
    {
     "data": {
      "text/plain": [
       "[('Philosophiae', 'GSP'),\n",
       " ('Naturalis Principia Mathematica Isaacus Newtonus', 'PERSON'),\n",
       " ('Wikisource', 'GPE'),\n",
       " ('INDEX Tituli', 'ORGANIZATION'),\n",
       " ('Auctoris', 'GPE'),\n",
       " ('Viri Præstantissimi Definitiones Axiomata', 'PERSON'),\n",
       " ('Leges Motus DE', 'PERSON'),\n",
       " ('MOTU', 'ORGANIZATION'),\n",
       " ('CORPORUM', 'ORGANIZATION'),\n",
       " ('DE Methodo', 'ORGANIZATION'),\n",
       " ('De', 'PERSON'),\n",
       " ('Virium', 'PERSON'),\n",
       " ('De', 'PERSON'),\n",
       " ('Conicis', 'GSP'),\n",
       " ('De', 'PERSON'),\n",
       " ('Orbium Elliptieorum', 'PERSON'),\n",
       " ('Parabolieorum', 'ORGANIZATION'),\n",
       " ('Umbilico', 'GPE'),\n",
       " ('Orbium', 'PERSON'),\n",
       " ('De', 'PERSON'),\n",
       " ('Orbibus', 'GPE'),\n",
       " ('De', 'PERSON'),\n",
       " ('Ascensu', 'PERSON'),\n",
       " ('De', 'PERSON'),\n",
       " ('Viribus', 'PERSON'),\n",
       " ('De Motu', 'PERSON'),\n",
       " ('Orbibus', 'GPE'),\n",
       " ('Motu Apsidum', 'PERSON'),\n",
       " ('De Motu', 'PERSON'),\n",
       " ('Superficiebus', 'GPE'),\n",
       " ('Funependulorum Motu', 'PERSON'),\n",
       " ('De Motu', 'PERSON'),\n",
       " ('Viribus', 'PERSON'),\n",
       " ('De', 'PERSON'),\n",
       " ('Sphærieorum Viribus', 'PERSON'),\n",
       " ('De', 'PERSON'),\n",
       " ('Sphærieorum Viribus', 'PERSON'),\n",
       " ('De Motu', 'PERSON'),\n",
       " ('Minimorum', 'PERSON'),\n",
       " ('Veribus', 'PERSON'),\n",
       " ('Magni', 'PERSON'),\n",
       " ('DE', 'ORGANIZATION'),\n",
       " ('CORPORUM', 'ORGANIZATION'),\n",
       " ('De Motu', 'PERSON'),\n",
       " ('De', 'PERSON'),\n",
       " ('De', 'PERSON'),\n",
       " ('De Corporum', 'PERSON'),\n",
       " ('Mediis', 'GPE'),\n",
       " ('Fluidorum', 'PERSON'),\n",
       " ('De Motu', 'PERSON'),\n",
       " ('Corporum Funependulorum', 'PERSON'),\n",
       " ('De Motu Fluidorum', 'PERSON'),\n",
       " ('De Motu', 'PERSON'),\n",
       " ('Fluida', 'GPE'),\n",
       " ('De', 'PERSON'),\n",
       " ('Circulari Fluidorum', 'PERSON'),\n",
       " ('SYSTEMATE', 'ORGANIZATION'),\n",
       " ('Project Gutenberg', 'ORGANIZATION'),\n",
       " ('Philosophiae Naturalis', 'ORGANIZATION'),\n",
       " ('Isaac Newton', 'PERSON'),\n",
       " ('Project Gutenberg License', 'ORGANIZATION'),\n",
       " ('Philosophiae Naturalis Principia Mathematica Author', 'PERSON'),\n",
       " ('Isaac Newton Release Date', 'PERSON'),\n",
       " ('Latin Character', 'PERSON'),\n",
       " ('THIS', 'ORGANIZATION'),\n",
       " ('Jonathan Ingram', 'PERSON'),\n",
       " ('Keith Edkins', 'PERSON'),\n",
       " ('Online Distributed', 'ORGANIZATION'),\n",
       " ('PHILOSOPHIÆ', 'ORGANIZATION'),\n",
       " ('MATHEMATICA', 'ORGANIZATION'),\n",
       " ('NEWTON', 'ORGANIZATION'),\n",
       " ('Trin', 'PERSON'),\n",
       " ('Coll', 'PERSON'),\n",
       " ('Cantab', 'PERSON'),\n",
       " ('Soc', 'PERSON'),\n",
       " ('Matheseos Professore Lucasiano', 'PERSON'),\n",
       " ('Societatis Regalis Sodali', 'ORGANIZATION'),\n",
       " ('Reg', 'PERSON'),\n",
       " ('Soc', 'PERSON'),\n",
       " ('PRÆSES', 'ORGANIZATION'),\n",
       " ('Jussu Societatis Regiæ', 'PERSON'),\n",
       " ('Typis Josephi Streater', 'PERSON'),\n",
       " ('Anno MDCLXXXVII', 'PERSON'),\n",
       " ('ILLUSTRISSIMÆ', 'ORGANIZATION'),\n",
       " ('Serenissimo', 'ORGANIZATION'),\n",
       " ('ET', 'ORGANIZATION'),\n",
       " ('FLORENTI', 'ORGANIZATION'),\n",
       " ('Tractatum', 'PERSON'),\n",
       " ('NEWTON', 'ORGANIZATION'),\n",
       " ('Wikisource', 'PERSON'),\n",
       " ('Creative Commons', 'ORGANIZATION'),\n",
       " ('GNU', 'ORGANIZATION'),\n",
       " ('Wikisource', 'PERSON'),\n",
       " ('CES1596', 'ORGANIZATION'),\n",
       " ('Lew XXI Nicole Sharp Matthead Daniele Pugliesi Svdmolen', 'PERSON')]"
      ]
     },
     "execution_count": 7,
     "metadata": {},
     "output_type": "execute_result"
    }
   ],
   "source": [
    "named_entities"
   ]
  },
  {
   "cell_type": "markdown",
   "metadata": {
    "deletable": false,
    "editable": false,
    "nbgrader": {
     "cell_type": "markdown",
     "checksum": "117980e42503777b1295958619969a64",
     "grade": false,
     "grade_id": "cell-010a845bf5cb4d22",
     "locked": true,
     "schema_version": 3,
     "solution": false,
     "task": false
    }
   },
   "source": [
    "[Back to top](#-Index)\n",
    "\n",
    "### Problem 5\n",
    "\n",
    "#### Removing People\n",
    "\n",
    "**5 Points**\n",
    "\n",
    "Use the `named_entities` list to include only entities labeled `GPE` and create a list of these words lowercased as `places` below."
   ]
  },
  {
   "cell_type": "code",
   "execution_count": 8,
   "metadata": {
    "deletable": false,
    "nbgrader": {
     "cell_type": "code",
     "checksum": "c3dd487be3353f6cbc6d0d3a827bf33c",
     "grade": false,
     "grade_id": "cell-a23882a47b1e5974",
     "locked": false,
     "schema_version": 3,
     "solution": true,
     "task": false
    }
   },
   "outputs": [
    {
     "name": "stdout",
     "output_type": "stream",
     "text": [
      "<class 'list'>\n",
      "['wikisource', 'auctoris', 'umbilico', 'orbibus', 'orbibus']\n"
     ]
    }
   ],
   "source": [
    "### GRADED\n",
    "places = [entity[0].lower() for entity in named_entities if entity[1] == \"GPE\"]\n",
    "\n",
    "### ANSWER CHECK\n",
    "print(type(places))\n",
    "print(places[:5])"
   ]
  },
  {
   "cell_type": "markdown",
   "metadata": {
    "deletable": false,
    "editable": false,
    "nbgrader": {
     "cell_type": "markdown",
     "checksum": "19773b56574933c7f8715b928ebde43c",
     "grade": false,
     "grade_id": "cell-7d9df33ade83e4fd",
     "locked": true,
     "schema_version": 3,
     "solution": false,
     "task": false
    }
   },
   "source": [
    "[Back to top](#-Index)\n",
    "\n",
    "### Problem 6\n",
    "\n",
    "#### Removing stopwords\n",
    "\n",
    "**5 Points**\n",
    "\n",
    "Use the list `places` to remove all stopwords.  Assign these words as a list to `no_stops` below."
   ]
  },
  {
   "cell_type": "code",
   "execution_count": 9,
   "metadata": {},
   "outputs": [],
   "source": [
    "from nltk.corpus import stopwords"
   ]
  },
  {
   "cell_type": "code",
   "execution_count": 10,
   "metadata": {
    "deletable": false,
    "nbgrader": {
     "cell_type": "code",
     "checksum": "584c02720e6f7afffea556246dbe7f86",
     "grade": false,
     "grade_id": "cell-f48753c59ed8ad9c",
     "locked": false,
     "schema_version": 3,
     "solution": true,
     "task": false
    }
   },
   "outputs": [
    {
     "name": "stdout",
     "output_type": "stream",
     "text": [
      "<class 'list'>\n",
      "['wikisource', 'auctoris', 'umbilico', 'orbibus', 'orbibus', 'superficiebus', 'mediis', 'fluida']\n"
     ]
    }
   ],
   "source": [
    "### GRADED\n",
    "no_stops = [w for w in places if w not in stopwords.words(\"english\")]\n",
    "\n",
    "\n",
    "### ANSWER CHECK\n",
    "print(type(no_stops))\n",
    "print(no_stops)"
   ]
  }
 ],
 "metadata": {
  "kernelspec": {
   "display_name": "Python 3 (ipykernel)",
   "language": "python",
   "name": "python3"
  },
  "language_info": {
   "codemirror_mode": {
    "name": "ipython",
    "version": 3
   },
   "file_extension": ".py",
   "mimetype": "text/x-python",
   "name": "python",
   "nbconvert_exporter": "python",
   "pygments_lexer": "ipython3",
   "version": "3.10.13"
  }
 },
 "nbformat": 4,
 "nbformat_minor": 4
}
