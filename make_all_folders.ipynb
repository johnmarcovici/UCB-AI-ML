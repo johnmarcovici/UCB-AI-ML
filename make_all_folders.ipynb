{
 "cells": [
  {
   "cell_type": "code",
   "execution_count": 1,
   "metadata": {},
   "outputs": [],
   "source": [
    "import pathlib\n",
    "import subprocess"
   ]
  },
  {
   "cell_type": "code",
   "execution_count": 18,
   "metadata": {},
   "outputs": [
    {
     "name": "stdout",
     "output_type": "stream",
     "text": [
      "Folder modules/module-01 exists True data folder modules/module-01/data exists True notebook modules/module-01/module_scratchpad.ipynb exists True\n",
      "Folder modules/module-02 exists True data folder modules/module-02/data exists True notebook modules/module-02/module_scratchpad.ipynb exists True\n",
      "Folder modules/module-03 exists True data folder modules/module-03/data exists True notebook modules/module-03/module_scratchpad.ipynb exists True\n",
      "Folder modules/module-04 exists True data folder modules/module-04/data exists True notebook modules/module-04/module_scratchpad.ipynb exists True\n",
      "Folder modules/module-05 exists True data folder modules/module-05/data exists True notebook modules/module-05/module_scratchpad.ipynb exists True\n",
      "Folder modules/module-06 exists True data folder modules/module-06/data exists True notebook modules/module-06/module_scratchpad.ipynb exists True\n",
      "Folder modules/module-07 exists True data folder modules/module-07/data exists True notebook modules/module-07/module_scratchpad.ipynb exists True\n",
      "Folder modules/module-08 exists True data folder modules/module-08/data exists True notebook modules/module-08/module_scratchpad.ipynb exists True\n",
      "Folder modules/module-09 exists True data folder modules/module-09/data exists True notebook modules/module-09/module_scratchpad.ipynb exists True\n",
      "Folder modules/module-10 exists True data folder modules/module-10/data exists True notebook modules/module-10/module_scratchpad.ipynb exists True\n",
      "Folder modules/module-11 exists True data folder modules/module-11/data exists True notebook modules/module-11/module_scratchpad.ipynb exists True\n",
      "Folder modules/module-12 exists True data folder modules/module-12/data exists True notebook modules/module-12/module_scratchpad.ipynb exists True\n",
      "Folder modules/module-13 exists True data folder modules/module-13/data exists True notebook modules/module-13/module_scratchpad.ipynb exists True\n",
      "Folder modules/module-14 exists True data folder modules/module-14/data exists True notebook modules/module-14/module_scratchpad.ipynb exists True\n",
      "Folder modules/module-15 exists True data folder modules/module-15/data exists True notebook modules/module-15/module_scratchpad.ipynb exists True\n",
      "Folder modules/module-16 exists True data folder modules/module-16/data exists True notebook modules/module-16/module_scratchpad.ipynb exists True\n",
      "Folder modules/module-17 exists True data folder modules/module-17/data exists True notebook modules/module-17/module_scratchpad.ipynb exists True\n"
     ]
    }
   ],
   "source": [
    "weeks = range(1, 18)\n",
    "for week in weeks:\n",
    "    folder_name = \"modules/module-%02d\" % week\n",
    "    if 0:\n",
    "        # Renamed folders to including leading 0 in name e.g. from module-1 to module-01\n",
    "        folder_name_curr = \"modules/module-%d\" % week\n",
    "        subprocess_str = [\n",
    "            \"git\",\n",
    "            \"mv\",\n",
    "            \"%s\" % folder_name_curr,\n",
    "            \"%s\" % folder_name,\n",
    "        ]\n",
    "        print(subprocess.run(subprocess_str, capture_output=True))\n",
    "\n",
    "    data_folder = folder_name + \"/data\"\n",
    "    notebook_stub = \"module_scratchpad.ipynb\"\n",
    "    notebook_fullname = folder_name + \"/\" + notebook_stub\n",
    "\n",
    "    print(\n",
    "        \"Folder %s exists %s data folder %s exists %s notebook %s exists %s\"\n",
    "        % (\n",
    "            folder_name,\n",
    "            pathlib.Path(folder_name).is_dir(),\n",
    "            data_folder,\n",
    "            pathlib.Path(data_folder).is_dir(),\n",
    "            notebook_fullname,\n",
    "            pathlib.Path(notebook_fullname).is_file(),\n",
    "        )\n",
    "    )\n",
    "\n",
    "    # Make dir if not exists\n",
    "    if not pathlib.Path(data_folder).is_dir():\n",
    "        pathlib.Path(data_folder).mkdir(parents=True, exist_ok=True)\n",
    "\n",
    "    # Copy scratchpad from base to folder if not exists\n",
    "    if not pathlib.Path(notebook_fullname).is_file():\n",
    "        print(\"\\tNeed to copy this from %s to %s\" % (notebook_stub, notebook_fullname))\n",
    "        subprocess_str = [\"cp\", notebook_stub, notebook_fullname]\n",
    "        print(subprocess.run(subprocess_str, capture_output=True))"
   ]
  }
 ],
 "metadata": {
  "kernelspec": {
   "display_name": "Python 3",
   "language": "python",
   "name": "python3"
  },
  "language_info": {
   "codemirror_mode": {
    "name": "ipython",
    "version": 3
   },
   "file_extension": ".py",
   "mimetype": "text/x-python",
   "name": "python",
   "nbconvert_exporter": "python",
   "pygments_lexer": "ipython3",
   "version": "3.9.2"
  }
 },
 "nbformat": 4,
 "nbformat_minor": 2
}
