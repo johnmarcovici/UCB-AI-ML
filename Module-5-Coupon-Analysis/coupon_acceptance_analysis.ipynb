{
 "cells": [
  {
   "cell_type": "markdown",
   "metadata": {},
   "source": [
    "### Will a Customer Accept the Coupon?\n",
    "\n",
    "**Context**\n",
    "\n",
    "Imagine driving through town and a coupon is delivered to your cell phone for a restaraunt near where you are driving. Would you accept that coupon and take a short detour to the restaraunt? Would you accept the coupon but use it on a sunbsequent trip? Would you ignore the coupon entirely? What if the coupon was for a bar instead of a restaraunt? What about a coffee house? Would you accept a bar coupon with a minor passenger in the car? What about if it was just you and your partner in the car? Would weather impact the rate of acceptance? What about the time of day?\n",
    "\n",
    "Obviously, proximity to the business is a factor on whether the coupon is delivered to the driver or not, but what are the factors that determine whether a driver accepts the coupon once it is delivered to them? How would you determine whether a driver is likely to accept a coupon?\n",
    "\n",
    "**Overview**\n",
    "\n",
    "The goal of this project is to use what you know about visualizations and probability distributions to distinguish between customers who accepted a driving coupon versus those that did not.\n",
    "\n",
    "**Data**\n",
    "\n",
    "This data comes to us from the UCI Machine Learning repository and was collected via a survey on Amazon Mechanical Turk. The survey describes different driving scenarios including the destination, current time, weather, passenger, etc., and then ask the person whether he will accept the coupon if he is the driver. Answers that the user will drive there ‘right away’ or ‘later before the coupon expires’ are labeled as ‘Y = 1’ and answers ‘no, I do not want the coupon’ are labeled as ‘Y = 0’.  There are five different types of coupons -- less expensive restaurants (under \\\\$20), coffee houses, carry out & take away, bar, and more expensive restaurants (\\\\$20 - \\\\$50). "
   ]
  },
  {
   "cell_type": "markdown",
   "metadata": {},
   "source": [
    "**Deliverables**\n",
    "\n",
    "Your final product should be a brief report that highlights the differences between customers who did and did not accept the coupons.  To explore the data you will utilize your knowledge of plotting, statistical summaries, and visualization using Python. You will publish your findings in a public facing github repository as your first portfolio piece. \n",
    "\n",
    "\n",
    "\n"
   ]
  },
  {
   "cell_type": "markdown",
   "metadata": {},
   "source": [
    "### Data Description\n",
    "Keep in mind that these values mentioned below are average values.\n",
    "\n",
    "The attributes of this data set include:\n",
    "1. User attributes\n",
    "    -  Gender: male, female\n",
    "    -  Age: below 21, 21 to 25, 26 to 30, etc.\n",
    "    -  Marital Status: single, married partner, unmarried partner, or widowed\n",
    "    -  Number of children: 0, 1, or more than 1\n",
    "    -  Education: high school, bachelors degree, associates degree, or graduate degree\n",
    "    -  Occupation: architecture & engineering, business & financial, etc.\n",
    "    -  Annual income: less than \\\\$12500, \\\\$12500 - \\\\$24999, \\\\$25000 - \\\\$37499, etc.\n",
    "    -  Number of times that he/she goes to a bar: 0, less than 1, 1 to 3, 4 to 8 or greater than 8\n",
    "    -  Number of times that he/she buys takeaway food: 0, less than 1, 1 to 3, 4 to 8 or greater\n",
    "    than 8\n",
    "    -  Number of times that he/she goes to a coffee house: 0, less than 1, 1 to 3, 4 to 8 or\n",
    "    greater than 8\n",
    "    -  Number of times that he/she eats at a restaurant with average expense less than \\\\$20 per\n",
    "    person: 0, less than 1, 1 to 3, 4 to 8 or greater than 8\n",
    "    -  Number of times that he/she goes to a bar: 0, less than 1, 1 to 3, 4 to 8 or greater than 8\n",
    "    \n",
    "\n",
    "2. Contextual attributes\n",
    "    - Driving destination: home, work, or no urgent destination\n",
    "    - Location of user, coupon and destination: we provide a map to show the geographical\n",
    "    location of the user, destination, and the venue, and we mark the distance between each\n",
    "    two places with time of driving. The user can see whether the venue is in the same\n",
    "    direction as the destination.\n",
    "    - Weather: sunny, rainy, or snowy\n",
    "    - Temperature: 30F, 55F, or 80F\n",
    "    - Time: 10AM, 2PM, or 6PM\n",
    "    - Passenger: alone, partner, kid(s), or friend(s)\n",
    "\n",
    "\n",
    "3. Coupon attributes\n",
    "    - time before it expires: 2 hours or one day"
   ]
  },
  {
   "cell_type": "markdown",
   "metadata": {},
   "source": [
    "### Imports"
   ]
  },
  {
   "cell_type": "code",
   "execution_count": null,
   "metadata": {},
   "outputs": [],
   "source": [
    "import warnings\n",
    "\n",
    "warnings.filterwarnings(\"ignore\")\n",
    "import matplotlib.pyplot as plt\n",
    "import pandas as pd\n",
    "import numpy as np\n",
    "import json\n",
    "import random\n",
    "import plotly.express as px\n",
    "from IPython.display import Image\n",
    "from typing import Union, List"
   ]
  },
  {
   "cell_type": "markdown",
   "metadata": {},
   "source": [
    "### Data Load"
   ]
  },
  {
   "cell_type": "markdown",
   "metadata": {},
   "source": [
    "#### Read in the `coupons.csv` file"
   ]
  },
  {
   "cell_type": "code",
   "execution_count": null,
   "metadata": {},
   "outputs": [],
   "source": [
    "df_in = pd.read_csv(\"./data/coupons.csv\")"
   ]
  },
  {
   "cell_type": "markdown",
   "metadata": {},
   "source": [
    "Function generates a compact data frame with number of rows given by the maximum number of unique elements in any column  \n",
    "- Columns with fewer elements than that maximum provide more via random selection drawn from its unique set  \n",
    "- This frame scrambles the data in any given row, so it is not for exploitation purposes, but to give a look at all the information in the frame"
   ]
  },
  {
   "cell_type": "code",
   "execution_count": null,
   "metadata": {},
   "outputs": [],
   "source": [
    "def random_unique_vals(series: pd.Series = None, nunique: int = 0) -> pd.Series:\n",
    "    unique_vals = series.unique().tolist()\n",
    "    return pd.Series(\n",
    "        unique_vals + random.choices(unique_vals, k=nunique - len(unique_vals))\n",
    "    )\n",
    "\n",
    "\n",
    "def unique_dataframe(df: pd.DataFrame) -> pd.DataFrame:\n",
    "    random.seed(0)\n",
    "    return df.apply(\n",
    "        random_unique_vals, nunique=df.apply(lambda x: len(x.unique())).max()\n",
    "    )"
   ]
  },
  {
   "cell_type": "markdown",
   "metadata": {},
   "source": [
    "#### Investigate the dataset for missing or problematic data"
   ]
  },
  {
   "cell_type": "code",
   "execution_count": null,
   "metadata": {},
   "outputs": [],
   "source": [
    "pd.set_option(\"display.max_columns\", None)\n",
    "display(unique_dataframe(df_in).head(5))"
   ]
  },
  {
   "cell_type": "markdown",
   "metadata": {},
   "source": [
    "By just viewing the first few rows of the compact frame, we see many problems:  \n",
    "- There are NaN present in several categories (`car`, `Bar`, etc...)  \n",
    "- The values are often too complicated, for example, in the `coupon category`, \"Carry out & Take away\" is quite cumbersome if we want to query for this value \n",
    "- There is ostensibly numeric data hiding in awkward range-like strings, such as 4~8 meaning 4 to 8 visits per month  \n",
    "- Many of the column names, such as `toCoupon_GEQ5min` and `RestaurantLessThan20`, are incomprehensible - we do not want to have a separate description to be able to understand what a column means, we desire names where the meaning is self-evident"
   ]
  },
  {
   "cell_type": "markdown",
   "metadata": {},
   "source": [
    "### Data Cleaning"
   ]
  },
  {
   "cell_type": "markdown",
   "metadata": {},
   "source": [
    "#### Decide what to do about your missing data -- drop, replace, other..."
   ]
  },
  {
   "cell_type": "markdown",
   "metadata": {},
   "source": [
    "#### Change Summary\n",
    "\n",
    "Here is a summary of changes I made. A complete description is in the file in ``./data/coupons_cleanup_dict.json``"
   ]
  },
  {
   "cell_type": "markdown",
   "metadata": {},
   "source": [
    "##### Dropped\n",
    "- `car` because out of 12,000 rows in the data frame, only about 100 were non-null\n",
    "- `direction_opp` redundant because it is the logical negation of `direction_same`\n",
    "- - i.e. `all(df_in.direction_opp == (1 - df_in.direction_same))`\n",
    "- - - using `1 - val` rather than `~val` because `direction_opp` is int not bool\n",
    "##### Renamed - various renames to make the column names self-documenting\n",
    "- `passanger` renamed `passenger`\n",
    "- `toCoupon_GEQ<N>min` renamed `AtLeast<N>MinutesDriveToRedeem`\n",
    "- `income` renamed `AvgAnnualIncome`\n",
    "- `Bar`, `CoffeeHouse`, `CarryAway`, `Restaurant`* gained prefix `AvgMonthlyVisitsTo`\n",
    "- - For example `Bar` renamed `AvgMonthlyVisitsToBar`\n",
    "- - I refer to these as \"frequency of visit\" columns\n",
    "##### Numeric Range Strings Converted to Floats\n",
    "- Columns such as `income` and all the \"frequency of visit\" columns contained ranges which I converted to the mean value it represented\n",
    "- - For example the visit frequency \"4~8\" was converted to 6.0\n",
    "- - This made them easy to exploit as numeric values\n",
    "##### Simplified\n",
    "- Multi-word cell values were reduced to single-word values with equivalent meaning wherever possible\n",
    "- - For example \"Married partner\" was simplified to \"Married\"\n",
    "- Suffixes which add no additional meaning were removed, e.g. `Kid(s)` was shortened to `Kid`"
   ]
  },
  {
   "cell_type": "markdown",
   "metadata": {},
   "source": [
    "#### Perform Cleanups"
   ]
  },
  {
   "cell_type": "markdown",
   "metadata": {},
   "source": [
    "##### Cleanup Functions"
   ]
  },
  {
   "cell_type": "code",
   "execution_count": null,
   "metadata": {},
   "outputs": [],
   "source": [
    "# Convert a string representing a range to its mean, e.g. str(\"1 - 2\") -> float(1.5)\n",
    "def range_to_mean(element: str, sep: str = \"-\") -> float:\n",
    "    if isinstance(element, str):\n",
    "        return np.array(list(map(float, element.replace(\" \", \"\").split(sep)))).mean()\n",
    "    else:\n",
    "        return element"
   ]
  },
  {
   "cell_type": "code",
   "execution_count": null,
   "metadata": {},
   "outputs": [],
   "source": [
    "cleanup_dict = json.load(open(\"./data/coupons_cleanup_dict.json\", \"r\"))\n",
    "\n",
    "\n",
    "def cleanup_series(\n",
    "    series: pd.Series = None,\n",
    ") -> pd.Series:\n",
    "    # Get cleanup dict for this series or return\n",
    "    if series.name not in cleanup_dict:\n",
    "        return series\n",
    "\n",
    "    column_cleanup_dict = cleanup_dict[series.name]\n",
    "    if \"key\" in column_cleanup_dict:\n",
    "        # Take a different cleanup if a key is provided\n",
    "        column_cleanup_dict = cleanup_dict[column_cleanup_dict[\"key\"]]\n",
    "\n",
    "    # Substring replace (many to one) with regex\n",
    "    if \"str.replace\" in column_cleanup_dict:\n",
    "        pattern = \"|\".join(column_cleanup_dict[\"str.replace\"][0])\n",
    "        series = series.str.replace(\n",
    "            pattern, column_cleanup_dict[\"str.replace\"][1], regex=True\n",
    "        )\n",
    "\n",
    "    # Whole-word replace (one to one) without regex\n",
    "    if \"replace\" in column_cleanup_dict:\n",
    "        series = series.replace(column_cleanup_dict[\"replace\"], regex=False)\n",
    "\n",
    "    # Apply a function\n",
    "    if \"apply\" in column_cleanup_dict:\n",
    "        series = series.apply(eval(column_cleanup_dict[\"apply\"]))\n",
    "\n",
    "    return series"
   ]
  },
  {
   "cell_type": "markdown",
   "metadata": {},
   "source": [
    "##### Run the Cleanup On all Columns"
   ]
  },
  {
   "cell_type": "code",
   "execution_count": null,
   "metadata": {},
   "outputs": [],
   "source": [
    "# Extract iterables for dropping and renaming columns\n",
    "drop_list = [key for key in cleanup_dict if \"drop\" in cleanup_dict[key]]\n",
    "rename_dict = {\n",
    "    key: cleanup_dict[key][\"rename\"]\n",
    "    for key in cleanup_dict\n",
    "    if \"rename\" in cleanup_dict[key]\n",
    "}\n",
    "\n",
    "# Perform the cleanups per column as defined by cleanups dict\n",
    "df = (\n",
    "    df_in.copy(deep=True)\n",
    "    .drop(drop_list, axis=1)\n",
    "    .apply(cleanup_series)\n",
    "    .rename(columns=rename_dict)\n",
    ")"
   ]
  },
  {
   "cell_type": "markdown",
   "metadata": {},
   "source": [
    "The awkward extraction for the `drop_list` and `rename_dict` results from the way I organized the data in the `cleanup_dict` as\n",
    "\n",
    "```\n",
    "{\n",
    "Column-A:{drop:T/F, rename:rename-to, cleanup:yada-yada-yada},\n",
    "...\n",
    "Column-Z:{drop:T/F, rename:rename-to, cleanup:blah-blah-blah},\n",
    "}\n",
    "```\n",
    "\n",
    "which makes it is easy to look at by column (tell me everything you did to column X)  \n",
    "but harder to look at by cleanup category (what columns did you rename?)  \n",
    "\n",
    "This column-wise organization is appealing, even if it costs a bit of cumbersome code when looking across columns."
   ]
  },
  {
   "cell_type": "markdown",
   "metadata": {},
   "source": [
    "#### Finish Cleanup Processing and Save Data"
   ]
  },
  {
   "cell_type": "markdown",
   "metadata": {},
   "source": [
    "##### Drop Remaining NaN's and Display Final Compares"
   ]
  },
  {
   "cell_type": "code",
   "execution_count": null,
   "metadata": {},
   "outputs": [],
   "source": [
    "df.dropna(inplace=True)\n",
    "\n",
    "display(unique_dataframe(df_in).head(5))\n",
    "display(unique_dataframe(df).head(5))"
   ]
  },
  {
   "cell_type": "markdown",
   "metadata": {},
   "source": [
    "The display shows that many multi-word values were simplified, range strings and \"numeric strings\" were converted to numeric values, NaN's were removed, and many columns gained readily understood names"
   ]
  },
  {
   "cell_type": "markdown",
   "metadata": {},
   "source": [
    "### Initial Analyses"
   ]
  },
  {
   "cell_type": "markdown",
   "metadata": {},
   "source": [
    "##### What proportion of the total observations chose to accept the coupon?"
   ]
  },
  {
   "cell_type": "code",
   "execution_count": null,
   "metadata": {},
   "outputs": [],
   "source": [
    "def acceptance_rate(\n",
    "    df: pd.DataFrame = None,\n",
    "    mask: pd.Series = pd.Series(),\n",
    ") -> Union[float, List[float]]:\n",
    "    if mask.empty:\n",
    "        return len(df.query(\"Y == 1\")) / len(df) * 100.0\n",
    "    else:\n",
    "        return [acceptance_rate(df[mask]), acceptance_rate(df[~mask])]"
   ]
  },
  {
   "cell_type": "code",
   "execution_count": null,
   "metadata": {},
   "outputs": [],
   "source": [
    "acceptance_rate(df)"
   ]
  },
  {
   "cell_type": "markdown",
   "metadata": {},
   "source": [
    "57% of the total observations chose to accept the coupon"
   ]
  },
  {
   "cell_type": "markdown",
   "metadata": {},
   "source": [
    "##### Use a bar plot to visualize the `coupon` column"
   ]
  },
  {
   "cell_type": "markdown",
   "metadata": {},
   "source": [
    "This is a bar plot of the number of coupons offered per establishment type  \n",
    "The plot shows that more coupons were offered for coffee houses than any other establishment"
   ]
  },
  {
   "cell_type": "code",
   "execution_count": null,
   "metadata": {},
   "outputs": [],
   "source": [
    "df.groupby(\"coupon\")[\"Y\"].agg([\"count\"]).reset_index().sort_values(\n",
    "    by=\"count\", ascending=False\n",
    ").plot(\n",
    "    x=\"coupon\",\n",
    "    y=\"count\",\n",
    "    kind=\"bar\",\n",
    "    legend=False,\n",
    "    xlabel=\"Establishment Type\",\n",
    "    ylabel=\"Coupons Offered\",\n",
    "    title=\"Coupons Offered per Establishment Type\",\n",
    "    grid=True,\n",
    "    rot=-45,\n",
    ");"
   ]
  },
  {
   "cell_type": "markdown",
   "metadata": {},
   "source": [
    "##### Use a histogram to visualize the temperature column"
   ]
  },
  {
   "cell_type": "markdown",
   "metadata": {},
   "source": [
    "This is a histogram of the temperatures during days when coupons were offered  \n",
    "The plot shows that coupons were offered most often on days when the temperature was 80 degrees"
   ]
  },
  {
   "cell_type": "code",
   "execution_count": null,
   "metadata": {},
   "outputs": [],
   "source": [
    "df.hist(\"temperature\", grid=True)\n",
    "plt.xlabel(\"Temperature (degrees F)\")\n",
    "plt.ylabel(\"Counts\")\n",
    "plt.title(\"Temperature Histogram\");"
   ]
  },
  {
   "cell_type": "markdown",
   "metadata": {},
   "source": [
    "### Investigating the Bar Coupons\n",
    "\n",
    "Now, we will lead you through an exploration of just the bar related coupons.  "
   ]
  },
  {
   "cell_type": "markdown",
   "metadata": {},
   "source": [
    "##### 1. Create a new `DataFrame` that contains just the bar coupons"
   ]
  },
  {
   "cell_type": "code",
   "execution_count": null,
   "metadata": {},
   "outputs": [],
   "source": [
    "df_bar = df.query(\"coupon == 'Bar'\")"
   ]
  },
  {
   "cell_type": "markdown",
   "metadata": {},
   "source": [
    "##### 2. What proportion of bar coupons were accepted?"
   ]
  },
  {
   "cell_type": "code",
   "execution_count": null,
   "metadata": {},
   "outputs": [],
   "source": [
    "acceptance_rate(df_bar)"
   ]
  },
  {
   "cell_type": "markdown",
   "metadata": {},
   "source": [
    "41% of bar coupons were accepted"
   ]
  },
  {
   "cell_type": "markdown",
   "metadata": {},
   "source": [
    "##### 3. Compare the acceptance rate between those who went to a bar 3 or fewer times a month to those who went more\n"
   ]
  },
  {
   "cell_type": "code",
   "execution_count": null,
   "metadata": {},
   "outputs": [],
   "source": [
    "acceptance_rate(df_bar, mask=df_bar[\"AvgMonthlyVisitsToBar\"] <= 3)"
   ]
  },
  {
   "cell_type": "markdown",
   "metadata": {},
   "source": [
    "People who went to a bar 3 or fewer times accepted at about half the rate (37%) to those who went more (76%)"
   ]
  },
  {
   "cell_type": "markdown",
   "metadata": {},
   "source": [
    "##### 4. Compare the acceptance rate between drivers who go to a bar more than once a month and are over the age of 25 to the all others - is there a difference?"
   ]
  },
  {
   "cell_type": "code",
   "execution_count": null,
   "metadata": {},
   "outputs": [],
   "source": [
    "mask_more_than_once = df_bar[\"AvgMonthlyVisitsToBar\"] > 1\n",
    "acceptance_rate(df_bar, mask=mask_more_than_once & (df_bar[\"age\"] > 25))"
   ]
  },
  {
   "cell_type": "markdown",
   "metadata": {},
   "source": [
    "Yes, there is a big difference  \n",
    "Drivers who go to a bar more than once a month and are over the age of 25 accepted coupons more than twice as often (69%) as all others (34%)"
   ]
  },
  {
   "cell_type": "markdown",
   "metadata": {},
   "source": [
    "##### 5. Use the same process to compare the acceptance rate between drivers who go to bars more than once a month and had passengers that were not a kid and had occupations other than farming, fishing, or forestry (FF&F)"
   ]
  },
  {
   "cell_type": "code",
   "execution_count": null,
   "metadata": {},
   "outputs": [],
   "source": [
    "# Show that the last condition is irrelevant\n",
    "assert df_bar[\n",
    "    mask_more_than_once\n",
    "    & (df_bar[\"passenger\"] != \"Kid\")\n",
    "    & (df_bar[\"occupation\"] == \"Farming Fishing & Forestry\")\n",
    "].empty\n",
    "\n",
    "acceptance_rate(\n",
    "    df_bar,\n",
    "    mask=mask_more_than_once\n",
    "    & (df_bar[\"passenger\"] != \"Kid\")\n",
    "    & (df_bar[\"occupation\"] != \"Farming Fishing & Forestry\"),\n",
    ")"
   ]
  },
  {
   "cell_type": "markdown",
   "metadata": {},
   "source": [
    "Drivers who go to bars more than once a month and had passengers that were not a kid and had occupations other than FF&F accepted the coupons more than twice as often (71%) as all others (30%)\n",
    "\n",
    "The last condition - occupations other than FF&F - has no impact on the results because once reduced to the first 2 conditions, no one had an occupation of FF&F"
   ]
  },
  {
   "cell_type": "markdown",
   "metadata": {},
   "source": [
    "##### 6. Compare the acceptance rates between those drivers who:\n",
    "\n",
    "- Go to bars more than once a month, had passengers that were not a kid, and were not widowed *OR*\n",
    "- Go to bars more than once a month and are under the age of 30 *OR*\n",
    "- Go to cheap restaurants more than 4 times a month and income is less than 50K"
   ]
  },
  {
   "cell_type": "code",
   "execution_count": null,
   "metadata": {},
   "outputs": [],
   "source": [
    "rate1 = acceptance_rate(\n",
    "    df_bar[mask_more_than_once].query(\n",
    "        \"passenger != 'Kid' and maritalStatus != 'Widowed'\"\n",
    "    )\n",
    ")\n",
    "rate2 = acceptance_rate(df_bar[mask_more_than_once].query(\"age < 30\"))\n",
    "rate3 = acceptance_rate(\n",
    "    df_bar.query(\"AvgMonthlyVisitsToRestaurantLessThan20 > 4 & AvgAnnualIncome < 50e3\")\n",
    ")\n",
    "display([rate1, rate2, rate3])"
   ]
  },
  {
   "cell_type": "markdown",
   "metadata": {},
   "source": [
    "Drivers whos go to bars more than once a month accept coupons about 70% of the time, but drivers with incomes less than 50k who frequently visit cheaper restaurants only accepted 45% of coupons"
   ]
  },
  {
   "cell_type": "markdown",
   "metadata": {},
   "source": [
    "##### 7.  Based on these observations, what do you hypothesize about drivers who accepted the bar coupons?"
   ]
  },
  {
   "cell_type": "markdown",
   "metadata": {},
   "source": [
    "Hypothesize That\n",
    "\n",
    "- These drivers are probably younger on average and perhaps single, with no children, essentially \"young and single\".  \n",
    "\n",
    "- Interestingly, price-consciousness alone does not predict acceptance of bar coupons. For example, drivers who go to cheaper restaurants more than 4 times per month with income less than $50k might be described as \"price conscious\" and yet they accepted bar coupons only 45% of the time"
   ]
  },
  {
   "cell_type": "markdown",
   "metadata": {},
   "source": [
    "### Independent Investigation: Investigating the Coffee House Coupons\n",
    "\n",
    "Using the bar coupon example as motivation, you are to explore one of the other coupon groups and try to determine the characteristics of passengers who accept the coupons"
   ]
  },
  {
   "cell_type": "markdown",
   "metadata": {},
   "source": [
    "Decided to focus on the coffee house coupons because it was the establishment type with the largest count"
   ]
  },
  {
   "cell_type": "markdown",
   "metadata": {},
   "source": [
    "##### Create a new `DataFrame` that contains just the coffee coupons"
   ]
  },
  {
   "cell_type": "code",
   "execution_count": null,
   "metadata": {},
   "outputs": [],
   "source": [
    "df_coffee = df.query(\"coupon == 'CoffeeHouse'\")"
   ]
  },
  {
   "cell_type": "markdown",
   "metadata": {},
   "source": [
    "#### Acceptance Rates of Coffee Coupon by Single Categories"
   ]
  },
  {
   "cell_type": "code",
   "execution_count": null,
   "metadata": {},
   "outputs": [],
   "source": [
    "def compute_grouped_acceptance_rates(\n",
    "    df: pd.DataFrame = None, columns: str = \"\"\n",
    ") -> pd.DataFrame:\n",
    "    return (\n",
    "        pd.DataFrame(\n",
    "            {\n",
    "                \"Acceptance Rate\": df.groupby(columns).apply(acceptance_rate),\n",
    "                \"Count\": df.groupby(columns).apply(len),\n",
    "            }\n",
    "        )\n",
    "        .reset_index()\n",
    "        .sort_values(by=\"Acceptance Rate\", ascending=True)\n",
    "    )"
   ]
  },
  {
   "cell_type": "code",
   "execution_count": null,
   "metadata": {},
   "outputs": [],
   "source": [
    "def plot_grouped_acceptance_rates(\n",
    "    df: pd.DataFrame = None,\n",
    "    show_dynamic: bool = False,\n",
    ") -> any:\n",
    "    # Get the names of the variables to label the plot\n",
    "    columns = list(df.columns[0 : -1 - 1])\n",
    "\n",
    "    # Plot it\n",
    "    fig = px.bar(\n",
    "        df,\n",
    "        x=columns[0] if len(columns) == 1 else None,\n",
    "        y=\"Acceptance Rate\",\n",
    "        color=\"Count\",\n",
    "        title=\"Acceptance Rate of Coffee Coupon by \" + \" and \".join(columns),\n",
    "        height=600,\n",
    "        text_auto=\"d\",\n",
    "    )\n",
    "\n",
    "    fig.update_layout(xaxis_type=\"category\")\n",
    "\n",
    "    if show_dynamic:\n",
    "        fig.show()\n",
    "\n",
    "    return fig.to_image(format=\"png\", width=1200, scale=2)"
   ]
  },
  {
   "cell_type": "markdown",
   "metadata": {},
   "source": [
    "##### By Occupation\n",
    "\n",
    "Here is a bar plot of acceptance rate vs. occupation. The color is the count (sample size) in the category analyzed. This is helpful for recognizing that a category may have a high rate of acceptance but only a limited number of samples in the result."
   ]
  },
  {
   "cell_type": "code",
   "execution_count": null,
   "metadata": {},
   "outputs": [],
   "source": [
    "Image(\n",
    "    plot_grouped_acceptance_rates(\n",
    "        compute_grouped_acceptance_rates(df_coffee, columns=\"occupation\")\n",
    "    )\n",
    ")"
   ]
  },
  {
   "cell_type": "markdown",
   "metadata": {},
   "source": [
    "Those in the healthcare occupation had the highest rate of acceptance (76%).  \n",
    "Surprisingly, retirees were among the least likely to accept at 40%\n",
    "- One might guess retirees have both more time and less income than all others and therefore would accept coupons more often"
   ]
  },
  {
   "cell_type": "markdown",
   "metadata": {},
   "source": [
    "##### By Number of Visits to a Coffee House in the Last Month"
   ]
  },
  {
   "cell_type": "code",
   "execution_count": null,
   "metadata": {},
   "outputs": [],
   "source": [
    "Image(\n",
    "    plot_grouped_acceptance_rates(\n",
    "        compute_grouped_acceptance_rates(\n",
    "            df_coffee, columns=\"AvgMonthlyVisitsToCoffeeHouse\"\n",
    "        )\n",
    "    )\n",
    ")"
   ]
  },
  {
   "cell_type": "markdown",
   "metadata": {},
   "source": [
    "Not too surprisingly, drivers who on average visited a coffee house at least 6 times in the last month accepted often - about 67% of the time"
   ]
  },
  {
   "cell_type": "markdown",
   "metadata": {},
   "source": [
    "##### By Income"
   ]
  },
  {
   "cell_type": "code",
   "execution_count": null,
   "metadata": {},
   "outputs": [],
   "source": [
    "Image(\n",
    "    plot_grouped_acceptance_rates(\n",
    "        compute_grouped_acceptance_rates(\n",
    "            df_coffee, columns=\"AvgAnnualIncome\"\n",
    "        ).sort_values(by=\"AvgAnnualIncome\", ascending=True)\n",
    "    )\n",
    ")"
   ]
  },
  {
   "cell_type": "markdown",
   "metadata": {},
   "source": [
    "The acceptance rate vs income reveals no consistent trend. Acceptance rates over 50% were seen at both extrema as well as the center of the income scale"
   ]
  },
  {
   "cell_type": "markdown",
   "metadata": {},
   "source": [
    "#### Acceptance Rates of Coffee Coupon by Multiple Categories"
   ]
  },
  {
   "cell_type": "markdown",
   "metadata": {},
   "source": [
    "From the above results, healthcare workers and those who visit coffee houses accept coupons at a fairly high rate.  \n",
    "Combine these variables to look for even higher rates"
   ]
  },
  {
   "cell_type": "code",
   "execution_count": null,
   "metadata": {},
   "outputs": [],
   "source": [
    "display(\n",
    "    compute_grouped_acceptance_rates(\n",
    "        df_coffee, columns=[\"occupation\", \"AvgMonthlyVisitsToCoffeeHouse\"]\n",
    "    ).tail(10)\n",
    ")"
   ]
  },
  {
   "cell_type": "markdown",
   "metadata": {},
   "source": [
    "Healthcare workers who visited a coffee house 2 times in the last months accepted 90% of coupons. However, the sample size of 30 is quite small.  \n",
    "Those who visited 6 times per month accepted 100% of the coupons, but the sample size of 6 was smaller still.  \n",
    "Integrate those 2 results from the health care works together to form a larger sample"
   ]
  },
  {
   "cell_type": "code",
   "execution_count": null,
   "metadata": {},
   "outputs": [],
   "source": [
    "visits = [2, 6]\n",
    "display(\n",
    "    compute_grouped_acceptance_rates(\n",
    "        df_coffee.query(\"AvgMonthlyVisitsToCoffeeHouse in @visits\"),\n",
    "        columns=[\"occupation\"],\n",
    "    ).tail(5)\n",
    ")"
   ]
  },
  {
   "cell_type": "markdown",
   "metadata": {},
   "source": [
    "Healthcare workers who visited coffee houses 2 or 6 times accepted 92% of coupons"
   ]
  },
  {
   "cell_type": "markdown",
   "metadata": {},
   "source": [
    "##### View results from a similar experiment as a bar graph\n",
    "\n",
    "In this example, restrict to the results to experiments having sample sizes of at least 100"
   ]
  },
  {
   "cell_type": "code",
   "execution_count": null,
   "metadata": {},
   "outputs": [],
   "source": [
    "gf = compute_grouped_acceptance_rates(\n",
    "    df_coffee, columns=[\"education\", \"AvgMonthlyVisitsToCoffeeHouse\", \"maritalStatus\"]\n",
    ").query(\"Count > 100\")\n",
    "Image(plot_grouped_acceptance_rates(gf))"
   ]
  },
  {
   "cell_type": "markdown",
   "metadata": {},
   "source": [
    "Display the grouped frame to understand the indices in terms of the variables"
   ]
  },
  {
   "cell_type": "code",
   "execution_count": null,
   "metadata": {},
   "outputs": [],
   "source": [
    "display(gf)"
   ]
  },
  {
   "cell_type": "markdown",
   "metadata": {},
   "source": [
    "Single people with some college who visited coffee houses twice accepted 68% of coupons"
   ]
  }
 ],
 "metadata": {
  "kernelspec": {
   "display_name": "Python 3",
   "language": "python",
   "name": "python3"
  },
  "language_info": {
   "codemirror_mode": {
    "name": "ipython",
    "version": 3
   },
   "file_extension": ".py",
   "mimetype": "text/x-python",
   "name": "python",
   "nbconvert_exporter": "python",
   "pygments_lexer": "ipython3",
   "version": "3.9.2"
  },
  "widgets": {
   "application/vnd.jupyter.widget-state+json": {
    "state": {},
    "version_major": 2,
    "version_minor": 0
   }
  }
 },
 "nbformat": 4,
 "nbformat_minor": 4
}
