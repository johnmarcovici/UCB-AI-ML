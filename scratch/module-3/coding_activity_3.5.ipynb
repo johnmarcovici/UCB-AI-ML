{
 "cells": [
  {
   "cell_type": "markdown",
   "metadata": {
    "deletable": false,
    "editable": false,
    "nbgrader": {
     "checksum": "10a43e3e04994a29d7cfebb58ae02072",
     "grade": false,
     "grade_id": "cell-ea6adcdba6a15fba",
     "locked": true,
     "schema_version": 1,
     "solution": false
    }
   },
   "source": [
    "### Codio Activity 3.5: Sorting and Aggregating\n",
    "\n",
    "**Expected Time**: 60 Minutes\n",
    "\n",
    "**Total Points**: 10\n",
    "\n",
    "This activity focuses on sorting the results of a groupby operation. The dataset is again the gapminder data from plotly.  Your tasks involve aggregating and sorting as well as plotting summary results using `matplotlib`, `seaborn`, and `plotly`.\n",
    "\n",
    "#### Index:\n",
    "\n",
    "- [Problem 1](#Problem-1:-Lowest-to-Highest-Average-Life-Expectancy)\n",
    "- [Problem 2](#Problem-2:-Sorting-GDP)\n",
    "- [Problem 3](#Problem-3:-Sorting-Results-of-Multiple-Aggregates)\n",
    "- [Problem 4](#Problem-4:-Sorting-Custom-Outputs)\n",
    "- [Problem 5](#Problem-5:-Applying-the-\\`column_range\\`-function)"
   ]
  },
  {
   "cell_type": "code",
   "execution_count": 1,
   "metadata": {
    "deletable": false,
    "editable": false,
    "nbgrader": {
     "checksum": "934299135ff1398c6885c26dbcb21477",
     "grade": false,
     "grade_id": "cell-3d34886fad60d0be",
     "locked": true,
     "schema_version": 1,
     "solution": false
    }
   },
   "outputs": [],
   "source": [
    "import plotly.express as px\n",
    "import pandas as pd\n",
    "import numpy as np\n",
    "import seaborn as sns\n",
    "import matplotlib.pyplot as plt"
   ]
  },
  {
   "cell_type": "code",
   "execution_count": 2,
   "metadata": {
    "deletable": false,
    "editable": false,
    "nbgrader": {
     "checksum": "cb5ba86395f758190053c45714a410ea",
     "grade": false,
     "grade_id": "cell-76f0f79f7da57214",
     "locked": true,
     "schema_version": 1,
     "solution": false
    }
   },
   "outputs": [],
   "source": [
    "gapminder = px.data.gapminder()"
   ]
  },
  {
   "cell_type": "code",
   "execution_count": 3,
   "metadata": {
    "deletable": false,
    "editable": false,
    "nbgrader": {
     "checksum": "ea7cd3e75bf399a8cabfa192b8bafd7e",
     "grade": false,
     "grade_id": "cell-d6b7f3d8a857ca14",
     "locked": true,
     "schema_version": 1,
     "solution": false
    }
   },
   "outputs": [
    {
     "data": {
      "text/html": [
       "<div>\n",
       "<style scoped>\n",
       "    .dataframe tbody tr th:only-of-type {\n",
       "        vertical-align: middle;\n",
       "    }\n",
       "\n",
       "    .dataframe tbody tr th {\n",
       "        vertical-align: top;\n",
       "    }\n",
       "\n",
       "    .dataframe thead th {\n",
       "        text-align: right;\n",
       "    }\n",
       "</style>\n",
       "<table border=\"1\" class=\"dataframe\">\n",
       "  <thead>\n",
       "    <tr style=\"text-align: right;\">\n",
       "      <th></th>\n",
       "      <th>country</th>\n",
       "      <th>continent</th>\n",
       "      <th>year</th>\n",
       "      <th>lifeExp</th>\n",
       "      <th>pop</th>\n",
       "      <th>gdpPercap</th>\n",
       "      <th>iso_alpha</th>\n",
       "      <th>iso_num</th>\n",
       "    </tr>\n",
       "  </thead>\n",
       "  <tbody>\n",
       "    <tr>\n",
       "      <th>0</th>\n",
       "      <td>Afghanistan</td>\n",
       "      <td>Asia</td>\n",
       "      <td>1952</td>\n",
       "      <td>28.801</td>\n",
       "      <td>8425333</td>\n",
       "      <td>779.445314</td>\n",
       "      <td>AFG</td>\n",
       "      <td>4</td>\n",
       "    </tr>\n",
       "    <tr>\n",
       "      <th>1</th>\n",
       "      <td>Afghanistan</td>\n",
       "      <td>Asia</td>\n",
       "      <td>1957</td>\n",
       "      <td>30.332</td>\n",
       "      <td>9240934</td>\n",
       "      <td>820.853030</td>\n",
       "      <td>AFG</td>\n",
       "      <td>4</td>\n",
       "    </tr>\n",
       "  </tbody>\n",
       "</table>\n",
       "</div>"
      ],
      "text/plain": [
       "       country continent  year  lifeExp      pop   gdpPercap iso_alpha  \\\n",
       "0  Afghanistan      Asia  1952   28.801  8425333  779.445314       AFG   \n",
       "1  Afghanistan      Asia  1957   30.332  9240934  820.853030       AFG   \n",
       "\n",
       "   iso_num  \n",
       "0        4  \n",
       "1        4  "
      ]
     },
     "execution_count": 3,
     "metadata": {},
     "output_type": "execute_result"
    }
   ],
   "source": [
    "gapminder.head(2)"
   ]
  },
  {
   "cell_type": "code",
   "execution_count": 4,
   "metadata": {
    "deletable": false,
    "editable": false,
    "nbgrader": {
     "checksum": "a5de28d6649cc24b9801ffd59f2f49e9",
     "grade": false,
     "grade_id": "cell-954d081a14a46272",
     "locked": true,
     "schema_version": 1,
     "solution": false
    }
   },
   "outputs": [
    {
     "name": "stdout",
     "output_type": "stream",
     "text": [
      "<class 'pandas.core.frame.DataFrame'>\n",
      "RangeIndex: 1704 entries, 0 to 1703\n",
      "Data columns (total 8 columns):\n",
      " #   Column     Non-Null Count  Dtype  \n",
      "---  ------     --------------  -----  \n",
      " 0   country    1704 non-null   object \n",
      " 1   continent  1704 non-null   object \n",
      " 2   year       1704 non-null   int64  \n",
      " 3   lifeExp    1704 non-null   float64\n",
      " 4   pop        1704 non-null   int64  \n",
      " 5   gdpPercap  1704 non-null   float64\n",
      " 6   iso_alpha  1704 non-null   object \n",
      " 7   iso_num    1704 non-null   int64  \n",
      "dtypes: float64(2), int64(3), object(3)\n",
      "memory usage: 106.6+ KB\n"
     ]
    }
   ],
   "source": [
    "gapminder.info()"
   ]
  },
  {
   "cell_type": "markdown",
   "metadata": {
    "deletable": false,
    "editable": false,
    "nbgrader": {
     "checksum": "c15825a2b7a28e9343b5012d4595b9b6",
     "grade": false,
     "grade_id": "cell-9ae73b51a1f95520",
     "locked": true,
     "schema_version": 1,
     "solution": false
    }
   },
   "source": [
    "[Back to top](#Index:) \n",
    "\n",
    "### Problem 1: Lowest to Highest Average Life Expectancy\n",
    "\n",
    "**2 Points**\n",
    "\n",
    "Using the gapminder data, group on the continent and find the average life expectancy by continent.  Sort the results from greatest to least using the `.sort_values` method.  Make sure to set the `ascending` argument to `False`.  Assign your results as a DataFrame to `ans1` below.  "
   ]
  },
  {
   "cell_type": "code",
   "execution_count": 5,
   "metadata": {
    "deletable": false,
    "nbgrader": {
     "checksum": "8043793c75603cf1a49d20101ee3d7bf",
     "grade": false,
     "grade_id": "cell-9174b84554ea287c",
     "locked": false,
     "schema_version": 1,
     "solution": true
    }
   },
   "outputs": [
    {
     "name": "stdout",
     "output_type": "stream",
     "text": [
      "             lifeExp\n",
      "continent           \n",
      "Oceania    74.326208\n",
      "Europe     71.903686\n",
      "Americas   64.658737\n",
      "Asia       60.064903\n",
      "Africa     48.865330\n",
      "<class 'pandas.core.frame.DataFrame'>\n"
     ]
    }
   ],
   "source": [
    "#from notebook.services.config import ConfigManager; ConfigManager().update('notebook', {\"CodeCell\": {\"cm_config\": {\"autoCloseBrackets\": False}}})\n",
    "import warnings; warnings.filterwarnings('ignore')\n",
    "### GRADED\n",
    "\n",
    "ans1 = gapminder.groupby(\"continent\")[[\"lifeExp\"]].mean().sort_values(\"lifeExp\", ascending=False)\n",
    "\n",
    "# Answer check\n",
    "print(ans1)\n",
    "print(type(ans1))"
   ]
  },
  {
   "cell_type": "code",
   "execution_count": null,
   "metadata": {
    "deletable": false,
    "editable": false,
    "nbgrader": {
     "checksum": "a0d54576edd0d2ad73829c28d8bb404e",
     "grade": true,
     "grade_id": "cell-3667c338ac1d9a93",
     "locked": true,
     "points": 2,
     "schema_version": 1,
     "solution": false
    }
   },
   "outputs": [],
   "source": []
  },
  {
   "cell_type": "markdown",
   "metadata": {
    "deletable": false,
    "editable": false,
    "nbgrader": {
     "checksum": "aa471676dbde69d6124579c5689fbfaa",
     "grade": false,
     "grade_id": "cell-1bea53fc0d43687b",
     "locked": true,
     "schema_version": 1,
     "solution": false
    }
   },
   "source": [
    "[Back to top](#Index:) \n",
    "\n",
    "### Problem 2: Sorting GDP\n",
    "\n",
    "**2 Points**\n",
    "\n",
    "Which country has the highest average GDP?  Use groupby to answer this question and assign your answer as a one word string representing the name of the country to `ans2` below."
   ]
  },
  {
   "cell_type": "code",
   "execution_count": null,
   "metadata": {
    "deletable": false,
    "nbgrader": {
     "checksum": "3ee6e89996c6215a20850f1cec5400d0",
     "grade": false,
     "grade_id": "cell-53f700d04cb1c94e",
     "locked": false,
     "schema_version": 1,
     "solution": true
    }
   },
   "outputs": [],
   "source": [
    "### GRADED\n",
    "\n",
    "ans2 = gapminder.groupby(\"country\").mean().sort_values(\"gdpPercap\", ascending=False).iloc[0].name\n",
    "\n",
    "# Answer check\n",
    "print(ans2)\n",
    "print(type(ans2))"
   ]
  },
  {
   "cell_type": "code",
   "execution_count": null,
   "metadata": {
    "deletable": false,
    "editable": false,
    "nbgrader": {
     "checksum": "cccd30695dd88ca31fc1eaf39238f258",
     "grade": true,
     "grade_id": "cell-d18568269e3c1098",
     "locked": true,
     "points": 2,
     "schema_version": 1,
     "solution": false
    }
   },
   "outputs": [],
   "source": []
  },
  {
   "cell_type": "markdown",
   "metadata": {
    "deletable": false,
    "editable": false,
    "nbgrader": {
     "checksum": "211ef380f6193f06d90086481d787646",
     "grade": false,
     "grade_id": "cell-3ebc023b2b54189b",
     "locked": true,
     "schema_version": 1,
     "solution": false
    }
   },
   "source": [
    "[Back to top](#Index:) \n",
    "\n",
    "### Problem 3: Sorting Results of Multiple Aggregates\n",
    "\n",
    "**2 Points**\n",
    "\n",
    "For this problem, use the `['mean', 'std', 'median']` functions to determine these values for the Life Expectancy of each continent.  Save this DataFrame to `ans3a` below  To sort the resulting values by medians from greatest to least, first flatten and rename the columns using the code:\n",
    "\n",
    "```python\n",
    "ans3a.columns = [\" \".join(c) for c in ans3a.columns.to_flat_index()]\n",
    "```\n",
    "\n",
    "\n",
    "Sort the results based on the median and assign your results as a DataFrame to `ans3b` below.  "
   ]
  },
  {
   "cell_type": "code",
   "execution_count": 7,
   "metadata": {
    "deletable": false,
    "nbgrader": {
     "checksum": "c19bd7ab7342a19ee29b7665016bdeb9",
     "grade": false,
     "grade_id": "cell-52e240bec4e8a6a0",
     "locked": false,
     "schema_version": 1,
     "solution": true
    }
   },
   "outputs": [
    {
     "data": {
      "text/html": [
       "<div>\n",
       "<style scoped>\n",
       "    .dataframe tbody tr th:only-of-type {\n",
       "        vertical-align: middle;\n",
       "    }\n",
       "\n",
       "    .dataframe tbody tr th {\n",
       "        vertical-align: top;\n",
       "    }\n",
       "\n",
       "    .dataframe thead th {\n",
       "        text-align: right;\n",
       "    }\n",
       "</style>\n",
       "<table border=\"1\" class=\"dataframe\">\n",
       "  <thead>\n",
       "    <tr style=\"text-align: right;\">\n",
       "      <th></th>\n",
       "      <th>lifeExp mean</th>\n",
       "      <th>lifeExp std</th>\n",
       "      <th>lifeExp median</th>\n",
       "    </tr>\n",
       "    <tr>\n",
       "      <th>continent</th>\n",
       "      <th></th>\n",
       "      <th></th>\n",
       "      <th></th>\n",
       "    </tr>\n",
       "  </thead>\n",
       "  <tbody>\n",
       "    <tr>\n",
       "      <th>Africa</th>\n",
       "      <td>48.865330</td>\n",
       "      <td>9.150210</td>\n",
       "      <td>47.7920</td>\n",
       "    </tr>\n",
       "    <tr>\n",
       "      <th>Americas</th>\n",
       "      <td>64.658737</td>\n",
       "      <td>9.345088</td>\n",
       "      <td>67.0480</td>\n",
       "    </tr>\n",
       "    <tr>\n",
       "      <th>Asia</th>\n",
       "      <td>60.064903</td>\n",
       "      <td>11.864532</td>\n",
       "      <td>61.7915</td>\n",
       "    </tr>\n",
       "    <tr>\n",
       "      <th>Europe</th>\n",
       "      <td>71.903686</td>\n",
       "      <td>5.433178</td>\n",
       "      <td>72.2410</td>\n",
       "    </tr>\n",
       "    <tr>\n",
       "      <th>Oceania</th>\n",
       "      <td>74.326208</td>\n",
       "      <td>3.795611</td>\n",
       "      <td>73.6650</td>\n",
       "    </tr>\n",
       "  </tbody>\n",
       "</table>\n",
       "</div>"
      ],
      "text/plain": [
       "           lifeExp mean  lifeExp std  lifeExp median\n",
       "continent                                           \n",
       "Africa        48.865330     9.150210         47.7920\n",
       "Americas      64.658737     9.345088         67.0480\n",
       "Asia          60.064903    11.864532         61.7915\n",
       "Europe        71.903686     5.433178         72.2410\n",
       "Oceania       74.326208     3.795611         73.6650"
      ]
     },
     "metadata": {},
     "output_type": "display_data"
    },
    {
     "data": {
      "text/html": [
       "<div>\n",
       "<style scoped>\n",
       "    .dataframe tbody tr th:only-of-type {\n",
       "        vertical-align: middle;\n",
       "    }\n",
       "\n",
       "    .dataframe tbody tr th {\n",
       "        vertical-align: top;\n",
       "    }\n",
       "\n",
       "    .dataframe thead th {\n",
       "        text-align: right;\n",
       "    }\n",
       "</style>\n",
       "<table border=\"1\" class=\"dataframe\">\n",
       "  <thead>\n",
       "    <tr style=\"text-align: right;\">\n",
       "      <th></th>\n",
       "      <th>lifeExp mean</th>\n",
       "      <th>lifeExp std</th>\n",
       "      <th>lifeExp median</th>\n",
       "    </tr>\n",
       "    <tr>\n",
       "      <th>continent</th>\n",
       "      <th></th>\n",
       "      <th></th>\n",
       "      <th></th>\n",
       "    </tr>\n",
       "  </thead>\n",
       "  <tbody>\n",
       "    <tr>\n",
       "      <th>Oceania</th>\n",
       "      <td>74.326208</td>\n",
       "      <td>3.795611</td>\n",
       "      <td>73.6650</td>\n",
       "    </tr>\n",
       "    <tr>\n",
       "      <th>Europe</th>\n",
       "      <td>71.903686</td>\n",
       "      <td>5.433178</td>\n",
       "      <td>72.2410</td>\n",
       "    </tr>\n",
       "    <tr>\n",
       "      <th>Americas</th>\n",
       "      <td>64.658737</td>\n",
       "      <td>9.345088</td>\n",
       "      <td>67.0480</td>\n",
       "    </tr>\n",
       "    <tr>\n",
       "      <th>Asia</th>\n",
       "      <td>60.064903</td>\n",
       "      <td>11.864532</td>\n",
       "      <td>61.7915</td>\n",
       "    </tr>\n",
       "    <tr>\n",
       "      <th>Africa</th>\n",
       "      <td>48.865330</td>\n",
       "      <td>9.150210</td>\n",
       "      <td>47.7920</td>\n",
       "    </tr>\n",
       "  </tbody>\n",
       "</table>\n",
       "</div>"
      ],
      "text/plain": [
       "           lifeExp mean  lifeExp std  lifeExp median\n",
       "continent                                           \n",
       "Oceania       74.326208     3.795611         73.6650\n",
       "Europe        71.903686     5.433178         72.2410\n",
       "Americas      64.658737     9.345088         67.0480\n",
       "Asia          60.064903    11.864532         61.7915\n",
       "Africa        48.865330     9.150210         47.7920"
      ]
     },
     "metadata": {},
     "output_type": "display_data"
    },
    {
     "name": "stdout",
     "output_type": "stream",
     "text": [
      "           lifeExp mean  lifeExp std  lifeExp median\n",
      "continent                                           \n",
      "Africa        48.865330     9.150210         47.7920\n",
      "Americas      64.658737     9.345088         67.0480\n",
      "Asia          60.064903    11.864532         61.7915\n",
      "Europe        71.903686     5.433178         72.2410\n",
      "Oceania       74.326208     3.795611         73.6650\n",
      "           lifeExp mean  lifeExp std  lifeExp median\n",
      "continent                                           \n",
      "Oceania       74.326208     3.795611         73.6650\n",
      "Europe        71.903686     5.433178         72.2410\n",
      "Americas      64.658737     9.345088         67.0480\n",
      "Asia          60.064903    11.864532         61.7915\n",
      "Africa        48.865330     9.150210         47.7920\n"
     ]
    }
   ],
   "source": [
    "### GRADED\n",
    "\n",
    "ans3a = gapminder.groupby(\"continent\")[[\"lifeExp\"]].agg(['mean', 'std', 'median'])\n",
    "ans3a.columns = [\" \".join(c) for c in ans3a.columns.to_flat_index()]\n",
    "display(ans3a)\n",
    "ans3b = ans3a.sort_values(\"lifeExp median\", ascending=False)\n",
    "display(ans3b)\n",
    "\n",
    "# Answer check\n",
    "print(ans3a)\n",
    "print(ans3b)"
   ]
  },
  {
   "cell_type": "code",
   "execution_count": null,
   "metadata": {
    "deletable": false,
    "editable": false,
    "nbgrader": {
     "checksum": "66b237c58563cfe6006379177cd5a9e9",
     "grade": true,
     "grade_id": "cell-e472f07102714ee4",
     "locked": true,
     "points": 2,
     "schema_version": 1,
     "solution": false
    }
   },
   "outputs": [],
   "source": []
  },
  {
   "cell_type": "markdown",
   "metadata": {
    "deletable": false,
    "editable": false,
    "nbgrader": {
     "checksum": "578cf0bec2ca19f38e38942c3bd879f7",
     "grade": false,
     "grade_id": "cell-96f7c21c0351e655",
     "locked": true,
     "schema_version": 1,
     "solution": false
    }
   },
   "source": [
    "[Back to top](#Index:) \n",
    "\n",
    "### Problem 4: Sorting Custom Outputs\n",
    "\n",
    "**2 Points**\n",
    "\n",
    "Complete the function `column_range` that takes in a column, and returns the range (max - min) of a column in a DataFrame. "
   ]
  },
  {
   "cell_type": "code",
   "execution_count": 16,
   "metadata": {
    "deletable": false,
    "nbgrader": {
     "checksum": "720d6644630df7c761ac7136d3fbdea9",
     "grade": false,
     "grade_id": "cell-ef54140f4c5e26da",
     "locked": false,
     "schema_version": 1,
     "solution": true
    }
   },
   "outputs": [
    {
     "data": {
      "text/plain": [
       "numpy.float64"
      ]
     },
     "metadata": {},
     "output_type": "display_data"
    }
   ],
   "source": [
    "### GRADED\n",
    "\n",
    "def column_range(s):\n",
    "    '''\n",
    "    This function takes in a pandas series and returns\n",
    "    the range of the series (max - min) as a float.\n",
    "    '''\n",
    "    return s.max() - s.min()\n",
    "\n",
    "# Answer check\n",
    "ans4 = column_range(gapminder['lifeExp'])\n",
    "display(type(ans4))"
   ]
  },
  {
   "cell_type": "code",
   "execution_count": null,
   "metadata": {
    "deletable": false,
    "editable": false,
    "nbgrader": {
     "checksum": "74a6f19efaf2a3667e04041865e2cc91",
     "grade": true,
     "grade_id": "cell-1f39c6bb5e22442b",
     "locked": true,
     "points": 2,
     "schema_version": 1,
     "solution": false
    }
   },
   "outputs": [],
   "source": []
  },
  {
   "cell_type": "markdown",
   "metadata": {
    "deletable": false,
    "editable": false,
    "nbgrader": {
     "checksum": "0185e63dcb297276988947479c6e418e",
     "grade": false,
     "grade_id": "cell-d477c09a95ab23ab",
     "locked": true,
     "schema_version": 1,
     "solution": false
    }
   },
   "source": [
    "[Back to top](#Index:) \n",
    "\n",
    "### Problem 5: Applying the `column_range` function\n",
    "\n",
    "**2 Points**\n",
    "\n",
    "Use the `column_range` function to first groupby continent and then apply the function to the GDP feature.  Sort the results from greatest to least.  Assign your results as a DataFrame to `ans5` below."
   ]
  },
  {
   "cell_type": "code",
   "execution_count": 24,
   "metadata": {
    "deletable": false,
    "nbgrader": {
     "checksum": "0d628107371d2038d326e1f4ef7fbdd2",
     "grade": false,
     "grade_id": "cell-c44321bb8f95b1c6",
     "locked": false,
     "schema_version": 1,
     "solution": true
    }
   },
   "outputs": [],
   "source": [
    "### GRADED\n",
    "\n",
    "ans5 = gapminder.groupby(\"continent\")[[\"gdpPercap\"]].apply(column_range).sort_values(\"gdpPercap\", ascending=False)\n",
    "xx = gapminder.groupby('continent')[['gdpPercap']].apply(column_range).sort_values(by = 'gdpPercap', ascending = False)\n",
    "\n",
    "pd.testing.assert_frame_equal(ans5, xx)"
   ]
  },
  {
   "cell_type": "code",
   "execution_count": null,
   "metadata": {
    "deletable": false,
    "editable": false,
    "nbgrader": {
     "checksum": "9f5bf04ad5f32bf413fa4a4b86d9520a",
     "grade": true,
     "grade_id": "cell-c48d7e9f2e76e4fb",
     "locked": true,
     "points": 2,
     "schema_version": 1,
     "solution": false
    }
   },
   "outputs": [],
   "source": []
  }
 ],
 "metadata": {
  "kernelspec": {
   "display_name": "Python 3",
   "language": "python",
   "name": "python3"
  },
  "language_info": {
   "codemirror_mode": {
    "name": "ipython",
    "version": 3
   },
   "file_extension": ".py",
   "mimetype": "text/x-python",
   "name": "python",
   "nbconvert_exporter": "python",
   "pygments_lexer": "ipython3",
   "version": "3.9.2"
  }
 },
 "nbformat": 4,
 "nbformat_minor": 4
}
