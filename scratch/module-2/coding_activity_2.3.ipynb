{
 "cells": [
  {
   "cell_type": "markdown",
   "metadata": {
    "deletable": false,
    "editable": false,
    "nbgrader": {
     "checksum": "badd094c85e6792e4b2f4ae380dec655",
     "grade": false,
     "grade_id": "cell-0bff1a324f359386",
     "locked": true,
     "schema_version": 1,
     "solution": false
    }
   },
   "source": [
    "## Codio Activity 2.3: The Law of Large Numbers\n",
    "\n",
    "**Expected Time: 45 Minutes**\n",
    "\n",
    "**Total Points: 10**\n",
    "\n",
    "In this activity, you will draw increasingly sized samples from a given distribution.  These samples means will be tracked, and compared to that which is known from the larger distribution.  You are to use the `scipy.stats` module and its distribution objects to produce these distributions and their samples.\n",
    "\n",
    "## Index:\n",
    "\n",
    "- [Problem 1](#Problem-1:-A-Uniform-Distribution)\n",
    "- [Problem 2](#Problem-2:-Loop-of-Samples)\n",
    "- [Problem 3](#Problem-3:-Comparing-the-sample-means-to-actual)\n",
    "- [Problem 4](#Problem-4:-Distribution-of-Sample-Means)\n",
    "- [Problem 5](#Problem-5:-Repeat-with-Gaussian-Distribution)\n"
   ]
  },
  {
   "cell_type": "code",
   "execution_count": 38,
   "metadata": {},
   "outputs": [],
   "source": [
    "import numpy as np\n",
    "import pandas as pd\n",
    "import matplotlib.pyplot as plt\n",
    "from scipy.stats import uniform, norm"
   ]
  },
  {
   "cell_type": "markdown",
   "metadata": {
    "deletable": false,
    "editable": false,
    "nbgrader": {
     "checksum": "3f726958c4ab8c17d383e34a64d2b4e8",
     "grade": false,
     "grade_id": "cell-0599760f8eb84292",
     "locked": true,
     "schema_version": 1,
     "solution": false
    }
   },
   "source": [
    "[Back to top](#Index:) \n",
    "\n",
    "### Problem 1: A Uniform Distribution\n",
    "\n",
    "**2 Points**\n",
    "\n",
    "\n",
    "Create a uniform distribution with `loc = 5` and `scale = 10`.  Assign your results as a distribution object to `dist1` below. Done correctly, this code will produce uniformly distributed points between 5 and 15 with mean at 10."
   ]
  },
  {
   "cell_type": "code",
   "execution_count": 39,
   "metadata": {
    "deletable": false,
    "nbgrader": {
     "checksum": "387817ff74946c4ea7870e217d8e3955",
     "grade": false,
     "grade_id": "cell-e19a29726f7a7f59",
     "locked": false,
     "schema_version": 1,
     "solution": true
    }
   },
   "outputs": [
    {
     "name": "stdout",
     "output_type": "stream",
     "text": [
      "<class 'scipy.stats._distn_infrastructure.rv_frozen'>\n"
     ]
    }
   ],
   "source": [
    "### GRADED\n",
    "\n",
    "dist1 = uniform(loc=5, scale=10)\n",
    "\n",
    "# Answer check\n",
    "print(type(dist1))\n",
    "#plt.plot(np.linspace(0, 20, 1000), dist1.pdf(np.linspace(0, 20, 1000)))"
   ]
  },
  {
   "cell_type": "code",
   "execution_count": null,
   "metadata": {
    "deletable": false,
    "editable": false,
    "nbgrader": {
     "checksum": "3c6c6b35a93db5004528350db05e3ec9",
     "grade": true,
     "grade_id": "cell-9a4f21b04dc4095d",
     "locked": true,
     "points": 2,
     "schema_version": 1,
     "solution": false
    }
   },
   "outputs": [],
   "source": []
  },
  {
   "cell_type": "markdown",
   "metadata": {
    "deletable": false,
    "editable": false,
    "nbgrader": {
     "checksum": "bfa9010876d0101919e46a7e282c1c9c",
     "grade": false,
     "grade_id": "cell-715829a75ba9fccc",
     "locked": true,
     "schema_version": 1,
     "solution": false
    }
   },
   "source": [
    "###  Problem 2: Loop of Samples\n",
    "\n",
    "**2 Points**\n",
    "\n",
    "Now, you are to generate samples of size 1 - 500 using `dist1`'s `.rvs` method including the `random_state = 22`.  For each sample, append the sample mean to the list `sample_means`.  "
   ]
  },
  {
   "cell_type": "code",
   "execution_count": 40,
   "metadata": {
    "deletable": false,
    "nbgrader": {
     "checksum": "db774c8291384e33efe75c2530fb7df6",
     "grade": false,
     "grade_id": "cell-e6ebb7028e816557",
     "locked": false,
     "schema_version": 1,
     "solution": true
    }
   },
   "outputs": [
    {
     "name": "stdout",
     "output_type": "stream",
     "text": [
      "k: 100 mean:  9.97 std: 2.97 (len(sample_means): 100)\n",
      "k: 200 mean:  9.96 std: 2.93 (len(sample_means): 200)\n",
      "k: 300 mean:  9.95 std: 2.90 (len(sample_means): 300)\n",
      "k: 400 mean:  9.94 std: 2.86 (len(sample_means): 400)\n",
      "k: 500 mean:  9.93 std: 2.92 (len(sample_means): 500)\n",
      "500\n",
      "<class 'list'>\n",
      "9.942241690605716\n",
      "[7.084605373588426, 8.450707995611044, 8.702265448121944, 9.924654082394818, 9.2820463731392] \n",
      " [9.917152492762177, 9.92702320427582, 9.923037839990696, 9.921343577252099, 9.926403777871194]\n"
     ]
    }
   ],
   "source": [
    "### GRADED\n",
    "\n",
    "sample_means = []\n",
    "sample_sizes = []\n",
    "\n",
    "for k in range(1, 501):\n",
    "    samples = dist1.rvs(size=k, random_state=22)\n",
    "    sample_means.append(np.mean(samples))\n",
    "    sample_sizes.append(len(samples))\n",
    "\n",
    "    if k % 100 == 0:\n",
    "        print(\"k: %03d mean: %5.2f std: %.2f (len(sample_means): %d)\" %\n",
    "              (k, sample_means[-1], np.std(samples), len(sample_means)))\n",
    "\n",
    "#loop over values 1 - 500\n",
    "\n",
    "    #generate samples \n",
    "    #remember the random_state\n",
    "    \n",
    "    #find sample mean\n",
    "    \n",
    "    #append mean to sample_means\n",
    "\n",
    "# Answer check\n",
    "print(len(sample_means))\n",
    "print(type(sample_means))\n",
    "print(sample_means[399])\n",
    "print(sample_means[:5], '\\n', sample_means[-5:])"
   ]
  },
  {
   "cell_type": "code",
   "execution_count": null,
   "metadata": {
    "deletable": false,
    "editable": false,
    "nbgrader": {
     "checksum": "41a68981e881a4d463adb3951ea89483",
     "grade": true,
     "grade_id": "cell-bc94c886e9ac3ab7",
     "locked": true,
     "points": 2,
     "schema_version": 1,
     "solution": false
    }
   },
   "outputs": [],
   "source": []
  },
  {
   "cell_type": "markdown",
   "metadata": {
    "deletable": false,
    "editable": false,
    "nbgrader": {
     "checksum": "d709c409e663475130151be53873d584",
     "grade": false,
     "grade_id": "cell-6b3e8778dd9e4f7b",
     "locked": true,
     "schema_version": 1,
     "solution": false
    }
   },
   "source": [
    "### Problem 3: Comparing the sample means to actual\n",
    "\n",
    "**2 Points**\n",
    "\n",
    "Note that the actual mean of our data is 10.  The code below will generate a plot that compares the actual mean to the sampled means.  Do the sample means approximate the true mean with error less than .1 if the sample size is 400?  Assign your answer as a boolean value to `ans3` below -- True for yes, False for no.  Plot the results using the code below.\n",
    "\n",
    "```python\n",
    "plt.plot(range(1, 501), sample_means, label = 'sample mean', color = 'purple')\n",
    "plt.axhline(10, label = 'true mean', color = 'green')\n",
    "plt.xlabel('Sample Size')\n",
    "plt.legend();\n",
    "```"
   ]
  },
  {
   "cell_type": "code",
   "execution_count": 41,
   "metadata": {
    "deletable": false,
    "nbgrader": {
     "checksum": "4437468bf86854324a1e7a02b92ea8b5",
     "grade": false,
     "grade_id": "cell-760f114b86f46710",
     "locked": false,
     "schema_version": 1,
     "solution": true
    }
   },
   "outputs": [
    {
     "name": "stdout",
     "output_type": "stream",
     "text": [
      "0.05775830939428417\n",
      "True\n",
      "<class 'numpy.bool_'>\n",
      "400\n"
     ]
    },
    {
     "data": {
      "image/png": "[encoded data removed]",
      "text/plain": [
       "<Figure size 432x288 with 1 Axes>"
      ]
     },
     "metadata": {
      "needs_background": "light"
     },
     "output_type": "display_data"
    }
   ],
   "source": [
    "### GRADED\n",
    "\n",
    "ans3 = np.abs(sample_means[399] - dist1.mean()) < 0.1\n",
    "\n",
    "# Answer check\n",
    "print(np.abs(sample_means[399] - dist1.mean()))\n",
    "print(ans3)\n",
    "print(type(ans3))\n",
    "print(sample_sizes[399])\n",
    "\n",
    "# Plot\n",
    "plt.plot(range(1, 501), sample_means, label = 'sample mean', color = 'purple')\n",
    "plt.axhline(10, label = 'true mean', color = 'green')\n",
    "plt.xlabel('Sample Size')\n",
    "plt.legend();"
   ]
  },
  {
   "cell_type": "code",
   "execution_count": null,
   "metadata": {
    "deletable": false,
    "editable": false,
    "nbgrader": {
     "checksum": "ab39548edfb25ece2a9a8cad8295339b",
     "grade": true,
     "grade_id": "cell-6594e29aae39c71d",
     "locked": true,
     "points": 2,
     "schema_version": 1,
     "solution": false
    }
   },
   "outputs": [],
   "source": []
  },
  {
   "cell_type": "markdown",
   "metadata": {
    "deletable": false,
    "editable": false,
    "nbgrader": {
     "checksum": "049f1c2eed4d7f664e218feddb14b1e9",
     "grade": false,
     "grade_id": "cell-6860b63501e42b25",
     "locked": true,
     "schema_version": 1,
     "solution": false
    }
   },
   "source": [
    "### Problem 4: Distribution of Sample Means\n",
    "\n",
    "**2 Points**\n",
    "\n",
    "As you notice in the plot above, there is larger variation in the small sample sizes.  As the lectures suggest, consider only those samples of size 30 or more and compute their mean and standard deviation.  Assign the samples as a list to `samples_30_or_more` below and compute the mean of these samples and thier standard deviation.  Assign the mean and deviation to `samples_mean` and `samples_std` below.  Uncomment the code to see a histogram of these sample means.  \n",
    "\n",
    "HINT: remember that Python starts counting at 0, so using 'sample_means[30:]' is actually incorrect."
   ]
  },
  {
   "cell_type": "code",
   "execution_count": 42,
   "metadata": {
    "deletable": false,
    "nbgrader": {
     "checksum": "af4c10dfb20f963c734e48c59cf3fcd6",
     "grade": false,
     "grade_id": "cell-6b84832c8690fe91",
     "locked": false,
     "schema_version": 1,
     "solution": true
    }
   },
   "outputs": [
    {
     "name": "stdout",
     "output_type": "stream",
     "text": [
      "<class 'list'>\n",
      "9.955489061213552\n",
      "0.07692775219192274\n",
      "471\n"
     ]
    },
    {
     "data": {
      "image/png": "[encoded data removed]",
      "text/plain": [
       "<Figure size 432x288 with 1 Axes>"
      ]
     },
     "metadata": {
      "needs_background": "light"
     },
     "output_type": "display_data"
    }
   ],
   "source": [
    "### GRADED\n",
    "\n",
    "samples_30_or_more = sample_means[29:]\n",
    "samples_mean = np.mean(samples_30_or_more)\n",
    "samples_std = np.std(samples_30_or_more)\n",
    "\n",
    "\n",
    "plt.hist(samples_30_or_more, edgecolor = 'black', alpha = 0.3)\n",
    "plt.title('Distribution of Sample Means');\n",
    "\n",
    "# Answer check\n",
    "print(type(samples_30_or_more))\n",
    "print(samples_mean)\n",
    "print(samples_std)\n",
    "print(len(samples_30_or_more))"
   ]
  },
  {
   "cell_type": "code",
   "execution_count": null,
   "metadata": {
    "deletable": false,
    "editable": false,
    "nbgrader": {
     "checksum": "7d4fa60fcd5ba66911cab3a823bfbd27",
     "grade": true,
     "grade_id": "cell-f6ed5c17860c5ee5",
     "locked": true,
     "points": 2,
     "schema_version": 1,
     "solution": false
    }
   },
   "outputs": [],
   "source": []
  },
  {
   "cell_type": "markdown",
   "metadata": {
    "deletable": false,
    "editable": false,
    "nbgrader": {
     "checksum": "577910264a27ce4858eda94c6d254c55",
     "grade": false,
     "grade_id": "cell-81d097c21d8b29eb",
     "locked": true,
     "schema_version": 1,
     "solution": false
    }
   },
   "source": [
    "### Problem 5: Repeat with Gaussian Distribution\n",
    "\n",
    "**2 Points**\n",
    "\n",
    "Now, you are to repeat the above exercise using samples from a Normal distribution centered at 5 with standard deviation 10.  Draw samples size 30 - 500 and examine their mean and deviation.  Assign the ditribution object to `gauss_dist`, the sample to the list `sample_means_gauss`, the sample mean to `gauss_mean` and standard deviation to `gauss_standard_deviation` below. Use `random_state = 22`. "
   ]
  },
  {
   "cell_type": "code",
   "execution_count": 43,
   "metadata": {
    "deletable": false,
    "nbgrader": {
     "checksum": "f750268df25b3fd0a7691bb9cf6ae0da",
     "grade": false,
     "grade_id": "cell-66731bec3448d1a4",
     "locked": false,
     "schema_version": 1,
     "solution": true
    }
   },
   "outputs": [
    {
     "name": "stdout",
     "output_type": "stream",
     "text": [
      "k: 100 mean:  4.46 std:  9.85 (len(sample_means): 500)\n",
      "k: 200 mean:  6.11 std: 10.19 (len(sample_means): 500)\n",
      "k: 300 mean:  5.75 std: 10.88 (len(sample_means): 500)\n",
      "k: 400 mean:  5.96 std: 10.50 (len(sample_means): 500)\n",
      "k: 500 mean:  5.84 std: 10.51 (len(sample_means): 500)\n",
      "<class 'list'>\n",
      "[5.711989769815023, 6.495208371007466, 5.670348611610735, 5.578864596890512, 5.5331440323908465] \n",
      " [5.85212242634483, 5.842782955969858, 5.840843359217326, 5.834153785572032, 5.841178380882507]\n",
      "5.568508473194311\n",
      "0.5371819419572758\n"
     ]
    }
   ],
   "source": [
    "### GRADED\n",
    "\n",
    "gauss_dist = norm(loc=5, scale=10)\n",
    "sample_means_gauss = []\n",
    "\n",
    "for k in range(30, 501):\n",
    "    samples = gauss_dist.rvs(size=k, random_state=22)\n",
    "    sample_means_gauss.append(np.mean(samples))\n",
    "    if k % 100 == 0:\n",
    "        print(\"k: %03d mean: %5.2f std: %5.2f (len(sample_means): %d)\" %\n",
    "              (k, sample_means_gauss[-1], np.std(samples), len(sample_means)))\n",
    "\n",
    "gauss_mean = np.mean(sample_means_gauss)\n",
    "gauss_standard_deviation = np.std(sample_means_gauss)\n",
    "\n",
    "# Answer check\n",
    "print(type(sample_means_gauss))\n",
    "print(sample_means_gauss[:5], '\\n', sample_means_gauss[-5:])\n",
    "print(gauss_mean)\n",
    "print(gauss_standard_deviation)"
   ]
  },
  {
   "cell_type": "code",
   "execution_count": null,
   "metadata": {
    "deletable": false,
    "editable": false,
    "nbgrader": {
     "checksum": "16e02f54addf7e5b4b2cc3a1d61a5de7",
     "grade": true,
     "grade_id": "cell-19ef7e3915134b47",
     "locked": true,
     "points": 2,
     "schema_version": 1,
     "solution": false
    }
   },
   "outputs": [],
   "source": []
  }
 ],
 "metadata": {
  "kernelspec": {
   "display_name": "Python 3",
   "language": "python",
   "name": "python3"
  },
  "language_info": {
   "codemirror_mode": {
    "name": "ipython",
    "version": 3
   },
   "file_extension": ".py",
   "mimetype": "text/x-python",
   "name": "python",
   "nbconvert_exporter": "python",
   "pygments_lexer": "ipython3",
   "version": "3.6.9"
  }
 },
 "nbformat": 4,
 "nbformat_minor": 2
}
