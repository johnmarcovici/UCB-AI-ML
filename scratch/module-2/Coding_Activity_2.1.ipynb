{
 "cells": [
  {
   "cell_type": "markdown",
   "metadata": {
    "deletable": false,
    "editable": false,
    "nbgrader": {
     "checksum": "fbf57d2cc5ac6c04b1047694f9346a6e",
     "grade": false,
     "grade_id": "cell-c569a2c042ebd75d",
     "locked": true,
     "schema_version": 1,
     "solution": false
    }
   },
   "source": [
    "### Codio Activity 2.1: Continuous Uniform Distributions\n",
    "\n",
    "**Expected Time**: 45 Minutes\n",
    "\n",
    "**Total Points**: 10\n",
    "\n",
    "This activity focuses on creating and visualizing continuous probability distributions using `scipy.stats`. You will get practice creating uniform distribution objects, examining their summary statistics (mean, variance, standard deviation), and visualizing the distribution using `matplotlib`. \n",
    "\n",
    "#### Index:\n",
    "\n",
    "- [Problem 1](#Problem-1:-Creating-a-Distribution-Object)\n",
    "- [Problem 2](#Problem-2:-Descriptive-Statistics-of-Distribution)\n",
    "- [Problem 3](#Problem-3:-Plotting-the-Distribution)\n",
    "- [Problem 4](#Problem-4:-Evaluating-Probabilities)\n",
    "- [Problem 5](#Problem-5:-Cumulative-Probabilities)"
   ]
  },
  {
   "cell_type": "code",
   "execution_count": 1,
   "metadata": {
    "deletable": false,
    "editable": false,
    "nbgrader": {
     "checksum": "794e5081912275df6019f1eaf99935ae",
     "grade": false,
     "grade_id": "cell-73cd3bdc25e348f7",
     "locked": true,
     "schema_version": 1,
     "solution": false
    }
   },
   "outputs": [],
   "source": [
    "from scipy.stats import uniform\n",
    "from scipy.stats import norm\n",
    "import matplotlib.pyplot as plt\n",
    "import numpy as np"
   ]
  },
  {
   "cell_type": "markdown",
   "metadata": {
    "deletable": false,
    "editable": false,
    "nbgrader": {
     "checksum": "981e6bdde414270298e35b7c55d41934",
     "grade": false,
     "grade_id": "cell-4140f02ccd048b5b",
     "locked": true,
     "schema_version": 1,
     "solution": false
    }
   },
   "source": [
    "[Back to top](#Index:) \n",
    "\n",
    "### Problem 1: Creating a Distribution Object\n",
    "\n",
    "**2 Points**\n",
    "\n",
    "To begin, use the above imported `uniform` function to create a uniform distribution object with `loc = 10` and `scale = 3`.  Assign your solution as a distribution object to `dist1` below."
   ]
  },
  {
   "cell_type": "code",
   "execution_count": 11,
   "metadata": {
    "deletable": false,
    "nbgrader": {
     "checksum": "c573c84127f01371702b9c38d188bb5c",
     "grade": false,
     "grade_id": "cell-49b8f024d62ed17a",
     "locked": false,
     "schema_version": 1,
     "solution": true
    }
   },
   "outputs": [
    {
     "name": "stdout",
     "output_type": "stream",
     "text": [
      "<class 'scipy.stats._distn_infrastructure.rv_frozen'>\n"
     ]
    }
   ],
   "source": [
    "### GRADED\n",
    "\n",
    "dist1 = uniform(loc=10, scale=3)\n",
    "\n",
    "# Answer check\n",
    "print(type(dist1))"
   ]
  },
  {
   "cell_type": "code",
   "execution_count": null,
   "metadata": {
    "deletable": false,
    "editable": false,
    "nbgrader": {
     "checksum": "ed51f84f8cfe7509188508183c16dd46",
     "grade": true,
     "grade_id": "cell-504b7bdf18ac95c5",
     "locked": true,
     "points": 2,
     "schema_version": 1,
     "solution": false
    }
   },
   "outputs": [],
   "source": []
  },
  {
   "cell_type": "markdown",
   "metadata": {
    "deletable": false,
    "editable": false,
    "nbgrader": {
     "checksum": "e73b554351be52b756e7634b1fb93e5e",
     "grade": false,
     "grade_id": "cell-1a7e03f072067e71",
     "locked": true,
     "schema_version": 1,
     "solution": false
    }
   },
   "source": [
    "[Back to top](#Index:) \n",
    "\n",
    "### Problem 2: Descriptive Statistics of Distribution\n",
    "\n",
    "**2 Points**\n",
    "\n",
    "Using your distribution object from problem 1, determine the mean, variance, and standard deviation of the distribution using its own built in methods.  Assign these as floats to the variables, `dist1_mean`, `dist1_var`, and `dist1_std` below."
   ]
  },
  {
   "cell_type": "code",
   "execution_count": 12,
   "metadata": {
    "deletable": false,
    "nbgrader": {
     "checksum": "85f247b90b7eeb71c388fc131a023182",
     "grade": false,
     "grade_id": "cell-f9b4f824fd625222",
     "locked": false,
     "schema_version": 1,
     "solution": true
    }
   },
   "outputs": [
    {
     "name": "stdout",
     "output_type": "stream",
     "text": [
      "[11.5, 0.75, 0.8660254037844386]\n"
     ]
    }
   ],
   "source": [
    "### GRADED\n",
    "\n",
    "dist1_mean = dist1.mean()\n",
    "dist1_var = dist1.var()\n",
    "dist1_std = dist1.std()\n",
    "\n",
    "# Answer check\n",
    "print([dist1_mean, dist1_var, dist1_std])"
   ]
  },
  {
   "cell_type": "code",
   "execution_count": null,
   "metadata": {
    "deletable": false,
    "editable": false,
    "nbgrader": {
     "checksum": "171416c7671607b0ee15fd40e061d688",
     "grade": true,
     "grade_id": "cell-b4ced79006d31e07",
     "locked": true,
     "points": 2,
     "schema_version": 1,
     "solution": false
    }
   },
   "outputs": [],
   "source": []
  },
  {
   "cell_type": "markdown",
   "metadata": {
    "deletable": false,
    "editable": false,
    "nbgrader": {
     "checksum": "b1f3bc559ed8c79c9b0feb0d2d920235",
     "grade": false,
     "grade_id": "cell-20319272f910596e",
     "locked": true,
     "schema_version": 1,
     "solution": false
    }
   },
   "source": [
    "[Back to top](#Index:) \n",
    "\n",
    "### Problem 3: Plotting the Distribution                                                              \n",
    "\n",
    "**2 Points**\n",
    "\n",
    "Note that the distribution is bound by `loc` and `loc + scale` on the left and right sides respectively.  To build a plot, we will give one unit extra on each so we see the entire distribution.  To do so, define `x` using `np.linspace` and create an array of 100 evenly spaced values starting at 9 and ending at 14.  Then, use these `x` values with `dist1`'s `.pdf` method to produce a plot of the distribution using `plt.plot`.  You should have a plot similar to that shown below.\n",
    "\n",
    "\n",
    "\n",
    "![](images/dist1.png)\n",
    "\n",
    "\n",
    "\n",
    "\n",
    "\n",
    "\n",
    "\n"
   ]
  },
  {
   "cell_type": "code",
   "execution_count": 13,
   "metadata": {
    "deletable": false,
    "nbgrader": {
     "checksum": "50a59168737f4823c18c768b6975ad80",
     "grade": false,
     "grade_id": "cell-55be2c1f62142ff0",
     "locked": false,
     "schema_version": 1,
     "solution": true
    }
   },
   "outputs": [
    {
     "name": "stdout",
     "output_type": "stream",
     "text": [
      "9.0 14.0\n"
     ]
    },
    {
     "data": {
      "image/png": "[encoded data removed]",
      "text/plain": [
       "<Figure size 432x288 with 1 Axes>"
      ]
     },
     "metadata": {
      "needs_background": "light"
     },
     "output_type": "display_data"
    }
   ],
   "source": [
    "### GRADED\n",
    "\n",
    "x = np.linspace(9, 14, 100)\n",
    "y = dist1.pdf(x)\n",
    "plt.plot(x, y)\n",
    "\n",
    "# Answer check\n",
    "print(min(x), max(x))"
   ]
  },
  {
   "cell_type": "code",
   "execution_count": null,
   "metadata": {
    "deletable": false,
    "editable": false,
    "nbgrader": {
     "checksum": "75181715245f218dc71cd2b8ea805d6b",
     "grade": true,
     "grade_id": "cell-f20857cdf84a3f91",
     "locked": true,
     "points": 2,
     "schema_version": 1,
     "solution": false
    }
   },
   "outputs": [],
   "source": []
  },
  {
   "cell_type": "markdown",
   "metadata": {
    "deletable": false,
    "editable": false,
    "nbgrader": {
     "checksum": "43e64d309b06d13be0073be2993c0331",
     "grade": false,
     "grade_id": "cell-faee5079151ebd9f",
     "locked": true,
     "schema_version": 1,
     "solution": false
    }
   },
   "source": [
    "[Back to top](#Index:) \n",
    "\n",
    "### Problem 4: Evaluating Probabilities \n",
    "\n",
    "**2 Points**\n",
    "\n",
    "Finally, you want to use the `.pdf` method to evaluate the probability of a specific outcome.  Determine the following probabilities using `dist1` and assign to the respective variables as floats below.\n",
    "\n",
    "- $P(9)$\n",
    "- $P(11)$\n",
    "- $P(11~ \\text{or} ~12)$"
   ]
  },
  {
   "cell_type": "code",
   "execution_count": 22,
   "metadata": {
    "deletable": false,
    "nbgrader": {
     "checksum": "4e7f338eee893d148ca9a626114c246d",
     "grade": false,
     "grade_id": "cell-1f288c9a16d0b2a5",
     "locked": false,
     "schema_version": 1,
     "solution": true
    }
   },
   "outputs": [
    {
     "name": "stdout",
     "output_type": "stream",
     "text": [
      "0.0 0.3333333333333333 0.6666666666666666\n"
     ]
    }
   ],
   "source": [
    "### GRADED\n",
    "\n",
    "p_9 = dist1.pdf(9)\n",
    "p_11 = dist1.pdf(11)\n",
    "p_11_or_12 = dist1.pdf(11) + dist1.pdf(12)\n",
    "\n",
    "# Answer check\n",
    "print(p_9, p_11, p_11_or_12)"
   ]
  },
  {
   "cell_type": "code",
   "execution_count": null,
   "metadata": {
    "deletable": false,
    "editable": false,
    "nbgrader": {
     "checksum": "23ccfb8e9d650612bd9cdcf6aaaa5ccd",
     "grade": true,
     "grade_id": "cell-d964dbefc2c842b6",
     "locked": true,
     "points": 2,
     "schema_version": 1,
     "solution": false
    }
   },
   "outputs": [],
   "source": []
  },
  {
   "cell_type": "markdown",
   "metadata": {
    "deletable": false,
    "editable": false,
    "nbgrader": {
     "checksum": "db6a91fbbf9bc6b3e2c10d759aff475d",
     "grade": false,
     "grade_id": "cell-83463fe492cdd74e",
     "locked": true,
     "schema_version": 1,
     "solution": false
    }
   },
   "source": [
    "[Back to top](#Index:) \n",
    "\n",
    "### Problem 5: Cumulative Probabilities\n",
    "\n",
    "**2 Points**\n",
    "\n",
    "The `.cdf` method can be used to determine cumulative probabilities.  Use the `.cdf` method of `dist1` to determine the following probabilities and assign them as a float to the relevant variable below. \n",
    "\n",
    "- $P(x < 12)$\n",
    "- $P(11 < x < 13)$\n",
    "- $P(x > 12)$"
   ]
  },
  {
   "cell_type": "code",
   "execution_count": 20,
   "metadata": {
    "deletable": false,
    "nbgrader": {
     "checksum": "76d2d455a2f8ac94069cacc2784ed5ae",
     "grade": false,
     "grade_id": "cell-6a64fed590ac20b9",
     "locked": false,
     "schema_version": 1,
     "solution": true
    }
   },
   "outputs": [
    {
     "name": "stdout",
     "output_type": "stream",
     "text": [
      "0.6666666666666666 0.6666666666666667 0.33333333333333337\n"
     ]
    }
   ],
   "source": [
    "### GRADED\n",
    "\n",
    "p_less_than_12 = dist1.cdf(12)\n",
    "p_between_11_and_13 = dist1.cdf(13) - dist1.cdf(11)\n",
    "p_greater_than_12 = dist1.cdf(13) - dist1.cdf(12)\n",
    "\n",
    "# Answer check\n",
    "print(p_less_than_12, p_between_11_and_13, p_greater_than_12)"
   ]
  },
  {
   "cell_type": "code",
   "execution_count": null,
   "metadata": {},
   "outputs": [],
   "source": []
  }
 ],
 "metadata": {
  "kernelspec": {
   "display_name": "Python 3",
   "language": "python",
   "name": "python3"
  },
  "language_info": {
   "codemirror_mode": {
    "name": "ipython",
    "version": 3
   },
   "file_extension": ".py",
   "mimetype": "text/x-python",
   "name": "python",
   "nbconvert_exporter": "python",
   "pygments_lexer": "ipython3",
   "version": "3.6.9"
  }
 },
 "nbformat": 4,
 "nbformat_minor": 2
}
