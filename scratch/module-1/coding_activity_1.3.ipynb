{
 "cells": [
  {
   "cell_type": "markdown",
   "metadata": {
    "deletable": false,
    "editable": false,
    "nbgrader": {
     "checksum": "9292f1069e0ffcfa9e615723ee12ef88",
     "grade": false,
     "grade_id": "cell-e1db32c15778e963",
     "locked": true,
     "schema_version": 1,
     "solution": false
    }
   },
   "source": [
    "## Codio Activity 1.3: Selecting Data in Multiple Ways\n",
    "\n",
    "**Expected Time: 45 Minutes**\n",
    "\n",
    "**Total Points: 20 Points**\n",
    "\n",
    "## Index:\n",
    "\n",
    "- [Part 1](#Part-one)\n",
    "- [Part 2](#Part-two)\n",
    "- [Part 3](#Part-three)"
   ]
  },
  {
   "cell_type": "code",
   "execution_count": null,
   "metadata": {},
   "outputs": [],
   "source": [
    "import pandas as pd"
   ]
  },
  {
   "cell_type": "markdown",
   "metadata": {
    "deletable": false,
    "editable": false,
    "nbgrader": {
     "checksum": "7cef4a8ceba68de23cdc38c7983ced0a",
     "grade": false,
     "grade_id": "cell-c5192e6fb172717e",
     "locked": true,
     "schema_version": 1,
     "solution": false
    }
   },
   "source": [
    "[Back to top](#Index:) \n",
    "\n",
    "## Part one\n",
    "\n",
    "### loc[]\n",
    "\n",
    "**2 Points each**\n",
    "\n",
    "In this exercise, return the basic information from a dataframe using loc[]"
   ]
  },
  {
   "cell_type": "code",
   "execution_count": 2,
   "metadata": {},
   "outputs": [
    {
     "name": "stdout",
     "output_type": "stream",
     "text": [
      "(456, 10)\n"
     ]
    },
    {
     "data": {
      "text/html": [
       "<div>\n",
       "<style scoped>\n",
       "    .dataframe tbody tr th:only-of-type {\n",
       "        vertical-align: middle;\n",
       "    }\n",
       "\n",
       "    .dataframe tbody tr th {\n",
       "        vertical-align: top;\n",
       "    }\n",
       "\n",
       "    .dataframe thead th {\n",
       "        text-align: right;\n",
       "    }\n",
       "</style>\n",
       "<table border=\"1\" class=\"dataframe\">\n",
       "  <thead>\n",
       "    <tr style=\"text-align: right;\">\n",
       "      <th></th>\n",
       "      <th>Unnamed: 0</th>\n",
       "      <th>Name</th>\n",
       "      <th>Team</th>\n",
       "      <th>Number</th>\n",
       "      <th>Position</th>\n",
       "      <th>Age</th>\n",
       "      <th>Height</th>\n",
       "      <th>Weight</th>\n",
       "      <th>College</th>\n",
       "      <th>Salary</th>\n",
       "    </tr>\n",
       "  </thead>\n",
       "  <tbody>\n",
       "    <tr>\n",
       "      <th>0</th>\n",
       "      <td>0</td>\n",
       "      <td>Avery Bradley</td>\n",
       "      <td>Boston Celtics</td>\n",
       "      <td>0.0</td>\n",
       "      <td>PG</td>\n",
       "      <td>25.0</td>\n",
       "      <td>6-2</td>\n",
       "      <td>180.0</td>\n",
       "      <td>Texas</td>\n",
       "      <td>7730337.0</td>\n",
       "    </tr>\n",
       "    <tr>\n",
       "      <th>1</th>\n",
       "      <td>1</td>\n",
       "      <td>Jae Crowder</td>\n",
       "      <td>Boston Celtics</td>\n",
       "      <td>99.0</td>\n",
       "      <td>SF</td>\n",
       "      <td>25.0</td>\n",
       "      <td>6-6</td>\n",
       "      <td>235.0</td>\n",
       "      <td>Marquette</td>\n",
       "      <td>6796117.0</td>\n",
       "    </tr>\n",
       "    <tr>\n",
       "      <th>2</th>\n",
       "      <td>2</td>\n",
       "      <td>John Holland</td>\n",
       "      <td>Boston Celtics</td>\n",
       "      <td>30.0</td>\n",
       "      <td>SG</td>\n",
       "      <td>27.0</td>\n",
       "      <td>6-5</td>\n",
       "      <td>205.0</td>\n",
       "      <td>Boston University</td>\n",
       "      <td>NaN</td>\n",
       "    </tr>\n",
       "    <tr>\n",
       "      <th>3</th>\n",
       "      <td>3</td>\n",
       "      <td>R.J. Hunter</td>\n",
       "      <td>Boston Celtics</td>\n",
       "      <td>28.0</td>\n",
       "      <td>SG</td>\n",
       "      <td>22.0</td>\n",
       "      <td>6-5</td>\n",
       "      <td>185.0</td>\n",
       "      <td>Georgia State</td>\n",
       "      <td>1148640.0</td>\n",
       "    </tr>\n",
       "    <tr>\n",
       "      <th>4</th>\n",
       "      <td>4</td>\n",
       "      <td>Jonas Jerebko</td>\n",
       "      <td>Boston Celtics</td>\n",
       "      <td>8.0</td>\n",
       "      <td>PF</td>\n",
       "      <td>29.0</td>\n",
       "      <td>6-10</td>\n",
       "      <td>231.0</td>\n",
       "      <td>NaN</td>\n",
       "      <td>5000000.0</td>\n",
       "    </tr>\n",
       "  </tbody>\n",
       "</table>\n",
       "</div>"
      ],
      "text/plain": [
       "   Unnamed: 0           Name            Team  Number Position   Age Height  \\\n",
       "0           0  Avery Bradley  Boston Celtics     0.0       PG  25.0    6-2   \n",
       "1           1    Jae Crowder  Boston Celtics    99.0       SF  25.0    6-6   \n",
       "2           2   John Holland  Boston Celtics    30.0       SG  27.0    6-5   \n",
       "3           3    R.J. Hunter  Boston Celtics    28.0       SG  22.0    6-5   \n",
       "4           4  Jonas Jerebko  Boston Celtics     8.0       PF  29.0   6-10   \n",
       "\n",
       "   Weight            College     Salary  \n",
       "0   180.0              Texas  7730337.0  \n",
       "1   235.0          Marquette  6796117.0  \n",
       "2   205.0  Boston University        NaN  \n",
       "3   185.0      Georgia State  1148640.0  \n",
       "4   231.0                NaN  5000000.0  "
      ]
     },
     "metadata": {},
     "output_type": "display_data"
    },
    {
     "data": {
      "text/html": [
       "<div>\n",
       "<style scoped>\n",
       "    .dataframe tbody tr th:only-of-type {\n",
       "        vertical-align: middle;\n",
       "    }\n",
       "\n",
       "    .dataframe tbody tr th {\n",
       "        vertical-align: top;\n",
       "    }\n",
       "\n",
       "    .dataframe thead th {\n",
       "        text-align: right;\n",
       "    }\n",
       "</style>\n",
       "<table border=\"1\" class=\"dataframe\">\n",
       "  <thead>\n",
       "    <tr style=\"text-align: right;\">\n",
       "      <th></th>\n",
       "      <th>Unnamed: 0</th>\n",
       "      <th>Name</th>\n",
       "      <th>Team</th>\n",
       "      <th>Number</th>\n",
       "      <th>Position</th>\n",
       "      <th>Age</th>\n",
       "      <th>Height</th>\n",
       "      <th>Weight</th>\n",
       "      <th>College</th>\n",
       "      <th>Salary</th>\n",
       "    </tr>\n",
       "  </thead>\n",
       "  <tbody>\n",
       "    <tr>\n",
       "      <th>451</th>\n",
       "      <td>451</td>\n",
       "      <td>Chris Johnson</td>\n",
       "      <td>Utah Jazz</td>\n",
       "      <td>23.0</td>\n",
       "      <td>SF</td>\n",
       "      <td>26.0</td>\n",
       "      <td>6-6</td>\n",
       "      <td>206.0</td>\n",
       "      <td>Dayton</td>\n",
       "      <td>981348.0</td>\n",
       "    </tr>\n",
       "    <tr>\n",
       "      <th>452</th>\n",
       "      <td>452</td>\n",
       "      <td>Trey Lyles</td>\n",
       "      <td>Utah Jazz</td>\n",
       "      <td>41.0</td>\n",
       "      <td>PF</td>\n",
       "      <td>20.0</td>\n",
       "      <td>6-10</td>\n",
       "      <td>234.0</td>\n",
       "      <td>Kentucky</td>\n",
       "      <td>2239800.0</td>\n",
       "    </tr>\n",
       "    <tr>\n",
       "      <th>453</th>\n",
       "      <td>453</td>\n",
       "      <td>Shelvin Mack</td>\n",
       "      <td>Utah Jazz</td>\n",
       "      <td>8.0</td>\n",
       "      <td>PG</td>\n",
       "      <td>26.0</td>\n",
       "      <td>6-3</td>\n",
       "      <td>203.0</td>\n",
       "      <td>Butler</td>\n",
       "      <td>2433333.0</td>\n",
       "    </tr>\n",
       "    <tr>\n",
       "      <th>454</th>\n",
       "      <td>454</td>\n",
       "      <td>Raul Neto</td>\n",
       "      <td>Utah Jazz</td>\n",
       "      <td>25.0</td>\n",
       "      <td>PG</td>\n",
       "      <td>24.0</td>\n",
       "      <td>6-1</td>\n",
       "      <td>179.0</td>\n",
       "      <td>NaN</td>\n",
       "      <td>900000.0</td>\n",
       "    </tr>\n",
       "    <tr>\n",
       "      <th>455</th>\n",
       "      <td>455</td>\n",
       "      <td>Tibor Pleiss</td>\n",
       "      <td>Utah Jazz</td>\n",
       "      <td>21.0</td>\n",
       "      <td>C</td>\n",
       "      <td>26.0</td>\n",
       "      <td>7-3</td>\n",
       "      <td>256.0</td>\n",
       "      <td>NaN</td>\n",
       "      <td>2900000.0</td>\n",
       "    </tr>\n",
       "  </tbody>\n",
       "</table>\n",
       "</div>"
      ],
      "text/plain": [
       "     Unnamed: 0           Name       Team  Number Position   Age Height  \\\n",
       "451         451  Chris Johnson  Utah Jazz    23.0       SF  26.0    6-6   \n",
       "452         452     Trey Lyles  Utah Jazz    41.0       PF  20.0   6-10   \n",
       "453         453   Shelvin Mack  Utah Jazz     8.0       PG  26.0    6-3   \n",
       "454         454      Raul Neto  Utah Jazz    25.0       PG  24.0    6-1   \n",
       "455         455   Tibor Pleiss  Utah Jazz    21.0        C  26.0    7-3   \n",
       "\n",
       "     Weight   College     Salary  \n",
       "451   206.0    Dayton   981348.0  \n",
       "452   234.0  Kentucky  2239800.0  \n",
       "453   203.0    Butler  2433333.0  \n",
       "454   179.0       NaN   900000.0  \n",
       "455   256.0       NaN  2900000.0  "
      ]
     },
     "metadata": {},
     "output_type": "display_data"
    }
   ],
   "source": [
    "#create the DataFrame utilizing Pandas \n",
    "data = pd.read_csv('./data/nba-activity-1.3.csv')\n",
    "data = data.iloc[:-1, :]\n",
    "print(data.shape)\n",
    "display(data.head(5))\n",
    "display(data.tail(5))"
   ]
  },
  {
   "cell_type": "code",
   "execution_count": 3,
   "metadata": {
    "deletable": false,
    "nbgrader": {
     "checksum": "92da328812589f822aee43225e8ad23a",
     "grade": false,
     "grade_id": "cell-b045abc8cbfc7df8",
     "locked": false,
     "schema_version": 1,
     "solution": true
    }
   },
   "outputs": [
    {
     "name": "stdout",
     "output_type": "stream",
     "text": [
      "Unnamed: 0                 0\n",
      "Name           Avery Bradley\n",
      "Team          Boston Celtics\n",
      "Number                   0.0\n",
      "Position                  PG\n",
      "Age                     25.0\n",
      "Height                   6-2\n",
      "Weight                 180.0\n",
      "College                Texas\n",
      "Salary             7730337.0\n",
      "Name: 0, dtype: object\n"
     ]
    }
   ],
   "source": [
    "### GRADED\n",
    "\n",
    "# Please print the information for the first line in the DataFrame. \n",
    "\n",
    "locinfo = data.loc[0]\n",
    "\n",
    "# ANSWER CHECK\n",
    "print(locinfo)"
   ]
  },
  {
   "cell_type": "code",
   "execution_count": null,
   "metadata": {
    "deletable": false,
    "editable": false,
    "nbgrader": {
     "checksum": "af0708b4abc19cc72f8142fbddb7a04a",
     "grade": true,
     "grade_id": "cell-c17601ab1d1e84b9",
     "locked": true,
     "points": 2,
     "schema_version": 1,
     "solution": false
    }
   },
   "outputs": [],
   "source": []
  },
  {
   "cell_type": "code",
   "execution_count": 4,
   "metadata": {
    "deletable": false,
    "nbgrader": {
     "checksum": "c059570e3c6621c9379be2a2340c2c00",
     "grade": false,
     "grade_id": "cell-2ce96b09f45395ce",
     "locked": false,
     "schema_version": 1,
     "solution": true
    }
   },
   "outputs": [
    {
     "name": "stdout",
     "output_type": "stream",
     "text": [
      "             Name                 Team\n",
      "169  LeBron James  Cleveland Cavaliers\n"
     ]
    }
   ],
   "source": [
    "### GRADED\n",
    "# Please show LeBron James' Name and Team\n",
    "\n",
    "teamdata = data.loc[data.Name == \"LeBron James\",[\"Name\", \"Team\"]]\n",
    "\n",
    "# ANSWER CHECK\n",
    "print(teamdata)"
   ]
  },
  {
   "cell_type": "code",
   "execution_count": null,
   "metadata": {
    "deletable": false,
    "editable": false,
    "nbgrader": {
     "checksum": "2c1cde6910e7fbe7ff177da38d1a756d",
     "grade": true,
     "grade_id": "cell-597b728f731e35e1",
     "locked": true,
     "points": 2,
     "schema_version": 1,
     "solution": false
    }
   },
   "outputs": [],
   "source": []
  },
  {
   "cell_type": "markdown",
   "metadata": {
    "deletable": false,
    "editable": false,
    "nbgrader": {
     "checksum": "fde9dbb69ac6fab566870a0a52d3b70b",
     "grade": false,
     "grade_id": "cell-3dbaee614a4b6329",
     "locked": true,
     "schema_version": 1,
     "solution": false
    }
   },
   "source": [
    "[Back to top](#Index:) \n",
    "\n",
    "## Part two\n",
    "\n",
    "### iloc[]\n",
    "\n",
    "**2 Points each**\n",
    "\n",
    "In this exercise, return single selections using iloc[]"
   ]
  },
  {
   "cell_type": "code",
   "execution_count": 5,
   "metadata": {
    "deletable": false,
    "nbgrader": {
     "checksum": "c1cdf58440fd38865a42dea86c84eb90",
     "grade": false,
     "grade_id": "cell-ac4f90f3ca044a80",
     "locked": false,
     "schema_version": 1,
     "solution": true
    }
   },
   "outputs": [
    {
     "name": "stdout",
     "output_type": "stream",
     "text": [
      "Unnamed: 0                 0\n",
      "Name           Avery Bradley\n",
      "Team          Boston Celtics\n",
      "Number                   0.0\n",
      "Position                  PG\n",
      "Age                     25.0\n",
      "Height                   6-2\n",
      "Weight                 180.0\n",
      "College                Texas\n",
      "Salary             7730337.0\n",
      "Name: 0, dtype: object\n"
     ]
    }
   ],
   "source": [
    "### GRADED\n",
    "# Please print the first row of data frame \n",
    "\n",
    "fr = data.iloc[0]\n",
    "\n",
    "# ANSWER CHECK\n",
    "print(fr)"
   ]
  },
  {
   "cell_type": "code",
   "execution_count": null,
   "metadata": {
    "deletable": false,
    "editable": false,
    "nbgrader": {
     "checksum": "02f92c7d9816ac5eef81f076616d269f",
     "grade": true,
     "grade_id": "cell-5c398dc822477664",
     "locked": true,
     "points": 2,
     "schema_version": 1,
     "solution": false
    }
   },
   "outputs": [],
   "source": []
  },
  {
   "cell_type": "code",
   "execution_count": 6,
   "metadata": {
    "deletable": false,
    "nbgrader": {
     "checksum": "c009cc5f7bc55eaed736d58c479e92db",
     "grade": false,
     "grade_id": "cell-c96cb0193a5accb4",
     "locked": false,
     "schema_version": 1,
     "solution": true
    }
   },
   "outputs": [
    {
     "data": {
      "text/plain": [
       "Unnamed: 0                 1\n",
       "Name             Jae Crowder\n",
       "Team          Boston Celtics\n",
       "Number                  99.0\n",
       "Position                  SF\n",
       "Age                     25.0\n",
       "Height                   6-6\n",
       "Weight                 235.0\n",
       "College            Marquette\n",
       "Salary             6796117.0\n",
       "Name: 1, dtype: object"
      ]
     },
     "metadata": {},
     "output_type": "display_data"
    }
   ],
   "source": [
    "### GRADED\n",
    "# Please print the second row of data frame \n",
    "\n",
    "sr = data.iloc[1]\n",
    "\n",
    "# ANSWER CHECK\n",
    "display(sr)"
   ]
  },
  {
   "cell_type": "code",
   "execution_count": null,
   "metadata": {
    "deletable": false,
    "editable": false,
    "nbgrader": {
     "checksum": "c40f281caca15af6457e864040e2eb94",
     "grade": true,
     "grade_id": "cell-621a6217da17246a",
     "locked": true,
     "points": 2,
     "schema_version": 1,
     "solution": false
    }
   },
   "outputs": [],
   "source": []
  },
  {
   "cell_type": "code",
   "execution_count": 7,
   "metadata": {
    "deletable": false,
    "nbgrader": {
     "checksum": "13ec361eb3a63b7525bf9a5c06c72a77",
     "grade": false,
     "grade_id": "cell-1843d8fe5e08d07a",
     "locked": false,
     "schema_version": 1,
     "solution": true
    }
   },
   "outputs": [
    {
     "name": "stdout",
     "output_type": "stream",
     "text": [
      "Unnamed: 0             455\n",
      "Name          Tibor Pleiss\n",
      "Team             Utah Jazz\n",
      "Number                21.0\n",
      "Position                 C\n",
      "Age                   26.0\n",
      "Height                 7-3\n",
      "Weight               256.0\n",
      "College                NaN\n",
      "Salary           2900000.0\n",
      "Name: 455, dtype: object\n"
     ]
    }
   ],
   "source": [
    "### GRADED\n",
    "# Please print the last row of data frame\n",
    "\n",
    "lr = data.iloc[-1]\n",
    "\n",
    "# ANSWER CHECK\n",
    "print(lr)"
   ]
  },
  {
   "cell_type": "code",
   "execution_count": null,
   "metadata": {
    "deletable": false,
    "editable": false,
    "nbgrader": {
     "checksum": "afc4ca4b551ec747b7c80f6f3e4e44b2",
     "grade": true,
     "grade_id": "cell-d0d3c052cb0eb6c4",
     "locked": true,
     "points": 2,
     "schema_version": 1,
     "solution": false
    }
   },
   "outputs": [],
   "source": []
  },
  {
   "cell_type": "code",
   "execution_count": 8,
   "metadata": {
    "deletable": false,
    "nbgrader": {
     "checksum": "e4bd55da9de0a9f59ecfd33b2dda87d0",
     "grade": false,
     "grade_id": "cell-b2ddae2ebcad6705",
     "locked": false,
     "schema_version": 1,
     "solution": true
    }
   },
   "outputs": [
    {
     "name": "stdout",
     "output_type": "stream",
     "text": [
      "0        0\n",
      "1        1\n",
      "2        2\n",
      "3        3\n",
      "4        4\n",
      "      ... \n",
      "451    451\n",
      "452    452\n",
      "453    453\n",
      "454    454\n",
      "455    455\n",
      "Name: Unnamed: 0, Length: 456, dtype: int64\n"
     ]
    }
   ],
   "source": [
    "###GRADED\n",
    "# Please print the first column of data frame\n",
    " \n",
    "fc = data.iloc[:,0]\n",
    "\n",
    "# ANSWER CHECK\n",
    "print(fc)"
   ]
  },
  {
   "cell_type": "code",
   "execution_count": null,
   "metadata": {
    "deletable": false,
    "editable": false,
    "nbgrader": {
     "checksum": "816d74e6d50403b597fbb3031af542bd",
     "grade": true,
     "grade_id": "cell-3a927802d2551a13",
     "locked": true,
     "points": 2,
     "schema_version": 1,
     "solution": false
    }
   },
   "outputs": [],
   "source": []
  },
  {
   "cell_type": "code",
   "execution_count": 9,
   "metadata": {
    "deletable": false,
    "nbgrader": {
     "checksum": "3ec509b0ec135d1b6ade2920202784aa",
     "grade": false,
     "grade_id": "cell-35925d6c39ff9c32",
     "locked": false,
     "schema_version": 1,
     "solution": true
    }
   },
   "outputs": [
    {
     "name": "stdout",
     "output_type": "stream",
     "text": [
      "0      Avery Bradley\n",
      "1        Jae Crowder\n",
      "2       John Holland\n",
      "3        R.J. Hunter\n",
      "4      Jonas Jerebko\n",
      "           ...      \n",
      "451    Chris Johnson\n",
      "452       Trey Lyles\n",
      "453     Shelvin Mack\n",
      "454        Raul Neto\n",
      "455     Tibor Pleiss\n",
      "Name: Name, Length: 456, dtype: object\n"
     ]
    }
   ],
   "source": [
    "### GRADED\n",
    "# Please print the second column of data frame\n",
    "\n",
    "sc = data.iloc[:,1]\n",
    "\n",
    "# ANSWER CHECK\n",
    "print(sc)"
   ]
  },
  {
   "cell_type": "code",
   "execution_count": null,
   "metadata": {
    "deletable": false,
    "editable": false,
    "nbgrader": {
     "checksum": "88ec158b0db60b28a4ee40124eab0b83",
     "grade": true,
     "grade_id": "cell-5040d043a3cceb73",
     "locked": true,
     "points": 2,
     "schema_version": 1,
     "solution": false
    }
   },
   "outputs": [],
   "source": []
  },
  {
   "cell_type": "code",
   "execution_count": 10,
   "metadata": {
    "deletable": false,
    "nbgrader": {
     "checksum": "ba8e2d7c7a8799ee6ab9aaa2f7075029",
     "grade": false,
     "grade_id": "cell-04a5a0d17f2b4901",
     "locked": false,
     "schema_version": 1,
     "solution": true
    }
   },
   "outputs": [
    {
     "name": "stdout",
     "output_type": "stream",
     "text": [
      "0      7730337.0\n",
      "1      6796117.0\n",
      "2            NaN\n",
      "3      1148640.0\n",
      "4      5000000.0\n",
      "         ...    \n",
      "451     981348.0\n",
      "452    2239800.0\n",
      "453    2433333.0\n",
      "454     900000.0\n",
      "455    2900000.0\n",
      "Name: Salary, Length: 456, dtype: float64\n"
     ]
    }
   ],
   "source": [
    "### GRADED\n",
    "# Please print the last column of data frame\n",
    "\n",
    "lc = data.iloc[:,-1]\n",
    "\n",
    "# ANSWER CHECK\n",
    "print(lc)"
   ]
  },
  {
   "cell_type": "code",
   "execution_count": null,
   "metadata": {
    "deletable": false,
    "editable": false,
    "nbgrader": {
     "checksum": "dc20a0ae06d720560b3439dd7aa59755",
     "grade": true,
     "grade_id": "cell-86adba4835e0586a",
     "locked": true,
     "points": 2,
     "schema_version": 1,
     "solution": false
    }
   },
   "outputs": [],
   "source": []
  },
  {
   "cell_type": "markdown",
   "metadata": {
    "deletable": false,
    "editable": false,
    "nbgrader": {
     "checksum": "81ee800fb04bb1b2c2aedd7ca6ab0570",
     "grade": false,
     "grade_id": "cell-a2d49a9f9bf6d7df",
     "locked": true,
     "schema_version": 1,
     "solution": false
    }
   },
   "source": [
    "[Back to top](#Index:) \n",
    "\n",
    "## Part three\n",
    "\n",
    "### Split\n",
    "\n",
    "**2 Points each**\n",
    "\n",
    "In this exercise, return the first and last name utilizing the split function"
   ]
  },
  {
   "cell_type": "code",
   "execution_count": 11,
   "metadata": {
    "deletable": false,
    "nbgrader": {
     "checksum": "c7e50edd496e1b98c9058a0e2d03bf5a",
     "grade": false,
     "grade_id": "cell-268b6113422e9d31",
     "locked": false,
     "schema_version": 1,
     "solution": true
    }
   },
   "outputs": [
    {
     "name": "stdout",
     "output_type": "stream",
     "text": [
      "The first name is Avery\n"
     ]
    }
   ],
   "source": [
    "### GRADED\n",
    "\n",
    "# Please print the first full name of the first series in the data frame.\n",
    "\n",
    "firstname = data.Name[0].split()[0]\n",
    "\n",
    "# ANSWER CHECK\n",
    "print('The first name is ' + firstname)"
   ]
  },
  {
   "cell_type": "code",
   "execution_count": null,
   "metadata": {
    "deletable": false,
    "editable": false,
    "nbgrader": {
     "checksum": "618f7270fad3f9ab87091f8d4e687fa2",
     "grade": true,
     "grade_id": "cell-d1baa522c6132ea0",
     "locked": true,
     "points": 2,
     "schema_version": 1,
     "solution": false
    }
   },
   "outputs": [],
   "source": []
  },
  {
   "cell_type": "code",
   "execution_count": 12,
   "metadata": {
    "deletable": false,
    "nbgrader": {
     "checksum": "0ab331be664cbc82c35634d68915f1f8",
     "grade": false,
     "grade_id": "cell-66242b355c8d6e79",
     "locked": false,
     "schema_version": 1,
     "solution": true
    }
   },
   "outputs": [
    {
     "name": "stdout",
     "output_type": "stream",
     "text": [
      "The last name is Bradley\n"
     ]
    }
   ],
   "source": [
    "###GRADED\n",
    "\n",
    "# Please print the last full name of the first series in the data frame.\n",
    "\n",
    "lastname = data.iloc[0,1].split()[1]\n",
    "\n",
    "# ANSWER CHECK\n",
    "print('The last name is ' + lastname)"
   ]
  },
  {
   "cell_type": "code",
   "execution_count": null,
   "metadata": {
    "deletable": false,
    "editable": false,
    "nbgrader": {
     "checksum": "153c54bdb04888d67f4f894f59ac6267",
     "grade": true,
     "grade_id": "cell-4cab45fe56846428",
     "locked": true,
     "points": 2,
     "schema_version": 1,
     "solution": false
    }
   },
   "outputs": [],
   "source": []
  },
  {
   "cell_type": "code",
   "execution_count": null,
   "metadata": {},
   "outputs": [],
   "source": []
  }
 ],
 "metadata": {
  "kernelspec": {
   "display_name": "Python 3",
   "language": "python",
   "name": "python3"
  },
  "language_info": {
   "codemirror_mode": {
    "name": "ipython",
    "version": 3
   },
   "file_extension": ".py",
   "mimetype": "text/x-python",
   "name": "python",
   "nbconvert_exporter": "python",
   "pygments_lexer": "ipython3",
   "version": "3.9.2"
  }
 },
 "nbformat": 4,
 "nbformat_minor": 5
}
