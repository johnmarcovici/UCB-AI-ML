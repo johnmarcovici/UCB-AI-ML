{
 "cells": [
  {
   "cell_type": "markdown",
   "metadata": {
    "deletable": false,
    "editable": false,
    "nbgrader": {
     "checksum": "70f903be2006859bdaef4fb698405afd",
     "grade": false,
     "grade_id": "cell-f39384a7d88ab3ff",
     "locked": true,
     "schema_version": 1,
     "solution": false
    }
   },
   "source": [
    "### Codio Activity 4.2: Complex Joins on Datasets\n",
    "\n",
    "**Expected Time: 60 Minutes**\n",
    "\n",
    "**Total Points: 10**\n",
    "\n",
    "![](images/kiva.png)\n",
    "\n",
    "This assignment focuses on using pandas merge to answer questions using multiple data sources.  Here you will combine data and use many of the earlier `pandas` methods together with the `merge` function to extract insights from our data source.  The data comes from the Kiva loan provider organization and was part of a kaggle Data Science for good contest [here](https://www.kaggle.com/kiva/data-science-for-good-kiva-crowdfunding).\n",
    "\n",
    "#### Index:\n",
    "\n",
    "- [Problem 1](#Problem-1)\n",
    "- [Problem 2](#Problem-2)\n",
    "- [Problem 3](#Problem-3)\n",
    "- [Problem 4](#Problem-4)\n",
    "- [Problem 5](#Problem-5)"
   ]
  },
  {
   "cell_type": "markdown",
   "metadata": {
    "deletable": false,
    "editable": false,
    "nbgrader": {
     "checksum": "eff259e35fdb383d81d8f856a967d597",
     "grade": false,
     "grade_id": "cell-e71e1b128fd909de",
     "locked": true,
     "schema_version": 1,
     "solution": false
    }
   },
   "source": [
    "### The Data\n",
    "\n",
    "Kiva allows users to fund loans to small organizations around the world.  The four datasets contain a subset of the data provided on kaggle and describe information on the individual loan, when it was given, where the borrowers were located, and what the loans were being used for.  Below, the data is loaded into four DataFrames and the first two rows of each displayed.  Note the shared `id` column across all four datasets."
   ]
  },
  {
   "cell_type": "code",
   "execution_count": 1,
   "metadata": {
    "deletable": false,
    "editable": false,
    "nbgrader": {
     "checksum": "6e9bda67cf333ca36b7877fcc9609e82",
     "grade": false,
     "grade_id": "cell-6279f9a688b63708",
     "locked": true,
     "schema_version": 1,
     "solution": false
    }
   },
   "outputs": [
    {
     "name": "stderr",
     "output_type": "stream",
     "text": [
      "/tmp/ipykernel_20160/4080736814.py:1: DeprecationWarning: \n",
      "Pyarrow will become a required dependency of pandas in the next major release of pandas (pandas 3.0),\n",
      "(to allow more performant data types, such as the Arrow string type, and better interoperability with other libraries)\n",
      "but was not found to be installed on your system.\n",
      "If this would cause problems for you,\n",
      "please provide us feedback at https://github.com/pandas-dev/pandas/issues/54466\n",
      "        \n",
      "  import pandas as pd\n"
     ]
    }
   ],
   "source": [
    "import pandas as pd"
   ]
  },
  {
   "cell_type": "code",
   "execution_count": 2,
   "metadata": {
    "deletable": false,
    "editable": false,
    "nbgrader": {
     "checksum": "44ee48dae1d9d12f02a0c795ebff09b7",
     "grade": false,
     "grade_id": "cell-86322bdf0dc50289",
     "locked": true,
     "schema_version": 1,
     "solution": false
    }
   },
   "outputs": [
    {
     "data": {
      "text/html": [
       "<div>\n",
       "<style scoped>\n",
       "    .dataframe tbody tr th:only-of-type {\n",
       "        vertical-align: middle;\n",
       "    }\n",
       "\n",
       "    .dataframe tbody tr th {\n",
       "        vertical-align: top;\n",
       "    }\n",
       "\n",
       "    .dataframe thead th {\n",
       "        text-align: right;\n",
       "    }\n",
       "</style>\n",
       "<table border=\"1\" class=\"dataframe\">\n",
       "  <thead>\n",
       "    <tr style=\"text-align: right;\">\n",
       "      <th></th>\n",
       "      <th>id</th>\n",
       "      <th>posted_time</th>\n",
       "      <th>funded_time</th>\n",
       "      <th>lender_count</th>\n",
       "    </tr>\n",
       "  </thead>\n",
       "  <tbody>\n",
       "    <tr>\n",
       "      <th>0</th>\n",
       "      <td>658776</td>\n",
       "      <td>2014-01-17 21:21:10+00:00</td>\n",
       "      <td>2014-02-05 17:57:55+00:00</td>\n",
       "      <td>33</td>\n",
       "    </tr>\n",
       "    <tr>\n",
       "      <th>1</th>\n",
       "      <td>1314847</td>\n",
       "      <td>2017-06-07 02:02:41+00:00</td>\n",
       "      <td>2017-06-21 17:10:38+00:00</td>\n",
       "      <td>9</td>\n",
       "    </tr>\n",
       "  </tbody>\n",
       "</table>\n",
       "</div>"
      ],
      "text/plain": [
       "        id                posted_time                funded_time  lender_count\n",
       "0   658776  2014-01-17 21:21:10+00:00  2014-02-05 17:57:55+00:00            33\n",
       "1  1314847  2017-06-07 02:02:41+00:00  2017-06-21 17:10:38+00:00             9"
      ]
     },
     "execution_count": 2,
     "metadata": {},
     "output_type": "execute_result"
    }
   ],
   "source": [
    "crowdsource = pd.read_csv('data/kiva/crowdsource.csv')\n",
    "crowdsource.head(2)"
   ]
  },
  {
   "cell_type": "code",
   "execution_count": 3,
   "metadata": {
    "deletable": false,
    "editable": false,
    "nbgrader": {
     "checksum": "0351a20e3a7fa7b8a6101f4c6f171321",
     "grade": false,
     "grade_id": "cell-82230968cb790dda",
     "locked": true,
     "schema_version": 1,
     "solution": false
    }
   },
   "outputs": [
    {
     "data": {
      "text/html": [
       "<div>\n",
       "<style scoped>\n",
       "    .dataframe tbody tr th:only-of-type {\n",
       "        vertical-align: middle;\n",
       "    }\n",
       "\n",
       "    .dataframe tbody tr th {\n",
       "        vertical-align: top;\n",
       "    }\n",
       "\n",
       "    .dataframe thead th {\n",
       "        text-align: right;\n",
       "    }\n",
       "</style>\n",
       "<table border=\"1\" class=\"dataframe\">\n",
       "  <thead>\n",
       "    <tr style=\"text-align: right;\">\n",
       "      <th></th>\n",
       "      <th>id</th>\n",
       "      <th>country</th>\n",
       "      <th>region</th>\n",
       "      <th>borrower_genders</th>\n",
       "    </tr>\n",
       "  </thead>\n",
       "  <tbody>\n",
       "    <tr>\n",
       "      <th>0</th>\n",
       "      <td>658776</td>\n",
       "      <td>El Salvador</td>\n",
       "      <td>Ciudad El Triunfo</td>\n",
       "      <td>male</td>\n",
       "    </tr>\n",
       "    <tr>\n",
       "      <th>1</th>\n",
       "      <td>1314847</td>\n",
       "      <td>Philippines</td>\n",
       "      <td>Bais, Negros Oriental</td>\n",
       "      <td>female</td>\n",
       "    </tr>\n",
       "  </tbody>\n",
       "</table>\n",
       "</div>"
      ],
      "text/plain": [
       "        id      country                 region borrower_genders\n",
       "0   658776  El Salvador      Ciudad El Triunfo             male\n",
       "1  1314847  Philippines  Bais, Negros Oriental           female"
      ]
     },
     "execution_count": 3,
     "metadata": {},
     "output_type": "execute_result"
    }
   ],
   "source": [
    "demographics = pd.read_csv('data/kiva/demographics.csv')\n",
    "demographics.head(2)"
   ]
  },
  {
   "cell_type": "code",
   "execution_count": 4,
   "metadata": {
    "deletable": false,
    "editable": false,
    "nbgrader": {
     "checksum": "34b998da91a8a1b1889bbb2e78a94ae3",
     "grade": false,
     "grade_id": "cell-31297e7068c5831f",
     "locked": true,
     "schema_version": 1,
     "solution": false
    }
   },
   "outputs": [
    {
     "data": {
      "text/html": [
       "<div>\n",
       "<style scoped>\n",
       "    .dataframe tbody tr th:only-of-type {\n",
       "        vertical-align: middle;\n",
       "    }\n",
       "\n",
       "    .dataframe tbody tr th {\n",
       "        vertical-align: top;\n",
       "    }\n",
       "\n",
       "    .dataframe thead th {\n",
       "        text-align: right;\n",
       "    }\n",
       "</style>\n",
       "<table border=\"1\" class=\"dataframe\">\n",
       "  <thead>\n",
       "    <tr style=\"text-align: right;\">\n",
       "      <th></th>\n",
       "      <th>id</th>\n",
       "      <th>funded_amount</th>\n",
       "      <th>currency</th>\n",
       "      <th>term_in_months</th>\n",
       "    </tr>\n",
       "  </thead>\n",
       "  <tbody>\n",
       "    <tr>\n",
       "      <th>0</th>\n",
       "      <td>658776</td>\n",
       "      <td>1000.0</td>\n",
       "      <td>USD</td>\n",
       "      <td>20.0</td>\n",
       "    </tr>\n",
       "    <tr>\n",
       "      <th>1</th>\n",
       "      <td>1314847</td>\n",
       "      <td>225.0</td>\n",
       "      <td>PHP</td>\n",
       "      <td>13.0</td>\n",
       "    </tr>\n",
       "  </tbody>\n",
       "</table>\n",
       "</div>"
      ],
      "text/plain": [
       "        id  funded_amount currency  term_in_months\n",
       "0   658776         1000.0      USD            20.0\n",
       "1  1314847          225.0      PHP            13.0"
      ]
     },
     "execution_count": 4,
     "metadata": {},
     "output_type": "execute_result"
    }
   ],
   "source": [
    "financials = pd.read_csv('data/kiva/financials.csv')\n",
    "financials.head(2)"
   ]
  },
  {
   "cell_type": "code",
   "execution_count": 5,
   "metadata": {
    "deletable": false,
    "editable": false,
    "nbgrader": {
     "checksum": "873db2e2d1073657b50c522524b43852",
     "grade": false,
     "grade_id": "cell-2ebb50994101b895",
     "locked": true,
     "schema_version": 1,
     "solution": false
    }
   },
   "outputs": [
    {
     "data": {
      "text/html": [
       "<div>\n",
       "<style scoped>\n",
       "    .dataframe tbody tr th:only-of-type {\n",
       "        vertical-align: middle;\n",
       "    }\n",
       "\n",
       "    .dataframe tbody tr th {\n",
       "        vertical-align: top;\n",
       "    }\n",
       "\n",
       "    .dataframe thead th {\n",
       "        text-align: right;\n",
       "    }\n",
       "</style>\n",
       "<table border=\"1\" class=\"dataframe\">\n",
       "  <thead>\n",
       "    <tr style=\"text-align: right;\">\n",
       "      <th></th>\n",
       "      <th>id</th>\n",
       "      <th>activity</th>\n",
       "      <th>sector</th>\n",
       "      <th>use</th>\n",
       "    </tr>\n",
       "  </thead>\n",
       "  <tbody>\n",
       "    <tr>\n",
       "      <th>0</th>\n",
       "      <td>658776</td>\n",
       "      <td>Vehicle</td>\n",
       "      <td>Personal Use</td>\n",
       "      <td>to purchase a motorcycle in order to travel fr...</td>\n",
       "    </tr>\n",
       "    <tr>\n",
       "      <th>1</th>\n",
       "      <td>1314847</td>\n",
       "      <td>Pigs</td>\n",
       "      <td>Agriculture</td>\n",
       "      <td>to buy feed and other supplies like vitamins t...</td>\n",
       "    </tr>\n",
       "  </tbody>\n",
       "</table>\n",
       "</div>"
      ],
      "text/plain": [
       "        id activity        sector  \\\n",
       "0   658776  Vehicle  Personal Use   \n",
       "1  1314847     Pigs   Agriculture   \n",
       "\n",
       "                                                 use  \n",
       "0  to purchase a motorcycle in order to travel fr...  \n",
       "1  to buy feed and other supplies like vitamins t...  "
      ]
     },
     "execution_count": 5,
     "metadata": {},
     "output_type": "execute_result"
    }
   ],
   "source": [
    "use = pd.read_csv('data/kiva/use.csv')\n",
    "use.head(2)"
   ]
  },
  {
   "cell_type": "markdown",
   "metadata": {
    "deletable": false,
    "editable": false,
    "nbgrader": {
     "checksum": "09549fec7eac7da2e6865c8b826fe478",
     "grade": false,
     "grade_id": "cell-8a1101ef968bdddd",
     "locked": true,
     "schema_version": 1,
     "solution": false
    }
   },
   "source": [
    "[Back to top](#Index:) \n",
    "\n",
    "### Problem 1\n",
    "\n",
    "#### Kenyan Loan Amounts\n",
    "\n",
    "**5 Points**\n",
    "\n",
    "Use the `demographics` and `financials` data to determine the average loan amount for the country Kenya.  Save your response as a float to `ans1` below."
   ]
  },
  {
   "cell_type": "code",
   "execution_count": 12,
   "metadata": {
    "deletable": false,
    "nbgrader": {
     "checksum": "165041062bdc4a209424402edf0ec692",
     "grade": false,
     "grade_id": "cell-30ba4362a6bbb79d",
     "locked": false,
     "schema_version": 1,
     "solution": true
    }
   },
   "outputs": [
    {
     "name": "stdout",
     "output_type": "stream",
     "text": [
      "443.4723441615452\n",
      "<class 'numpy.float64'>\n"
     ]
    }
   ],
   "source": [
    "### GRADED (Changed!)\n",
    "\n",
    "ans1 = pd.merge(left=demographics, right=financials, on=\"id\").query('country == \"Kenya\"')[[\"funded_amount\"]].mean().values[0]\n",
    "\n",
    "# Answer check\n",
    "print(ans1)\n",
    "print(type(ans1))"
   ]
  },
  {
   "cell_type": "code",
   "execution_count": null,
   "metadata": {
    "deletable": false,
    "editable": false,
    "nbgrader": {
     "checksum": "eecda4b53023ee32754fe61ebece4713",
     "grade": true,
     "grade_id": "cell-3c3e3fda1e1b70e8",
     "locked": true,
     "points": 2,
     "schema_version": 1,
     "solution": false
    }
   },
   "outputs": [],
   "source": []
  },
  {
   "cell_type": "markdown",
   "metadata": {
    "deletable": false,
    "editable": false,
    "nbgrader": {
     "checksum": "c810e563136dc9a1785b3d564d888306",
     "grade": false,
     "grade_id": "cell-850d79c95dd9419a",
     "locked": true,
     "schema_version": 1,
     "solution": false
    }
   },
   "source": [
    "[Back to top](#Index:) \n",
    "\n",
    "### Problem 2\n",
    "\n",
    "### El Salvador Top Sector\n",
    "\n",
    "**5 Points**\n",
    "\n",
    "Use the `demographics` and `use` datasets to determine the sector of work that received the most loans in El Salvador.  Assign your result as a string to `ans2` below."
   ]
  },
  {
   "cell_type": "code",
   "execution_count": 7,
   "metadata": {
    "deletable": false,
    "nbgrader": {
     "checksum": "3cd2370daacbb97613a0f6512a91929b",
     "grade": false,
     "grade_id": "cell-4037ebf501493e72",
     "locked": false,
     "schema_version": 1,
     "solution": true
    }
   },
   "outputs": [
    {
     "data": {
      "text/plain": [
       "'Agriculture'"
      ]
     },
     "metadata": {},
     "output_type": "display_data"
    },
    {
     "name": "stdout",
     "output_type": "stream",
     "text": [
      "Agriculture\n",
      "<class 'str'>\n"
     ]
    }
   ],
   "source": [
    "### GRADED\n",
    "ans2 = pd.merge(left=demographics, right=use, on=\"id\").query('country == \"El Salvador\"')[\"sector\"].mode().item()\n",
    "display(ans2)\n",
    "\n",
    "# YOUR CODE HERE\n",
    "\n",
    "# Answer check\n",
    "print(ans2)\n",
    "print(type(ans2))"
   ]
  },
  {
   "cell_type": "code",
   "execution_count": null,
   "metadata": {
    "deletable": false,
    "editable": false,
    "nbgrader": {
     "checksum": "aa1812e7d047531cc90668db5e0da8e5",
     "grade": true,
     "grade_id": "cell-2bf2a356d27da211",
     "locked": true,
     "points": 2,
     "schema_version": 1,
     "solution": false
    }
   },
   "outputs": [],
   "source": []
  },
  {
   "cell_type": "markdown",
   "metadata": {
    "deletable": false,
    "editable": false,
    "nbgrader": {
     "checksum": "a52868e813c41f011d52634fc5025cfd",
     "grade": false,
     "grade_id": "cell-730d7b85d6989699",
     "locked": true,
     "schema_version": 1,
     "solution": false
    }
   },
   "source": [
    "### Problem 3\n",
    "\n",
    "#### Pakistan Loans in Agriculture\n",
    "\n",
    "**5 Points**\n",
    "\n",
    "Combine the `use`, `demographics`, and `financials` data to determine the total amount of loans for Agriculture in Pakistan.  Assign your results as a float to `ans3` below."
   ]
  },
  {
   "cell_type": "code",
   "execution_count": 14,
   "metadata": {
    "deletable": false,
    "nbgrader": {
     "checksum": "7c177a1b307f0982693190f49aae215f",
     "grade": false,
     "grade_id": "cell-00a00bf68209058f",
     "locked": false,
     "schema_version": 1,
     "solution": true
    }
   },
   "outputs": [
    {
     "name": "stdout",
     "output_type": "stream",
     "text": [
      "30900.0\n",
      "<class 'numpy.float64'>\n"
     ]
    }
   ],
   "source": [
    "### GRADED\n",
    "\n",
    "ans3 = pd.merge(\n",
    "    left=pd.merge(\n",
    "        left=demographics,\n",
    "        right=use,\n",
    "        on=\"id\"),\n",
    "    right=financials,\n",
    "    on=\"id\").query('country == \"Pakistan\" and sector == \"Agriculture\"')[[\"funded_amount\"]].sum().values[0]\n",
    "\n",
    "# Answer check\n",
    "print(ans3)\n",
    "print(type(ans3))"
   ]
  },
  {
   "cell_type": "code",
   "execution_count": null,
   "metadata": {
    "deletable": false,
    "editable": false,
    "nbgrader": {
     "checksum": "297154e93976736e0282ba22577d449e",
     "grade": true,
     "grade_id": "cell-79780abf2a643093",
     "locked": true,
     "points": 2,
     "schema_version": 1,
     "solution": false
    }
   },
   "outputs": [],
   "source": []
  },
  {
   "cell_type": "markdown",
   "metadata": {
    "deletable": false,
    "editable": false,
    "nbgrader": {
     "checksum": "38cc852afb9c2a01184c161a0a23e74a",
     "grade": false,
     "grade_id": "cell-7241f3c603d05fbb",
     "locked": true,
     "schema_version": 1,
     "solution": false
    }
   },
   "source": [
    "[Back to top](#Index:) \n",
    "\n",
    "### Problem 4\n",
    "\n",
    "#### Top Total Loan Sector\n",
    "\n",
    "**5 Points**\n",
    "\n",
    "\n",
    "What sector received the most total dollars in funding?  Assign your response as a string to `ans4` below."
   ]
  },
  {
   "cell_type": "code",
   "execution_count": 9,
   "metadata": {
    "deletable": false,
    "nbgrader": {
     "checksum": "0264e4c6cb878f11f88a283c41091dd4",
     "grade": false,
     "grade_id": "cell-a8d7b30a738b7adc",
     "locked": false,
     "schema_version": 1,
     "solution": true
    }
   },
   "outputs": [
    {
     "name": "stdout",
     "output_type": "stream",
     "text": [
      "Agriculture\n",
      "<class 'str'>\n"
     ]
    }
   ],
   "source": [
    "### GRADED\n",
    "\n",
    "ans4 = pd.merge(\n",
    "    left=use,\n",
    "    right=financials,\n",
    "    on=\"id\")[[\"sector\", \"funded_amount\"]].groupby(\"sector\").sum().idxmax().item()\n",
    "\n",
    "# Answer check\n",
    "print(ans4)\n",
    "print(type(ans4))"
   ]
  },
  {
   "cell_type": "code",
   "execution_count": null,
   "metadata": {
    "deletable": false,
    "editable": false,
    "nbgrader": {
     "checksum": "4e7119fc9cdf6018a35a778d2ea3c049",
     "grade": true,
     "grade_id": "cell-c4a056a912aea7e0",
     "locked": true,
     "points": 2,
     "schema_version": 1,
     "solution": false
    }
   },
   "outputs": [],
   "source": []
  },
  {
   "cell_type": "markdown",
   "metadata": {
    "deletable": false,
    "editable": false,
    "nbgrader": {
     "checksum": "4f538ab97bfddd628135077aa246fb7c",
     "grade": false,
     "grade_id": "cell-061672558861bf9e",
     "locked": true,
     "schema_version": 1,
     "solution": false
    }
   },
   "source": [
    "[Back to top](#Index:) \n",
    "\n",
    "### Problem 5\n",
    "\n",
    "#### Top Loan by Lender Amount\n",
    "\n",
    "**5 Points**\n",
    "\n",
    "\n",
    "Note that each loan is a combination of lenders.  Determine which loan sector has the highest ratio of dollar to lender amount.  Assign the sector with the highest ratio as a string to `ans5` below. "
   ]
  },
  {
   "cell_type": "code",
   "execution_count": 10,
   "metadata": {
    "deletable": false,
    "nbgrader": {
     "checksum": "37c3b2045a2863eb84c7119a617708a6",
     "grade": false,
     "grade_id": "cell-1739efe5ab750822",
     "locked": false,
     "schema_version": 1,
     "solution": true
    }
   },
   "outputs": [
    {
     "data": {
      "text/html": [
       "<div>\n",
       "<style scoped>\n",
       "    .dataframe tbody tr th:only-of-type {\n",
       "        vertical-align: middle;\n",
       "    }\n",
       "\n",
       "    .dataframe tbody tr th {\n",
       "        vertical-align: top;\n",
       "    }\n",
       "\n",
       "    .dataframe thead th {\n",
       "        text-align: right;\n",
       "    }\n",
       "</style>\n",
       "<table border=\"1\" class=\"dataframe\">\n",
       "  <thead>\n",
       "    <tr style=\"text-align: right;\">\n",
       "      <th></th>\n",
       "      <th>sector</th>\n",
       "      <th>funded_amount</th>\n",
       "      <th>lender_count</th>\n",
       "      <th>dollar_to_lender_ratio</th>\n",
       "    </tr>\n",
       "  </thead>\n",
       "  <tbody>\n",
       "    <tr>\n",
       "      <th>9687</th>\n",
       "      <td>Retail</td>\n",
       "      <td>6000.0</td>\n",
       "      <td>1</td>\n",
       "      <td>6000.000000</td>\n",
       "    </tr>\n",
       "    <tr>\n",
       "      <th>1101</th>\n",
       "      <td>Retail</td>\n",
       "      <td>4850.0</td>\n",
       "      <td>1</td>\n",
       "      <td>4850.000000</td>\n",
       "    </tr>\n",
       "    <tr>\n",
       "      <th>6451</th>\n",
       "      <td>Clothing</td>\n",
       "      <td>8700.0</td>\n",
       "      <td>2</td>\n",
       "      <td>4350.000000</td>\n",
       "    </tr>\n",
       "    <tr>\n",
       "      <th>1030</th>\n",
       "      <td>Food</td>\n",
       "      <td>4100.0</td>\n",
       "      <td>1</td>\n",
       "      <td>4100.000000</td>\n",
       "    </tr>\n",
       "    <tr>\n",
       "      <th>2373</th>\n",
       "      <td>Arts</td>\n",
       "      <td>3650.0</td>\n",
       "      <td>1</td>\n",
       "      <td>3650.000000</td>\n",
       "    </tr>\n",
       "    <tr>\n",
       "      <th>...</th>\n",
       "      <td>...</td>\n",
       "      <td>...</td>\n",
       "      <td>...</td>\n",
       "      <td>...</td>\n",
       "    </tr>\n",
       "    <tr>\n",
       "      <th>1820</th>\n",
       "      <td>Clothing</td>\n",
       "      <td>125.0</td>\n",
       "      <td>16</td>\n",
       "      <td>7.812500</td>\n",
       "    </tr>\n",
       "    <tr>\n",
       "      <th>9927</th>\n",
       "      <td>Clothing</td>\n",
       "      <td>125.0</td>\n",
       "      <td>16</td>\n",
       "      <td>7.812500</td>\n",
       "    </tr>\n",
       "    <tr>\n",
       "      <th>5921</th>\n",
       "      <td>Food</td>\n",
       "      <td>125.0</td>\n",
       "      <td>16</td>\n",
       "      <td>7.812500</td>\n",
       "    </tr>\n",
       "    <tr>\n",
       "      <th>2850</th>\n",
       "      <td>Food</td>\n",
       "      <td>125.0</td>\n",
       "      <td>16</td>\n",
       "      <td>7.812500</td>\n",
       "    </tr>\n",
       "    <tr>\n",
       "      <th>3846</th>\n",
       "      <td>Food</td>\n",
       "      <td>125.0</td>\n",
       "      <td>17</td>\n",
       "      <td>7.352941</td>\n",
       "    </tr>\n",
       "  </tbody>\n",
       "</table>\n",
       "<p>9955 rows × 4 columns</p>\n",
       "</div>"
      ],
      "text/plain": [
       "        sector  funded_amount  lender_count  dollar_to_lender_ratio\n",
       "9687    Retail         6000.0             1             6000.000000\n",
       "1101    Retail         4850.0             1             4850.000000\n",
       "6451  Clothing         8700.0             2             4350.000000\n",
       "1030      Food         4100.0             1             4100.000000\n",
       "2373      Arts         3650.0             1             3650.000000\n",
       "...        ...            ...           ...                     ...\n",
       "1820  Clothing          125.0            16                7.812500\n",
       "9927  Clothing          125.0            16                7.812500\n",
       "5921      Food          125.0            16                7.812500\n",
       "2850      Food          125.0            16                7.812500\n",
       "3846      Food          125.0            17                7.352941\n",
       "\n",
       "[9955 rows x 4 columns]"
      ]
     },
     "metadata": {},
     "output_type": "display_data"
    },
    {
     "name": "stdout",
     "output_type": "stream",
     "text": [
      "<class 'str'>\n"
     ]
    },
    {
     "data": {
      "text/plain": [
       "'Retail'"
      ]
     },
     "metadata": {},
     "output_type": "display_data"
    }
   ],
   "source": [
    "### GRADED\n",
    "\n",
    "temp_df = pd.merge(\n",
    "    left=pd.merge(\n",
    "        left=use,\n",
    "        right=financials,\n",
    "        on=\"id\"),\n",
    "    right=crowdsource,\n",
    "    on=\"id\")[[\"sector\", \"funded_amount\", \"lender_count\"]]\n",
    "\n",
    "#tt = temp_df.query(\"lender_count == 0\")\n",
    "#display(tt.shape)\n",
    "#display(tt)\n",
    "temp_df[\"dollar_to_lender_ratio\"] = temp_df[\"funded_amount\"]/temp_df[\"lender_count\"]\n",
    "temp_df = temp_df.dropna()\n",
    "temp_df = temp_df.sort_values(by=\"dollar_to_lender_ratio\", ascending=False)\n",
    "display(temp_df)\n",
    "\n",
    "ans5 = temp_df.iloc[0][\"sector\"]\n",
    "\n",
    "# Answer check\n",
    "print(type(ans5))\n",
    "display(ans5)"
   ]
  },
  {
   "cell_type": "code",
   "execution_count": null,
   "metadata": {
    "deletable": false,
    "editable": false,
    "nbgrader": {
     "checksum": "2cd8ecac47a902f42d7f070ab40ae6d8",
     "grade": true,
     "grade_id": "cell-95ae34d4661d4478",
     "locked": true,
     "points": 2,
     "schema_version": 1,
     "solution": false
    }
   },
   "outputs": [],
   "source": []
  },
  {
   "cell_type": "code",
   "execution_count": null,
   "metadata": {},
   "outputs": [],
   "source": []
  }
 ],
 "metadata": {
  "kernelspec": {
   "display_name": "Python 3",
   "language": "python",
   "name": "python3"
  },
  "language_info": {
   "codemirror_mode": {
    "name": "ipython",
    "version": 3
   },
   "file_extension": ".py",
   "mimetype": "text/x-python",
   "name": "python",
   "nbconvert_exporter": "python",
   "pygments_lexer": "ipython3",
   "version": "3.9.2"
  },
  "widgets": {
   "application/vnd.jupyter.widget-state+json": {
    "state": {},
    "version_major": 2,
    "version_minor": 0
   }
  }
 },
 "nbformat": 4,
 "nbformat_minor": 4
}
