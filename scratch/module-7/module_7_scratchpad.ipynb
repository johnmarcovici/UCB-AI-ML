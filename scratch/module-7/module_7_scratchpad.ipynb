{
 "cells": [
  {
   "cell_type": "markdown",
   "metadata": {},
   "source": [
    "# Imports"
   ]
  },
  {
   "cell_type": "code",
   "execution_count": null,
   "metadata": {},
   "outputs": [],
   "source": [
    "import warnings\n",
    "\n",
    "warnings.filterwarnings(\"ignore\")\n",
    "import numpy as np\n",
    "import pandas as pd\n",
    "import matplotlib.pyplot as plt\n",
    "import seaborn as sns\n",
    "from sklearn import datasets, linear_model\n",
    "from scipy.linalg import svd\n",
    "import sklearn.cluster as cluster\n",
    "import plotly.express as px\n",
    "import plotly.graph_objects as go\n",
    "\n",
    "np.random.seed(1234)"
   ]
  },
  {
   "cell_type": "code",
   "execution_count": null,
   "metadata": {},
   "outputs": [],
   "source": [
    "warnings.filterwarnings(\"ignore\")\n",
    "pd.set_option(\"display.max_columns\", None)\n",
    "# mpl.rcParams.update({\"axes.grid\": True})"
   ]
  },
  {
   "cell_type": "markdown",
   "metadata": {},
   "source": [
    "# 7.1 Linear Regression\n",
    "\n",
    "Regression - requires a real-valued outcome\n",
    "\n",
    "Simple example - model someones weight given their age\n",
    "More complex - use their age, height, and country of origin\n",
    "\n",
    "What isn't regression?\n",
    "Predict if a person is a male or female given data about them? Not because output not real-valued (categorical output)\n",
    "\n",
    "Simple Regression\n",
    "- Just one predictor variable, e.g. given gross square footage, what is sale price of house?\n",
    "- Do a scatter plot of sale price vs. living area\n",
    "\n",
    "Simple Linear Regression\n",
    "- Model assumes outcome vs. feature is linear\n",
    "\n",
    "What is lowess?\n",
    "- Looks like piecewise-linear\n",
    "- More difficult to explain though\n",
    "\n",
    "What is a model?\n",
    "- Idealized representation of a system\n",
    "- *All models are wrong, but some are useful*\n",
    "\n",
    "Linear models\n",
    "- Models are linear when predictions are linear combinations of variables"
   ]
  },
  {
   "cell_type": "markdown",
   "metadata": {},
   "source": [
    "### Data Load - California Housing Data Set"
   ]
  },
  {
   "cell_type": "code",
   "execution_count": null,
   "metadata": {},
   "outputs": [],
   "source": [
    "# housing = datasets.fetch_california_housing()\n",
    "# df = pd.DataFrame(data=housing.data, columns=housing.feature_names)\n",
    "df = pd.read_csv(\"./data/housing.csv\")\n",
    "display(df)"
   ]
  },
  {
   "cell_type": "markdown",
   "metadata": {},
   "source": [
    "### Scatter with Lowess Trendline"
   ]
  },
  {
   "cell_type": "code",
   "execution_count": null,
   "metadata": {},
   "outputs": [],
   "source": [
    "px.scatter(\n",
    "    df,\n",
    "    x=\"GrLivArea\",\n",
    "    y=\"SalePrice\",\n",
    "    trendline=\"lowess\",\n",
    "    trendline_color_override=\"black\",\n",
    ")"
   ]
  },
  {
   "cell_type": "markdown",
   "metadata": {},
   "source": [
    "# 7.2 Tips Dataset\n",
    "\n",
    "Row is a table that was served by a waiter. Sex is who paid, not sex of waiter.  \n",
    "Going to concentrate on total bill"
   ]
  },
  {
   "cell_type": "code",
   "execution_count": null,
   "metadata": {},
   "outputs": [],
   "source": [
    "data = sns.load_dataset(\"tips\", cache=False)\n",
    "data.head()"
   ]
  },
  {
   "cell_type": "code",
   "execution_count": null,
   "metadata": {},
   "outputs": [],
   "source": [
    "px.scatter(\n",
    "    data,\n",
    "    x=\"total_bill\",\n",
    "    y=\"tip\",\n",
    "    trendline=\"ols\",\n",
    "    trendline_color_override=\"black\",\n",
    ")"
   ]
  },
  {
   "cell_type": "markdown",
   "metadata": {},
   "source": [
    "# 7.3 Creating a Plotly and Scikit-Learn Model\n",
    "\n",
    "Scikit Process\n",
    "- Instantiate linear model object\n",
    "- Fit model\n",
    "- Use the object to make predictions"
   ]
  },
  {
   "cell_type": "markdown",
   "metadata": {},
   "source": [
    "### Create Model"
   ]
  },
  {
   "cell_type": "code",
   "execution_count": null,
   "metadata": {},
   "outputs": [],
   "source": [
    "features = data[[\"total_bill\"]]\n",
    "target = data[\"tip\"]\n",
    "f = linear_model.LinearRegression(fit_intercept=False)\n",
    "f.fit(features, target)"
   ]
  },
  {
   "cell_type": "markdown",
   "metadata": {},
   "source": [
    "### Predictions"
   ]
  },
  {
   "cell_type": "code",
   "execution_count": null,
   "metadata": {},
   "outputs": [],
   "source": [
    "data[\"prediction\"] = f.predict(features)\n",
    "data.head()"
   ]
  },
  {
   "cell_type": "markdown",
   "metadata": {},
   "source": [
    "### Plot"
   ]
  },
  {
   "cell_type": "code",
   "execution_count": null,
   "metadata": {},
   "outputs": [],
   "source": [
    "fig = go.Figure()\n",
    "fig.add_trace(\n",
    "    go.Scatter(x=data[\"total_bill\"], y=data[\"tip\"], mode=\"markers\", name=\"actual\")\n",
    ")\n",
    "fig.add_trace(\n",
    "    go.Scatter(\n",
    "        x=data[\"total_bill\"], y=data[\"prediction\"], mode=\"lines\", name=\"prediction\"\n",
    "    )\n",
    ")\n",
    "fig.update_layout(font_size=20)"
   ]
  },
  {
   "cell_type": "markdown",
   "metadata": {},
   "source": [
    "### Model Params\n"
   ]
  },
  {
   "cell_type": "code",
   "execution_count": null,
   "metadata": {},
   "outputs": [],
   "source": [
    "display([f.coef_, f.intercept_])"
   ]
  },
  {
   "cell_type": "markdown",
   "metadata": {},
   "source": [
    "### Regresion with Plotly"
   ]
  },
  {
   "cell_type": "code",
   "execution_count": null,
   "metadata": {},
   "outputs": [],
   "source": [
    "px.scatter(\n",
    "    data,\n",
    "    x=\"total_bill\",\n",
    "    y=\"tip\",\n",
    "    trendline=\"ols\",\n",
    "    trendline_color_override=\"red\",\n",
    ")"
   ]
  },
  {
   "cell_type": "markdown",
   "metadata": {},
   "source": [
    "# 7.4 Defining Loss Functions\n",
    "\n",
    "Loss Function\n",
    "- Numerically computes the badness of a model\n",
    "- Tells us how wrong it is\n",
    "- Most common is L2 (squared loss), as in L2 norm\n",
    "\n",
    "Definition of L2 Loss Function: $$L(y,yhat) = (y - yhat)^2$$\n",
    "\n",
    "Example:\n",
    "- y = 5.15\n",
    "- yhat = 1.04\n",
    "- loss = (5.15 - 1.04)^2 = 16.89\n",
    "\n",
    "Mean Square Error (MSE)\n",
    "\n",
    "Compute the average of L2 over entire dataset, mean squared errorr, just take average of all instances of L(y,yhat)"
   ]
  },
  {
   "cell_type": "code",
   "execution_count": null,
   "metadata": {},
   "outputs": [],
   "source": [
    "(5.15 - 1.04) ** 2"
   ]
  },
  {
   "cell_type": "markdown",
   "metadata": {},
   "source": [
    "# 7.5 Computing L2\n"
   ]
  },
  {
   "cell_type": "code",
   "execution_count": null,
   "metadata": {},
   "outputs": [],
   "source": [
    "l2_loss = (data[\"tip\"] - data[\"prediction\"]) ** 2\n",
    "l2_loss.mean()"
   ]
  },
  {
   "cell_type": "code",
   "execution_count": null,
   "metadata": {},
   "outputs": [],
   "source": [
    "from sklearn.metrics import mean_squared_error\n",
    "\n",
    "mean_squared_error(data[\"tip\"], data[\"prediction\"])"
   ]
  },
  {
   "cell_type": "markdown",
   "metadata": {},
   "source": [
    "# 7.6 Optimizing L2\n",
    "\n",
    "Different choice of slope variable theta --> different predictions --> different L2"
   ]
  },
  {
   "cell_type": "code",
   "execution_count": null,
   "metadata": {},
   "outputs": [],
   "source": [
    "mean_squared_error(data[\"tip\"], data[\"total_bill\"] * 0.2)"
   ]
  },
  {
   "cell_type": "code",
   "execution_count": null,
   "metadata": {},
   "outputs": [],
   "source": [
    "def mse_given_theta(theta: float):\n",
    "    return mean_squared_error(data[\"tip\"], data[\"total_bill\"] * theta)"
   ]
  },
  {
   "cell_type": "code",
   "execution_count": null,
   "metadata": {},
   "outputs": [],
   "source": [
    "mse_given_theta(0.2)"
   ]
  },
  {
   "cell_type": "markdown",
   "metadata": {},
   "source": [
    "## Demo of Range of Objective Variable Evaluations vs. MSE"
   ]
  },
  {
   "cell_type": "code",
   "execution_count": null,
   "metadata": {},
   "outputs": [],
   "source": [
    "thetas = np.linspace(0.1, 0.2, 100)\n",
    "mses = [mse_given_theta(theta) for theta in thetas]\n",
    "# display(mses)\n",
    "fig = px.line(x=thetas, y=mses)\n",
    "fig.update_layout(xaxis_title=\"theta\", yaxis_title=\"MSE\", font_size=20)"
   ]
  },
  {
   "cell_type": "markdown",
   "metadata": {},
   "source": [
    "# 7.7 Optimize L2 with Scipy"
   ]
  },
  {
   "cell_type": "code",
   "execution_count": null,
   "metadata": {},
   "outputs": [],
   "source": [
    "import scipy.optimize"
   ]
  },
  {
   "cell_type": "code",
   "execution_count": null,
   "metadata": {},
   "outputs": [],
   "source": [
    "def g(x):\n",
    "    return x**3 + x**2 - 3 * x + 2"
   ]
  },
  {
   "cell_type": "code",
   "execution_count": null,
   "metadata": {},
   "outputs": [],
   "source": [
    "scipy.optimize.minimize(g, x0=10)"
   ]
  },
  {
   "cell_type": "code",
   "execution_count": null,
   "metadata": {},
   "outputs": [],
   "source": [
    "x = np.linspace(-3, 2, 100)\n",
    "px.line(x=x, y=g(x))"
   ]
  },
  {
   "cell_type": "code",
   "execution_count": null,
   "metadata": {},
   "outputs": [],
   "source": [
    "scipy.optimize.minimize(mse_given_theta, x0=0.2).x"
   ]
  },
  {
   "cell_type": "code",
   "execution_count": null,
   "metadata": {},
   "outputs": [],
   "source": [
    "# Minimizer can fail!\n",
    "scipy.optimize.minimize(g, x0=-3)"
   ]
  },
  {
   "cell_type": "markdown",
   "metadata": {},
   "source": [
    "# 7.8 Absolute and Huber Loss\n",
    "\n",
    "L1 loss = |y - yhat|\n",
    "\n",
    "MAE = mean absolute error = mean of L1 loss over data set\n",
    "\n",
    "Choice of loss function matters! For example if you minimize L2 you don't necessarily minimize L1, and vice versa\n",
    "\n",
    "L2 more heavily penalizes outliers than L1. Since L2 more affected by outliers, its solution also more affected by outliers, i.e. your solution is influenced more heavily by outliers"
   ]
  },
  {
   "cell_type": "code",
   "execution_count": null,
   "metadata": {},
   "outputs": [],
   "source": [
    "4.11**2"
   ]
  },
  {
   "cell_type": "markdown",
   "metadata": {},
   "source": [
    "Showing plot of MAE vs. MSE over the tips data set\n",
    "\n",
    "![alt text](./data/MAE_vs_MSE.png \"MAE vs. MSE\")\n",
    "\n",
    "Note that MAE is piecewise linear, one impact of that is that its derivative is discontinous, whereas the derivative of MSE is continous. That means MAE not as well suited to numerical methods"
   ]
  },
  {
   "cell_type": "markdown",
   "metadata": {},
   "source": [
    "## Huber Loss\n",
    "\n",
    "A third loss function mentioned is the Huber loss function.  This is notable for its resistance to extreme values and is defined as a piecewise function:\n",
    "\n",
    "\n",
    "$${\\displaystyle L_{\\delta }(y,f(x))={\\begin{cases}{\\frac {1}{2}}(y-f(x))^{2}&{\\textrm {for}}|y-f(x)|\\leq \\delta ,\\\\\\delta \\,(|y-f(x)|-{\\frac {1}{2}}\\delta ),&{\\textrm {otherwise.}}\\end{cases}}}$$\n",
    "\n"
   ]
  },
  {
   "cell_type": "markdown",
   "metadata": {},
   "source": [
    "# 7.9 Multiple Linear Regression\n",
    "\n"
   ]
  },
  {
   "cell_type": "markdown",
   "metadata": {},
   "source": [
    "## Define a 2D fitting object"
   ]
  },
  {
   "cell_type": "code",
   "execution_count": null,
   "metadata": {},
   "outputs": [],
   "source": [
    "features = data[[\"total_bill\", \"size\"]]\n",
    "tip = data[\"tip\"]\n",
    "f2 = linear_model.LinearRegression(fit_intercept=False)\n",
    "f2.fit(features, tip)"
   ]
  },
  {
   "cell_type": "markdown",
   "metadata": {},
   "source": [
    "## Look at its Coefs"
   ]
  },
  {
   "cell_type": "code",
   "execution_count": null,
   "metadata": {},
   "outputs": [],
   "source": [
    "f2.coef_"
   ]
  },
  {
   "cell_type": "markdown",
   "metadata": {},
   "source": [
    "## Make a Prediction"
   ]
  },
  {
   "cell_type": "code",
   "execution_count": null,
   "metadata": {},
   "outputs": [],
   "source": [
    "f2.predict([[10, 3]])"
   ]
  },
  {
   "cell_type": "markdown",
   "metadata": {},
   "source": [
    "## Evaluate Coefs on All Features"
   ]
  },
  {
   "cell_type": "code",
   "execution_count": null,
   "metadata": {},
   "outputs": [],
   "source": [
    "data[\"prediction_2d\"] = f2.predict(features)"
   ]
  },
  {
   "cell_type": "code",
   "execution_count": null,
   "metadata": {},
   "outputs": [],
   "source": [
    "data"
   ]
  },
  {
   "cell_type": "markdown",
   "metadata": {},
   "source": [
    "## Compare MSE of 1 and 2D Fits"
   ]
  },
  {
   "cell_type": "code",
   "execution_count": null,
   "metadata": {},
   "outputs": [],
   "source": [
    "[\n",
    "    mean_squared_error(data[\"tip\"], data[\"prediction\"]),\n",
    "    mean_squared_error(data[\"tip\"], data[\"prediction_2d\"]),\n",
    "]"
   ]
  },
  {
   "cell_type": "markdown",
   "metadata": {},
   "source": [
    "## 3d Scatter Plot"
   ]
  },
  {
   "cell_type": "code",
   "execution_count": null,
   "metadata": {},
   "outputs": [],
   "source": [
    "px.scatter_3d(data, x=\"total_bill\", y=\"size\", z=\"tip\")"
   ]
  },
  {
   "cell_type": "markdown",
   "metadata": {},
   "source": [
    "## 3d Scatter Plot with Plane from Model Fit"
   ]
  },
  {
   "cell_type": "code",
   "execution_count": null,
   "metadata": {},
   "outputs": [],
   "source": [
    "(table_bills, table_sizes) = np.meshgrid(range(50), range(6))\n",
    "predictions_mesh = f2.coef_[0] * table_bills + f2.coef_[1] * table_sizes"
   ]
  },
  {
   "cell_type": "code",
   "execution_count": null,
   "metadata": {},
   "outputs": [],
   "source": [
    "fig = go.Figure()\n",
    "fig.add_trace(\n",
    "    go.Scatter3d(\n",
    "        x=data[\"total_bill\"],\n",
    "        y=data[\"size\"],\n",
    "        z=data[\"tip\"],\n",
    "        mode=\"markers\",\n",
    "        name=\"actual\",\n",
    "    )\n",
    ")\n",
    "\n",
    "fig.add_trace(\n",
    "    go.Surface(\n",
    "        x=table_bills,\n",
    "        y=table_sizes,\n",
    "        z=predictions_mesh,\n",
    "        name=\"predicted\",\n",
    "    )\n",
    ")\n",
    "\n",
    "\n",
    "fig.show()"
   ]
  }
 ],
 "metadata": {
  "kernelspec": {
   "display_name": "Python 3",
   "language": "python",
   "name": "python3"
  },
  "language_info": {
   "codemirror_mode": {
    "name": "ipython",
    "version": 3
   },
   "file_extension": ".py",
   "mimetype": "text/x-python",
   "name": "python",
   "nbconvert_exporter": "python",
   "pygments_lexer": "ipython3",
   "version": "3.9.2"
  }
 },
 "nbformat": 4,
 "nbformat_minor": 2
}
