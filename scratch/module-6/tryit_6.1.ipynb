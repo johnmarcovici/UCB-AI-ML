{
 "cells": [
  {
   "cell_type": "markdown",
   "metadata": {},
   "source": [
    "# Summarizing data with PCA\n",
    "\n",
    "This activity is meant to explore the results of applying PCA to a dataset.  Below, a dataset from a credit card company is loaded and displayed.  This dataset contains customer data pertaining to demographic and payment information as well as basic demographics.  The final column `default payment next month` is what we want to create profiles for.  \n",
    "\n",
    "You are to use PCA and reduce the dimensionality of the data to 2 and 3 dimensions.  Then, draw scatterplots of the resulting data and color them by `default`.  Does it seem that 2 or 3 principal components will seperate the data into clear groups?  Why or why not?  You should post your visualizations and argument for whether the components offer more succinct data representations on the discussion board for this activity.  (Note: In this assignment you should use the sklearn version of `PCA`.)"
   ]
  },
  {
   "cell_type": "markdown",
   "metadata": {},
   "source": [
    "## Imports"
   ]
  },
  {
   "cell_type": "code",
   "execution_count": 280,
   "metadata": {},
   "outputs": [],
   "source": [
    "import pandas as pd\n",
    "import matplotlib.pyplot as plt\n",
    "import plotly.express as px\n",
    "import numpy as np\n",
    "from sklearn.decomposition import PCA\n",
    "from sklearn.preprocessing import StandardScaler\n",
    "\n",
    "# from scipy.linalg import svd\n",
    "# import seaborn as sns\n",
    "# from mpl_toolkits import mplot3d"
   ]
  },
  {
   "cell_type": "code",
   "execution_count": 281,
   "metadata": {},
   "outputs": [],
   "source": [
    "pd.set_option(\"display.max_columns\", None)"
   ]
  },
  {
   "cell_type": "markdown",
   "metadata": {},
   "source": [
    "## Data Load and Display"
   ]
  },
  {
   "cell_type": "markdown",
   "metadata": {},
   "source": [
    "### Load"
   ]
  },
  {
   "cell_type": "code",
   "execution_count": 282,
   "metadata": {},
   "outputs": [],
   "source": [
    "df = pd.read_csv(\"./data/credit.csv\")"
   ]
  },
  {
   "cell_type": "markdown",
   "metadata": {},
   "source": [
    "### Cleanup"
   ]
  },
  {
   "cell_type": "code",
   "execution_count": 283,
   "metadata": {},
   "outputs": [],
   "source": [
    "df = df.rename(columns={\"default.payment.next.month\": \"will_default\"}).drop(\n",
    "    columns=\"ID\"\n",
    ")"
   ]
  },
  {
   "cell_type": "markdown",
   "metadata": {},
   "source": [
    "### Display"
   ]
  },
  {
   "cell_type": "code",
   "execution_count": 284,
   "metadata": {},
   "outputs": [
    {
     "data": {
      "text/html": [
       "<div>\n",
       "<style scoped>\n",
       "    .dataframe tbody tr th:only-of-type {\n",
       "        vertical-align: middle;\n",
       "    }\n",
       "\n",
       "    .dataframe tbody tr th {\n",
       "        vertical-align: top;\n",
       "    }\n",
       "\n",
       "    .dataframe thead th {\n",
       "        text-align: right;\n",
       "    }\n",
       "</style>\n",
       "<table border=\"1\" class=\"dataframe\">\n",
       "  <thead>\n",
       "    <tr style=\"text-align: right;\">\n",
       "      <th></th>\n",
       "      <th>LIMIT_BAL</th>\n",
       "      <th>SEX</th>\n",
       "      <th>EDUCATION</th>\n",
       "      <th>MARRIAGE</th>\n",
       "      <th>AGE</th>\n",
       "      <th>PAY_0</th>\n",
       "      <th>PAY_2</th>\n",
       "      <th>PAY_3</th>\n",
       "      <th>PAY_4</th>\n",
       "      <th>PAY_5</th>\n",
       "      <th>PAY_6</th>\n",
       "      <th>BILL_AMT1</th>\n",
       "      <th>BILL_AMT2</th>\n",
       "      <th>BILL_AMT3</th>\n",
       "      <th>BILL_AMT4</th>\n",
       "      <th>BILL_AMT5</th>\n",
       "      <th>BILL_AMT6</th>\n",
       "      <th>PAY_AMT1</th>\n",
       "      <th>PAY_AMT2</th>\n",
       "      <th>PAY_AMT3</th>\n",
       "      <th>PAY_AMT4</th>\n",
       "      <th>PAY_AMT5</th>\n",
       "      <th>PAY_AMT6</th>\n",
       "      <th>will_default</th>\n",
       "    </tr>\n",
       "  </thead>\n",
       "  <tbody>\n",
       "    <tr>\n",
       "      <th>0</th>\n",
       "      <td>20000.0</td>\n",
       "      <td>2</td>\n",
       "      <td>2</td>\n",
       "      <td>1</td>\n",
       "      <td>24</td>\n",
       "      <td>2</td>\n",
       "      <td>2</td>\n",
       "      <td>-1</td>\n",
       "      <td>-1</td>\n",
       "      <td>-2</td>\n",
       "      <td>-2</td>\n",
       "      <td>3913.0</td>\n",
       "      <td>3102.0</td>\n",
       "      <td>689.0</td>\n",
       "      <td>0.0</td>\n",
       "      <td>0.0</td>\n",
       "      <td>0.0</td>\n",
       "      <td>0.0</td>\n",
       "      <td>689.0</td>\n",
       "      <td>0.0</td>\n",
       "      <td>0.0</td>\n",
       "      <td>0.0</td>\n",
       "      <td>0.0</td>\n",
       "      <td>1</td>\n",
       "    </tr>\n",
       "    <tr>\n",
       "      <th>1</th>\n",
       "      <td>120000.0</td>\n",
       "      <td>2</td>\n",
       "      <td>2</td>\n",
       "      <td>2</td>\n",
       "      <td>26</td>\n",
       "      <td>-1</td>\n",
       "      <td>2</td>\n",
       "      <td>0</td>\n",
       "      <td>0</td>\n",
       "      <td>0</td>\n",
       "      <td>2</td>\n",
       "      <td>2682.0</td>\n",
       "      <td>1725.0</td>\n",
       "      <td>2682.0</td>\n",
       "      <td>3272.0</td>\n",
       "      <td>3455.0</td>\n",
       "      <td>3261.0</td>\n",
       "      <td>0.0</td>\n",
       "      <td>1000.0</td>\n",
       "      <td>1000.0</td>\n",
       "      <td>1000.0</td>\n",
       "      <td>0.0</td>\n",
       "      <td>2000.0</td>\n",
       "      <td>1</td>\n",
       "    </tr>\n",
       "    <tr>\n",
       "      <th>2</th>\n",
       "      <td>90000.0</td>\n",
       "      <td>2</td>\n",
       "      <td>2</td>\n",
       "      <td>2</td>\n",
       "      <td>34</td>\n",
       "      <td>0</td>\n",
       "      <td>0</td>\n",
       "      <td>0</td>\n",
       "      <td>0</td>\n",
       "      <td>0</td>\n",
       "      <td>0</td>\n",
       "      <td>29239.0</td>\n",
       "      <td>14027.0</td>\n",
       "      <td>13559.0</td>\n",
       "      <td>14331.0</td>\n",
       "      <td>14948.0</td>\n",
       "      <td>15549.0</td>\n",
       "      <td>1518.0</td>\n",
       "      <td>1500.0</td>\n",
       "      <td>1000.0</td>\n",
       "      <td>1000.0</td>\n",
       "      <td>1000.0</td>\n",
       "      <td>5000.0</td>\n",
       "      <td>0</td>\n",
       "    </tr>\n",
       "    <tr>\n",
       "      <th>3</th>\n",
       "      <td>50000.0</td>\n",
       "      <td>2</td>\n",
       "      <td>2</td>\n",
       "      <td>1</td>\n",
       "      <td>37</td>\n",
       "      <td>0</td>\n",
       "      <td>0</td>\n",
       "      <td>0</td>\n",
       "      <td>0</td>\n",
       "      <td>0</td>\n",
       "      <td>0</td>\n",
       "      <td>46990.0</td>\n",
       "      <td>48233.0</td>\n",
       "      <td>49291.0</td>\n",
       "      <td>28314.0</td>\n",
       "      <td>28959.0</td>\n",
       "      <td>29547.0</td>\n",
       "      <td>2000.0</td>\n",
       "      <td>2019.0</td>\n",
       "      <td>1200.0</td>\n",
       "      <td>1100.0</td>\n",
       "      <td>1069.0</td>\n",
       "      <td>1000.0</td>\n",
       "      <td>0</td>\n",
       "    </tr>\n",
       "    <tr>\n",
       "      <th>4</th>\n",
       "      <td>50000.0</td>\n",
       "      <td>1</td>\n",
       "      <td>2</td>\n",
       "      <td>1</td>\n",
       "      <td>57</td>\n",
       "      <td>-1</td>\n",
       "      <td>0</td>\n",
       "      <td>-1</td>\n",
       "      <td>0</td>\n",
       "      <td>0</td>\n",
       "      <td>0</td>\n",
       "      <td>8617.0</td>\n",
       "      <td>5670.0</td>\n",
       "      <td>35835.0</td>\n",
       "      <td>20940.0</td>\n",
       "      <td>19146.0</td>\n",
       "      <td>19131.0</td>\n",
       "      <td>2000.0</td>\n",
       "      <td>36681.0</td>\n",
       "      <td>10000.0</td>\n",
       "      <td>9000.0</td>\n",
       "      <td>689.0</td>\n",
       "      <td>679.0</td>\n",
       "      <td>0</td>\n",
       "    </tr>\n",
       "  </tbody>\n",
       "</table>\n",
       "</div>"
      ],
      "text/plain": [
       "   LIMIT_BAL  SEX  EDUCATION  MARRIAGE  AGE  PAY_0  PAY_2  PAY_3  PAY_4  \\\n",
       "0    20000.0    2          2         1   24      2      2     -1     -1   \n",
       "1   120000.0    2          2         2   26     -1      2      0      0   \n",
       "2    90000.0    2          2         2   34      0      0      0      0   \n",
       "3    50000.0    2          2         1   37      0      0      0      0   \n",
       "4    50000.0    1          2         1   57     -1      0     -1      0   \n",
       "\n",
       "   PAY_5  PAY_6  BILL_AMT1  BILL_AMT2  BILL_AMT3  BILL_AMT4  BILL_AMT5  \\\n",
       "0     -2     -2     3913.0     3102.0      689.0        0.0        0.0   \n",
       "1      0      2     2682.0     1725.0     2682.0     3272.0     3455.0   \n",
       "2      0      0    29239.0    14027.0    13559.0    14331.0    14948.0   \n",
       "3      0      0    46990.0    48233.0    49291.0    28314.0    28959.0   \n",
       "4      0      0     8617.0     5670.0    35835.0    20940.0    19146.0   \n",
       "\n",
       "   BILL_AMT6  PAY_AMT1  PAY_AMT2  PAY_AMT3  PAY_AMT4  PAY_AMT5  PAY_AMT6  \\\n",
       "0        0.0       0.0     689.0       0.0       0.0       0.0       0.0   \n",
       "1     3261.0       0.0    1000.0    1000.0    1000.0       0.0    2000.0   \n",
       "2    15549.0    1518.0    1500.0    1000.0    1000.0    1000.0    5000.0   \n",
       "3    29547.0    2000.0    2019.0    1200.0    1100.0    1069.0    1000.0   \n",
       "4    19131.0    2000.0   36681.0   10000.0    9000.0     689.0     679.0   \n",
       "\n",
       "   will_default  \n",
       "0             1  \n",
       "1             1  \n",
       "2             0  \n",
       "3             0  \n",
       "4             0  "
      ]
     },
     "execution_count": 284,
     "metadata": {},
     "output_type": "execute_result"
    }
   ],
   "source": [
    "df.head()"
   ]
  },
  {
   "cell_type": "markdown",
   "metadata": {},
   "source": [
    "## Plotting in 3D"
   ]
  },
  {
   "cell_type": "markdown",
   "metadata": {},
   "source": [
    "### With matplotlib"
   ]
  },
  {
   "cell_type": "code",
   "execution_count": 285,
   "metadata": {},
   "outputs": [],
   "source": [
    "# plt.figure(figsize=(6, 6))\n",
    "# ax = plt.axes(projection=\"3d\")\n",
    "# ax.scatter3D(\n",
    "#     df[\"AGE\"],\n",
    "#     df[\"BILL_AMT1\"],\n",
    "#     df[\"BILL_AMT2\"],\n",
    "#     c=df[\"will_default\"],\n",
    "#     alpha=0.4,\n",
    "# )\n",
    "# ax.set_xlabel(\"AGE\", labelpad=20)\n",
    "# ax.set_ylabel(\"Bill 1 Amount\", labelpad=20)\n",
    "# ax.set_zlabel(\"Bill 2 Amount\", labelpad=20)\n",
    "# ax.view_init(10, 60)\n",
    "# plt.title(\"Age and Bill Amount Colored by Default\")\n",
    "# plt.tight_layout()"
   ]
  },
  {
   "cell_type": "markdown",
   "metadata": {},
   "source": [
    "### With plotly"
   ]
  },
  {
   "cell_type": "code",
   "execution_count": 286,
   "metadata": {},
   "outputs": [],
   "source": [
    "# px.scatter_3d(\n",
    "#     data_frame=df,\n",
    "#     x=\"AGE\",\n",
    "#     y=\"BILL_AMT1\",\n",
    "#     z=\"BILL_AMT2\",\n",
    "#     color=\"will_default\",\n",
    "# )"
   ]
  },
  {
   "cell_type": "markdown",
   "metadata": {},
   "source": [
    "## Correlation Coefficients"
   ]
  },
  {
   "cell_type": "markdown",
   "metadata": {},
   "source": [
    "### Calculate"
   ]
  },
  {
   "cell_type": "code",
   "execution_count": 287,
   "metadata": {},
   "outputs": [],
   "source": [
    "corr = df.corr()"
   ]
  },
  {
   "cell_type": "code",
   "execution_count": 288,
   "metadata": {},
   "outputs": [
    {
     "data": {
      "text/html": [
       "<div>\n",
       "<style scoped>\n",
       "    .dataframe tbody tr th:only-of-type {\n",
       "        vertical-align: middle;\n",
       "    }\n",
       "\n",
       "    .dataframe tbody tr th {\n",
       "        vertical-align: top;\n",
       "    }\n",
       "\n",
       "    .dataframe thead th {\n",
       "        text-align: right;\n",
       "    }\n",
       "</style>\n",
       "<table border=\"1\" class=\"dataframe\">\n",
       "  <thead>\n",
       "    <tr style=\"text-align: right;\">\n",
       "      <th></th>\n",
       "      <th>LIMIT_BAL</th>\n",
       "      <th>SEX</th>\n",
       "      <th>EDUCATION</th>\n",
       "      <th>MARRIAGE</th>\n",
       "      <th>AGE</th>\n",
       "      <th>PAY_0</th>\n",
       "      <th>PAY_2</th>\n",
       "      <th>PAY_3</th>\n",
       "      <th>PAY_4</th>\n",
       "      <th>PAY_5</th>\n",
       "      <th>PAY_6</th>\n",
       "      <th>BILL_AMT1</th>\n",
       "      <th>BILL_AMT2</th>\n",
       "      <th>BILL_AMT3</th>\n",
       "      <th>BILL_AMT4</th>\n",
       "      <th>BILL_AMT5</th>\n",
       "      <th>BILL_AMT6</th>\n",
       "      <th>PAY_AMT1</th>\n",
       "      <th>PAY_AMT2</th>\n",
       "      <th>PAY_AMT3</th>\n",
       "      <th>PAY_AMT4</th>\n",
       "      <th>PAY_AMT5</th>\n",
       "      <th>PAY_AMT6</th>\n",
       "      <th>will_default</th>\n",
       "    </tr>\n",
       "  </thead>\n",
       "  <tbody>\n",
       "    <tr>\n",
       "      <th>LIMIT_BAL</th>\n",
       "      <td>1.000000</td>\n",
       "      <td>0.024755</td>\n",
       "      <td>-0.219161</td>\n",
       "      <td>-0.108139</td>\n",
       "      <td>0.144713</td>\n",
       "      <td>-0.271214</td>\n",
       "      <td>-0.296382</td>\n",
       "      <td>-0.286123</td>\n",
       "      <td>-0.267460</td>\n",
       "      <td>-0.249411</td>\n",
       "      <td>-0.235195</td>\n",
       "      <td>0.285430</td>\n",
       "      <td>0.278314</td>\n",
       "      <td>0.283236</td>\n",
       "      <td>0.293988</td>\n",
       "      <td>0.295562</td>\n",
       "      <td>0.290389</td>\n",
       "      <td>0.195236</td>\n",
       "      <td>0.178408</td>\n",
       "      <td>0.210167</td>\n",
       "      <td>0.203242</td>\n",
       "      <td>0.217202</td>\n",
       "      <td>0.219595</td>\n",
       "      <td>-0.153520</td>\n",
       "    </tr>\n",
       "    <tr>\n",
       "      <th>SEX</th>\n",
       "      <td>0.024755</td>\n",
       "      <td>1.000000</td>\n",
       "      <td>0.014232</td>\n",
       "      <td>-0.031389</td>\n",
       "      <td>-0.090874</td>\n",
       "      <td>-0.057643</td>\n",
       "      <td>-0.070771</td>\n",
       "      <td>-0.066096</td>\n",
       "      <td>-0.060173</td>\n",
       "      <td>-0.055064</td>\n",
       "      <td>-0.044008</td>\n",
       "      <td>-0.033642</td>\n",
       "      <td>-0.031183</td>\n",
       "      <td>-0.024563</td>\n",
       "      <td>-0.021880</td>\n",
       "      <td>-0.017005</td>\n",
       "      <td>-0.016733</td>\n",
       "      <td>-0.000242</td>\n",
       "      <td>-0.001391</td>\n",
       "      <td>-0.008597</td>\n",
       "      <td>-0.002229</td>\n",
       "      <td>-0.001667</td>\n",
       "      <td>-0.002766</td>\n",
       "      <td>-0.039961</td>\n",
       "    </tr>\n",
       "    <tr>\n",
       "      <th>EDUCATION</th>\n",
       "      <td>-0.219161</td>\n",
       "      <td>0.014232</td>\n",
       "      <td>1.000000</td>\n",
       "      <td>-0.143464</td>\n",
       "      <td>0.175061</td>\n",
       "      <td>0.105364</td>\n",
       "      <td>0.121566</td>\n",
       "      <td>0.114025</td>\n",
       "      <td>0.108793</td>\n",
       "      <td>0.097520</td>\n",
       "      <td>0.082316</td>\n",
       "      <td>0.023581</td>\n",
       "      <td>0.018749</td>\n",
       "      <td>0.013002</td>\n",
       "      <td>-0.000451</td>\n",
       "      <td>-0.007567</td>\n",
       "      <td>-0.009099</td>\n",
       "      <td>-0.037456</td>\n",
       "      <td>-0.030038</td>\n",
       "      <td>-0.039943</td>\n",
       "      <td>-0.038218</td>\n",
       "      <td>-0.040358</td>\n",
       "      <td>-0.037200</td>\n",
       "      <td>0.028006</td>\n",
       "    </tr>\n",
       "    <tr>\n",
       "      <th>MARRIAGE</th>\n",
       "      <td>-0.108139</td>\n",
       "      <td>-0.031389</td>\n",
       "      <td>-0.143464</td>\n",
       "      <td>1.000000</td>\n",
       "      <td>-0.414170</td>\n",
       "      <td>0.019917</td>\n",
       "      <td>0.024199</td>\n",
       "      <td>0.032688</td>\n",
       "      <td>0.033122</td>\n",
       "      <td>0.035629</td>\n",
       "      <td>0.034345</td>\n",
       "      <td>-0.023472</td>\n",
       "      <td>-0.021602</td>\n",
       "      <td>-0.024909</td>\n",
       "      <td>-0.023344</td>\n",
       "      <td>-0.025393</td>\n",
       "      <td>-0.021207</td>\n",
       "      <td>-0.005979</td>\n",
       "      <td>-0.008093</td>\n",
       "      <td>-0.003541</td>\n",
       "      <td>-0.012659</td>\n",
       "      <td>-0.001205</td>\n",
       "      <td>-0.006641</td>\n",
       "      <td>-0.024339</td>\n",
       "    </tr>\n",
       "    <tr>\n",
       "      <th>AGE</th>\n",
       "      <td>0.144713</td>\n",
       "      <td>-0.090874</td>\n",
       "      <td>0.175061</td>\n",
       "      <td>-0.414170</td>\n",
       "      <td>1.000000</td>\n",
       "      <td>-0.039447</td>\n",
       "      <td>-0.050148</td>\n",
       "      <td>-0.053048</td>\n",
       "      <td>-0.049722</td>\n",
       "      <td>-0.053826</td>\n",
       "      <td>-0.048773</td>\n",
       "      <td>0.056239</td>\n",
       "      <td>0.054283</td>\n",
       "      <td>0.053710</td>\n",
       "      <td>0.051353</td>\n",
       "      <td>0.049345</td>\n",
       "      <td>0.047613</td>\n",
       "      <td>0.026147</td>\n",
       "      <td>0.021785</td>\n",
       "      <td>0.029247</td>\n",
       "      <td>0.021379</td>\n",
       "      <td>0.022850</td>\n",
       "      <td>0.019478</td>\n",
       "      <td>0.013890</td>\n",
       "    </tr>\n",
       "    <tr>\n",
       "      <th>PAY_0</th>\n",
       "      <td>-0.271214</td>\n",
       "      <td>-0.057643</td>\n",
       "      <td>0.105364</td>\n",
       "      <td>0.019917</td>\n",
       "      <td>-0.039447</td>\n",
       "      <td>1.000000</td>\n",
       "      <td>0.672164</td>\n",
       "      <td>0.574245</td>\n",
       "      <td>0.538841</td>\n",
       "      <td>0.509426</td>\n",
       "      <td>0.474553</td>\n",
       "      <td>0.187068</td>\n",
       "      <td>0.189859</td>\n",
       "      <td>0.179785</td>\n",
       "      <td>0.179125</td>\n",
       "      <td>0.180635</td>\n",
       "      <td>0.176980</td>\n",
       "      <td>-0.079269</td>\n",
       "      <td>-0.070101</td>\n",
       "      <td>-0.070561</td>\n",
       "      <td>-0.064005</td>\n",
       "      <td>-0.058190</td>\n",
       "      <td>-0.058673</td>\n",
       "      <td>0.324794</td>\n",
       "    </tr>\n",
       "    <tr>\n",
       "      <th>PAY_2</th>\n",
       "      <td>-0.296382</td>\n",
       "      <td>-0.070771</td>\n",
       "      <td>0.121566</td>\n",
       "      <td>0.024199</td>\n",
       "      <td>-0.050148</td>\n",
       "      <td>0.672164</td>\n",
       "      <td>1.000000</td>\n",
       "      <td>0.766552</td>\n",
       "      <td>0.662067</td>\n",
       "      <td>0.622780</td>\n",
       "      <td>0.575501</td>\n",
       "      <td>0.234887</td>\n",
       "      <td>0.235257</td>\n",
       "      <td>0.224146</td>\n",
       "      <td>0.222237</td>\n",
       "      <td>0.221348</td>\n",
       "      <td>0.219403</td>\n",
       "      <td>-0.080701</td>\n",
       "      <td>-0.058990</td>\n",
       "      <td>-0.055901</td>\n",
       "      <td>-0.046858</td>\n",
       "      <td>-0.037093</td>\n",
       "      <td>-0.036500</td>\n",
       "      <td>0.263551</td>\n",
       "    </tr>\n",
       "    <tr>\n",
       "      <th>PAY_3</th>\n",
       "      <td>-0.286123</td>\n",
       "      <td>-0.066096</td>\n",
       "      <td>0.114025</td>\n",
       "      <td>0.032688</td>\n",
       "      <td>-0.053048</td>\n",
       "      <td>0.574245</td>\n",
       "      <td>0.766552</td>\n",
       "      <td>1.000000</td>\n",
       "      <td>0.777359</td>\n",
       "      <td>0.686775</td>\n",
       "      <td>0.632684</td>\n",
       "      <td>0.208473</td>\n",
       "      <td>0.237295</td>\n",
       "      <td>0.227494</td>\n",
       "      <td>0.227202</td>\n",
       "      <td>0.225145</td>\n",
       "      <td>0.222327</td>\n",
       "      <td>0.001295</td>\n",
       "      <td>-0.066793</td>\n",
       "      <td>-0.053311</td>\n",
       "      <td>-0.046067</td>\n",
       "      <td>-0.035863</td>\n",
       "      <td>-0.035861</td>\n",
       "      <td>0.235253</td>\n",
       "    </tr>\n",
       "    <tr>\n",
       "      <th>PAY_4</th>\n",
       "      <td>-0.267460</td>\n",
       "      <td>-0.060173</td>\n",
       "      <td>0.108793</td>\n",
       "      <td>0.033122</td>\n",
       "      <td>-0.049722</td>\n",
       "      <td>0.538841</td>\n",
       "      <td>0.662067</td>\n",
       "      <td>0.777359</td>\n",
       "      <td>1.000000</td>\n",
       "      <td>0.819835</td>\n",
       "      <td>0.716449</td>\n",
       "      <td>0.202812</td>\n",
       "      <td>0.225816</td>\n",
       "      <td>0.244983</td>\n",
       "      <td>0.245917</td>\n",
       "      <td>0.242902</td>\n",
       "      <td>0.239154</td>\n",
       "      <td>-0.009362</td>\n",
       "      <td>-0.001944</td>\n",
       "      <td>-0.069235</td>\n",
       "      <td>-0.043461</td>\n",
       "      <td>-0.033590</td>\n",
       "      <td>-0.026565</td>\n",
       "      <td>0.216614</td>\n",
       "    </tr>\n",
       "    <tr>\n",
       "      <th>PAY_5</th>\n",
       "      <td>-0.249411</td>\n",
       "      <td>-0.055064</td>\n",
       "      <td>0.097520</td>\n",
       "      <td>0.035629</td>\n",
       "      <td>-0.053826</td>\n",
       "      <td>0.509426</td>\n",
       "      <td>0.622780</td>\n",
       "      <td>0.686775</td>\n",
       "      <td>0.819835</td>\n",
       "      <td>1.000000</td>\n",
       "      <td>0.816900</td>\n",
       "      <td>0.206684</td>\n",
       "      <td>0.226913</td>\n",
       "      <td>0.243335</td>\n",
       "      <td>0.271915</td>\n",
       "      <td>0.269783</td>\n",
       "      <td>0.262509</td>\n",
       "      <td>-0.006089</td>\n",
       "      <td>-0.003191</td>\n",
       "      <td>0.009062</td>\n",
       "      <td>-0.058299</td>\n",
       "      <td>-0.033337</td>\n",
       "      <td>-0.023027</td>\n",
       "      <td>0.204149</td>\n",
       "    </tr>\n",
       "    <tr>\n",
       "      <th>PAY_6</th>\n",
       "      <td>-0.235195</td>\n",
       "      <td>-0.044008</td>\n",
       "      <td>0.082316</td>\n",
       "      <td>0.034345</td>\n",
       "      <td>-0.048773</td>\n",
       "      <td>0.474553</td>\n",
       "      <td>0.575501</td>\n",
       "      <td>0.632684</td>\n",
       "      <td>0.716449</td>\n",
       "      <td>0.816900</td>\n",
       "      <td>1.000000</td>\n",
       "      <td>0.207373</td>\n",
       "      <td>0.226924</td>\n",
       "      <td>0.241181</td>\n",
       "      <td>0.266356</td>\n",
       "      <td>0.290894</td>\n",
       "      <td>0.285091</td>\n",
       "      <td>-0.001496</td>\n",
       "      <td>-0.005223</td>\n",
       "      <td>0.005834</td>\n",
       "      <td>0.019018</td>\n",
       "      <td>-0.046434</td>\n",
       "      <td>-0.025299</td>\n",
       "      <td>0.186866</td>\n",
       "    </tr>\n",
       "    <tr>\n",
       "      <th>BILL_AMT1</th>\n",
       "      <td>0.285430</td>\n",
       "      <td>-0.033642</td>\n",
       "      <td>0.023581</td>\n",
       "      <td>-0.023472</td>\n",
       "      <td>0.056239</td>\n",
       "      <td>0.187068</td>\n",
       "      <td>0.234887</td>\n",
       "      <td>0.208473</td>\n",
       "      <td>0.202812</td>\n",
       "      <td>0.206684</td>\n",
       "      <td>0.207373</td>\n",
       "      <td>1.000000</td>\n",
       "      <td>0.951484</td>\n",
       "      <td>0.892279</td>\n",
       "      <td>0.860272</td>\n",
       "      <td>0.829779</td>\n",
       "      <td>0.802650</td>\n",
       "      <td>0.140277</td>\n",
       "      <td>0.099355</td>\n",
       "      <td>0.156887</td>\n",
       "      <td>0.158303</td>\n",
       "      <td>0.167026</td>\n",
       "      <td>0.179341</td>\n",
       "      <td>-0.019644</td>\n",
       "    </tr>\n",
       "    <tr>\n",
       "      <th>BILL_AMT2</th>\n",
       "      <td>0.278314</td>\n",
       "      <td>-0.031183</td>\n",
       "      <td>0.018749</td>\n",
       "      <td>-0.021602</td>\n",
       "      <td>0.054283</td>\n",
       "      <td>0.189859</td>\n",
       "      <td>0.235257</td>\n",
       "      <td>0.237295</td>\n",
       "      <td>0.225816</td>\n",
       "      <td>0.226913</td>\n",
       "      <td>0.226924</td>\n",
       "      <td>0.951484</td>\n",
       "      <td>1.000000</td>\n",
       "      <td>0.928326</td>\n",
       "      <td>0.892482</td>\n",
       "      <td>0.859778</td>\n",
       "      <td>0.831594</td>\n",
       "      <td>0.280365</td>\n",
       "      <td>0.100851</td>\n",
       "      <td>0.150718</td>\n",
       "      <td>0.147398</td>\n",
       "      <td>0.157957</td>\n",
       "      <td>0.174256</td>\n",
       "      <td>-0.014193</td>\n",
       "    </tr>\n",
       "    <tr>\n",
       "      <th>BILL_AMT3</th>\n",
       "      <td>0.283236</td>\n",
       "      <td>-0.024563</td>\n",
       "      <td>0.013002</td>\n",
       "      <td>-0.024909</td>\n",
       "      <td>0.053710</td>\n",
       "      <td>0.179785</td>\n",
       "      <td>0.224146</td>\n",
       "      <td>0.227494</td>\n",
       "      <td>0.244983</td>\n",
       "      <td>0.243335</td>\n",
       "      <td>0.241181</td>\n",
       "      <td>0.892279</td>\n",
       "      <td>0.928326</td>\n",
       "      <td>1.000000</td>\n",
       "      <td>0.923969</td>\n",
       "      <td>0.883910</td>\n",
       "      <td>0.853320</td>\n",
       "      <td>0.244335</td>\n",
       "      <td>0.316936</td>\n",
       "      <td>0.130011</td>\n",
       "      <td>0.143405</td>\n",
       "      <td>0.179712</td>\n",
       "      <td>0.182326</td>\n",
       "      <td>-0.014076</td>\n",
       "    </tr>\n",
       "    <tr>\n",
       "      <th>BILL_AMT4</th>\n",
       "      <td>0.293988</td>\n",
       "      <td>-0.021880</td>\n",
       "      <td>-0.000451</td>\n",
       "      <td>-0.023344</td>\n",
       "      <td>0.051353</td>\n",
       "      <td>0.179125</td>\n",
       "      <td>0.222237</td>\n",
       "      <td>0.227202</td>\n",
       "      <td>0.245917</td>\n",
       "      <td>0.271915</td>\n",
       "      <td>0.266356</td>\n",
       "      <td>0.860272</td>\n",
       "      <td>0.892482</td>\n",
       "      <td>0.923969</td>\n",
       "      <td>1.000000</td>\n",
       "      <td>0.940134</td>\n",
       "      <td>0.900941</td>\n",
       "      <td>0.233012</td>\n",
       "      <td>0.207564</td>\n",
       "      <td>0.300023</td>\n",
       "      <td>0.130191</td>\n",
       "      <td>0.160433</td>\n",
       "      <td>0.177637</td>\n",
       "      <td>-0.010156</td>\n",
       "    </tr>\n",
       "    <tr>\n",
       "      <th>BILL_AMT5</th>\n",
       "      <td>0.295562</td>\n",
       "      <td>-0.017005</td>\n",
       "      <td>-0.007567</td>\n",
       "      <td>-0.025393</td>\n",
       "      <td>0.049345</td>\n",
       "      <td>0.180635</td>\n",
       "      <td>0.221348</td>\n",
       "      <td>0.225145</td>\n",
       "      <td>0.242902</td>\n",
       "      <td>0.269783</td>\n",
       "      <td>0.290894</td>\n",
       "      <td>0.829779</td>\n",
       "      <td>0.859778</td>\n",
       "      <td>0.883910</td>\n",
       "      <td>0.940134</td>\n",
       "      <td>1.000000</td>\n",
       "      <td>0.946197</td>\n",
       "      <td>0.217031</td>\n",
       "      <td>0.181246</td>\n",
       "      <td>0.252305</td>\n",
       "      <td>0.293118</td>\n",
       "      <td>0.141574</td>\n",
       "      <td>0.164184</td>\n",
       "      <td>-0.006760</td>\n",
       "    </tr>\n",
       "    <tr>\n",
       "      <th>BILL_AMT6</th>\n",
       "      <td>0.290389</td>\n",
       "      <td>-0.016733</td>\n",
       "      <td>-0.009099</td>\n",
       "      <td>-0.021207</td>\n",
       "      <td>0.047613</td>\n",
       "      <td>0.176980</td>\n",
       "      <td>0.219403</td>\n",
       "      <td>0.222327</td>\n",
       "      <td>0.239154</td>\n",
       "      <td>0.262509</td>\n",
       "      <td>0.285091</td>\n",
       "      <td>0.802650</td>\n",
       "      <td>0.831594</td>\n",
       "      <td>0.853320</td>\n",
       "      <td>0.900941</td>\n",
       "      <td>0.946197</td>\n",
       "      <td>1.000000</td>\n",
       "      <td>0.199965</td>\n",
       "      <td>0.172663</td>\n",
       "      <td>0.233770</td>\n",
       "      <td>0.250237</td>\n",
       "      <td>0.307729</td>\n",
       "      <td>0.115494</td>\n",
       "      <td>-0.005372</td>\n",
       "    </tr>\n",
       "    <tr>\n",
       "      <th>PAY_AMT1</th>\n",
       "      <td>0.195236</td>\n",
       "      <td>-0.000242</td>\n",
       "      <td>-0.037456</td>\n",
       "      <td>-0.005979</td>\n",
       "      <td>0.026147</td>\n",
       "      <td>-0.079269</td>\n",
       "      <td>-0.080701</td>\n",
       "      <td>0.001295</td>\n",
       "      <td>-0.009362</td>\n",
       "      <td>-0.006089</td>\n",
       "      <td>-0.001496</td>\n",
       "      <td>0.140277</td>\n",
       "      <td>0.280365</td>\n",
       "      <td>0.244335</td>\n",
       "      <td>0.233012</td>\n",
       "      <td>0.217031</td>\n",
       "      <td>0.199965</td>\n",
       "      <td>1.000000</td>\n",
       "      <td>0.285576</td>\n",
       "      <td>0.252191</td>\n",
       "      <td>0.199558</td>\n",
       "      <td>0.148459</td>\n",
       "      <td>0.185735</td>\n",
       "      <td>-0.072929</td>\n",
       "    </tr>\n",
       "    <tr>\n",
       "      <th>PAY_AMT2</th>\n",
       "      <td>0.178408</td>\n",
       "      <td>-0.001391</td>\n",
       "      <td>-0.030038</td>\n",
       "      <td>-0.008093</td>\n",
       "      <td>0.021785</td>\n",
       "      <td>-0.070101</td>\n",
       "      <td>-0.058990</td>\n",
       "      <td>-0.066793</td>\n",
       "      <td>-0.001944</td>\n",
       "      <td>-0.003191</td>\n",
       "      <td>-0.005223</td>\n",
       "      <td>0.099355</td>\n",
       "      <td>0.100851</td>\n",
       "      <td>0.316936</td>\n",
       "      <td>0.207564</td>\n",
       "      <td>0.181246</td>\n",
       "      <td>0.172663</td>\n",
       "      <td>0.285576</td>\n",
       "      <td>1.000000</td>\n",
       "      <td>0.244770</td>\n",
       "      <td>0.180107</td>\n",
       "      <td>0.180908</td>\n",
       "      <td>0.157634</td>\n",
       "      <td>-0.058579</td>\n",
       "    </tr>\n",
       "    <tr>\n",
       "      <th>PAY_AMT3</th>\n",
       "      <td>0.210167</td>\n",
       "      <td>-0.008597</td>\n",
       "      <td>-0.039943</td>\n",
       "      <td>-0.003541</td>\n",
       "      <td>0.029247</td>\n",
       "      <td>-0.070561</td>\n",
       "      <td>-0.055901</td>\n",
       "      <td>-0.053311</td>\n",
       "      <td>-0.069235</td>\n",
       "      <td>0.009062</td>\n",
       "      <td>0.005834</td>\n",
       "      <td>0.156887</td>\n",
       "      <td>0.150718</td>\n",
       "      <td>0.130011</td>\n",
       "      <td>0.300023</td>\n",
       "      <td>0.252305</td>\n",
       "      <td>0.233770</td>\n",
       "      <td>0.252191</td>\n",
       "      <td>0.244770</td>\n",
       "      <td>1.000000</td>\n",
       "      <td>0.216325</td>\n",
       "      <td>0.159214</td>\n",
       "      <td>0.162740</td>\n",
       "      <td>-0.056250</td>\n",
       "    </tr>\n",
       "    <tr>\n",
       "      <th>PAY_AMT4</th>\n",
       "      <td>0.203242</td>\n",
       "      <td>-0.002229</td>\n",
       "      <td>-0.038218</td>\n",
       "      <td>-0.012659</td>\n",
       "      <td>0.021379</td>\n",
       "      <td>-0.064005</td>\n",
       "      <td>-0.046858</td>\n",
       "      <td>-0.046067</td>\n",
       "      <td>-0.043461</td>\n",
       "      <td>-0.058299</td>\n",
       "      <td>0.019018</td>\n",
       "      <td>0.158303</td>\n",
       "      <td>0.147398</td>\n",
       "      <td>0.143405</td>\n",
       "      <td>0.130191</td>\n",
       "      <td>0.293118</td>\n",
       "      <td>0.250237</td>\n",
       "      <td>0.199558</td>\n",
       "      <td>0.180107</td>\n",
       "      <td>0.216325</td>\n",
       "      <td>1.000000</td>\n",
       "      <td>0.151830</td>\n",
       "      <td>0.157834</td>\n",
       "      <td>-0.056827</td>\n",
       "    </tr>\n",
       "    <tr>\n",
       "      <th>PAY_AMT5</th>\n",
       "      <td>0.217202</td>\n",
       "      <td>-0.001667</td>\n",
       "      <td>-0.040358</td>\n",
       "      <td>-0.001205</td>\n",
       "      <td>0.022850</td>\n",
       "      <td>-0.058190</td>\n",
       "      <td>-0.037093</td>\n",
       "      <td>-0.035863</td>\n",
       "      <td>-0.033590</td>\n",
       "      <td>-0.033337</td>\n",
       "      <td>-0.046434</td>\n",
       "      <td>0.167026</td>\n",
       "      <td>0.157957</td>\n",
       "      <td>0.179712</td>\n",
       "      <td>0.160433</td>\n",
       "      <td>0.141574</td>\n",
       "      <td>0.307729</td>\n",
       "      <td>0.148459</td>\n",
       "      <td>0.180908</td>\n",
       "      <td>0.159214</td>\n",
       "      <td>0.151830</td>\n",
       "      <td>1.000000</td>\n",
       "      <td>0.154896</td>\n",
       "      <td>-0.055124</td>\n",
       "    </tr>\n",
       "    <tr>\n",
       "      <th>PAY_AMT6</th>\n",
       "      <td>0.219595</td>\n",
       "      <td>-0.002766</td>\n",
       "      <td>-0.037200</td>\n",
       "      <td>-0.006641</td>\n",
       "      <td>0.019478</td>\n",
       "      <td>-0.058673</td>\n",
       "      <td>-0.036500</td>\n",
       "      <td>-0.035861</td>\n",
       "      <td>-0.026565</td>\n",
       "      <td>-0.023027</td>\n",
       "      <td>-0.025299</td>\n",
       "      <td>0.179341</td>\n",
       "      <td>0.174256</td>\n",
       "      <td>0.182326</td>\n",
       "      <td>0.177637</td>\n",
       "      <td>0.164184</td>\n",
       "      <td>0.115494</td>\n",
       "      <td>0.185735</td>\n",
       "      <td>0.157634</td>\n",
       "      <td>0.162740</td>\n",
       "      <td>0.157834</td>\n",
       "      <td>0.154896</td>\n",
       "      <td>1.000000</td>\n",
       "      <td>-0.053183</td>\n",
       "    </tr>\n",
       "    <tr>\n",
       "      <th>will_default</th>\n",
       "      <td>-0.153520</td>\n",
       "      <td>-0.039961</td>\n",
       "      <td>0.028006</td>\n",
       "      <td>-0.024339</td>\n",
       "      <td>0.013890</td>\n",
       "      <td>0.324794</td>\n",
       "      <td>0.263551</td>\n",
       "      <td>0.235253</td>\n",
       "      <td>0.216614</td>\n",
       "      <td>0.204149</td>\n",
       "      <td>0.186866</td>\n",
       "      <td>-0.019644</td>\n",
       "      <td>-0.014193</td>\n",
       "      <td>-0.014076</td>\n",
       "      <td>-0.010156</td>\n",
       "      <td>-0.006760</td>\n",
       "      <td>-0.005372</td>\n",
       "      <td>-0.072929</td>\n",
       "      <td>-0.058579</td>\n",
       "      <td>-0.056250</td>\n",
       "      <td>-0.056827</td>\n",
       "      <td>-0.055124</td>\n",
       "      <td>-0.053183</td>\n",
       "      <td>1.000000</td>\n",
       "    </tr>\n",
       "  </tbody>\n",
       "</table>\n",
       "</div>"
      ],
      "text/plain": [
       "              LIMIT_BAL       SEX  EDUCATION  MARRIAGE       AGE     PAY_0  \\\n",
       "LIMIT_BAL      1.000000  0.024755  -0.219161 -0.108139  0.144713 -0.271214   \n",
       "SEX            0.024755  1.000000   0.014232 -0.031389 -0.090874 -0.057643   \n",
       "EDUCATION     -0.219161  0.014232   1.000000 -0.143464  0.175061  0.105364   \n",
       "MARRIAGE      -0.108139 -0.031389  -0.143464  1.000000 -0.414170  0.019917   \n",
       "AGE            0.144713 -0.090874   0.175061 -0.414170  1.000000 -0.039447   \n",
       "PAY_0         -0.271214 -0.057643   0.105364  0.019917 -0.039447  1.000000   \n",
       "PAY_2         -0.296382 -0.070771   0.121566  0.024199 -0.050148  0.672164   \n",
       "PAY_3         -0.286123 -0.066096   0.114025  0.032688 -0.053048  0.574245   \n",
       "PAY_4         -0.267460 -0.060173   0.108793  0.033122 -0.049722  0.538841   \n",
       "PAY_5         -0.249411 -0.055064   0.097520  0.035629 -0.053826  0.509426   \n",
       "PAY_6         -0.235195 -0.044008   0.082316  0.034345 -0.048773  0.474553   \n",
       "BILL_AMT1      0.285430 -0.033642   0.023581 -0.023472  0.056239  0.187068   \n",
       "BILL_AMT2      0.278314 -0.031183   0.018749 -0.021602  0.054283  0.189859   \n",
       "BILL_AMT3      0.283236 -0.024563   0.013002 -0.024909  0.053710  0.179785   \n",
       "BILL_AMT4      0.293988 -0.021880  -0.000451 -0.023344  0.051353  0.179125   \n",
       "BILL_AMT5      0.295562 -0.017005  -0.007567 -0.025393  0.049345  0.180635   \n",
       "BILL_AMT6      0.290389 -0.016733  -0.009099 -0.021207  0.047613  0.176980   \n",
       "PAY_AMT1       0.195236 -0.000242  -0.037456 -0.005979  0.026147 -0.079269   \n",
       "PAY_AMT2       0.178408 -0.001391  -0.030038 -0.008093  0.021785 -0.070101   \n",
       "PAY_AMT3       0.210167 -0.008597  -0.039943 -0.003541  0.029247 -0.070561   \n",
       "PAY_AMT4       0.203242 -0.002229  -0.038218 -0.012659  0.021379 -0.064005   \n",
       "PAY_AMT5       0.217202 -0.001667  -0.040358 -0.001205  0.022850 -0.058190   \n",
       "PAY_AMT6       0.219595 -0.002766  -0.037200 -0.006641  0.019478 -0.058673   \n",
       "will_default  -0.153520 -0.039961   0.028006 -0.024339  0.013890  0.324794   \n",
       "\n",
       "                 PAY_2     PAY_3     PAY_4     PAY_5     PAY_6  BILL_AMT1  \\\n",
       "LIMIT_BAL    -0.296382 -0.286123 -0.267460 -0.249411 -0.235195   0.285430   \n",
       "SEX          -0.070771 -0.066096 -0.060173 -0.055064 -0.044008  -0.033642   \n",
       "EDUCATION     0.121566  0.114025  0.108793  0.097520  0.082316   0.023581   \n",
       "MARRIAGE      0.024199  0.032688  0.033122  0.035629  0.034345  -0.023472   \n",
       "AGE          -0.050148 -0.053048 -0.049722 -0.053826 -0.048773   0.056239   \n",
       "PAY_0         0.672164  0.574245  0.538841  0.509426  0.474553   0.187068   \n",
       "PAY_2         1.000000  0.766552  0.662067  0.622780  0.575501   0.234887   \n",
       "PAY_3         0.766552  1.000000  0.777359  0.686775  0.632684   0.208473   \n",
       "PAY_4         0.662067  0.777359  1.000000  0.819835  0.716449   0.202812   \n",
       "PAY_5         0.622780  0.686775  0.819835  1.000000  0.816900   0.206684   \n",
       "PAY_6         0.575501  0.632684  0.716449  0.816900  1.000000   0.207373   \n",
       "BILL_AMT1     0.234887  0.208473  0.202812  0.206684  0.207373   1.000000   \n",
       "BILL_AMT2     0.235257  0.237295  0.225816  0.226913  0.226924   0.951484   \n",
       "BILL_AMT3     0.224146  0.227494  0.244983  0.243335  0.241181   0.892279   \n",
       "BILL_AMT4     0.222237  0.227202  0.245917  0.271915  0.266356   0.860272   \n",
       "BILL_AMT5     0.221348  0.225145  0.242902  0.269783  0.290894   0.829779   \n",
       "BILL_AMT6     0.219403  0.222327  0.239154  0.262509  0.285091   0.802650   \n",
       "PAY_AMT1     -0.080701  0.001295 -0.009362 -0.006089 -0.001496   0.140277   \n",
       "PAY_AMT2     -0.058990 -0.066793 -0.001944 -0.003191 -0.005223   0.099355   \n",
       "PAY_AMT3     -0.055901 -0.053311 -0.069235  0.009062  0.005834   0.156887   \n",
       "PAY_AMT4     -0.046858 -0.046067 -0.043461 -0.058299  0.019018   0.158303   \n",
       "PAY_AMT5     -0.037093 -0.035863 -0.033590 -0.033337 -0.046434   0.167026   \n",
       "PAY_AMT6     -0.036500 -0.035861 -0.026565 -0.023027 -0.025299   0.179341   \n",
       "will_default  0.263551  0.235253  0.216614  0.204149  0.186866  -0.019644   \n",
       "\n",
       "              BILL_AMT2  BILL_AMT3  BILL_AMT4  BILL_AMT5  BILL_AMT6  PAY_AMT1  \\\n",
       "LIMIT_BAL      0.278314   0.283236   0.293988   0.295562   0.290389  0.195236   \n",
       "SEX           -0.031183  -0.024563  -0.021880  -0.017005  -0.016733 -0.000242   \n",
       "EDUCATION      0.018749   0.013002  -0.000451  -0.007567  -0.009099 -0.037456   \n",
       "MARRIAGE      -0.021602  -0.024909  -0.023344  -0.025393  -0.021207 -0.005979   \n",
       "AGE            0.054283   0.053710   0.051353   0.049345   0.047613  0.026147   \n",
       "PAY_0          0.189859   0.179785   0.179125   0.180635   0.176980 -0.079269   \n",
       "PAY_2          0.235257   0.224146   0.222237   0.221348   0.219403 -0.080701   \n",
       "PAY_3          0.237295   0.227494   0.227202   0.225145   0.222327  0.001295   \n",
       "PAY_4          0.225816   0.244983   0.245917   0.242902   0.239154 -0.009362   \n",
       "PAY_5          0.226913   0.243335   0.271915   0.269783   0.262509 -0.006089   \n",
       "PAY_6          0.226924   0.241181   0.266356   0.290894   0.285091 -0.001496   \n",
       "BILL_AMT1      0.951484   0.892279   0.860272   0.829779   0.802650  0.140277   \n",
       "BILL_AMT2      1.000000   0.928326   0.892482   0.859778   0.831594  0.280365   \n",
       "BILL_AMT3      0.928326   1.000000   0.923969   0.883910   0.853320  0.244335   \n",
       "BILL_AMT4      0.892482   0.923969   1.000000   0.940134   0.900941  0.233012   \n",
       "BILL_AMT5      0.859778   0.883910   0.940134   1.000000   0.946197  0.217031   \n",
       "BILL_AMT6      0.831594   0.853320   0.900941   0.946197   1.000000  0.199965   \n",
       "PAY_AMT1       0.280365   0.244335   0.233012   0.217031   0.199965  1.000000   \n",
       "PAY_AMT2       0.100851   0.316936   0.207564   0.181246   0.172663  0.285576   \n",
       "PAY_AMT3       0.150718   0.130011   0.300023   0.252305   0.233770  0.252191   \n",
       "PAY_AMT4       0.147398   0.143405   0.130191   0.293118   0.250237  0.199558   \n",
       "PAY_AMT5       0.157957   0.179712   0.160433   0.141574   0.307729  0.148459   \n",
       "PAY_AMT6       0.174256   0.182326   0.177637   0.164184   0.115494  0.185735   \n",
       "will_default  -0.014193  -0.014076  -0.010156  -0.006760  -0.005372 -0.072929   \n",
       "\n",
       "              PAY_AMT2  PAY_AMT3  PAY_AMT4  PAY_AMT5  PAY_AMT6  will_default  \n",
       "LIMIT_BAL     0.178408  0.210167  0.203242  0.217202  0.219595     -0.153520  \n",
       "SEX          -0.001391 -0.008597 -0.002229 -0.001667 -0.002766     -0.039961  \n",
       "EDUCATION    -0.030038 -0.039943 -0.038218 -0.040358 -0.037200      0.028006  \n",
       "MARRIAGE     -0.008093 -0.003541 -0.012659 -0.001205 -0.006641     -0.024339  \n",
       "AGE           0.021785  0.029247  0.021379  0.022850  0.019478      0.013890  \n",
       "PAY_0        -0.070101 -0.070561 -0.064005 -0.058190 -0.058673      0.324794  \n",
       "PAY_2        -0.058990 -0.055901 -0.046858 -0.037093 -0.036500      0.263551  \n",
       "PAY_3        -0.066793 -0.053311 -0.046067 -0.035863 -0.035861      0.235253  \n",
       "PAY_4        -0.001944 -0.069235 -0.043461 -0.033590 -0.026565      0.216614  \n",
       "PAY_5        -0.003191  0.009062 -0.058299 -0.033337 -0.023027      0.204149  \n",
       "PAY_6        -0.005223  0.005834  0.019018 -0.046434 -0.025299      0.186866  \n",
       "BILL_AMT1     0.099355  0.156887  0.158303  0.167026  0.179341     -0.019644  \n",
       "BILL_AMT2     0.100851  0.150718  0.147398  0.157957  0.174256     -0.014193  \n",
       "BILL_AMT3     0.316936  0.130011  0.143405  0.179712  0.182326     -0.014076  \n",
       "BILL_AMT4     0.207564  0.300023  0.130191  0.160433  0.177637     -0.010156  \n",
       "BILL_AMT5     0.181246  0.252305  0.293118  0.141574  0.164184     -0.006760  \n",
       "BILL_AMT6     0.172663  0.233770  0.250237  0.307729  0.115494     -0.005372  \n",
       "PAY_AMT1      0.285576  0.252191  0.199558  0.148459  0.185735     -0.072929  \n",
       "PAY_AMT2      1.000000  0.244770  0.180107  0.180908  0.157634     -0.058579  \n",
       "PAY_AMT3      0.244770  1.000000  0.216325  0.159214  0.162740     -0.056250  \n",
       "PAY_AMT4      0.180107  0.216325  1.000000  0.151830  0.157834     -0.056827  \n",
       "PAY_AMT5      0.180908  0.159214  0.151830  1.000000  0.154896     -0.055124  \n",
       "PAY_AMT6      0.157634  0.162740  0.157834  0.154896  1.000000     -0.053183  \n",
       "will_default -0.058579 -0.056250 -0.056827 -0.055124 -0.053183      1.000000  "
      ]
     },
     "metadata": {},
     "output_type": "display_data"
    }
   ],
   "source": [
    "display(corr)"
   ]
  },
  {
   "cell_type": "markdown",
   "metadata": {},
   "source": [
    "### As Heatmap"
   ]
  },
  {
   "cell_type": "code",
   "execution_count": 289,
   "metadata": {},
   "outputs": [
    {
     "data": {
      "application/vnd.plotly.v1+json": {
       "config": {
        "plotlyServerURL": "https://plot.ly"
       },
       "data": [
        {
         "coloraxis": "coloraxis",
         "hovertemplate": "x: %{x}<br>y: %{y}<br>color: %{z}<extra></extra>",
         "name": "0",
         "type": "heatmap",
         "x": [
          "LIMIT_BAL",
          "SEX",
          "EDUCATION",
          "MARRIAGE",
          "AGE",
          "PAY_0",
          "PAY_2",
          "PAY_3",
          "PAY_4",
          "PAY_5",
          "PAY_6",
          "BILL_AMT1",
          "BILL_AMT2",
          "BILL_AMT3",
          "BILL_AMT4",
          "BILL_AMT5",
          "BILL_AMT6",
          "PAY_AMT1",
          "PAY_AMT2",
          "PAY_AMT3",
          "PAY_AMT4",
          "PAY_AMT5",
          "PAY_AMT6",
          "will_default"
         ],
         "xaxis": "x",
         "y": [
          "LIMIT_BAL",
          "SEX",
          "EDUCATION",
          "MARRIAGE",
          "AGE",
          "PAY_0",
          "PAY_2",
          "PAY_3",
          "PAY_4",
          "PAY_5",
          "PAY_6",
          "BILL_AMT1",
          "BILL_AMT2",
          "BILL_AMT3",
          "BILL_AMT4",
          "BILL_AMT5",
          "BILL_AMT6",
          "PAY_AMT1",
          "PAY_AMT2",
          "PAY_AMT3",
          "PAY_AMT4",
          "PAY_AMT5",
          "PAY_AMT6",
          "will_default"
         ],
         "yaxis": "y",
         "z": [
          [
           1,
           0.02475523511164408,
           -0.2191606982292116,
           -0.10813941027801287,
           0.14471279755733674,
           -0.2712143321347179,
           -0.29638210099648243,
           -0.2861229539031144,
           -0.267460009639393,
           -0.2494113948241093,
           -0.23519539948542492,
           0.28542986496498995,
           0.27831436399776105,
           0.28323578358168416,
           0.29398762371598486,
           0.29556233765823164,
           0.29038895064794745,
           0.1952359152322094,
           0.17840795368370507,
           0.21016674772338803,
           0.20324241022458292,
           0.21720243239549614,
           0.21959536860441753,
           -0.1535198763935072
          ],
          [
           0.02475523511164408,
           1,
           0.014231936162206107,
           -0.03138884007085218,
           -0.0908736465273919,
           -0.05764287886698678,
           -0.07077100316682232,
           -0.06609605640043047,
           -0.060173238366203696,
           -0.055063885035226384,
           -0.044007788187657874,
           -0.03364186958914916,
           -0.031183472229667317,
           -0.024563311681403167,
           -0.02187967907348509,
           -0.017005180187325976,
           -0.016733126348159072,
           -0.00024245456294142142,
           -0.0013909096590868529,
           -0.008596624911743908,
           -0.0022289715070058893,
           -0.001667161800474087,
           -0.002766022282891727,
           -0.03996057770544172
          ],
          [
           -0.2191606982292116,
           0.014231936162206107,
           1,
           -0.14346434041144784,
           0.1750606614880855,
           0.10536399793532485,
           0.12156555247067018,
           0.1140249028571366,
           0.10879345615278765,
           0.09752016063019563,
           0.08231598637746822,
           0.023581180737114394,
           0.01874877080832243,
           0.013002400711998924,
           -0.0004513453087491106,
           -0.007566503046841711,
           -0.009098954697455372,
           -0.03745618391311648,
           -0.030038186562838978,
           -0.039943140867107346,
           -0.03821816611134147,
           -0.040358454928196924,
           -0.03719990308916937,
           0.028006077656250204
          ],
          [
           -0.10813941027801287,
           -0.03138884007085218,
           -0.14346434041144784,
           1,
           -0.41416991848813445,
           0.019917190483426727,
           0.02419906728119339,
           0.03268767333723676,
           0.03312154891405528,
           0.03562917036655554,
           0.034344765997445445,
           -0.02347180191012958,
           -0.021601779859030307,
           -0.024909451022500993,
           -0.023343846915375947,
           -0.02539339799127468,
           -0.02120682480007915,
           -0.005978999780835323,
           -0.008092702837779889,
           -0.0035413519467573816,
           -0.01265927889271911,
           -0.0012047569155652466,
           -0.006640941925653474,
           -0.024339215683404438
          ],
          [
           0.14471279755733674,
           -0.0908736465273919,
           0.1750606614880855,
           -0.41416991848813445,
           1,
           -0.03944737618411981,
           -0.05014777620685522,
           -0.05304843725816334,
           -0.049721673995377226,
           -0.05382597641308578,
           -0.04877342642832421,
           0.05623853326056659,
           0.05428307435034244,
           0.053709705178660236,
           0.051353093243321435,
           0.04934504811261178,
           0.047612677990511255,
           0.026146679056989194,
           0.021784893392614194,
           0.029247353045011425,
           0.021379005615589863,
           0.02284997355855876,
           0.0194781529698698,
           0.013889834301962887
          ],
          [
           -0.2712143321347179,
           -0.05764287886698678,
           0.10536399793532485,
           0.019917190483426727,
           -0.03944737618411981,
           1,
           0.6721643825483142,
           0.5742450926204379,
           0.5388406268712334,
           0.5094260636654446,
           0.4745530860641517,
           0.18706843147380112,
           0.18985910889354435,
           0.17978528216681916,
           0.1791247706258787,
           0.18063462540120856,
           0.1769802956414379,
           -0.0792687111854195,
           -0.0701005211939387,
           -0.07056083767035479,
           -0.06400488888773119,
           -0.058189885949777295,
           -0.058673214376070426,
           0.32479372847862237
          ],
          [
           -0.29638210099648243,
           -0.07077100316682232,
           0.12156555247067018,
           0.02419906728119339,
           -0.05014777620685522,
           0.6721643825483142,
           1,
           0.7665516829341017,
           0.6620671310239591,
           0.6227802453768703,
           0.5755008617793054,
           0.23488652660358378,
           0.23525694274352654,
           0.22414585503162604,
           0.22223651161283825,
           0.22134837303342783,
           0.2194033512866795,
           -0.08070070981016696,
           -0.05898999903461283,
           -0.055901231300968315,
           -0.04685841151354558,
           -0.037093079770128594,
           -0.03650037552721859,
           0.2635512016721678
          ],
          [
           -0.2861229539031144,
           -0.06609605640043047,
           0.1140249028571366,
           0.03268767333723676,
           -0.05304843725816334,
           0.5742450926204379,
           0.7665516829341017,
           1,
           0.7773588733012726,
           0.6867745109947853,
           0.6326835927184455,
           0.20847288868976013,
           0.23729453440292753,
           0.2274943266955615,
           0.22720228070078952,
           0.22514519307202235,
           0.2223267374363066,
           0.0012948143319480216,
           -0.06679339566551329,
           -0.05331077958610196,
           -0.04606653388796151,
           -0.03586307056136118,
           -0.035861083718773175,
           0.23525251372491712
          ],
          [
           -0.267460009639393,
           -0.060173238366203696,
           0.10879345615278765,
           0.03312154891405528,
           -0.049721673995377226,
           0.5388406268712334,
           0.6620671310239591,
           0.7773588733012726,
           1,
           0.8198353114868158,
           0.7164494815807845,
           0.20281206938744922,
           0.2258163160680882,
           0.24498313796206864,
           0.2459172041984382,
           0.24290205842488452,
           0.2391541296058393,
           -0.009362135754402232,
           -0.001943656607903994,
           -0.0692352035676869,
           -0.04346142965539442,
           -0.033589534748121486,
           -0.026565087967650867,
           0.21661363684242388
          ],
          [
           -0.2494113948241093,
           -0.055063885035226384,
           0.09752016063019563,
           0.03562917036655554,
           -0.05382597641308578,
           0.5094260636654446,
           0.6227802453768703,
           0.6867745109947853,
           0.8198353114868158,
           1,
           0.8169001604176753,
           0.2066839642440959,
           0.22691326699152847,
           0.24333468092023638,
           0.271915006998107,
           0.2697830901511351,
           0.26250925166841726,
           -0.006088757138842231,
           -0.003191332307052815,
           0.009062362681555539,
           -0.05829886530946838,
           -0.03333650421280087,
           -0.023027450987595774,
           0.2041489138761645
          ],
          [
           -0.23519539948542492,
           -0.044007788187657874,
           0.08231598637746822,
           0.034344765997445445,
           -0.04877342642832421,
           0.4745530860641517,
           0.5755008617793054,
           0.6326835927184455,
           0.7164494815807845,
           0.8169001604176753,
           1,
           0.20737313129566123,
           0.22692443093066755,
           0.24118114604232158,
           0.2663560690339078,
           0.29089374494860704,
           0.28509099069256866,
           -0.0014962890433180716,
           -0.005223268144054586,
           0.005833774192896976,
           0.019017863282441618,
           -0.04643364107299659,
           -0.025299338462285336,
           0.18686636165354611
          ],
          [
           0.28542986496498995,
           -0.03364186958914916,
           0.023581180737114394,
           -0.02347180191012958,
           0.05623853326056659,
           0.18706843147380112,
           0.23488652660358378,
           0.20847288868976013,
           0.20281206938744922,
           0.2066839642440959,
           0.20737313129566123,
           1,
           0.9514836727518136,
           0.8922785291271761,
           0.8602721890293095,
           0.8297786058330013,
           0.8026501885528455,
           0.14027727757532418,
           0.0993550349727683,
           0.15688713847568506,
           0.15830253328354005,
           0.16702571208291594,
           0.17934112200688435,
           -0.019644197143221562
          ],
          [
           0.27831436399776105,
           -0.031183472229667317,
           0.01874877080832243,
           -0.021601779859030307,
           0.05428307435034244,
           0.18985910889354435,
           0.23525694274352654,
           0.23729453440292753,
           0.2258163160680882,
           0.22691326699152847,
           0.22692443093066755,
           0.9514836727518136,
           1,
           0.9283262592714855,
           0.8924822912577209,
           0.859778307271445,
           0.8315935591018213,
           0.28036535701409987,
           0.10085087751752875,
           0.1507181937016751,
           0.14739810422001154,
           0.1579574116239642,
           0.17425616563434326,
           -0.014193218088215756
          ],
          [
           0.28323578358168416,
           -0.024563311681403167,
           0.013002400711998924,
           -0.024909451022500993,
           0.053709705178660236,
           0.17978528216681916,
           0.22414585503162604,
           0.2274943266955615,
           0.24498313796206864,
           0.24333468092023638,
           0.24118114604232158,
           0.8922785291271761,
           0.9283262592714855,
           1,
           0.9239694565909823,
           0.8839096973620155,
           0.8533200905940468,
           0.24433523760815992,
           0.3169359771796906,
           0.1300111816244208,
           0.14340460499244426,
           0.17971235040649314,
           0.18232596615205338,
           -0.014075518043214726
          ],
          [
           0.29398762371598486,
           -0.02187967907348509,
           -0.0004513453087491106,
           -0.023343846915375947,
           0.051353093243321435,
           0.1791247706258787,
           0.22223651161283825,
           0.22720228070078952,
           0.2459172041984382,
           0.271915006998107,
           0.2663560690339078,
           0.8602721890293095,
           0.8924822912577209,
           0.9239694565909823,
           1,
           0.9401344040880004,
           0.9009409547978421,
           0.23301185215343712,
           0.20756372904207548,
           0.3000225291116479,
           0.13019140778780797,
           0.16043303762900443,
           0.1776369941867446,
           -0.010156495880289674
          ],
          [
           0.29556233765823164,
           -0.017005180187325976,
           -0.007566503046841711,
           -0.02539339799127468,
           0.04934504811261178,
           0.18063462540120856,
           0.22134837303342783,
           0.22514519307202235,
           0.24290205842488452,
           0.2697830901511351,
           0.29089374494860704,
           0.8297786058330013,
           0.859778307271445,
           0.8839096973620155,
           0.9401344040880004,
           1,
           0.9461968070521957,
           0.2170308237780502,
           0.1812464910522769,
           0.25230486173062916,
           0.2931184631844312,
           0.1415741799596068,
           0.16418445035361773,
           -0.006760463841014779
          ],
          [
           0.29038895064794745,
           -0.016733126348159072,
           -0.009098954697455372,
           -0.02120682480007915,
           0.047612677990511255,
           0.1769802956414379,
           0.2194033512866795,
           0.2223267374363066,
           0.2391541296058393,
           0.26250925166841726,
           0.28509099069256866,
           0.8026501885528455,
           0.8315935591018213,
           0.8533200905940468,
           0.9009409547978421,
           0.9461968070521957,
           1,
           0.199965006163385,
           0.1726629374180296,
           0.23376979332693368,
           0.2502368249334362,
           0.3077288895011546,
           0.11549416685164447,
           -0.005372314914815558
          ],
          [
           0.1952359152322094,
           -0.00024245456294142142,
           -0.03745618391311648,
           -0.005978999780835323,
           0.026146679056989194,
           -0.0792687111854195,
           -0.08070070981016696,
           0.0012948143319480216,
           -0.009362135754402232,
           -0.006088757138842231,
           -0.0014962890433180716,
           0.14027727757532418,
           0.28036535701409987,
           0.24433523760815992,
           0.23301185215343712,
           0.2170308237780502,
           0.199965006163385,
           1,
           0.2855755286868426,
           0.2521911389524029,
           0.1995579311706798,
           0.14845927501534273,
           0.1857352554457264,
           -0.07292948777785163
          ],
          [
           0.17840795368370507,
           -0.0013909096590868529,
           -0.030038186562838978,
           -0.008092702837779889,
           0.021784893392614194,
           -0.0701005211939387,
           -0.05898999903461283,
           -0.06679339566551329,
           -0.001943656607903994,
           -0.003191332307052815,
           -0.005223268144054586,
           0.0993550349727683,
           0.10085087751752875,
           0.3169359771796906,
           0.20756372904207548,
           0.1812464910522769,
           0.1726629374180296,
           0.2855755286868426,
           1,
           0.24477045029284544,
           0.1801067436456232,
           0.18090775259417008,
           0.1576339162723367,
           -0.058578706582901575
          ],
          [
           0.21016674772338803,
           -0.008596624911743908,
           -0.039943140867107346,
           -0.0035413519467573816,
           0.029247353045011425,
           -0.07056083767035479,
           -0.055901231300968315,
           -0.05331077958610196,
           -0.0692352035676869,
           0.009062362681555539,
           0.005833774192896976,
           0.15688713847568506,
           0.1507181937016751,
           0.1300111816244208,
           0.3000225291116479,
           0.25230486173062916,
           0.23376979332693368,
           0.2521911389524029,
           0.24477045029284544,
           1,
           0.21632509170084377,
           0.1592137203087127,
           0.16274003329183245,
           -0.056250350990331634
          ],
          [
           0.20324241022458292,
           -0.0022289715070058893,
           -0.03821816611134147,
           -0.01265927889271911,
           0.021379005615589863,
           -0.06400488888773119,
           -0.04685841151354558,
           -0.04606653388796151,
           -0.04346142965539442,
           -0.05829886530946838,
           0.019017863282441618,
           0.15830253328354005,
           0.14739810422001154,
           0.14340460499244426,
           0.13019140778780797,
           0.2931184631844312,
           0.2502368249334362,
           0.1995579311706798,
           0.1801067436456232,
           0.21632509170084377,
           1,
           0.15183043582617883,
           0.15783391560137267,
           -0.05682740089288691
          ],
          [
           0.21720243239549614,
           -0.001667161800474087,
           -0.040358454928196924,
           -0.0012047569155652466,
           0.02284997355855876,
           -0.058189885949777295,
           -0.037093079770128594,
           -0.03586307056136118,
           -0.033589534748121486,
           -0.03333650421280087,
           -0.04643364107299659,
           0.16702571208291594,
           0.1579574116239642,
           0.17971235040649314,
           0.16043303762900443,
           0.1415741799596068,
           0.3077288895011546,
           0.14845927501534273,
           0.18090775259417008,
           0.1592137203087127,
           0.15183043582617883,
           1,
           0.15489552525961545,
           -0.05512351562108876
          ],
          [
           0.21959536860441753,
           -0.002766022282891727,
           -0.03719990308916937,
           -0.006640941925653474,
           0.0194781529698698,
           -0.058673214376070426,
           -0.03650037552721859,
           -0.035861083718773175,
           -0.026565087967650867,
           -0.023027450987595774,
           -0.025299338462285336,
           0.17934112200688435,
           0.17425616563434326,
           0.18232596615205338,
           0.1776369941867446,
           0.16418445035361773,
           0.11549416685164447,
           0.1857352554457264,
           0.1576339162723367,
           0.16274003329183245,
           0.15783391560137267,
           0.15489552525961545,
           1,
           -0.05318334032612796
          ],
          [
           -0.1535198763935072,
           -0.03996057770544172,
           0.028006077656250204,
           -0.024339215683404438,
           0.013889834301962887,
           0.32479372847862237,
           0.2635512016721678,
           0.23525251372491712,
           0.21661363684242388,
           0.2041489138761645,
           0.18686636165354611,
           -0.019644197143221562,
           -0.014193218088215756,
           -0.014075518043214726,
           -0.010156495880289674,
           -0.006760463841014779,
           -0.005372314914815558,
           -0.07292948777785163,
           -0.058578706582901575,
           -0.056250350990331634,
           -0.05682740089288691,
           -0.05512351562108876,
           -0.05318334032612796,
           1
          ]
         ]
        }
       ],
       "layout": {
        "coloraxis": {
         "colorscale": [
          [
           0,
           "#0d0887"
          ],
          [
           0.1111111111111111,
           "#46039f"
          ],
          [
           0.2222222222222222,
           "#7201a8"
          ],
          [
           0.3333333333333333,
           "#9c179e"
          ],
          [
           0.4444444444444444,
           "#bd3786"
          ],
          [
           0.5555555555555556,
           "#d8576b"
          ],
          [
           0.6666666666666666,
           "#ed7953"
          ],
          [
           0.7777777777777778,
           "#fb9f3a"
          ],
          [
           0.8888888888888888,
           "#fdca26"
          ],
          [
           1,
           "#f0f921"
          ]
         ]
        },
        "height": 700,
        "template": {
         "data": {
          "bar": [
           {
            "error_x": {
             "color": "#2a3f5f"
            },
            "error_y": {
             "color": "#2a3f5f"
            },
            "marker": {
             "line": {
              "color": "#E5ECF6",
              "width": 0.5
             },
             "pattern": {
              "fillmode": "overlay",
              "size": 10,
              "solidity": 0.2
             }
            },
            "type": "bar"
           }
          ],
          "barpolar": [
           {
            "marker": {
             "line": {
              "color": "#E5ECF6",
              "width": 0.5
             },
             "pattern": {
              "fillmode": "overlay",
              "size": 10,
              "solidity": 0.2
             }
            },
            "type": "barpolar"
           }
          ],
          "carpet": [
           {
            "aaxis": {
             "endlinecolor": "#2a3f5f",
             "gridcolor": "white",
             "linecolor": "white",
             "minorgridcolor": "white",
             "startlinecolor": "#2a3f5f"
            },
            "baxis": {
             "endlinecolor": "#2a3f5f",
             "gridcolor": "white",
             "linecolor": "white",
             "minorgridcolor": "white",
             "startlinecolor": "#2a3f5f"
            },
            "type": "carpet"
           }
          ],
          "choropleth": [
           {
            "colorbar": {
             "outlinewidth": 0,
             "ticks": ""
            },
            "type": "choropleth"
           }
          ],
          "contour": [
           {
            "colorbar": {
             "outlinewidth": 0,
             "ticks": ""
            },
            "colorscale": [
             [
              0,
              "#0d0887"
             ],
             [
              0.1111111111111111,
              "#46039f"
             ],
             [
              0.2222222222222222,
              "#7201a8"
             ],
             [
              0.3333333333333333,
              "#9c179e"
             ],
             [
              0.4444444444444444,
              "#bd3786"
             ],
             [
              0.5555555555555556,
              "#d8576b"
             ],
             [
              0.6666666666666666,
              "#ed7953"
             ],
             [
              0.7777777777777778,
              "#fb9f3a"
             ],
             [
              0.8888888888888888,
              "#fdca26"
             ],
             [
              1,
              "#f0f921"
             ]
            ],
            "type": "contour"
           }
          ],
          "contourcarpet": [
           {
            "colorbar": {
             "outlinewidth": 0,
             "ticks": ""
            },
            "type": "contourcarpet"
           }
          ],
          "heatmap": [
           {
            "colorbar": {
             "outlinewidth": 0,
             "ticks": ""
            },
            "colorscale": [
             [
              0,
              "#0d0887"
             ],
             [
              0.1111111111111111,
              "#46039f"
             ],
             [
              0.2222222222222222,
              "#7201a8"
             ],
             [
              0.3333333333333333,
              "#9c179e"
             ],
             [
              0.4444444444444444,
              "#bd3786"
             ],
             [
              0.5555555555555556,
              "#d8576b"
             ],
             [
              0.6666666666666666,
              "#ed7953"
             ],
             [
              0.7777777777777778,
              "#fb9f3a"
             ],
             [
              0.8888888888888888,
              "#fdca26"
             ],
             [
              1,
              "#f0f921"
             ]
            ],
            "type": "heatmap"
           }
          ],
          "heatmapgl": [
           {
            "colorbar": {
             "outlinewidth": 0,
             "ticks": ""
            },
            "colorscale": [
             [
              0,
              "#0d0887"
             ],
             [
              0.1111111111111111,
              "#46039f"
             ],
             [
              0.2222222222222222,
              "#7201a8"
             ],
             [
              0.3333333333333333,
              "#9c179e"
             ],
             [
              0.4444444444444444,
              "#bd3786"
             ],
             [
              0.5555555555555556,
              "#d8576b"
             ],
             [
              0.6666666666666666,
              "#ed7953"
             ],
             [
              0.7777777777777778,
              "#fb9f3a"
             ],
             [
              0.8888888888888888,
              "#fdca26"
             ],
             [
              1,
              "#f0f921"
             ]
            ],
            "type": "heatmapgl"
           }
          ],
          "histogram": [
           {
            "marker": {
             "pattern": {
              "fillmode": "overlay",
              "size": 10,
              "solidity": 0.2
             }
            },
            "type": "histogram"
           }
          ],
          "histogram2d": [
           {
            "colorbar": {
             "outlinewidth": 0,
             "ticks": ""
            },
            "colorscale": [
             [
              0,
              "#0d0887"
             ],
             [
              0.1111111111111111,
              "#46039f"
             ],
             [
              0.2222222222222222,
              "#7201a8"
             ],
             [
              0.3333333333333333,
              "#9c179e"
             ],
             [
              0.4444444444444444,
              "#bd3786"
             ],
             [
              0.5555555555555556,
              "#d8576b"
             ],
             [
              0.6666666666666666,
              "#ed7953"
             ],
             [
              0.7777777777777778,
              "#fb9f3a"
             ],
             [
              0.8888888888888888,
              "#fdca26"
             ],
             [
              1,
              "#f0f921"
             ]
            ],
            "type": "histogram2d"
           }
          ],
          "histogram2dcontour": [
           {
            "colorbar": {
             "outlinewidth": 0,
             "ticks": ""
            },
            "colorscale": [
             [
              0,
              "#0d0887"
             ],
             [
              0.1111111111111111,
              "#46039f"
             ],
             [
              0.2222222222222222,
              "#7201a8"
             ],
             [
              0.3333333333333333,
              "#9c179e"
             ],
             [
              0.4444444444444444,
              "#bd3786"
             ],
             [
              0.5555555555555556,
              "#d8576b"
             ],
             [
              0.6666666666666666,
              "#ed7953"
             ],
             [
              0.7777777777777778,
              "#fb9f3a"
             ],
             [
              0.8888888888888888,
              "#fdca26"
             ],
             [
              1,
              "#f0f921"
             ]
            ],
            "type": "histogram2dcontour"
           }
          ],
          "mesh3d": [
           {
            "colorbar": {
             "outlinewidth": 0,
             "ticks": ""
            },
            "type": "mesh3d"
           }
          ],
          "parcoords": [
           {
            "line": {
             "colorbar": {
              "outlinewidth": 0,
              "ticks": ""
             }
            },
            "type": "parcoords"
           }
          ],
          "pie": [
           {
            "automargin": true,
            "type": "pie"
           }
          ],
          "scatter": [
           {
            "fillpattern": {
             "fillmode": "overlay",
             "size": 10,
             "solidity": 0.2
            },
            "type": "scatter"
           }
          ],
          "scatter3d": [
           {
            "line": {
             "colorbar": {
              "outlinewidth": 0,
              "ticks": ""
             }
            },
            "marker": {
             "colorbar": {
              "outlinewidth": 0,
              "ticks": ""
             }
            },
            "type": "scatter3d"
           }
          ],
          "scattercarpet": [
           {
            "marker": {
             "colorbar": {
              "outlinewidth": 0,
              "ticks": ""
             }
            },
            "type": "scattercarpet"
           }
          ],
          "scattergeo": [
           {
            "marker": {
             "colorbar": {
              "outlinewidth": 0,
              "ticks": ""
             }
            },
            "type": "scattergeo"
           }
          ],
          "scattergl": [
           {
            "marker": {
             "colorbar": {
              "outlinewidth": 0,
              "ticks": ""
             }
            },
            "type": "scattergl"
           }
          ],
          "scattermapbox": [
           {
            "marker": {
             "colorbar": {
              "outlinewidth": 0,
              "ticks": ""
             }
            },
            "type": "scattermapbox"
           }
          ],
          "scatterpolar": [
           {
            "marker": {
             "colorbar": {
              "outlinewidth": 0,
              "ticks": ""
             }
            },
            "type": "scatterpolar"
           }
          ],
          "scatterpolargl": [
           {
            "marker": {
             "colorbar": {
              "outlinewidth": 0,
              "ticks": ""
             }
            },
            "type": "scatterpolargl"
           }
          ],
          "scatterternary": [
           {
            "marker": {
             "colorbar": {
              "outlinewidth": 0,
              "ticks": ""
             }
            },
            "type": "scatterternary"
           }
          ],
          "surface": [
           {
            "colorbar": {
             "outlinewidth": 0,
             "ticks": ""
            },
            "colorscale": [
             [
              0,
              "#0d0887"
             ],
             [
              0.1111111111111111,
              "#46039f"
             ],
             [
              0.2222222222222222,
              "#7201a8"
             ],
             [
              0.3333333333333333,
              "#9c179e"
             ],
             [
              0.4444444444444444,
              "#bd3786"
             ],
             [
              0.5555555555555556,
              "#d8576b"
             ],
             [
              0.6666666666666666,
              "#ed7953"
             ],
             [
              0.7777777777777778,
              "#fb9f3a"
             ],
             [
              0.8888888888888888,
              "#fdca26"
             ],
             [
              1,
              "#f0f921"
             ]
            ],
            "type": "surface"
           }
          ],
          "table": [
           {
            "cells": {
             "fill": {
              "color": "#EBF0F8"
             },
             "line": {
              "color": "white"
             }
            },
            "header": {
             "fill": {
              "color": "#C8D4E3"
             },
             "line": {
              "color": "white"
             }
            },
            "type": "table"
           }
          ]
         },
         "layout": {
          "annotationdefaults": {
           "arrowcolor": "#2a3f5f",
           "arrowhead": 0,
           "arrowwidth": 1
          },
          "autotypenumbers": "strict",
          "coloraxis": {
           "colorbar": {
            "outlinewidth": 0,
            "ticks": ""
           }
          },
          "colorscale": {
           "diverging": [
            [
             0,
             "#8e0152"
            ],
            [
             0.1,
             "#c51b7d"
            ],
            [
             0.2,
             "#de77ae"
            ],
            [
             0.3,
             "#f1b6da"
            ],
            [
             0.4,
             "#fde0ef"
            ],
            [
             0.5,
             "#f7f7f7"
            ],
            [
             0.6,
             "#e6f5d0"
            ],
            [
             0.7,
             "#b8e186"
            ],
            [
             0.8,
             "#7fbc41"
            ],
            [
             0.9,
             "#4d9221"
            ],
            [
             1,
             "#276419"
            ]
           ],
           "sequential": [
            [
             0,
             "#0d0887"
            ],
            [
             0.1111111111111111,
             "#46039f"
            ],
            [
             0.2222222222222222,
             "#7201a8"
            ],
            [
             0.3333333333333333,
             "#9c179e"
            ],
            [
             0.4444444444444444,
             "#bd3786"
            ],
            [
             0.5555555555555556,
             "#d8576b"
            ],
            [
             0.6666666666666666,
             "#ed7953"
            ],
            [
             0.7777777777777778,
             "#fb9f3a"
            ],
            [
             0.8888888888888888,
             "#fdca26"
            ],
            [
             1,
             "#f0f921"
            ]
           ],
           "sequentialminus": [
            [
             0,
             "#0d0887"
            ],
            [
             0.1111111111111111,
             "#46039f"
            ],
            [
             0.2222222222222222,
             "#7201a8"
            ],
            [
             0.3333333333333333,
             "#9c179e"
            ],
            [
             0.4444444444444444,
             "#bd3786"
            ],
            [
             0.5555555555555556,
             "#d8576b"
            ],
            [
             0.6666666666666666,
             "#ed7953"
            ],
            [
             0.7777777777777778,
             "#fb9f3a"
            ],
            [
             0.8888888888888888,
             "#fdca26"
            ],
            [
             1,
             "#f0f921"
            ]
           ]
          },
          "colorway": [
           "#636efa",
           "#EF553B",
           "#00cc96",
           "#ab63fa",
           "#FFA15A",
           "#19d3f3",
           "#FF6692",
           "#B6E880",
           "#FF97FF",
           "#FECB52"
          ],
          "font": {
           "color": "#2a3f5f"
          },
          "geo": {
           "bgcolor": "white",
           "lakecolor": "white",
           "landcolor": "#E5ECF6",
           "showlakes": true,
           "showland": true,
           "subunitcolor": "white"
          },
          "hoverlabel": {
           "align": "left"
          },
          "hovermode": "closest",
          "mapbox": {
           "style": "light"
          },
          "paper_bgcolor": "white",
          "plot_bgcolor": "#E5ECF6",
          "polar": {
           "angularaxis": {
            "gridcolor": "white",
            "linecolor": "white",
            "ticks": ""
           },
           "bgcolor": "#E5ECF6",
           "radialaxis": {
            "gridcolor": "white",
            "linecolor": "white",
            "ticks": ""
           }
          },
          "scene": {
           "xaxis": {
            "backgroundcolor": "#E5ECF6",
            "gridcolor": "white",
            "gridwidth": 2,
            "linecolor": "white",
            "showbackground": true,
            "ticks": "",
            "zerolinecolor": "white"
           },
           "yaxis": {
            "backgroundcolor": "#E5ECF6",
            "gridcolor": "white",
            "gridwidth": 2,
            "linecolor": "white",
            "showbackground": true,
            "ticks": "",
            "zerolinecolor": "white"
           },
           "zaxis": {
            "backgroundcolor": "#E5ECF6",
            "gridcolor": "white",
            "gridwidth": 2,
            "linecolor": "white",
            "showbackground": true,
            "ticks": "",
            "zerolinecolor": "white"
           }
          },
          "shapedefaults": {
           "line": {
            "color": "#2a3f5f"
           }
          },
          "ternary": {
           "aaxis": {
            "gridcolor": "white",
            "linecolor": "white",
            "ticks": ""
           },
           "baxis": {
            "gridcolor": "white",
            "linecolor": "white",
            "ticks": ""
           },
           "bgcolor": "#E5ECF6",
           "caxis": {
            "gridcolor": "white",
            "linecolor": "white",
            "ticks": ""
           }
          },
          "title": {
           "x": 0.05
          },
          "xaxis": {
           "automargin": true,
           "gridcolor": "white",
           "linecolor": "white",
           "ticks": "",
           "title": {
            "standoff": 15
           },
           "zerolinecolor": "white",
           "zerolinewidth": 2
          },
          "yaxis": {
           "automargin": true,
           "gridcolor": "white",
           "linecolor": "white",
           "ticks": "",
           "title": {
            "standoff": 15
           },
           "zerolinecolor": "white",
           "zerolinewidth": 2
          }
         }
        },
        "title": {
         "text": "Correlation Coefficients"
        },
        "width": 700,
        "xaxis": {
         "anchor": "y",
         "constrain": "domain",
         "domain": [
          0,
          1
         ],
         "scaleanchor": "y"
        },
        "yaxis": {
         "anchor": "x",
         "autorange": "reversed",
         "constrain": "domain",
         "domain": [
          0,
          1
         ]
        }
       }
      }
     },
     "metadata": {},
     "output_type": "display_data"
    }
   ],
   "source": [
    "# sns.heatmap(corr, annot=False)\n",
    "fig = px.imshow(corr, title=\"Correlation Coefficients\", height=700, width=700)\n",
    "fig.show()"
   ]
  },
  {
   "cell_type": "markdown",
   "metadata": {},
   "source": [
    "### Observations\n",
    "\n",
    "Notice lots of lines of constant color and even constant blocks of color\n",
    "- So cc same vs several contiguous variables\n",
    "- i.e. there is lots of redundancy in the data"
   ]
  },
  {
   "cell_type": "markdown",
   "metadata": {},
   "source": [
    "## Perform the PCA"
   ]
  },
  {
   "cell_type": "markdown",
   "metadata": {},
   "source": [
    "### Scale"
   ]
  },
  {
   "cell_type": "code",
   "execution_count": 290,
   "metadata": {},
   "outputs": [],
   "source": [
    "scaling = StandardScaler()\n",
    "scaling.fit(df)\n",
    "df_scaled = scaling.transform(df)"
   ]
  },
  {
   "cell_type": "markdown",
   "metadata": {},
   "source": [
    "### Fit"
   ]
  },
  {
   "cell_type": "code",
   "execution_count": 291,
   "metadata": {},
   "outputs": [],
   "source": [
    "pca = PCA(n_components=df_scaled.shape[1]).fit(df_scaled)"
   ]
  },
  {
   "cell_type": "markdown",
   "metadata": {},
   "source": [
    "## PCA Analysis"
   ]
  },
  {
   "cell_type": "markdown",
   "metadata": {},
   "source": [
    "### Normalized Singular Values"
   ]
  },
  {
   "cell_type": "code",
   "execution_count": 292,
   "metadata": {},
   "outputs": [],
   "source": [
    "normalized_sigma = pca.singular_values_ / np.sum(pca.singular_values_) * 100.0\n",
    "cum_normalized_sigma = np.cumsum(normalized_sigma)"
   ]
  },
  {
   "cell_type": "markdown",
   "metadata": {},
   "source": [
    "#### Num Components Needed"
   ]
  },
  {
   "cell_type": "code",
   "execution_count": 293,
   "metadata": {},
   "outputs": [],
   "source": [
    "min_var_explained_pct = 80.0\n",
    "sv_ncomp_to = np.argmax(cum_normalized_sigma >= min_var_explained_pct) + 1"
   ]
  },
  {
   "cell_type": "markdown",
   "metadata": {},
   "source": [
    "#### Plot"
   ]
  },
  {
   "cell_type": "code",
   "execution_count": 294,
   "metadata": {},
   "outputs": [],
   "source": [
    "def labelfcn(vec: list = [], idx_plus1: int = 0):\n",
    "    return (\n",
    "        str(idx_plus1)\n",
    "        + \" Components Explain \"\n",
    "        + str(np.round(vec[idx_plus1 - 1], 2))\n",
    "        + \"% of the Variance\"\n",
    "    )\n",
    "\n",
    "\n",
    "# labelfcn(cum_normalized_sigma, sv_ncomp_to)"
   ]
  },
  {
   "cell_type": "code",
   "execution_count": 295,
   "metadata": {},
   "outputs": [
    {
     "data": {
      "text/plain": [
       "<matplotlib.legend.Legend at 0x7ed2fda0ec40>"
      ]
     },
     "execution_count": 295,
     "metadata": {},
     "output_type": "execute_result"
    },
    {
     "data": {
      "image/png": "[encoded data removed]",
      "text/plain": [
       "<Figure size 640x480 with 2 Axes>"
      ]
     },
     "metadata": {},
     "output_type": "display_data"
    }
   ],
   "source": [
    "fig, ax1 = plt.subplots()\n",
    "\n",
    "ax1_color = \"black\"\n",
    "ax1.plot(\n",
    "    np.arange(len(normalized_sigma)) + 1,\n",
    "    normalized_sigma,\n",
    "    linestyle=\"solid\",\n",
    "    marker=\"o\",\n",
    "    color=ax1_color,\n",
    ")\n",
    "\n",
    "ax1.grid(True)\n",
    "# ax1.set_title(\"Normalized Singular Values\")\n",
    "ax1.set_xlabel(\"Projection\")\n",
    "ax1.set_ylabel(\"Normalized Singular Value\", color=ax1_color)\n",
    "\n",
    "ax2_color = \"blue\"\n",
    "ax2 = ax1.twinx()\n",
    "ax2.plot(\n",
    "    np.arange(len(cum_normalized_sigma)) + 1,\n",
    "    cum_normalized_sigma,\n",
    "    linestyle=\"solid\",\n",
    "    marker=\"o\",\n",
    "    color=ax2_color,\n",
    ")\n",
    "\n",
    "ax2.set_ylabel(\"Cumulative Normalized Singular Value\", color=ax2_color)\n",
    "ax2.tick_params(axis=\"y\", labelcolor=ax2_color)\n",
    "\n",
    "ax2.axhline(cum_normalized_sigma[sv_ncomp_to - 1], color=\"cyan\")\n",
    "ax2.axvline(\n",
    "    sv_ncomp_to, label=labelfcn(cum_normalized_sigma, sv_ncomp_to), color=\"cyan\"\n",
    ")\n",
    "plt.legend()"
   ]
  },
  {
   "cell_type": "markdown",
   "metadata": {},
   "source": [
    "### Explained Variance"
   ]
  },
  {
   "cell_type": "markdown",
   "metadata": {},
   "source": [
    "#### Num Components Needed"
   ]
  },
  {
   "cell_type": "code",
   "execution_count": 296,
   "metadata": {},
   "outputs": [
    {
     "data": {
      "text/plain": [
       "[10, 80.73719020810076]"
      ]
     },
     "metadata": {},
     "output_type": "display_data"
    }
   ],
   "source": [
    "cum_var_explained = pca.explained_variance_ratio_.cumsum() * 100.0\n",
    "ncomp_to = np.argmax(cum_var_explained >= min_var_explained_pct) + 1\n",
    "display(\n",
    "    [\n",
    "        ncomp_to,\n",
    "        cum_var_explained[ncomp_to - 1],\n",
    "    ]\n",
    ")"
   ]
  },
  {
   "cell_type": "markdown",
   "metadata": {},
   "source": [
    "##### Verify Against Built-In"
   ]
  },
  {
   "cell_type": "code",
   "execution_count": 297,
   "metadata": {},
   "outputs": [],
   "source": [
    "pca_80_pct = PCA(n_components=min_var_explained_pct / 100.0)\n",
    "pca_80_pct.fit_transform(df_scaled)\n",
    "ncomp_to_check = pca_80_pct.n_components_\n",
    "assert ncomp_to == ncomp_to_check, \"Disagreement on Number of Components to for 80%\""
   ]
  },
  {
   "cell_type": "markdown",
   "metadata": {},
   "source": [
    "#### Plot"
   ]
  },
  {
   "cell_type": "code",
   "execution_count": 298,
   "metadata": {},
   "outputs": [
    {
     "data": {
      "text/plain": [
       "<matplotlib.legend.Legend at 0x7ed2fc8d82e0>"
      ]
     },
     "execution_count": 298,
     "metadata": {},
     "output_type": "execute_result"
    },
    {
     "data": {
      "image/png": "[encoded data removed]",
      "text/plain": [
       "<Figure size 640x480 with 1 Axes>"
      ]
     },
     "metadata": {},
     "output_type": "display_data"
    }
   ],
   "source": [
    "plt.plot(\n",
    "    np.arange(len(cum_var_explained)) + 1,\n",
    "    cum_var_explained,\n",
    "    linestyle=\"solid\",\n",
    "    marker=\"o\",\n",
    "    color=\"black\",\n",
    ")\n",
    "\n",
    "plt.grid(True)\n",
    "\n",
    "ncomp_3 = 3\n",
    "\n",
    "plt.axhline(\n",
    "    cum_var_explained[ncomp_3 - 1],\n",
    "    label=labelfcn(cum_var_explained, ncomp_3),\n",
    "    color=\"red\",\n",
    ")\n",
    "plt.axvline(ncomp_3, label=\"\", color=\"red\")\n",
    "\n",
    "plt.axhline(cum_var_explained[ncomp_to - 1], label=\"\", color=\"cyan\")\n",
    "plt.axvline(ncomp_to, label=labelfcn(cum_var_explained, ncomp_to), color=\"cyan\")\n",
    "\n",
    "plt.xlabel(\"Number of Components\")\n",
    "plt.ylabel(\"Cumulative Variance Explained\")\n",
    "plt.title(\"Cumulative Variance Explained vs. Num Components\")\n",
    "plt.legend()"
   ]
  },
  {
   "cell_type": "markdown",
   "metadata": {},
   "source": [
    "## PCA Fit as DataFrame"
   ]
  },
  {
   "cell_type": "code",
   "execution_count": 299,
   "metadata": {},
   "outputs": [
    {
     "data": {
      "text/html": [
       "<div>\n",
       "<style scoped>\n",
       "    .dataframe tbody tr th:only-of-type {\n",
       "        vertical-align: middle;\n",
       "    }\n",
       "\n",
       "    .dataframe tbody tr th {\n",
       "        vertical-align: top;\n",
       "    }\n",
       "\n",
       "    .dataframe thead th {\n",
       "        text-align: right;\n",
       "    }\n",
       "</style>\n",
       "<table border=\"1\" class=\"dataframe\">\n",
       "  <thead>\n",
       "    <tr style=\"text-align: right;\">\n",
       "      <th></th>\n",
       "      <th>pca0</th>\n",
       "      <th>pca1</th>\n",
       "      <th>pca2</th>\n",
       "      <th>pca3</th>\n",
       "      <th>pca4</th>\n",
       "      <th>pca5</th>\n",
       "      <th>pca6</th>\n",
       "      <th>pca7</th>\n",
       "      <th>pca8</th>\n",
       "      <th>pca9</th>\n",
       "    </tr>\n",
       "  </thead>\n",
       "  <tbody>\n",
       "    <tr>\n",
       "      <th>0</th>\n",
       "      <td>-1.800973</td>\n",
       "      <td>-1.270393</td>\n",
       "      <td>-0.590286</td>\n",
       "      <td>-0.400280</td>\n",
       "      <td>-0.111692</td>\n",
       "      <td>-1.623466</td>\n",
       "      <td>2.692829</td>\n",
       "      <td>0.093173</td>\n",
       "      <td>-0.524138</td>\n",
       "      <td>-0.214027</td>\n",
       "    </tr>\n",
       "    <tr>\n",
       "      <th>1</th>\n",
       "      <td>-0.671428</td>\n",
       "      <td>-2.406269</td>\n",
       "      <td>1.040739</td>\n",
       "      <td>-0.357750</td>\n",
       "      <td>0.299735</td>\n",
       "      <td>-0.975038</td>\n",
       "      <td>0.784863</td>\n",
       "      <td>0.280618</td>\n",
       "      <td>-0.095559</td>\n",
       "      <td>-0.160048</td>\n",
       "    </tr>\n",
       "    <tr>\n",
       "      <th>2</th>\n",
       "      <td>-0.858546</td>\n",
       "      <td>-0.969766</td>\n",
       "      <td>0.470753</td>\n",
       "      <td>-0.477488</td>\n",
       "      <td>0.953600</td>\n",
       "      <td>0.069042</td>\n",
       "      <td>-0.276237</td>\n",
       "      <td>-0.238147</td>\n",
       "      <td>0.001802</td>\n",
       "      <td>-0.152952</td>\n",
       "    </tr>\n",
       "    <tr>\n",
       "      <th>3</th>\n",
       "      <td>-0.210006</td>\n",
       "      <td>-0.706131</td>\n",
       "      <td>-0.782280</td>\n",
       "      <td>0.208426</td>\n",
       "      <td>1.068147</td>\n",
       "      <td>-0.199161</td>\n",
       "      <td>-0.503671</td>\n",
       "      <td>0.108684</td>\n",
       "      <td>0.034604</td>\n",
       "      <td>0.118079</td>\n",
       "    </tr>\n",
       "    <tr>\n",
       "      <th>4</th>\n",
       "      <td>-0.860082</td>\n",
       "      <td>0.002982</td>\n",
       "      <td>-1.041115</td>\n",
       "      <td>2.245476</td>\n",
       "      <td>-0.464815</td>\n",
       "      <td>1.410883</td>\n",
       "      <td>-0.627011</td>\n",
       "      <td>0.552881</td>\n",
       "      <td>0.253847</td>\n",
       "      <td>0.608486</td>\n",
       "    </tr>\n",
       "  </tbody>\n",
       "</table>\n",
       "</div>"
      ],
      "text/plain": [
       "       pca0      pca1      pca2      pca3      pca4      pca5      pca6  \\\n",
       "0 -1.800973 -1.270393 -0.590286 -0.400280 -0.111692 -1.623466  2.692829   \n",
       "1 -0.671428 -2.406269  1.040739 -0.357750  0.299735 -0.975038  0.784863   \n",
       "2 -0.858546 -0.969766  0.470753 -0.477488  0.953600  0.069042 -0.276237   \n",
       "3 -0.210006 -0.706131 -0.782280  0.208426  1.068147 -0.199161 -0.503671   \n",
       "4 -0.860082  0.002982 -1.041115  2.245476 -0.464815  1.410883 -0.627011   \n",
       "\n",
       "       pca7      pca8      pca9  \n",
       "0  0.093173 -0.524138 -0.214027  \n",
       "1  0.280618 -0.095559 -0.160048  \n",
       "2 -0.238147  0.001802 -0.152952  \n",
       "3  0.108684  0.034604  0.118079  \n",
       "4  0.552881  0.253847  0.608486  "
      ]
     },
     "execution_count": 299,
     "metadata": {},
     "output_type": "execute_result"
    }
   ],
   "source": [
    "df_pca = pd.DataFrame(\n",
    "    pca_80_pct.fit_transform(df_scaled),\n",
    "    columns=pca_80_pct.get_feature_names_out(),\n",
    ")\n",
    "df_pca.head()"
   ]
  }
 ],
 "metadata": {
  "kernelspec": {
   "display_name": "Python 3",
   "language": "python",
   "name": "python3"
  },
  "language_info": {
   "codemirror_mode": {
    "name": "ipython",
    "version": 3
   },
   "file_extension": ".py",
   "mimetype": "text/x-python",
   "name": "python",
   "nbconvert_exporter": "python",
   "pygments_lexer": "ipython3",
   "version": "3.9.2"
  },
  "widgets": {
   "application/vnd.jupyter.widget-state+json": {
    "state": {},
    "version_major": 2,
    "version_minor": 0
   }
  }
 },
 "nbformat": 4,
 "nbformat_minor": 4
}
